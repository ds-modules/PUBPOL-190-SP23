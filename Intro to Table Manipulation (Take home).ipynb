{
 "cells": [
  {
   "cell_type": "markdown",
   "id": "0cbe3de9",
   "metadata": {},
   "source": [
    "## [PP190] Introduction to Table Manipulation (Take Home Exercise)\n",
    "### Professor Anibel Ferus-Comelo\n",
    "\n",
    "***\n",
    "\n",
    "### Learning Outcomes\n",
    "\n",
    "*Estimated time: 30 minutes\n",
    "\n",
    "***\n",
    "\n",
    "### Table of Contents\n",
    "* Introducing the Dataset\n",
    "* Exploring the Data\n",
    "* Data Science Opportunities \n",
    "\n",
    "***\n",
    "\n",
    "### Introducing the Dataset\n",
    "\n",
    "#### How to read-in dataset \n",
    "We want to load the dataset into the notebook to use as a table.\n",
    "1. Have the dataset file downloaded as a csv to upload/import into Jupyter Hub\n",
    "2. \"from datascience import *\"\n",
    "    - a Jupyter notebook Python library for introductory data science\n",
    "3. A table is usually read from a CSV file. We can load the data as a Table using Table.read_table(\"file_name\")"
   ]
  },
  {
   "cell_type": "markdown",
   "id": "525af33c",
   "metadata": {},
   "source": [
    "### Useful tool for this notebook\n",
    "\n",
    "http://data8.org/datascience/tables.html"
   ]
  },
  {
   "cell_type": "markdown",
   "id": "8d5c7e97",
   "metadata": {},
   "source": [
    "*Download the May2021Data.csv*"
   ]
  },
  {
   "cell_type": "code",
   "execution_count": 1,
   "id": "4e62a6b3",
   "metadata": {},
   "outputs": [
    {
     "name": "stdout",
     "output_type": "stream",
     "text": [
      "Requirement already satisfied: datascience in /opt/conda/lib/python3.9/site-packages (0.17.5)\n",
      "Requirement already satisfied: plotly in /opt/conda/lib/python3.9/site-packages (from datascience) (5.9.0)\n",
      "Requirement already satisfied: matplotlib>=3.0.0 in /opt/conda/lib/python3.9/site-packages (from datascience) (3.4.3)\n",
      "Requirement already satisfied: ipython in /opt/conda/lib/python3.9/site-packages (from datascience) (8.4.0)\n",
      "Requirement already satisfied: folium>=0.9.1 in /opt/conda/lib/python3.9/site-packages (from datascience) (0.12.1.post1)\n",
      "Requirement already satisfied: pandas in /opt/conda/lib/python3.9/site-packages (from datascience) (1.4.3)\n",
      "Requirement already satisfied: setuptools in /opt/conda/lib/python3.9/site-packages (from datascience) (58.2.0)\n",
      "Requirement already satisfied: numpy in /opt/conda/lib/python3.9/site-packages (from datascience) (1.22.3)\n",
      "Requirement already satisfied: scipy in /opt/conda/lib/python3.9/site-packages (from datascience) (1.9.0)\n",
      "Requirement already satisfied: branca in /opt/conda/lib/python3.9/site-packages (from datascience) (0.5.0)\n",
      "Requirement already satisfied: tenacity>=6.2.0 in /opt/conda/lib/python3.9/site-packages (from plotly->datascience) (8.0.1)\n",
      "Requirement already satisfied: pyparsing>=2.2.1 in /opt/conda/lib/python3.9/site-packages (from matplotlib>=3.0.0->datascience) (3.0.9)\n",
      "Requirement already satisfied: kiwisolver>=1.0.1 in /opt/conda/lib/python3.9/site-packages (from matplotlib>=3.0.0->datascience) (1.4.2)\n",
      "Requirement already satisfied: cycler>=0.10 in /opt/conda/lib/python3.9/site-packages (from matplotlib>=3.0.0->datascience) (0.11.0)\n",
      "Requirement already satisfied: pillow>=6.2.0 in /opt/conda/lib/python3.9/site-packages (from matplotlib>=3.0.0->datascience) (9.1.1)\n",
      "Requirement already satisfied: python-dateutil>=2.7 in /opt/conda/lib/python3.9/site-packages (from matplotlib>=3.0.0->datascience) (2.8.2)\n",
      "Requirement already satisfied: pickleshare in /opt/conda/lib/python3.9/site-packages (from ipython->datascience) (0.7.5)\n",
      "Requirement already satisfied: jedi>=0.16 in /opt/conda/lib/python3.9/site-packages (from ipython->datascience) (0.18.1)\n",
      "Requirement already satisfied: prompt-toolkit!=3.0.0,!=3.0.1,<3.1.0,>=2.0.0 in /opt/conda/lib/python3.9/site-packages (from ipython->datascience) (3.0.30)\n",
      "Requirement already satisfied: pexpect>4.3; sys_platform != \"win32\" in /opt/conda/lib/python3.9/site-packages (from ipython->datascience) (4.8.0)\n",
      "Requirement already satisfied: matplotlib-inline in /opt/conda/lib/python3.9/site-packages (from ipython->datascience) (0.1.3)\n",
      "Requirement already satisfied: backcall in /opt/conda/lib/python3.9/site-packages (from ipython->datascience) (0.2.0)\n",
      "Requirement already satisfied: decorator in /opt/conda/lib/python3.9/site-packages (from ipython->datascience) (5.1.1)\n",
      "Requirement already satisfied: pygments>=2.4.0 in /opt/conda/lib/python3.9/site-packages (from ipython->datascience) (2.12.0)\n",
      "Requirement already satisfied: traitlets>=5 in /opt/conda/lib/python3.9/site-packages (from ipython->datascience) (5.3.0)\n",
      "Requirement already satisfied: stack-data in /opt/conda/lib/python3.9/site-packages (from ipython->datascience) (0.3.0)\n",
      "Requirement already satisfied: requests in /opt/conda/lib/python3.9/site-packages (from folium>=0.9.1->datascience) (2.26.0)\n",
      "Requirement already satisfied: jinja2>=2.9 in /opt/conda/lib/python3.9/site-packages (from folium>=0.9.1->datascience) (3.1.2)\n",
      "Requirement already satisfied: pytz>=2020.1 in /opt/conda/lib/python3.9/site-packages (from pandas->datascience) (2022.1)\n",
      "Requirement already satisfied: six>=1.5 in /opt/conda/lib/python3.9/site-packages (from python-dateutil>=2.7->matplotlib>=3.0.0->datascience) (1.16.0)\n",
      "Requirement already satisfied: parso<0.9.0,>=0.8.0 in /opt/conda/lib/python3.9/site-packages (from jedi>=0.16->ipython->datascience) (0.8.3)\n",
      "Requirement already satisfied: wcwidth in /opt/conda/lib/python3.9/site-packages (from prompt-toolkit!=3.0.0,!=3.0.1,<3.1.0,>=2.0.0->ipython->datascience) (0.2.5)\n",
      "Requirement already satisfied: ptyprocess>=0.5 in /opt/conda/lib/python3.9/site-packages (from pexpect>4.3; sys_platform != \"win32\"->ipython->datascience) (0.7.0)\n",
      "Requirement already satisfied: pure-eval in /opt/conda/lib/python3.9/site-packages (from stack-data->ipython->datascience) (0.2.2)\n",
      "Requirement already satisfied: asttokens in /opt/conda/lib/python3.9/site-packages (from stack-data->ipython->datascience) (2.0.5)\n",
      "Requirement already satisfied: executing in /opt/conda/lib/python3.9/site-packages (from stack-data->ipython->datascience) (0.8.3)\n",
      "Requirement already satisfied: charset-normalizer~=2.0.0; python_version >= \"3\" in /opt/conda/lib/python3.9/site-packages (from requests->folium>=0.9.1->datascience) (2.0.0)\n",
      "Requirement already satisfied: idna<4,>=2.5; python_version >= \"3\" in /opt/conda/lib/python3.9/site-packages (from requests->folium>=0.9.1->datascience) (3.1)\n",
      "Requirement already satisfied: urllib3<1.27,>=1.21.1 in /opt/conda/lib/python3.9/site-packages (from requests->folium>=0.9.1->datascience) (1.26.7)\n",
      "Requirement already satisfied: certifi>=2017.4.17 in /opt/conda/lib/python3.9/site-packages (from requests->folium>=0.9.1->datascience) (2021.10.8)\n",
      "Requirement already satisfied: MarkupSafe>=2.0 in /opt/conda/lib/python3.9/site-packages (from jinja2>=2.9->folium>=0.9.1->datascience) (2.1.1)\n",
      "Note: you may need to restart the kernel to use updated packages.\n"
     ]
    }
   ],
   "source": [
    "# importing the required modules\n",
    "\n",
    "%pip install datascience\n",
    "from datascience import *\n",
    "import numpy as np\n",
    "import matplotlib.pyplot as plt\n",
    "%matplotlib inline"
   ]
  },
  {
   "cell_type": "code",
   "execution_count": 2,
   "id": "28fff34b",
   "metadata": {},
   "outputs": [],
   "source": [
    "# to find the file path\n",
    "\n",
    "#import os\n",
    "#cwd = os.getcwd()  # Get the current working directory (cwd)\n",
    "#files = os.listdir(cwd)  # Get all the files in that directory\n",
    "#print(\"Files in %r: %s\" % (cwd, files))"
   ]
  },
  {
   "cell_type": "code",
   "execution_count": 3,
   "id": "74adb7cb",
   "metadata": {},
   "outputs": [
    {
     "data": {
      "text/html": [
       "<table border=\"1\" class=\"dataframe\">\n",
       "    <thead>\n",
       "        <tr>\n",
       "            <th>AREA</th> <th>AREA_TITLE</th> <th>AREA_TYPE</th> <th>PRIM_STATE</th> <th>NAICS</th> <th>NAICS_TITLE</th> <th>I_GROUP</th> <th>OWN_CODE</th> <th>OCC_CODE</th> <th>OCC_TITLE</th> <th>O_GROUP</th> <th>TOT_EMP</th> <th>EMP_PRSE</th> <th>JOBS_1000</th> <th>LOC_QUOTIENT</th> <th>PCT_TOTAL</th> <th>PCT_RPT</th> <th>H_MEAN</th> <th>A_MEAN</th> <th>MEAN_PRSE</th> <th>H_PCT10</th> <th>H_PCT25</th> <th>H_MEDIAN</th> <th>H_PCT75</th> <th>H_PCT90</th> <th>A_PCT10</th> <th>A_PCT25</th> <th>A_MEDIAN</th> <th>A_PCT75</th> <th>A_PCT90</th> <th>ANNUAL</th> <th>HOURLY</th>\n",
       "        </tr>\n",
       "    </thead>\n",
       "    <tbody>\n",
       "        <tr>\n",
       "            <td>1   </td> <td>Alabama   </td> <td>2        </td> <td>AL        </td> <td>0    </td> <td>Cross-industry</td> <td>cross-industry</td> <td>1235    </td> <td>00-0000 </td> <td>All Occupations                    </td> <td>total   </td> <td>1,928,110</td> <td>0.0     </td> <td>1000.000 </td> <td>1.00        </td> <td>nan      </td> <td>nan    </td> <td>23.13 </td> <td>48,110 </td> <td>0.2      </td> <td>8.96   </td> <td>11.89  </td> <td>17.91   </td> <td>28.68  </td> <td>39.79  </td> <td>18,630 </td> <td>24,720 </td> <td>37,250  </td> <td>59,660 </td> <td>82,760 </td> <td>nan   </td> <td>nan   </td>\n",
       "        </tr>\n",
       "        <tr>\n",
       "            <td>1   </td> <td>Alabama   </td> <td>2        </td> <td>AL        </td> <td>0    </td> <td>Cross-industry</td> <td>cross-industry</td> <td>1235    </td> <td>11-0000 </td> <td>Management Occupations             </td> <td>major   </td> <td>96,070   </td> <td>1.3     </td> <td>49.827   </td> <td>0.79        </td> <td>nan      </td> <td>nan    </td> <td>51.06 </td> <td>106,210</td> <td>0.6      </td> <td>22.55  </td> <td>30.19  </td> <td>45.51   </td> <td>61.25  </td> <td>87.58  </td> <td>46,900 </td> <td>62,790 </td> <td>94,650  </td> <td>127,400</td> <td>182,160</td> <td>nan   </td> <td>nan   </td>\n",
       "        </tr>\n",
       "        <tr>\n",
       "            <td>1   </td> <td>Alabama   </td> <td>2        </td> <td>AL        </td> <td>0    </td> <td>Cross-industry</td> <td>cross-industry</td> <td>1235    </td> <td>11-1011 </td> <td>Chief Executives                   </td> <td>detailed</td> <td>690      </td> <td>11.4    </td> <td>0.359    </td> <td>0.25        </td> <td>nan      </td> <td>nan    </td> <td>72.24 </td> <td>150,260</td> <td>4.8      </td> <td>28.46  </td> <td>45.36  </td> <td>61.14   </td> <td>82.09  </td> <td>#      </td> <td>59,190 </td> <td>94,360 </td> <td>127,170 </td> <td>170,750</td> <td>#      </td> <td>nan   </td> <td>nan   </td>\n",
       "        </tr>\n",
       "        <tr>\n",
       "            <td>1   </td> <td>Alabama   </td> <td>2        </td> <td>AL        </td> <td>0    </td> <td>Cross-industry</td> <td>cross-industry</td> <td>1235    </td> <td>11-1021 </td> <td>General and Operations Managers    </td> <td>detailed</td> <td>34,370   </td> <td>2.7     </td> <td>17.824   </td> <td>0.84        </td> <td>nan      </td> <td>nan    </td> <td>54.50 </td> <td>113,350</td> <td>0.9      </td> <td>22.22  </td> <td>29.93  </td> <td>46.28   </td> <td>68.75  </td> <td>#      </td> <td>46,220 </td> <td>62,260 </td> <td>96,270  </td> <td>143,000</td> <td>#      </td> <td>nan   </td> <td>nan   </td>\n",
       "        </tr>\n",
       "        <tr>\n",
       "            <td>1   </td> <td>Alabama   </td> <td>2        </td> <td>AL        </td> <td>0    </td> <td>Cross-industry</td> <td>cross-industry</td> <td>1235    </td> <td>11-1031 </td> <td>Legislators                        </td> <td>detailed</td> <td>1,030    </td> <td>10.0    </td> <td>0.535    </td> <td>1.69        </td> <td>nan      </td> <td>nan    </td> <td>*     </td> <td>28,520 </td> <td>4.5      </td> <td>*      </td> <td>*      </td> <td>*       </td> <td>*      </td> <td>*      </td> <td>16,930 </td> <td>17,310 </td> <td>17,840  </td> <td>31,300 </td> <td>56,420 </td> <td>1     </td> <td>nan   </td>\n",
       "        </tr>\n",
       "        <tr>\n",
       "            <td>1   </td> <td>Alabama   </td> <td>2        </td> <td>AL        </td> <td>0    </td> <td>Cross-industry</td> <td>cross-industry</td> <td>1235    </td> <td>11-2011 </td> <td>Advertising and Promotions Managers</td> <td>detailed</td> <td>30       </td> <td>21.2    </td> <td>0.016    </td> <td>0.10        </td> <td>nan      </td> <td>nan    </td> <td>53.01 </td> <td>110,250</td> <td>6.8      </td> <td>23.57  </td> <td>36.22  </td> <td>47.59   </td> <td>72.17  </td> <td>77.94  </td> <td>49,020 </td> <td>75,330 </td> <td>98,980  </td> <td>150,100</td> <td>162,110</td> <td>nan   </td> <td>nan   </td>\n",
       "        </tr>\n",
       "        <tr>\n",
       "            <td>1   </td> <td>Alabama   </td> <td>2        </td> <td>AL        </td> <td>0    </td> <td>Cross-industry</td> <td>cross-industry</td> <td>1235    </td> <td>11-2021 </td> <td>Marketing Managers                 </td> <td>detailed</td> <td>1,210    </td> <td>5.4     </td> <td>0.625    </td> <td>0.32        </td> <td>nan      </td> <td>nan    </td> <td>58.83 </td> <td>122,370</td> <td>2.2      </td> <td>29.21  </td> <td>37.39  </td> <td>49.60   </td> <td>75.43  </td> <td>99.92  </td> <td>60,750 </td> <td>77,770 </td> <td>103,170 </td> <td>156,880</td> <td>207,820</td> <td>nan   </td> <td>nan   </td>\n",
       "        </tr>\n",
       "        <tr>\n",
       "            <td>1   </td> <td>Alabama   </td> <td>2        </td> <td>AL        </td> <td>0    </td> <td>Cross-industry</td> <td>cross-industry</td> <td>1235    </td> <td>11-2022 </td> <td>Sales Managers                     </td> <td>detailed</td> <td>3,550    </td> <td>5.0     </td> <td>1.839    </td> <td>0.57        </td> <td>nan      </td> <td>nan    </td> <td>58.87 </td> <td>122,440</td> <td>3.9      </td> <td>28.57  </td> <td>37.25  </td> <td>49.31   </td> <td>73.69  </td> <td>#      </td> <td>59,420 </td> <td>77,490 </td> <td>102,570 </td> <td>153,270</td> <td>#      </td> <td>nan   </td> <td>nan   </td>\n",
       "        </tr>\n",
       "        <tr>\n",
       "            <td>1   </td> <td>Alabama   </td> <td>2        </td> <td>AL        </td> <td>0    </td> <td>Cross-industry</td> <td>cross-industry</td> <td>1235    </td> <td>11-2032 </td> <td>Public Relations Managers          </td> <td>detailed</td> <td>370      </td> <td>5.9     </td> <td>0.194    </td> <td>0.46        </td> <td>nan      </td> <td>nan    </td> <td>48.69 </td> <td>101,270</td> <td>2.6      </td> <td>22.67  </td> <td>29.04  </td> <td>45.39   </td> <td>61.17  </td> <td>80.65  </td> <td>47,160 </td> <td>60,400 </td> <td>94,410  </td> <td>127,240</td> <td>167,750</td> <td>nan   </td> <td>nan   </td>\n",
       "        </tr>\n",
       "        <tr>\n",
       "            <td>1   </td> <td>Alabama   </td> <td>2        </td> <td>AL        </td> <td>0    </td> <td>Cross-industry</td> <td>cross-industry</td> <td>1235    </td> <td>11-2033 </td> <td>Fundraising Managers               </td> <td>detailed</td> <td>160      </td> <td>10.6    </td> <td>0.081    </td> <td>0.49        </td> <td>nan      </td> <td>nan    </td> <td>37.68 </td> <td>78,370 </td> <td>3.9      </td> <td>18.36  </td> <td>27.92  </td> <td>35.90   </td> <td>47.27  </td> <td>53.59  </td> <td>38,200 </td> <td>58,080 </td> <td>74,680  </td> <td>98,330 </td> <td>111,460</td> <td>nan   </td> <td>nan   </td>\n",
       "        </tr>\n",
       "    </tbody>\n",
       "</table>\n",
       "<p>... (37570 rows omitted)</p>"
      ],
      "text/plain": [
       "AREA | AREA_TITLE | AREA_TYPE | PRIM_STATE | NAICS | NAICS_TITLE    | I_GROUP        | OWN_CODE | OCC_CODE | OCC_TITLE                           | O_GROUP  | TOT_EMP   | EMP_PRSE | JOBS_1000 | LOC_QUOTIENT | PCT_TOTAL | PCT_RPT | H_MEAN | A_MEAN  | MEAN_PRSE | H_PCT10 | H_PCT25 | H_MEDIAN | H_PCT75 | H_PCT90 | A_PCT10 | A_PCT25 | A_MEDIAN | A_PCT75 | A_PCT90 | ANNUAL | HOURLY\n",
       "1    | Alabama    | 2         | AL         | 0     | Cross-industry | cross-industry | 1235     | 00-0000  | All Occupations                     | total    | 1,928,110 | 0.0      | 1000.000  | 1.00         | nan       | nan     | 23.13  | 48,110  | 0.2       | 8.96    | 11.89   | 17.91    | 28.68   | 39.79   | 18,630  | 24,720  | 37,250   | 59,660  | 82,760  | nan    | nan\n",
       "1    | Alabama    | 2         | AL         | 0     | Cross-industry | cross-industry | 1235     | 11-0000  | Management Occupations              | major    | 96,070    | 1.3      | 49.827    | 0.79         | nan       | nan     | 51.06  | 106,210 | 0.6       | 22.55   | 30.19   | 45.51    | 61.25   | 87.58   | 46,900  | 62,790  | 94,650   | 127,400 | 182,160 | nan    | nan\n",
       "1    | Alabama    | 2         | AL         | 0     | Cross-industry | cross-industry | 1235     | 11-1011  | Chief Executives                    | detailed | 690       | 11.4     | 0.359     | 0.25         | nan       | nan     | 72.24  | 150,260 | 4.8       | 28.46   | 45.36   | 61.14    | 82.09   | #       | 59,190  | 94,360  | 127,170  | 170,750 | #       | nan    | nan\n",
       "1    | Alabama    | 2         | AL         | 0     | Cross-industry | cross-industry | 1235     | 11-1021  | General and Operations Managers     | detailed | 34,370    | 2.7      | 17.824    | 0.84         | nan       | nan     | 54.50  | 113,350 | 0.9       | 22.22   | 29.93   | 46.28    | 68.75   | #       | 46,220  | 62,260  | 96,270   | 143,000 | #       | nan    | nan\n",
       "1    | Alabama    | 2         | AL         | 0     | Cross-industry | cross-industry | 1235     | 11-1031  | Legislators                         | detailed | 1,030     | 10.0     | 0.535     | 1.69         | nan       | nan     | *      | 28,520  | 4.5       | *       | *       | *        | *       | *       | 16,930  | 17,310  | 17,840   | 31,300  | 56,420  | 1      | nan\n",
       "1    | Alabama    | 2         | AL         | 0     | Cross-industry | cross-industry | 1235     | 11-2011  | Advertising and Promotions Managers | detailed | 30        | 21.2     | 0.016     | 0.10         | nan       | nan     | 53.01  | 110,250 | 6.8       | 23.57   | 36.22   | 47.59    | 72.17   | 77.94   | 49,020  | 75,330  | 98,980   | 150,100 | 162,110 | nan    | nan\n",
       "1    | Alabama    | 2         | AL         | 0     | Cross-industry | cross-industry | 1235     | 11-2021  | Marketing Managers                  | detailed | 1,210     | 5.4      | 0.625     | 0.32         | nan       | nan     | 58.83  | 122,370 | 2.2       | 29.21   | 37.39   | 49.60    | 75.43   | 99.92   | 60,750  | 77,770  | 103,170  | 156,880 | 207,820 | nan    | nan\n",
       "1    | Alabama    | 2         | AL         | 0     | Cross-industry | cross-industry | 1235     | 11-2022  | Sales Managers                      | detailed | 3,550     | 5.0      | 1.839     | 0.57         | nan       | nan     | 58.87  | 122,440 | 3.9       | 28.57   | 37.25   | 49.31    | 73.69   | #       | 59,420  | 77,490  | 102,570  | 153,270 | #       | nan    | nan\n",
       "1    | Alabama    | 2         | AL         | 0     | Cross-industry | cross-industry | 1235     | 11-2032  | Public Relations Managers           | detailed | 370       | 5.9      | 0.194     | 0.46         | nan       | nan     | 48.69  | 101,270 | 2.6       | 22.67   | 29.04   | 45.39    | 61.17   | 80.65   | 47,160  | 60,400  | 94,410   | 127,240 | 167,750 | nan    | nan\n",
       "1    | Alabama    | 2         | AL         | 0     | Cross-industry | cross-industry | 1235     | 11-2033  | Fundraising Managers                | detailed | 160       | 10.6     | 0.081     | 0.49         | nan       | nan     | 37.68  | 78,370  | 3.9       | 18.36   | 27.92   | 35.90    | 47.27   | 53.59   | 38,200  | 58,080  | 74,680   | 98,330  | 111,460 | nan    | nan\n",
       "... (37570 rows omitted)"
      ]
     },
     "execution_count": 3,
     "metadata": {},
     "output_type": "execute_result"
    }
   ],
   "source": [
    "occupation_employ_wages = Table.read_table('/home/jovyan/Public Policy 190/May2021Data.csv')\n",
    "occupation_employ_wages"
   ]
  },
  {
   "cell_type": "markdown",
   "id": "04107883",
   "metadata": {},
   "source": [
    "#### Dataset Context\n",
    "\n",
    "* Where did the dataset come from?\n",
    "    - The dataset comes from the US Bureau of Labor Statistics' Occupational Employment and Wage Statistics\n",
    "    - The May 2021 OEWS estimates are based on the 2018 Standard Occupational Classification (SOC) system and the Office of Management and Budget's revised metropolitan area definitions, based on the reuslts of the 2010 decennial census \n",
    "\n",
    "* Who/what is represented in the data? Who/what is not represented in the data?\n",
    "    - The data was collected from employers of every size, state, metropolitan/nonmetropolitan areas, and all industry sectors\n",
    "    - Self-employed people are not included in these surveys  \n",
    "\n",
    "* Descriptions of relevant variables/column names\n",
    "| Field       | Field Description |\n",
    "| ----------- | -----------       |\n",
    "| area_title  | area name         |\n",
    "| area_type   | 1= US, 2= State, 3= US Territory, 4= MSA/NECTA, 5= NonMetro|\n",
    "| i_group     | industry level    |\n",
    "| own_code    | 1= Fed Gov, 2= State Gov, 3= Local Gov, 123= Fed/State/Local, 235= Private/State/Local, 35= Private/Local, 5= Private, 57/58/59= Other, 1235= Federal/State/Local/Private Sector               |\n",
    "| occ_code    | 6-digit SOC code for the occupation|\n",
    "| occ_title    | SOC title or OEWS-specific title for the occupation|\n",
    "| o_group     | occupation level               |\n",
    "| tot_emp     | estimated total employment (rounded; excludes self-employed)|\n",
    "| emp_prse    | percent relative standard error for employment estimate               |\n",
    "| jobs_1000   | the number of jobs in the given occupation per 1,000 (only for state and MSA estimates) |\n",
    "| loc_quotient     | the ratio of an occupation's share of employment in a given area to the US as a whole|\n",
    "| pct_total     | percent of industry in the given occupation (national industry only)|\n",
    "| h_mean     | mean hourly wage               |\n",
    "| a_mean     | mean annual wage               |\n",
    "| mean_prse     | percent relative standard error for the mean wage estimate|\n",
    "\n",
    "***"
   ]
  },
  {
   "cell_type": "markdown",
   "id": "ffbf6cdb",
   "metadata": {},
   "source": [
    "### Cleaning the Data\n",
    "\n",
    "#### Two Methods\n",
    "1) Table.select(\"column_1\", \"column_2\", ...)  \n",
    "- makes a new table with all the selected columns from the original table  \n",
    "\n",
    "2) Table.drop(\"column_1\", \"column_2\", ...)  \n",
    "- makes a new table without all the selected columns from the original table"
   ]
  },
  {
   "cell_type": "code",
   "execution_count": 4,
   "id": "203fddeb",
   "metadata": {},
   "outputs": [
    {
     "data": {
      "text/html": [
       "<table border=\"1\" class=\"dataframe\">\n",
       "    <thead>\n",
       "        <tr>\n",
       "            <th>AREA_TITLE</th> <th>AREA_TYPE</th> <th>I_GROUP</th> <th>OWN_CODE</th> <th>OCC_CODE</th> <th>OCC_TITLE</th> <th>O_GROUP</th> <th>TOT_EMP</th> <th>EMP_PRSE</th> <th>JOBS_1000</th> <th>LOC_QUOTIENT</th> <th>PCT_TOTAL</th> <th>H_MEAN</th> <th>A_MEAN</th> <th>MEAN_PRSE</th>\n",
       "        </tr>\n",
       "    </thead>\n",
       "    <tbody>\n",
       "        <tr>\n",
       "            <td>Alabama   </td> <td>2        </td> <td>cross-industry</td> <td>1235    </td> <td>00-0000 </td> <td>All Occupations                    </td> <td>total   </td> <td>1,928,110</td> <td>0.0     </td> <td>1000.000 </td> <td>1.00        </td> <td>nan      </td> <td>23.13 </td> <td>48,110 </td> <td>0.2      </td>\n",
       "        </tr>\n",
       "        <tr>\n",
       "            <td>Alabama   </td> <td>2        </td> <td>cross-industry</td> <td>1235    </td> <td>11-0000 </td> <td>Management Occupations             </td> <td>major   </td> <td>96,070   </td> <td>1.3     </td> <td>49.827   </td> <td>0.79        </td> <td>nan      </td> <td>51.06 </td> <td>106,210</td> <td>0.6      </td>\n",
       "        </tr>\n",
       "        <tr>\n",
       "            <td>Alabama   </td> <td>2        </td> <td>cross-industry</td> <td>1235    </td> <td>11-1011 </td> <td>Chief Executives                   </td> <td>detailed</td> <td>690      </td> <td>11.4    </td> <td>0.359    </td> <td>0.25        </td> <td>nan      </td> <td>72.24 </td> <td>150,260</td> <td>4.8      </td>\n",
       "        </tr>\n",
       "        <tr>\n",
       "            <td>Alabama   </td> <td>2        </td> <td>cross-industry</td> <td>1235    </td> <td>11-1021 </td> <td>General and Operations Managers    </td> <td>detailed</td> <td>34,370   </td> <td>2.7     </td> <td>17.824   </td> <td>0.84        </td> <td>nan      </td> <td>54.50 </td> <td>113,350</td> <td>0.9      </td>\n",
       "        </tr>\n",
       "        <tr>\n",
       "            <td>Alabama   </td> <td>2        </td> <td>cross-industry</td> <td>1235    </td> <td>11-1031 </td> <td>Legislators                        </td> <td>detailed</td> <td>1,030    </td> <td>10.0    </td> <td>0.535    </td> <td>1.69        </td> <td>nan      </td> <td>*     </td> <td>28,520 </td> <td>4.5      </td>\n",
       "        </tr>\n",
       "        <tr>\n",
       "            <td>Alabama   </td> <td>2        </td> <td>cross-industry</td> <td>1235    </td> <td>11-2011 </td> <td>Advertising and Promotions Managers</td> <td>detailed</td> <td>30       </td> <td>21.2    </td> <td>0.016    </td> <td>0.10        </td> <td>nan      </td> <td>53.01 </td> <td>110,250</td> <td>6.8      </td>\n",
       "        </tr>\n",
       "        <tr>\n",
       "            <td>Alabama   </td> <td>2        </td> <td>cross-industry</td> <td>1235    </td> <td>11-2021 </td> <td>Marketing Managers                 </td> <td>detailed</td> <td>1,210    </td> <td>5.4     </td> <td>0.625    </td> <td>0.32        </td> <td>nan      </td> <td>58.83 </td> <td>122,370</td> <td>2.2      </td>\n",
       "        </tr>\n",
       "        <tr>\n",
       "            <td>Alabama   </td> <td>2        </td> <td>cross-industry</td> <td>1235    </td> <td>11-2022 </td> <td>Sales Managers                     </td> <td>detailed</td> <td>3,550    </td> <td>5.0     </td> <td>1.839    </td> <td>0.57        </td> <td>nan      </td> <td>58.87 </td> <td>122,440</td> <td>3.9      </td>\n",
       "        </tr>\n",
       "        <tr>\n",
       "            <td>Alabama   </td> <td>2        </td> <td>cross-industry</td> <td>1235    </td> <td>11-2032 </td> <td>Public Relations Managers          </td> <td>detailed</td> <td>370      </td> <td>5.9     </td> <td>0.194    </td> <td>0.46        </td> <td>nan      </td> <td>48.69 </td> <td>101,270</td> <td>2.6      </td>\n",
       "        </tr>\n",
       "        <tr>\n",
       "            <td>Alabama   </td> <td>2        </td> <td>cross-industry</td> <td>1235    </td> <td>11-2033 </td> <td>Fundraising Managers               </td> <td>detailed</td> <td>160      </td> <td>10.6    </td> <td>0.081    </td> <td>0.49        </td> <td>nan      </td> <td>37.68 </td> <td>78,370 </td> <td>3.9      </td>\n",
       "        </tr>\n",
       "    </tbody>\n",
       "</table>\n",
       "<p>... (37570 rows omitted)</p>"
      ],
      "text/plain": [
       "AREA_TITLE | AREA_TYPE | I_GROUP        | OWN_CODE | OCC_CODE | OCC_TITLE                           | O_GROUP  | TOT_EMP   | EMP_PRSE | JOBS_1000 | LOC_QUOTIENT | PCT_TOTAL | H_MEAN | A_MEAN  | MEAN_PRSE\n",
       "Alabama    | 2         | cross-industry | 1235     | 00-0000  | All Occupations                     | total    | 1,928,110 | 0.0      | 1000.000  | 1.00         | nan       | 23.13  | 48,110  | 0.2\n",
       "Alabama    | 2         | cross-industry | 1235     | 11-0000  | Management Occupations              | major    | 96,070    | 1.3      | 49.827    | 0.79         | nan       | 51.06  | 106,210 | 0.6\n",
       "Alabama    | 2         | cross-industry | 1235     | 11-1011  | Chief Executives                    | detailed | 690       | 11.4     | 0.359     | 0.25         | nan       | 72.24  | 150,260 | 4.8\n",
       "Alabama    | 2         | cross-industry | 1235     | 11-1021  | General and Operations Managers     | detailed | 34,370    | 2.7      | 17.824    | 0.84         | nan       | 54.50  | 113,350 | 0.9\n",
       "Alabama    | 2         | cross-industry | 1235     | 11-1031  | Legislators                         | detailed | 1,030     | 10.0     | 0.535     | 1.69         | nan       | *      | 28,520  | 4.5\n",
       "Alabama    | 2         | cross-industry | 1235     | 11-2011  | Advertising and Promotions Managers | detailed | 30        | 21.2     | 0.016     | 0.10         | nan       | 53.01  | 110,250 | 6.8\n",
       "Alabama    | 2         | cross-industry | 1235     | 11-2021  | Marketing Managers                  | detailed | 1,210     | 5.4      | 0.625     | 0.32         | nan       | 58.83  | 122,370 | 2.2\n",
       "Alabama    | 2         | cross-industry | 1235     | 11-2022  | Sales Managers                      | detailed | 3,550     | 5.0      | 1.839     | 0.57         | nan       | 58.87  | 122,440 | 3.9\n",
       "Alabama    | 2         | cross-industry | 1235     | 11-2032  | Public Relations Managers           | detailed | 370       | 5.9      | 0.194     | 0.46         | nan       | 48.69  | 101,270 | 2.6\n",
       "Alabama    | 2         | cross-industry | 1235     | 11-2033  | Fundraising Managers                | detailed | 160       | 10.6     | 0.081     | 0.49         | nan       | 37.68  | 78,370  | 3.9\n",
       "... (37570 rows omitted)"
      ]
     },
     "execution_count": 4,
     "metadata": {},
     "output_type": "execute_result"
    }
   ],
   "source": [
    "# using the first method to create a new clean Table\n",
    "\n",
    "new_occ_wages = occupation_employ_wages.select(\"AREA_TITLE\", \"AREA_TYPE\", \"I_GROUP\", \"OWN_CODE\", \"OCC_CODE\", \"OCC_TITLE\", \"O_GROUP\", \"TOT_EMP\", \"EMP_PRSE\", \"JOBS_1000\", \"LOC_QUOTIENT\", \"PCT_TOTAL\", \"H_MEAN\", \"A_MEAN\", \"MEAN_PRSE\")\n",
    "new_occ_wages"
   ]
  },
  {
   "cell_type": "markdown",
   "id": "a155a837",
   "metadata": {},
   "source": [
    "#### Quick Exercise: Cleaning the Data\n",
    "\n",
    "What column do you see from the original table \"occupation_employ_wages\" that looks irrelevant?  "
   ]
  },
  {
   "cell_type": "markdown",
   "id": "78ff0e12",
   "metadata": {},
   "source": [
    "*A column from the original table that looks irrelevant is ...*"
   ]
  },
  {
   "cell_type": "code",
   "execution_count": 5,
   "id": "5b3df6ba",
   "metadata": {},
   "outputs": [],
   "source": [
    "# lets drop that column below \n",
    "# hint: Table.drop(\"column_name\")\n",
    "\n"
   ]
  },
  {
   "cell_type": "markdown",
   "id": "f62f824a",
   "metadata": {},
   "source": [
    "### Exploring the Data\n",
    "\n",
    "#### Filtering Data \n",
    "\n",
    "Table.where(\"column_or_label\", value_or_predicate)\n",
    "- Returns a new Table containing rows where the value_or_predicate returns True for values in column_or_label"
   ]
  },
  {
   "cell_type": "code",
   "execution_count": 6,
   "id": "8fe6788f",
   "metadata": {},
   "outputs": [
    {
     "data": {
      "text/html": [
       "<table border=\"1\" class=\"dataframe\">\n",
       "    <thead>\n",
       "        <tr>\n",
       "            <th>AREA_TITLE</th> <th>AREA_TYPE</th> <th>I_GROUP</th> <th>OWN_CODE</th> <th>OCC_CODE</th> <th>OCC_TITLE</th> <th>O_GROUP</th> <th>TOT_EMP</th> <th>EMP_PRSE</th> <th>JOBS_1000</th> <th>LOC_QUOTIENT</th> <th>PCT_TOTAL</th> <th>H_MEAN</th> <th>A_MEAN</th> <th>MEAN_PRSE</th>\n",
       "        </tr>\n",
       "    </thead>\n",
       "    <tbody>\n",
       "        <tr>\n",
       "            <td>California</td> <td>2        </td> <td>cross-industry</td> <td>1235    </td> <td>00-0000 </td> <td>All Occupations                    </td> <td>total   </td> <td>16,529,810</td> <td>0.0     </td> <td>1000.000 </td> <td>1.00        </td> <td>nan      </td> <td>32.94 </td> <td>68,510 </td> <td>0.2      </td>\n",
       "        </tr>\n",
       "        <tr>\n",
       "            <td>California</td> <td>2        </td> <td>cross-industry</td> <td>1235    </td> <td>11-0000 </td> <td>Management Occupations             </td> <td>major   </td> <td>1,199,620 </td> <td>0.7     </td> <td>72.573   </td> <td>1.15        </td> <td>nan      </td> <td>68.00 </td> <td>141,440</td> <td>0.5      </td>\n",
       "        </tr>\n",
       "        <tr>\n",
       "            <td>California</td> <td>2        </td> <td>cross-industry</td> <td>1235    </td> <td>11-1011 </td> <td>Chief Executives                   </td> <td>detailed</td> <td>33,930    </td> <td>5.1     </td> <td>2.053    </td> <td>1.44        </td> <td>nan      </td> <td>110.93</td> <td>230,730</td> <td>2.7      </td>\n",
       "        </tr>\n",
       "        <tr>\n",
       "            <td>California</td> <td>2        </td> <td>cross-industry</td> <td>1235    </td> <td>11-1021 </td> <td>General and Operations Managers    </td> <td>detailed</td> <td>286,030   </td> <td>1.2     </td> <td>17.304   </td> <td>0.82        </td> <td>nan      </td> <td>63.02 </td> <td>131,080</td> <td>0.7      </td>\n",
       "        </tr>\n",
       "        <tr>\n",
       "            <td>California</td> <td>2        </td> <td>cross-industry</td> <td>1235    </td> <td>11-1031 </td> <td>Legislators                        </td> <td>detailed</td> <td>2,330     </td> <td>5.5     </td> <td>0.141    </td> <td>0.44        </td> <td>nan      </td> <td>*     </td> <td>72,740 </td> <td>2.9      </td>\n",
       "        </tr>\n",
       "        <tr>\n",
       "            <td>California</td> <td>2        </td> <td>cross-industry</td> <td>1235    </td> <td>11-2011 </td> <td>Advertising and Promotions Managers</td> <td>detailed</td> <td>3,750     </td> <td>13.4    </td> <td>0.227    </td> <td>1.42        </td> <td>nan      </td> <td>73.31 </td> <td>152,490</td> <td>3.8      </td>\n",
       "        </tr>\n",
       "        <tr>\n",
       "            <td>California</td> <td>2        </td> <td>cross-industry</td> <td>1235    </td> <td>11-2021 </td> <td>Marketing Managers                 </td> <td>detailed</td> <td>47,350    </td> <td>4.6     </td> <td>2.864    </td> <td>1.45        </td> <td>nan      </td> <td>84.21 </td> <td>175,150</td> <td>1.7      </td>\n",
       "        </tr>\n",
       "        <tr>\n",
       "            <td>California</td> <td>2        </td> <td>cross-industry</td> <td>1235    </td> <td>11-2022 </td> <td>Sales Managers                     </td> <td>detailed</td> <td>90,390    </td> <td>2.1     </td> <td>5.468    </td> <td>1.70        </td> <td>nan      </td> <td>69.27 </td> <td>144,090</td> <td>1.0      </td>\n",
       "        </tr>\n",
       "        <tr>\n",
       "            <td>California</td> <td>2        </td> <td>cross-industry</td> <td>1235    </td> <td>11-2032 </td> <td>Public Relations Managers          </td> <td>detailed</td> <td>7,490     </td> <td>7.8     </td> <td>0.453    </td> <td>1.07        </td> <td>nan      </td> <td>68.61 </td> <td>142,720</td> <td>2.0      </td>\n",
       "        </tr>\n",
       "        <tr>\n",
       "            <td>California</td> <td>2        </td> <td>cross-industry</td> <td>1235    </td> <td>11-2033 </td> <td>Fundraising Managers               </td> <td>detailed</td> <td>2,230     </td> <td>7.2     </td> <td>0.135    </td> <td>0.82        </td> <td>nan      </td> <td>62.97 </td> <td>130,970</td> <td>3.6      </td>\n",
       "        </tr>\n",
       "    </tbody>\n",
       "</table>\n",
       "<p>... (824 rows omitted)</p>"
      ],
      "text/plain": [
       "AREA_TITLE | AREA_TYPE | I_GROUP        | OWN_CODE | OCC_CODE | OCC_TITLE                           | O_GROUP  | TOT_EMP    | EMP_PRSE | JOBS_1000 | LOC_QUOTIENT | PCT_TOTAL | H_MEAN | A_MEAN  | MEAN_PRSE\n",
       "California | 2         | cross-industry | 1235     | 00-0000  | All Occupations                     | total    | 16,529,810 | 0.0      | 1000.000  | 1.00         | nan       | 32.94  | 68,510  | 0.2\n",
       "California | 2         | cross-industry | 1235     | 11-0000  | Management Occupations              | major    | 1,199,620  | 0.7      | 72.573    | 1.15         | nan       | 68.00  | 141,440 | 0.5\n",
       "California | 2         | cross-industry | 1235     | 11-1011  | Chief Executives                    | detailed | 33,930     | 5.1      | 2.053     | 1.44         | nan       | 110.93 | 230,730 | 2.7\n",
       "California | 2         | cross-industry | 1235     | 11-1021  | General and Operations Managers     | detailed | 286,030    | 1.2      | 17.304    | 0.82         | nan       | 63.02  | 131,080 | 0.7\n",
       "California | 2         | cross-industry | 1235     | 11-1031  | Legislators                         | detailed | 2,330      | 5.5      | 0.141     | 0.44         | nan       | *      | 72,740  | 2.9\n",
       "California | 2         | cross-industry | 1235     | 11-2011  | Advertising and Promotions Managers | detailed | 3,750      | 13.4     | 0.227     | 1.42         | nan       | 73.31  | 152,490 | 3.8\n",
       "California | 2         | cross-industry | 1235     | 11-2021  | Marketing Managers                  | detailed | 47,350     | 4.6      | 2.864     | 1.45         | nan       | 84.21  | 175,150 | 1.7\n",
       "California | 2         | cross-industry | 1235     | 11-2022  | Sales Managers                      | detailed | 90,390     | 2.1      | 5.468     | 1.70         | nan       | 69.27  | 144,090 | 1.0\n",
       "California | 2         | cross-industry | 1235     | 11-2032  | Public Relations Managers           | detailed | 7,490      | 7.8      | 0.453     | 1.07         | nan       | 68.61  | 142,720 | 2.0\n",
       "California | 2         | cross-industry | 1235     | 11-2033  | Fundraising Managers                | detailed | 2,230      | 7.2      | 0.135     | 0.82         | nan       | 62.97  | 130,970 | 3.6\n",
       "... (824 rows omitted)"
      ]
     },
     "execution_count": 6,
     "metadata": {},
     "output_type": "execute_result"
    }
   ],
   "source": [
    "# keeping areas that are only in California \n",
    "cali = new_occ_wages.where(\"AREA_TITLE\", \"California\")\n",
    "cali"
   ]
  },
  {
   "cell_type": "markdown",
   "id": "4925fa96",
   "metadata": {},
   "source": [
    "#### Removing Nonnumeric Values\n",
    "\n",
    "Table.where(\"column_or_label\", value_or_predicate)\n",
    "- Returns a new Table containing rows where the value_or_predicate returns True for values in column_or_label\n",
    "    - value_or_predicate \n",
    "        - are.not_equal_to(\"character\")\n",
    "        \n",
    "*When computing values such as the mean of a column, we want to get rid of nonnumeric numbers that can interfere with the computation such as * or # that may be used as temporary values.*"
   ]
  },
  {
   "cell_type": "code",
   "execution_count": 7,
   "id": "01cd4196",
   "metadata": {},
   "outputs": [],
   "source": [
    "# using the cali Table, we are getting rid of the two nonnumeric values * and #\n",
    "# now, we have a cali_updated table that we can use to make computations\n",
    "\n",
    "cali_updated1 = cali.where(\"H_MEAN\", are.not_equal_to(\"*\"))\n",
    "cali_updated = cali_updated1.where(\"H_MEAN\", are.not_equal_to(\"#\"))"
   ]
  },
  {
   "cell_type": "markdown",
   "id": "f2ba6fa9",
   "metadata": {},
   "source": [
    "#### Changing the Type of a Column\n",
    "\n",
    "Sometimes, the type of a column may not be what we want. For instance, we cannot compute the mean of string values, so we would need to convert the type of the column to a float or int. "
   ]
  },
  {
   "cell_type": "code",
   "execution_count": 8,
   "id": "80446438",
   "metadata": {},
   "outputs": [
    {
     "data": {
      "text/plain": [
       "numpy.str_"
      ]
     },
     "execution_count": 8,
     "metadata": {},
     "output_type": "execute_result"
    }
   ],
   "source": [
    "# lets see what the type of the H_MEAN (hourly wage) column is\n",
    "\n",
    "temp_type = type(cali_updated.column(\"H_MEAN\")[1])\n",
    "temp_type"
   ]
  },
  {
   "cell_type": "markdown",
   "id": "89e70a0d",
   "metadata": {},
   "source": [
    "The type of the values in the H_MEAN column are strings instead of floats. That means we will get an error when trying to compute the value of the column. "
   ]
  },
  {
   "cell_type": "markdown",
   "id": "a2353484",
   "metadata": {},
   "source": [
    "#### Exercise 1: Change the H_MEAN column values to floats"
   ]
  },
  {
   "cell_type": "code",
   "execution_count": 9,
   "id": "517b7e09",
   "metadata": {},
   "outputs": [],
   "source": [
    "# hint: Table[\"column_name\"] = Table[\"column_name\"].astype(float)\n",
    "\n",
    "cali_updated[\"H_MEAN\"] = cali_updated[\"H_MEAN\"].astype(float) # answer"
   ]
  },
  {
   "cell_type": "markdown",
   "id": "69cc7587",
   "metadata": {},
   "source": [
    "#### Mean of a Column\n",
    "\n",
    "Table.mean\n",
    "- Getting the mean value of a column  \n",
    "\n",
    "Let's say we want to get the mean hourly wage value for California. We already have our California dataset that has removed all the nonnumeric values in the H_MEAN column and changed the types to a float."
   ]
  },
  {
   "cell_type": "markdown",
   "id": "fe78d055",
   "metadata": {},
   "source": [
    "#### Exercise 2: Compute the mean hourly wage for California"
   ]
  },
  {
   "cell_type": "code",
   "execution_count": 10,
   "id": "15223c06",
   "metadata": {},
   "outputs": [
    {
     "data": {
      "text/plain": [
       "35.663155844155852"
      ]
     },
     "execution_count": 10,
     "metadata": {},
     "output_type": "execute_result"
    }
   ],
   "source": [
    "# hint: np.mean()\n",
    "\n",
    "np.mean(cali_updated.column(\"H_MEAN\")) # answer"
   ]
  },
  {
   "cell_type": "markdown",
   "id": "df30767d",
   "metadata": {},
   "source": [
    "#### Exercise 3: Find out which occupation title gets paid the most in California"
   ]
  },
  {
   "cell_type": "code",
   "execution_count": 11,
   "id": "9c339321",
   "metadata": {},
   "outputs": [
    {
     "data": {
      "text/html": [
       "<table border=\"1\" class=\"dataframe\">\n",
       "    <thead>\n",
       "        <tr>\n",
       "            <th>OCC_TITLE</th> <th>A_MEAN</th> <th>AREA_TITLE sum</th> <th>AREA_TYPE sum</th> <th>I_GROUP sum</th> <th>OWN_CODE sum</th> <th>OCC_CODE sum</th> <th>O_GROUP sum</th> <th>TOT_EMP sum</th> <th>EMP_PRSE sum</th> <th>JOBS_1000 sum</th> <th>LOC_QUOTIENT sum</th> <th>PCT_TOTAL sum</th> <th>H_MEAN sum</th> <th>MEAN_PRSE sum</th>\n",
       "        </tr>\n",
       "    </thead>\n",
       "    <tbody>\n",
       "        <tr>\n",
       "            <td>Accountants and Auditors                                    </td> <td>92,840 </td> <td>None          </td> <td>2            </td> <td>None       </td> <td>1235        </td> <td>None        </td> <td>None       </td> <td>None       </td> <td>None        </td> <td>None         </td> <td>None            </td> <td>nan          </td> <td>44.63     </td> <td>None         </td>\n",
       "        </tr>\n",
       "        <tr>\n",
       "            <td>Actors                                                      </td> <td>*      </td> <td>None          </td> <td>2            </td> <td>None       </td> <td>1235        </td> <td>None        </td> <td>None       </td> <td>None       </td> <td>None        </td> <td>None         </td> <td>None            </td> <td>nan          </td> <td>38.43     </td> <td>None         </td>\n",
       "        </tr>\n",
       "        <tr>\n",
       "            <td>Actuaries                                                   </td> <td>116,540</td> <td>None          </td> <td>2            </td> <td>None       </td> <td>1235        </td> <td>None        </td> <td>None       </td> <td>None       </td> <td>None        </td> <td>None         </td> <td>None            </td> <td>nan          </td> <td>56.03     </td> <td>None         </td>\n",
       "        </tr>\n",
       "        <tr>\n",
       "            <td>Acupuncturists                                              </td> <td>76,180 </td> <td>None          </td> <td>2            </td> <td>None       </td> <td>1235        </td> <td>None        </td> <td>None       </td> <td>None       </td> <td>None        </td> <td>None         </td> <td>None            </td> <td>nan          </td> <td>36.63     </td> <td>None         </td>\n",
       "        </tr>\n",
       "        <tr>\n",
       "            <td>Adhesive Bonding Machine Operators and Tenders              </td> <td>43,410 </td> <td>None          </td> <td>2            </td> <td>None       </td> <td>1235        </td> <td>None        </td> <td>None       </td> <td>None       </td> <td>None        </td> <td>None         </td> <td>None            </td> <td>nan          </td> <td>20.87     </td> <td>None         </td>\n",
       "        </tr>\n",
       "        <tr>\n",
       "            <td>Administrative Law Judges, Adjudicators, and Hearing Off ...</td> <td>133,980</td> <td>None          </td> <td>2            </td> <td>None       </td> <td>1235        </td> <td>None        </td> <td>None       </td> <td>None       </td> <td>None        </td> <td>None         </td> <td>None            </td> <td>nan          </td> <td>64.42     </td> <td>None         </td>\n",
       "        </tr>\n",
       "        <tr>\n",
       "            <td>Administrative Services Managers                            </td> <td>115,290</td> <td>None          </td> <td>2            </td> <td>None       </td> <td>1235        </td> <td>None        </td> <td>None       </td> <td>None       </td> <td>None        </td> <td>None         </td> <td>None            </td> <td>nan          </td> <td>55.43     </td> <td>None         </td>\n",
       "        </tr>\n",
       "        <tr>\n",
       "            <td>Adult Basic Education, Adult Secondary Education, and En ...</td> <td>85,060 </td> <td>None          </td> <td>2            </td> <td>None       </td> <td>1235        </td> <td>None        </td> <td>None       </td> <td>None       </td> <td>None        </td> <td>None         </td> <td>None            </td> <td>nan          </td> <td>40.9      </td> <td>None         </td>\n",
       "        </tr>\n",
       "        <tr>\n",
       "            <td>Advertising Sales Agents                                    </td> <td>76,090 </td> <td>None          </td> <td>2            </td> <td>None       </td> <td>1235        </td> <td>None        </td> <td>None       </td> <td>None       </td> <td>None        </td> <td>None         </td> <td>None            </td> <td>nan          </td> <td>36.58     </td> <td>None         </td>\n",
       "        </tr>\n",
       "        <tr>\n",
       "            <td>Advertising and Promotions Managers                         </td> <td>152,490</td> <td>None          </td> <td>2            </td> <td>None       </td> <td>1235        </td> <td>None        </td> <td>None       </td> <td>None       </td> <td>None        </td> <td>None         </td> <td>None            </td> <td>nan          </td> <td>73.31     </td> <td>None         </td>\n",
       "        </tr>\n",
       "    </tbody>\n",
       "</table>\n",
       "<p>... (760 rows omitted)</p>"
      ],
      "text/plain": [
       "OCC_TITLE                                                    | A_MEAN  | AREA_TITLE sum | AREA_TYPE sum | I_GROUP sum | OWN_CODE sum | OCC_CODE sum | O_GROUP sum | TOT_EMP sum | EMP_PRSE sum | JOBS_1000 sum | LOC_QUOTIENT sum | PCT_TOTAL sum | H_MEAN sum | MEAN_PRSE sum\n",
       "Accountants and Auditors                                     | 92,840  | None           | 2             | None        | 1235         | None         | None        | None        | None         | None          | None             | nan           | 44.63      | None\n",
       "Actors                                                       | *       | None           | 2             | None        | 1235         | None         | None        | None        | None         | None          | None             | nan           | 38.43      | None\n",
       "Actuaries                                                    | 116,540 | None           | 2             | None        | 1235         | None         | None        | None        | None         | None          | None             | nan           | 56.03      | None\n",
       "Acupuncturists                                               | 76,180  | None           | 2             | None        | 1235         | None         | None        | None        | None         | None          | None             | nan           | 36.63      | None\n",
       "Adhesive Bonding Machine Operators and Tenders               | 43,410  | None           | 2             | None        | 1235         | None         | None        | None        | None         | None          | None             | nan           | 20.87      | None\n",
       "Administrative Law Judges, Adjudicators, and Hearing Off ... | 133,980 | None           | 2             | None        | 1235         | None         | None        | None        | None         | None          | None             | nan           | 64.42      | None\n",
       "Administrative Services Managers                             | 115,290 | None           | 2             | None        | 1235         | None         | None        | None        | None         | None          | None             | nan           | 55.43      | None\n",
       "Adult Basic Education, Adult Secondary Education, and En ... | 85,060  | None           | 2             | None        | 1235         | None         | None        | None        | None         | None          | None             | nan           | 40.9       | None\n",
       "Advertising Sales Agents                                     | 76,090  | None           | 2             | None        | 1235         | None         | None        | None        | None         | None          | None             | nan           | 36.58      | None\n",
       "Advertising and Promotions Managers                          | 152,490 | None           | 2             | None        | 1235         | None         | None        | None        | None         | None          | None             | nan           | 73.31      | None\n",
       "... (760 rows omitted)"
      ]
     },
     "execution_count": 11,
     "metadata": {},
     "output_type": "execute_result"
    }
   ],
   "source": [
    "# # see who in California gets paid the most in an occupation title\n",
    "# using the OCC_TITLE and A_MEAN columns\n",
    "# hint: Table.groups([\"...\", \"...\"], method)\n",
    "\n",
    "occ_title_wage = cali_updated.groups([\"OCC_TITLE\", \"A_MEAN\"], sum) # answer\n",
    "occ_title_wage"
   ]
  },
  {
   "cell_type": "code",
   "execution_count": 12,
   "id": "28b29d1c",
   "metadata": {},
   "outputs": [
    {
     "data": {
      "text/html": [
       "<table border=\"1\" class=\"dataframe\">\n",
       "    <thead>\n",
       "        <tr>\n",
       "            <th>OCC_TITLE</th> <th>A_MEAN</th>\n",
       "        </tr>\n",
       "    </thead>\n",
       "    <tbody>\n",
       "        <tr>\n",
       "            <td>Accountants and Auditors                                    </td> <td>92,840 </td>\n",
       "        </tr>\n",
       "        <tr>\n",
       "            <td>Actors                                                      </td> <td>*      </td>\n",
       "        </tr>\n",
       "        <tr>\n",
       "            <td>Actuaries                                                   </td> <td>116,540</td>\n",
       "        </tr>\n",
       "        <tr>\n",
       "            <td>Acupuncturists                                              </td> <td>76,180 </td>\n",
       "        </tr>\n",
       "        <tr>\n",
       "            <td>Adhesive Bonding Machine Operators and Tenders              </td> <td>43,410 </td>\n",
       "        </tr>\n",
       "        <tr>\n",
       "            <td>Administrative Law Judges, Adjudicators, and Hearing Off ...</td> <td>133,980</td>\n",
       "        </tr>\n",
       "        <tr>\n",
       "            <td>Administrative Services Managers                            </td> <td>115,290</td>\n",
       "        </tr>\n",
       "        <tr>\n",
       "            <td>Adult Basic Education, Adult Secondary Education, and En ...</td> <td>85,060 </td>\n",
       "        </tr>\n",
       "        <tr>\n",
       "            <td>Advertising Sales Agents                                    </td> <td>76,090 </td>\n",
       "        </tr>\n",
       "        <tr>\n",
       "            <td>Advertising and Promotions Managers                         </td> <td>152,490</td>\n",
       "        </tr>\n",
       "    </tbody>\n",
       "</table>\n",
       "<p>... (760 rows omitted)</p>"
      ],
      "text/plain": [
       "OCC_TITLE                                                    | A_MEAN\n",
       "Accountants and Auditors                                     | 92,840\n",
       "Actors                                                       | *\n",
       "Actuaries                                                    | 116,540\n",
       "Acupuncturists                                               | 76,180\n",
       "Adhesive Bonding Machine Operators and Tenders               | 43,410\n",
       "Administrative Law Judges, Adjudicators, and Hearing Off ... | 133,980\n",
       "Administrative Services Managers                             | 115,290\n",
       "Adult Basic Education, Adult Secondary Education, and En ... | 85,060\n",
       "Advertising Sales Agents                                     | 76,090\n",
       "Advertising and Promotions Managers                          | 152,490\n",
       "... (760 rows omitted)"
      ]
     },
     "execution_count": 12,
     "metadata": {},
     "output_type": "execute_result"
    }
   ],
   "source": [
    "# we only want the first two columns\n",
    "# using Table.select(), create a new table to show only the first two columns\n",
    "\n",
    "occ_title_wage = occ_title_wage.select(\"OCC_TITLE\", \"A_MEAN\") # answer\n",
    "occ_title_wage"
   ]
  },
  {
   "cell_type": "code",
   "execution_count": 13,
   "id": "a31f5c50",
   "metadata": {},
   "outputs": [
    {
     "data": {
      "text/html": [
       "<table border=\"1\" class=\"dataframe\">\n",
       "    <thead>\n",
       "        <tr>\n",
       "            <th>OCC_TITLE</th> <th>A_MEAN</th>\n",
       "        </tr>\n",
       "    </thead>\n",
       "    <tbody>\n",
       "        <tr>\n",
       "            <td>Actors                                                      </td> <td>*      </td>\n",
       "        </tr>\n",
       "        <tr>\n",
       "            <td>Dancers                                                     </td> <td>*      </td>\n",
       "        </tr>\n",
       "        <tr>\n",
       "            <td>Disc Jockeys, Except Radio                                  </td> <td>*      </td>\n",
       "        </tr>\n",
       "        <tr>\n",
       "            <td>Entertainers and Performers, Sports and Related Workers, ...</td> <td>*      </td>\n",
       "        </tr>\n",
       "        <tr>\n",
       "            <td>Musicians and Singers                                       </td> <td>*      </td>\n",
       "        </tr>\n",
       "        <tr>\n",
       "            <td>Microbiologists                                             </td> <td>100,030</td>\n",
       "        </tr>\n",
       "        <tr>\n",
       "            <td>Boilermakers                                                </td> <td>100,310</td>\n",
       "        </tr>\n",
       "        <tr>\n",
       "            <td>Technical Writers                                           </td> <td>100,730</td>\n",
       "        </tr>\n",
       "        <tr>\n",
       "            <td>Architects, Except Landscape and Naval                      </td> <td>100,790</td>\n",
       "        </tr>\n",
       "        <tr>\n",
       "            <td>Forest Fire Inspectors and Prevention Specialists           </td> <td>100,800</td>\n",
       "        </tr>\n",
       "    </tbody>\n",
       "</table>\n",
       "<p>... (760 rows omitted)</p>"
      ],
      "text/plain": [
       "OCC_TITLE                                                    | A_MEAN\n",
       "Actors                                                       | *\n",
       "Dancers                                                      | *\n",
       "Disc Jockeys, Except Radio                                   | *\n",
       "Entertainers and Performers, Sports and Related Workers, ... | *\n",
       "Musicians and Singers                                        | *\n",
       "Microbiologists                                              | 100,030\n",
       "Boilermakers                                                 | 100,310\n",
       "Technical Writers                                            | 100,730\n",
       "Architects, Except Landscape and Naval                       | 100,790\n",
       "Forest Fire Inspectors and Prevention Specialists            | 100,800\n",
       "... (760 rows omitted)"
      ]
     },
     "execution_count": 13,
     "metadata": {},
     "output_type": "execute_result"
    }
   ],
   "source": [
    "# lets use the sort method to organize the annual mean wages in order from highest pay to lowest pay\n",
    "# hint: Table.sort()\n",
    "# hint: use the descending argument in the sort method \n",
    "\n",
    "occ_title_wage.sort(\"A_MEAN\", descending=False) # answer "
   ]
  },
  {
   "cell_type": "markdown",
   "id": "2ba7003f",
   "metadata": {},
   "source": [
    "*insert answer here:*\n",
    "\n",
    "From the table above, we can see that the Microbiologists occupation title has the highest annual wage in California. "
   ]
  },
  {
   "cell_type": "markdown",
   "id": "f67e613f",
   "metadata": {},
   "source": [
    "  "
   ]
  },
  {
   "cell_type": "code",
   "execution_count": 14,
   "id": "fd117c29",
   "metadata": {},
   "outputs": [],
   "source": [
    "# don't worry about this code chunk here\n",
    "# we want to get rid of the commas in the string values to use the column values as numeric values\n",
    "\n",
    "array = cali_updated[\"TOT_EMP\"]\n",
    "new_array = []\n",
    "\n",
    "for i in array:\n",
    "    i = i.replace(\",\",\"\")\n",
    "    new_array.append(i)\n",
    "\n",
    "cali_updated[\"TOT_EMP\"] = new_array\n",
    "cali_updated = cali_updated.where(\"TOT_EMP\", are.not_equal_to(\"**\"))"
   ]
  },
  {
   "cell_type": "markdown",
   "id": "19f7db65",
   "metadata": {},
   "source": [
    "#### Exercise 4: Correlation between Total Employment and Jobs per 1000"
   ]
  },
  {
   "cell_type": "code",
   "execution_count": 15,
   "id": "6f63f2d8",
   "metadata": {},
   "outputs": [],
   "source": [
    "# lets see if there is a specific group that might have positive/negative correlations "
   ]
  },
  {
   "cell_type": "code",
   "execution_count": 16,
   "id": "ad47ec1c",
   "metadata": {},
   "outputs": [
    {
     "data": {
      "text/plain": [
       "(numpy.str_, numpy.str_)"
      ]
     },
     "execution_count": 16,
     "metadata": {},
     "output_type": "execute_result"
    }
   ],
   "source": [
    "# first, we need to check to see what the type of the two columns are\n",
    "\n",
    "tot_emp = type(cali_updated.column(\"TOT_EMP\")[1]) \n",
    "jobs_1000 = type(cali_updated.column(\"JOBS_1000\")[1])\n",
    "\n",
    "tot_emp, jobs_1000 # answer"
   ]
  },
  {
   "cell_type": "code",
   "execution_count": 17,
   "id": "f94eb5a9",
   "metadata": {},
   "outputs": [],
   "source": [
    "# convert both column values to floats\n",
    "\n",
    "cali_updated[\"TOT_EMP\"] = cali_updated[\"TOT_EMP\"].astype(float) # answer\n",
    "cali_updated[\"JOBS_1000\"] = cali_updated[\"JOBS_1000\"].astype(float) # answer"
   ]
  },
  {
   "cell_type": "code",
   "execution_count": 18,
   "id": "44deead2",
   "metadata": {},
   "outputs": [
    {
     "data": {
      "image/png": "[encoded data removed]",
      "text/plain": [
       "<Figure size 432x432 with 1 Axes>"
      ]
     },
     "metadata": {
      "needs_background": "light"
     },
     "output_type": "display_data"
    }
   ],
   "source": [
    "# plot a graph to see if there is a correlation\n",
    "\n",
    "#pyplot.scatter(cali_updated[\"TOT_EMP\"], cali_updated[\"JOBS_1000\"]) \n",
    "\n",
    "cali_updated.plot(\"TOT_EMP\", \"JOBS_1000\")"
   ]
  },
  {
   "cell_type": "markdown",
   "id": "02ce315f",
   "metadata": {},
   "source": [
    "*insert conclusion here*\n",
    "\n",
    "As expected, it seems as though there is a positive correlation between the Total Employment and Jobs per 1000."
   ]
  },
  {
   "cell_type": "markdown",
   "id": "94951357",
   "metadata": {},
   "source": [
    "#### More Exploration\n",
    "\n",
    "Looking at the dataset, is there a question that you would like to explore?"
   ]
  },
  {
   "cell_type": "code",
   "execution_count": 19,
   "id": "aa143dba",
   "metadata": {},
   "outputs": [],
   "source": [
    "# question"
   ]
  },
  {
   "cell_type": "code",
   "execution_count": 20,
   "id": "249508ba",
   "metadata": {},
   "outputs": [],
   "source": [
    "# analysis"
   ]
  },
  {
   "cell_type": "code",
   "execution_count": 21,
   "id": "558a0b70",
   "metadata": {},
   "outputs": [],
   "source": [
    "# conclusion"
   ]
  },
  {
   "cell_type": "markdown",
   "id": "f79b38c9",
   "metadata": {},
   "source": [
    "### Data Science Opportunities \n",
    "* This section should include data science opportunities for students to explore more applications of data science in their field."
   ]
  },
  {
   "cell_type": "code",
   "execution_count": null,
   "id": "ad3f21c9",
   "metadata": {},
   "outputs": [],
   "source": []
  }
 ],
 "metadata": {
  "kernelspec": {
   "display_name": "Python 3 (ipykernel)",
   "language": "python",
   "name": "python3"
  },
  "language_info": {
   "codemirror_mode": {
    "name": "ipython",
    "version": 3
   },
   "file_extension": ".py",
   "mimetype": "text/x-python",
   "name": "python",
   "nbconvert_exporter": "python",
   "pygments_lexer": "ipython3",
   "version": "3.9.13"
  }
 },
 "nbformat": 4,
 "nbformat_minor": 5
}
