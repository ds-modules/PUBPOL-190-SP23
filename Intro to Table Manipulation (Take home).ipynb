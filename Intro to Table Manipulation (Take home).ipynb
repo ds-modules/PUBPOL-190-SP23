{
 "cells": [
  {
   "cell_type": "markdown",
   "id": "0cbe3de9",
   "metadata": {},
   "source": [
    "## [PP190] Introduction to Table Manipulation (Take Home Exercise)\n",
    "### Professor Anibel Ferus-Comelo\n",
    "\n",
    "***\n",
    "\n",
    "### Learning Outcomes\n",
    "\n",
    "*Estimated time: 30 minutes\n",
    "\n",
    "***\n",
    "\n",
    "### Table of Contents\n",
    "* Introducing the Dataset\n",
    "* Exploring the Data\n",
    "* Data Science Opportunities \n",
    "\n",
    "***"
   ]
  },
  {
   "cell_type": "markdown",
   "id": "525af33c",
   "metadata": {},
   "source": [
    "### Useful tool for this notebook\n",
    "\n",
    "http://data8.org/datascience/tables.html"
   ]
  },
  {
   "cell_type": "code",
   "execution_count": 6,
   "id": "4e62a6b3",
   "metadata": {},
   "outputs": [],
   "source": [
    "# importing the required modules\n",
    "\n",
    "from datascience import *\n",
    "import numpy as np\n",
    "import matplotlib.pyplot as plt\n",
    "%matplotlib inline"
   ]
  },
  {
   "cell_type": "code",
   "execution_count": 7,
   "id": "28fff34b",
   "metadata": {},
   "outputs": [],
   "source": [
    "# to find the file path\n",
    "\n",
    "#import os\n",
    "#cwd = os.getcwd()  # Get the current working directory (cwd)\n",
    "#files = os.listdir(cwd)  # Get all the files in that directory\n",
    "#print(\"Files in %r: %s\" % (cwd, files))"
   ]
  },
  {
   "cell_type": "markdown",
   "id": "e85da8c9",
   "metadata": {},
   "source": [
    "## Introducing the Dataset\n",
    "\n",
    "The dataset comes from the US Bureau of Labor Statistics' Occupational Employment and Wage Statistics from May 2021. The May 2021 OEWS estimates are based on the 2018 Standard Occupational Classification (SOC) system and the Office of Management and Budget's revised metropolitan area definitions, based on the results of the 2010 decennial census \n",
    "\n",
    "The data was collected from employers of every size, state, metropolitan/nonmetropolitan areas, and all industry sectors. However, self-employed people are not included in these surveys.\n",
    "\n",
    "This data dictionary goes over what the column names mean in the data we are about to load."
   ]
  },
  {
   "cell_type": "markdown",
   "id": "4817a3a1",
   "metadata": {},
   "source": [
    "| Column       | Column Description |\n",
    "| ----------- | -----------       |\n",
    "| area_title  | area name         |\n",
    "| area_type   | 1= US, 2= State, 3= US Territory, 4= MSA/NECTA, 5= NonMetro|\n",
    "| i_group     | industry level    |\n",
    "| own_code    | 1= Fed Gov, 2= State Gov, 3= Local Gov, 123= Fed/State/Local, 235= Private/State/Local, 35= Private/Local, 5= Private, 57/58/59= Other, 1235= Federal/State/Local/Private Sector               |\n",
    "| occ_code    | 6-digit SOC code for the occupation|\n",
    "| occ_title    | SOC title or OEWS-specific title for the occupation|\n",
    "| o_group     | occupation level               |\n",
    "| tot_emp     | estimated total employment (rounded; excludes self-employed)|\n",
    "| emp_prse    | percent relative standard error for employment estimate               |\n",
    "| jobs_1000   | the number of jobs in the given occupation per 1,000 (only for state and MSA estimates) |\n",
    "| loc_quotient     | the ratio of an occupation's share of employment in a given area to the US as a whole|\n",
    "| pct_total     | percent of industry in the given occupation (national industry only)|\n",
    "| h_mean     | mean hourly wage               |\n",
    "| a_mean     | mean annual wage               |\n",
    "| mean_prse     | percent relative standard error for the mean wage estimate|\n",
    "\n",
    "***"
   ]
  },
  {
   "cell_type": "code",
   "execution_count": 10,
   "id": "74adb7cb",
   "metadata": {},
   "outputs": [
    {
     "data": {
      "text/html": [
       "<table border=\"1\" class=\"dataframe\">\n",
       "    <thead>\n",
       "        <tr>\n",
       "            <th>AREA</th> <th>AREA_TITLE</th> <th>AREA_TYPE</th> <th>PRIM_STATE</th> <th>NAICS</th> <th>NAICS_TITLE</th> <th>I_GROUP</th> <th>OWN_CODE</th> <th>OCC_CODE</th> <th>OCC_TITLE</th> <th>O_GROUP</th> <th>TOT_EMP</th> <th>EMP_PRSE</th> <th>JOBS_1000</th> <th>LOC_QUOTIENT</th> <th>PCT_TOTAL</th> <th>PCT_RPT</th> <th>H_MEAN</th> <th>A_MEAN</th> <th>MEAN_PRSE</th> <th>H_PCT10</th> <th>H_PCT25</th> <th>H_MEDIAN</th> <th>H_PCT75</th> <th>H_PCT90</th> <th>A_PCT10</th> <th>A_PCT25</th> <th>A_MEDIAN</th> <th>A_PCT75</th> <th>A_PCT90</th> <th>ANNUAL</th> <th>HOURLY</th>\n",
       "        </tr>\n",
       "    </thead>\n",
       "    <tbody>\n",
       "        <tr>\n",
       "            <td>1   </td> <td>Alabama   </td> <td>2        </td> <td>AL        </td> <td>0    </td> <td>Cross-industry</td> <td>cross-industry</td> <td>1235    </td> <td>00-0000 </td> <td>All Occupations                    </td> <td>total   </td> <td>1,928,110</td> <td>0.0     </td> <td>1000.000 </td> <td>1.00        </td> <td>nan      </td> <td>nan    </td> <td>23.13 </td> <td>48,110 </td> <td>0.2      </td> <td>8.96   </td> <td>11.89  </td> <td>17.91   </td> <td>28.68  </td> <td>39.79  </td> <td>18,630 </td> <td>24,720 </td> <td>37,250  </td> <td>59,660 </td> <td>82,760 </td> <td>nan   </td> <td>nan   </td>\n",
       "        </tr>\n",
       "        <tr>\n",
       "            <td>1   </td> <td>Alabama   </td> <td>2        </td> <td>AL        </td> <td>0    </td> <td>Cross-industry</td> <td>cross-industry</td> <td>1235    </td> <td>11-0000 </td> <td>Management Occupations             </td> <td>major   </td> <td>96,070   </td> <td>1.3     </td> <td>49.827   </td> <td>0.79        </td> <td>nan      </td> <td>nan    </td> <td>51.06 </td> <td>106,210</td> <td>0.6      </td> <td>22.55  </td> <td>30.19  </td> <td>45.51   </td> <td>61.25  </td> <td>87.58  </td> <td>46,900 </td> <td>62,790 </td> <td>94,650  </td> <td>127,400</td> <td>182,160</td> <td>nan   </td> <td>nan   </td>\n",
       "        </tr>\n",
       "        <tr>\n",
       "            <td>1   </td> <td>Alabama   </td> <td>2        </td> <td>AL        </td> <td>0    </td> <td>Cross-industry</td> <td>cross-industry</td> <td>1235    </td> <td>11-1011 </td> <td>Chief Executives                   </td> <td>detailed</td> <td>690      </td> <td>11.4    </td> <td>0.359    </td> <td>0.25        </td> <td>nan      </td> <td>nan    </td> <td>72.24 </td> <td>150,260</td> <td>4.8      </td> <td>28.46  </td> <td>45.36  </td> <td>61.14   </td> <td>82.09  </td> <td>#      </td> <td>59,190 </td> <td>94,360 </td> <td>127,170 </td> <td>170,750</td> <td>#      </td> <td>nan   </td> <td>nan   </td>\n",
       "        </tr>\n",
       "        <tr>\n",
       "            <td>1   </td> <td>Alabama   </td> <td>2        </td> <td>AL        </td> <td>0    </td> <td>Cross-industry</td> <td>cross-industry</td> <td>1235    </td> <td>11-1021 </td> <td>General and Operations Managers    </td> <td>detailed</td> <td>34,370   </td> <td>2.7     </td> <td>17.824   </td> <td>0.84        </td> <td>nan      </td> <td>nan    </td> <td>54.50 </td> <td>113,350</td> <td>0.9      </td> <td>22.22  </td> <td>29.93  </td> <td>46.28   </td> <td>68.75  </td> <td>#      </td> <td>46,220 </td> <td>62,260 </td> <td>96,270  </td> <td>143,000</td> <td>#      </td> <td>nan   </td> <td>nan   </td>\n",
       "        </tr>\n",
       "        <tr>\n",
       "            <td>1   </td> <td>Alabama   </td> <td>2        </td> <td>AL        </td> <td>0    </td> <td>Cross-industry</td> <td>cross-industry</td> <td>1235    </td> <td>11-1031 </td> <td>Legislators                        </td> <td>detailed</td> <td>1,030    </td> <td>10.0    </td> <td>0.535    </td> <td>1.69        </td> <td>nan      </td> <td>nan    </td> <td>*     </td> <td>28,520 </td> <td>4.5      </td> <td>*      </td> <td>*      </td> <td>*       </td> <td>*      </td> <td>*      </td> <td>16,930 </td> <td>17,310 </td> <td>17,840  </td> <td>31,300 </td> <td>56,420 </td> <td>1     </td> <td>nan   </td>\n",
       "        </tr>\n",
       "        <tr>\n",
       "            <td>1   </td> <td>Alabama   </td> <td>2        </td> <td>AL        </td> <td>0    </td> <td>Cross-industry</td> <td>cross-industry</td> <td>1235    </td> <td>11-2011 </td> <td>Advertising and Promotions Managers</td> <td>detailed</td> <td>30       </td> <td>21.2    </td> <td>0.016    </td> <td>0.10        </td> <td>nan      </td> <td>nan    </td> <td>53.01 </td> <td>110,250</td> <td>6.8      </td> <td>23.57  </td> <td>36.22  </td> <td>47.59   </td> <td>72.17  </td> <td>77.94  </td> <td>49,020 </td> <td>75,330 </td> <td>98,980  </td> <td>150,100</td> <td>162,110</td> <td>nan   </td> <td>nan   </td>\n",
       "        </tr>\n",
       "        <tr>\n",
       "            <td>1   </td> <td>Alabama   </td> <td>2        </td> <td>AL        </td> <td>0    </td> <td>Cross-industry</td> <td>cross-industry</td> <td>1235    </td> <td>11-2021 </td> <td>Marketing Managers                 </td> <td>detailed</td> <td>1,210    </td> <td>5.4     </td> <td>0.625    </td> <td>0.32        </td> <td>nan      </td> <td>nan    </td> <td>58.83 </td> <td>122,370</td> <td>2.2      </td> <td>29.21  </td> <td>37.39  </td> <td>49.60   </td> <td>75.43  </td> <td>99.92  </td> <td>60,750 </td> <td>77,770 </td> <td>103,170 </td> <td>156,880</td> <td>207,820</td> <td>nan   </td> <td>nan   </td>\n",
       "        </tr>\n",
       "        <tr>\n",
       "            <td>1   </td> <td>Alabama   </td> <td>2        </td> <td>AL        </td> <td>0    </td> <td>Cross-industry</td> <td>cross-industry</td> <td>1235    </td> <td>11-2022 </td> <td>Sales Managers                     </td> <td>detailed</td> <td>3,550    </td> <td>5.0     </td> <td>1.839    </td> <td>0.57        </td> <td>nan      </td> <td>nan    </td> <td>58.87 </td> <td>122,440</td> <td>3.9      </td> <td>28.57  </td> <td>37.25  </td> <td>49.31   </td> <td>73.69  </td> <td>#      </td> <td>59,420 </td> <td>77,490 </td> <td>102,570 </td> <td>153,270</td> <td>#      </td> <td>nan   </td> <td>nan   </td>\n",
       "        </tr>\n",
       "        <tr>\n",
       "            <td>1   </td> <td>Alabama   </td> <td>2        </td> <td>AL        </td> <td>0    </td> <td>Cross-industry</td> <td>cross-industry</td> <td>1235    </td> <td>11-2032 </td> <td>Public Relations Managers          </td> <td>detailed</td> <td>370      </td> <td>5.9     </td> <td>0.194    </td> <td>0.46        </td> <td>nan      </td> <td>nan    </td> <td>48.69 </td> <td>101,270</td> <td>2.6      </td> <td>22.67  </td> <td>29.04  </td> <td>45.39   </td> <td>61.17  </td> <td>80.65  </td> <td>47,160 </td> <td>60,400 </td> <td>94,410  </td> <td>127,240</td> <td>167,750</td> <td>nan   </td> <td>nan   </td>\n",
       "        </tr>\n",
       "        <tr>\n",
       "            <td>1   </td> <td>Alabama   </td> <td>2        </td> <td>AL        </td> <td>0    </td> <td>Cross-industry</td> <td>cross-industry</td> <td>1235    </td> <td>11-2033 </td> <td>Fundraising Managers               </td> <td>detailed</td> <td>160      </td> <td>10.6    </td> <td>0.081    </td> <td>0.49        </td> <td>nan      </td> <td>nan    </td> <td>37.68 </td> <td>78,370 </td> <td>3.9      </td> <td>18.36  </td> <td>27.92  </td> <td>35.90   </td> <td>47.27  </td> <td>53.59  </td> <td>38,200 </td> <td>58,080 </td> <td>74,680  </td> <td>98,330 </td> <td>111,460</td> <td>nan   </td> <td>nan   </td>\n",
       "        </tr>\n",
       "    </tbody>\n",
       "</table>\n",
       "<p>... (37570 rows omitted)</p>"
      ],
      "text/plain": [
       "AREA | AREA_TITLE | AREA_TYPE | PRIM_STATE | NAICS | NAICS_TITLE    | I_GROUP        | OWN_CODE | OCC_CODE | OCC_TITLE                           | O_GROUP  | TOT_EMP   | EMP_PRSE | JOBS_1000 | LOC_QUOTIENT | PCT_TOTAL | PCT_RPT | H_MEAN | A_MEAN  | MEAN_PRSE | H_PCT10 | H_PCT25 | H_MEDIAN | H_PCT75 | H_PCT90 | A_PCT10 | A_PCT25 | A_MEDIAN | A_PCT75 | A_PCT90 | ANNUAL | HOURLY\n",
       "1    | Alabama    | 2         | AL         | 0     | Cross-industry | cross-industry | 1235     | 00-0000  | All Occupations                     | total    | 1,928,110 | 0.0      | 1000.000  | 1.00         | nan       | nan     | 23.13  | 48,110  | 0.2       | 8.96    | 11.89   | 17.91    | 28.68   | 39.79   | 18,630  | 24,720  | 37,250   | 59,660  | 82,760  | nan    | nan\n",
       "1    | Alabama    | 2         | AL         | 0     | Cross-industry | cross-industry | 1235     | 11-0000  | Management Occupations              | major    | 96,070    | 1.3      | 49.827    | 0.79         | nan       | nan     | 51.06  | 106,210 | 0.6       | 22.55   | 30.19   | 45.51    | 61.25   | 87.58   | 46,900  | 62,790  | 94,650   | 127,400 | 182,160 | nan    | nan\n",
       "1    | Alabama    | 2         | AL         | 0     | Cross-industry | cross-industry | 1235     | 11-1011  | Chief Executives                    | detailed | 690       | 11.4     | 0.359     | 0.25         | nan       | nan     | 72.24  | 150,260 | 4.8       | 28.46   | 45.36   | 61.14    | 82.09   | #       | 59,190  | 94,360  | 127,170  | 170,750 | #       | nan    | nan\n",
       "1    | Alabama    | 2         | AL         | 0     | Cross-industry | cross-industry | 1235     | 11-1021  | General and Operations Managers     | detailed | 34,370    | 2.7      | 17.824    | 0.84         | nan       | nan     | 54.50  | 113,350 | 0.9       | 22.22   | 29.93   | 46.28    | 68.75   | #       | 46,220  | 62,260  | 96,270   | 143,000 | #       | nan    | nan\n",
       "1    | Alabama    | 2         | AL         | 0     | Cross-industry | cross-industry | 1235     | 11-1031  | Legislators                         | detailed | 1,030     | 10.0     | 0.535     | 1.69         | nan       | nan     | *      | 28,520  | 4.5       | *       | *       | *        | *       | *       | 16,930  | 17,310  | 17,840   | 31,300  | 56,420  | 1      | nan\n",
       "1    | Alabama    | 2         | AL         | 0     | Cross-industry | cross-industry | 1235     | 11-2011  | Advertising and Promotions Managers | detailed | 30        | 21.2     | 0.016     | 0.10         | nan       | nan     | 53.01  | 110,250 | 6.8       | 23.57   | 36.22   | 47.59    | 72.17   | 77.94   | 49,020  | 75,330  | 98,980   | 150,100 | 162,110 | nan    | nan\n",
       "1    | Alabama    | 2         | AL         | 0     | Cross-industry | cross-industry | 1235     | 11-2021  | Marketing Managers                  | detailed | 1,210     | 5.4      | 0.625     | 0.32         | nan       | nan     | 58.83  | 122,370 | 2.2       | 29.21   | 37.39   | 49.60    | 75.43   | 99.92   | 60,750  | 77,770  | 103,170  | 156,880 | 207,820 | nan    | nan\n",
       "1    | Alabama    | 2         | AL         | 0     | Cross-industry | cross-industry | 1235     | 11-2022  | Sales Managers                      | detailed | 3,550     | 5.0      | 1.839     | 0.57         | nan       | nan     | 58.87  | 122,440 | 3.9       | 28.57   | 37.25   | 49.31    | 73.69   | #       | 59,420  | 77,490  | 102,570  | 153,270 | #       | nan    | nan\n",
       "1    | Alabama    | 2         | AL         | 0     | Cross-industry | cross-industry | 1235     | 11-2032  | Public Relations Managers           | detailed | 370       | 5.9      | 0.194     | 0.46         | nan       | nan     | 48.69  | 101,270 | 2.6       | 22.67   | 29.04   | 45.39    | 61.17   | 80.65   | 47,160  | 60,400  | 94,410   | 127,240 | 167,750 | nan    | nan\n",
       "1    | Alabama    | 2         | AL         | 0     | Cross-industry | cross-industry | 1235     | 11-2033  | Fundraising Managers                | detailed | 160       | 10.6     | 0.081     | 0.49         | nan       | nan     | 37.68  | 78,370  | 3.9       | 18.36   | 27.92   | 35.90    | 47.27   | 53.59   | 38,200  | 58,080  | 74,680   | 98,330  | 111,460 | nan    | nan\n",
       "... (37570 rows omitted)"
      ]
     },
     "execution_count": 10,
     "metadata": {},
     "output_type": "execute_result"
    }
   ],
   "source": [
    "#Reading in the Data\n",
    "occupation_employ_wages = Table.read_table('Data/May2021Data.csv')\n",
    "occupation_employ_wages"
   ]
  },
  {
   "cell_type": "markdown",
   "id": "ffbf6cdb",
   "metadata": {},
   "source": [
    "### Cleaning the Data\n",
    "\n",
    "Before we start our analysis, our table looks like it has plenty of information we do not need. In this next section, we will be cleaning our dataset to best fit our needs. This will consist of **selecting** what columns and rows we would like to explore, **removing** rows that we cannot utilize and **changing** the types of the values in our table to make it easier to work with. As a reminder of what we learned in class, below are two methods that may come in useful during this portion of the notebook.\n",
    "\n",
    "- Table.select(\"column_1\", \"column_2\", ...)  \n",
    "    - makes a new table with all the selected columns from the original table  \n",
    "- Table.drop(\"column_1\", \"column_2\", ...)  \n",
    "    - creates a new table without all the selected columns from the original table\n",
    "- Table.where(\"column_or_label\", value_or_predicate)\n",
    "    - returns a new Table containing rows where the value_or_predicate returns True for values in column_or_label"
   ]
  },
  {
   "cell_type": "markdown",
   "id": "db715479",
   "metadata": {},
   "source": [
    "Run the cell below to select the most relevant columns on the table. Here we use the first function `select` in our first step in cleaning the data. "
   ]
  },
  {
   "cell_type": "code",
   "execution_count": 11,
   "id": "203fddeb",
   "metadata": {},
   "outputs": [
    {
     "data": {
      "text/html": [
       "<table border=\"1\" class=\"dataframe\">\n",
       "    <thead>\n",
       "        <tr>\n",
       "            <th>AREA_TITLE</th> <th>AREA_TYPE</th> <th>I_GROUP</th> <th>OWN_CODE</th> <th>OCC_CODE</th> <th>OCC_TITLE</th> <th>O_GROUP</th> <th>TOT_EMP</th> <th>EMP_PRSE</th> <th>JOBS_1000</th> <th>LOC_QUOTIENT</th> <th>PCT_TOTAL</th> <th>H_MEAN</th> <th>A_MEAN</th> <th>MEAN_PRSE</th>\n",
       "        </tr>\n",
       "    </thead>\n",
       "    <tbody>\n",
       "        <tr>\n",
       "            <td>Alabama   </td> <td>2        </td> <td>cross-industry</td> <td>1235    </td> <td>00-0000 </td> <td>All Occupations                    </td> <td>total   </td> <td>1,928,110</td> <td>0.0     </td> <td>1000.000 </td> <td>1.00        </td> <td>nan      </td> <td>23.13 </td> <td>48,110 </td> <td>0.2      </td>\n",
       "        </tr>\n",
       "        <tr>\n",
       "            <td>Alabama   </td> <td>2        </td> <td>cross-industry</td> <td>1235    </td> <td>11-0000 </td> <td>Management Occupations             </td> <td>major   </td> <td>96,070   </td> <td>1.3     </td> <td>49.827   </td> <td>0.79        </td> <td>nan      </td> <td>51.06 </td> <td>106,210</td> <td>0.6      </td>\n",
       "        </tr>\n",
       "        <tr>\n",
       "            <td>Alabama   </td> <td>2        </td> <td>cross-industry</td> <td>1235    </td> <td>11-1011 </td> <td>Chief Executives                   </td> <td>detailed</td> <td>690      </td> <td>11.4    </td> <td>0.359    </td> <td>0.25        </td> <td>nan      </td> <td>72.24 </td> <td>150,260</td> <td>4.8      </td>\n",
       "        </tr>\n",
       "        <tr>\n",
       "            <td>Alabama   </td> <td>2        </td> <td>cross-industry</td> <td>1235    </td> <td>11-1021 </td> <td>General and Operations Managers    </td> <td>detailed</td> <td>34,370   </td> <td>2.7     </td> <td>17.824   </td> <td>0.84        </td> <td>nan      </td> <td>54.50 </td> <td>113,350</td> <td>0.9      </td>\n",
       "        </tr>\n",
       "        <tr>\n",
       "            <td>Alabama   </td> <td>2        </td> <td>cross-industry</td> <td>1235    </td> <td>11-1031 </td> <td>Legislators                        </td> <td>detailed</td> <td>1,030    </td> <td>10.0    </td> <td>0.535    </td> <td>1.69        </td> <td>nan      </td> <td>*     </td> <td>28,520 </td> <td>4.5      </td>\n",
       "        </tr>\n",
       "        <tr>\n",
       "            <td>Alabama   </td> <td>2        </td> <td>cross-industry</td> <td>1235    </td> <td>11-2011 </td> <td>Advertising and Promotions Managers</td> <td>detailed</td> <td>30       </td> <td>21.2    </td> <td>0.016    </td> <td>0.10        </td> <td>nan      </td> <td>53.01 </td> <td>110,250</td> <td>6.8      </td>\n",
       "        </tr>\n",
       "        <tr>\n",
       "            <td>Alabama   </td> <td>2        </td> <td>cross-industry</td> <td>1235    </td> <td>11-2021 </td> <td>Marketing Managers                 </td> <td>detailed</td> <td>1,210    </td> <td>5.4     </td> <td>0.625    </td> <td>0.32        </td> <td>nan      </td> <td>58.83 </td> <td>122,370</td> <td>2.2      </td>\n",
       "        </tr>\n",
       "        <tr>\n",
       "            <td>Alabama   </td> <td>2        </td> <td>cross-industry</td> <td>1235    </td> <td>11-2022 </td> <td>Sales Managers                     </td> <td>detailed</td> <td>3,550    </td> <td>5.0     </td> <td>1.839    </td> <td>0.57        </td> <td>nan      </td> <td>58.87 </td> <td>122,440</td> <td>3.9      </td>\n",
       "        </tr>\n",
       "        <tr>\n",
       "            <td>Alabama   </td> <td>2        </td> <td>cross-industry</td> <td>1235    </td> <td>11-2032 </td> <td>Public Relations Managers          </td> <td>detailed</td> <td>370      </td> <td>5.9     </td> <td>0.194    </td> <td>0.46        </td> <td>nan      </td> <td>48.69 </td> <td>101,270</td> <td>2.6      </td>\n",
       "        </tr>\n",
       "        <tr>\n",
       "            <td>Alabama   </td> <td>2        </td> <td>cross-industry</td> <td>1235    </td> <td>11-2033 </td> <td>Fundraising Managers               </td> <td>detailed</td> <td>160      </td> <td>10.6    </td> <td>0.081    </td> <td>0.49        </td> <td>nan      </td> <td>37.68 </td> <td>78,370 </td> <td>3.9      </td>\n",
       "        </tr>\n",
       "    </tbody>\n",
       "</table>\n",
       "<p>... (37570 rows omitted)</p>"
      ],
      "text/plain": [
       "AREA_TITLE | AREA_TYPE | I_GROUP        | OWN_CODE | OCC_CODE | OCC_TITLE                           | O_GROUP  | TOT_EMP   | EMP_PRSE | JOBS_1000 | LOC_QUOTIENT | PCT_TOTAL | H_MEAN | A_MEAN  | MEAN_PRSE\n",
       "Alabama    | 2         | cross-industry | 1235     | 00-0000  | All Occupations                     | total    | 1,928,110 | 0.0      | 1000.000  | 1.00         | nan       | 23.13  | 48,110  | 0.2\n",
       "Alabama    | 2         | cross-industry | 1235     | 11-0000  | Management Occupations              | major    | 96,070    | 1.3      | 49.827    | 0.79         | nan       | 51.06  | 106,210 | 0.6\n",
       "Alabama    | 2         | cross-industry | 1235     | 11-1011  | Chief Executives                    | detailed | 690       | 11.4     | 0.359     | 0.25         | nan       | 72.24  | 150,260 | 4.8\n",
       "Alabama    | 2         | cross-industry | 1235     | 11-1021  | General and Operations Managers     | detailed | 34,370    | 2.7      | 17.824    | 0.84         | nan       | 54.50  | 113,350 | 0.9\n",
       "Alabama    | 2         | cross-industry | 1235     | 11-1031  | Legislators                         | detailed | 1,030     | 10.0     | 0.535     | 1.69         | nan       | *      | 28,520  | 4.5\n",
       "Alabama    | 2         | cross-industry | 1235     | 11-2011  | Advertising and Promotions Managers | detailed | 30        | 21.2     | 0.016     | 0.10         | nan       | 53.01  | 110,250 | 6.8\n",
       "Alabama    | 2         | cross-industry | 1235     | 11-2021  | Marketing Managers                  | detailed | 1,210     | 5.4      | 0.625     | 0.32         | nan       | 58.83  | 122,370 | 2.2\n",
       "Alabama    | 2         | cross-industry | 1235     | 11-2022  | Sales Managers                      | detailed | 3,550     | 5.0      | 1.839     | 0.57         | nan       | 58.87  | 122,440 | 3.9\n",
       "Alabama    | 2         | cross-industry | 1235     | 11-2032  | Public Relations Managers           | detailed | 370       | 5.9      | 0.194     | 0.46         | nan       | 48.69  | 101,270 | 2.6\n",
       "Alabama    | 2         | cross-industry | 1235     | 11-2033  | Fundraising Managers                | detailed | 160       | 10.6     | 0.081     | 0.49         | nan       | 37.68  | 78,370  | 3.9\n",
       "... (37570 rows omitted)"
      ]
     },
     "execution_count": 11,
     "metadata": {},
     "output_type": "execute_result"
    }
   ],
   "source": [
    "# using the first method to create a new clean Table\n",
    "new_occ_wages = occupation_employ_wages.select(\"AREA_TITLE\", \"AREA_TYPE\", \"I_GROUP\", \"OWN_CODE\", \"OCC_CODE\", \"OCC_TITLE\", \"O_GROUP\", \"TOT_EMP\", \"EMP_PRSE\", \"JOBS_1000\", \"LOC_QUOTIENT\", \"PCT_TOTAL\", \"H_MEAN\", \"A_MEAN\", \"MEAN_PRSE\")\n",
    "new_occ_wages"
   ]
  },
  {
   "cell_type": "markdown",
   "id": "a155a837",
   "metadata": {},
   "source": [
    "#### Quick Exercise: Cleaning the Data\n",
    "\n",
    "What column do you see from the original table \"occupation_employ_wages\" that looks irrelevant?  "
   ]
  },
  {
   "cell_type": "markdown",
   "id": "78ff0e12",
   "metadata": {},
   "source": [
    "*A column from the original table that looks irrelevant is ...*"
   ]
  },
  {
   "cell_type": "code",
   "execution_count": 12,
   "id": "5b3df6ba",
   "metadata": {},
   "outputs": [],
   "source": [
    "# lets drop that column below \n",
    "# hint: Table.drop(\"column_name\")\n",
    "\n"
   ]
  },
  {
   "cell_type": "markdown",
   "id": "db5c8856",
   "metadata": {},
   "source": [
    "As you may have noticed, the dataset contains information on all states in the America. In this notebook, we want to look at occupational employment and wage statistics strictly in the state of **California**. "
   ]
  },
  {
   "cell_type": "markdown",
   "id": "d5d19c4a",
   "metadata": {},
   "source": [
    "**Question 1:** In the cell below, fill in the blank to ensure that we keep data representing California only."
   ]
  },
  {
   "cell_type": "code",
   "execution_count": 13,
   "id": "8fe6788f",
   "metadata": {},
   "outputs": [
    {
     "data": {
      "text/html": [
       "<table border=\"1\" class=\"dataframe\">\n",
       "    <thead>\n",
       "        <tr>\n",
       "            <th>AREA_TITLE</th> <th>AREA_TYPE</th> <th>I_GROUP</th> <th>OWN_CODE</th> <th>OCC_CODE</th> <th>OCC_TITLE</th> <th>O_GROUP</th> <th>TOT_EMP</th> <th>EMP_PRSE</th> <th>JOBS_1000</th> <th>LOC_QUOTIENT</th> <th>PCT_TOTAL</th> <th>H_MEAN</th> <th>A_MEAN</th> <th>MEAN_PRSE</th>\n",
       "        </tr>\n",
       "    </thead>\n",
       "    <tbody>\n",
       "        <tr>\n",
       "            <td>California</td> <td>2        </td> <td>cross-industry</td> <td>1235    </td> <td>00-0000 </td> <td>All Occupations                    </td> <td>total   </td> <td>16,529,810</td> <td>0.0     </td> <td>1000.000 </td> <td>1.00        </td> <td>nan      </td> <td>32.94 </td> <td>68,510 </td> <td>0.2      </td>\n",
       "        </tr>\n",
       "        <tr>\n",
       "            <td>California</td> <td>2        </td> <td>cross-industry</td> <td>1235    </td> <td>11-0000 </td> <td>Management Occupations             </td> <td>major   </td> <td>1,199,620 </td> <td>0.7     </td> <td>72.573   </td> <td>1.15        </td> <td>nan      </td> <td>68.00 </td> <td>141,440</td> <td>0.5      </td>\n",
       "        </tr>\n",
       "        <tr>\n",
       "            <td>California</td> <td>2        </td> <td>cross-industry</td> <td>1235    </td> <td>11-1011 </td> <td>Chief Executives                   </td> <td>detailed</td> <td>33,930    </td> <td>5.1     </td> <td>2.053    </td> <td>1.44        </td> <td>nan      </td> <td>110.93</td> <td>230,730</td> <td>2.7      </td>\n",
       "        </tr>\n",
       "        <tr>\n",
       "            <td>California</td> <td>2        </td> <td>cross-industry</td> <td>1235    </td> <td>11-1021 </td> <td>General and Operations Managers    </td> <td>detailed</td> <td>286,030   </td> <td>1.2     </td> <td>17.304   </td> <td>0.82        </td> <td>nan      </td> <td>63.02 </td> <td>131,080</td> <td>0.7      </td>\n",
       "        </tr>\n",
       "        <tr>\n",
       "            <td>California</td> <td>2        </td> <td>cross-industry</td> <td>1235    </td> <td>11-1031 </td> <td>Legislators                        </td> <td>detailed</td> <td>2,330     </td> <td>5.5     </td> <td>0.141    </td> <td>0.44        </td> <td>nan      </td> <td>*     </td> <td>72,740 </td> <td>2.9      </td>\n",
       "        </tr>\n",
       "        <tr>\n",
       "            <td>California</td> <td>2        </td> <td>cross-industry</td> <td>1235    </td> <td>11-2011 </td> <td>Advertising and Promotions Managers</td> <td>detailed</td> <td>3,750     </td> <td>13.4    </td> <td>0.227    </td> <td>1.42        </td> <td>nan      </td> <td>73.31 </td> <td>152,490</td> <td>3.8      </td>\n",
       "        </tr>\n",
       "        <tr>\n",
       "            <td>California</td> <td>2        </td> <td>cross-industry</td> <td>1235    </td> <td>11-2021 </td> <td>Marketing Managers                 </td> <td>detailed</td> <td>47,350    </td> <td>4.6     </td> <td>2.864    </td> <td>1.45        </td> <td>nan      </td> <td>84.21 </td> <td>175,150</td> <td>1.7      </td>\n",
       "        </tr>\n",
       "        <tr>\n",
       "            <td>California</td> <td>2        </td> <td>cross-industry</td> <td>1235    </td> <td>11-2022 </td> <td>Sales Managers                     </td> <td>detailed</td> <td>90,390    </td> <td>2.1     </td> <td>5.468    </td> <td>1.70        </td> <td>nan      </td> <td>69.27 </td> <td>144,090</td> <td>1.0      </td>\n",
       "        </tr>\n",
       "        <tr>\n",
       "            <td>California</td> <td>2        </td> <td>cross-industry</td> <td>1235    </td> <td>11-2032 </td> <td>Public Relations Managers          </td> <td>detailed</td> <td>7,490     </td> <td>7.8     </td> <td>0.453    </td> <td>1.07        </td> <td>nan      </td> <td>68.61 </td> <td>142,720</td> <td>2.0      </td>\n",
       "        </tr>\n",
       "        <tr>\n",
       "            <td>California</td> <td>2        </td> <td>cross-industry</td> <td>1235    </td> <td>11-2033 </td> <td>Fundraising Managers               </td> <td>detailed</td> <td>2,230     </td> <td>7.2     </td> <td>0.135    </td> <td>0.82        </td> <td>nan      </td> <td>62.97 </td> <td>130,970</td> <td>3.6      </td>\n",
       "        </tr>\n",
       "    </tbody>\n",
       "</table>\n",
       "<p>... (824 rows omitted)</p>"
      ],
      "text/plain": [
       "AREA_TITLE | AREA_TYPE | I_GROUP        | OWN_CODE | OCC_CODE | OCC_TITLE                           | O_GROUP  | TOT_EMP    | EMP_PRSE | JOBS_1000 | LOC_QUOTIENT | PCT_TOTAL | H_MEAN | A_MEAN  | MEAN_PRSE\n",
       "California | 2         | cross-industry | 1235     | 00-0000  | All Occupations                     | total    | 16,529,810 | 0.0      | 1000.000  | 1.00         | nan       | 32.94  | 68,510  | 0.2\n",
       "California | 2         | cross-industry | 1235     | 11-0000  | Management Occupations              | major    | 1,199,620  | 0.7      | 72.573    | 1.15         | nan       | 68.00  | 141,440 | 0.5\n",
       "California | 2         | cross-industry | 1235     | 11-1011  | Chief Executives                    | detailed | 33,930     | 5.1      | 2.053     | 1.44         | nan       | 110.93 | 230,730 | 2.7\n",
       "California | 2         | cross-industry | 1235     | 11-1021  | General and Operations Managers     | detailed | 286,030    | 1.2      | 17.304    | 0.82         | nan       | 63.02  | 131,080 | 0.7\n",
       "California | 2         | cross-industry | 1235     | 11-1031  | Legislators                         | detailed | 2,330      | 5.5      | 0.141     | 0.44         | nan       | *      | 72,740  | 2.9\n",
       "California | 2         | cross-industry | 1235     | 11-2011  | Advertising and Promotions Managers | detailed | 3,750      | 13.4     | 0.227     | 1.42         | nan       | 73.31  | 152,490 | 3.8\n",
       "California | 2         | cross-industry | 1235     | 11-2021  | Marketing Managers                  | detailed | 47,350     | 4.6      | 2.864     | 1.45         | nan       | 84.21  | 175,150 | 1.7\n",
       "California | 2         | cross-industry | 1235     | 11-2022  | Sales Managers                      | detailed | 90,390     | 2.1      | 5.468     | 1.70         | nan       | 69.27  | 144,090 | 1.0\n",
       "California | 2         | cross-industry | 1235     | 11-2032  | Public Relations Managers           | detailed | 7,490      | 7.8      | 0.453     | 1.07         | nan       | 68.61  | 142,720 | 2.0\n",
       "California | 2         | cross-industry | 1235     | 11-2033  | Fundraising Managers                | detailed | 2,230      | 7.2      | 0.135     | 0.82         | nan       | 62.97  | 130,970 | 3.6\n",
       "... (824 rows omitted)"
      ]
     },
     "execution_count": 13,
     "metadata": {},
     "output_type": "execute_result"
    }
   ],
   "source": [
    "# keeping areas that are only in California \n",
    "cali = new_occ_wages.where(\"AREA_TITLE\", \"California\")\n",
    "cali"
   ]
  },
  {
   "cell_type": "markdown",
   "id": "4925fa96",
   "metadata": {},
   "source": [
    "#### Removing Nonnumeric Values\n",
    "\n",
    "While looking at the table, you also may have noticed that there are nonnumeric values in columns that have numeric values (See column `H_MEAN`). When computing values such as the mean of a column, we want to get rid of nonnumeric numbers that can interfere with the computation such as * or # that may be used as temporary values.      "
   ]
  },
  {
   "cell_type": "markdown",
   "id": "83cb046d",
   "metadata": {},
   "source": [
    "**Question 2:** In the cell below, use the `where` function to drop any rows that contain `*` or `#` in the `H_MEAN` column. \n",
    "\n",
    "*Hint: use are.not_equal_to(\"character\")*"
   ]
  },
  {
   "cell_type": "code",
   "execution_count": 14,
   "id": "01cd4196",
   "metadata": {},
   "outputs": [
    {
     "data": {
      "text/html": [
       "<table border=\"1\" class=\"dataframe\">\n",
       "    <thead>\n",
       "        <tr>\n",
       "            <th>AREA_TITLE</th> <th>AREA_TYPE</th> <th>I_GROUP</th> <th>OWN_CODE</th> <th>OCC_CODE</th> <th>OCC_TITLE</th> <th>O_GROUP</th> <th>TOT_EMP</th> <th>EMP_PRSE</th> <th>JOBS_1000</th> <th>LOC_QUOTIENT</th> <th>PCT_TOTAL</th> <th>H_MEAN</th> <th>A_MEAN</th> <th>MEAN_PRSE</th>\n",
       "        </tr>\n",
       "    </thead>\n",
       "    <tbody>\n",
       "        <tr>\n",
       "            <td>California</td> <td>2        </td> <td>cross-industry</td> <td>1235    </td> <td>00-0000 </td> <td>All Occupations                    </td> <td>total   </td> <td>16,529,810</td> <td>0.0     </td> <td>1000.000 </td> <td>1.00        </td> <td>nan      </td> <td>32.94 </td> <td>68,510 </td> <td>0.2      </td>\n",
       "        </tr>\n",
       "        <tr>\n",
       "            <td>California</td> <td>2        </td> <td>cross-industry</td> <td>1235    </td> <td>11-0000 </td> <td>Management Occupations             </td> <td>major   </td> <td>1,199,620 </td> <td>0.7     </td> <td>72.573   </td> <td>1.15        </td> <td>nan      </td> <td>68.00 </td> <td>141,440</td> <td>0.5      </td>\n",
       "        </tr>\n",
       "        <tr>\n",
       "            <td>California</td> <td>2        </td> <td>cross-industry</td> <td>1235    </td> <td>11-1011 </td> <td>Chief Executives                   </td> <td>detailed</td> <td>33,930    </td> <td>5.1     </td> <td>2.053    </td> <td>1.44        </td> <td>nan      </td> <td>110.93</td> <td>230,730</td> <td>2.7      </td>\n",
       "        </tr>\n",
       "        <tr>\n",
       "            <td>California</td> <td>2        </td> <td>cross-industry</td> <td>1235    </td> <td>11-1021 </td> <td>General and Operations Managers    </td> <td>detailed</td> <td>286,030   </td> <td>1.2     </td> <td>17.304   </td> <td>0.82        </td> <td>nan      </td> <td>63.02 </td> <td>131,080</td> <td>0.7      </td>\n",
       "        </tr>\n",
       "        <tr>\n",
       "            <td>California</td> <td>2        </td> <td>cross-industry</td> <td>1235    </td> <td>11-2011 </td> <td>Advertising and Promotions Managers</td> <td>detailed</td> <td>3,750     </td> <td>13.4    </td> <td>0.227    </td> <td>1.42        </td> <td>nan      </td> <td>73.31 </td> <td>152,490</td> <td>3.8      </td>\n",
       "        </tr>\n",
       "        <tr>\n",
       "            <td>California</td> <td>2        </td> <td>cross-industry</td> <td>1235    </td> <td>11-2021 </td> <td>Marketing Managers                 </td> <td>detailed</td> <td>47,350    </td> <td>4.6     </td> <td>2.864    </td> <td>1.45        </td> <td>nan      </td> <td>84.21 </td> <td>175,150</td> <td>1.7      </td>\n",
       "        </tr>\n",
       "        <tr>\n",
       "            <td>California</td> <td>2        </td> <td>cross-industry</td> <td>1235    </td> <td>11-2022 </td> <td>Sales Managers                     </td> <td>detailed</td> <td>90,390    </td> <td>2.1     </td> <td>5.468    </td> <td>1.70        </td> <td>nan      </td> <td>69.27 </td> <td>144,090</td> <td>1.0      </td>\n",
       "        </tr>\n",
       "        <tr>\n",
       "            <td>California</td> <td>2        </td> <td>cross-industry</td> <td>1235    </td> <td>11-2032 </td> <td>Public Relations Managers          </td> <td>detailed</td> <td>7,490     </td> <td>7.8     </td> <td>0.453    </td> <td>1.07        </td> <td>nan      </td> <td>68.61 </td> <td>142,720</td> <td>2.0      </td>\n",
       "        </tr>\n",
       "        <tr>\n",
       "            <td>California</td> <td>2        </td> <td>cross-industry</td> <td>1235    </td> <td>11-2033 </td> <td>Fundraising Managers               </td> <td>detailed</td> <td>2,230     </td> <td>7.2     </td> <td>0.135    </td> <td>0.82        </td> <td>nan      </td> <td>62.97 </td> <td>130,970</td> <td>3.6      </td>\n",
       "        </tr>\n",
       "        <tr>\n",
       "            <td>California</td> <td>2        </td> <td>cross-industry</td> <td>1235    </td> <td>11-3012 </td> <td>Administrative Services Managers   </td> <td>detailed</td> <td>33,040    </td> <td>2.9     </td> <td>1.999    </td> <td>1.25        </td> <td>nan      </td> <td>55.43 </td> <td>115,290</td> <td>1.5      </td>\n",
       "        </tr>\n",
       "    </tbody>\n",
       "</table>\n",
       "<p>... (760 rows omitted)</p>"
      ],
      "text/plain": [
       "AREA_TITLE | AREA_TYPE | I_GROUP        | OWN_CODE | OCC_CODE | OCC_TITLE                           | O_GROUP  | TOT_EMP    | EMP_PRSE | JOBS_1000 | LOC_QUOTIENT | PCT_TOTAL | H_MEAN | A_MEAN  | MEAN_PRSE\n",
       "California | 2         | cross-industry | 1235     | 00-0000  | All Occupations                     | total    | 16,529,810 | 0.0      | 1000.000  | 1.00         | nan       | 32.94  | 68,510  | 0.2\n",
       "California | 2         | cross-industry | 1235     | 11-0000  | Management Occupations              | major    | 1,199,620  | 0.7      | 72.573    | 1.15         | nan       | 68.00  | 141,440 | 0.5\n",
       "California | 2         | cross-industry | 1235     | 11-1011  | Chief Executives                    | detailed | 33,930     | 5.1      | 2.053     | 1.44         | nan       | 110.93 | 230,730 | 2.7\n",
       "California | 2         | cross-industry | 1235     | 11-1021  | General and Operations Managers     | detailed | 286,030    | 1.2      | 17.304    | 0.82         | nan       | 63.02  | 131,080 | 0.7\n",
       "California | 2         | cross-industry | 1235     | 11-2011  | Advertising and Promotions Managers | detailed | 3,750      | 13.4     | 0.227     | 1.42         | nan       | 73.31  | 152,490 | 3.8\n",
       "California | 2         | cross-industry | 1235     | 11-2021  | Marketing Managers                  | detailed | 47,350     | 4.6      | 2.864     | 1.45         | nan       | 84.21  | 175,150 | 1.7\n",
       "California | 2         | cross-industry | 1235     | 11-2022  | Sales Managers                      | detailed | 90,390     | 2.1      | 5.468     | 1.70         | nan       | 69.27  | 144,090 | 1.0\n",
       "California | 2         | cross-industry | 1235     | 11-2032  | Public Relations Managers           | detailed | 7,490      | 7.8      | 0.453     | 1.07         | nan       | 68.61  | 142,720 | 2.0\n",
       "California | 2         | cross-industry | 1235     | 11-2033  | Fundraising Managers                | detailed | 2,230      | 7.2      | 0.135     | 0.82         | nan       | 62.97  | 130,970 | 3.6\n",
       "California | 2         | cross-industry | 1235     | 11-3012  | Administrative Services Managers    | detailed | 33,040     | 2.9      | 1.999     | 1.25         | nan       | 55.43  | 115,290 | 1.5\n",
       "... (760 rows omitted)"
      ]
     },
     "execution_count": 14,
     "metadata": {},
     "output_type": "execute_result"
    }
   ],
   "source": [
    "# using the cali Table, we are getting rid of the two nonnumeric values * and #\n",
    "# now, we have a cali_updated table that we can use to make computations\n",
    "\n",
    "cali_updated = cali.where(\"H_MEAN\", are.not_equal_to(\"*\"))\n",
    "cali_updated = cali_updated.where(\"H_MEAN\", are.not_equal_to(\"#\"))\n",
    "cali_updated"
   ]
  },
  {
   "cell_type": "markdown",
   "id": "f2ba6fa9",
   "metadata": {},
   "source": [
    "#### Changing the Type of a Column\n",
    "\n",
    "Sometimes, the type of a column may not be what we want. For instance, we cannot compute the mean of string values, so we would need to convert the type of the column to a float or int. \n",
    "\n",
    "First, let's see what the Object type the values of the H_MEAN (hourly wage) column is. "
   ]
  },
  {
   "cell_type": "code",
   "execution_count": 15,
   "id": "80446438",
   "metadata": {},
   "outputs": [
    {
     "data": {
      "text/plain": [
       "numpy.str_"
      ]
     },
     "execution_count": 15,
     "metadata": {},
     "output_type": "execute_result"
    }
   ],
   "source": [
    "temp_type = type(cali_updated.column(\"H_MEAN\")[1])\n",
    "temp_type"
   ]
  },
  {
   "cell_type": "markdown",
   "id": "89e70a0d",
   "metadata": {},
   "source": [
    "The type of the values in the H_MEAN column are strings instead of floats. That means we will get an error when trying to compute the value of the column. "
   ]
  },
  {
   "cell_type": "markdown",
   "id": "a2353484",
   "metadata": {},
   "source": [
    "**Question 3:** In the cell below, update the `H_MEAN` column values by changing their type into a float. Float objects represent real numbers and is written with a decimal point.\n",
    "\n",
    "*Hint: Table[\"column_name\"] = Table[\"column_name\"].astype(float)*"
   ]
  },
  {
   "cell_type": "code",
   "execution_count": 17,
   "id": "517b7e09",
   "metadata": {},
   "outputs": [
    {
     "data": {
      "text/plain": [
       "array([ 32.94,  68.  , 110.93,  63.02,  73.31,  84.21,  69.27,  68.61,\n",
       "        62.97,  55.43,  52.69,  93.03,  79.91,  61.63,  69.9 ,  53.07,\n",
       "        71.96,  74.25,  70.92,  44.03,  59.06,  27.98,  62.03,  50.62,\n",
       "        90.28,  30.45,  51.83,  33.52,  34.73,  63.55,  92.67,  41.06,\n",
       "        35.34,  40.75,  54.76,  39.4 ,  28.25,  77.29,  43.31,  62.95,\n",
       "        36.51,  37.63,  35.59,  41.36,  39.19,  39.12,  27.15,  40.59,\n",
       "        42.72,  52.4 ,  48.8 ,  31.39,  35.96,  39.55,  37.26,  41.9 ,\n",
       "        39.85,  44.63,  40.51,  44.91,  44.25,  51.95,  60.81,  42.79,\n",
       "        57.17,  51.39,  27.53,  39.71,  34.29,  28.91,  43.76,  58.75,\n",
       "        57.44,  65.  ,  35.85,  34.51,  62.14,  51.08,  62.65,  50.85,\n",
       "        55.16,  70.56,  55.49,  45.22,  52.07,  53.85,  56.03,  56.28,\n",
       "        47.7 ,  54.98,  64.  ,  37.88,  52.18,  48.46,  43.12,  44.08,\n",
       "        47.44,  64.48,  44.49,  50.82,  46.6 ,  52.83,  81.72,  60.89,\n",
       "        62.66,  55.37,  57.39,  52.63,  54.85,  54.21,  54.39,  67.87,\n",
       "        70.7 ,  76.92,  56.73,  31.8 ,  35.17,  34.4 ,  29.94,  39.62,\n",
       "        35.59,  35.53,  30.54,  33.8 ,  33.38,  33.59,  31.31,  32.91,\n",
       "        34.47,  43.38,  85.3 ,  40.1 ,  42.61,  56.36,  48.09,  37.69,\n",
       "        47.5 ,  36.57,  37.55,  44.96,  57.95,  52.05,  84.53,  83.39,\n",
       "        57.71,  41.31,  51.98,  45.36,  50.61,  55.16,  60.81,  66.04,\n",
       "        33.59,  59.18,  59.03,  46.41,  53.95,  49.15,  46.88,  35.59,\n",
       "        43.38,  39.83,  57.29,  37.85,  24.49,  23.64,  26.52,  24.74,\n",
       "        25.3 ,  34.61,  33.65,  28.43,  21.29,  43.41,  29.51,  38.18,\n",
       "        28.23,  30.68,  39.22,  28.52,  20.71,  28.74,  22.57,  31.22,\n",
       "        40.72,  38.2 ,  32.95,  33.97,  45.51,  23.26,  25.93,  27.2 ,\n",
       "        34.32,  27.38,  22.87,  65.92,  84.91,  32.64,  64.42,  99.42,\n",
       "        33.79,  32.95,  29.12,  36.3 ,  39.85,  20.29,  40.9 ,  26.6 ,\n",
       "        21.45,  19.12,  29.31,  38.79,  27.26,  38.82,  22.94,  34.61,\n",
       "        36.63,  26.9 ,  40.32,  69.23,  31.5 ,  31.57,  47.84,  36.45,\n",
       "        44.79,  44.41,  17.68,  33.7 ,  33.79,  18.44,  29.41,  50.45,\n",
       "        38.43,  65.75,  22.59,  33.21,  31.66,  48.53,  26.69,  27.68,\n",
       "        30.01,  29.27,  39.35,  38.25,  48.43,  53.42,  35.33,  40.25,\n",
       "        30.65,  30.24,  22.35,  37.17,  24.65,  25.92,  30.63,  39.43,\n",
       "        28.11,  55.4 ,  39.82,  79.78, 118.15,  87.3 ,  39.61,  61.8 ,\n",
       "        70.26,  65.83,  78.99,  50.85,  49.77,  66.54,  34.32,  44.55,\n",
       "        49.35,  36.56,  60.91,  59.62, 111.8 ,  65.9 ,  72.99,  51.41,\n",
       "       152.9 , 165.08, 134.66, 125.61, 116.47, 107.4 , 148.85,  95.19,\n",
       "       168.74, 146.78, 165.91, 110.3 , 169.03,  36.63,  52.02,  52.19,\n",
       "        32.91,  37.18,  52.57,  60.06,  45.75,  52.2 ,  77.29,  20.4 ,\n",
       "        27.97,  20.95,  24.04,  26.85,  32.89,  21.7 ,  24.53,  31.32,\n",
       "        27.86,  25.69,  43.04,  29.11,  27.85,  41.75,  55.72,  33.48,\n",
       "        33.3 ,  17.22,  15.26,  19.12,  21.8 ,  22.31,  36.1 ,  24.16,\n",
       "        35.17,  16.38,  25.94,  22.15,  21.53,  26.89,  16.45,  22.68,\n",
       "        17.48,  23.11,  23.32,  31.33,  52.6 ,  72.48,  59.67,  27.41,\n",
       "        37.07,  38.94,  37.07,  48.46,  38.34,  39.03,  51.75,  39.48,\n",
       "        28.54,  49.48,  33.62,  26.66,  31.33,  16.79,  18.37,  22.41,\n",
       "        17.25,  25.01,  17.84,  20.13,  17.1 ,  29.17,  21.78,  15.35,\n",
       "        19.97,  21.71,  18.26,  16.26,  18.83,  16.7 ,  18.3 ,  15.61,\n",
       "        17.35,  17.67,  15.81,  15.44,  15.61,  15.99,  19.04,  25.45,\n",
       "        29.33,  17.99,  17.83,  20.77,  21.08,  19.36,  20.97,  27.25,\n",
       "        19.27,  18.82,  28.31,  24.57,  25.08,  20.14,  17.05,  16.11,\n",
       "        15.57,  17.05,  24.37,  16.14,  15.4 ,  27.06,  18.74,  16.46,\n",
       "        26.56,  18.64,  18.75,  24.15,  21.08,  18.65,  65.55,  15.59,\n",
       "        14.32,  21.55,  16.4 ,  18.28,  18.74,  17.02,  26.68,  17.05,\n",
       "        19.66,  16.33,  24.94,  23.65,  40.51,  15.7 ,  15.15,  18.94,\n",
       "        19.28,  17.46,  36.58,  38.12,  40.31,  24.25,  37.62,  56.25,\n",
       "        37.4 ,  19.56,  56.65,  36.75,  65.44,  17.2 ,  17.6 ,  28.12,\n",
       "        23.78,  33.39,  21.58,  23.06,  23.37,  23.19,  24.56,  15.67,\n",
       "        27.02,  23.69,  19.14,  28.47,  28.11,  20.75,  26.78,  22.58,\n",
       "        21.34,  26.76,  20.26,  16.49,  22.36,  21.49,  24.05,  23.92,\n",
       "        20.54,  24.05,  18.1 ,  22.11,  24.06,  24.69,  18.47,  34.05,\n",
       "        23.2 ,  29.17,  26.8 ,  26.87,  24.78,  26.34,  19.75,  19.33,\n",
       "        36.17,  30.36,  22.31,  23.04,  19.18,  22.32,  26.13,  24.44,\n",
       "        18.32,  21.04,  19.87,  26.62,  27.8 ,  24.  ,  16.08,  25.29,\n",
       "        24.97,  28.84,  15.11,  17.32,  15.28,  17.93,  20.98,  15.15,\n",
       "        35.33,  26.79,  22.63,  22.26,  31.95,  43.08,  48.23,  33.84,\n",
       "        29.82,  31.57,  25.72,  30.97,  23.84,  27.25,  29.16,  26.24,\n",
       "        25.38,  33.06,  45.07,  37.65,  32.84,  30.89,  36.48,  30.06,\n",
       "        25.63,  41.91,  25.98,  25.63,  27.77,  34.62,  29.71,  32.44,\n",
       "        29.12,  34.14,  34.07,  24.72,  22.68,  21.58,  21.23,  18.92,\n",
       "        21.35,  19.15,  20.08,  43.76,  54.1 ,  22.72,  26.8 ,  26.32,\n",
       "        34.39,  25.32,  29.19,  27.02,  37.93,  30.02,  34.05,  28.6 ,\n",
       "        29.52,  29.83,  34.57,  26.41,  34.01,  27.73,  23.66,  26.13,\n",
       "        28.69,  40.2 ,  23.23,  34.45,  32.35,  36.8 ,  25.64,  35.04,\n",
       "        35.08,  50.83,  22.31,  25.9 ,  28.74,  37.17,  27.62,  19.39,\n",
       "        26.05,  29.35,  24.07,  31.82,  31.68,  24.2 ,  24.35,  22.38,\n",
       "        17.83,  26.29,  18.32,  23.59,  38.56,  29.65,  23.23,  31.59,\n",
       "        28.74,  32.91,  49.11,  35.81,  20.03,  33.49,  21.99,  24.91,\n",
       "        27.22,  24.28,  31.57,  20.72,  77.5 ,  25.45,  30.81,  40.38,\n",
       "        19.32,  22.49,  21.83,  33.9 ,  24.53,  21.55,  21.08,  23.08,\n",
       "        22.9 ,  20.08,  18.73,  17.75,  18.44,  15.63,  15.27,  19.48,\n",
       "        17.56,  16.8 ,  17.16,  19.17,  22.56,  21.94,  20.1 ,  23.03,\n",
       "        19.39,  23.68,  24.54,  25.02,  23.82,  18.71,  32.67,  19.13,\n",
       "        18.62,  20.05,  31.36,  25.22,  22.7 ,  21.85,  24.21,  20.39,\n",
       "        20.49,  19.48,  22.79,  21.19,  18.86,  16.32,  15.82,  15.99,\n",
       "        20.43,  15.81,  16.08,  18.14,  15.51,  15.83,  17.35,  20.52,\n",
       "        35.97,  18.73,  16.89,  21.67,  20.12,  18.46,  18.91,  19.45,\n",
       "        51.73,  47.53,  40.05,  35.14,  48.52,  44.18,  33.01,  25.26,\n",
       "        25.8 ,  21.56,  18.23,  22.35,  16.84,  20.1 ,  18.63,  20.6 ,\n",
       "        22.73,  24.83,  22.46,  24.24,  22.11,  19.1 ,  20.58,  23.23,\n",
       "        23.44,  22.12,  23.45,  37.16,  20.87,  17.8 ,  21.33,  19.  ,\n",
       "        21.41,  21.58,  17.27,  19.3 ,  21.22,  28.37,  28.98,  67.89,\n",
       "        22.36,  17.15,  18.9 ,  25.06,  22.28,  22.51,  27.62,  18.59,\n",
       "        15.71,  25.16,  36.88,  25.82,  29.96,  33.14,  31.81,  30.75,\n",
       "        25.19,  49.96,  26.91,  27.83,  16.14,  16.38,  18.95,  32.58,\n",
       "        32.95,  16.66,  25.51,  18.71,  38.97,  34.34,  33.81,  20.69,\n",
       "        16.24,  18.24,  19.16,  16.4 ,  17.84,  34.84,  24.54,  27.22,\n",
       "        27.87,  17.64])"
      ]
     },
     "execution_count": 17,
     "metadata": {},
     "output_type": "execute_result"
    }
   ],
   "source": [
    "cali_updated[\"H_MEAN\"] = cali_updated[\"H_MEAN\"].astype(float) # answer\n",
    "cali_updated[\"H_MEAN\"]"
   ]
  },
  {
   "cell_type": "markdown",
   "id": "e5217b19",
   "metadata": {},
   "source": [
    "Now that our data is cleaned, let's explore our new table!  "
   ]
  },
  {
   "cell_type": "markdown",
   "id": "69cc7587",
   "metadata": {},
   "source": [
    "#### Mean of a Column\n",
    "\n",
    "Table.mean\n",
    "- Getting the mean value of a column  \n",
    "\n",
    "Let's say we want to get the mean hourly wage value for California. We already have our California dataset that has removed all the nonnumeric values in the H_MEAN column and changed the types to a float."
   ]
  },
  {
   "cell_type": "markdown",
   "id": "fe78d055",
   "metadata": {},
   "source": [
    "#### Exercise 2: Compute the mean hourly wage for California"
   ]
  },
  {
   "cell_type": "code",
   "execution_count": 10,
   "id": "15223c06",
   "metadata": {},
   "outputs": [
    {
     "data": {
      "text/plain": [
       "35.663155844155852"
      ]
     },
     "execution_count": 10,
     "metadata": {},
     "output_type": "execute_result"
    }
   ],
   "source": [
    "# hint: np.mean()\n",
    "\n",
    "np.mean(cali_updated.column(\"H_MEAN\")) # answer"
   ]
  },
  {
   "cell_type": "markdown",
   "id": "df30767d",
   "metadata": {},
   "source": [
    "#### Exercise 3: Find out which occupation title gets paid the most in California"
   ]
  },
  {
   "cell_type": "code",
   "execution_count": 11,
   "id": "9c339321",
   "metadata": {},
   "outputs": [
    {
     "data": {
      "text/html": [
       "<table border=\"1\" class=\"dataframe\">\n",
       "    <thead>\n",
       "        <tr>\n",
       "            <th>OCC_TITLE</th> <th>A_MEAN</th> <th>AREA_TITLE sum</th> <th>AREA_TYPE sum</th> <th>I_GROUP sum</th> <th>OWN_CODE sum</th> <th>OCC_CODE sum</th> <th>O_GROUP sum</th> <th>TOT_EMP sum</th> <th>EMP_PRSE sum</th> <th>JOBS_1000 sum</th> <th>LOC_QUOTIENT sum</th> <th>PCT_TOTAL sum</th> <th>H_MEAN sum</th> <th>MEAN_PRSE sum</th>\n",
       "        </tr>\n",
       "    </thead>\n",
       "    <tbody>\n",
       "        <tr>\n",
       "            <td>Accountants and Auditors                                    </td> <td>92,840 </td> <td>None          </td> <td>2            </td> <td>None       </td> <td>1235        </td> <td>None        </td> <td>None       </td> <td>None       </td> <td>None        </td> <td>None         </td> <td>None            </td> <td>nan          </td> <td>44.63     </td> <td>None         </td>\n",
       "        </tr>\n",
       "        <tr>\n",
       "            <td>Actors                                                      </td> <td>*      </td> <td>None          </td> <td>2            </td> <td>None       </td> <td>1235        </td> <td>None        </td> <td>None       </td> <td>None       </td> <td>None        </td> <td>None         </td> <td>None            </td> <td>nan          </td> <td>38.43     </td> <td>None         </td>\n",
       "        </tr>\n",
       "        <tr>\n",
       "            <td>Actuaries                                                   </td> <td>116,540</td> <td>None          </td> <td>2            </td> <td>None       </td> <td>1235        </td> <td>None        </td> <td>None       </td> <td>None       </td> <td>None        </td> <td>None         </td> <td>None            </td> <td>nan          </td> <td>56.03     </td> <td>None         </td>\n",
       "        </tr>\n",
       "        <tr>\n",
       "            <td>Acupuncturists                                              </td> <td>76,180 </td> <td>None          </td> <td>2            </td> <td>None       </td> <td>1235        </td> <td>None        </td> <td>None       </td> <td>None       </td> <td>None        </td> <td>None         </td> <td>None            </td> <td>nan          </td> <td>36.63     </td> <td>None         </td>\n",
       "        </tr>\n",
       "        <tr>\n",
       "            <td>Adhesive Bonding Machine Operators and Tenders              </td> <td>43,410 </td> <td>None          </td> <td>2            </td> <td>None       </td> <td>1235        </td> <td>None        </td> <td>None       </td> <td>None       </td> <td>None        </td> <td>None         </td> <td>None            </td> <td>nan          </td> <td>20.87     </td> <td>None         </td>\n",
       "        </tr>\n",
       "        <tr>\n",
       "            <td>Administrative Law Judges, Adjudicators, and Hearing Off ...</td> <td>133,980</td> <td>None          </td> <td>2            </td> <td>None       </td> <td>1235        </td> <td>None        </td> <td>None       </td> <td>None       </td> <td>None        </td> <td>None         </td> <td>None            </td> <td>nan          </td> <td>64.42     </td> <td>None         </td>\n",
       "        </tr>\n",
       "        <tr>\n",
       "            <td>Administrative Services Managers                            </td> <td>115,290</td> <td>None          </td> <td>2            </td> <td>None       </td> <td>1235        </td> <td>None        </td> <td>None       </td> <td>None       </td> <td>None        </td> <td>None         </td> <td>None            </td> <td>nan          </td> <td>55.43     </td> <td>None         </td>\n",
       "        </tr>\n",
       "        <tr>\n",
       "            <td>Adult Basic Education, Adult Secondary Education, and En ...</td> <td>85,060 </td> <td>None          </td> <td>2            </td> <td>None       </td> <td>1235        </td> <td>None        </td> <td>None       </td> <td>None       </td> <td>None        </td> <td>None         </td> <td>None            </td> <td>nan          </td> <td>40.9      </td> <td>None         </td>\n",
       "        </tr>\n",
       "        <tr>\n",
       "            <td>Advertising Sales Agents                                    </td> <td>76,090 </td> <td>None          </td> <td>2            </td> <td>None       </td> <td>1235        </td> <td>None        </td> <td>None       </td> <td>None       </td> <td>None        </td> <td>None         </td> <td>None            </td> <td>nan          </td> <td>36.58     </td> <td>None         </td>\n",
       "        </tr>\n",
       "        <tr>\n",
       "            <td>Advertising and Promotions Managers                         </td> <td>152,490</td> <td>None          </td> <td>2            </td> <td>None       </td> <td>1235        </td> <td>None        </td> <td>None       </td> <td>None       </td> <td>None        </td> <td>None         </td> <td>None            </td> <td>nan          </td> <td>73.31     </td> <td>None         </td>\n",
       "        </tr>\n",
       "    </tbody>\n",
       "</table>\n",
       "<p>... (760 rows omitted)</p>"
      ],
      "text/plain": [
       "OCC_TITLE                                                    | A_MEAN  | AREA_TITLE sum | AREA_TYPE sum | I_GROUP sum | OWN_CODE sum | OCC_CODE sum | O_GROUP sum | TOT_EMP sum | EMP_PRSE sum | JOBS_1000 sum | LOC_QUOTIENT sum | PCT_TOTAL sum | H_MEAN sum | MEAN_PRSE sum\n",
       "Accountants and Auditors                                     | 92,840  | None           | 2             | None        | 1235         | None         | None        | None        | None         | None          | None             | nan           | 44.63      | None\n",
       "Actors                                                       | *       | None           | 2             | None        | 1235         | None         | None        | None        | None         | None          | None             | nan           | 38.43      | None\n",
       "Actuaries                                                    | 116,540 | None           | 2             | None        | 1235         | None         | None        | None        | None         | None          | None             | nan           | 56.03      | None\n",
       "Acupuncturists                                               | 76,180  | None           | 2             | None        | 1235         | None         | None        | None        | None         | None          | None             | nan           | 36.63      | None\n",
       "Adhesive Bonding Machine Operators and Tenders               | 43,410  | None           | 2             | None        | 1235         | None         | None        | None        | None         | None          | None             | nan           | 20.87      | None\n",
       "Administrative Law Judges, Adjudicators, and Hearing Off ... | 133,980 | None           | 2             | None        | 1235         | None         | None        | None        | None         | None          | None             | nan           | 64.42      | None\n",
       "Administrative Services Managers                             | 115,290 | None           | 2             | None        | 1235         | None         | None        | None        | None         | None          | None             | nan           | 55.43      | None\n",
       "Adult Basic Education, Adult Secondary Education, and En ... | 85,060  | None           | 2             | None        | 1235         | None         | None        | None        | None         | None          | None             | nan           | 40.9       | None\n",
       "Advertising Sales Agents                                     | 76,090  | None           | 2             | None        | 1235         | None         | None        | None        | None         | None          | None             | nan           | 36.58      | None\n",
       "Advertising and Promotions Managers                          | 152,490 | None           | 2             | None        | 1235         | None         | None        | None        | None         | None          | None             | nan           | 73.31      | None\n",
       "... (760 rows omitted)"
      ]
     },
     "execution_count": 11,
     "metadata": {},
     "output_type": "execute_result"
    }
   ],
   "source": [
    "# # see who in California gets paid the most in an occupation title\n",
    "# using the OCC_TITLE and A_MEAN columns\n",
    "# hint: Table.groups([\"...\", \"...\"], method)\n",
    "\n",
    "occ_title_wage = cali_updated.groups([\"OCC_TITLE\", \"A_MEAN\"], sum) # answer\n",
    "occ_title_wage"
   ]
  },
  {
   "cell_type": "code",
   "execution_count": 12,
   "id": "28b29d1c",
   "metadata": {},
   "outputs": [
    {
     "data": {
      "text/html": [
       "<table border=\"1\" class=\"dataframe\">\n",
       "    <thead>\n",
       "        <tr>\n",
       "            <th>OCC_TITLE</th> <th>A_MEAN</th>\n",
       "        </tr>\n",
       "    </thead>\n",
       "    <tbody>\n",
       "        <tr>\n",
       "            <td>Accountants and Auditors                                    </td> <td>92,840 </td>\n",
       "        </tr>\n",
       "        <tr>\n",
       "            <td>Actors                                                      </td> <td>*      </td>\n",
       "        </tr>\n",
       "        <tr>\n",
       "            <td>Actuaries                                                   </td> <td>116,540</td>\n",
       "        </tr>\n",
       "        <tr>\n",
       "            <td>Acupuncturists                                              </td> <td>76,180 </td>\n",
       "        </tr>\n",
       "        <tr>\n",
       "            <td>Adhesive Bonding Machine Operators and Tenders              </td> <td>43,410 </td>\n",
       "        </tr>\n",
       "        <tr>\n",
       "            <td>Administrative Law Judges, Adjudicators, and Hearing Off ...</td> <td>133,980</td>\n",
       "        </tr>\n",
       "        <tr>\n",
       "            <td>Administrative Services Managers                            </td> <td>115,290</td>\n",
       "        </tr>\n",
       "        <tr>\n",
       "            <td>Adult Basic Education, Adult Secondary Education, and En ...</td> <td>85,060 </td>\n",
       "        </tr>\n",
       "        <tr>\n",
       "            <td>Advertising Sales Agents                                    </td> <td>76,090 </td>\n",
       "        </tr>\n",
       "        <tr>\n",
       "            <td>Advertising and Promotions Managers                         </td> <td>152,490</td>\n",
       "        </tr>\n",
       "    </tbody>\n",
       "</table>\n",
       "<p>... (760 rows omitted)</p>"
      ],
      "text/plain": [
       "OCC_TITLE                                                    | A_MEAN\n",
       "Accountants and Auditors                                     | 92,840\n",
       "Actors                                                       | *\n",
       "Actuaries                                                    | 116,540\n",
       "Acupuncturists                                               | 76,180\n",
       "Adhesive Bonding Machine Operators and Tenders               | 43,410\n",
       "Administrative Law Judges, Adjudicators, and Hearing Off ... | 133,980\n",
       "Administrative Services Managers                             | 115,290\n",
       "Adult Basic Education, Adult Secondary Education, and En ... | 85,060\n",
       "Advertising Sales Agents                                     | 76,090\n",
       "Advertising and Promotions Managers                          | 152,490\n",
       "... (760 rows omitted)"
      ]
     },
     "execution_count": 12,
     "metadata": {},
     "output_type": "execute_result"
    }
   ],
   "source": [
    "# we only want the first two columns\n",
    "# using Table.select(), create a new table to show only the first two columns\n",
    "\n",
    "occ_title_wage = occ_title_wage.select(\"OCC_TITLE\", \"A_MEAN\") # answer\n",
    "occ_title_wage"
   ]
  },
  {
   "cell_type": "code",
   "execution_count": 13,
   "id": "a31f5c50",
   "metadata": {},
   "outputs": [
    {
     "data": {
      "text/html": [
       "<table border=\"1\" class=\"dataframe\">\n",
       "    <thead>\n",
       "        <tr>\n",
       "            <th>OCC_TITLE</th> <th>A_MEAN</th>\n",
       "        </tr>\n",
       "    </thead>\n",
       "    <tbody>\n",
       "        <tr>\n",
       "            <td>Actors                                                      </td> <td>*      </td>\n",
       "        </tr>\n",
       "        <tr>\n",
       "            <td>Dancers                                                     </td> <td>*      </td>\n",
       "        </tr>\n",
       "        <tr>\n",
       "            <td>Disc Jockeys, Except Radio                                  </td> <td>*      </td>\n",
       "        </tr>\n",
       "        <tr>\n",
       "            <td>Entertainers and Performers, Sports and Related Workers, ...</td> <td>*      </td>\n",
       "        </tr>\n",
       "        <tr>\n",
       "            <td>Musicians and Singers                                       </td> <td>*      </td>\n",
       "        </tr>\n",
       "        <tr>\n",
       "            <td>Microbiologists                                             </td> <td>100,030</td>\n",
       "        </tr>\n",
       "        <tr>\n",
       "            <td>Boilermakers                                                </td> <td>100,310</td>\n",
       "        </tr>\n",
       "        <tr>\n",
       "            <td>Technical Writers                                           </td> <td>100,730</td>\n",
       "        </tr>\n",
       "        <tr>\n",
       "            <td>Architects, Except Landscape and Naval                      </td> <td>100,790</td>\n",
       "        </tr>\n",
       "        <tr>\n",
       "            <td>Forest Fire Inspectors and Prevention Specialists           </td> <td>100,800</td>\n",
       "        </tr>\n",
       "    </tbody>\n",
       "</table>\n",
       "<p>... (760 rows omitted)</p>"
      ],
      "text/plain": [
       "OCC_TITLE                                                    | A_MEAN\n",
       "Actors                                                       | *\n",
       "Dancers                                                      | *\n",
       "Disc Jockeys, Except Radio                                   | *\n",
       "Entertainers and Performers, Sports and Related Workers, ... | *\n",
       "Musicians and Singers                                        | *\n",
       "Microbiologists                                              | 100,030\n",
       "Boilermakers                                                 | 100,310\n",
       "Technical Writers                                            | 100,730\n",
       "Architects, Except Landscape and Naval                       | 100,790\n",
       "Forest Fire Inspectors and Prevention Specialists            | 100,800\n",
       "... (760 rows omitted)"
      ]
     },
     "execution_count": 13,
     "metadata": {},
     "output_type": "execute_result"
    }
   ],
   "source": [
    "# lets use the sort method to organize the annual mean wages in order from highest pay to lowest pay\n",
    "# hint: Table.sort()\n",
    "# hint: use the descending argument in the sort method \n",
    "\n",
    "occ_title_wage.sort(\"A_MEAN\", descending=False) # answer "
   ]
  },
  {
   "cell_type": "markdown",
   "id": "2ba7003f",
   "metadata": {},
   "source": [
    "*insert answer here:*\n",
    "\n",
    "From the table above, we can see that the Microbiologists occupation title has the highest annual wage in California. "
   ]
  },
  {
   "cell_type": "markdown",
   "id": "f67e613f",
   "metadata": {},
   "source": [
    "  "
   ]
  },
  {
   "cell_type": "code",
   "execution_count": 14,
   "id": "fd117c29",
   "metadata": {},
   "outputs": [],
   "source": [
    "# don't worry about this code chunk here\n",
    "# we want to get rid of the commas in the string values to use the column values as numeric values\n",
    "\n",
    "array = cali_updated[\"TOT_EMP\"]\n",
    "new_array = []\n",
    "\n",
    "for i in array:\n",
    "    i = i.replace(\",\",\"\")\n",
    "    new_array.append(i)\n",
    "\n",
    "cali_updated[\"TOT_EMP\"] = new_array\n",
    "cali_updated = cali_updated.where(\"TOT_EMP\", are.not_equal_to(\"**\"))"
   ]
  },
  {
   "cell_type": "markdown",
   "id": "19f7db65",
   "metadata": {},
   "source": [
    "#### Exercise 4: Correlation between Total Employment and Jobs per 1000"
   ]
  },
  {
   "cell_type": "code",
   "execution_count": 15,
   "id": "6f63f2d8",
   "metadata": {},
   "outputs": [],
   "source": [
    "# lets see if there is a specific group that might have positive/negative correlations "
   ]
  },
  {
   "cell_type": "code",
   "execution_count": 16,
   "id": "ad47ec1c",
   "metadata": {},
   "outputs": [
    {
     "data": {
      "text/plain": [
       "(numpy.str_, numpy.str_)"
      ]
     },
     "execution_count": 16,
     "metadata": {},
     "output_type": "execute_result"
    }
   ],
   "source": [
    "# first, we need to check to see what the type of the two columns are\n",
    "\n",
    "tot_emp = type(cali_updated.column(\"TOT_EMP\")[1]) \n",
    "jobs_1000 = type(cali_updated.column(\"JOBS_1000\")[1])\n",
    "\n",
    "tot_emp, jobs_1000 # answer"
   ]
  },
  {
   "cell_type": "code",
   "execution_count": 17,
   "id": "f94eb5a9",
   "metadata": {},
   "outputs": [],
   "source": [
    "# convert both column values to floats\n",
    "\n",
    "cali_updated[\"TOT_EMP\"] = cali_updated[\"TOT_EMP\"].astype(float) # answer\n",
    "cali_updated[\"JOBS_1000\"] = cali_updated[\"JOBS_1000\"].astype(float) # answer"
   ]
  },
  {
   "cell_type": "code",
   "execution_count": 18,
   "id": "44deead2",
   "metadata": {},
   "outputs": [
    {
     "data": {
      "image/png": "[encoded data removed]",
      "text/plain": [
       "<Figure size 432x432 with 1 Axes>"
      ]
     },
     "metadata": {
      "needs_background": "light"
     },
     "output_type": "display_data"
    }
   ],
   "source": [
    "# plot a graph to see if there is a correlation\n",
    "\n",
    "#pyplot.scatter(cali_updated[\"TOT_EMP\"], cali_updated[\"JOBS_1000\"]) \n",
    "\n",
    "cali_updated.plot(\"TOT_EMP\", \"JOBS_1000\")"
   ]
  },
  {
   "cell_type": "markdown",
   "id": "02ce315f",
   "metadata": {},
   "source": [
    "*insert conclusion here*\n",
    "\n",
    "As expected, it seems as though there is a positive correlation between the Total Employment and Jobs per 1000."
   ]
  },
  {
   "cell_type": "markdown",
   "id": "94951357",
   "metadata": {},
   "source": [
    "#### More Exploration\n",
    "\n",
    "Looking at the dataset, is there a question that you would like to explore?"
   ]
  },
  {
   "cell_type": "code",
   "execution_count": 19,
   "id": "aa143dba",
   "metadata": {},
   "outputs": [],
   "source": [
    "# question"
   ]
  },
  {
   "cell_type": "code",
   "execution_count": 20,
   "id": "249508ba",
   "metadata": {},
   "outputs": [],
   "source": [
    "# analysis"
   ]
  },
  {
   "cell_type": "code",
   "execution_count": 21,
   "id": "558a0b70",
   "metadata": {},
   "outputs": [],
   "source": [
    "# conclusion"
   ]
  },
  {
   "cell_type": "markdown",
   "id": "f79b38c9",
   "metadata": {},
   "source": [
    "### Data Science Opportunities \n",
    "* This section should include data science opportunities for students to explore more applications of data science in their field."
   ]
  },
  {
   "cell_type": "code",
   "execution_count": null,
   "id": "ad3f21c9",
   "metadata": {},
   "outputs": [],
   "source": []
  }
 ],
 "metadata": {
  "kernelspec": {
   "display_name": "Python 3 (ipykernel)",
   "language": "python",
   "name": "python3"
  },
  "language_info": {
   "codemirror_mode": {
    "name": "ipython",
    "version": 3
   },
   "file_extension": ".py",
   "mimetype": "text/x-python",
   "name": "python",
   "nbconvert_exporter": "python",
   "pygments_lexer": "ipython3",
   "version": "3.8.8"
  }
 },
 "nbformat": 4,
 "nbformat_minor": 5
}
