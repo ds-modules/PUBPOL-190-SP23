{
 "cells": [
  {
   "cell_type": "markdown",
   "id": "29708156-c164-491d-a9b4-63f7bd25dcc9",
   "metadata": {},
   "source": [
    "# [PUBPOL/ETHSTD C164A] 4. Data Cleaning and EDA\n",
    "\n",
    "**Estimated time:** 60-90 minutes\n",
    "\n",
    "**Notebook developed by:** <br>\n",
    "Team Lead: Skye Pickett  <br>\n",
    "Module Developers: Leah Hong, Emily Guo, Reynolds Zhang <br>\n",
    "\n",
    "\n",
    "### Learning Outcomes\n",
    "    \n",
    "In this notebook, you will learn about:\n",
    "- What un-cleaned/\"dirty\" data looks like\n",
    "- Why data cleaning matters\n",
    "- Attributes of data cleaning\n",
    "- Handling missing data\n",
    "- Creating hypotheses\n",
    "- Conducting EDA on cleaned data\n",
    "- Testing hypotheses\n",
    "\n",
    "\n",
    "\n",
    "### Table of Contents\n",
    "    \n",
    "1. [Introduction to Data Cleaning](#1.-Introduction-to-Data-Cleaning)\n",
    "1. [Data Cleaning Techniques](#2.-Data-Cleaning-Techniques) \n",
    "1. [Introduction to the Dataset](#3.-Introduction-to-the-Dataset) \n",
    "1. [Cleaning the Dataset](#4.-Cleaning-the-Dataset)\n",
    "1. [Exploratory Data Analysis](#5.-Exploratory-Data-Analysis) \n",
    "1. [Conclusion](#6.-Conclusion)\n",
    "1. [Submitting Your Work](#7.-Submitting-Your-Work)\n",
    "1. [Explore Data Science Opportunities](#8.-Explore-Data-Science-Opportunities)\n",
    "1. [Feedback Form](#9.-Feedback-Form)\n",
    "\n",
    "***"
   ]
  },
  {
   "cell_type": "markdown",
   "id": "a572eb06-9a9e-48ee-acb2-645cc375c99f",
   "metadata": {},
   "source": [
    "### Helpful Data Science Resources \n",
    "Here are some resources you can check out while doing this notebook and to explore data visualization further!\n",
    "- [DATA 8 Textbook](https://inferentialthinking.com/chapters/07/Visualization.html) - Visualization chapter\n",
    "- [Reference Sheet for the datascience Module](http://data8.org/sp22/python-reference.html)\n",
    "- [Documentation for the datascience Modules](http://data8.org/datascience/index.html)\n",
    "- [Cool Data Visualizations](https://www.tableau.com/learn/articles/best-beautiful-data-visualization-examples)\n",
    "- [Statistica: Find Data on Interesting Topics](https://www.statista.com/)\n",
    "- [Exploratory Data Analysis](https://en.wikipedia.org/wiki/Exploratory_data_analysis)\n"
   ]
  },
  {
   "cell_type": "markdown",
   "id": "9107bfd2-7970-4125-9e38-00a47eea1bd8",
   "metadata": {
    "jp-MarkdownHeadingCollapsed": true,
    "tags": []
   },
   "source": [
    "### Peer Consulting\n",
    "\n",
    "If you find yourself having trouble with any content in this notebook, Data Peer Consultants are an excellent resource! Click [here](https://dlab.berkeley.edu/training/frontdesk-info) to locate live help.\n",
    "\n",
    "Peer Consultants are there to answer all data-related questions, whether it be about the content of this notebook, applications of data science in the world, or other data science courses offered at Berkeley."
   ]
  },
  {
   "cell_type": "markdown",
   "id": "9547d777",
   "metadata": {},
   "source": [
    "***\n",
    "# 1. Introduction to Data Cleaning"
   ]
  },
  {
   "cell_type": "markdown",
   "id": "cf93e742-ffb7-446b-af89-75bedbada785",
   "metadata": {},
   "source": [
    "First, let's import all the necessary packages so we can use their tools in the rest of the notebook. Run the cell below."
   ]
  },
  {
   "cell_type": "code",
   "execution_count": null,
   "id": "459e1975-ea27-42bb-87ab-8fdf35655c95",
   "metadata": {},
   "outputs": [],
   "source": [
    "# Run this cell\n",
    "import numpy as np\n",
    "import pandas as pd\n",
    "import folium\n",
    "import ipywidgets as widgets\n",
    "from IPython.display import display, HTML\n",
    "from otter import Notebook\n",
    "from datascience import *\n",
    "import matplotlib.pyplot as plt\n",
    "%matplotlib inline\n",
    "plt.style.use('fivethirtyeight')\n",
    "import seaborn as sns\n",
    "import otter\n",
    "grader = otter.Notebook()\n",
    "print(\"All necessary packages have been imported!\")"
   ]
  },
  {
   "cell_type": "markdown",
   "id": "9b6eb38d-78e9-47e7-a748-33d248d9f922",
   "metadata": {
    "tags": []
   },
   "source": [
    "### 1.1 What is Data Cleaning?"
   ]
  },
  {
   "cell_type": "markdown",
   "id": "8d7d6ad8-5f4b-4fd9-8a0a-c54116c0bbb4",
   "metadata": {},
   "source": [
    "In this notebook, we will first focus on data cleaning. You will be given a collection of data to analyze and answer questions about. Prior to this, we need to make sure that the data is clean and ready so that we can understand the extent of our analyses found in EDA (Exploratory Data Analysis). \n",
    "\n",
    ">**Data cleaning** is the process of transforming raw data to improve understandability by addressing issues inside of a dataset. Through the process, we focus on the structure/format of the dataset, missing or corrupted values, unit conversion, and changing the *type* of collected values."
   ]
  },
  {
   "cell_type": "markdown",
   "id": "8e3d2cd2-05a3-4c20-a3ed-816af1e02a4f",
   "metadata": {},
   "source": [
    "#### Example of Un-Cleaned Data"
   ]
  },
  {
   "cell_type": "markdown",
   "id": "8684dd84-f7b1-4f9f-9f5f-b437bce997ba",
   "metadata": {},
   "source": [
    "<img src=\"Data/dirty_dataset.png\" alt=\"Dirty Dataset\"/>"
   ]
  },
  {
   "cell_type": "markdown",
   "id": "7546a087-1ea0-4d3a-8c04-ddefd0c4fc30",
   "metadata": {},
   "source": [
    "<!-- BEGIN QUESTION -->\n",
    "\n",
    "<font color = #d14d0f>\n",
    "\n",
    "#### Question 1:\n",
    "   \n",
    "What seems wrong in the dataset pictured above? Observe issues within at least 3 different columns."
   ]
  },
  {
   "cell_type": "markdown",
   "id": "5a24fc24-86b4-4c6d-8623-89e5df10e513",
   "metadata": {},
   "source": [
    "*Type your answer here. Double-click to edit this cell. Run this cell to proceed when finished.*"
   ]
  },
  {
   "cell_type": "markdown",
   "id": "d8b9a4fe",
   "metadata": {},
   "source": [
    "<!-- END QUESTION -->\n",
    "#### Example: Cleaned Dataset vs Uncleaned Dataset"
   ]
  },
  {
   "cell_type": "code",
   "execution_count": null,
   "id": "1a672fd3",
   "metadata": {},
   "outputs": [],
   "source": [
    "elections = Table.read_table(\"Data/elections.csv\")\n",
    "elections.show(10)"
   ]
  },
  {
   "cell_type": "markdown",
   "id": "fa465462",
   "metadata": {},
   "source": [
    "The dataset `elections` is an example of a cleaned dataset that is ready for EDA. When looking at the column names and values, we see that the observations are clear and easy to manipulate for data analysis. \n",
    "\n",
    "Now, observe the `police_calls` dataset."
   ]
  },
  {
   "cell_type": "code",
   "execution_count": null,
   "id": "d2dcf5d6",
   "metadata": {},
   "outputs": [],
   "source": [
    "police_calls = Table.read_table(\"Data/berkeleyPDcalls.csv\")\n",
    "police_calls.show(10)"
   ]
  },
  {
   "cell_type": "markdown",
   "id": "f895d43f",
   "metadata": {},
   "source": [
    "Looking at the column names first, users looking at the data may not know what *EVENTTTM*, *CVLEGEND*, and *CVDOW* stand for. Then looking at the column values with numerical values such as *EVENTTM* or *InDbDate*, the observation values are difficult to compute analysis with. For *EVENTTM*, looking at just the hour value may be easier for data manipulation. Another observation is that the *Block_Location* and *BLKADDR* both contain the street names which is repetitive. These are a couple of key observations that we may need to change when cleaning our dataset to be ready for EDA. "
   ]
  },
  {
   "cell_type": "markdown",
   "id": "16582d15-ae83-4663-9f0c-3ba22dba10b5",
   "metadata": {
    "tags": []
   },
   "source": [
    "### 1.2 Significance of Data Cleaning"
   ]
  },
  {
   "cell_type": "markdown",
   "id": "7d003fc8-862c-4fd7-a1c3-27770f11e470",
   "metadata": {},
   "source": [
    "When working with a dataset, we will create numerical computations to various column values to calculate important statistical values (i.e. the mean, standard deviation). Therefore, to make the column values usable, we need to manipulate them for later EDA. \n",
    "\n",
    "Within many datasets, there can be repetitive values or null values (i.e. NaN, blank spaces). These values can interfere with our analysis and create bias or errors. Thus, ensuring that we remove potential errors when working with data sources is significant. As a result of data cleaning, we can monitor the errors in a dataset and even see where they result from to know for future use.\n",
    "\n",
    "Ultimately, data cleaning allows users to identify errors, duplicates, or irrelevant data within a dataset in order to map the different functions and what your data is intended to do."
   ]
  },
  {
   "cell_type": "markdown",
   "id": "4897da7c",
   "metadata": {
    "tags": []
   },
   "source": [
    "***\n",
    "# 2. Data Cleaning Techniques\n",
    "\n"
   ]
  },
  {
   "cell_type": "markdown",
   "id": "082bbd7c",
   "metadata": {},
   "source": [
    "Now, we are going to learn some data cleaning techniques; the famous titanic dataset is used for demo purpose."
   ]
  },
  {
   "cell_type": "code",
   "execution_count": null,
   "id": "e7e11d20",
   "metadata": {},
   "outputs": [],
   "source": [
    "titanic_dataset = Table.read_table(\"Data/titanic_dataset.csv\")\n",
    "titanic_dataset.show(5)"
   ]
  },
  {
   "cell_type": "markdown",
   "id": "19d386fe-372f-4eec-9365-26ffb5a728c2",
   "metadata": {
    "tags": []
   },
   "source": [
    "### 2.1 Handling Missing Data"
   ]
  },
  {
   "cell_type": "markdown",
   "id": "fa333811-de61-416b-ae0e-006c5c4cc356",
   "metadata": {},
   "source": [
    " #### What is missing data and what can it look like?\n",
    "A missing value in a relational database refers to an unknown or missing value in a column. Missing values are usually represented as null values, empty strings, 0s, and NaN.\n",
    "\n",
    "In this example, by looking at the `Age` column, we can see that it contains 3 missing values:`-`, `na` and `nan`."
   ]
  },
  {
   "cell_type": "code",
   "execution_count": null,
   "id": "2917155f",
   "metadata": {},
   "outputs": [],
   "source": [
    "# get the first 10 elements of the 'Age' Numpy array\n",
    "titanic_dataset.column('Age')[:10] "
   ]
  },
  {
   "cell_type": "markdown",
   "id": "4de58c26",
   "metadata": {},
   "source": [
    "In the `Pandas` library, there is a helpful function called `is_null`. In the `datascience` library (that we are using), this doesn't exist. However, in the cell below we made our own version of the \"is_null\" function specific to the null values present in `titanic_dataset`.\n",
    "> The below cell returns whether the `Age` value for each row is null/missing."
   ]
  },
  {
   "cell_type": "code",
   "execution_count": null,
   "id": "987ca446",
   "metadata": {},
   "outputs": [],
   "source": [
    "is_null_array = []\n",
    "for age in titanic_dataset['Age']:\n",
    "    is_null_array.append(age == 'nan' or age == 'na' or age == '-')\n",
    "np.array(is_null_array)"
   ]
  },
  {
   "cell_type": "markdown",
   "id": "fdf2c9ac-8353-4224-b22d-a22e48eea232",
   "metadata": {},
   "source": [
    "#### Dealing with null data\n",
    "Now that we have identified all null values, how are we going to deal with them as missing values? This is dependent on the context of the data. Here are a few different solutions:\n",
    "\n",
    "#### Solution 1: Drop the observation (row) / feature (column)\n",
    "If we are sure that the missing data is not useful for our EDA or that the missing data is only a small portion of the data, we can drop the rows that contain missing values. If we are confident that this feature (column) does not provide useful information for our EDA or that the percentage of missing values is high, we can drop the entire column. This is very useful when doing statistical analysis, since filling in the missing values may yield unexpected or biased results."
   ]
  },
  {
   "cell_type": "markdown",
   "id": "320eb8b7-9ae7-4833-af98-2797aaee116e",
   "metadata": {},
   "source": [
    "#### Solution 2: Impute the missing values\n",
    "Imputing the missing values means that we make calculations based on the other data to fill the missing values.\n",
    "\n",
    "For example, we can compute missing values for age with the date of birth by subtracting their birth year by the current year. This solution would be accurately imputing the values.\n",
    "\n",
    "However, in many cases, we do not have the date of birth or an alternate representation of the data. We can then replace the missing values with the mean, median, or mode of the data."
   ]
  },
  {
   "cell_type": "markdown",
   "id": "c8386f09-b622-4667-b324-60d25bc95f2f",
   "metadata": {},
   "source": [
    "#### When to choose the mode:\n",
    "When we have categorical data, we will often choose the mode to represent missing values. We can't find the mean or median of categorical data (for example, finding the mean of 'Strawberry', 'Banana', and 'Orange' doesn't make sense)."
   ]
  },
  {
   "cell_type": "markdown",
   "id": "31a4b6ac-4bf7-433d-886f-581fcfe085ff",
   "metadata": {},
   "source": [
    "#### Choose between mean and median: \n",
    "The **mean** is most useful when the data is not skewed because the mean is sensitive/easily influenced by outliers.\n",
    "\n",
    "The **median** is more robust and is not sensitive to outliers. Thus when the data is skewed, we want to use the median. "
   ]
  },
  {
   "cell_type": "markdown",
   "id": "e6885e11-dd2f-46ad-8250-a97a51301294",
   "metadata": {
    "tags": []
   },
   "source": [
    "### 2.2 Understanding Column Names"
   ]
  },
  {
   "cell_type": "markdown",
   "id": "5189b4c3-18e3-4ffd-bfad-f0aae597d928",
   "metadata": {},
   "source": [
    "In some cases, the column name may be an abbreviation, a long phrase, or a database-specific term. In these cases, we would want to replace the column names with more user-friendly names for understandability and ease during EDA."
   ]
  },
  {
   "cell_type": "markdown",
   "id": "cf490525-7479-4b0d-857f-330a777c85e9",
   "metadata": {
    "tags": []
   },
   "source": [
    "### 2.3 Manipulating Columns"
   ]
  },
  {
   "cell_type": "markdown",
   "id": "119d0ada-26cd-4bca-b329-63c455950a9b",
   "metadata": {},
   "source": [
    "#### Dropping unnecessary columns with “drop”\n",
    "We have learned `drop` in the previous notebooks. In the below cell, we dropped the column \"OnboardTime\"."
   ]
  },
  {
   "cell_type": "code",
   "execution_count": null,
   "id": "349c9546",
   "metadata": {},
   "outputs": [],
   "source": [
    "titanic_dataset.drop(\"OnboardTime\")"
   ]
  },
  {
   "cell_type": "markdown",
   "id": "766a2ba1-f98a-424d-8d2c-2d474de4bcaa",
   "metadata": {},
   "source": [
    "If you wish to drop multiple columns, you may include more column names in the argument (between the parentheses) separated by a comma  (ie, `.drop(\"OnboardTime\", \"Sex\")`).\n",
    "\n",
    "If you wish to *change the actual table*, you will need to reassign the table name to the dropped table. By default, `drop` just creates a copy of the table and doesn't modify the original."
   ]
  },
  {
   "cell_type": "markdown",
   "id": "bab0a993-0751-49a2-98af-6572eaeda00e",
   "metadata": {
    "tags": []
   },
   "source": [
    "### 2.4 Mapping Table Values"
   ]
  },
  {
   "cell_type": "markdown",
   "id": "501f019b-eb16-4824-bc47-34a26a52e905",
   "metadata": {},
   "source": [
    "Sometimes, the values of some inputs that should be unified may not be unified. Use `np.unique()` to find all unique values present in a column of the table."
   ]
  },
  {
   "cell_type": "code",
   "execution_count": null,
   "id": "bae29db0",
   "metadata": {},
   "outputs": [],
   "source": [
    "np.unique(titanic_dataset[\"Sex\"])"
   ]
  },
  {
   "cell_type": "markdown",
   "id": "a4b80b77",
   "metadata": {},
   "source": [
    "In the example above, we found that there are “male, m, M, F, f, female, Female” values in the column `Sex`, which makes the column difficult to use. If we unify the values, it will be easier for data manipulation."
   ]
  },
  {
   "cell_type": "code",
   "execution_count": null,
   "id": "3adbabb4",
   "metadata": {},
   "outputs": [],
   "source": [
    "titanic_dataset.group(\"Sex\").barh(\"Sex\")\n",
    "plt.xlim(0, 100)\n",
    "# this is a truncated graph only showing counts up to 100"
   ]
  },
  {
   "cell_type": "markdown",
   "id": "2a692794-8426-4bc3-8370-2be6c292de0e",
   "metadata": {},
   "source": [
    "Now, what we want to do is change the input data to the two unified values (for instance, we can change all “M, m, male” to “male”). Then, we have all representations of Females as `female` and Males as `male`."
   ]
  },
  {
   "cell_type": "code",
   "execution_count": null,
   "id": "c1d9da01",
   "metadata": {},
   "outputs": [],
   "source": [
    "titanic_dataset['Sex'][titanic_dataset['Sex'] == \"m\"] = \"male\"\n",
    "titanic_dataset['Sex'][titanic_dataset['Sex'] == \"m \"] = \"male\"\n",
    "titanic_dataset['Sex'][titanic_dataset['Sex'] == \"M\"] = \"male\"\n",
    "titanic_dataset['Sex'][titanic_dataset['Sex'] == \"f\"] = \"female\"\n",
    "titanic_dataset['Sex'][titanic_dataset['Sex'] == \"F\"] = \"female\""
   ]
  },
  {
   "cell_type": "markdown",
   "id": "8b54fa2b-99c5-4857-a141-a345e001f6a1",
   "metadata": {},
   "source": [
    "The indexing process done above is used to map all values to 2 categories male or female. Now we can see the only two types of values in the `Sex` column are 'female' and 'male'."
   ]
  },
  {
   "cell_type": "code",
   "execution_count": null,
   "id": "6165f557",
   "metadata": {},
   "outputs": [],
   "source": [
    "np.unique(titanic_dataset[\"Sex\"])"
   ]
  },
  {
   "cell_type": "code",
   "execution_count": null,
   "id": "89774ffa",
   "metadata": {},
   "outputs": [],
   "source": [
    "titanic_dataset.group(\"Sex\").barh(\"Sex\")"
   ]
  },
  {
   "cell_type": "markdown",
   "id": "a56ddc06-d748-4870-add8-3cb05f82a305",
   "metadata": {
    "tags": []
   },
   "source": [
    "### 2.5 Using `.where`"
   ]
  },
  {
   "cell_type": "markdown",
   "id": "bd5964eb-6d4b-447e-8810-92ce2b7be3f8",
   "metadata": {},
   "source": [
    "When we want to filter data to only have what we want to look at (especially with really large data), the [`.where` function](http://data8.org/datascience/_autosummary/datascience.tables.Table.where.html?highlight=where#datascience.tables.Table.where) is useful. For example, if you have data from 1970 to 2019 but only want data after 2010, you can use `ex_table = ex_table.where(\"Year\", are.above(2010))` to filter the data to create a table `ex_table` that only has rows where the year is greater than 2010. \n",
    "\n",
    "*More instructions on `.where` in Part 3 and previous notebooks.*"
   ]
  },
  {
   "cell_type": "markdown",
   "id": "3eb81a01-60d6-456d-9876-b8c1a03e261c",
   "metadata": {
    "tags": []
   },
   "source": [
    "### 2.6 Converting Data Type"
   ]
  },
  {
   "cell_type": "markdown",
   "id": "82e2e531-e4c4-4d63-9224-5a83f1202b64",
   "metadata": {},
   "source": [
    "If we want to convert our data to a more suitable unit (ie, strings to numbers), you can use the `.astype()` function. Converting data can make computations such as calculating the mean, mode, or standard deviation possible. \n",
    "\n",
    "*More instructions in Part 3*"
   ]
  },
  {
   "cell_type": "markdown",
   "id": "5d20f7be",
   "metadata": {},
   "source": [
    "***\n",
    "# 3. Introduction to the Dataset\n",
    "\n",
    "We will be using data made available by the San Francisco Department of Public Health. This data outlines restaurant food safety scores for restaurants in San Francisco. We will go through the data to explore and explain what data was collected.\n"
   ]
  },
  {
   "cell_type": "markdown",
   "id": "14c6fac4",
   "metadata": {},
   "source": [
    "### 3.1 Reading in the Data\n",
    "\n",
    "Database：[Restaurant Scores - LIVES Standard](https://data.sfgov.org/Health-and-Social-Services/Restaurant-Scores-LIVES-Standard/pyih-qa8i) Provided by SF Department of Public Health\n",
    "\n",
    "The Health Department has developed an inspection report and scoring system. After conducting an inspection of the facility, the Health Inspector calculates a score based on the violations observed.\n",
    "The database publishes weekly and the data changes daily.\n",
    "\n",
    "San Francisco's LIVES restaurant inspection data leverages the LIVES Flattened Schema (https://goo.gl/c3nNvr), which is based on LIVES version 2.0, cited on Yelp's website (http://www.yelp.com/healthscores).\n",
    "\n",
    "Run the cell below to import our dataset called `bus_data`, short for \"business data\". *For instructional purposes, some modifications had to be done in a separate file, thus the import statement looks different this time. Don't worry about this.*"
   ]
  },
  {
   "cell_type": "code",
   "execution_count": null,
   "id": "03846318-f4a8-4f3a-903e-550bed8e7378",
   "metadata": {},
   "outputs": [],
   "source": [
    "# Just run this cell -- don't change any code\n",
    "%run Data/preclean\n",
    "bus_data = Table.from_df(bus_data)\n",
    "bus_data.show(5)"
   ]
  },
  {
   "cell_type": "markdown",
   "id": "18d9feb8",
   "metadata": {},
   "source": [
    "### 3.2 Understanding the Data\n",
    "\n",
    "#### 3.2.1 Rows\n",
    "\n",
    "Let's take a look at the first row of the dataset for Name_Of_Dataset using `.take()`. This function takes in a list of the indexes that you want to view the corresponding rows of. Here, we want to see the first row only, which is the row at the 0th index."
   ]
  },
  {
   "cell_type": "code",
   "execution_count": null,
   "id": "086db284",
   "metadata": {},
   "outputs": [],
   "source": [
    "bus_data.take(0)"
   ]
  },
  {
   "cell_type": "markdown",
   "id": "a577717c-d86b-4fdf-9975-52312980e5a8",
   "metadata": {},
   "source": [
    "\n",
    "<!-- BEGIN QUESTION -->\n",
    "<font color = #d14d0f>\n",
    "\n",
    "#### Question 2:\n",
    "   \n",
    "   Based on the above exploration, what does each record represent?\n",
    "   \n",
    "   **A. \"One location of a restaurant.\"**\n",
    "\n",
    "**B. \"A chain of restaurants.\"**\n",
    "\n",
    "**C. \"A city block.\"**\n"
   ]
  },
  {
   "cell_type": "markdown",
   "id": "3983bca4-2ab8-4065-8bdf-e5ad0e49378a",
   "metadata": {},
   "source": [
    "*Type your answer here. Double-click to edit this cell. Run this cell to proceed when finished.*"
   ]
  },
  {
   "cell_type": "markdown",
   "id": "1f347589",
   "metadata": {},
   "source": [
    "<!-- END QUESTION -->\n",
    "#### 3.2.2. Columns\n",
    "\n",
    "Run the code cell below to see a list of the column names in our dataset using `.labels`."
   ]
  },
  {
   "cell_type": "code",
   "execution_count": null,
   "id": "2f241cda",
   "metadata": {},
   "outputs": [],
   "source": [
    "bus_data.labels"
   ]
  },
  {
   "cell_type": "markdown",
   "id": "4754ccae",
   "metadata": {},
   "source": [
    "The `date` and `timestamp` are representative of the time and date that of the inspection that received the score, `score`. The `type` is the type of inspection. The business ID, `address`, `city`, `state`, `postal_code`, and `phone_number` are all attributes of the restaurant location represented. The `latitude` and `longitude` represents the specific location of the restaurant."
   ]
  },
  {
   "cell_type": "markdown",
   "id": "252e02e6-56af-43a2-9bd0-746146b930f5",
   "metadata": {
    "tags": []
   },
   "source": [
    "### 3.3 Hypothesizing\n"
   ]
  },
  {
   "cell_type": "markdown",
   "id": "10b933db-4a1b-4217-881d-09769d8a3da6",
   "metadata": {},
   "source": [
    "Hypothesis testing is an important part of statistical analysis, where we test the assumptions made regarding a population parameter.\n",
    "\n",
    "Generally, we compare:\n",
    "* a single group with an external standard\n",
    "\n",
    "* two or more groups with each other\n",
    "    \n",
    "When making hypothesis of `bus_data`, an example of comparing two or more groups with each other would be \"Do businesses in the same 'postal_code' tend to have similar score? My thought is that they only need to compete with each other so they may have similar scores\". This hypothesis links two columns, 'postal_code' and 'score'.\n",
    " <!-- BEGIN QUESTION -->\n",
    " \n",
    "<font color = #d14d0f>\n",
    "\n",
    " #### Question 3:\n",
    "   Make your own hypothesis on the 'bus_data' by comparing at two or more columns like done in the example above. *Provide a hypothetical question and a brief explanation of why you think that may be the case.*\n",
    "\n"
   ]
  },
  {
   "cell_type": "markdown",
   "id": "5f19ff98-433c-419d-b759-c132bdb6e33b",
   "metadata": {},
   "source": [
    "*Type your answer here. Double-click to edit this cell. Run this cell to proceed when finished.*"
   ]
  },
  {
   "cell_type": "markdown",
   "id": "6ada3872-97c0-41c9-97c5-19d6f0056e52",
   "metadata": {
    "tags": []
   },
   "source": [
    "<!-- END QUESTION -->\n",
    "### 3.4 Cleaning the Dataset\n"
   ]
  },
  {
   "cell_type": "markdown",
   "id": "fd631f6b-9a7e-4ee9-bae6-40d74959ec88",
   "metadata": {},
   "source": [
    "In the next section, we will begin to clean our dataset.\n",
    "<!-- BEGIN QUESTION -->\n",
    "\n",
    "<font color = #d14d0f>\n",
    "    \n",
    "   #### Question 4:\n",
    "   Look at our dataset and list at least 3 things that you think should be fixed/cleaned before we begin analysis.\n",
    "\n",
    "*(See Section 2 to review common qualities of Tables that get changed during the Data Cleaning process and look at the `bus_data` Table in 3.1 and see if you notice anything that looks off.)*"
   ]
  },
  {
   "cell_type": "markdown",
   "id": "ee3355a4-b382-402f-9c78-e33f80142d6f",
   "metadata": {},
   "source": [
    "*Type your answer here. Double-click to edit this cell. Run this cell to proceed when finished.*"
   ]
  },
  {
   "cell_type": "markdown",
   "id": "fbe2829d-8ec8-4077-92bc-82a2d1ee2281",
   "metadata": {},
   "source": [
    "<!-- END QUESTION -->\n",
    "---"
   ]
  },
  {
   "cell_type": "markdown",
   "id": "d93e6f31",
   "metadata": {},
   "source": [
    "# 4. Cleaning the Dataset\n"
   ]
  },
  {
   "cell_type": "markdown",
   "id": "31f8562d-3a0d-4b67-bc3c-f876ca7d1e5c",
   "metadata": {
    "tags": []
   },
   "source": [
    "### 4.1 Manipulating columns\n"
   ]
  },
  {
   "cell_type": "markdown",
   "id": "7def3909-0c6c-4305-a8ee-3601353120a1",
   "metadata": {},
   "source": [
    "#### 4.1.1 Renaming columns"
   ]
  },
  {
   "cell_type": "markdown",
   "id": "f9231809-a33b-40b0-b1ba-7c0fdf80d77e",
   "metadata": {},
   "source": [
    "The `bus_data` table contains a column called `business id column` which  corresponds to a unique business id. However, we will rename that column to `bid` for simplicity using `Table.relabeled`.\n",
    "> **`Table.relabeled(old_column_name, new_column_name)`**: Creates a new table, changing the column name specified by the old label to the new label, and leaves the original table unchanged."
   ]
  },
  {
   "cell_type": "code",
   "execution_count": null,
   "id": "c116c0cd-f401-4d4a-ba86-90b02789e34e",
   "metadata": {},
   "outputs": [],
   "source": [
    "bus_data = bus_data.relabeled(\"business id column\", \"bid\")\n",
    "\n",
    "# notice the new column name \n",
    "bus_data.show(10)\n",
    "\n",
    "# If you ran this cell more than once, it will show an error because running it again indicates that you want to rename\n",
    "# the column named \"business id column\" which doesn't exist anymore. This is fine to move on. You can also click \"Cell\"\n",
    "# in the Menu, then \"Run All Above\", then run this cell just once."
   ]
  },
  {
   "cell_type": "markdown",
   "id": "833a7eaf-1595-4588-bac1-2d5e1a6632c0",
   "metadata": {},
   "source": [
    "#### 4.1.2 Dropping columns"
   ]
  },
  {
   "cell_type": "markdown",
   "id": "72300627-faf1-4e61-8bc8-f4ed4d4f18bf",
   "metadata": {},
   "source": [
    "There are some missing values in phone number column (-9999) but we don't need phone numbers for our analysis so we will drop this column.\n",
    "<!-- BEGIN QUESTION -->\n",
    "\n",
    "<font color = #d14d0f>\n",
    "\n",
    "   #### Question 5:\n",
    "   Replace `...` with code that drops the column that represents the phone numbers.\n",
    "   >**`tablename.drop`**: remove a column from a table (takes the name of the column as the argument)\n",
    "\n"
   ]
  },
  {
   "cell_type": "code",
   "execution_count": null,
   "id": "bea3c342-901c-44d1-b8cf-db244fea6f51",
   "metadata": {},
   "outputs": [],
   "source": [
    "bus_data = ...\n",
    "\n",
    "# see the table without the dropped column \n",
    "bus_data.show(5)"
   ]
  },
  {
   "cell_type": "markdown",
   "id": "1c5b177a-48af-4d6f-94d6-32470b49970e",
   "metadata": {
    "tags": []
   },
   "source": [
    "<!-- END QUESTION -->\n",
    "### 4.2 Handling missing/incorrect data: `postal_code` column"
   ]
  },
  {
   "cell_type": "markdown",
   "id": "5423122d-45a7-4884-a215-a7b8b3f1e014",
   "metadata": {},
   "source": [
    "In 3.4, you may have noticed that there are a large number of potentially invalid ZIP codes. These are likely due to data entry errors.\n",
    "\n",
    "To get a better understanding of the potential errors in the zip codes we will:\n",
    "\n",
    "1. Import a list of valid San Francisco ZIP codes by using pd.read_json to load the sf_zipcodes.json file. This will ultimately create a series (very similar to an array) containing the valid ZIP codes.\n",
    "2. Construct a Table containing only the businesses which DO NOT have valid ZIP codes."
   ]
  },
  {
   "cell_type": "markdown",
   "id": "95b50184-3597-41be-86fd-157c95eb06f5",
   "metadata": {},
   "source": [
    "**Step 1**\n"
   ]
  },
  {
   "cell_type": "code",
   "execution_count": null,
   "id": "092b915f-8b11-4a92-94c5-e74a989699e2",
   "metadata": {},
   "outputs": [],
   "source": [
    "valid_zips = pd.read_json(\"Data/sf_zipcodes.json\")['zip_codes']\n",
    "valid_zips.values"
   ]
  },
  {
   "cell_type": "markdown",
   "id": "6a5e8dde-9291-4bb3-a11b-1970bf78432a",
   "metadata": {},
   "source": [
    "After reading the file, we use `.dtype` to see that the zip codes have been read as integers."
   ]
  },
  {
   "cell_type": "code",
   "execution_count": null,
   "id": "40a5e9bc-43df-4c70-9656-6ec4c806d639",
   "metadata": {},
   "outputs": [],
   "source": [
    "valid_zips.dtype"
   ]
  },
  {
   "cell_type": "markdown",
   "id": "5b97dcf9-7dfe-4288-bd63-c9f726cc276f",
   "metadata": {},
   "source": [
    "Similarly to what was discussed in Section 2.6, we want to ensure that the type of value *(integer, string, double, etc.)* is representative of the data.\n",
    "\n",
    "While zip codes are numbers, they are [nominal qualitative data](https://careerfoundry.com/en/blog/data-analytics/what-is-nominal-data/#:~:text=Nominal%20data%20is%20a%20type,of%20meaningful%20order%20or%20hierarchy.). As a result, we want them to be represented as strings.\n",
    "<!-- BEGIN QUESTION -->\n",
    "\n",
    "<font color = #d14d0f>\n",
    "    \n",
    "   #### Question 6:\n",
    "   Why should zip codes be stored as strings instead of integers? (See link above for ideas.)\n",
    "\n",
    "*Hint: We store variables as integers when we need to calculate the mean, sum, etc. of that variable. Would it make sense to do this with zip codes?*"
   ]
  },
  {
   "cell_type": "markdown",
   "id": "43a76d0e-8c57-4c0a-9d2a-2168141e3696",
   "metadata": {},
   "source": [
    "*Type your answer here. Double-click to edit this cell. Run this cell to proceed when finished.*"
   ]
  },
  {
   "cell_type": "markdown",
   "id": "8c0b6689-0059-4ec7-b550-50aa571a963f",
   "metadata": {},
   "source": [
    "<!-- END QUESTION -->\n",
    "<br>\n",
    "To convert the `postal_code` values, we can use the `astype` function to generate a copy with converted values. This converts the array, `valid_zips`, to strings and reassigns the variable to the same name, `valid_zips`."
   ]
  },
  {
   "cell_type": "code",
   "execution_count": null,
   "id": "0fa7600e-ff96-4da6-98fd-04851b9d7fc2",
   "metadata": {},
   "outputs": [],
   "source": [
    "valid_zips = valid_zips.astype(\"string\")"
   ]
  },
  {
   "cell_type": "markdown",
   "id": "531c7030-db4c-4639-be06-c923cdb34046",
   "metadata": {},
   "source": [
    "Now we'll use the same code as above to check what type the values are now."
   ]
  },
  {
   "cell_type": "code",
   "execution_count": null,
   "id": "cbdbdfb5-bf35-4b02-bb41-a36bfbd6aff9",
   "metadata": {},
   "outputs": [],
   "source": [
    "valid_zips.dtype"
   ]
  },
  {
   "cell_type": "markdown",
   "id": "944a265c-5f17-4cb2-9fd4-b687b8e85ad0",
   "metadata": {},
   "source": [
    "**Step 2**"
   ]
  },
  {
   "cell_type": "markdown",
   "id": "dc5d85e0-664e-4283-b4b9-8c433f441d12",
   "metadata": {},
   "source": [
    "Here we will use the `np.isin` function. More details about this function are in its [documentation](https://numpy.org/doc/stable/reference/generated/numpy.isin.html).\n",
    "\n",
    "**What is an Array?**\n",
    "\n",
    "Remember that the type of `bus_data` is a Table. Every column in a table is an array. For example, the column `bid` is an array and so is the column `name`. Every column is an array regardless of what kind of data it contains."
   ]
  },
  {
   "cell_type": "code",
   "execution_count": null,
   "id": "2b4fcf04-6e99-4241-bf9e-650f8ba03cf9",
   "metadata": {},
   "outputs": [],
   "source": [
    "# these are the names of the columns in bus_data\n",
    "bus_data.labels"
   ]
  },
  {
   "cell_type": "markdown",
   "id": "7c3bf0fd-d86d-4f45-9f7b-714c187741b4",
   "metadata": {},
   "source": [
    "We can see in the cell below that the type of the `bid` column is an array."
   ]
  },
  {
   "cell_type": "code",
   "execution_count": null,
   "id": "24058d0b-b638-4a07-9987-711a27cff64b",
   "metadata": {},
   "outputs": [],
   "source": [
    "type(bus_data.column('bid'))"
   ]
  },
  {
   "cell_type": "markdown",
   "id": "8897eed0-265c-42ec-aa24-c0d3a2c63a0e",
   "metadata": {},
   "source": [
    "Try replacing the `...` in the cell below with another column name to see that *every column* is an array!"
   ]
  },
  {
   "cell_type": "code",
   "execution_count": null,
   "id": "35e50866-2afd-459f-85eb-951703f3cf03",
   "metadata": {},
   "outputs": [],
   "source": [
    "type(bus_data.column(...))"
   ]
  },
  {
   "cell_type": "markdown",
   "id": "a3dc6711-1809-4c4b-88af-08eddda3281c",
   "metadata": {},
   "source": [
    "Now we know that every column is an Array. Thus `np.isin` can be applied to any column.\n",
    "\n",
    "Let's assign the array of the `postal_code` column values to a variable called `zip_code_array`."
   ]
  },
  {
   "cell_type": "code",
   "execution_count": null,
   "id": "dbffdb68-e199-47dc-8828-92de528e84d5",
   "metadata": {},
   "outputs": [],
   "source": [
    "zip_code_array = bus_data.column('postal_code')\n",
    "zip_code_array"
   ]
  },
  {
   "cell_type": "markdown",
   "id": "9f1d7118-ae9d-4b72-a99c-bacbb5d85a6a",
   "metadata": {},
   "source": [
    "<!-- BEGIN QUESTION -->\n",
    "<font color = #d14d0f>\n",
    "    \n",
    "   #### Question 7:\n",
    "   Fill in the cell below so that is_valid_zip will return True when the zipcode in postal_code column is a valid zipcode, based on `valid_zips`, and False otherwise.\n",
    "\n",
    "> **`np.isin(your_array, test_array)`**: returns True and False for every value in `your_array` indicating whether or not that value \"is in\" the `test_array`.\n"
   ]
  },
  {
   "cell_type": "code",
   "execution_count": null,
   "id": "dd0d2f07-f167-4198-8f43-9246d39ea55e",
   "metadata": {},
   "outputs": [],
   "source": [
    "is_valid_zip = np.isin(..., ...)\n",
    "is_valid_zip"
   ]
  },
  {
   "cell_type": "markdown",
   "id": "6c16f907-87b9-4eac-8bc7-dd023a045fca",
   "metadata": {},
   "source": [
    "<!-- END QUESTION -->\n",
    "<br>Let's add a column to our `bus_data` table with this array to more obviously indicate which rows have invalid postal codes."
   ]
  },
  {
   "cell_type": "code",
   "execution_count": null,
   "id": "5150b9c7-322b-4737-a156-10961397cda7",
   "metadata": {},
   "outputs": [],
   "source": [
    "bus_data = bus_data.with_column('is_valid_zip', is_valid_zip)\n",
    "bus_data.show(5)"
   ]
  },
  {
   "cell_type": "markdown",
   "id": "c02bc65b-946e-463b-91e5-ac9649d240e5",
   "metadata": {
    "tags": []
   },
   "source": [
    "### 4.4 Filtering data\n"
   ]
  },
  {
   "cell_type": "markdown",
   "id": "975bcb32-494f-4742-a213-ecb7ee60bcc2",
   "metadata": {},
   "source": [
    "Let's view the rows in `bus_data` that have **invalid zip codes**."
   ]
  },
  {
   "cell_type": "markdown",
   "id": "0f0d25ee-d2b7-468e-87f1-45bb2fa16a04",
   "metadata": {},
   "source": [
    "<!-- BEGIN QUESTION -->\n",
    "\n",
    "<font color = #d14d0f>\n",
    "    \n",
    "   #### Question 8:\n",
    "   Replace `...` with `True` or `False`. (Be sure to put **True** or **False** without quotations (ie, not \"True\" or \"False\"))."
   ]
  },
  {
   "cell_type": "code",
   "execution_count": null,
   "id": "39639031-e7d8-4019-b5c3-dafd6f2ce4bf",
   "metadata": {},
   "outputs": [],
   "source": [
    "incorrect_postal_codes = bus_data.where('is_valid_zip', ...)\n",
    "incorrect_postal_codes"
   ]
  },
  {
   "cell_type": "markdown",
   "id": "56256f56-c0e5-4de0-98da-cefad624e1dd",
   "metadata": {},
   "source": [
    "<!-- END QUESTION -->\n",
    "Look at the postal_code column above. We can notice 2 main patterns:\n",
    "1. Many of these incorrect postal codes are `-9999`. \n",
    "2. Some other incorrect postal codes are incorrect because they give a postal code range, rather than a single code. (ie, `94105-1420` instead of `94105`)\n",
    "\n",
    "\n",
    "<br>\n",
    "\n",
    "**The remainder of Section 4 is a walkthrough of how to clean the `postal_code` column. Read through this process for understanding and practice.**"
   ]
  },
  {
   "cell_type": "markdown",
   "id": "8be5c861-a7d1-4fda-b224-9dab936dffed",
   "metadata": {
    "tags": []
   },
   "source": [
    "#### 4.4.1 Investigating `-9999` Postal Codes\n",
    "We've investigated the 1st pattern below. Read through this process and formulate an opinion on why these restaurant locations might have incorrect/missing information."
   ]
  },
  {
   "cell_type": "code",
   "execution_count": null,
   "id": "cc5ae695-0d0f-4e83-8a34-9f6b9b06dce2",
   "metadata": {},
   "outputs": [],
   "source": [
    "code_neg9999 = incorrect_postal_codes.where('postal_code', '-9999')\n",
    "code_neg9999.show(5)"
   ]
  },
  {
   "cell_type": "markdown",
   "id": "a71947b6-ccf4-4edf-875b-779cf7f27cbd",
   "metadata": {},
   "source": [
    "This shows us that there are 357 rows that have the incorrect postal_code `-9999`. Let's look at some of the locations (`address` column) of the restaurants that correspond to these values.\n",
    "\n",
    "We will now use `.group` (as we did in Section 4 of the \"Exploring Labor Statistics Among US Youth\" Notebook). Here we group the table of restaurants with postal codes, -9999, by `address`. Count represents how many times that address is present in the notebook."
   ]
  },
  {
   "cell_type": "code",
   "execution_count": null,
   "id": "cdd3ae28-4f3d-4c79-807c-f340a4e7f835",
   "metadata": {},
   "outputs": [],
   "source": [
    "code_neg9999.group(\"address\").sort(\"count\", descending = True)"
   ]
  },
  {
   "cell_type": "markdown",
   "id": "d7b7bf28-ed6c-4198-aaa5-476cdc6aae52",
   "metadata": {},
   "source": [
    "This shows that there are 53 store locations that have addresses marked as \"Off The Grid\", 19 with addresses \"Off the Grid\", and 3 with addresses \"OTG\". These qualify as missing values for our data. Thus, will want to remove these rows from our `bus_data` table.\n",
    "\n",
    "We will do this after we address the second pattern."
   ]
  },
  {
   "cell_type": "markdown",
   "id": "71f9a1f7-cac2-4af9-94a3-0d5297b0223f",
   "metadata": {},
   "source": [
    "#### 4.4.2 Investigating Postal Code Ranges\n"
   ]
  },
  {
   "cell_type": "markdown",
   "id": "87144276-5f7d-4d7e-a907-3c8d8e71452f",
   "metadata": {},
   "source": [
    "Next, let's look at the 2nd pattern (where zip code ranges are listed rather than individual zip codes). We actually ***can*** fix this so we won't need to drop any of these values!\n",
    "\n",
    "Every proper zip code is 5 digits long (ie, 94103). To turn the ranges into only a single zip code, we will use `str.slice` to \"trim\" the string. Remember that the `postal_code` column is made up of [strings](https://press.rebus.community/programmingfundamentals/chapter/string-data-type/) rather than integers. We use the code `str.slice(0,5)` to mean take a slice of the string from the 0th index up to the 5th index. This returns the 1st through 5th characters, which results in `94123-3106` turning into `94123`. For values that were already 5 digits long, this slice returns itself so nothing changes (ie, `94103` is still `94103`). *This can only be done on a Series (similar to an array) so we used pd.Series to temporarily convert the array of values to a series of values in the below line of code.*"
   ]
  },
  {
   "cell_type": "code",
   "execution_count": null,
   "id": "acef5c25-4eef-4df1-8e4c-ebc952625e30",
   "metadata": {},
   "outputs": [],
   "source": [
    "bus_data = bus_data.with_column('postal_code', pd.Series(bus_data.column('postal_code')).str.slice(0,5))\n",
    "bus_data\n",
    "# notice now all postal codes are 5 digits"
   ]
  },
  {
   "cell_type": "markdown",
   "id": "53dddd05-840b-4db4-8be8-6cfcac5f910e",
   "metadata": {},
   "source": [
    "#### 4.4.3 Dropping Rows"
   ]
  },
  {
   "cell_type": "markdown",
   "id": "3c1e54df-750e-4017-b8e1-d73c3227a169",
   "metadata": {},
   "source": [
    "Now that we've fixed postal code ranges, let's drop the values that are not valid postal codes. We do this by filtering our data. \n",
    "\n",
    "*The line of code translates to:*\n",
    "> \"The `bus_data` table now will be a table with only the rows in the `bus_data` table where `postal_code` was in the list of valid zipcodes (`valid_zips`)\"."
   ]
  },
  {
   "cell_type": "code",
   "execution_count": null,
   "id": "48d8b60e-d497-4c95-b5db-c6b41d4d9768",
   "metadata": {},
   "outputs": [],
   "source": [
    "bus_data = bus_data.where('is_valid_zip', True)\n",
    "bus_data.show(5)"
   ]
  },
  {
   "cell_type": "markdown",
   "id": "a6833cf9-c41f-4404-96ab-7cdd9bb77236",
   "metadata": {},
   "source": [
    "***\n",
    "# 5. Exploratory Data Analysis"
   ]
  },
  {
   "cell_type": "markdown",
   "id": "c62c8781",
   "metadata": {},
   "source": [
    "Exploratory Data Analysis allows you to \"get to know the data\". \n",
    "\n",
    "EDA is the process of transforming, visualizing, and summarizing data to:\n",
    "* build / confirm understanding of the data and its provenance\n",
    "* identify and address potential issues in the data\n",
    "* inform the subsequent analysis \n",
    "* discover potential hypothesis \n",
    "\n",
    "EDA ia an open-ended analysis that allows us to be willing to find something surprising."
   ]
  },
  {
   "cell_type": "markdown",
   "id": "27a2e79b-f6e8-4196-890b-5a5e5ce4c304",
   "metadata": {
    "tags": []
   },
   "source": [
    "### 5.1 Plotting distribution of inspection scores\n"
   ]
  },
  {
   "cell_type": "code",
   "execution_count": null,
   "id": "0d6b03a1-399e-4a7e-a4c1-a6517f426d77",
   "metadata": {},
   "outputs": [],
   "source": [
    "scoregrouped = bus_data.group(\"score\")\n",
    "plt.figure()\n",
    "plt.bar(scoregrouped.column(\"score\"), scoregrouped.column(\"count\"), edgecolor = 'black')\n",
    "plt.title('Distribution of Inspection Scores')\n",
    "plt.xlabel('Score');\n",
    "plt.ylabel('Count');"
   ]
  },
  {
   "cell_type": "markdown",
   "id": "c6ff6fad",
   "metadata": {},
   "source": [
    "You can see that the distribution is not symmetric: the scores extend to the left farther than they do to the right. The distribution is therefore said to be left-skewed."
   ]
  },
  {
   "cell_type": "markdown",
   "id": "6f55a1bd-299d-481c-9927-09d07e5ed109",
   "metadata": {
    "tags": []
   },
   "source": [
    "### 5.2 Data Exploration\n"
   ]
  },
  {
   "cell_type": "markdown",
   "id": "d9803217",
   "metadata": {},
   "source": [
    "**5.2.1 Using `.group`**"
   ]
  },
  {
   "cell_type": "markdown",
   "id": "cb1ee64c",
   "metadata": {},
   "source": [
    "<!-- BEGIN QUESTION -->\n",
    "<font color = #d14d0f>\n",
    "    \n",
    "   #### Question 9:\n",
    "\n",
    "What is the average score for each unique business id?\n",
    "\n",
    "*Hint: the function for average is `np.mean`.*\n",
    "> `tablename.group(column_name(s), func)`: Group rows by unique values or combinations of values in a column(s). Multiple columns must be entered in array or list form. Other values aggregated by count (default) or optional argument func."
   ]
  },
  {
   "cell_type": "code",
   "execution_count": null,
   "id": "d9b25215",
   "metadata": {},
   "outputs": [],
   "source": [
    "bus_data.group(..., ...).select('bid', 'score mean')"
   ]
  },
  {
   "cell_type": "markdown",
   "id": "965cda39",
   "metadata": {},
   "source": [
    "<!-- END QUESTION -->\n",
    "**5.2.2 Mean score**"
   ]
  },
  {
   "cell_type": "markdown",
   "id": "dc585613",
   "metadata": {},
   "source": [
    "<!-- BEGIN QUESTION -->\n",
    "<font color = #d14d0f>\n",
    "    \n",
    "   #### Question 10:\n",
    "\n",
    "What is the mean of all of the scores?\n",
    "\n",
    "*Hint: Use `np.mean` on the column that represents the scores.*"
   ]
  },
  {
   "cell_type": "code",
   "execution_count": null,
   "id": "1ce56f40",
   "metadata": {},
   "outputs": [],
   "source": [
    "np.mean(...)"
   ]
  },
  {
   "cell_type": "markdown",
   "id": "e59ecd1e",
   "metadata": {},
   "source": [
    "<!-- END QUESTION -->\n",
    "**5.2.3 Median score**"
   ]
  },
  {
   "cell_type": "markdown",
   "id": "3f845430",
   "metadata": {},
   "source": [
    "<!-- BEGIN QUESTION -->\n",
    "<font color = #d14d0f>\n",
    "    \n",
    "   #### Question 11:\n",
    "   What is the median of all of the scores?\n",
    "\n",
    "*Hint: Use `np.median` on the column that represents the scores.*"
   ]
  },
  {
   "cell_type": "code",
   "execution_count": null,
   "id": "cf3250d8",
   "metadata": {},
   "outputs": [],
   "source": [
    "..."
   ]
  },
  {
   "cell_type": "markdown",
   "id": "e568b117",
   "metadata": {},
   "source": [
    "<!-- END QUESTION -->\n",
    "**5.2.4 Distribution of the score column**"
   ]
  },
  {
   "cell_type": "markdown",
   "id": "3c53e449-908e-4f6e-8422-816126d39a57",
   "metadata": {},
   "source": [
    "The `stats.describe` function computes several descriptive statistics of the array that is passed in, including ones we calculated above. (Remember that a column is an array so `bus_data.column('score')` is an array.)"
   ]
  },
  {
   "cell_type": "code",
   "execution_count": null,
   "id": "f9853534",
   "metadata": {},
   "outputs": [],
   "source": [
    "from scipy import stats\n",
    "stats.describe(bus_data.column('score'))"
   ]
  },
  {
   "cell_type": "markdown",
   "id": "bb275737-4ee4-41c7-9db8-1f86bd8c47b9",
   "metadata": {},
   "source": [
    "<!-- BEGIN QUESTION -->\n",
    "<font color = #d14d0f>\n",
    "    \n",
    "   #### Question 12:\n",
    "   What is the skewness for the score column (as found by the above cell)? Why is it negative?"
   ]
  },
  {
   "cell_type": "markdown",
   "id": "3095c56b-eb9f-4a64-8f92-59b4863dd569",
   "metadata": {},
   "source": [
    "*Type your answer here. Double-click to edit this cell. Run this cell to proceed when finished.*"
   ]
  },
  {
   "cell_type": "markdown",
   "id": "efbcfb6e",
   "metadata": {},
   "source": [
    "<!-- END QUESTION -->\n",
    "**5.2.5 Filtering unwanted outliers**"
   ]
  },
  {
   "cell_type": "markdown",
   "id": "013a2fdc",
   "metadata": {},
   "source": [
    "Let's filter out any negative score values. These are clearly errors because the lowest score you can receive is 0 out of 100. "
   ]
  },
  {
   "cell_type": "markdown",
   "id": "3d3b94c7-aaf8-49f0-b628-43b1c8c4095f",
   "metadata": {},
   "source": [
    "<!-- BEGIN QUESTION -->\n",
    "<font color = #d14d0f>\n",
    "    \n",
    "   #### Question 13:\n",
    "   Fill in `...` with code to ensure that only rows with non-negative score values are shown. *Write the number as an integer, not a string or float.*"
   ]
  },
  {
   "cell_type": "code",
   "execution_count": null,
   "id": "337ef8b5",
   "metadata": {},
   "outputs": [],
   "source": [
    "bus_data = bus_data.where('score', are.above_or_equal_to(...))\n",
    "bus_data.show(10)"
   ]
  },
  {
   "cell_type": "markdown",
   "id": "c50279a2-2868-44c1-98ac-8fdb20529291",
   "metadata": {
    "tags": []
   },
   "source": [
    "<!-- END QUESTION -->\n",
    "### 5.3 Your Turn: Analyze the Data\n"
   ]
  },
  {
   "cell_type": "markdown",
   "id": "d8a5985d-675d-4bdb-bc27-dcd4c2452fe5",
   "metadata": {},
   "source": [
    "We will provide an example here, then you will repeat the process two times below. Look back at your **hypothesis** to see what variables/columns you will want to focus on analyzing."
   ]
  },
  {
   "cell_type": "markdown",
   "id": "9817b242-abac-406c-8159-44cb82690be8",
   "metadata": {},
   "source": [
    "\n",
    "#### Example Analysis"
   ]
  },
  {
   "cell_type": "markdown",
   "id": "855b4765-b1da-4bca-b529-138d05ab68cd",
   "metadata": {},
   "source": [
    "**Example hypothesis:** \"Did the businesses that were inspected multiple times have worse scores on average than those that were inspected only once? My thought is that if they needed to be inspected multiple times, they may have started with a lower score.\""
   ]
  },
  {
   "cell_type": "markdown",
   "id": "80d4e69e-097a-4a1a-bb16-8c802e66a496",
   "metadata": {},
   "source": [
    "We want to find how many times each business (or business ID / \"bid\") was inspected so we group by \"bid\". Remember if `.group` has no displayed function, the default is \"count\". \n",
    "\n",
    "> `tablename.group(columnname, func)`"
   ]
  },
  {
   "cell_type": "code",
   "execution_count": null,
   "id": "293ab1b0-1663-4364-beea-b9b350850a41",
   "metadata": {},
   "outputs": [],
   "source": [
    "bus_data.group('bid')"
   ]
  },
  {
   "cell_type": "markdown",
   "id": "0ba0549a-5109-4fbb-b727-fad807dff9e1",
   "metadata": {},
   "source": [
    "Now I'll use `.where` to separate the businesses with 1 inspection and with more than 1 inspection. I assigned these to the variables `multiple_insp` and `one_insp`."
   ]
  },
  {
   "cell_type": "code",
   "execution_count": null,
   "id": "f4317ea2-d74f-4b16-ba10-23580c25ecbc",
   "metadata": {},
   "outputs": [],
   "source": [
    "multiple_insp = bus_data.group('bid').where(\"count\", are.above(1))\n",
    "multiple_insp.show(3)"
   ]
  },
  {
   "cell_type": "code",
   "execution_count": null,
   "id": "7d918871-20c5-443a-afc1-5ee5568702a4",
   "metadata": {},
   "outputs": [],
   "source": [
    "one_insp = bus_data.group('bid').where(\"count\", 1)\n",
    "one_insp.show(3)"
   ]
  },
  {
   "cell_type": "markdown",
   "id": "94ec94b6-d60a-469b-997b-78e8bf903766",
   "metadata": {},
   "source": [
    "Now I want to find the mean of both categories and compare!"
   ]
  },
  {
   "cell_type": "code",
   "execution_count": null,
   "id": "851e3e75-e9c9-447d-a81e-8c8dacc3c3f7",
   "metadata": {},
   "outputs": [],
   "source": [
    "multiple_insp_mean = np.mean(multiple_insp.column(\"count\"))\n",
    "multiple_insp_mean"
   ]
  },
  {
   "cell_type": "code",
   "execution_count": null,
   "id": "a53ee945-5179-40c7-afb0-8e014b68b7d0",
   "metadata": {},
   "outputs": [],
   "source": [
    "one_insp_mean = np.mean(one_insp.column(\"count\"))\n",
    "one_insp_mean"
   ]
  },
  {
   "cell_type": "markdown",
   "id": "286c2810-36c8-494e-bef7-588308e0b739",
   "metadata": {},
   "source": [
    "My hypothesis was that the mean of the scores of businesses that were inspected multiple times would be *lower* than those that were inspected just *once*. You can just compare the cells above or run the cell below to see if my hypothesis was correct."
   ]
  },
  {
   "cell_type": "code",
   "execution_count": null,
   "id": "183ddc5d-8abe-460a-bba5-783f3ab5c0c8",
   "metadata": {},
   "outputs": [],
   "source": [
    "multiple_insp_mean < one_insp_mean"
   ]
  },
  {
   "cell_type": "markdown",
   "id": "2984ea48-6b90-4d21-bfcd-6438aa2365c4",
   "metadata": {},
   "source": [
    "This shows that my hypothesis was **incorrect**! That's okay! We create hypotheses to learn more about the data."
   ]
  },
  {
   "cell_type": "markdown",
   "id": "9d004339-9273-45b7-bc3a-6ad56401d9b8",
   "metadata": {},
   "source": [
    "#### Your turn!"
   ]
  },
  {
   "cell_type": "markdown",
   "id": "4b9e4c31-88b8-46ef-8499-76a033675a6f",
   "metadata": {},
   "source": [
    "<!-- BEGIN QUESTION -->\n",
    "#### Rewrite your hypothesis here:\n"
   ]
  },
  {
   "cell_type": "markdown",
   "id": "89e16b7e-5a42-40d8-9c3c-379dcd248e46",
   "metadata": {},
   "source": [
    "*Double-click to edit this cell and replace this text with your hypothesis.*"
   ]
  },
  {
   "cell_type": "markdown",
   "id": "ef13316a-8b18-4d82-be85-97055e8279e3",
   "metadata": {},
   "source": [
    "<!-- END QUESTION -->\n",
    "#### Use the below code cell to analyze your hypothesis.\n",
    "Feel free to use the example analysis code as inspiration. Your written conclusions will be done in part 6; this is just the analysis. Remember you can add more cells with the `+`. If it makes sense for your hypothesis, try making a visualization! Here is the [Python datascience library reference sheet](http://data8.org/sp22/python-reference.html)."
   ]
  },
  {
   "cell_type": "code",
   "execution_count": null,
   "id": "45587869-bffd-4708-b7f1-839b0add11f6",
   "metadata": {
    "tags": []
   },
   "outputs": [],
   "source": [
    "# Use this cell to code the answer your hypothesis"
   ]
  },
  {
   "cell_type": "code",
   "execution_count": null,
   "id": "23d70c5f-c19a-4bec-9462-d89d18f93353",
   "metadata": {},
   "outputs": [],
   "source": [
    "# Use this cell to code the answer your hypothesis"
   ]
  },
  {
   "cell_type": "code",
   "execution_count": null,
   "id": "7f1268f2-1bbc-4a92-a63b-c97b678ba070",
   "metadata": {},
   "outputs": [],
   "source": [
    "# Use this cell to code the answer your hypothesis"
   ]
  },
  {
   "cell_type": "markdown",
   "id": "0f61d16b",
   "metadata": {
    "tags": []
   },
   "source": [
    "***\n",
    "# 6. Conclusion "
   ]
  },
  {
   "cell_type": "markdown",
   "id": "d729145b-4f20-4ddd-9c03-47912c753663",
   "metadata": {},
   "source": [
    "**Validating the Data**"
   ]
  },
  {
   "cell_type": "markdown",
   "id": "30ed5887-2a91-484e-ac1d-c6062a4db6d3",
   "metadata": {},
   "source": [
    "<!-- BEGIN QUESTION -->\n",
    "<font color = #d14d0f>\n",
    "    \n",
    "   #### Question 14:\n",
    "  Does the data align with your expectations?"
   ]
  },
  {
   "cell_type": "markdown",
   "id": "e88039e9-78dd-4092-a4ac-0af41553fd13",
   "metadata": {},
   "source": [
    "*Type your answer here. Double-click to edit this cell. Run this cell to proceed when finished.*"
   ]
  },
  {
   "cell_type": "markdown",
   "id": "333e239e-d6f5-4c90-9f21-212399ca7a2e",
   "metadata": {},
   "source": [
    "<!-- END QUESTION -->\n",
    "<!-- BEGIN QUESTION -->\n",
    "<font color = #d14d0f>\n",
    "    \n",
    "   #### Question 15:\n",
    "   Does the data prove or disprove your hypothesis? Does it bring you any insight?"
   ]
  },
  {
   "cell_type": "markdown",
   "id": "01d67d96-a7dc-47f1-aed4-721f9a053072",
   "metadata": {},
   "source": [
    "*Type your answer here. Double-click to edit this cell. Run this cell to proceed when finished.*"
   ]
  },
  {
   "cell_type": "markdown",
   "id": "c0578702-8b51-4778-b891-4ff34229ca9d",
   "metadata": {},
   "source": [
    "<!-- END QUESTION -->\n",
    "<!-- BEGIN QUESTION -->\n",
    "<font color = #d14d0f>\n",
    "    \n",
    "   #### Question 16:\n",
    "    \n",
    "  Did you find another trend that can help you formulate another hypothesis?"
   ]
  },
  {
   "cell_type": "markdown",
   "id": "e4c178e9-2d3e-4f36-b20f-65d4a70a0679",
   "metadata": {},
   "source": [
    "*Type your answer here. Double-click to edit this cell. Run this cell to proceed when finished.*"
   ]
  },
  {
   "cell_type": "markdown",
   "id": "cf136491-bba8-49ad-89e7-e17ac19dbf18",
   "metadata": {},
   "source": [
    "<!-- END QUESTION -->\n",
    "<br>Over the course of this notebook, you took a deeper dive into data cleaning and conducted your own exploratory data analysis. You learned the importance of data cleaning and what should be handled *before* conducting analysis. Now you're prepared to apply these techniques to your own survey! "
   ]
  },
  {
   "cell_type": "markdown",
   "id": "bf25c76b-f026-4ed4-adb6-a0a3cebe117f",
   "metadata": {},
   "source": [
    "### Congratulations! You have finished the notebook! ##"
   ]
  },
  {
   "cell_type": "markdown",
   "id": "20adda58",
   "metadata": {},
   "source": [
    "***\n",
    "# 7. Submitting Your Work \n"
   ]
  },
  {
   "cell_type": "markdown",
   "id": "b1a232d2-e66d-4c67-853c-c84d59924ee8",
   "metadata": {},
   "source": [
    "**Make sure that you've answered all the questions.**\n",
    "\n",
    "Follow these steps: \n",
    "1. Go to `File` in the menu bar, then select `Save and Checkpoint` (or click CTRL+S).\n",
    "2. Go to `Cell` in the menu bar, then select `Run All`.\n",
    "3. Click the link produced by the code cell below.\n",
    "4. Submit the downloaded PDF on bCourses according to your professor's instructions.\n",
    "\n",
    "**Note:** If clicking the link below doesn't work for you, don't worry! Simply click `File` in the menu, find `Download As`, and choose `PDF via LaTeX (.pdf)` to save a copy of your pdf onto your computer.\n",
    "\n",
    "**Check the PDF before submitting and make sure all of your answers and any changes are shown.**"
   ]
  },
  {
   "cell_type": "code",
   "execution_count": null,
   "id": "adf7e731",
   "metadata": {},
   "outputs": [],
   "source": [
    "#This may take a few extra seconds.\n",
    "from otter.export import export_notebook\n",
    "from IPython.display import display, HTML\n",
    "export_notebook(\"4. Data Cleaning EDA.ipynb\", filtering=True, pagebreaks=False)\n",
    "display(HTML(\"<p style='font-size:20px'> <br>Save this notebook, then click <a href='4. Data Cleaning EDA.pdf' download>here</a> to open the pdf.<br></p>\"))"
   ]
  },
  {
   "cell_type": "markdown",
   "id": "bc4f0907",
   "metadata": {},
   "source": [
    "***\n",
    "# 8. Explore Data Science Opportunities\n",
    "\n",
    "Interested in learning more about how to get involved in data science or learn about data science applications in your field of study? The following resources might help support your learning:\n",
    "\n",
    "- Data Science Modules: http://data.berkeley.edu/education/modules\n",
    "- Data Science Offerings at Berkeley: https://data.berkeley.edu/academics/undergraduate-programs/data-science-offerings\n",
    "- Data 8 Course Information: http://data8.org/\n",
    "- Data 100 Course Information: https://ds100.org/\n"
   ]
  },
  {
   "cell_type": "markdown",
   "id": "3938db15",
   "metadata": {},
   "source": [
    "***\n",
    "# 9. Feedback Form  <a id='8'></a>\n",
    "\n",
    "<div class=\"alert alert-info\">\n",
    "<b> We encourage students to fill out the following feedback form to share your experience with this Module notebook. This feedback form will take no longer than 5 minutes. At UC Berkeley Data Science Undergraduate Studies Modules, we appreciate all feedback to improve the learning of students and experience utilizing Jupyter Notebooks for Data Science Education: </b> \n",
    "</div>\n",
    "\n",
    "# [UC Berkeley Data Science Feedback Form](https://forms.gle/hipxf2uFw5Ud4Hyn8)"
   ]
  },
  {
   "cell_type": "code",
   "execution_count": null,
   "id": "be81cbf3",
   "metadata": {},
   "outputs": [],
   "source": []
  }
 ],
 "metadata": {
  "kernelspec": {
   "display_name": "Python 3 (ipykernel)",
   "language": "python",
   "name": "python3"
  },
  "language_info": {
   "codemirror_mode": {
    "name": "ipython",
    "version": 3
   },
   "file_extension": ".py",
   "mimetype": "text/x-python",
   "name": "python",
   "nbconvert_exporter": "python",
   "pygments_lexer": "ipython3",
   "version": "3.9.15"
  }
 },
 "nbformat": 4,
 "nbformat_minor": 5
}
