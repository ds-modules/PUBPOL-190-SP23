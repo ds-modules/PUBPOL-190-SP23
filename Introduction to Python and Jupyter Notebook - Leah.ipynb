{
 "cells": [
  {
   "cell_type": "markdown",
   "id": "a825fb92",
   "metadata": {},
   "source": [
    "## [PP190] Introduction to Python and Jupyter Notebook\n",
    "### Professor Anibel Ferus-Comelo\n",
    "\n",
    "***\n",
    "\n",
    "### Learning Outcomes\n",
    "1. \n",
    "\n",
    "*Estimated time: 60 minutes\n",
    "***\n",
    "### Table of Contents\n"
   ]
  },
  {
   "cell_type": "markdown",
   "id": "0fb7e6bc",
   "metadata": {},
   "source": [
    "***\n",
    "### Introduction to Python and Jupyter Notebook"
   ]
  },
  {
   "cell_type": "markdown",
   "id": "c40600b9",
   "metadata": {},
   "source": [
    "*** \n",
    "### Jupyter Basics"
   ]
  },
  {
   "cell_type": "markdown",
   "id": "39e3d096",
   "metadata": {},
   "source": [
    "#### What is a cell?\n",
    "A cell is a block in the Notebook framework, and each cell will be highlighted when clicked on."
   ]
  },
  {
   "cell_type": "markdown",
   "id": "06d6c193",
   "metadata": {},
   "source": [
    "#### Types of Cells"
   ]
  },
  {
   "cell_type": "markdown",
   "id": "b3b8a02e",
   "metadata": {},
   "source": [
    "**Markdown Cell**\n",
    "\n",
    "A markdown cell is where you write text. This is a markdown cell! \n",
    "\n",
    "To edit a markdown cell, you must double click the cell's text."
   ]
  },
  {
   "cell_type": "markdown",
   "id": "d3cd3b0f",
   "metadata": {},
   "source": [
    "**Code Cell**"
   ]
  },
  {
   "cell_type": "code",
   "execution_count": null,
   "id": "e0d0e797",
   "metadata": {},
   "outputs": [],
   "source": [
    "# This is a code cell \n",
    "# A code cell is where you will write code\n",
    "# Errors can arise in code cells if you write bad code"
   ]
  },
  {
   "cell_type": "markdown",
   "id": "6c0ea367",
   "metadata": {},
   "source": [
    "#### Adding a cell\n",
    "\n",
    "To add a cell, find the plus + sign on the tab bar above.\n",
    "\n",
    "When you add a cell, it is automatically a code cell.\n",
    "\n",
    "To switch from a code cell to a markdown cell, click the *Cell* button in the tab bar then click *Cell Type*."
   ]
  },
  {
   "cell_type": "markdown",
   "id": "ef81da3d",
   "metadata": {},
   "source": [
    "**Running a Cell**\n",
    "\n",
    "To run a code cell, click *shift+run* or the *Run* button in the tab bar."
   ]
  },
  {
   "cell_type": "code",
   "execution_count": null,
   "id": "a1080b2b",
   "metadata": {},
   "outputs": [],
   "source": [
    "# try to run this cell \n",
    "\n",
    "1+12"
   ]
  },
  {
   "cell_type": "markdown",
   "id": "56fae8c1",
   "metadata": {},
   "source": [
    "**Editing, saving, and submitting work**"
   ]
  },
  {
   "cell_type": "markdown",
   "id": "a84bb79b",
   "metadata": {},
   "source": [
    "To delete a cell, you can click the *Scissors* icon in the tab bar or click the *Edit* button in the tab bar.  \n",
    "\n",
    "To add a cell, you can click the *+* icon in the tab bar or click the *Insert* button in the tab bar.  \n",
    "\n",
    "To save your notebook and your progress, click the *File* button in the tab bar.  \n",
    "Tip: It is important to *Save and Checkpoint* your progress in order to be able to revert back to your data if you need to restart your kernel!  \n",
    "\n",
    "To submit your completed notebook, click the *File* button then the *Download as* button. Finally, download the notebook as  *Notebook (.ipynb)*."
   ]
  },
  {
   "cell_type": "markdown",
   "id": "440f5b7d",
   "metadata": {},
   "source": [
    "**How to get more Jupyter help**"
   ]
  },
  {
   "cell_type": "markdown",
   "id": "f710034c",
   "metadata": {},
   "source": [
    "Here are some resources to familiarize yourself even more with Jupyter! \n",
    "\n",
    "https://docs.jupyter.org/en/latest/\n",
    "\n",
    "https://dataquest.io/blog/jupyter-notebook-tips-tricks-shortcuts/\n",
    "\n",
    "https://jupyter-notebook.readthedocs.io/en/stable/notebook.html"
   ]
  },
  {
   "cell_type": "markdown",
   "id": "38a8cab2",
   "metadata": {},
   "source": [
    "*** \n",
    "### Python Basics"
   ]
  },
  {
   "cell_type": "markdown",
   "id": "3a030b82",
   "metadata": {
    "tags": [
     "ignore"
    ]
   },
   "source": [
    "**Python** is a popular programming language, for both data science and general software development. It gives us a way for us to communicate with the computer and give it instructions, which is why mastering the fundamentals is critical. \n",
    "\n",
    "Just like any language, Python has a set vocabulary made up of words it can understand, and a syntax which provides the rules for how to structure our commands and give instructions. \n",
    "\n",
    "#### Errors\n",
    "Errors in programming are common and totally okay! Don't be afraid when you see an error because more likely than not the solution lies in the error code itself! Let's see what an error looks like. <font color = #d14d0f>**Run the cell below to see the output.**</font>"
   ]
  },
  {
   "cell_type": "code",
   "execution_count": null,
   "id": "93b127ab",
   "metadata": {
    "tags": [
     "ignore"
    ]
   },
   "outputs": [],
   "source": [
    "print('This line is missing something.'"
   ]
  },
  {
   "cell_type": "markdown",
   "id": "8f878937",
   "metadata": {
    "tags": [
     "ignore"
    ]
   },
   "source": [
    "The last line of the error message in the output attempts to tell you what went wrong. You should see a message saying \"SyntaxError: unexpected EOF while parsing.\" This just means it expected a closing to your code in this instance. <font color = #d14d0f>**Try adding a parentheses to end the statement and watch the error message disappear!**</font>"
   ]
  },
  {
   "cell_type": "markdown",
   "id": "5c851941",
   "metadata": {
    "tags": [
     "ignore"
    ]
   },
   "source": [
    "#### Assignment Statements"
   ]
  },
  {
   "cell_type": "markdown",
   "id": "0ae379f9",
   "metadata": {
    "tags": [
     "ignore"
    ]
   },
   "source": [
    "Names are given to values in Python using an **assignment statement**. An assignment statement consists of the name (on the left), followed by =, which is followed by any expression. \n",
    "\n",
    "The value of the expression to the right of the =, is **assigned** to the name (on the right). Once you've assigned an expression to a name, you can access that expression through the name in future instances. <font color = #d14d0f>**Try running the cell below to see how names are stored!**</font> "
   ]
  },
  {
   "cell_type": "code",
   "execution_count": null,
   "id": "f4081513",
   "metadata": {},
   "outputs": [],
   "source": [
    "a = 5 \n",
    "b = 7 \n",
    "a + b"
   ]
  },
  {
   "cell_type": "markdown",
   "id": "afae4524",
   "metadata": {},
   "source": [
    "Sometimes, instead of trying to work with raw information all the time in a long calculation like 4 - 2 * (1 + 6 / 3) you will want to store it as an assignment statement for easy access in future calculations. <font color = #d14d0f>**Check out how we can use assignment statements to our advantage below!**</font>"
   ]
  },
  {
   "cell_type": "code",
   "execution_count": null,
   "id": "05a16f06",
   "metadata": {},
   "outputs": [],
   "source": [
    "# Instead of performing this calculation over and over again ...\n",
    "4 - 2 * (1 + 6 / 3)"
   ]
  },
  {
   "cell_type": "code",
   "execution_count": null,
   "id": "7871f99e",
   "metadata": {},
   "outputs": [],
   "source": [
    "# Try assigning it to a name for future use!\n",
    "y = 4 - 2 * (1 + 6 / 3)"
   ]
  },
  {
   "cell_type": "markdown",
   "id": "0e60a9c9",
   "metadata": {},
   "source": [
    "An assignment statement, such as y = 4 - 2 * (1 + 6 / 3) has three parts: on the left is the variable name (y), on the right is the variable's value (4 - 2 * (1 + 6 / 3)), and the equals sign in the middle tells the computer to assign the value to the name."
   ]
  },
  {
   "cell_type": "markdown",
   "id": "4b3e629c",
   "metadata": {},
   "source": [
    "You might have noticed that running that second cell did not output anything, however, we can access that value again and again in the future.\n",
    "\n"
   ]
  },
  {
   "cell_type": "code",
   "execution_count": null,
   "id": "c4044d9b",
   "metadata": {},
   "outputs": [],
   "source": [
    "# We can print the value as follows\n",
    "y"
   ]
  },
  {
   "cell_type": "code",
   "execution_count": null,
   "id": "436a2898",
   "metadata": {},
   "outputs": [],
   "source": [
    "# We can also use it in other calculations now!\n",
    "y * 2"
   ]
  },
  {
   "cell_type": "markdown",
   "id": "4ed24e8f",
   "metadata": {},
   "source": [
    "*** \n",
    "### Tables"
   ]
  },
  {
   "cell_type": "code",
   "execution_count": null,
   "id": "1894ae62",
   "metadata": {},
   "outputs": [],
   "source": []
  }
 ],
 "metadata": {
  "kernelspec": {
   "display_name": "Python 3 (ipykernel)",
   "language": "python",
   "name": "python3"
  },
  "language_info": {
   "codemirror_mode": {
    "name": "ipython",
    "version": 3
   },
   "file_extension": ".py",
   "mimetype": "text/x-python",
   "name": "python",
   "nbconvert_exporter": "python",
   "pygments_lexer": "ipython3",
   "version": "3.9.12"
  },
  "vscode": {
   "interpreter": {
    "hash": "844e5ba5d4c316c035929c4fd91388752dd6dce21e7d80073ac03afad47246bb"
   }
  }
 },
 "nbformat": 4,
 "nbformat_minor": 5
}
