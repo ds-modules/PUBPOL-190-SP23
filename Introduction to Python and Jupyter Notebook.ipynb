{
 "cells": [
  {
   "cell_type": "markdown",
   "id": "a825fb92",
   "metadata": {},
   "source": [
    "## [PP190] Introduction to Python and Jupyter Notebook\n",
    "### Professor Anibel Ferus-Comelo\n",
    "\n",
    "***\n",
    "\n",
    "### Learning Outcomes\n",
    "1. \n",
    "\n",
    "*Estimated time: 60 minutes\n",
    "***\n",
    "### Table of Contents\n"
   ]
  },
  {
   "cell_type": "markdown",
   "id": "0fb7e6bc",
   "metadata": {},
   "source": [
    "***\n",
    "### Introduction to Python and Jupyter Notebook"
   ]
  },
  {
   "cell_type": "code",
   "execution_count": null,
   "id": "4b08209e",
   "metadata": {},
   "outputs": [],
   "source": []
  },
  {
   "cell_type": "markdown",
   "id": "38a8cab2",
   "metadata": {},
   "source": [
    "*** \n",
    "### Python Basics"
   ]
  },
  {
   "cell_type": "markdown",
   "metadata": {
   "tags": [
    "ignore"]},
   "source": [
    "**Python** is a popular programming language, for both data science and general software development. It gives us a way for us to communicate with the computer and give it instructions, which is why mastering the fundamentals is critical. \n",
    "\n",
    "Just like any language, Python has a set vocabulary made up of words it can understand, and a syntax which provides the rules for how to structure our commands and give instructions."
   ]
  },
  {
   "cell_type": "markdown",
   "id": "4ed24e8f",
   "metadata": {},
   "source": [
    "*** \n",
    "### Tables"
   ]
  },
  {
   "cell_type": "code",
   "execution_count": null,
   "id": "1894ae62",
   "metadata": {},
   "outputs": [],
   "source": []
  }
 ],
 "metadata": {
  "kernelspec": {
   "display_name": "Python 3 (ipykernel)",
   "language": "python",
   "name": "python3"
  },
  "language_info": {
   "codemirror_mode": {
    "name": "ipython",
    "version": 3
   },
   "file_extension": ".py",
   "mimetype": "text/x-python",
   "name": "python",
   "nbconvert_exporter": "python",
   "pygments_lexer": "ipython3",
   "version": "3.8.8"
  }
 },
 "nbformat": 4,
 "nbformat_minor": 5
}
