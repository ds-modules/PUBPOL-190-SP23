{
 "cells": [
  {
   "cell_type": "markdown",
   "id": "a825fb92",
   "metadata": {},
   "source": [
    "# [PP190] Introduction to Python and Jupyter Notebook\n",
    "### Professor Anibel Ferus-Comelo\n",
    "\n",
    "***\n",
    "\n",
    "## Learning Outcomes\n",
    "1. \n",
    "\n",
    "*Estimated time: 60 minutes\n",
    "***\n",
    "## Table of Contents\n"
   ]
  },
  {
   "cell_type": "markdown",
   "id": "637ebdda",
   "metadata": {},
   "source": [
    "*** \n",
    "## Jupyter Basics"
   ]
  },
  {
   "cell_type": "markdown",
   "id": "995ad044",
   "metadata": {},
   "source": [
    "#### What is a cell?\n",
    "A cell is a block in the Notebook framework, and each cell will be highlighted when clicked on."
   ]
  },
  {
   "cell_type": "markdown",
   "id": "58fe8206",
   "metadata": {},
   "source": [
    "### Types of Cells\n",
    "\n",
    "**Markdown Cell**\n",
    "\n",
    "A markdown cell is where you write text. This is a markdown cell! \n",
    "\n",
    "To edit a markdown cell, you must double click the cell's text."
   ]
  },
  {
   "cell_type": "markdown",
   "id": "827a1bac",
   "metadata": {},
   "source": [
    "**Code Cell**"
   ]
  },
  {
   "cell_type": "code",
   "execution_count": 2,
   "id": "da9a1183",
   "metadata": {},
   "outputs": [],
   "source": [
    "# This is a code cell \n",
    "# A code cell is where you will write code\n",
    "# Errors can arise in code cells if you write bad code"
   ]
  },
  {
   "cell_type": "markdown",
   "id": "087745e1",
   "metadata": {},
   "source": [
    "#### Adding a cell\n",
    "\n",
    "To add a cell, find the plus + sign on the tab bar above.\n",
    "\n",
    "When you add a cell, it is automatically a code cell.\n",
    "\n",
    "To switch from a code cell to a markdown cell, click the *Cell* button in the tab bar then click *Cell Type*."
   ]
  },
  {
   "cell_type": "markdown",
   "id": "540d83f6",
   "metadata": {},
   "source": [
    "**Running a Cell**\n",
    "\n",
    "To run a code cell, click *shift+run* or the *Run* button in the tab bar."
   ]
  },
  {
   "cell_type": "code",
   "execution_count": 3,
   "id": "60dab3c3",
   "metadata": {},
   "outputs": [
    {
     "data": {
      "text/plain": [
       "13"
      ]
     },
     "execution_count": 3,
     "metadata": {},
     "output_type": "execute_result"
    }
   ],
   "source": [
    "# try to run this cell \n",
    "\n",
    "1+12"
   ]
  },
  {
   "cell_type": "markdown",
   "id": "aba6ecd7",
   "metadata": {},
   "source": [
    "**Editing, saving, and submitting work**\n",
    "\n",
    "To delete a cell, you can click the *Scissors* icon in the tab bar or click the *Edit* button in the tab bar.  \n",
    "\n",
    "To add a cell, you can click the *+* icon in the tab bar or click the *Insert* button in the tab bar.  \n",
    "\n",
    "To save your notebook and your progress, click the *File* button in the tab bar.  \n",
    "Tip: It is important to *Save and Checkpoint* your progress in order to be able to revert back to your data if you need to restart your kernel!  \n",
    "\n",
    "To submit your completed notebook, click the *File* button then the *Download as* button. Finally, download the notebook as  *Notebook (.ipynb)*."
   ]
  },
  {
   "cell_type": "markdown",
   "id": "547f7d3b",
   "metadata": {},
   "source": [
    "**How to get more Jupyter help**\n",
    "\n",
    "Here are some resources to familiarize yourself even more with Jupyter! \n",
    "\n",
    "https://docs.jupyter.org/en/latest/\n",
    "\n",
    "https://dataquest.io/blog/jupyter-notebook-tips-tricks-shortcuts/\n",
    "\n",
    "https://jupyter-notebook.readthedocs.io/en/stable/notebook.html"
   ]
  },
  {
   "cell_type": "markdown",
   "id": "38a8cab2",
   "metadata": {},
   "source": [
    "*** \n",
    "## Python Basics"
   ]
  },
  {
   "cell_type": "markdown",
   "id": "3a030b82",
   "metadata": {
    "tags": [
     "ignore"
    ]
   },
   "source": [
    "**Python** is a popular programming language, for both data science and general software development. It gives us a way for us to communicate with the computer and give it instructions, which is why mastering the fundamentals is critical. \n",
    "\n",
    "Just like any language, Python has a set vocabulary made up of words it can understand, and a syntax which provides the rules for how to structure our commands and give instructions. \n",
    "\n",
    "#### Errors\n",
    "Errors in programming are common and totally okay! Don't be afraid when you see an error because more likely than not the solution lies in the error code itself! Let's see what an error looks like. <font color = #d14d0f>**Run the cell below to see the output.**</font>"
   ]
  },
  {
   "cell_type": "code",
   "execution_count": 4,
   "id": "93b127ab",
   "metadata": {
    "tags": [
     "ignore"
    ]
   },
   "outputs": [
    {
     "ename": "SyntaxError",
     "evalue": "unexpected EOF while parsing (2588290324.py, line 1)",
     "output_type": "error",
     "traceback": [
      "\u001b[0;36m  Input \u001b[0;32mIn [4]\u001b[0;36m\u001b[0m\n\u001b[0;31m    print('This line is missing something.'\u001b[0m\n\u001b[0m                                           ^\u001b[0m\n\u001b[0;31mSyntaxError\u001b[0m\u001b[0;31m:\u001b[0m unexpected EOF while parsing\n"
     ]
    }
   ],
   "source": [
    "print('This line is missing something.'"
   ]
  },
  {
   "cell_type": "markdown",
   "id": "8f878937",
   "metadata": {
    "tags": [
     "ignore"
    ]
   },
   "source": [
    "The last line of the error message in the output attempts to tell you what went wrong. You should see a message saying \"SyntaxError: unexpected EOF while parsing.\" This just means it expected a closing to your code in this instance. <font color = #d14d0f>**Try adding a parentheses to end the statement and watch the error message disappear!**</font>"
   ]
  },
  {
   "cell_type": "markdown",
   "id": "ac8be02c",
   "metadata": {},
   "source": [
    "### Expressions"
   ]
  },
  {
   "cell_type": "markdown",
   "id": "883036fd",
   "metadata": {},
   "source": [
    "Programs are made up of expressions, which describe to the computer how to combine pieces of data. For example, a multiplication expression consists of a * symbol between two numerical expressions. \n",
    "\n",
    "Expressions, such as 5 * 3, are evaluated by the computer. The value (the result of evaluation) of the last expression in each cell, 15 in this case, is displayed below the cell. <font color = #d14d0f>**Try running the cell below to see the value of the expression!**</font>"
   ]
  },
  {
   "cell_type": "code",
   "execution_count": 5,
   "id": "75d7e906",
   "metadata": {},
   "outputs": [
    {
     "ename": "SyntaxError",
     "evalue": "invalid syntax (2421471793.py, line 1)",
     "output_type": "error",
     "traceback": [
      "\u001b[0;36m  Input \u001b[0;32mIn [5]\u001b[0;36m\u001b[0m\n\u001b[0;31m    5 * * 3\u001b[0m\n\u001b[0m        ^\u001b[0m\n\u001b[0;31mSyntaxError\u001b[0m\u001b[0;31m:\u001b[0m invalid syntax\n"
     ]
    }
   ],
   "source": [
    "5 * * 3"
   ]
  },
  {
   "cell_type": "markdown",
   "id": "f6062be6",
   "metadata": {},
   "source": [
    "The grammar rules of a programming language are strict. In Python, the * symbol cannot appear twice in a row. Instead of computing the cell, it will show a SyntaxError error. The Syntax of a language is its set of grammar rules, and a SyntaxError indicates that an expression structure doesn’t match any of the rules of the language. <font color = #d14d0f>**Run the cell below to see the SyntaxError!**</font>"
   ]
  },
  {
   "cell_type": "code",
   "execution_count": 6,
   "id": "5ef8a4a3",
   "metadata": {},
   "outputs": [
    {
     "data": {
      "text/plain": [
       "15"
      ]
     },
     "execution_count": 6,
     "metadata": {},
     "output_type": "execute_result"
    }
   ],
   "source": [
    "5 * 3"
   ]
  },
  {
   "cell_type": "markdown",
   "id": "b2d33503",
   "metadata": {},
   "source": [
    "Small changes to an expression can change its meaning entirely. Below, the space between the *’s has been removed. Because ** appears between two numerical expressions, the expression is an exponentiation expression (the first number raised to the power of the second: 5 times 5 times 5). The symbols * and ** are called operators, and the values they combine are called operands."
   ]
  },
  {
   "cell_type": "code",
   "execution_count": 7,
   "id": "5b006b72",
   "metadata": {},
   "outputs": [
    {
     "data": {
      "text/plain": [
       "125"
      ]
     },
     "execution_count": 7,
     "metadata": {},
     "output_type": "execute_result"
    }
   ],
   "source": [
    "5 ** 3"
   ]
  },
  {
   "cell_type": "markdown",
   "id": "211f2fd4",
   "metadata": {},
   "source": [
    "### Common Operators\n",
    "\n",
    "In Python, the following operators are essential\n",
    "\n",
    "| Expression Type | Operator | Example | Value |\n",
    "| --- | --- | --- | --- |\n",
    "| Addition | + | 2 + 3 | 5 |\n",
    "| Subtraction | - | 2 - 3 | -1 |\n",
    "| Multiplication | * | 2 * 3 | 6 |\n",
    "| Division | / | 6 / 3 | 2 |\n",
    "| Remainder | % | 7 % 3 | 1 |\n",
    "| Exponentiation | ** | 2 ** 3 | 8 |"
   ]
  },
  {
   "cell_type": "markdown",
   "id": "8b1cd6e5",
   "metadata": {},
   "source": [
    "Python expressions obey the same familiar rules of PEMDAS as in algebra: multiplication and division occur before addition and subtraction. Parentheses can be used to group together smaller expressions within a larger expression. <font color = #d14d0f>**Try running the cell below to see the difference parentheses can make!**</font> "
   ]
  },
  {
   "cell_type": "code",
   "execution_count": 8,
   "id": "81c60dbf",
   "metadata": {},
   "outputs": [
    {
     "data": {
      "text/plain": [
       "17.555555555555557"
      ]
     },
     "execution_count": 8,
     "metadata": {},
     "output_type": "execute_result"
    }
   ],
   "source": [
    "1 + 2 * 3 * 4 * 5 / 6 ** 3 + 7 + 8 - 9 + 10"
   ]
  },
  {
   "cell_type": "code",
   "execution_count": 9,
   "id": "ebce4469",
   "metadata": {},
   "outputs": [
    {
     "data": {
      "text/plain": [
       "2017.0"
      ]
     },
     "execution_count": 9,
     "metadata": {},
     "output_type": "execute_result"
    }
   ],
   "source": [
    "1 + 2 * (3 * 4 * 5 / 6) ** 3 + 7 + 8 - 9 + 10"
   ]
  },
  {
   "cell_type": "markdown",
   "id": "5c851941",
   "metadata": {
    "tags": [
     "ignore"
    ]
   },
   "source": [
    "#### Assignment Statements"
   ]
  },
  {
   "cell_type": "markdown",
   "id": "0ae379f9",
   "metadata": {
    "tags": [
     "ignore"
    ]
   },
   "source": [
    "Names are given to values in Python using an **assignment statement**. An assignment statement consists of the name (on the left), followed by =, which is followed by any expression. \n",
    "\n",
    "The value of the expression to the right of the =, is **assigned** to the name (on the right). Once you've assigned an expression to a name, you can access that expression through the name in future instances. <font color = #d14d0f>**Try running the cell below to see how names are stored!**</font> "
   ]
  },
  {
   "cell_type": "code",
   "execution_count": 10,
   "id": "f4081513",
   "metadata": {},
   "outputs": [
    {
     "data": {
      "text/plain": [
       "12"
      ]
     },
     "execution_count": 10,
     "metadata": {},
     "output_type": "execute_result"
    }
   ],
   "source": [
    "a = 5 \n",
    "b = 7 \n",
    "a + b"
   ]
  },
  {
   "cell_type": "markdown",
   "id": "afae4524",
   "metadata": {},
   "source": [
    "Sometimes, instead of trying to work with raw information all the time in a long calculation like 4 - 2 * (1 + 6 / 3) you will want to store it as an assignment statement for easy access in future calculations. <font color = #d14d0f>**Check out how we can use assignment statements to our advantage below!**</font>"
   ]
  },
  {
   "cell_type": "code",
   "execution_count": 11,
   "id": "05a16f06",
   "metadata": {},
   "outputs": [
    {
     "data": {
      "text/plain": [
       "-2.0"
      ]
     },
     "execution_count": 11,
     "metadata": {},
     "output_type": "execute_result"
    }
   ],
   "source": [
    "# Instead of performing this calculation over and over again ...\n",
    "4 - 2 * (1 + 6 / 3)"
   ]
  },
  {
   "cell_type": "code",
   "execution_count": 12,
   "id": "7871f99e",
   "metadata": {},
   "outputs": [],
   "source": [
    "# Try assigning it to a name for future use!\n",
    "y = 4 - 2 * (1 + 6 / 3)"
   ]
  },
  {
   "cell_type": "markdown",
   "id": "0e60a9c9",
   "metadata": {},
   "source": [
    "An assignment statement, such as y = 4 - 2 * (1 + 6 / 3) has three parts: on the left is the variable name (y), on the right is the variable's value (4 - 2 * (1 + 6 / 3)), and the equals sign in the middle tells the computer to assign the value to the name."
   ]
  },
  {
   "cell_type": "markdown",
   "id": "4b3e629c",
   "metadata": {},
   "source": [
    "You might have noticed that running that second cell did not output anything, however, we can access that value again and again in the future.\n",
    "\n"
   ]
  },
  {
   "cell_type": "code",
   "execution_count": 13,
   "id": "c4044d9b",
   "metadata": {},
   "outputs": [
    {
     "data": {
      "text/plain": [
       "-2.0"
      ]
     },
     "execution_count": 13,
     "metadata": {},
     "output_type": "execute_result"
    }
   ],
   "source": [
    "# We can print the value as follows\n",
    "y"
   ]
  },
  {
   "cell_type": "code",
   "execution_count": 14,
   "id": "436a2898",
   "metadata": {},
   "outputs": [
    {
     "data": {
      "text/plain": [
       "-4.0"
      ]
     },
     "execution_count": 14,
     "metadata": {},
     "output_type": "execute_result"
    }
   ],
   "source": [
    "# We can also use it in other calculations now!\n",
    "y * 2"
   ]
  },
  {
   "cell_type": "markdown",
   "id": "c4d45c83",
   "metadata": {},
   "source": [
    "Names must start with a letter, but can contain both letters and numbers. A name cannot contain a space; instead, it is common to use an underscore character _ to replace each space.\n",
    "\n",
    "Names are only as useful as you make them; it’s up to the programmer to choose names that are easy to interpret. Typically, more meaningful names can be invented than a and b. For example, to describe the different types of data from a labor report, the following names clarify the meaning of the various quantities involved."
   ]
  },
  {
   "cell_type": "code",
   "execution_count": 15,
   "id": "c787517e",
   "metadata": {},
   "outputs": [
    {
     "data": {
      "text/plain": [
       "0.077"
      ]
     },
     "execution_count": 15,
     "metadata": {},
     "output_type": "execute_result"
    }
   ],
   "source": [
    "year = 2022\n",
    "unemployment_rate_females = 0.04\n",
    "unemployment_rate_males = 0.037\n",
    "total_unemployment_rate = unemployment_rate_females + unemployment_rate_males\n",
    "total_unemployment_rate"
   ]
  },
  {
   "cell_type": "markdown",
   "id": "4ed24e8f",
   "metadata": {},
   "source": [
    "*** \n",
    "## Introduction to Tables\n",
    "\n",
    "### What is a Table?\n",
    "\n",
    "A table is an object in Python that allows you to store data. It is a collection of rows and columns. Each row corresponds to one entry in the table and each column corresponds to a particular aspect you have data about. For example, say you have a table with information about 10 college students. It would have one row for each student and one column for each aspect of the students (e.g. name, major, year in college, etc.).\n",
    "\n",
    "### Table Functions\n",
    "\n",
    "You can create and edit tables using functions. One type of functions we can use on tables are called table methods. We use table methods in a specific format: table_name.method_name(any arguments). We'll look at plenty of examples of table methods below!\n",
    "\n",
    "#### How to Create Tables\n",
    "\n",
    "Let's look at how to create tables. First, we have to import the `datascience` module using the following import statement:"
   ]
  },
  {
   "cell_type": "code",
   "execution_count": 16,
   "id": "1894ae62",
   "metadata": {},
   "outputs": [],
   "source": [
    "from datascience import *"
   ]
  },
  {
   "cell_type": "markdown",
   "id": "d42cec6e",
   "metadata": {},
   "source": [
    "A module is a collection of functions. We have to import modules using an import statement to use the functions they contain. We want to use the table functions in the `datascience` module, so we're importing it. The above statement is basically saying: from the `datascience` module, import all functions (which is what the * means).\n",
    "\n",
    "Next, we can create an empty table using the `Table()` function:"
   ]
  },
  {
   "cell_type": "code",
   "execution_count": 17,
   "id": "1b2ae0d9",
   "metadata": {},
   "outputs": [],
   "source": [
    "new_table = Table()"
   ]
  },
  {
   "cell_type": "markdown",
   "id": "d4f43019",
   "metadata": {},
   "source": [
    "Here, we created a new variable called `new_table`, which is assigned to an empty table. Because it's an empty table, nothing shows up when we display it:"
   ]
  },
  {
   "cell_type": "code",
   "execution_count": 18,
   "id": "68c561bd",
   "metadata": {},
   "outputs": [
    {
     "data": {
      "text/html": [
       "<table border=\"1\" class=\"dataframe\">\n",
       "    <thead>\n",
       "        <tr>\n",
       "            \n",
       "        </tr>\n",
       "    </thead>\n",
       "    <tbody>\n",
       "    </tbody>\n",
       "</table>"
      ],
      "text/plain": []
     },
     "execution_count": 18,
     "metadata": {},
     "output_type": "execute_result"
    }
   ],
   "source": [
    "new_table"
   ]
  },
  {
   "cell_type": "markdown",
   "id": "cd919718",
   "metadata": {},
   "source": [
    "Now, let's add some data to this table. We can do this by creating the columns we want the table to have, then adding those columns to the table.\n",
    "\n",
    "Each column is a collection of values of the same type. So, we can use the `make_array` function to create columns."
   ]
  },
  {
   "cell_type": "code",
   "execution_count": 19,
   "id": "0b686fe2",
   "metadata": {},
   "outputs": [],
   "source": [
    "cafe_names = make_array(\"Peet's\", \"Romeo's\", \"Milano\", \"Strada\")\n",
    "cafe_prices = make_array(4, 5, 6.5, 3)"
   ]
  },
  {
   "cell_type": "markdown",
   "id": "4ff88821",
   "metadata": {},
   "source": [
    "Above, we created two columns: one for the names of different cafes in Berkeley and one for the prices of their coffee (note that the prices are made-up). Now, let's add these columns to the table using the `.with_columns` method:"
   ]
  },
  {
   "cell_type": "code",
   "execution_count": 20,
   "id": "d9164e74",
   "metadata": {},
   "outputs": [],
   "source": [
    "new_table = new_table.with_columns(\"Cafe Names\", cafe_names,\n",
    "                                  \"Cafe Prices\", cafe_prices)"
   ]
  },
  {
   "cell_type": "markdown",
   "id": "a4290208",
   "metadata": {},
   "source": [
    "The first argument in the `.with_columns` method is the name of your column – make sure to enclose this name within single or double quotes. The second argument is the array with the values for this column.\n",
    "\n",
    "If we look at `new_table` now, we'll see that two new columns are added to it:"
   ]
  },
  {
   "cell_type": "code",
   "execution_count": 21,
   "id": "7257cd1d",
   "metadata": {},
   "outputs": [
    {
     "data": {
      "text/html": [
       "<table border=\"1\" class=\"dataframe\">\n",
       "    <thead>\n",
       "        <tr>\n",
       "            <th>Cafe Names</th> <th>Cafe Prices</th>\n",
       "        </tr>\n",
       "    </thead>\n",
       "    <tbody>\n",
       "        <tr>\n",
       "            <td>Peet's    </td> <td>4          </td>\n",
       "        </tr>\n",
       "        <tr>\n",
       "            <td>Romeo's   </td> <td>5          </td>\n",
       "        </tr>\n",
       "        <tr>\n",
       "            <td>Milano    </td> <td>6.5        </td>\n",
       "        </tr>\n",
       "        <tr>\n",
       "            <td>Strada    </td> <td>3          </td>\n",
       "        </tr>\n",
       "    </tbody>\n",
       "</table>"
      ],
      "text/plain": [
       "Cafe Names | Cafe Prices\n",
       "Peet's     | 4\n",
       "Romeo's    | 5\n",
       "Milano     | 6.5\n",
       "Strada     | 3"
      ]
     },
     "execution_count": 21,
     "metadata": {},
     "output_type": "execute_result"
    }
   ],
   "source": [
    "new_table"
   ]
  },
  {
   "cell_type": "markdown",
   "id": "4ec000f0",
   "metadata": {},
   "source": [
    "This is a good resource for learning about tables: https://inferentialthinking.com/chapters/06/Tables.html\n",
    "\n",
    "Feel free to also look through [documentation](http://data8.org/datascience/tables.html) on Tables, which lists the different methods of the `Table` object. We'll learn more about tables within the coming week!"
   ]
  },
  {
   "cell_type": "markdown",
   "id": "b65c5ba9",
   "metadata": {},
   "source": [
    "## Introducing the Dataset"
   ]
  },
  {
   "cell_type": "markdown",
   "id": "6293db86",
   "metadata": {},
   "source": [
    "In this notebook, you will use data from the USBLS (U.S. Bureau of Labor Statistics).\n",
    "\n",
    "The USBLS reports data analyzing different factors that contribute to the varying levels and causes of unemployment and labor force participation in the United States. \n",
    "\n",
    "In this dataset, you will information from the marital and family labor force statistics from the Current Population Survey about unemployment rates over the years of individuals with children of different ages. This will provide a framework for understanding the different factors that can go into unemployment rates, and effective policies to reduce it.\n",
    "\n",
    "If you are interested in learning more, please visit:\n",
    "\n",
    "[USBLS data and information](https://www.bls.gov/cps/demographics.htm#families)"
   ]
  },
  {
   "cell_type": "markdown",
   "id": "31188553",
   "metadata": {},
   "source": [
    "### The Data"
   ]
  },
  {
   "cell_type": "markdown",
   "id": "54c0dde5",
   "metadata": {},
   "source": [
    "Below you will find a data dictionary for future reference. This data dictionary goes over what the column names mean in the data we are about to load."
   ]
  },
  {
   "cell_type": "markdown",
   "id": "bf5f1c84",
   "metadata": {},
   "source": [
    "| Column Name | Definition |\n",
    "| :- | :- |\n",
    "| year | The year the data in the row is for. |\n",
    "| overall_6_to_17 | The overall unemployment rate (%) for individuals with children strictly between the ages of 6 and 17. |\n",
    "| men_6_to_17 | The unemployment rate (%) for men with children strictly between the ages of 6 and 17. |\n",
    "| women_6_to_17 | The unemployment rate (%) for women with children strictly between the ages of 6 and 17. |\n",
    "| overall_under_6 | The overall unemployment rate (%) for individuals with children strictly between the age of 6. |\n",
    "| men_under_6 | The unemployment rate (%) for men with children strictly between the age of 6. |\n",
    "| women_under_6 | The unemployment rate (%) for women with children strictly between the age of 6. |"
   ]
  },
  {
   "cell_type": "markdown",
   "id": "11627acf",
   "metadata": {},
   "source": [
    "Now, we're going to load the data we're going to be working with! Run the cell below to see the data."
   ]
  },
  {
   "cell_type": "code",
   "execution_count": 40,
   "id": "76891a74",
   "metadata": {},
   "outputs": [
    {
     "data": {
      "text/html": [
       "<table border=\"1\" class=\"dataframe\">\n",
       "    <thead>\n",
       "        <tr>\n",
       "            <th>year</th> <th>overall_6_to_17</th> <th>men_6_to_17</th> <th>women_6_to_17</th> <th>overall_under_6</th> <th>men_under_6</th> <th>women_under_6</th>\n",
       "        </tr>\n",
       "    </thead>\n",
       "    <tbody>\n",
       "        <tr>\n",
       "            <td>2009</td> <td>7.1            </td> <td>7.1        </td> <td>7.1          </td> <td>8.8            </td> <td>7.8        </td> <td>10           </td>\n",
       "        </tr>\n",
       "        <tr>\n",
       "            <td>2010</td> <td>7.4            </td> <td>7.1        </td> <td>7.8          </td> <td>9.3            </td> <td>8          </td> <td>10.8         </td>\n",
       "        </tr>\n",
       "        <tr>\n",
       "            <td>2011</td> <td>6.9            </td> <td>6.1        </td> <td>7.7          </td> <td>8.6            </td> <td>6.8        </td> <td>10.8         </td>\n",
       "        </tr>\n",
       "        <tr>\n",
       "            <td>2012</td> <td>6.3            </td> <td>5.2        </td> <td>7.3          </td> <td>7.8            </td> <td>6          </td> <td>9.9          </td>\n",
       "        </tr>\n",
       "        <tr>\n",
       "            <td>2013</td> <td>5.4            </td> <td>4.5        </td> <td>6.2          </td> <td>7.1            </td> <td>5.4        </td> <td>8.9          </td>\n",
       "        </tr>\n",
       "    </tbody>\n",
       "</table>\n",
       "<p>... (8 rows omitted)</p>"
      ],
      "text/plain": [
       "<IPython.core.display.HTML object>"
      ]
     },
     "metadata": {},
     "output_type": "display_data"
    }
   ],
   "source": [
    "# Below we see an assignment statement.\n",
    "# We are telling the computer to create a Table and read in some data.\n",
    "import numpy as np\n",
    "unemployment = Table().read_table('marital.csv')\n",
    "\n",
    "# This next command will display the top 5 entries. You can change the number to view a different amount of entries at time.\n",
    "unemployment.show(5)"
   ]
  },
  {
   "cell_type": "markdown",
   "id": "10d89fcd",
   "metadata": {},
   "source": [
    "## Exploring the Data"
   ]
  },
  {
   "cell_type": "markdown",
   "id": "ac091ba7",
   "metadata": {},
   "source": [
    "Now that we have the table loaded and saved with an assignment statement, we can start to use some of the table documentation that we learned above to reorganize the data as we like!"
   ]
  },
  {
   "cell_type": "markdown",
   "id": "2110a3b4",
   "metadata": {},
   "source": [
    "### Sorting"
   ]
  },
  {
   "cell_type": "markdown",
   "id": "48efa318",
   "metadata": {},
   "source": [
    "\n",
    "Let's say that we want to specifcally see which years the unemployment rate was the highest for women with children under the age of 6.\n",
    "\n",
    "To do this, we would use the `tbl.sort` method, which create a copy of a table sorted by the values in a column. The table generated will default to ascending order unless `descending = True` is included.\n",
    "\n",
    "Run the cell below to generate the sorted table!"
   ]
  },
  {
   "cell_type": "code",
   "execution_count": 41,
   "id": "8ecdd14b",
   "metadata": {},
   "outputs": [
    {
     "data": {
      "text/html": [
       "<table border=\"1\" class=\"dataframe\">\n",
       "    <thead>\n",
       "        <tr>\n",
       "            <th>year</th> <th>overall_6_to_17</th> <th>men_6_to_17</th> <th>women_6_to_17</th> <th>overall_under_6</th> <th>men_under_6</th> <th>women_under_6</th>\n",
       "        </tr>\n",
       "    </thead>\n",
       "    <tbody>\n",
       "        <tr>\n",
       "            <td>2010</td> <td>7.4            </td> <td>7.1        </td> <td>7.8          </td> <td>9.3            </td> <td>8          </td> <td>10.8         </td>\n",
       "        </tr>\n",
       "        <tr>\n",
       "            <td>2011</td> <td>6.9            </td> <td>6.1        </td> <td>7.7          </td> <td>8.6            </td> <td>6.8        </td> <td>10.8         </td>\n",
       "        </tr>\n",
       "        <tr>\n",
       "            <td>2009</td> <td>7.1            </td> <td>7.1        </td> <td>7.1          </td> <td>8.8            </td> <td>7.8        </td> <td>10           </td>\n",
       "        </tr>\n",
       "        <tr>\n",
       "            <td>2012</td> <td>6.3            </td> <td>5.2        </td> <td>7.3          </td> <td>7.8            </td> <td>6          </td> <td>9.9          </td>\n",
       "        </tr>\n",
       "        <tr>\n",
       "            <td>2013</td> <td>5.4            </td> <td>4.5        </td> <td>6.2          </td> <td>7.1            </td> <td>5.4        </td> <td>8.9          </td>\n",
       "        </tr>\n",
       "        <tr>\n",
       "            <td>2020</td> <td>6.2            </td> <td>5.2        </td> <td>7.1          </td> <td>7              </td> <td>6          </td> <td>8.1          </td>\n",
       "        </tr>\n",
       "        <tr>\n",
       "            <td>2014</td> <td>4.3            </td> <td>3.6        </td> <td>5.1          </td> <td>5.9            </td> <td>4.2        </td> <td>7.8          </td>\n",
       "        </tr>\n",
       "        <tr>\n",
       "            <td>2015</td> <td>3.8            </td> <td>3          </td> <td>4.5          </td> <td>4.9            </td> <td>3.7        </td> <td>6.3          </td>\n",
       "        </tr>\n",
       "        <tr>\n",
       "            <td>2021</td> <td>4.1            </td> <td>3.6        </td> <td>4.6          </td> <td>4.8            </td> <td>4.1        </td> <td>5.7          </td>\n",
       "        </tr>\n",
       "        <tr>\n",
       "            <td>2016</td> <td>3.6            </td> <td>3          </td> <td>4.2          </td> <td>4.5            </td> <td>3.5        </td> <td>5.6          </td>\n",
       "        </tr>\n",
       "    </tbody>\n",
       "</table>\n",
       "<p>... (3 rows omitted)</p>"
      ],
      "text/plain": [
       "year | overall_6_to_17 | men_6_to_17 | women_6_to_17 | overall_under_6 | men_under_6 | women_under_6\n",
       "2010 | 7.4             | 7.1         | 7.8           | 9.3             | 8           | 10.8\n",
       "2011 | 6.9             | 6.1         | 7.7           | 8.6             | 6.8         | 10.8\n",
       "2009 | 7.1             | 7.1         | 7.1           | 8.8             | 7.8         | 10\n",
       "2012 | 6.3             | 5.2         | 7.3           | 7.8             | 6           | 9.9\n",
       "2013 | 5.4             | 4.5         | 6.2           | 7.1             | 5.4         | 8.9\n",
       "2020 | 6.2             | 5.2         | 7.1           | 7               | 6           | 8.1\n",
       "2014 | 4.3             | 3.6         | 5.1           | 5.9             | 4.2         | 7.8\n",
       "2015 | 3.8             | 3           | 4.5           | 4.9             | 3.7         | 6.3\n",
       "2021 | 4.1             | 3.6         | 4.6           | 4.8             | 4.1         | 5.7\n",
       "2016 | 3.6             | 3           | 4.2           | 4.5             | 3.5         | 5.6\n",
       "... (3 rows omitted)"
      ]
     },
     "execution_count": 41,
     "metadata": {},
     "output_type": "execute_result"
    }
   ],
   "source": [
    "sorted_table = unemployment.sort(\"women_under_6\", descending = True) \n",
    "# We included descending = True because we want to see the years with the highest unemployment rate!\n",
    "\n",
    "sorted_table"
   ]
  },
  {
   "cell_type": "markdown",
   "id": "29b37daf",
   "metadata": {},
   "source": [
    "### Filtering"
   ]
  },
  {
   "cell_type": "markdown",
   "id": "160c185d",
   "metadata": {},
   "source": [
    "So, now we have a table with the sorted data, but we can still see the other columns! How would we generate a table with the sorted data, but just displaying the column we want to see?\n",
    "\n",
    "To accomplish this, we would use the `tbl.where` method, which creates a copy of the table displaying only the column(s) specified.\n",
    "\n",
    "Run the cell below to see the table with just the sorted data!"
   ]
  },
  {
   "cell_type": "code",
   "execution_count": 42,
   "id": "0fef25d7",
   "metadata": {},
   "outputs": [
    {
     "data": {
      "text/html": [
       "<table border=\"1\" class=\"dataframe\">\n",
       "    <thead>\n",
       "        <tr>\n",
       "            <th>year</th> <th>overall_6_to_17</th> <th>men_6_to_17</th> <th>women_6_to_17</th> <th>overall_under_6</th> <th>men_under_6</th> <th>women_under_6</th>\n",
       "        </tr>\n",
       "    </thead>\n",
       "    <tbody>\n",
       "        <tr>\n",
       "            <td>2010</td> <td>7.4            </td> <td>7.1        </td> <td>7.8          </td> <td>9.3            </td> <td>8          </td> <td>10.8         </td>\n",
       "        </tr>\n",
       "        <tr>\n",
       "            <td>2011</td> <td>6.9            </td> <td>6.1        </td> <td>7.7          </td> <td>8.6            </td> <td>6.8        </td> <td>10.8         </td>\n",
       "        </tr>\n",
       "        <tr>\n",
       "            <td>2009</td> <td>7.1            </td> <td>7.1        </td> <td>7.1          </td> <td>8.8            </td> <td>7.8        </td> <td>10           </td>\n",
       "        </tr>\n",
       "        <tr>\n",
       "            <td>2012</td> <td>6.3            </td> <td>5.2        </td> <td>7.3          </td> <td>7.8            </td> <td>6          </td> <td>9.9          </td>\n",
       "        </tr>\n",
       "        <tr>\n",
       "            <td>2013</td> <td>5.4            </td> <td>4.5        </td> <td>6.2          </td> <td>7.1            </td> <td>5.4        </td> <td>8.9          </td>\n",
       "        </tr>\n",
       "        <tr>\n",
       "            <td>2020</td> <td>6.2            </td> <td>5.2        </td> <td>7.1          </td> <td>7              </td> <td>6          </td> <td>8.1          </td>\n",
       "        </tr>\n",
       "        <tr>\n",
       "            <td>2014</td> <td>4.3            </td> <td>3.6        </td> <td>5.1          </td> <td>5.9            </td> <td>4.2        </td> <td>7.8          </td>\n",
       "        </tr>\n",
       "        <tr>\n",
       "            <td>2015</td> <td>3.8            </td> <td>3          </td> <td>4.5          </td> <td>4.9            </td> <td>3.7        </td> <td>6.3          </td>\n",
       "        </tr>\n",
       "        <tr>\n",
       "            <td>2021</td> <td>4.1            </td> <td>3.6        </td> <td>4.6          </td> <td>4.8            </td> <td>4.1        </td> <td>5.7          </td>\n",
       "        </tr>\n",
       "        <tr>\n",
       "            <td>2016</td> <td>3.6            </td> <td>3          </td> <td>4.2          </td> <td>4.5            </td> <td>3.5        </td> <td>5.6          </td>\n",
       "        </tr>\n",
       "    </tbody>\n",
       "</table>\n",
       "<p>... (3 rows omitted)</p>"
      ],
      "text/plain": [
       "year | overall_6_to_17 | men_6_to_17 | women_6_to_17 | overall_under_6 | men_under_6 | women_under_6\n",
       "2010 | 7.4             | 7.1         | 7.8           | 9.3             | 8           | 10.8\n",
       "2011 | 6.9             | 6.1         | 7.7           | 8.6             | 6.8         | 10.8\n",
       "2009 | 7.1             | 7.1         | 7.1           | 8.8             | 7.8         | 10\n",
       "2012 | 6.3             | 5.2         | 7.3           | 7.8             | 6           | 9.9\n",
       "2013 | 5.4             | 4.5         | 6.2           | 7.1             | 5.4         | 8.9\n",
       "2020 | 6.2             | 5.2         | 7.1           | 7               | 6           | 8.1\n",
       "2014 | 4.3             | 3.6         | 5.1           | 5.9             | 4.2         | 7.8\n",
       "2015 | 3.8             | 3           | 4.5           | 4.9             | 3.7         | 6.3\n",
       "2021 | 4.1             | 3.6         | 4.6           | 4.8             | 4.1         | 5.7\n",
       "2016 | 3.6             | 3           | 4.2           | 4.5             | 3.5         | 5.6\n",
       "... (3 rows omitted)"
      ]
     },
     "execution_count": 42,
     "metadata": {},
     "output_type": "execute_result"
    }
   ],
   "source": [
    "filtered_table = sorted_table.where(\"women_under_6\") # Place the column name in quotes\n",
    "filtered_table"
   ]
  },
  {
   "cell_type": "markdown",
   "id": "26a913a4",
   "metadata": {},
   "source": [
    "### Statistical Analysis"
   ]
  },
  {
   "cell_type": "markdown",
   "id": "435af7fd",
   "metadata": {},
   "source": [
    "Now that we have some of the basic table manipulation concepts down, let's attempt to play around with the data a little! Let's try to find the difference in the average unemployment rates of men and women with children under 6.\n",
    "\n",
    "First, we'll need to find the average unemployment rates of both columns. To store all the values of a column as an array, use the `.column` function, and type in the name of the column."
   ]
  },
  {
   "cell_type": "code",
   "execution_count": 43,
   "id": "97ed81ae",
   "metadata": {},
   "outputs": [],
   "source": [
    "# This will store the values in the 'men_under_6' column as an array!\n",
    "men_column = unemployment.column('men_under_6')\n",
    "\n",
    "# Now you try!\n",
    "women_column = "
   ]
  },
  {
   "cell_type": "markdown",
   "id": "ae2a2013",
   "metadata": {},
   "source": [
    "Next, we want to find the average unemployment rates of the respective columns. For this, we need to use the `.mean` function."
   ]
  },
  {
   "cell_type": "code",
   "execution_count": 48,
   "id": "c91b97c5",
   "metadata": {},
   "outputs": [],
   "source": [
    "men_averages = np.mean(men_column)\n",
    "\n",
    "# Now you try!\n",
    "women_averages = "
   ]
  },
  {
   "cell_type": "markdown",
   "id": "b351afe7",
   "metadata": {},
   "source": [
    "Now, to find the difference between the average unemployment rates, you would subtract one from the other!"
   ]
  },
  {
   "cell_type": "code",
   "execution_count": 52,
   "id": "6371da29",
   "metadata": {},
   "outputs": [
    {
     "data": {
      "text/plain": [
       "2.6076923076923064"
      ]
     },
     "execution_count": 52,
     "metadata": {},
     "output_type": "execute_result"
    }
   ],
   "source": [
    "difference = women_averages - men_averages\n",
    "difference"
   ]
  },
  {
   "cell_type": "markdown",
   "id": "c1de1da3",
   "metadata": {},
   "source": [
    "### Grouping Columns"
   ]
  },
  {
   "cell_type": "markdown",
   "id": "49d11799",
   "metadata": {},
   "source": [
    "Data scientists often need to classify individuals into groups according to shared features, and then identify some characteristics of the groups. The `group` method, with a single argument, counts the number of rows for each category in a column. The result contains one row per unique value in the grouped column.\n",
    "\n",
    "Below, the `group` method lists every distinct year in the unemployment table, and provides the count for the number of times that year appears in the dataset (all the years appear just once)."
   ]
  },
  {
   "cell_type": "code",
   "execution_count": 56,
   "id": "57e9bfaa",
   "metadata": {},
   "outputs": [
    {
     "data": {
      "text/html": [
       "<table border=\"1\" class=\"dataframe\">\n",
       "    <thead>\n",
       "        <tr>\n",
       "            <th>year</th> <th>count</th>\n",
       "        </tr>\n",
       "    </thead>\n",
       "    <tbody>\n",
       "        <tr>\n",
       "            <td>2009</td> <td>1    </td>\n",
       "        </tr>\n",
       "        <tr>\n",
       "            <td>2010</td> <td>1    </td>\n",
       "        </tr>\n",
       "        <tr>\n",
       "            <td>2011</td> <td>1    </td>\n",
       "        </tr>\n",
       "        <tr>\n",
       "            <td>2012</td> <td>1    </td>\n",
       "        </tr>\n",
       "        <tr>\n",
       "            <td>2013</td> <td>1    </td>\n",
       "        </tr>\n",
       "        <tr>\n",
       "            <td>2014</td> <td>1    </td>\n",
       "        </tr>\n",
       "        <tr>\n",
       "            <td>2015</td> <td>1    </td>\n",
       "        </tr>\n",
       "        <tr>\n",
       "            <td>2016</td> <td>1    </td>\n",
       "        </tr>\n",
       "        <tr>\n",
       "            <td>2017</td> <td>1    </td>\n",
       "        </tr>\n",
       "        <tr>\n",
       "            <td>2018</td> <td>1    </td>\n",
       "        </tr>\n",
       "    </tbody>\n",
       "</table>\n",
       "<p>... (3 rows omitted)</p>"
      ],
      "text/plain": [
       "year | count\n",
       "2009 | 1\n",
       "2010 | 1\n",
       "2011 | 1\n",
       "2012 | 1\n",
       "2013 | 1\n",
       "2014 | 1\n",
       "2015 | 1\n",
       "2016 | 1\n",
       "2017 | 1\n",
       "2018 | 1\n",
       "... (3 rows omitted)"
      ]
     },
     "execution_count": 56,
     "metadata": {},
     "output_type": "execute_result"
    }
   ],
   "source": [
    "grouped_years = unemployment.group('year')\n",
    "grouped_years"
   ]
  },
  {
   "cell_type": "markdown",
   "id": "745f71fe",
   "metadata": {},
   "source": [
    "The call to `group` creates a table of counts in each category. The column is called `count` by default, and contains the number of rows in each category."
   ]
  },
  {
   "cell_type": "code",
   "execution_count": null,
   "id": "84bc73a6",
   "metadata": {},
   "outputs": [],
   "source": []
  }
 ],
 "metadata": {
  "kernelspec": {
   "display_name": "Python 3 (ipykernel)",
   "language": "python",
   "name": "python3"
  },
  "language_info": {
   "codemirror_mode": {
    "name": "ipython",
    "version": 3
   },
   "file_extension": ".py",
   "mimetype": "text/x-python",
   "name": "python",
   "nbconvert_exporter": "python",
   "pygments_lexer": "ipython3",
   "version": "3.9.13"
  },
  "vscode": {
   "interpreter": {
    "hash": "844e5ba5d4c316c035929c4fd91388752dd6dce21e7d80073ac03afad47246bb"
   }
  }
 },
 "nbformat": 4,
 "nbformat_minor": 5
}
