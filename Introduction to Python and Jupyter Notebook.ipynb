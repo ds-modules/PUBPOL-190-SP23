{
 "cells": [
  {
   "cell_type": "markdown",
   "id": "65dc485e",
   "metadata": {},
   "source": [
    "## [PP190] Introduction to Python and Jupyter Notebook\n",
    "### Professor Anibel Ferus-Comelo\n",
    "\n",
    "***\n",
    "\n",
    "### Learning Outcomes\n",
    "1. \n",
    "\n",
    "*Estimated time: 60 minutes\n",
    "***\n",
    "### Table of Contents\n"
   ]
  },
  {
   "cell_type": "markdown",
   "id": "0d91e477",
   "metadata": {},
   "source": [
    "***\n",
    "### Introduction to Python and Jupyter Notebook"
   ]
  },
  {
   "cell_type": "code",
   "execution_count": null,
   "id": "feff4f8e",
   "metadata": {},
   "outputs": [],
   "source": []
  },
  {
   "cell_type": "markdown",
   "id": "2a6b38e1",
   "metadata": {},
   "source": [
    "*** \n",
    "### Python Basics"
   ]
  },
  {
   "cell_type": "code",
   "execution_count": null,
   "id": "002478d6",
   "metadata": {},
   "outputs": [],
   "source": []
  },
  {
   "cell_type": "markdown",
   "id": "6736d247",
   "metadata": {},
   "source": [
    "*** \n",
    "### Tables Basics"
   ]
  },
  {
   "cell_type": "code",
   "execution_count": null,
   "id": "e7cad3ef",
   "metadata": {},
   "outputs": [],
   "source": []
  }
 ],
 "metadata": {
  "kernelspec": {
   "display_name": "Python 3 (ipykernel)",
   "language": "python",
   "name": "python3"
  },
  "language_info": {
   "codemirror_mode": {
    "name": "ipython",
    "version": 3
   },
   "file_extension": ".py",
   "mimetype": "text/x-python",
   "name": "python",
   "nbconvert_exporter": "python",
   "pygments_lexer": "ipython3",
   "version": "3.8.8"
  }
 },
 "nbformat": 4,
 "nbformat_minor": 5
}
