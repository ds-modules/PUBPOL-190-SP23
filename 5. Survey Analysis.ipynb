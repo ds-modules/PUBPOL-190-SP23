{
 "cells": [
  {
   "cell_type": "markdown",
   "id": "9823285b-369c-4a07-bd64-afdd0fbdf3eb",
   "metadata": {},
   "source": [
    "# [PUBPOL/ETHSTD C164A] 5. Survey Analysis\n",
    "\n",
    "**Notebook developed by:** <br>\n",
    "Team Lead: Skye Pickett  <br>\n",
    "Module Developers: Leah Hong, Emily Guo, Reynolds Zhang <br>\n",
    "\n",
    "### Learning Outcome\n",
    "\n",
    "In this notebook, you will apply the skills you've learned in the previous 4 notebooks and 1 future notebook to clean and conduct explatory analysis on your own survey data. We will provide guidance on importing your data and setting up basic analysis, but the rest is up to your ideas and your new coding knowledge! Open up previous notebooks for reference and, as always, some resources are provided below.\n",
    "\n",
    "***"
   ]
  },
  {
   "cell_type": "markdown",
   "id": "bed61804-24f7-44a3-831b-e4aed822c88c",
   "metadata": {},
   "source": [
    "### Helpful Data Science Resources \n",
    "Here are some resources you can check out while doing this notebook and to explore data visualization further!\n",
    "- [DATA 8 Textbook](https://inferentialthinking.com/chapters/06/Tables.html) - Tables chapter\n",
    "- [DATA 8 Textbook](https://inferentialthinking.com/chapters/07/Visualization.html) - Visualization chapter\n",
    "- [DATA 8 Textbook](https://inferentialthinking.com/chapters/03/1/Expressions.html) - Expressions and Notebook 1 content\n",
    "- **[Reference Sheet for the datascience Module](http://data8.org/sp22/python-reference.html)**\n",
    "- [Documentation for the datascience Modules](http://data8.org/datascience/index.html)\n",
    "- [Cool Data Visualizations](https://www.tableau.com/learn/articles/best-beautiful-data-visualization-examples)\n",
    "- [Statistica: Find Data on Interesting Topics](https://www.statista.com/)\n",
    "- [Exploratory Data Analysis](https://en.wikipedia.org/wiki/Exploratory_data_analysis)\n"
   ]
  },
  {
   "cell_type": "markdown",
   "id": "77f96104-7672-4b93-9044-127a1486f6d7",
   "metadata": {
    "tags": []
   },
   "source": [
    "### Peer Consulting\n",
    "\n",
    "If you find yourself having trouble with any content in this notebook, Data Peer Consultants are an excellent resource! Click [here](https://dlab.berkeley.edu/training/frontdesk-info) to locate live help.\n",
    "\n",
    "Peer Consultants are there to answer all data-related questions, whether it be about the content of this notebook, applications of data science in the world, or other data science courses offered at Berkeley.\n",
    "***"
   ]
  },
  {
   "cell_type": "markdown",
   "id": "f99f2a75-a58a-40d5-be3b-ee0054dcfc70",
   "metadata": {},
   "source": [
    "Remember you can change the type of cell from Code cell to Markdown cell to incorporate text in between your code for explanations."
   ]
  },
  {
   "cell_type": "markdown",
   "id": "4197ac84-d4c7-4e18-99bd-7db94f8d18f5",
   "metadata": {},
   "source": [
    "## Importing your data\n",
    "### Step 1: Obtain and download a .csv file of all responses"
   ]
  },
  {
   "cell_type": "markdown",
   "id": "bc889e70-1cd1-4c8e-9031-66db4f836c9e",
   "metadata": {},
   "source": [
    "<img src=\"Data/pics/create_csv.png\" alt=\"How to Create CSV File\"/>"
   ]
  },
  {
   "cell_type": "markdown",
   "id": "f147f5f1-3236-47fe-8327-3f0eb240abda",
   "metadata": {},
   "source": [
    "### Step 2: Open .zip file into .csv\n",
    "\n",
    "When clicking on the button shown in step 1, it downloads a .zip file. **Click on/open the downloaded file**, <br>`SPRING 2023 - LABOR RAP SURVEY.csv.zip`. This will then produce a file called **`SPRING 2023 - LABOR RAP SURVEY.csv`**. Be sure you have this file, ending in .csv (not .zip) before proceeding."
   ]
  },
  {
   "cell_type": "markdown",
   "id": "435071ed-1296-4d35-8b9a-882022e088eb",
   "metadata": {},
   "source": [
    "<img src=\"Data/pics/zip.png\" alt=\"Convert zip to csv\"/>"
   ]
  },
  {
   "cell_type": "markdown",
   "id": "f9961140-8e71-4962-b9e9-b30111ff0834",
   "metadata": {},
   "source": [
    "### Step 3: Open Datahub\n",
    "\n",
    "Go to the top left corner of this page, where it says `jupyterhub`. Right click and open the link in a new tab. <br>(If you don't do this, it's fine but it will move you away from this notebook so you'd have to re-open it.)"
   ]
  },
  {
   "cell_type": "markdown",
   "id": "6434d5c8-d6ab-4ceb-9375-8c49ab7166bc",
   "metadata": {},
   "source": [
    "<img src=\"Data/pics/open_datahub.png\" alt=\"Open DataHub\"/>"
   ]
  },
  {
   "cell_type": "markdown",
   "id": "4de1d7ac-33d1-4748-baec-f9812c72951d",
   "metadata": {},
   "source": [
    "### Step 4: Locate class repo folder\n",
    "Locate the folder called \"PUBPOL-ETHSTD-C164A-SP23\" and open it. "
   ]
  },
  {
   "cell_type": "markdown",
   "id": "2801e1bf-8066-4685-8c32-0d3d21b1f999",
   "metadata": {},
   "source": [
    "<img src=\"Data/pics/repo.png\" alt=\"Open Class Repo\"/>"
   ]
  },
  {
   "cell_type": "markdown",
   "id": "b094ef8e-aeab-4d51-b233-f4a1d6c4715d",
   "metadata": {},
   "source": [
    "### Step 5: Locate `Data` folder\n",
    "Locate the folder called \"Data\" and open it."
   ]
  },
  {
   "cell_type": "markdown",
   "id": "57ec6855-8385-42df-bc64-a4e51618539e",
   "metadata": {},
   "source": [
    "<img src=\"Data/pics/data_folder.png\" alt=\"Open Data Folder\"/>"
   ]
  },
  {
   "cell_type": "markdown",
   "id": "211e8870-37b2-4f33-a8e9-596c49f7243b",
   "metadata": {},
   "source": [
    "### Step 6: Upload survey csv file in `Data` folder\n",
    "Click the `Upload` button on the top right, then follow the prompts from the pop-up to locate and open the survey's csv file that you downloaded in step 1 or were provided."
   ]
  },
  {
   "cell_type": "markdown",
   "id": "f9241aac-ed38-4994-a2d9-7395eca39ba0",
   "metadata": {},
   "source": [
    "<img src=\"Data/pics/upload.png\" alt=\"Upload button\"/>"
   ]
  },
  {
   "cell_type": "markdown",
   "id": "9b9c208d-d218-4422-9a3a-f695b09bb073",
   "metadata": {},
   "source": [
    "### Step 7: Check that the csv file is in the `Data` folder.\n",
    "\n",
    "Check that your csv file is in the folder now. Be sure that it ends with `.csv`, not `.zip` or any other ending!"
   ]
  },
  {
   "cell_type": "markdown",
   "id": "35537b67-2a1a-4856-bd8c-286a2e055ffb",
   "metadata": {},
   "source": [
    "<img src=\"Data/pics/downloaded_file.png\" alt=\"File in Data folder\"/>"
   ]
  },
  {
   "cell_type": "markdown",
   "id": "68dbb335-109c-4453-8a44-53278cbfcf38",
   "metadata": {},
   "source": [
    "### Step 8: Import packages"
   ]
  },
  {
   "cell_type": "code",
   "execution_count": 13,
   "id": "e5f4c09b-a499-41ea-a757-30847d1358bc",
   "metadata": {},
   "outputs": [
    {
     "name": "stdout",
     "output_type": "stream",
     "text": [
      "All necessary packages have been imported!\n"
     ]
    }
   ],
   "source": [
    "# Run this cell\n",
    "import numpy as np\n",
    "import pandas as pd\n",
    "import folium\n",
    "import ipywidgets as widgets\n",
    "from IPython.display import display, HTML\n",
    "from otter import Notebook\n",
    "from datascience import *\n",
    "import matplotlib.pyplot as plt\n",
    "%matplotlib inline\n",
    "plt.style.use('fivethirtyeight')\n",
    "import seaborn as sns\n",
    "import otter\n",
    "grader = otter.Notebook()\n",
    "print(\"All necessary packages have been imported!\")"
   ]
  },
  {
   "cell_type": "markdown",
   "id": "bb9b8b1f-bee3-4a0f-a06c-14ea2a0afc06",
   "metadata": {},
   "source": [
    "### Step 9: Import the file!"
   ]
  },
  {
   "cell_type": "code",
   "execution_count": 14,
   "id": "ea8dd34d-15be-4206-9ad3-170d5010ecba",
   "metadata": {},
   "outputs": [
    {
     "data": {
      "text/html": [
       "<table border=\"1\" class=\"dataframe\">\n",
       "    <thead>\n",
       "        <tr>\n",
       "            <th>Timestamp</th> <th>At what college or university are you currently enrolled?</th> <th> Are you a transfer student at a 4-year college?</th> <th>How long have you been at your current college/university?</th> <th>Where do you work?</th> <th>Altogether, how many paid work experiences have you held during your undergraduate career so far?</th> <th>How long have you been employed at your current main paid work?</th> <th>What is your status at your main paid work?</th> <th>Time spent doing paid work and studies-related work: [How much time do you devote to your education per week?]</th> <th>Time spent doing paid work and studies-related work: [How much time do you devote to paid work per week?]</th> <th>How many types of paid work do you currently do?</th> <th>Which industry do you work the most hours for?</th>\n",
       "        </tr>\n",
       "    </thead>\n",
       "    <tbody>\n",
       "        <tr>\n",
       "            <td>2023/02/20 3:17:01 PM PST </td> <td>Public 4-year university (UC)                            </td> <td>No                                              </td> <td>2-4 years                                                 </td> <td> On campus        </td> <td>2-3                                                                                              </td> <td>1-6 months                                                     </td> <td>Employee                                   </td> <td>25-30 hours                                                                                                   </td> <td>10-15 hours                                                                                              </td> <td>2                                               </td> <td>University/On-Campus;Retail                   </td>\n",
       "        </tr>\n",
       "        <tr>\n",
       "            <td>2023/02/21 8:24:50 PM PST </td> <td>Public 4-year university (UC)                            </td> <td>Yes                                             </td> <td>Less than a year                                          </td> <td>Off campus        </td> <td>1                                                                                                </td> <td>Less than 1 month                                              </td> <td>Informal / off the record / under the table</td> <td>10-15 hours                                                                                                   </td> <td>0-5 hours                                                                                                </td> <td>1                                               </td> <td>Construction                                  </td>\n",
       "        </tr>\n",
       "        <tr>\n",
       "            <td>2023/02/21 10:01:35 PM PST</td> <td>Private 4-year university                                </td> <td>No                                              </td> <td>4-6 years                                                 </td> <td>On campus         </td> <td>4-5                                                                                              </td> <td>1-6 months                                                     </td> <td>Employee                                   </td> <td>15-20 hours                                                                                                   </td> <td>10-15 hours                                                                                              </td> <td>1                                               </td> <td>University/On-Campus                          </td>\n",
       "        </tr>\n",
       "        <tr>\n",
       "            <td>2023/02/22 7:15:23 AM PST </td> <td>Public 2-year college or community college               </td> <td>No                                              </td> <td>Less than a year                                          </td> <td> Off campus       </td> <td>1                                                                                                </td> <td>6 months-1 year                                                </td> <td>Self-employed / Independent contractor     </td> <td>30-35 hours                                                                                                   </td> <td>15-20 hours                                                                                              </td> <td>1                                               </td> <td>Childcare                                     </td>\n",
       "        </tr>\n",
       "        <tr>\n",
       "            <td>2023/02/22 11:49:06 AM PST</td> <td>Private 4-year university                                </td> <td>Yes                                             </td> <td>1-2 years                                                 </td> <td>Both              </td> <td>2-3                                                                                              </td> <td>1-3 years                                                      </td> <td>Employee                                   </td> <td>40+ hours                                                                                                     </td> <td>10-15 hours                                                                                              </td> <td>2                                               </td> <td>University/On-Campus;Fast food                </td>\n",
       "        </tr>\n",
       "        <tr>\n",
       "            <td>2023/02/25 4:36:42 PM PST </td> <td>Public 4-year university (CSU)                           </td> <td>No                                              </td> <td>2-4 years                                                 </td> <td>On campus         </td> <td>2-3                                                                                              </td> <td>1-6 months                                                     </td> <td>Informal / off the record / under the table</td> <td>30-35 hours                                                                                                   </td> <td>0-5 hours                                                                                                </td> <td>1                                               </td> <td>University/On-Campus                          </td>\n",
       "        </tr>\n",
       "        <tr>\n",
       "            <td>2023/02/26 9:18:07 PM PST </td> <td>Public 4-year university (UC)                            </td> <td>Yes                                             </td> <td>Less than a year                                          </td> <td>Off campus        </td> <td>1                                                                                                </td> <td>6 months-1 year                                                </td> <td>Employee                                   </td> <td>25-30 hours                                                                                                   </td> <td>10-15 hours                                                                                              </td> <td>1                                               </td> <td>Restaurant                                    </td>\n",
       "        </tr>\n",
       "    </tbody>\n",
       "</table>"
      ],
      "text/plain": [
       "Timestamp                  | At what college or university are you currently enrolled? |  Are you a transfer student at a 4-year college? | How long have you been at your current college/university? | Where do you work? | Altogether, how many paid work experiences have you held during your undergraduate career so far? | How long have you been employed at your current main paid work? | What is your status at your main paid work? | Time spent doing paid work and studies-related work: [How much time do you devote to your education per week?] | Time spent doing paid work and studies-related work: [How much time do you devote to paid work per week?] | How many types of paid work do you currently do? | Which industry do you work the most hours for?\n",
       "2023/02/20 3:17:01 PM PST  | Public 4-year university (UC)                             | No                                               | 2-4 years                                                  |  On campus         | 2-3                                                                                               | 1-6 months                                                      | Employee                                    | 25-30 hours                                                                                                    | 10-15 hours                                                                                               | 2                                                | University/On-Campus;Retail\n",
       "2023/02/21 8:24:50 PM PST  | Public 4-year university (UC)                             | Yes                                              | Less than a year                                           | Off campus         | 1                                                                                                 | Less than 1 month                                               | Informal / off the record / under the table | 10-15 hours                                                                                                    | 0-5 hours                                                                                                 | 1                                                | Construction\n",
       "2023/02/21 10:01:35 PM PST | Private 4-year university                                 | No                                               | 4-6 years                                                  | On campus          | 4-5                                                                                               | 1-6 months                                                      | Employee                                    | 15-20 hours                                                                                                    | 10-15 hours                                                                                               | 1                                                | University/On-Campus\n",
       "2023/02/22 7:15:23 AM PST  | Public 2-year college or community college                | No                                               | Less than a year                                           |  Off campus        | 1                                                                                                 | 6 months-1 year                                                 | Self-employed / Independent contractor      | 30-35 hours                                                                                                    | 15-20 hours                                                                                               | 1                                                | Childcare\n",
       "2023/02/22 11:49:06 AM PST | Private 4-year university                                 | Yes                                              | 1-2 years                                                  | Both               | 2-3                                                                                               | 1-3 years                                                       | Employee                                    | 40+ hours                                                                                                      | 10-15 hours                                                                                               | 2                                                | University/On-Campus;Fast food\n",
       "2023/02/25 4:36:42 PM PST  | Public 4-year university (CSU)                            | No                                               | 2-4 years                                                  | On campus          | 2-3                                                                                               | 1-6 months                                                      | Informal / off the record / under the table | 30-35 hours                                                                                                    | 0-5 hours                                                                                                 | 1                                                | University/On-Campus\n",
       "2023/02/26 9:18:07 PM PST  | Public 4-year university (UC)                             | Yes                                              | Less than a year                                           | Off campus         | 1                                                                                                 | 6 months-1 year                                                 | Employee                                    | 25-30 hours                                                                                                    | 10-15 hours                                                                                               | 1                                                | Restaurant"
      ]
     },
     "execution_count": 14,
     "metadata": {},
     "output_type": "execute_result"
    }
   ],
   "source": [
    "survey = Table().read_table(\"Data/SPRING 2023 - LABOR RAP SURVEY.csv\")\n",
    "survey"
   ]
  },
  {
   "cell_type": "markdown",
   "id": "fad5db40-915e-4451-86c4-9ccb32a23d51",
   "metadata": {},
   "source": [
    "If the above cell errors, something was wrong in your work in the prior steps. *Be sure that the file is called `SPRING 2023 - LABOR RAP SURVEY.csv` and that the file exists inside of the `Data` folder.*\n",
    "\n",
    "If you can see the table, proceed."
   ]
  },
  {
   "cell_type": "markdown",
   "id": "41702f06-c316-458f-a966-e83ca4b95282",
   "metadata": {},
   "source": [
    "### Step 10: Understand the columns and rows\n",
    "\n",
    "Just like we did in previous notebooks, let's look at the columns and the rows using `.labels` and `.take()`. We can also view the type of data using `type()`."
   ]
  },
  {
   "cell_type": "code",
   "execution_count": 15,
   "id": "d3bad138-1c47-4a2d-aab2-d48c61537cd7",
   "metadata": {},
   "outputs": [
    {
     "data": {
      "text/plain": [
       "('Timestamp',\n",
       " 'At what college or university are you currently enrolled?',\n",
       " ' Are you a transfer student at a 4-year college?',\n",
       " 'How long have you been at your current college/university?',\n",
       " 'Where do you work?',\n",
       " 'Altogether, how many paid work experiences have you held during your undergraduate career so far?',\n",
       " 'How long have you been employed at your current main paid work?',\n",
       " 'What is your status at your main paid work?',\n",
       " 'Time spent doing paid work and studies-related work: [How much time do you devote to your education per week?]',\n",
       " 'Time spent doing paid work and studies-related work: [How much time do you devote to paid work per week?]',\n",
       " 'How many types of paid work do you currently do?',\n",
       " 'Which industry do you work the most hours for?')"
      ]
     },
     "execution_count": 15,
     "metadata": {},
     "output_type": "execute_result"
    }
   ],
   "source": [
    "survey.labels # View all the questions in the survey"
   ]
  },
  {
   "cell_type": "code",
   "execution_count": 16,
   "id": "2cdc2cfc-43e5-4c83-959f-bd3386bd2be0",
   "metadata": {},
   "outputs": [
    {
     "data": {
      "text/html": [
       "<table border=\"1\" class=\"dataframe\">\n",
       "    <thead>\n",
       "        <tr>\n",
       "            <th>Timestamp</th> <th>At what college or university are you currently enrolled?</th> <th> Are you a transfer student at a 4-year college?</th> <th>How long have you been at your current college/university?</th> <th>Where do you work?</th> <th>Altogether, how many paid work experiences have you held during your undergraduate career so far?</th> <th>How long have you been employed at your current main paid work?</th> <th>What is your status at your main paid work?</th> <th>Time spent doing paid work and studies-related work: [How much time do you devote to your education per week?]</th> <th>Time spent doing paid work and studies-related work: [How much time do you devote to paid work per week?]</th> <th>How many types of paid work do you currently do?</th> <th>Which industry do you work the most hours for?</th>\n",
       "        </tr>\n",
       "    </thead>\n",
       "    <tbody>\n",
       "        <tr>\n",
       "            <td>2023/02/20 3:17:01 PM PST</td> <td>Public 4-year university (UC)                            </td> <td>No                                              </td> <td>2-4 years                                                 </td> <td> On campus        </td> <td>2-3                                                                                              </td> <td>1-6 months                                                     </td> <td>Employee                                   </td> <td>25-30 hours                                                                                                   </td> <td>10-15 hours                                                                                              </td> <td>2                                               </td> <td>University/On-Campus;Retail                   </td>\n",
       "        </tr>\n",
       "    </tbody>\n",
       "</table>"
      ],
      "text/plain": [
       "Timestamp                 | At what college or university are you currently enrolled? |  Are you a transfer student at a 4-year college? | How long have you been at your current college/university? | Where do you work? | Altogether, how many paid work experiences have you held during your undergraduate career so far? | How long have you been employed at your current main paid work? | What is your status at your main paid work? | Time spent doing paid work and studies-related work: [How much time do you devote to your education per week?] | Time spent doing paid work and studies-related work: [How much time do you devote to paid work per week?] | How many types of paid work do you currently do? | Which industry do you work the most hours for?\n",
       "2023/02/20 3:17:01 PM PST | Public 4-year university (UC)                             | No                                               | 2-4 years                                                  |  On campus         | 2-3                                                                                               | 1-6 months                                                      | Employee                                    | 25-30 hours                                                                                                    | 10-15 hours                                                                                               | 2                                                | University/On-Campus;Retail"
      ]
     },
     "execution_count": 16,
     "metadata": {},
     "output_type": "execute_result"
    }
   ],
   "source": [
    "survey.take(0) #try other values if you want -- .take(0) gives first row"
   ]
  },
  {
   "cell_type": "markdown",
   "id": "f86aac7c-c727-4438-b4b6-4f88aa0f6573",
   "metadata": {},
   "source": [
    "Each row represents 1 respondant's answers to the survey."
   ]
  },
  {
   "cell_type": "code",
   "execution_count": 17,
   "id": "3405828f-2687-4d3d-ae8b-4d62fcb76337",
   "metadata": {},
   "outputs": [
    {
     "data": {
      "text/plain": [
       "array([' On campus', 'Off campus', 'On campus', ' Off campus', 'Both',\n",
       "       'On campus', 'Off campus'], dtype='<U11')"
      ]
     },
     "execution_count": 17,
     "metadata": {},
     "output_type": "execute_result"
    }
   ],
   "source": [
    "survey.column(\"Where do you work?\")"
   ]
  },
  {
   "cell_type": "markdown",
   "id": "cd9de270-d123-41d7-9c73-8be444f46054",
   "metadata": {},
   "source": [
    "Using `type()` is helpful to understand the values of different columns."
   ]
  },
  {
   "cell_type": "code",
   "execution_count": 18,
   "id": "0911d777-ee5a-46b9-a768-0de741db16ef",
   "metadata": {},
   "outputs": [
    {
     "data": {
      "text/plain": [
       "numpy.str_"
      ]
     },
     "execution_count": 18,
     "metadata": {},
     "output_type": "execute_result"
    }
   ],
   "source": [
    "type(survey.column(\"Where do you work?\")[0])"
   ]
  },
  {
   "cell_type": "markdown",
   "id": "963a0967-dd9d-4b60-b61e-c3dfe99e4070",
   "metadata": {},
   "source": [
    "Now we know that this column is made up of strings!\n",
    "\n",
    "Feel free to put in a different column name in place of `\"Where do you work?\"` to find out information about that column."
   ]
  },
  {
   "cell_type": "markdown",
   "id": "764f03a5-470c-462e-b0c1-04aec7c7514f",
   "metadata": {},
   "source": [
    "For surveys in particular, using `.relabeled` will be particularly helpful since the column names currently include the entire question asked. For example, \"Do you have dependents? If so, how many?\" can be relabelled to \"Dependents\" or \"num_dependents\" or whatever you see fit. \n",
    "\n",
    "**Documentation of syntax for `.relabeled` and every function we've covered in previous notebooks can be found on this [reference sheet](http://data8.org/sp22/python-reference.html), also linked in the [Resources section](###Helpful-Data-Science-Resources) at the top of the notebook.**"
   ]
  },
  {
   "cell_type": "markdown",
   "id": "d991485c-a837-4245-8fb7-e6b53c2a0d3c",
   "metadata": {},
   "source": [
    "***\n",
    "#### Tips/Solutions to Errors:\n",
    "1. Remember that if you get an error that says **SyntaxError**, this means something was typed incorrectly.\n",
    "    - You may be missing a parenthesis\n",
    "    - *I always recommend copy and pasting column names, rather than typing them by memory.*\n",
    "        - For example, `survey.column(\"age\")` would produce a *syntax error* because the column is \"Age\", not \"age\". (Correct code: `survey.column(\"Age\")`. Capitalization and spaces matter so in my opinion it saves time to copy and paste.\n",
    "1. **Label your variables in a way that you understand.**\n",
    "    - If you were to save `survey.column(\"Age\")` to a variable, it make much more sense if it were called: `age_values`, `age_array`, `age_column`, `ages`,  etc. instead of `array`, `x`, `col2`, etc.\n",
    "    - This also makes it easier for you (and classmates) to understand when you're working on your notebook over the span of days or weeks, as you might not remember exactly what you meant by `new_table`.\n",
    "1. Frequently **save your notebook**! This is always good just in case any slip-ups happen.\n",
    "    - You can use Control Z to undo a recent change within cells. You can't un-run a cell, but you can jump back to what your cell was a few seconds before you accidentally deleted the wrong line of code.\n",
    "    - This way you can also revert to an old version by clicking \"File\" and \"Revert to Checkpoint\". \n",
    "    - *Always save your notebook before closing it.*\n",
    "1. If you get a pop-up that your \"**Kernel** is dead\" or if you notice your cells aren't running:<br>\n",
    "   - *First, save what currently exists! (Control+S or File, Save and Checkpoint)*\n",
    "   - Then, go to \"Kernel\" in the menu, then click \"Restart\".\n",
    "   - Once it's restarted, click \"Cell\" then click \"Run All Above\".\n",
    "   - This will run all the cells above the one you're currently on. This is necessary because otherwise the cell that imports packages and that loads your dataset won't have been run and code cells will error when trying to refer to them.\n",
    "   - *Every time you re-open the notebook, remember that you'll need to run cells from the top (by the same logic).*\n",
    "1. Use the resources listed at the top of each notebook if you're having difficulties or feeling stuck!\n",
    "***"
   ]
  },
  {
   "cell_type": "markdown",
   "id": "eeca1526-8304-46f1-b056-6df7718c0379",
   "metadata": {},
   "source": [
    "### Step 11: Conduct your analysis!"
   ]
  },
  {
   "cell_type": "markdown",
   "id": "8d7d34d3-9a1b-4e95-b579-d00efb05b0eb",
   "metadata": {},
   "source": [
    "**Follow techniques in previous notebooks to identify where your dataset needs to be cleaned, how to clean it, how to conduct Exploratory Data Analysis, and how to produce data visualizations.** Create hypotheses and test them by exploring the survey dataset. \n",
    "\n",
    "Use the `+` to add cells or to delete cells, go to \"Edit\" then \"Delete cells\".\n",
    "\n",
    "Write hypotheses, ideas, and descriptions of your process (this helps your understanding too) by using Markdown cells. Change the type of cell by using the dropdown menu on the top of the page to switch from \"Code\" to \"Markdown\". "
   ]
  },
  {
   "cell_type": "code",
   "execution_count": null,
   "id": "36de49f3-3d89-49c5-af41-e52260be59eb",
   "metadata": {},
   "outputs": [],
   "source": [
    "# Happy analyzing!"
   ]
  },
  {
   "cell_type": "code",
   "execution_count": null,
   "id": "1114b19b-7ac8-444e-9a91-417a37690833",
   "metadata": {},
   "outputs": [],
   "source": []
  },
  {
   "cell_type": "code",
   "execution_count": null,
   "id": "aa542283-783b-4a9b-ada2-32029dd3f3ac",
   "metadata": {},
   "outputs": [],
   "source": []
  },
  {
   "cell_type": "code",
   "execution_count": null,
   "id": "0d8c193e-9700-44cf-894a-bfc783d0fa99",
   "metadata": {},
   "outputs": [],
   "source": []
  },
  {
   "cell_type": "code",
   "execution_count": null,
   "id": "502a0d7f-c726-46c6-80bf-b38baed74fb5",
   "metadata": {},
   "outputs": [],
   "source": []
  },
  {
   "cell_type": "code",
   "execution_count": null,
   "id": "be3e4776-a601-469f-9a20-ae35f3c1794b",
   "metadata": {},
   "outputs": [],
   "source": []
  },
  {
   "cell_type": "code",
   "execution_count": null,
   "id": "d4e76f02-1ae9-424c-ae52-3e15148a46ed",
   "metadata": {},
   "outputs": [],
   "source": []
  },
  {
   "cell_type": "code",
   "execution_count": null,
   "id": "5aac7402-5d8c-442f-a999-93e814db1bda",
   "metadata": {},
   "outputs": [],
   "source": []
  },
  {
   "cell_type": "code",
   "execution_count": null,
   "id": "bf5bc6a2-49a3-4995-97ff-71aae04d5ee9",
   "metadata": {},
   "outputs": [],
   "source": []
  },
  {
   "cell_type": "markdown",
   "id": "a56ad1d3-2fc2-406e-b03f-e3c0dda6b22f",
   "metadata": {},
   "source": [
    "***\n",
    "# Submitting Your Work"
   ]
  },
  {
   "cell_type": "markdown",
   "id": "bc2a05cf-deb8-4606-bdbd-595a47f9166f",
   "metadata": {},
   "source": [
    "Follow these steps: \n",
    "1. Go to `File` in the menu bar, then select `Save and Checkpoint` (or click CTRL+S).\n",
    "2. Go to `Cell` in the menu bar, then select `Run All`.\n",
    "3. Click `File` in the menu, find `Download As`, and choose `PDF via LaTeX (.pdf)` to save a copy of this notebook as a pdf onto your computer.\n",
    "4. Submit the downloaded PDF on bCourses according to your professor's instructions.\n",
    "\n",
    "**Check the PDF before submitting and make sure all of your answers and any changes are shown.**"
   ]
  }
 ],
 "metadata": {
  "kernelspec": {
   "display_name": "Python 3 (ipykernel)",
   "language": "python",
   "name": "python3"
  },
  "language_info": {
   "codemirror_mode": {
    "name": "ipython",
    "version": 3
   },
   "file_extension": ".py",
   "mimetype": "text/x-python",
   "name": "python",
   "nbconvert_exporter": "python",
   "pygments_lexer": "ipython3",
   "version": "3.9.15"
  }
 },
 "nbformat": 4,
 "nbformat_minor": 5
}
