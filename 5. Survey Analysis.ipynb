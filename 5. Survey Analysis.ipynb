{
 "cells": [
  {
   "cell_type": "markdown",
   "id": "9823285b-369c-4a07-bd64-afdd0fbdf3eb",
   "metadata": {},
   "source": [
    "# [PUBPOL/ETHSTD C164A] 5. Survey Analysis\n",
    "\n",
    "**Notebook developed by:** <br>\n",
    "Team Lead: Skye Pickett  <br>\n",
    "Module Developers: Leah Hong, Emily Guo, Reynolds Zhang <br>\n",
    "\n",
    "### Learning Outcome\n",
    "\n",
    "In this notebook, you will apply the skills you've learned in the previous 4 notebooks and 1 future notebook to clean and conduct explatory analysis on your own survey data. We will provide guidance on importing your data and setting up basic analysis, but the rest is up to your ideas and your new coding knowledge! Open up previous notebooks for reference and, as always, some resources are provided below.\n",
    "\n",
    "***"
   ]
  },
  {
   "cell_type": "markdown",
   "id": "bed61804-24f7-44a3-831b-e4aed822c88c",
   "metadata": {},
   "source": [
    "### Helpful Data Science Resources \n",
    "Here are some resources you can check out while doing this notebook and to explore data visualization further!\n",
    "- [DATA 8 Textbook](https://inferentialthinking.com/chapters/06/Tables.html) - Tables chapter\n",
    "- [DATA 8 Textbook](https://inferentialthinking.com/chapters/07/Visualization.html) - Visualization chapter\n",
    "- [DATA 8 Textbook](https://inferentialthinking.com/chapters/03/1/Expressions.html) - Expressions and Notebook 1 content\n",
    "- **[Reference Sheet for the datascience Module](http://data8.org/sp22/python-reference.html)**\n",
    "- [Documentation for the datascience Modules](http://data8.org/datascience/index.html)\n",
    "- [Cool Data Visualizations](https://www.tableau.com/learn/articles/best-beautiful-data-visualization-examples)\n",
    "- [Statistica: Find Data on Interesting Topics](https://www.statista.com/)\n",
    "- [Exploratory Data Analysis](https://en.wikipedia.org/wiki/Exploratory_data_analysis)\n"
   ]
  },
  {
   "cell_type": "markdown",
   "id": "77f96104-7672-4b93-9044-127a1486f6d7",
   "metadata": {
    "tags": []
   },
   "source": [
    "### Peer Consulting\n",
    "\n",
    "If you find yourself having trouble with any content in this notebook, Data Peer Consultants are an excellent resource! Click [here](https://dlab.berkeley.edu/training/frontdesk-info) to locate live help.\n",
    "\n",
    "Peer Consultants are there to answer all data-related questions, whether it be about the content of this notebook, applications of data science in the world, or other data science courses offered at Berkeley.\n",
    "***"
   ]
  },
  {
   "cell_type": "markdown",
   "id": "f99f2a75-a58a-40d5-be3b-ee0054dcfc70",
   "metadata": {},
   "source": [
    "Remember you can change the type of cell from Code cell to Markdown cell to incorporate text in between your code for explanations."
   ]
  },
  {
   "cell_type": "markdown",
   "id": "4197ac84-d4c7-4e18-99bd-7db94f8d18f5",
   "metadata": {},
   "source": [
    "## Importing your data\n",
    "### Step 1: Obtain and download a .csv file of all responses"
   ]
  },
  {
   "cell_type": "markdown",
   "id": "bc889e70-1cd1-4c8e-9031-66db4f836c9e",
   "metadata": {},
   "source": [
    "<img src=\"Data/pics/create_csv.png\" alt=\"How to Create CSV File\"/>"
   ]
  },
  {
   "cell_type": "markdown",
   "id": "f147f5f1-3236-47fe-8327-3f0eb240abda",
   "metadata": {},
   "source": [
    "### Step 2: Open .zip file into .csv\n",
    "\n",
    "When clicking on the button shown in step 1, it downloads a .zip file. **Click on/open the downloaded file**, <br>`SPRING 2023 - LABOR RAP SURVEY.csv.zip`. This will then produce a file called **`SPRING 2023 - LABOR RAP SURVEY.csv`**. Be sure you have this file, ending in .csv (not .zip) before proceeding."
   ]
  },
  {
   "cell_type": "markdown",
   "id": "435071ed-1296-4d35-8b9a-882022e088eb",
   "metadata": {},
   "source": [
    "<img src=\"Data/pics/zip.png\" alt=\"Convert zip to csv\"/>"
   ]
  },
  {
   "cell_type": "markdown",
   "id": "f9961140-8e71-4962-b9e9-b30111ff0834",
   "metadata": {},
   "source": [
    "### Step 3: Open Datahub\n",
    "\n",
    "Go to the top left corner of this page, where it says `jupyterhub`. Right click and open the link in a new tab. <br>(If you don't do this, it's fine but it will move you away from this notebook so you'd have to re-open it.)"
   ]
  },
  {
   "cell_type": "markdown",
   "id": "6434d5c8-d6ab-4ceb-9375-8c49ab7166bc",
   "metadata": {},
   "source": [
    "<img src=\"Data/pics/open_datahub.png\" alt=\"Open DataHub\"/>"
   ]
  },
  {
   "cell_type": "markdown",
   "id": "4de1d7ac-33d1-4748-baec-f9812c72951d",
   "metadata": {},
   "source": [
    "### Step 4: Locate class repo folder\n",
    "Locate the folder called \"PUBPOL-ETHSTD-C164A-SP23\" and open it. "
   ]
  },
  {
   "cell_type": "markdown",
   "id": "2801e1bf-8066-4685-8c32-0d3d21b1f999",
   "metadata": {},
   "source": [
    "<img src=\"Data/pics/repo.png\" alt=\"Open Class Repo\"/>"
   ]
  },
  {
   "cell_type": "markdown",
   "id": "b094ef8e-aeab-4d51-b233-f4a1d6c4715d",
   "metadata": {},
   "source": [
    "### Step 5: Locate `Data` folder\n",
    "Locate the folder called \"Data\" and open it."
   ]
  },
  {
   "cell_type": "markdown",
   "id": "57ec6855-8385-42df-bc64-a4e51618539e",
   "metadata": {},
   "source": [
    "<img src=\"Data/pics/data_folder.png\" alt=\"Open Data Folder\"/>"
   ]
  },
  {
   "cell_type": "markdown",
   "id": "211e8870-37b2-4f33-a8e9-596c49f7243b",
   "metadata": {},
   "source": [
    "### Step 6: Upload survey csv file in `Data` folder\n",
    "Click the `Upload` button on the top right, then follow the prompts from the pop-up to locate and open the survey's csv file that you downloaded in step 1 or were provided."
   ]
  },
  {
   "cell_type": "markdown",
   "id": "f9241aac-ed38-4994-a2d9-7395eca39ba0",
   "metadata": {},
   "source": [
    "<img src=\"Data/pics/upload.png\" alt=\"Upload button\"/>"
   ]
  },
  {
   "cell_type": "markdown",
   "id": "9b9c208d-d218-4422-9a3a-f695b09bb073",
   "metadata": {},
   "source": [
    "### Step 7: Check that the csv file is in the `Data` folder.\n",
    "\n",
    "Check that your csv file is in the folder now. Be sure that it ends with `.csv`, not `.zip` or any other ending!"
   ]
  },
  {
   "cell_type": "markdown",
   "id": "35537b67-2a1a-4856-bd8c-286a2e055ffb",
   "metadata": {},
   "source": [
    "<img src=\"Data/pics/downloaded_file.png\" alt=\"File in Data folder\"/>"
   ]
  },
  {
   "cell_type": "markdown",
   "id": "68dbb335-109c-4453-8a44-53278cbfcf38",
   "metadata": {},
   "source": [
    "### Step 9: Import packages"
   ]
  },
  {
   "cell_type": "code",
   "execution_count": 3,
   "id": "e5f4c09b-a499-41ea-a757-30847d1358bc",
   "metadata": {},
   "outputs": [
    {
     "name": "stdout",
     "output_type": "stream",
     "text": [
      "All necessary packages have been imported!\n"
     ]
    }
   ],
   "source": [
    "# Run this cell\n",
    "import numpy as np\n",
    "import pandas as pd\n",
    "import folium\n",
    "import ipywidgets as widgets\n",
    "from IPython.display import display, HTML\n",
    "from otter import Notebook\n",
    "from datascience import *\n",
    "import matplotlib.pyplot as plt\n",
    "%matplotlib inline\n",
    "plt.style.use('fivethirtyeight')\n",
    "import seaborn as sns\n",
    "import otter\n",
    "grader = otter.Notebook()\n",
    "print(\"All necessary packages have been imported!\")"
   ]
  },
  {
   "cell_type": "markdown",
   "id": "bb9b8b1f-bee3-4a0f-a06c-14ea2a0afc06",
   "metadata": {},
   "source": [
    "### Step 8: Import the file!"
   ]
  },
  {
   "cell_type": "code",
   "execution_count": 5,
   "id": "ea8dd34d-15be-4206-9ad3-170d5010ecba",
   "metadata": {},
   "outputs": [
    {
     "data": {
      "text/html": [
       "<table border=\"1\" class=\"dataframe\">\n",
       "    <thead>\n",
       "        <tr>\n",
       "            <th>Timestamp</th> <th>Age</th> <th>Gender</th> <th>Hometown</th> <th>Home State</th> <th>Do you have dependents? If yes, how many?</th> <th>What is your ethnicity?</th> <th>What is your race/ethnicity? (Choose all that apply)</th> <th>Are you a first-generation college student?</th> <th>Were you born in the US?</th> <th>Are you eligible for the Pell Grant?</th> <th>Did you grow up in a low-income household?</th> <th>In which industry do you work? (Choose all that apply)</th> <th>How many units are you enrolled in?</th> <th>Do you receive disability accommodations for your classes?</th> <th>Has it been challenging for you to access these school resources due to work? (Check all that apply)</th> <th>How many hours a week do you spend working?</th> <th>How stressful has it been for you to balance school and workload? (0 to 5 being the most stressful)</th> <th>Have your grades been impacted due to work? (0 to 5 being the most impacted)</th> <th>Have you ever been worried about finding work?</th> <th>If yes to above, have you ever been worried about finding work because of immigration status?</th> <th>If yes to above, have you ever been worried about finding work because of background check requirements?</th> <th>Have you faced any of the following issues at work? (Select all that apply)</th> <th>How do you use your earned income? (Check all that apply)</th> <th>If you're a parent, do you have access to dependable and affordable childcare?</th> <th>If you provide care for a family member, do you get relief?</th> <th>Do you have a reliable mode of transportation to get you where you need to be on time?</th> <th>What employee benefits do you receive? (Select all that apply)</th> <th>Are you part of a union?</th> <th>If no, would you want to be part of a union?</th> <th>Do you think unions are effective?</th> <th>Have you ever been unhoused or on the verge of being unhoused?</th> <th>Have you ever faced hunger or food insecurity?</th> <th>What types of debt do you have? (Select all that apply)</th> <th>Do you feel like you need to work while in school?</th> <th>To what extent does working while in school feel like a choice? (0 to 5 being completely my choice)</th> <th>Are you interested in attending graduate school after your undergraduate studies?</th> <th>What kind of work/job do you see yourself doing after you graduate?</th> <th>Have you ever considered taking a break or withdrawing from school?</th> <th>What is the annual salary you would like to earn after you complete your education?\n",
       "\n",
       "(Type an amount without a dollar sign or commas. ie, 40000 instead of $40,000)</th>\n",
       "        </tr>\n",
       "    </thead>\n",
       "    <tbody>\n",
       "        <tr>\n",
       "            <td>2022/12/05 1:06:43 PM PST</td> <td>20  </td> <td>Woman </td> <td>San Diego   </td> <td>California   </td> <td>No                                       </td> <td>Not Hispanic or Latino </td> <td>White                                               </td> <td>No                                         </td> <td>Yes                     </td> <td>No                                  </td> <td>No                                        </td> <td>Education/university;Food service, restaurant         </td> <td>16                                 </td> <td>No                                                        </td> <td>Haven't had challenges accessing school resources                                                   </td> <td>5-10                                       </td> <td>3                                                                                                  </td> <td>3                                                                           </td> <td>No                                            </td> <td>nan                                                                                          </td> <td>nan                                                                                                     </td> <td>Sexual harassment                                                          </td> <td>Food;Other personal expenses                                </td> <td>nan                                                                           </td> <td>nan                                                        </td> <td>Yes                                                                                   </td> <td>Don't know                                                    </td> <td>No                      </td> <td>Yes                                         </td> <td>Yes                               </td> <td>No                                                            </td> <td>No                                            </td> <td>None                                                   </td> <td>Yes                                               </td> <td>2                                                                                                  </td> <td>Maybe                                                                            </td> <td>Data scientist                                                     </td> <td>No                                                                 </td> <td>60000                                                                                                                                                              </td>\n",
       "        </tr>\n",
       "        <tr>\n",
       "            <td>2022/12/05 1:15:37 PM PST</td> <td>22  </td> <td>Woman </td> <td>Boston      </td> <td>Massachusetts</td> <td>No                                       </td> <td>Not Hispanic or Latino </td> <td>Asian                                               </td> <td>No                                         </td> <td>No                      </td> <td>No                                  </td> <td>No                                        </td> <td>Education/university                                  </td> <td>16                                 </td> <td>No                                                        </td> <td>Haven't had challenges accessing school resources                                                   </td> <td>10-15                                      </td> <td>3                                                                                                  </td> <td>3                                                                           </td> <td>Yes                                           </td> <td>Yes                                                                                          </td> <td>No                                                                                                      </td> <td>No issues                                                                  </td> <td>Tuition                                                     </td> <td>nan                                                                           </td> <td>nan                                                        </td> <td>Yes                                                                                   </td> <td>Health insurance;Vacation;Transportation stipend              </td> <td>No                      </td> <td>nan                                         </td> <td>Yes                               </td> <td>No                                                            </td> <td>No                                            </td> <td>None                                                   </td> <td>Yes                                               </td> <td>5                                                                                                  </td> <td>Yes                                                                              </td> <td>nan                                                                </td> <td>No                                                                 </td> <td>100,000                                                                                                                                                            </td>\n",
       "        </tr>\n",
       "        <tr>\n",
       "            <td>2022/12/05 1:20:44 PM PST</td> <td>20  </td> <td>Man   </td> <td>Wuhan       </td> <td>Hubei        </td> <td>No                                       </td> <td>Not Hispanic or Latino </td> <td>Asian                                               </td> <td>No                                         </td> <td>No                      </td> <td>No                                  </td> <td>No                                        </td> <td>Education/university                                  </td> <td>19                                 </td> <td>No                                                        </td> <td>Haven't had challenges accessing school resources                                                   </td> <td>5-10                                       </td> <td>4                                                                                                  </td> <td>1                                                                           </td> <td>Yes                                           </td> <td>Yes                                                                                          </td> <td>Yes                                                                                                     </td> <td>Unpredictable scheduling;Wage theft;Injuries, chronic pain, exposure to ...</td> <td>Tuition;Rent;Food;Transportation;Technology;Other person ...</td> <td>nan                                                                           </td> <td>nan                                                        </td> <td>No                                                                                    </td> <td>Don't know                                                    </td> <td>No                      </td> <td>Yes                                         </td> <td>Yes                               </td> <td>No                                                            </td> <td>No                                            </td> <td>Credit card debt                                       </td> <td>No                                                </td> <td>2                                                                                                  </td> <td>Yes                                                                              </td> <td>Data analyst                                                       </td> <td>Yes                                                                </td> <td>80000                                                                                                                                                              </td>\n",
       "        </tr>\n",
       "        <tr>\n",
       "            <td>2022/12/05 2:18:01 PM PST</td> <td>21  </td> <td>Woman </td> <td>Palos Verdes</td> <td>CA           </td> <td>No                                       </td> <td>Not Hispanic or Latino </td> <td>Asian                                               </td> <td>Yes                                        </td> <td>Yes                     </td> <td>No                                  </td> <td>No                                        </td> <td>Education/university                                  </td> <td>15                                 </td> <td>No                                                        </td> <td>Office hours                                                                                        </td> <td>5-10                                       </td> <td>3                                                                                                  </td> <td>2                                                                           </td> <td>No                                            </td> <td>nan                                                                                          </td> <td>nan                                                                                                     </td> <td>No issues                                                                  </td> <td>Food;Other personal expenses                                </td> <td>nan                                                                           </td> <td>nan                                                        </td> <td>Yes                                                                                   </td> <td>None                                                          </td> <td>No                      </td> <td>No                                          </td> <td>Yes                               </td> <td>No                                                            </td> <td>No                                            </td> <td>None                                                   </td> <td>No                                                </td> <td>5                                                                                                  </td> <td>Maybe                                                                            </td> <td>Data analyst                                                       </td> <td>No                                                                 </td> <td>100000                                                                                                                                                             </td>\n",
       "        </tr>\n",
       "    </tbody>\n",
       "</table>"
      ],
      "text/plain": [
       "Timestamp                 | Age  | Gender | Hometown     | Home State    | Do you have dependents? If yes, how many? | What is your ethnicity? | What is your race/ethnicity? (Choose all that apply) | Are you a first-generation college student? | Were you born in the US? | Are you eligible for the Pell Grant? | Did you grow up in a low-income household? | In which industry do you work? (Choose all that apply) | How many units are you enrolled in? | Do you receive disability accommodations for your classes? | Has it been challenging for you to access these school resources due to work? (Check all that apply) | How many hours a week do you spend working? | How stressful has it been for you to balance school and workload? (0 to 5 being the most stressful) | Have your grades been impacted due to work? (0 to 5 being the most impacted) | Have you ever been worried about finding work? | If yes to above, have you ever been worried about finding work because of immigration status? | If yes to above, have you ever been worried about finding work because of background check requirements? | Have you faced any of the following issues at work? (Select all that apply) | How do you use your earned income? (Check all that apply)    | If you're a parent, do you have access to dependable and affordable childcare? | If you provide care for a family member, do you get relief? | Do you have a reliable mode of transportation to get you where you need to be on time? | What employee benefits do you receive? (Select all that apply) | Are you part of a union? | If no, would you want to be part of a union? | Do you think unions are effective? | Have you ever been unhoused or on the verge of being unhoused? | Have you ever faced hunger or food insecurity? | What types of debt do you have? (Select all that apply) | Do you feel like you need to work while in school? | To what extent does working while in school feel like a choice? (0 to 5 being completely my choice) | Are you interested in attending graduate school after your undergraduate studies? | What kind of work/job do you see yourself doing after you graduate? | Have you ever considered taking a break or withdrawing from school? | What is the annual salary you would like to earn after you complete your education?\n",
       "\n",
       "(Type an amount without a dollar sign or commas. ie, 40000 instead of $40,000)\n",
       "2022/12/05 1:06:43 PM PST | 20   | Woman  | San Diego    | California    | No                                        | Not Hispanic or Latino  | White                                                | No                                          | Yes                      | No                                   | No                                         | Education/university;Food service, restaurant          | 16                                  | No                                                         | Haven't had challenges accessing school resources                                                    | 5-10                                        | 3                                                                                                   | 3                                                                            | No                                             | nan                                                                                           | nan                                                                                                      | Sexual harassment                                                           | Food;Other personal expenses                                 | nan                                                                            | nan                                                         | Yes                                                                                    | Don't know                                                     | No                       | Yes                                          | Yes                                | No                                                             | No                                             | None                                                    | Yes                                                | 2                                                                                                   | Maybe                                                                             | Data scientist                                                      | No                                                                  | 60000\n",
       "2022/12/05 1:15:37 PM PST | 22   | Woman  | Boston       | Massachusetts | No                                        | Not Hispanic or Latino  | Asian                                                | No                                          | No                       | No                                   | No                                         | Education/university                                   | 16                                  | No                                                         | Haven't had challenges accessing school resources                                                    | 10-15                                       | 3                                                                                                   | 3                                                                            | Yes                                            | Yes                                                                                           | No                                                                                                       | No issues                                                                   | Tuition                                                      | nan                                                                            | nan                                                         | Yes                                                                                    | Health insurance;Vacation;Transportation stipend               | No                       | nan                                          | Yes                                | No                                                             | No                                             | None                                                    | Yes                                                | 5                                                                                                   | Yes                                                                               | nan                                                                 | No                                                                  | 100,000\n",
       "2022/12/05 1:20:44 PM PST | 20   | Man    | Wuhan        | Hubei         | No                                        | Not Hispanic or Latino  | Asian                                                | No                                          | No                       | No                                   | No                                         | Education/university                                   | 19                                  | No                                                         | Haven't had challenges accessing school resources                                                    | 5-10                                        | 4                                                                                                   | 1                                                                            | Yes                                            | Yes                                                                                           | Yes                                                                                                      | Unpredictable scheduling;Wage theft;Injuries, chronic pain, exposure to ... | Tuition;Rent;Food;Transportation;Technology;Other person ... | nan                                                                            | nan                                                         | No                                                                                     | Don't know                                                     | No                       | Yes                                          | Yes                                | No                                                             | No                                             | Credit card debt                                        | No                                                 | 2                                                                                                   | Yes                                                                               | Data analyst                                                        | Yes                                                                 | 80000\n",
       "2022/12/05 2:18:01 PM PST | 21   | Woman  | Palos Verdes | CA            | No                                        | Not Hispanic or Latino  | Asian                                                | Yes                                         | Yes                      | No                                   | No                                         | Education/university                                   | 15                                  | No                                                         | Office hours                                                                                         | 5-10                                        | 3                                                                                                   | 2                                                                            | No                                             | nan                                                                                           | nan                                                                                                      | No issues                                                                   | Food;Other personal expenses                                 | nan                                                                            | nan                                                         | Yes                                                                                    | None                                                           | No                       | No                                           | Yes                                | No                                                             | No                                             | None                                                    | No                                                 | 5                                                                                                   | Maybe                                                                             | Data analyst                                                        | No                                                                  | 100000"
      ]
     },
     "execution_count": 5,
     "metadata": {},
     "output_type": "execute_result"
    }
   ],
   "source": [
    "survey = Table().read_table(\"Data/SPRING 2023 - LABOR RAP SURVEY.csv\")\n",
    "survey"
   ]
  },
  {
   "cell_type": "markdown",
   "id": "fad5db40-915e-4451-86c4-9ccb32a23d51",
   "metadata": {},
   "source": [
    "If the above cell errors, something was wrong in your work in the prior steps. *Be sure that the file is called `SPRING 2023 - LABOR RAP SURVEY.csv` and that the file exists inside of the `Data` folder.*\n",
    "\n",
    "If you can see the table, proceed."
   ]
  },
  {
   "cell_type": "markdown",
   "id": "41702f06-c316-458f-a966-e83ca4b95282",
   "metadata": {},
   "source": [
    "### Step 9: Understand the columns and rows\n",
    "\n",
    "Just like we did in previous notebooks, let's look at the columns and the rows using `.labels` and `.take()`. We can also view the type of data using `type()`."
   ]
  },
  {
   "cell_type": "code",
   "execution_count": 8,
   "id": "d3bad138-1c47-4a2d-aab2-d48c61537cd7",
   "metadata": {},
   "outputs": [
    {
     "data": {
      "text/plain": [
       "('Timestamp',\n",
       " 'Age',\n",
       " 'Gender',\n",
       " 'Hometown',\n",
       " 'Home State',\n",
       " 'Do you have dependents? If yes, how many?',\n",
       " 'What is your ethnicity?',\n",
       " 'What is your race/ethnicity? (Choose all that apply)',\n",
       " 'Are you a first-generation college student?',\n",
       " 'Were you born in the US?',\n",
       " 'Are you eligible for the Pell Grant?',\n",
       " 'Did you grow up in a low-income household?',\n",
       " 'In which industry do you work? (Choose all that apply)',\n",
       " 'How many units are you enrolled in?',\n",
       " 'Do you receive disability accommodations for your classes?',\n",
       " 'Has it been challenging for you to access these school resources due to work? (Check all that apply)',\n",
       " 'How many hours a week do you spend working?',\n",
       " 'How stressful has it been for you to balance school and workload? (0 to 5 being the most stressful)',\n",
       " 'Have your grades been impacted due to work? (0 to 5 being the most impacted)',\n",
       " 'Have you ever been worried about finding work?',\n",
       " 'If yes to above, have you ever been worried about finding work because of immigration status?',\n",
       " 'If yes to above, have you ever been worried about finding work because of background check requirements?',\n",
       " 'Have you faced any of the following issues at work? (Select all that apply)',\n",
       " 'How do you use your earned income? (Check all that apply)',\n",
       " \"If you're a parent, do you have access to dependable and affordable childcare?\",\n",
       " 'If you provide care for a family member, do you get relief?',\n",
       " 'Do you have a reliable mode of transportation to get you where you need to be on time?',\n",
       " 'What employee benefits do you receive? (Select all that apply)',\n",
       " 'Are you part of a union?',\n",
       " 'If no, would you want to be part of a union?',\n",
       " 'Do you think unions are effective?',\n",
       " 'Have you ever been unhoused or on the verge of being unhoused?',\n",
       " 'Have you ever faced hunger or food insecurity?',\n",
       " 'What types of debt do you have? (Select all that apply)',\n",
       " 'Do you feel like you need to work while in school?',\n",
       " 'To what extent does working while in school feel like a choice? (0 to 5 being completely my choice)',\n",
       " 'Are you interested in attending graduate school after your undergraduate studies?',\n",
       " 'What kind of work/job do you see yourself doing after you graduate?',\n",
       " 'Have you ever considered taking a break or withdrawing from school?',\n",
       " 'What is the annual salary you would like to earn after you complete your education?\\n\\n(Type an amount without a dollar sign or commas. ie, 40000 instead of $40,000)')"
      ]
     },
     "execution_count": 8,
     "metadata": {},
     "output_type": "execute_result"
    }
   ],
   "source": [
    "survey.labels # View all the questions in the survey"
   ]
  },
  {
   "cell_type": "code",
   "execution_count": 14,
   "id": "2cdc2cfc-43e5-4c83-959f-bd3386bd2be0",
   "metadata": {},
   "outputs": [
    {
     "data": {
      "text/html": [
       "<table border=\"1\" class=\"dataframe\">\n",
       "    <thead>\n",
       "        <tr>\n",
       "            <th>Timestamp</th> <th>Age</th> <th>Gender</th> <th>Hometown</th> <th>Home State</th> <th>Do you have dependents? If yes, how many?</th> <th>What is your ethnicity?</th> <th>What is your race/ethnicity? (Choose all that apply)</th> <th>Are you a first-generation college student?</th> <th>Were you born in the US?</th> <th>Are you eligible for the Pell Grant?</th> <th>Did you grow up in a low-income household?</th> <th>In which industry do you work? (Choose all that apply)</th> <th>How many units are you enrolled in?</th> <th>Do you receive disability accommodations for your classes?</th> <th>Has it been challenging for you to access these school resources due to work? (Check all that apply)</th> <th>How many hours a week do you spend working?</th> <th>How stressful has it been for you to balance school and workload? (0 to 5 being the most stressful)</th> <th>Have your grades been impacted due to work? (0 to 5 being the most impacted)</th> <th>Have you ever been worried about finding work?</th> <th>If yes to above, have you ever been worried about finding work because of immigration status?</th> <th>If yes to above, have you ever been worried about finding work because of background check requirements?</th> <th>Have you faced any of the following issues at work? (Select all that apply)</th> <th>How do you use your earned income? (Check all that apply)</th> <th>If you're a parent, do you have access to dependable and affordable childcare?</th> <th>If you provide care for a family member, do you get relief?</th> <th>Do you have a reliable mode of transportation to get you where you need to be on time?</th> <th>What employee benefits do you receive? (Select all that apply)</th> <th>Are you part of a union?</th> <th>If no, would you want to be part of a union?</th> <th>Do you think unions are effective?</th> <th>Have you ever been unhoused or on the verge of being unhoused?</th> <th>Have you ever faced hunger or food insecurity?</th> <th>What types of debt do you have? (Select all that apply)</th> <th>Do you feel like you need to work while in school?</th> <th>To what extent does working while in school feel like a choice? (0 to 5 being completely my choice)</th> <th>Are you interested in attending graduate school after your undergraduate studies?</th> <th>What kind of work/job do you see yourself doing after you graduate?</th> <th>Have you ever considered taking a break or withdrawing from school?</th> <th>What is the annual salary you would like to earn after you complete your education?\n",
       "\n",
       "(Type an amount without a dollar sign or commas. ie, 40000 instead of $40,000)</th>\n",
       "        </tr>\n",
       "    </thead>\n",
       "    <tbody>\n",
       "        <tr>\n",
       "            <td>2022/12/05 1:06:43 PM PST</td> <td>20  </td> <td>Woman </td> <td>San Diego</td> <td>California</td> <td>No                                       </td> <td>Not Hispanic or Latino </td> <td>White                                               </td> <td>No                                         </td> <td>Yes                     </td> <td>No                                  </td> <td>No                                        </td> <td>Education/university;Food service, restaurant         </td> <td>16                                 </td> <td>No                                                        </td> <td>Haven't had challenges accessing school resources                                                   </td> <td>5-10                                       </td> <td>3                                                                                                  </td> <td>3                                                                           </td> <td>No                                            </td> <td>nan                                                                                          </td> <td>nan                                                                                                     </td> <td>Sexual harassment                                                          </td> <td>Food;Other personal expenses                             </td> <td>nan                                                                           </td> <td>nan                                                        </td> <td>Yes                                                                                   </td> <td>Don't know                                                    </td> <td>No                      </td> <td>Yes                                         </td> <td>Yes                               </td> <td>No                                                            </td> <td>No                                            </td> <td>None                                                   </td> <td>Yes                                               </td> <td>2                                                                                                  </td> <td>Maybe                                                                            </td> <td>Data scientist                                                     </td> <td>No                                                                 </td> <td>60000                                                                                                                                                              </td>\n",
       "        </tr>\n",
       "    </tbody>\n",
       "</table>"
      ],
      "text/plain": [
       "Timestamp                 | Age  | Gender | Hometown  | Home State | Do you have dependents? If yes, how many? | What is your ethnicity? | What is your race/ethnicity? (Choose all that apply) | Are you a first-generation college student? | Were you born in the US? | Are you eligible for the Pell Grant? | Did you grow up in a low-income household? | In which industry do you work? (Choose all that apply) | How many units are you enrolled in? | Do you receive disability accommodations for your classes? | Has it been challenging for you to access these school resources due to work? (Check all that apply) | How many hours a week do you spend working? | How stressful has it been for you to balance school and workload? (0 to 5 being the most stressful) | Have your grades been impacted due to work? (0 to 5 being the most impacted) | Have you ever been worried about finding work? | If yes to above, have you ever been worried about finding work because of immigration status? | If yes to above, have you ever been worried about finding work because of background check requirements? | Have you faced any of the following issues at work? (Select all that apply) | How do you use your earned income? (Check all that apply) | If you're a parent, do you have access to dependable and affordable childcare? | If you provide care for a family member, do you get relief? | Do you have a reliable mode of transportation to get you where you need to be on time? | What employee benefits do you receive? (Select all that apply) | Are you part of a union? | If no, would you want to be part of a union? | Do you think unions are effective? | Have you ever been unhoused or on the verge of being unhoused? | Have you ever faced hunger or food insecurity? | What types of debt do you have? (Select all that apply) | Do you feel like you need to work while in school? | To what extent does working while in school feel like a choice? (0 to 5 being completely my choice) | Are you interested in attending graduate school after your undergraduate studies? | What kind of work/job do you see yourself doing after you graduate? | Have you ever considered taking a break or withdrawing from school? | What is the annual salary you would like to earn after you complete your education?\n",
       "\n",
       "(Type an amount without a dollar sign or commas. ie, 40000 instead of $40,000)\n",
       "2022/12/05 1:06:43 PM PST | 20   | Woman  | San Diego | California | No                                        | Not Hispanic or Latino  | White                                                | No                                          | Yes                      | No                                   | No                                         | Education/university;Food service, restaurant          | 16                                  | No                                                         | Haven't had challenges accessing school resources                                                    | 5-10                                        | 3                                                                                                   | 3                                                                            | No                                             | nan                                                                                           | nan                                                                                                      | Sexual harassment                                                           | Food;Other personal expenses                              | nan                                                                            | nan                                                         | Yes                                                                                    | Don't know                                                     | No                       | Yes                                          | Yes                                | No                                                             | No                                             | None                                                    | Yes                                                | 2                                                                                                   | Maybe                                                                             | Data scientist                                                      | No                                                                  | 60000"
      ]
     },
     "execution_count": 14,
     "metadata": {},
     "output_type": "execute_result"
    }
   ],
   "source": [
    "survey.take(0) #try other values if you want -- .take(0) gives first row"
   ]
  },
  {
   "cell_type": "markdown",
   "id": "f86aac7c-c727-4438-b4b6-4f88aa0f6573",
   "metadata": {},
   "source": [
    "Each row represents 1 respondant's answers to the survey."
   ]
  },
  {
   "cell_type": "code",
   "execution_count": 15,
   "id": "3405828f-2687-4d3d-ae8b-4d62fcb76337",
   "metadata": {},
   "outputs": [
    {
     "data": {
      "text/plain": [
       "array([20, 22, 20, 21])"
      ]
     },
     "execution_count": 15,
     "metadata": {},
     "output_type": "execute_result"
    }
   ],
   "source": [
    "survey.column(\"Age\")"
   ]
  },
  {
   "cell_type": "markdown",
   "id": "cd9de270-d123-41d7-9c73-8be444f46054",
   "metadata": {},
   "source": [
    "Using `type()` is helpful to understand the values of different columns."
   ]
  },
  {
   "cell_type": "code",
   "execution_count": 16,
   "id": "0911d777-ee5a-46b9-a768-0de741db16ef",
   "metadata": {},
   "outputs": [
    {
     "data": {
      "text/plain": [
       "numpy.int64"
      ]
     },
     "execution_count": 16,
     "metadata": {},
     "output_type": "execute_result"
    }
   ],
   "source": [
    "type(survey.column(\"Age\")[0])"
   ]
  },
  {
   "cell_type": "markdown",
   "id": "f4513629-3a93-4b6d-8b5d-bdd734f7760b",
   "metadata": {},
   "source": [
    "This is the same as using `.dtype` and plugging in the entire column, rather than 1 value of the column."
   ]
  },
  {
   "cell_type": "code",
   "execution_count": 17,
   "id": "ffeaa46f-d416-48e5-abb6-bf049209e7d1",
   "metadata": {},
   "outputs": [
    {
     "data": {
      "text/plain": [
       "dtype('int64')"
      ]
     },
     "execution_count": 17,
     "metadata": {},
     "output_type": "execute_result"
    }
   ],
   "source": [
    "survey.column(\"Age\").dtype"
   ]
  },
  {
   "cell_type": "markdown",
   "id": "963a0967-dd9d-4b60-b61e-c3dfe99e4070",
   "metadata": {},
   "source": [
    "Now we know that the Age column is made up of integers! That means you can use this column to compute means, medians, etc. \n",
    "\n",
    "Feel free to put in a different column name in place of \"Age\" to find out information about any column."
   ]
  },
  {
   "cell_type": "markdown",
   "id": "764f03a5-470c-462e-b0c1-04aec7c7514f",
   "metadata": {},
   "source": [
    "For surveys in particular, using `.relabeled` will be particularly helpful since the column names currently include the entire question asked. For example, \"Do you have dependents? If so, how many?\" can be relabelled to \"Dependents\" or \"num_dependents\" or whatever you see fit. \n",
    "\n",
    "**Documentation of syntax for `.relabeled` and every function we've covered in previous notebooks can be found on this [reference sheet](http://data8.org/sp22/python-reference.html), also linked in the [Resources section](###Helpful-Data-Science-Resources) at the top of the notebook.**"
   ]
  },
  {
   "cell_type": "markdown",
   "id": "d991485c-a837-4245-8fb7-e6b53c2a0d3c",
   "metadata": {},
   "source": [
    "***\n",
    "#### Tips/Solutions to Errors:\n",
    "1. Remember that if you get an error that says **SyntaxError**, this means something was typed incorrectly.\n",
    "    - You may be missing a parenthesis\n",
    "    - *I always recommend copy and pasting column names, rather than typing them by memory.*\n",
    "        - For example, `survey.column(\"age\")` would produce a *syntax error* because the column is \"Age\", not \"age\". (Correct code: `survey.column(\"Age\")`. Capitalization and spaces matter so in my opinion it saves time to copy and paste.\n",
    "1. **Label your variables in a way that you understand.**\n",
    "    - If you were to save `survey.column(\"Age\")` to a variable, it make much more sense if it were called: `age_values`, `age_array`, `age_column`, `ages`,  etc. instead of `array`, `x`, `col2`, etc.\n",
    "    - This also makes it easier for you (and classmates) to understand when you're working on your notebook over the span of days or weeks, as you might not remember exactly what you meant by `new_table`.\n",
    "1. Frequently **save your notebook**! This is always good just in case any slip-ups happen.\n",
    "    - You can use Control Z to undo a recent change within cells. You can't un-run a cell, but you can jump back to what your cell was a few seconds before you accidentally deleted the wrong line of code.\n",
    "    - This way you can also revert to an old version by clicking \"File\" and \"Revert to Checkpoint\". \n",
    "    - *Always save your notebook before closing it.*\n",
    "1. If you get a pop-up that your \"**Kernel** is dead\" or if you notice your cells aren't running:<br>\n",
    "   - *First, save what currently exists! (Control+S or File, Save and Checkpoint)*\n",
    "   - Then, go to \"Kernel\" in the menu, then click \"Restart\".\n",
    "   - Once it's restarted, click \"Cell\" then click \"Run All Above\".\n",
    "   - This will run all the cells above the one you're currently on. This is necessary because otherwise the cell that imports packages and that loads your dataset won't have been run and code cells will error when trying to refer to them.\n",
    "   - *Every time you re-open the notebook, remember that you'll need to run cells from the top (by the same logic).*\n",
    "1. Use the resources listed at the top of each notebook if you're having difficulties or feeling stuck!\n",
    "***"
   ]
  },
  {
   "cell_type": "markdown",
   "id": "eeca1526-8304-46f1-b056-6df7718c0379",
   "metadata": {},
   "source": [
    "### Step 10: Conduct your analysis!"
   ]
  },
  {
   "cell_type": "markdown",
   "id": "8d7d34d3-9a1b-4e95-b579-d00efb05b0eb",
   "metadata": {},
   "source": [
    "**Follow techniques in previous notebooks to identify where your dataset needs to be cleaned, how to clean it, how to conduct Exploratory Data Analysis, and how to produce data visualizations.** Create hypotheses and test them by exploring the survey dataset. \n",
    "\n",
    "Use the `+` to add cells or to delete cells, go to \"Edit\" then \"Delete cells\".\n",
    "\n",
    "Write hypotheses, ideas, and descriptions of your process (this helps your understanding too) by using Markdown cells. Change the type of cell by using the dropdown menu on the top of the page to switch from \"Code\" to \"Markdown\". "
   ]
  },
  {
   "cell_type": "code",
   "execution_count": null,
   "id": "36de49f3-3d89-49c5-af41-e52260be59eb",
   "metadata": {},
   "outputs": [],
   "source": [
    "# Happy analyzing!"
   ]
  },
  {
   "cell_type": "code",
   "execution_count": null,
   "id": "1114b19b-7ac8-444e-9a91-417a37690833",
   "metadata": {},
   "outputs": [],
   "source": []
  },
  {
   "cell_type": "code",
   "execution_count": null,
   "id": "aa542283-783b-4a9b-ada2-32029dd3f3ac",
   "metadata": {},
   "outputs": [],
   "source": []
  },
  {
   "cell_type": "code",
   "execution_count": null,
   "id": "0d8c193e-9700-44cf-894a-bfc783d0fa99",
   "metadata": {},
   "outputs": [],
   "source": []
  },
  {
   "cell_type": "code",
   "execution_count": null,
   "id": "502a0d7f-c726-46c6-80bf-b38baed74fb5",
   "metadata": {},
   "outputs": [],
   "source": []
  },
  {
   "cell_type": "code",
   "execution_count": null,
   "id": "be3e4776-a601-469f-9a20-ae35f3c1794b",
   "metadata": {},
   "outputs": [],
   "source": []
  },
  {
   "cell_type": "code",
   "execution_count": null,
   "id": "d4e76f02-1ae9-424c-ae52-3e15148a46ed",
   "metadata": {},
   "outputs": [],
   "source": []
  },
  {
   "cell_type": "code",
   "execution_count": null,
   "id": "5aac7402-5d8c-442f-a999-93e814db1bda",
   "metadata": {},
   "outputs": [],
   "source": []
  },
  {
   "cell_type": "code",
   "execution_count": null,
   "id": "bf5bc6a2-49a3-4995-97ff-71aae04d5ee9",
   "metadata": {},
   "outputs": [],
   "source": []
  },
  {
   "cell_type": "markdown",
   "id": "a56ad1d3-2fc2-406e-b03f-e3c0dda6b22f",
   "metadata": {},
   "source": [
    "***\n",
    "# Submitting Your Work"
   ]
  },
  {
   "cell_type": "markdown",
   "id": "bc2a05cf-deb8-4606-bdbd-595a47f9166f",
   "metadata": {},
   "source": [
    "Follow these steps: \n",
    "1. Go to `File` in the menu bar, then select `Save and Checkpoint` (or click CTRL+S).\n",
    "2. Go to `Cell` in the menu bar, then select `Run All`.\n",
    "3. Click `File` in the menu, find `Download As`, and choose `PDF via LaTeX (.pdf)` to save a copy of this notebook as a pdf onto your computer.\n",
    "4. Submit the downloaded PDF on bCourses according to your professor's instructions.\n",
    "\n",
    "**Check the PDF before submitting and make sure all of your answers and any changes are shown.**"
   ]
  },
  {
   "cell_type": "code",
   "execution_count": null,
   "id": "09f31500-ebc1-48e6-b8bb-debcef06309e",
   "metadata": {},
   "outputs": [],
   "source": []
  }
 ],
 "metadata": {
  "kernelspec": {
   "display_name": "Python 3 (ipykernel)",
   "language": "python",
   "name": "python3"
  },
  "language_info": {
   "codemirror_mode": {
    "name": "ipython",
    "version": 3
   },
   "file_extension": ".py",
   "mimetype": "text/x-python",
   "name": "python",
   "nbconvert_exporter": "python",
   "pygments_lexer": "ipython3",
   "version": "3.9.15"
  }
 },
 "nbformat": 4,
 "nbformat_minor": 5
}
