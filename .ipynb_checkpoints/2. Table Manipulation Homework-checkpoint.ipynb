{
 "cells": [
  {
   "cell_type": "markdown",
   "id": "0cbe3de9",
   "metadata": {},
   "source": [
    "# [PUBPOL/ETHSTD C164A] 2. Table Manipulation Homework\n",
    "\n",
    "**Estimated time:** 30 minutes\n",
    "\n",
    "**Notebook developed by:** <br>\n",
    "Team Lead: Skye Pickett  <br>\n",
    "Fall 2022 Developers: Leah Hong, Emily Guo, Reynolds Zhang <br>\n",
    "Summer 2022 Developers: Vaidehi Bulusu, Leah Hong, Drishti Gupta, Hans Ocampo <br>\n",
    "\n",
    "\n",
    "### Learning Outcomes\n",
    "- Understanding representations of data\n",
    "- Reviewing object types\n",
    "- Selecting, dropping, and relabelling columns\n",
    "- Filtering data with .where\n",
    "- Converting data types\n",
    "- Calculating numerical statistics \n",
    "\n",
    "\n",
    "### Table of Contents\n",
    "1. [Introducing the Dataset](#1.-Introducing-the-Dataset)\n",
    "1. [Data Manipulation](#2.-Data-Manipulation)\n",
    "1. [Conclusion](#3.-Conclusion)\n",
    "1. [Submitting Your Work](#4.-Submitting-Your-Work)\n",
    "1. [Data Science Opportunities](#5.-Data-Science-Opportunities)\n",
    "1. [Feedback Form](#6.-Feedback-Form)\n",
    "\n",
    "***"
   ]
  },
  {
   "cell_type": "markdown",
   "id": "40c1200f-be30-44a7-a097-8e92e34d5e1d",
   "metadata": {},
   "source": [
    "### Helpful Data Science Resources \n",
    "Here are some resources you can check out while doing this notebook and to explore table manipulation further!\n",
    "\n",
    "- [DATA 8 Textbook](https://inferentialthinking.com/chapters/06/Tables.html) - Tables chapter\n",
    "- [Reference Sheet for the datascience Module](http://data8.org/sp22/python-reference.html)\n",
    "- [Documentation for the datascience Modules](http://data8.org/datascience/index.html)\n",
    "- [Statistica: Find Data on Interesting Topics](https://www.statista.com/)\n",
    "- [Exploratory Data Analysis](https://en.wikipedia.org/wiki/Exploratory_data_analysis)\n"
   ]
  },
  {
   "cell_type": "markdown",
   "id": "a9d4ce36-065c-45d5-afdd-77cac3513a0d",
   "metadata": {
    "tags": []
   },
   "source": [
    "### Peer Consulting\n",
    "\n",
    "If you find yourself having trouble with any content in this notebook, Data Peer Consultants are an excellent resource! Click [here](https://dlab.berkeley.edu/training/frontdesk-info) to locate live help.\n",
    "\n",
    "Peer Consultants are there to answer all data-related questions, whether it be about the content of this notebook, applications of data science in the world, or other data science courses offered at Berkeley.\n",
    "\n",
    "---"
   ]
  },
  {
   "cell_type": "markdown",
   "id": "e85da8c9",
   "metadata": {
    "tags": []
   },
   "source": [
    "\n",
    "# 1. Introducing the Dataset\n",
    "\n"
   ]
  },
  {
   "cell_type": "markdown",
   "id": "bf765b0f-0d5e-4a48-a3f2-dbc56d326bf2",
   "metadata": {},
   "source": [
    "Before we continue, run the bellow cell to import the necessary packages.\n"
   ]
  },
  {
   "cell_type": "code",
   "execution_count": null,
   "id": "4e62a6b3",
   "metadata": {},
   "outputs": [],
   "source": [
    "# RUN THIS CELL\n",
    "# importing the required packages\n",
    "\n",
    "from datascience import *\n",
    "import numpy as np\n",
    "import matplotlib.pyplot as plt\n",
    "%matplotlib inline\n",
    "import otter\n",
    "grader = otter.Notebook()\n",
    "print(\"All necessary packages have been imported!\")"
   ]
  },
  {
   "cell_type": "markdown",
   "id": "51edbe52-a888-4986-b4ce-cd94f373408c",
   "metadata": {},
   "source": [
    "The dataset comes from the [US Bureau of Labor Statistics](https://www.bls.gov/data/)' Occupational Employment and Wage Statistics from May 2021. The May 2021 OEWS estimates are based on the 2018 Standard Occupational Classification (SOC) system and the Office of Management and Budget's revised metropolitan area definitions, based on the results of the 2010 decennial census.\n",
    "\n",
    "The data was collected from employers of every size, state, metropolitan/nonmetropolitan areas, and all industry sectors. However, self-employed people are not included in these surveys."
   ]
  },
  {
   "cell_type": "markdown",
   "id": "c47bc565-6fd1-4410-b909-c4c66846f07e",
   "metadata": {},
   "source": [
    "> `Table().read_table(...)`: allows you to import data as a table (takes in the name of the csv file as the argument)\n"
   ]
  },
  {
   "cell_type": "code",
   "execution_count": null,
   "id": "74adb7cb",
   "metadata": {},
   "outputs": [],
   "source": [
    "occupation_employ_wages = Table.read_table('Data/May2021Data.csv')\n",
    "occupation_employ_wages.show(10)"
   ]
  },
  {
   "cell_type": "markdown",
   "id": "bb876f0c-2419-45f9-9782-7d83268949b5",
   "metadata": {},
   "source": [
    "Let's use `.labels` to view the column titles."
   ]
  },
  {
   "cell_type": "code",
   "execution_count": null,
   "id": "cd7fdf4c-a8f0-43c1-9b57-cc55a75cf1bf",
   "metadata": {},
   "outputs": [],
   "source": [
    "occupation_employ_wages.labels"
   ]
  },
  {
   "cell_type": "markdown",
   "id": "00978df8-8dfa-4bcc-a635-3ff1fbddb45a",
   "metadata": {},
   "source": [
    "This data dictionary goes over what some of the column names mean in `occupation_employ_wages`."
   ]
  },
  {
   "cell_type": "markdown",
   "id": "4817a3a1",
   "metadata": {},
   "source": [
    "| Column       | Column Description |\n",
    "| ----------- | -----------       |\n",
    "| AREA_TITLE  | area name         |\n",
    "| AREA_TYPE   | 1= US, 2= State, 3= US Territory, 4= MSA/NECTA, 5= NonMetro|\n",
    "| I_GROUP     | industry level    |\n",
    "| OWN_CODE    | 1= Fed Gov, 2= State Gov, 3= Local Gov, 123= Fed/State/Local, 235= Private/State/Local, 35= Private/Local, 5= Private, 57/58/59= Other, 1235= Federal/State/Local/Private Sector               |\n",
    "| OCC_CODE    | 6-digit SOC code for the occupation|\n",
    "| OCC_TITLE    | SOC title or OEWS-specific title for the occupation|\n",
    "| O_GROUP     | occupation level               |\n",
    "| TOT_EMP     | estimated total employment (rounded; excludes self-employed)|\n",
    "| EMP_PRSE    | percent relative standard error for employment estimate               |\n",
    "| JOBS_1000   | the number of jobs in the given occupation per 1,000 (only for state and MSA estimates) |\n",
    "| LOC_QUOTIENT     | the ratio of an occupation's share of employment in a given area to the US as a whole|\n",
    "| PCT_TOTAL     | percent of industry in the given occupation (national industry only)|\n",
    "| H_MEAN     | mean hourly wage               |\n",
    "| A_MEAN     | mean annual wage               |\n",
    "| MEAN_PRSE     | percent relative standard error for the mean wage estimate|\n",
    "***"
   ]
  },
  {
   "cell_type": "markdown",
   "id": "5d7542b8-b598-45b4-8233-01ec9df66c98",
   "metadata": {},
   "source": [
    "<!-- BEGIN QUESTION -->\n",
    "<font color = #d14d0f>\n",
    "\n",
    "#### Question 1:\n",
    "What column should we look at to find the number of jobs in the given occupation (per 1000)?"
   ]
  },
  {
   "cell_type": "markdown",
   "id": "c81e92b5-c139-4e9d-af3d-39ed233ce0df",
   "metadata": {},
   "source": [
    "*Type your answer here. Double-click to edit this cell. Run this cell to proceed when finished.*"
   ]
  },
  {
   "cell_type": "markdown",
   "id": "c8a45ad1-12d9-425c-b2ac-2b27878d571a",
   "metadata": {},
   "source": [
    "<!-- END QUESTION -->\n",
    "<!-- BEGIN QUESTION -->\n",
    "<font color = #d14d0f>\n",
    "\n",
    "#### Question 2:\n",
    "What type of numbers is the H_MEAN column made up of?\n",
    "    \n",
    "*Hint: Review section 2.3 of the Introduction to Python and Jupyter Notebook for help. In this case, don't use a function and only look visually by scrolling up to the table and viewing the `H_MEAN` column.*\n",
    "    \n",
    "The options are:\n",
    "* Float\n",
    "* Integer"
   ]
  },
  {
   "cell_type": "markdown",
   "id": "27f50a3c-8a11-4e2f-9ca4-b0843d3d2d43",
   "metadata": {},
   "source": [
    "*Type your answer here. Double-click to edit this cell. Run this cell to proceed when finished.*"
   ]
  },
  {
   "cell_type": "markdown",
   "id": "31b14a98-b8df-495a-a152-0f3dfaf5290e",
   "metadata": {},
   "source": [
    "<br>\n",
    "<!-- END QUESTION -->\n",
    "\n",
    "We will later see that the `H_MEAN` column is actually storing these numbers at **strings**. They will later need to be converted into *[floats/integers] (your answer for Q2)* so understanding what type of numbers they are is still important."
   ]
  },
  {
   "cell_type": "markdown",
   "id": "ffbf6cdb",
   "metadata": {},
   "source": [
    "***\n",
    "# 2. Data Manipulation\n",
    "\n",
    "Before we start our analysis, our table looks like it has plenty of information we do not need. In this next section, we will be cleaning our dataset to best fit our needs. This will consist of **selecting** what columns and rows we would like to explore, **removing** rows that we cannot utilize, and **changing** the types of the values in our table to make it easier to work with.\n",
    "\n",
    "> **`Table.select(\"column_1\", \"column_2\", ...)`**: makes a new table with all the selected columns from the original table  <br>\n"
   ]
  },
  {
   "cell_type": "markdown",
   "id": "db715479",
   "metadata": {},
   "source": [
    "Run the cell below to select the most relevant columns on the table. Here we use the first function `select` in our first step in cleaning the data. "
   ]
  },
  {
   "cell_type": "code",
   "execution_count": null,
   "id": "203fddeb",
   "metadata": {},
   "outputs": [],
   "source": [
    "# using the first method to create a new clean Table\n",
    "new_occ_wages = occupation_employ_wages.select(\"AREA_TITLE\", \"AREA_TYPE\", \"I_GROUP\", \"OWN_CODE\", \"OCC_CODE\", \"OCC_TITLE\", \"O_GROUP\", \"TOT_EMP\", \"EMP_PRSE\", \"JOBS_1000\", \"LOC_QUOTIENT\", \"PCT_TOTAL\", \"H_MEAN\", \"A_MEAN\", \"MEAN_PRSE\")\n",
    "new_occ_wages.show(5)"
   ]
  },
  {
   "cell_type": "markdown",
   "id": "a155a837",
   "metadata": {},
   "source": [
    "<font color = #d14d0f>\n",
    "<!-- BEGIN QUESTION -->\n",
    "    \n",
    "#### Question 3:\n",
    "Looking at `new_occ_wages` in the cell above, we can see that the column `PCT_TOTAL` has only \"nan\" values. \"nan\" is a type of missing value. (This will be covered in more detail in a future notebook.) Thus, we want to drop it since it doesn't actually tell us any percent values.\n",
    "\n",
    "   In the cell below, drop the `PCT_TOTAL` column.\n",
    "    \n",
    " > **`Table.drop(\"column_1\", \"column_2\", ...)`**: creates a new table *without* the indicated columns from the original table <br>\n",
    "    "
   ]
  },
  {
   "cell_type": "code",
   "execution_count": null,
   "id": "5b3df6ba",
   "metadata": {},
   "outputs": [],
   "source": [
    "new_occ_wages = ...\n",
    "new_occ_wages "
   ]
  },
  {
   "cell_type": "markdown",
   "id": "7c17379f",
   "metadata": {},
   "source": [
    "<br>\n",
    "<!-- END QUESTION -->\n",
    "<!-- BEGIN QUESTION -->\n",
    "<font color = #d14d0f>\n",
    "\n",
    "#### Question 4:\n",
    " Relabel the column `I_GROUP` to be called `Industry` so it is more informative.\n",
    "\n",
    "> **`Table.relabeled(old_column_name, new_column_name)`**: Creates a new table, changing the column name specified by the old label to the new label, and leaves the original table unchanged."
   ]
  },
  {
   "cell_type": "code",
   "execution_count": null,
   "id": "d9b9763e",
   "metadata": {},
   "outputs": [],
   "source": [
    "new_occ_wages = new_occ_wages.relabeled(...)\n",
    "new_occ_wages.show(5)"
   ]
  },
  {
   "cell_type": "markdown",
   "id": "06d80c46-50fa-4a50-9132-38e7e718d852",
   "metadata": {},
   "source": [
    "<br>\n",
    "<!-- END QUESTION -->\n",
    "Let's look at a random row and make sure we understand what it means. "
   ]
  },
  {
   "cell_type": "code",
   "execution_count": null,
   "id": "f0eca65f-6a8a-43ae-9fd6-805adae002b5",
   "metadata": {},
   "outputs": [],
   "source": [
    "new_occ_wages.take(0)"
   ]
  },
  {
   "cell_type": "markdown",
   "id": "3ebb8e36-04bd-4226-a605-26dcce9fa1ea",
   "metadata": {},
   "source": [
    "Each row represents an employer. Their area is where they are located and further details like TOT_EMP represent estimated total employment."
   ]
  },
  {
   "cell_type": "markdown",
   "id": "6bfd5b91-198d-4755-aa51-7accd3ede2fa",
   "metadata": {},
   "source": [
    "<br>\n",
    "\n",
    "As you may have noticed, the dataset contains information on all states in the America. In this notebook, we want to look at occupational employment and wage statistics strictly in the state of **California**."
   ]
  },
  {
   "cell_type": "markdown",
   "id": "d5d19c4a",
   "metadata": {},
   "source": [
    "<!-- BEGIN QUESTION -->\n",
    "<font color = #d14d0f>\n",
    "\n",
    "#### Question 5:\n",
    "   In the cell below, fill in the blanks to ensure that we keep data representing California only.\n",
    "  >`.where`: filter a table based on the values of a particular column (see the `Table.where` Predicates section of the [Python reference](http://data8.org/sp22/python-reference.html) for the list of predicates you can use)\n"
   ]
  },
  {
   "cell_type": "code",
   "execution_count": null,
   "id": "8fe6788f",
   "metadata": {},
   "outputs": [],
   "source": [
    "# keeping areas that are only in California \n",
    "cali = new_occ_wages.where(..., ...)\n",
    "cali.show(5)"
   ]
  },
  {
   "cell_type": "markdown",
   "id": "4925fa96",
   "metadata": {},
   "source": [
    "<!-- END QUESTION -->\n",
    "#### Removing Nonnumeric Values\n",
    "\n",
    "While looking at the table, you also may have noticed that there are nonnumeric values in columns that have numeric values (See column `H_MEAN`). When computing values such as the mean of a column, we want to get rid of nonnumeric numbers that can interfere with the computation, such as * or #.      "
   ]
  },
  {
   "cell_type": "markdown",
   "id": "90cccb01-805f-4ca8-b0c5-5a9ea953309f",
   "metadata": {},
   "source": [
    "<!-- BEGIN QUESTION -->\n",
    "<font color = #d14d0f>\n",
    "\n",
    "#### Question 6: \n",
    "    \n",
    "In the cell below, remove any rows that contain `*` or `#` in the `H_MEAN` column.\n",
    "    \n",
    "   *Hint: Look through the \"Table.where Predicates\" section of the linked reference sheet.*\n",
    ">`.where`: filter a table based on the values of a particular column (see the `Table.where` Predicates section of the [Python reference](http://data8.org/sp22/python-reference.html) for the list of predicates you can use)\n"
   ]
  },
  {
   "cell_type": "code",
   "execution_count": null,
   "id": "30feccd7-c1c0-46e3-a446-7f7e7e2375e1",
   "metadata": {},
   "outputs": [],
   "source": [
    "# using the cali Table, we are getting rid of the two nonnumeric values * and #\n",
    "\n",
    "cali_updated = cali.where(\"H_MEAN\", ...).where(\"H_MEAN\", ...)\n",
    "cali_updated.show(5)"
   ]
  },
  {
   "cell_type": "markdown",
   "id": "f2ba6fa9",
   "metadata": {},
   "source": [
    "<!-- END QUESTION -->\n",
    "\n",
    "We'll repeat a similar process to ensure that the column `JOBS_1000` is only numerical.\n",
    "\n"
   ]
  },
  {
   "cell_type": "code",
   "execution_count": null,
   "id": "f501e1f4-b5ca-43db-a1bf-85c30096d89e",
   "metadata": {},
   "outputs": [],
   "source": [
    "# Run this cell\n",
    "cali_updated = cali_updated.where(\"JOBS_1000\", are.not_containing(\"*\"))"
   ]
  },
  {
   "cell_type": "markdown",
   "id": "670d3897-398a-45c3-a6bb-86fb9d376d94",
   "metadata": {},
   "source": [
    "#### Changing the Type of a Column\n",
    "\n",
    "Sometimes, the type of a column may not be what we want. For instance, we cannot compute the mean of string values, so we would need to convert the type of the column to a float or int. \n",
    "\n",
    "First, let's see what the Object type the values of the `H_MEAN` (hourly wage) column is. "
   ]
  },
  {
   "cell_type": "code",
   "execution_count": null,
   "id": "48a35631-bb44-4026-8a9a-d62bc5662a32",
   "metadata": {},
   "outputs": [],
   "source": [
    "temp_type = type(cali_updated.column(\"H_MEAN\")[1])\n",
    "temp_type"
   ]
  },
  {
   "cell_type": "markdown",
   "id": "89e70a0d",
   "metadata": {},
   "source": [
    "The type of the values in the `H_MEAN` column are strings instead of numerical values, or more specifically \"floats\". That means we will get an error when trying to compute statistical values of the column. "
   ]
  },
  {
   "cell_type": "markdown",
   "id": "a2353484",
   "metadata": {},
   "source": [
    "<!-- BEGIN QUESTION -->\n",
    "\n",
    "<font color = #d14d0f>\n",
    "\n",
    "#### Question 7: \n",
    "    \n",
    "In the cell below, update the `H_MEAN` column values by changing their type into a float. Float objects represent real numbers and are written with a decimal point.\n",
    "\n",
    "*Hint: Table[\"column_name\"] = Table.column(\"column_name\").astype(float)*"
   ]
  },
  {
   "cell_type": "code",
   "execution_count": null,
   "id": "517b7e09",
   "metadata": {},
   "outputs": [],
   "source": [
    "cali_updated[\"H_MEAN\"] = ...\n",
    "cali_updated.column(\"H_MEAN\")[0:10]"
   ]
  },
  {
   "cell_type": "markdown",
   "id": "e5217b19",
   "metadata": {},
   "source": [
    "<br>\n",
    "<!-- END QUESTION -->\n",
    "\n",
    "Now that our data is cleaned, let's explore our new table, `cali_updated`!  "
   ]
  },
  {
   "cell_type": "markdown",
   "id": "69cc7587",
   "metadata": {},
   "source": [
    "#### Computing the Mean of a Column\n"
   ]
  },
  {
   "cell_type": "markdown",
   "id": "fe78d055",
   "metadata": {},
   "source": [
    "<!-- BEGIN QUESTION -->\n",
    "\n",
    "<font color = #d14d0f>\n",
    "\n",
    "#### Question 8: \n",
    "   Let's say we want to get the mean hourly wage value for California. We already have our California dataset that has removed all the nonnumeric values in the H_MEAN column and changed the types to a float.\n",
    "    \n",
    "   **Compute the mean** of the California hourly wages. (Use `cali_updated`.)"
   ]
  },
  {
   "cell_type": "code",
   "execution_count": null,
   "id": "15223c06",
   "metadata": {},
   "outputs": [],
   "source": [
    "# hint: np.mean()\n",
    "\n",
    "CA_mean_hr_wage = ...\n",
    "CA_mean_hr_wage"
   ]
  },
  {
   "cell_type": "markdown",
   "id": "b776e192-5275-4eca-8746-a4abebde5f97",
   "metadata": {},
   "source": [
    "Use the next cell to check your answer. If it returns True, your answer was correct. If it returns False, go back and check that you are using the right function for the right column."
   ]
  },
  {
   "cell_type": "code",
   "execution_count": null,
   "id": "93da1814-cd96-4999-bd51-960cf3d3c005",
   "metadata": {},
   "outputs": [],
   "source": [
    "np.round(CA_mean_hr_wage, 2) == 35.66"
   ]
  },
  {
   "cell_type": "markdown",
   "id": "c81d540d-24ff-4b42-ad5a-d21ef316800d",
   "metadata": {},
   "source": [
    "<br>\n",
    "<!-- END QUESTION -->\n",
    "<!-- BEGIN QUESTION -->\n",
    "\n",
    "<font color = #d14d0f>\n",
    "\n",
    "#### Question 9: \n",
    "    \n",
    "In the cell below, repeat what you did in Question 7 and update the `JOBS_1000` column values by changing the data's type into a float. Float objects represent real numbers and are written with a decimal point. (ie, 2.345 or 4.0)\n",
    "\n",
    "*Hint: Table[\"column_name\"] = Table.column(\"column_name\").astype(float)*"
   ]
  },
  {
   "cell_type": "code",
   "execution_count": null,
   "id": "796378a7-2ff9-46e4-9f5e-1742c108199d",
   "metadata": {},
   "outputs": [],
   "source": [
    "cali_updated[\"JOBS_1000\"] = ...\n",
    "\n",
    "# Now check the type of the \"JOBS_1000\" column\n",
    "\n",
    "jobs1000_type = type(cali_updated.column(\"JOBS_1000\")[0])\n",
    "jobs1000_type"
   ]
  },
  {
   "cell_type": "markdown",
   "id": "6362f130-9412-4521-aa67-3b04ef5639cc",
   "metadata": {},
   "source": [
    "Use the cell below to check if you've properly converted the column. If it returns True, your answer is correct."
   ]
  },
  {
   "cell_type": "code",
   "execution_count": null,
   "id": "b3c41cc7-acfb-4c61-926e-785b59a0c2f8",
   "metadata": {},
   "outputs": [],
   "source": [
    "jobs1000_type == np.float64"
   ]
  },
  {
   "cell_type": "markdown",
   "id": "89ec0e10",
   "metadata": {
    "jp-MarkdownHeadingCollapsed": true,
    "tags": []
   },
   "source": [
    "<br>\n",
    "<!-- END QUESTION -->\n",
    "<!-- BEGIN QUESTION -->\n",
    "\n",
    "<font color = #d14d0f>\n",
    "\n",
    "#### Question 10: \n",
    "\n",
    "\n",
    "If the number of jobs in the given **occupation per 1,000 is larger than 10**, the job can be counted as common job. Calculate the mean hourly wage of common jobs in California ***that have multiple titles/roles***. \n",
    "    \n",
    "   *Hint: A job with multiple titles/roles contains the word \"and\" in the \"OCC_TITLE\" column.<br>\n",
    "    ie) \"Advertising and Promotions Managers\"*\n",
    " \n",
    "   We've split the filtering into 2 steps since there are two criteria listed above.<br>\n",
    "   Step 1: Find all \"common jobs\". <br>\n",
    "   Step 2: Find the common jobs with \"multiple titles/roles\".<br>\n",
    "   Step 3: Find the mean of the hourly wage of these rows. <br>\n"
   ]
  },
  {
   "cell_type": "code",
   "execution_count": null,
   "id": "e6f6dfff-3645-4b70-bdf8-6e79421313fe",
   "metadata": {},
   "outputs": [],
   "source": [
    "# STEP 1\n",
    "common_jobs = cali_updated.where(...)\n",
    "common_jobs"
   ]
  },
  {
   "cell_type": "code",
   "execution_count": null,
   "id": "b91c8243-8321-4022-a9c6-f6ce0061e1cd",
   "metadata": {},
   "outputs": [],
   "source": [
    "# STEP 2\n",
    "multiple_roles = common_jobs.where(...)\n",
    "multiple_roles"
   ]
  },
  {
   "cell_type": "code",
   "execution_count": null,
   "id": "37d8c88d-53e0-4952-b27f-81089b0ef229",
   "metadata": {},
   "outputs": [],
   "source": [
    "# STEP 3 -- be sure to take average of column in multiple_roles table as it's the most up to date\n",
    "mean_wage = ...\n",
    "mean_wage"
   ]
  },
  {
   "cell_type": "markdown",
   "id": "db393652-6d63-4d2b-b03b-046814d5b9d0",
   "metadata": {},
   "source": [
    "Use the below cell to check your answer. If it returns True, your calculation was correct!"
   ]
  },
  {
   "cell_type": "code",
   "execution_count": null,
   "id": "845ff513-dfb0-4374-a556-f834b63aee23",
   "metadata": {},
   "outputs": [],
   "source": [
    "np.round(mean_wage, 2) == 29.11"
   ]
  },
  {
   "cell_type": "markdown",
   "id": "cc5a40c2",
   "metadata": {},
   "source": [
    "<!-- END QUESTION -->\n",
    "\n",
    "***\n",
    "# 3. Conclusion"
   ]
  },
  {
   "cell_type": "markdown",
   "id": "8ef06d9c-8935-4989-8f4b-4edcb07f1980",
   "metadata": {},
   "source": [
    "Over the course of this notebook, you learned and practiced table manipulation techniques like `drop`, `select`, `relabel`, and `astype`. This gives you practice in manipulating data so that you can manipulate data based on your own ideas and hypotheses in the future. In the next notebook, you will build upon coding and quantitative skills you learned today by applying them to more detailed Labor Statistics data from the [US Bureau of Labor Statistics](https://www.bls.gov/data/). Great work!"
   ]
  },
  {
   "cell_type": "markdown",
   "id": "d28c1bf8-94f2-4f76-8e80-8c94a3e29e4c",
   "metadata": {},
   "source": [
    "### Congratulations! You have finished the notebook! ##"
   ]
  },
  {
   "cell_type": "markdown",
   "id": "193fb034-1152-4d59-87a5-a7016d6d47a9",
   "metadata": {},
   "source": [
    "***\n",
    "# 4. Submitting Your Work"
   ]
  },
  {
   "cell_type": "markdown",
   "id": "88220b17-8d47-4473-b2df-12743b121ce6",
   "metadata": {},
   "source": [
    "**Make sure that you've answered all the questions.**\n",
    "\n",
    "Follow these steps: \n",
    "1. Go to `File` in the menu bar, then select `Save and Checkpoint` (or click CTRL+S).\n",
    "2. Go to `Cell` in the menu bar, then select `Run All`.\n",
    "3. Click the link produced by the code cell below.\n",
    "4. Submit the downloaded PDF on bCourses according to your professor's instructions.\n",
    "\n",
    "**Note:** If clicking the link below doesn't work for you, don't worry! Simply click `File` in the menu, find `Download As`, and choose `PDF via LaTeX (.pdf)` to save a copy of your pdf onto your computer.\n",
    "\n",
    "**Check the PDF before submitting and make sure all of your answers and any changes are shown.**"
   ]
  },
  {
   "cell_type": "code",
   "execution_count": null,
   "id": "bf18f8fd-6f04-4022-9ad9-4f1145c65bd9",
   "metadata": {},
   "outputs": [],
   "source": [
    "#This may take a few extra seconds.\n",
    "from otter.export import export_notebook\n",
    "from IPython.display import display, HTML\n",
    "export_notebook(\"2. Table Manipulation Homework.ipynb\", filtering=True, pagebreaks=False)\n",
    "display(HTML(\"<p style='font-size:20px'> <br>Save this notebook, then click <a href='2. Table Manipulation Homework.pdf' download>here</a> to open the pdf.<br></p>\"))"
   ]
  },
  {
   "cell_type": "markdown",
   "id": "dfb04c4a-6bfd-4993-bdda-a76c114d182c",
   "metadata": {},
   "source": [
    "***\n",
    "# 5. Explore Data Science Opportunities\n",
    "\n",
    "Interested in learning more about how to get involved in data science or learn about data science applications in your field of study? The following resources might help support your learning:\n",
    "\n",
    "- Data Science Modules: http://data.berkeley.edu/education/modules\n",
    "- Data Science Offerings at Berkeley: https://data.berkeley.edu/academics/undergraduate-programs/data-science-offerings\n",
    "- Data 8 Course Information: http://data8.org/\n",
    "- Data 100 Course Information: https://ds100.org/\n"
   ]
  },
  {
   "cell_type": "markdown",
   "id": "59a0b93b-e715-4698-90aa-efcde0f84ec0",
   "metadata": {},
   "source": [
    "***\n",
    "# 6. Feedback Form\n",
    "\n",
    "<div class=\"alert alert-info\">\n",
    "<b> We encourage students to fill out the following feedback form to share your experience with this Module notebook. This feedback form will take no longer than 5 minutes. At UC Berkeley Data Science Undergraduate Studies Modules, we appreciate all feedback to improve the learning of students and experience utilizing Jupyter Notebooks for Data Science Education: </b> \n",
    "</div>\n",
    "\n",
    "# [UC Berkeley Data Science Feedback Form](https://forms.gle/hipxf2uFw5Ud4Hyn8)"
   ]
  },
  {
   "cell_type": "code",
   "execution_count": null,
   "id": "708031ff",
   "metadata": {},
   "outputs": [],
   "source": []
  },
  {
   "cell_type": "code",
   "execution_count": null,
   "id": "bb4ce8de",
   "metadata": {},
   "outputs": [],
   "source": []
  }
 ],
 "metadata": {
  "kernelspec": {
   "display_name": "Python 3 (ipykernel)",
   "language": "python",
   "name": "python3"
  },
  "language_info": {
   "codemirror_mode": {
    "name": "ipython",
    "version": 3
   },
   "file_extension": ".py",
   "mimetype": "text/x-python",
   "name": "python",
   "nbconvert_exporter": "python",
   "pygments_lexer": "ipython3",
   "version": "3.9.7"
  },
  "vscode": {
   "interpreter": {
    "hash": "10b7ef3eeb3354b1b7adf770cc38db9eee59b13ad6bf54de30cb2a1b090e259a"
   }
  }
 },
 "nbformat": 4,
 "nbformat_minor": 5
}
