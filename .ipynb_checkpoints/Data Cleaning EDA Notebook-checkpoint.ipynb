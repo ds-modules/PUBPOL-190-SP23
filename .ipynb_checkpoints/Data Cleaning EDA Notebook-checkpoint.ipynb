{
 "cells": [
  {
   "cell_type": "markdown",
   "id": "0a6f3cbb",
   "metadata": {},
   "source": [
    "# [Public Policy 190] Data Cleaning EDA Notebook\n",
    "\n",
    "<br>\n",
    "\n",
    "**Estimated Time:** __ minutes <br>\n",
    "**Notebook Developed By:** Skye Pickett, Leah Hong, Emily Guo, Reynolds Zhang <br>\n",
    "\n",
    "Paragraph summary of what they will be learning, what our data is about, what concepts / tools using. This notebook uses Python (coding language) and Pandas (a Python library).\n",
    "\n",
    "### Learning Outcomes\n",
    "\n",
    "In this notebook, you will learn about:\n",
    "- Learning Objective #1\n",
    "- Learning Objective #2\n",
    "- Learning Objective #3\n",
    "- Learning Objective #4\n",
    "- etc...\n",
    "\n",
    "### Table of Contents\n",
    "1. [Introduction to Data Cleaning](#0) <br>\n",
    "1. [Data Cleaning Techniques](#1) <br>\n",
    "1. [Introduction to the Dataset](#2) <br>\n",
    "1. [Cleaning the Dataset](#3)<br>\n",
    "1. [Exploratory Data Analysis](#4) <br>\n",
    "1. [Conclusion](#5) <br>\n",
    "1. [Submitting Your Work](#6)<br>\n",
    "1. [Explore Data Science Opportunities](#7)<br>\n",
    "1. [Feedback Form](#8)<br>\n",
    "\n",
    "-------------------------------------------------------------------"
   ]
  },
  {
   "cell_type": "markdown",
   "id": "9547d777",
   "metadata": {},
   "source": [
    "<br>\n",
    "\n",
    "# 1. Introduction to Data Cleaning <a id='0'></a>"
   ]
  },
  {
   "cell_type": "markdown",
   "id": "cf93e742-ffb7-446b-af89-75bedbada785",
   "metadata": {},
   "source": [
    "First, let's import all the necessary packages so we can use their tools in the rest of the notebook. Run the cell below."
   ]
  },
  {
   "cell_type": "code",
   "execution_count": 1,
   "id": "459e1975-ea27-42bb-87ab-8fdf35655c95",
   "metadata": {},
   "outputs": [
    {
     "name": "stdout",
     "output_type": "stream",
     "text": [
      "All necessary packages have been imported!\n"
     ]
    }
   ],
   "source": [
    "# Run this cell\n",
    "import numpy as np\n",
    "import pandas as pd\n",
    "import folium\n",
    "import ipywidgets as widgets\n",
    "from IPython.display import display, HTML\n",
    "from otter import Notebook\n",
    "from datascience import *\n",
    "import matplotlib.pyplot as plt\n",
    "%matplotlib inline\n",
    "plt.style.use('fivethirtyeight')\n",
    "import seaborn as sns\n",
    "print(\"All necessary packages have been imported!\")"
   ]
  },
  {
   "cell_type": "markdown",
   "id": "9b6eb38d-78e9-47e7-a748-33d248d9f922",
   "metadata": {
    "tags": []
   },
   "source": [
    "### 1.1 What is Data Cleaning?"
   ]
  },
  {
   "cell_type": "markdown",
   "id": "8d7d6ad8-5f4b-4fd9-8a0a-c54116c0bbb4",
   "metadata": {},
   "source": [
    "In this notebook, we will first focus on data cleaning. You will be given a collection of data to analyze and answer questions about. Prior to this, we need to make sure that the data is clean and ready so that we can understand the extent of our analyses found in EDA (Exploratory Data Analysis). \n",
    "\n",
    ">**Data cleaning** is the process of transforming raw data to improve understandability by addressing issues inside of a dataset. Through the process, we focus on the structure/format of the dataset, missing or corrupted values, unit conversion, and changing the *type* of collected values."
   ]
  },
  {
   "cell_type": "markdown",
   "id": "8e3d2cd2-05a3-4c20-a3ed-816af1e02a4f",
   "metadata": {},
   "source": [
    "#### Example of Un-Cleaned Data"
   ]
  },
  {
   "cell_type": "markdown",
   "id": "8684dd84-f7b1-4f9f-9f5f-b437bce997ba",
   "metadata": {},
   "source": [
    "<img src=\"Data/dirty_dataset.png\" alt=\"Dirty Dataset\"/>"
   ]
  },
  {
   "cell_type": "markdown",
   "id": "fdb89f7d-656f-45ff-a491-b9e339e8d035",
   "metadata": {},
   "source": [
    "<font color = #d14d0f>**QUESTION 1**:</font>\n",
    "**What seems wrong in the dataset pictured above? Observe issues within at least 3 different columns.**"
   ]
  },
  {
   "cell_type": "markdown",
   "id": "bc469baf-ac9d-4237-9559-e0ac82344467",
   "metadata": {},
   "source": [
    "*REPLACE THIS TEXT WITH YOUR RESPONSE. DOUBLE CLICK THIS CELL, TYPE YOUR RESPONSE, AND RUN THE CELL TO SAVE AND DISPLAY YOUR RESPONSE.*"
   ]
  },
  {
   "cell_type": "code",
   "execution_count": 2,
   "id": "1a672fd3",
   "metadata": {},
   "outputs": [
    {
     "data": {
      "text/html": [
       "<table border=\"1\" class=\"dataframe\">\n",
       "    <thead>\n",
       "        <tr>\n",
       "            <th>Candidate</th> <th>Party</th> <th>%</th> <th>Year</th> <th>Result</th>\n",
       "        </tr>\n",
       "    </thead>\n",
       "    <tbody>\n",
       "        <tr>\n",
       "            <td>Reagan   </td> <td>Republican </td> <td>50.7</td> <td>1980</td> <td>win   </td>\n",
       "        </tr>\n",
       "        <tr>\n",
       "            <td>Carter   </td> <td>Democratic </td> <td>41  </td> <td>1980</td> <td>loss  </td>\n",
       "        </tr>\n",
       "        <tr>\n",
       "            <td>Anderson </td> <td>Independent</td> <td>6.6 </td> <td>1980</td> <td>loss  </td>\n",
       "        </tr>\n",
       "        <tr>\n",
       "            <td>Reagan   </td> <td>Republican </td> <td>58.8</td> <td>1984</td> <td>win   </td>\n",
       "        </tr>\n",
       "        <tr>\n",
       "            <td>Mondale  </td> <td>Democratic </td> <td>37.6</td> <td>1984</td> <td>loss  </td>\n",
       "        </tr>\n",
       "        <tr>\n",
       "            <td>Bush     </td> <td>Republican </td> <td>53.4</td> <td>1988</td> <td>win   </td>\n",
       "        </tr>\n",
       "        <tr>\n",
       "            <td>Dukakis  </td> <td>Democratic </td> <td>45.6</td> <td>1988</td> <td>loss  </td>\n",
       "        </tr>\n",
       "        <tr>\n",
       "            <td>Clinton  </td> <td>Democratic </td> <td>43  </td> <td>1992</td> <td>win   </td>\n",
       "        </tr>\n",
       "        <tr>\n",
       "            <td>Bush     </td> <td>Republican </td> <td>37.4</td> <td>1992</td> <td>loss  </td>\n",
       "        </tr>\n",
       "        <tr>\n",
       "            <td>Perot    </td> <td>Independent</td> <td>18.9</td> <td>1992</td> <td>loss  </td>\n",
       "        </tr>\n",
       "    </tbody>\n",
       "</table>\n",
       "<p>... (13 rows omitted)</p>"
      ],
      "text/plain": [
       "<IPython.core.display.HTML object>"
      ]
     },
     "metadata": {},
     "output_type": "display_data"
    }
   ],
   "source": [
    "# an example of a clean dataset \n",
    "\n",
    "elections = Table.read_table(\"elections.csv\")\n",
    "elections.show(10)"
   ]
  },
  {
   "cell_type": "code",
   "execution_count": 3,
   "id": "d2dcf5d6",
   "metadata": {},
   "outputs": [
    {
     "data": {
      "text/html": [
       "<table border=\"1\" class=\"dataframe\">\n",
       "    <thead>\n",
       "        <tr>\n",
       "            <th>CASENO</th> <th>OFFENSE</th> <th>EVENTDT</th> <th>EVENTTM</th> <th>CVLEGEND</th> <th>CVDOW</th> <th>InDbDate</th> <th>Block_Location</th> <th>BLKADDR</th> <th>City</th> <th>State</th>\n",
       "        </tr>\n",
       "    </thead>\n",
       "    <tbody>\n",
       "        <tr>\n",
       "            <td>18022300</td> <td>DISTURBANCE             </td> <td>04/18/2018 12:00:00 AM</td> <td>22:17  </td> <td>DISORDERLY CONDUCT  </td> <td>3    </td> <td>09/06/2018 03:30:12 AM</td> <td>OREGON STREET &amp; MCGEE AVE\n",
       "Berkeley, CA\n",
       "(37.856572, - ...</td> <td>OREGON STREET & MCGEE AVE   </td> <td>Berkeley</td> <td>CA   </td>\n",
       "        </tr>\n",
       "        <tr>\n",
       "            <td>18026683</td> <td>THEFT MISD. (UNDER $950)</td> <td>05/09/2018 12:00:00 AM</td> <td>21:25  </td> <td>LARCENY             </td> <td>3    </td> <td>09/06/2018 03:30:13 AM</td> <td>200 UNIVERSITY AVE\n",
       "Berkeley, CA\n",
       "(37.865511, -122.309967)    </td> <td>200 UNIVERSITY AVE          </td> <td>Berkeley</td> <td>CA   </td>\n",
       "        </tr>\n",
       "        <tr>\n",
       "            <td>18038550</td> <td>THEFT MISD. (UNDER $950)</td> <td>05/18/2018 12:00:00 AM</td> <td>20:00  </td> <td>LARCENY             </td> <td>5    </td> <td>09/06/2018 03:30:09 AM</td> <td>2200 MILVIA ST\n",
       "Berkeley, CA\n",
       "(37.868574, -122.270415)        </td> <td>2200 MILVIA ST              </td> <td>Berkeley</td> <td>CA   </td>\n",
       "        </tr>\n",
       "        <tr>\n",
       "            <td>18014810</td> <td>BURGLARY AUTO           </td> <td>03/13/2018 12:00:00 AM</td> <td>08:50  </td> <td>BURGLARY - VEHICLE  </td> <td>2    </td> <td>09/06/2018 03:30:08 AM</td> <td>1200 SIXTH ST\n",
       "Berkeley, CA\n",
       "(37.881142, -122.30191)          </td> <td>1200 SIXTH ST               </td> <td>Berkeley</td> <td>CA   </td>\n",
       "        </tr>\n",
       "        <tr>\n",
       "            <td>18018643</td> <td>ALCOHOL OFFENSE         </td> <td>03/31/2018 12:00:00 AM</td> <td>13:29  </td> <td>LIQUOR LAW VIOLATION</td> <td>6    </td> <td>09/06/2018 03:30:11 AM</td> <td>CENTER STREET &amp; SHATTUCK AVE\n",
       "Berkeley, CA\n",
       "(37.870308 ...</td> <td>CENTER STREET & SHATTUCK AVE</td> <td>Berkeley</td> <td>CA   </td>\n",
       "        </tr>\n",
       "        <tr>\n",
       "            <td>18044311</td> <td>VANDALISM               </td> <td>08/07/2018 12:00:00 AM</td> <td>10:46  </td> <td>VANDALISM           </td> <td>2    </td> <td>09/06/2018 03:30:10 AM</td> <td>2300 SHATTUCK AVE\n",
       "Berkeley, CA\n",
       "(37.867176, -122.267802)     </td> <td>2300 SHATTUCK AVE           </td> <td>Berkeley</td> <td>CA   </td>\n",
       "        </tr>\n",
       "        <tr>\n",
       "            <td>18090660</td> <td>IDENTITY THEFT          </td> <td>04/04/2018 12:00:00 AM</td> <td>14:00  </td> <td>FRAUD               </td> <td>3    </td> <td>09/06/2018 03:30:12 AM</td> <td>1000 EUCLID AVE\n",
       "Berkeley, CA\n",
       "(37.891594, -122.264883)       </td> <td>1000 EUCLID AVE             </td> <td>Berkeley</td> <td>CA   </td>\n",
       "        </tr>\n",
       "        <tr>\n",
       "            <td>18091024</td> <td>THEFT MISD. (UNDER $950)</td> <td>06/27/2018 12:00:00 AM</td> <td>13:40  </td> <td>LARCENY             </td> <td>3    </td> <td>09/06/2018 03:30:13 AM</td> <td>1500 HARMON ST\n",
       "Berkeley, CA\n",
       "(37.848812, -122.278043)        </td> <td>1500 HARMON ST              </td> <td>Berkeley</td> <td>CA   </td>\n",
       "        </tr>\n",
       "        <tr>\n",
       "            <td>18015688</td> <td>VEHICLE STOLEN          </td> <td>03/17/2018 12:00:00 AM</td> <td>02:00  </td> <td>MOTOR VEHICLE THEFT </td> <td>6    </td> <td>09/06/2018 03:30:08 AM</td> <td>CEDAR STREET &amp; EUCLID AVE\n",
       "Berkeley, CA\n",
       "(37.879467, - ...</td> <td>CEDAR STREET & EUCLID AVE   </td> <td>Berkeley</td> <td>CA   </td>\n",
       "        </tr>\n",
       "        <tr>\n",
       "            <td>18029899</td> <td>ASSAULT/BATTERY MISD.   </td> <td>05/26/2018 12:00:00 AM</td> <td>07:35  </td> <td>ASSAULT             </td> <td>6    </td> <td>09/06/2018 03:30:13 AM</td> <td>2700 SACRAMENTO ST\n",
       "Berkeley, CA\n",
       "(37.858433, -122.280183)    </td> <td>2700 SACRAMENTO ST          </td> <td>Berkeley</td> <td>CA   </td>\n",
       "        </tr>\n",
       "    </tbody>\n",
       "</table>\n",
       "<p>... (3778 rows omitted)</p>"
      ],
      "text/plain": [
       "<IPython.core.display.HTML object>"
      ]
     },
     "metadata": {},
     "output_type": "display_data"
    }
   ],
   "source": [
    "# an example of a dataset that needs to be cleaned \n",
    "\n",
    "police_calls = Table.read_table(\"berkeleyPDcalls.csv\")\n",
    "police_calls.show(10)"
   ]
  },
  {
   "cell_type": "markdown",
   "id": "16582d15-ae83-4663-9f0c-3ba22dba10b5",
   "metadata": {
    "tags": []
   },
   "source": [
    "### 1.2 Significance of Data Cleaning"
   ]
  },
  {
   "cell_type": "markdown",
   "id": "7d003fc8-862c-4fd7-a1c3-27770f11e470",
   "metadata": {},
   "source": [
    "Reason 1)  \n",
    "Makes it easier to work with column values and manipulate them for later analysis in EDA\n",
    "\n",
    "Reason 2)  \n",
    "The removal of errors when multiple sources of data are at play\n",
    "\n",
    "Reason 3)  \n",
    "Ability to map the different functions and what your data is intended to do\n",
    "\n",
    "Reason 4)  \n",
    "We are able to better monitor errors and see where they come from, which makes it easier to fix incorrect data for future use "
   ]
  },
  {
   "cell_type": "markdown",
   "id": "4897da7c",
   "metadata": {
    "tags": []
   },
   "source": [
    "# 2. Data Cleaning Techniques <a id='1'></a>\n",
    "\n"
   ]
  },
  {
   "cell_type": "markdown",
   "id": "19d386fe-372f-4eec-9365-26ffb5a728c2",
   "metadata": {
    "tags": []
   },
   "source": [
    "### 2.1 Handling Missing Data"
   ]
  },
  {
   "attachments": {
    "b91d072b-7f2f-4738-a580-89fbf2449315.png": {
     "image/png": "[encoded data removed]"
    }
   },
   "cell_type": "markdown",
   "id": "fa333811-de61-416b-ae0e-006c5c4cc356",
   "metadata": {},
   "source": [
    " #### What is missing data and what it can look like ?\n",
    "A missing value in a relational database refers to when the value in a column is unknown or missing. These are usually represented as null values, empty strings, 0s, and NaN.\n",
    "\n",
    "In this example, we found that there are 3 missing values in the `Age` column:\n",
    ">-, na and NaN.\n",
    "\n",
    "However, Pandas doesn’t recognize `-` and `na` as null. We have to replace them with null before dealing with them.\n",
    "\n",
    "![image.png](attachment:b91d072b-7f2f-4738-a580-89fbf2449315.png)\n",
    "\n",
    "Use `isnull` to check if the value is null. We need to use replace to unify the null values."
   ]
  },
  {
   "cell_type": "code",
   "execution_count": 4,
   "id": "c8fe2c5d-3b28-45d6-bd28-8fc6af4b5b52",
   "metadata": {},
   "outputs": [],
   "source": [
    "# Example code of using replace to unify null value\n",
    "# df['Age'] = df['Age'].replace('-', np.NaN)\n",
    "# df['Age'] = df['Age'].replace('na', np.NaN)\n",
    "# df[\"Age\"].head(10) "
   ]
  },
  {
   "cell_type": "markdown",
   "id": "fdf2c9ac-8353-4224-b22d-a22e48eea232",
   "metadata": {},
   "source": [
    "#### Dealing with null data\n",
    "Now that we have replaced all na and - values with null values, how are we going to deal with them as missing values? This is dependent on the context of the data. Here are a few different solutions:\n",
    "\n",
    "#### Solution 1: Drop the observation (row) / feature (column)\n",
    "If we are sure that the missing data is not useful for our EDA or that the missing data is only a small portion of the data, we can drop the rows that contain missing values. If we are confident that this feature (column) does not provide useful information for our EDA or that the percentage of missing values is high, we can drop the entire column. This is very useful when doing statistical analysis, since filling in the missing values may yield unexpected or biased results."
   ]
  },
  {
   "cell_type": "markdown",
   "id": "320eb8b7-9ae7-4833-af98-2797aaee116e",
   "metadata": {},
   "source": [
    "#### Solution 2: Impute the missing values.\n",
    "Imputing the missing values means that we make calculations based on the other data to fill the missing values.\n",
    "\n",
    "For example, we can compute missing values for age with the date of birth by subtracting their birth year by the current year. This solution would be accurately imputing the values.\n",
    "\n",
    "However, in many cases, we do not have the date of birth or an alternate representation of the data. We can then replace the missing values with the mean, median, or mode of the data."
   ]
  },
  {
   "cell_type": "markdown",
   "id": "c8386f09-b622-4667-b324-60d25bc95f2f",
   "metadata": {},
   "source": [
    "#### When to choose the mode:\n",
    "When we have categorical data, we will often choose the mode to represent missing values. We can't find the mean or median of categorical data (for example, finding the mean of 'Strawberry', 'Banana', and 'Orange' doesn't make sense)."
   ]
  },
  {
   "cell_type": "markdown",
   "id": "31a4b6ac-4bf7-433d-886f-581fcfe085ff",
   "metadata": {},
   "source": [
    "#### Choose between mean and median: \n",
    "The **mean** is most useful when the data is not skewed because the mean is sensitive/easily influenced by outliers.\n",
    "\n",
    "The **median** is more robust and is not sensitive to outliers. Thus when the data is skewed, we want to use the median. "
   ]
  },
  {
   "cell_type": "markdown",
   "id": "e6885e11-dd2f-46ad-8250-a97a51301294",
   "metadata": {
    "tags": []
   },
   "source": [
    "### 2.2 Understanding Column Names"
   ]
  },
  {
   "cell_type": "markdown",
   "id": "5189b4c3-18e3-4ffd-bfad-f0aae597d928",
   "metadata": {},
   "source": [
    "In some cases, the column name may be an abbreviation, a long phrase, or a database-specific term. In these cases, we would want to replace the column names with more user-friendly names for understandability and ease during EDA."
   ]
  },
  {
   "cell_type": "markdown",
   "id": "cf490525-7479-4b0d-857f-330a777c85e9",
   "metadata": {
    "tags": []
   },
   "source": [
    "### 2.3 Manipulating Columns"
   ]
  },
  {
   "cell_type": "markdown",
   "id": "562a5d42-87e6-4208-b71b-5ed6a7585dbf",
   "metadata": {},
   "source": [
    "\n",
    "#### Remove duplicates\n",
    "If we want to check for duplicates in the data, `.duplicated()` is the function needed.\n",
    "\n",
    "Using `df[df.duplicated(keep=False)]` shows all duplicates.\n",
    "\n",
    "`keep` : allows a few parameters to check on duplicates.\n",
    "\n",
    "`first` : Mark duplicates as True except for the first occurrence.\n",
    "\n",
    "`last` : Mark duplicates as True except for the last occurrence.\n",
    "\n",
    "`False` : Mark all duplicates as True.\n",
    "\n",
    "Now we have seen there are duplicates in this dataset. I would like to remove them and keep the first occurrence. The following function is used to keep the `first` occurrence.\n",
    "\n",
    "`df = df.drop_duplicates(keep=\"first\")`"
   ]
  },
  {
   "cell_type": "markdown",
   "id": "119d0ada-26cd-4bca-b329-63c455950a9b",
   "metadata": {},
   "source": [
    "#### Dropping unnecessary columns by “drop”\n",
    "We have learned `drop` in previous notebooks. Based on your observation, if you believe there is an invalid/null column that you do not need. You can drop it by using the function below."
   ]
  },
  {
   "cell_type": "code",
   "execution_count": 5,
   "id": "8c2f330c-3a7f-43d4-b9e8-73a55da0fb6b",
   "metadata": {},
   "outputs": [],
   "source": [
    "#df.drop(columns=\"Unnamed: 13\", inplace = True)"
   ]
  },
  {
   "cell_type": "markdown",
   "id": "766a2ba1-f98a-424d-8d2c-2d474de4bcaa",
   "metadata": {},
   "source": [
    "If you wish to drop multiple columns, an array is needed to pass in columns parameter.\n",
    "\n",
    "`inplace = True` will do the operation directly on the dataframe itself, by default it will create another copy and you have to assign it to the dataframe again like `df = df.drop(columns=\"Unnamed: 11\")`."
   ]
  },
  {
   "cell_type": "markdown",
   "id": "bab0a993-0751-49a2-98af-6572eaeda00e",
   "metadata": {
    "tags": []
   },
   "source": [
    "### 2.4 Mapping Table Values"
   ]
  },
  {
   "attachments": {
    "cb544a91-3398-4ab1-bb37-ab29631b9c77.png": {
     "image/png": "[encoded data removed]"
    }
   },
   "cell_type": "markdown",
   "id": "501f019b-eb16-4824-bc47-34a26a52e905",
   "metadata": {},
   "source": [
    "Sometimes, the values of some inputs that should be unified may not be unified.\n",
    "\n",
    "![image.png](attachment:cb544a91-3398-4ab1-bb37-ab29631b9c77.png)\n",
    "\n",
    "Use “column.unique()” to find all possible data in some columns \n",
    "\n",
    "In the example above, we found that there are “male, m, M, F, f, female, Female” in the column “sex”, and it is hard to use the column since some of them should be unified."
   ]
  },
  {
   "cell_type": "markdown",
   "id": "2a692794-8426-4bc3-8370-2be6c292de0e",
   "metadata": {},
   "source": [
    "Now, what we need to do is to use `column.map`  to include wrong input data to the database (by using map, we can change all “M, m, male” to “male”), and we could get the data to be only represented by `male` and `female` in the end."
   ]
  },
  {
   "cell_type": "code",
   "execution_count": 6,
   "id": "71c8b126-6a84-46ca-bfe0-c614f26330a6",
   "metadata": {},
   "outputs": [],
   "source": [
    "#df[\"Sex\"] = df[\"Sex\"].map({\n",
    "#    \"male\": \"male\",      \n",
    "#    \"m\": \"male\",\n",
    "#    \"m \": \"male\",\n",
    "#   \"M\": \"male\",\n",
    "#    \"F\": \"female\",\n",
    "#    \"f\": \"female\",\n",
    "#    \"female\": \"female\"\n",
    "#})"
   ]
  },
  {
   "cell_type": "markdown",
   "id": "8b54fa2b-99c5-4857-a141-a345e001f6a1",
   "metadata": {},
   "source": [
    "The function above is used to map those values to male or female.\n",
    "\n",
    "Note: please make sure the default values male and female are included in the mapping, else it will become nan after you perform the mapping."
   ]
  },
  {
   "cell_type": "markdown",
   "id": "a56ddc06-d748-4870-add8-3cb05f82a305",
   "metadata": {
    "tags": []
   },
   "source": [
    "### 2.5 Using `.where`"
   ]
  },
  {
   "cell_type": "markdown",
   "id": "bd5964eb-6d4b-447e-8810-92ce2b7be3f8",
   "metadata": {},
   "source": [
    "Filter data to only what we want to look at (especially with really large data). For example, if you have data from 1970 to 2019, and you only want data after 2010, you can use `df1=df.where(df[\"year\"],are.above(2010))` to filter the data to create `df1` that only has rows where the year is 2010 or greater. More instructions on `.where` in Part 3."
   ]
  },
  {
   "cell_type": "markdown",
   "id": "3eb81a01-60d6-456d-9876-b8c1a03e261c",
   "metadata": {
    "tags": []
   },
   "source": [
    "### 2.6 Converting Data Type"
   ]
  },
  {
   "cell_type": "markdown",
   "id": "82e2e531-e4c4-4d63-9224-5a83f1202b64",
   "metadata": {},
   "source": [
    "Convert data to a more suitable unit or strings with numbers to just numbers so you can find mean and all other statistics. This could be done using`.astype()` method. More instructions in Part 3."
   ]
  },
  {
   "cell_type": "markdown",
   "id": "5d20f7be",
   "metadata": {},
   "source": [
    "# 3. Introduction to the Dataset <a id='2'></a>\n",
    "\n",
    "We will be using data made availably by the San Francisco Department of Public Health. This data outlines restaurant food safety scores for restaurants in San Francisco. **Source:** [click here](https://data.sfgov.org/Health-and-Social-Services/Restaurant-Scores-LIVES-Standard/pyih-qa8i).\n",
    "\n",
    "We will go through the data to explore and explain what data was collected."
   ]
  },
  {
   "cell_type": "markdown",
   "id": "14c6fac4",
   "metadata": {},
   "source": [
    "### 3.1 Reading in the Data\n",
    "\n",
    "What is the title of the dataset? Where does the data come from? How was the data collected? How are certain variables/features coded? link the source of the data and the metadata for students to read more information about?\n",
    "\n",
    "> Answer the aforementioned questions here.\n",
    "\n",
    "The command `pd.read_csv` allows us to read and loads our csv file and `.head()` gives us the first 5 rows of the dataset. Run the code cell below to load the data that we will be using for analysis."
   ]
  },
  {
   "cell_type": "code",
   "execution_count": 7,
   "id": "d6612dce",
   "metadata": {},
   "outputs": [],
   "source": [
    "# This cell will read in the necessary data sets. Run it and take a look at the dataframe / table below!\n",
    "bus = pd.read_csv('Data/bus.csv') # reads csv file and loads it\n",
    "ins = pd.read_csv('Data/ins.csv')"
   ]
  },
  {
   "cell_type": "code",
   "execution_count": 8,
   "id": "0b88fcb4-99db-4892-b55a-e105939a4b87",
   "metadata": {},
   "outputs": [
    {
     "data": {
      "text/html": [
       "<script>\n",
       "code_show=true; \n",
       "function code_toggle() {\n",
       "  if (code_show) {\n",
       "    $('div.input').each(function(id) {\n",
       "      el = $(this).find('.cm-variable:first');\n",
       "      if (id == 0 || el.text() == 'hide_me') {\n",
       "        $(this).hide();\n",
       "      }\n",
       "    });\n",
       "    $('div.output_prompt').css('opacity', 0);\n",
       "  } else {\n",
       "    $('div.input').each(function(id) {\n",
       "      $(this).show();\n",
       "    });\n",
       "    $('div.output_prompt').css('opacity', 1);\n",
       "  }\n",
       "  code_show = !code_show\n",
       "} \n",
       "$( document ).ready(code_toggle);\n",
       "</script>\n",
       "<form action=\"javascript:code_toggle()\"><input style=\"opacity:1\" type=\"submit\" value=\"Click here to reveal the raw code.\"></form>"
      ],
      "text/plain": [
       "<IPython.core.display.HTML object>"
      ]
     },
     "execution_count": 8,
     "metadata": {},
     "output_type": "execute_result"
    }
   ],
   "source": [
    "from IPython.display import HTML\n",
    "### Skye will work on these cells - don't touch please\n",
    "hide_me = ''\n",
    "HTML('''<script>\n",
    "code_show=true; \n",
    "function code_toggle() {\n",
    "  if (code_show) {\n",
    "    $('div.input').each(function(id) {\n",
    "      el = $(this).find('.cm-variable:first');\n",
    "      if (id == 0 || el.text() == 'hide_me') {\n",
    "        $(this).hide();\n",
    "      }\n",
    "    });\n",
    "    $('div.output_prompt').css('opacity', 0);\n",
    "  } else {\n",
    "    $('div.input').each(function(id) {\n",
    "      $(this).show();\n",
    "    });\n",
    "    $('div.output_prompt').css('opacity', 1);\n",
    "  }\n",
    "  code_show = !code_show\n",
    "} \n",
    "$( document ).ready(code_toggle);\n",
    "</script>\n",
    "<form action=\"javascript:code_toggle()\"><input style=\"opacity:1\" type=\"submit\" value=\"Click here to reveal the raw code.\"></form>''')"
   ]
  },
  {
   "cell_type": "code",
   "execution_count": 9,
   "id": "4ada1b98-4752-4bad-87d5-f35e4bc8ff8a",
   "metadata": {},
   "outputs": [],
   "source": [
    "hide_me\n",
    "numlst = ins['iid'].str.split(\"_\")\n",
    "ins[\"bid\"] = numlst.str[0].astype(int)\n",
    "ins['timestamp'] = pd.to_datetime(ins['date'])\n",
    "ins = ins[ins[\"score\"] > 0]\n",
    "ins = ins.rename(columns={\"bid\": \"business id column\"})\n",
    "ins = ins.drop(columns = ['iid'])\n",
    "bus_data = pd.merge(left = ins, right = bus,\n",
    "                  left_on = \"business id column\", right_on = \"business id column\")\n",
    "\n",
    "### Skye will work on these cells - don't touch please"
   ]
  },
  {
   "cell_type": "markdown",
   "id": "7e6d795b-14bd-4454-afa1-6607ff89e3b8",
   "metadata": {},
   "source": [
    "This is our DataFrame:"
   ]
  },
  {
   "cell_type": "code",
   "execution_count": 10,
   "id": "3fce94f9-a467-4328-ac08-c9f56d629ac5",
   "metadata": {},
   "outputs": [
    {
     "data": {
      "text/html": [
       "<table border=\"1\" class=\"dataframe\">\n",
       "    <thead>\n",
       "        <tr>\n",
       "            <th>date</th> <th>score</th> <th>type</th> <th>business id column</th> <th>timestamp</th> <th>name</th> <th>address</th> <th>city</th> <th>state</th> <th>postal_code</th> <th>latitude</th> <th>longitude</th> <th>phone_number</th>\n",
       "        </tr>\n",
       "    </thead>\n",
       "    <tbody>\n",
       "        <tr>\n",
       "            <td>04/03/2019 12:00:00 AM</td> <td>100  </td> <td>Routine - Unscheduled</td> <td>100010            </td> <td>2019-04-03 00:00:00</td> <td>ILLY CAFFE SF_PIER 39      </td> <td>PIER 39  K-106-B             </td> <td>San Francisco</td> <td>CA   </td> <td>94133      </td> <td>-9999   </td> <td>-9999    </td> <td>14154827284 </td>\n",
       "        </tr>\n",
       "        <tr>\n",
       "            <td>08/16/2019 12:00:00 AM</td> <td>91   </td> <td>Routine - Unscheduled</td> <td>100017            </td> <td>2019-08-16 00:00:00</td> <td>AMICI'S EAST COAST PIZZERIA</td> <td>475 06th St                  </td> <td>San Francisco</td> <td>CA   </td> <td>94103      </td> <td>-9999   </td> <td>-9999    </td> <td>14155279839 </td>\n",
       "        </tr>\n",
       "        <tr>\n",
       "            <td>05/20/2019 12:00:00 AM</td> <td>83   </td> <td>Routine - Unscheduled</td> <td>100041            </td> <td>2019-05-20 00:00:00</td> <td>UNCLE LEE CAFE             </td> <td>3608 BALBOA ST               </td> <td>San Francisco</td> <td>CA   </td> <td>94121      </td> <td>-9999   </td> <td>-9999    </td> <td>-9999       </td>\n",
       "        </tr>\n",
       "        <tr>\n",
       "            <td>04/25/2019 12:00:00 AM</td> <td>98   </td> <td>Routine - Unscheduled</td> <td>100055            </td> <td>2019-04-25 00:00:00</td> <td>Twirl and Dip              </td> <td>335 Martin Luther King Jr. Dr</td> <td>San Francisco</td> <td>CA   </td> <td>94118      </td> <td>-9999   </td> <td>-9999    </td> <td>14155300260 </td>\n",
       "        </tr>\n",
       "        <tr>\n",
       "            <td>09/12/2019 12:00:00 AM</td> <td>82   </td> <td>Routine - Unscheduled</td> <td>100055            </td> <td>2019-09-12 00:00:00</td> <td>Twirl and Dip              </td> <td>335 Martin Luther King Jr. Dr</td> <td>San Francisco</td> <td>CA   </td> <td>94118      </td> <td>-9999   </td> <td>-9999    </td> <td>14155300260 </td>\n",
       "        </tr>\n",
       "        <tr>\n",
       "            <td>08/16/2019 12:00:00 AM</td> <td>89   </td> <td>Routine - Unscheduled</td> <td>100058            </td> <td>2019-08-16 00:00:00</td> <td>SF PITA HUB                </td> <td>475 06TH ST                  </td> <td>San Francisco</td> <td>CA   </td> <td>94103      </td> <td>-9999   </td> <td>-9999    </td> <td>14155642006 </td>\n",
       "        </tr>\n",
       "        <tr>\n",
       "            <td>08/15/2019 12:00:00 AM</td> <td>76   </td> <td>Routine - Unscheduled</td> <td>100059            </td> <td>2019-08-15 00:00:00</td> <td>DUMPLING ALLEY             </td> <td>2512 CLEMENT ST              </td> <td>San Francisco</td> <td>CA   </td> <td>94121      </td> <td>-9999   </td> <td>-9999    </td> <td>-9999       </td>\n",
       "        </tr>\n",
       "        <tr>\n",
       "            <td>09/06/2019 12:00:00 AM</td> <td>100  </td> <td>Routine - Unscheduled</td> <td>100069            </td> <td>2019-09-06 00:00:00</td> <td>Mission Blue               </td> <td>144 Leland Ave               </td> <td>San Francisco</td> <td>CA   </td> <td>94134      </td> <td>-9999   </td> <td>-9999    </td> <td>-9999       </td>\n",
       "        </tr>\n",
       "        <tr>\n",
       "            <td>03/26/2019 12:00:00 AM</td> <td>89   </td> <td>Routine - Unscheduled</td> <td>100072            </td> <td>2019-03-26 00:00:00</td> <td>SUBWAY SANDWICHES #7307    </td> <td>2375 MARKET ST               </td> <td>San Francisco</td> <td>CA   </td> <td>94114      </td> <td>-9999   </td> <td>-9999    </td> <td>14155981866 </td>\n",
       "        </tr>\n",
       "        <tr>\n",
       "            <td>08/27/2019 12:00:00 AM</td> <td>98   </td> <td>Routine - Unscheduled</td> <td>100079            </td> <td>2019-08-27 00:00:00</td> <td>POSITIVE FOODS             </td> <td>475 06TH ST                  </td> <td>San Francisco</td> <td>CA   </td> <td>94103      </td> <td>-9999   </td> <td>-9999    </td> <td>14155397209 </td>\n",
       "        </tr>\n",
       "    </tbody>\n",
       "</table>\n",
       "<p>... (14021 rows omitted)</p>"
      ],
      "text/plain": [
       "<IPython.core.display.HTML object>"
      ]
     },
     "metadata": {},
     "output_type": "display_data"
    }
   ],
   "source": [
    "bus_data = Table.from_df(bus_data)\n",
    "bus_data.show(10)"
   ]
  },
  {
   "cell_type": "markdown",
   "id": "18d9feb8",
   "metadata": {},
   "source": [
    "### 3.2 Understanding the Data\n",
    "\n",
    "#### 3.2.1 Rows\n",
    "\n",
    "Let's take a look at the first row of the dataset for Name_Of_Dataset using `.take()`. This function takes in a list of the indexes that you want to view the corresponding rows of. Here, we want to see the first row only, which is the row at the 0th index."
   ]
  },
  {
   "cell_type": "code",
   "execution_count": 11,
   "id": "086db284",
   "metadata": {},
   "outputs": [
    {
     "data": {
      "text/html": [
       "<table border=\"1\" class=\"dataframe\">\n",
       "    <thead>\n",
       "        <tr>\n",
       "            <th>date</th> <th>score</th> <th>type</th> <th>business id column</th> <th>timestamp</th> <th>name</th> <th>address</th> <th>city</th> <th>state</th> <th>postal_code</th> <th>latitude</th> <th>longitude</th> <th>phone_number</th>\n",
       "        </tr>\n",
       "    </thead>\n",
       "    <tbody>\n",
       "        <tr>\n",
       "            <td>04/03/2019 12:00:00 AM</td> <td>100  </td> <td>Routine - Unscheduled</td> <td>100010            </td> <td>2019-04-03 00:00:00</td> <td>ILLY CAFFE SF_PIER 39</td> <td>PIER 39  K-106-B</td> <td>San Francisco</td> <td>CA   </td> <td>94133      </td> <td>-9999   </td> <td>-9999    </td> <td>14154827284 </td>\n",
       "        </tr>\n",
       "    </tbody>\n",
       "</table>"
      ],
      "text/plain": [
       "date                   | score | type                  | business id column | timestamp           | name                  | address          | city          | state | postal_code | latitude | longitude | phone_number\n",
       "04/03/2019 12:00:00 AM | 100   | Routine - Unscheduled | 100010             | 2019-04-03 00:00:00 | ILLY CAFFE SF_PIER 39 | PIER 39  K-106-B | San Francisco | CA    | 94133       | -9999    | -9999     | 14154827284"
      ]
     },
     "execution_count": 11,
     "metadata": {},
     "output_type": "execute_result"
    }
   ],
   "source": [
    "bus_data.take(0)"
   ]
  },
  {
   "cell_type": "markdown",
   "id": "a577717c-d86b-4fdf-9975-52312980e5a8",
   "metadata": {},
   "source": [
    "---\n",
    "<font color = #d14d0f>**QUESTION __**:</font> **Based on the above exploration, what does each record represent?**\n"
   ]
  },
  {
   "cell_type": "markdown",
   "id": "7cf185fb-a8d7-45fb-908c-5de3d69569e0",
   "metadata": {},
   "source": [
    "**A. \"One location of a restaurant.\"**\n",
    "\n",
    "**B. \"A chain of restaurants.\"**\n",
    "\n",
    "**C. \"A city block.\"**"
   ]
  },
  {
   "cell_type": "markdown",
   "id": "f1a9f257-26e4-4a45-8de7-5e70f48b5463",
   "metadata": {},
   "source": [
    "*REPLACE THIS TEXT WITH YOUR RESPONSE. DOUBLE CLICK THIS CELL, TYPE YOUR RESPONSE, AND RUN THE CELL TO SAVE AND DISPLAY YOUR RESPONSE.*"
   ]
  },
  {
   "cell_type": "markdown",
   "id": "10f19a49",
   "metadata": {},
   "source": [
    "---\n",
    "Write paragraph that answers these questions:\n",
    "\n",
    "What does this particular row in our data represent? How can we generalize this for each row of the data? What does each row of the data represent? Encourage students to change the index / selection of a row of the data and see for themselves a different sample row of the data."
   ]
  },
  {
   "cell_type": "markdown",
   "id": "1f347589",
   "metadata": {},
   "source": [
    "#### 3.2.2. Columns\n",
    "\n",
    "Run the code cell below to see the list of the columns in our dataset."
   ]
  },
  {
   "cell_type": "code",
   "execution_count": 12,
   "id": "2f241cda",
   "metadata": {},
   "outputs": [
    {
     "data": {
      "text/plain": [
       "('date',\n",
       " 'score',\n",
       " 'type',\n",
       " 'business id column',\n",
       " 'timestamp',\n",
       " 'name',\n",
       " 'address',\n",
       " 'city',\n",
       " 'state',\n",
       " 'postal_code',\n",
       " 'latitude',\n",
       " 'longitude',\n",
       " 'phone_number')"
      ]
     },
     "execution_count": 12,
     "metadata": {},
     "output_type": "execute_result"
    }
   ],
   "source": [
    "bus_data.labels"
   ]
  },
  {
   "cell_type": "markdown",
   "id": "4754ccae",
   "metadata": {},
   "source": [
    "Explain here what all the columns mean."
   ]
  },
  {
   "cell_type": "code",
   "execution_count": 13,
   "id": "5730b9d3",
   "metadata": {},
   "outputs": [],
   "source": [
    "# code to extract a single column"
   ]
  },
  {
   "cell_type": "markdown",
   "id": "2a247530",
   "metadata": {},
   "source": [
    "Try taking a single column and output the first 5-10 values and explain to the students what they should be seeing. Encourage them to try a different string/name. "
   ]
  },
  {
   "cell_type": "markdown",
   "id": "252e02e6-56af-43a2-9bd0-746146b930f5",
   "metadata": {
    "tags": []
   },
   "source": [
    "### 3.3 Hypothesizing\n"
   ]
  },
  {
   "cell_type": "markdown",
   "id": "10b933db-4a1b-4217-881d-09769d8a3da6",
   "metadata": {},
   "source": [
    "Hypothesis info\n",
    "\n",
    "---\n",
    "<font color = #d14d0f>**QUESTION __**:</font> **Question**\n"
   ]
  },
  {
   "cell_type": "markdown",
   "id": "dad85636-d8b6-48ff-9853-aed8d19b8e3b",
   "metadata": {},
   "source": [
    "*REPLACE THIS TEXT WITH YOUR RESPONSE. DOUBLE CLICK THIS CELL, TYPE YOUR RESPONSE, AND RUN THE CELL TO SAVE AND DISPLAY YOUR RESPONSE.*"
   ]
  },
  {
   "cell_type": "markdown",
   "id": "6ada3872-97c0-41c9-97c5-19d6f0056e52",
   "metadata": {
    "tags": []
   },
   "source": [
    "---\n",
    "### 3.4 Cleaning the Dataset\n"
   ]
  },
  {
   "cell_type": "markdown",
   "id": "fd631f6b-9a7e-4ee9-bae6-40d74959ec88",
   "metadata": {},
   "source": [
    "In the next section, we will begin to clean our dataset.\n",
    "\n",
    "---\n",
    "\n",
    "<font color = #d14d0f>**QUESTION __**:</font> **Look at our dataset and list at least 3 things that you think should be fixed/cleaned before we begin analysis.**\n",
    "\n",
    "*(See Section 2 to review common qualities of DataFrames that get changed during the Data Cleaning process and look at the `bus_data` DataFrame in 3.1 and see if you notice anything that looks off.)*"
   ]
  },
  {
   "cell_type": "markdown",
   "id": "074faa9c-0c49-4902-911e-94b3a0817bdb",
   "metadata": {},
   "source": [
    "*REPLACE THIS TEXT WITH YOUR RESPONSE. DOUBLE CLICK THIS CELL, TYPE YOUR RESPONSE, AND RUN THE CELL TO SAVE AND DISPLAY YOUR RESPONSE.*"
   ]
  },
  {
   "cell_type": "markdown",
   "id": "fbe2829d-8ec8-4077-92bc-82a2d1ee2281",
   "metadata": {},
   "source": [
    "---"
   ]
  },
  {
   "cell_type": "markdown",
   "id": "d93e6f31",
   "metadata": {},
   "source": [
    "# 4. Cleaning the Dataset <a id='3'></a>\n"
   ]
  },
  {
   "cell_type": "markdown",
   "id": "31f8562d-3a0d-4b67-bc3c-f876ca7d1e5c",
   "metadata": {
    "tags": []
   },
   "source": [
    "### 4.1 Manipulating columns\n"
   ]
  },
  {
   "cell_type": "markdown",
   "id": "75f5c48a-17a1-4027-be78-550b8e07a173",
   "metadata": {},
   "source": [
    "Show: dropping unnecessary ones, teach using `.rename`, sorting columns"
   ]
  },
  {
   "cell_type": "markdown",
   "id": "7def3909-0c6c-4305-a8ee-3601353120a1",
   "metadata": {},
   "source": [
    "#### 4.1.1 Renaming columns"
   ]
  },
  {
   "cell_type": "markdown",
   "id": "f9231809-a33b-40b0-b1ba-7c0fdf80d77e",
   "metadata": {},
   "source": [
    "The bus_data dataframe contains a column called business id column which probably corresponds to a unique business id. However, we will first rename that column to bid for simplicity."
   ]
  },
  {
   "cell_type": "code",
   "execution_count": 14,
   "id": "c116c0cd-f401-4d4a-ba86-90b02789e34e",
   "metadata": {},
   "outputs": [
    {
     "data": {
      "text/html": [
       "<table border=\"1\" class=\"dataframe\">\n",
       "    <thead>\n",
       "        <tr>\n",
       "            <th>date</th> <th>score</th> <th>type</th> <th>bid</th> <th>timestamp</th> <th>name</th> <th>address</th> <th>city</th> <th>state</th> <th>postal_code</th> <th>latitude</th> <th>longitude</th> <th>phone_number</th>\n",
       "        </tr>\n",
       "    </thead>\n",
       "    <tbody>\n",
       "        <tr>\n",
       "            <td>04/03/2019 12:00:00 AM</td> <td>100  </td> <td>Routine - Unscheduled</td> <td>100010</td> <td>2019-04-03 00:00:00</td> <td>ILLY CAFFE SF_PIER 39      </td> <td>PIER 39  K-106-B             </td> <td>San Francisco</td> <td>CA   </td> <td>94133      </td> <td>-9999   </td> <td>-9999    </td> <td>14154827284 </td>\n",
       "        </tr>\n",
       "        <tr>\n",
       "            <td>08/16/2019 12:00:00 AM</td> <td>91   </td> <td>Routine - Unscheduled</td> <td>100017</td> <td>2019-08-16 00:00:00</td> <td>AMICI'S EAST COAST PIZZERIA</td> <td>475 06th St                  </td> <td>San Francisco</td> <td>CA   </td> <td>94103      </td> <td>-9999   </td> <td>-9999    </td> <td>14155279839 </td>\n",
       "        </tr>\n",
       "        <tr>\n",
       "            <td>05/20/2019 12:00:00 AM</td> <td>83   </td> <td>Routine - Unscheduled</td> <td>100041</td> <td>2019-05-20 00:00:00</td> <td>UNCLE LEE CAFE             </td> <td>3608 BALBOA ST               </td> <td>San Francisco</td> <td>CA   </td> <td>94121      </td> <td>-9999   </td> <td>-9999    </td> <td>-9999       </td>\n",
       "        </tr>\n",
       "        <tr>\n",
       "            <td>04/25/2019 12:00:00 AM</td> <td>98   </td> <td>Routine - Unscheduled</td> <td>100055</td> <td>2019-04-25 00:00:00</td> <td>Twirl and Dip              </td> <td>335 Martin Luther King Jr. Dr</td> <td>San Francisco</td> <td>CA   </td> <td>94118      </td> <td>-9999   </td> <td>-9999    </td> <td>14155300260 </td>\n",
       "        </tr>\n",
       "        <tr>\n",
       "            <td>09/12/2019 12:00:00 AM</td> <td>82   </td> <td>Routine - Unscheduled</td> <td>100055</td> <td>2019-09-12 00:00:00</td> <td>Twirl and Dip              </td> <td>335 Martin Luther King Jr. Dr</td> <td>San Francisco</td> <td>CA   </td> <td>94118      </td> <td>-9999   </td> <td>-9999    </td> <td>14155300260 </td>\n",
       "        </tr>\n",
       "        <tr>\n",
       "            <td>08/16/2019 12:00:00 AM</td> <td>89   </td> <td>Routine - Unscheduled</td> <td>100058</td> <td>2019-08-16 00:00:00</td> <td>SF PITA HUB                </td> <td>475 06TH ST                  </td> <td>San Francisco</td> <td>CA   </td> <td>94103      </td> <td>-9999   </td> <td>-9999    </td> <td>14155642006 </td>\n",
       "        </tr>\n",
       "        <tr>\n",
       "            <td>08/15/2019 12:00:00 AM</td> <td>76   </td> <td>Routine - Unscheduled</td> <td>100059</td> <td>2019-08-15 00:00:00</td> <td>DUMPLING ALLEY             </td> <td>2512 CLEMENT ST              </td> <td>San Francisco</td> <td>CA   </td> <td>94121      </td> <td>-9999   </td> <td>-9999    </td> <td>-9999       </td>\n",
       "        </tr>\n",
       "        <tr>\n",
       "            <td>09/06/2019 12:00:00 AM</td> <td>100  </td> <td>Routine - Unscheduled</td> <td>100069</td> <td>2019-09-06 00:00:00</td> <td>Mission Blue               </td> <td>144 Leland Ave               </td> <td>San Francisco</td> <td>CA   </td> <td>94134      </td> <td>-9999   </td> <td>-9999    </td> <td>-9999       </td>\n",
       "        </tr>\n",
       "        <tr>\n",
       "            <td>03/26/2019 12:00:00 AM</td> <td>89   </td> <td>Routine - Unscheduled</td> <td>100072</td> <td>2019-03-26 00:00:00</td> <td>SUBWAY SANDWICHES #7307    </td> <td>2375 MARKET ST               </td> <td>San Francisco</td> <td>CA   </td> <td>94114      </td> <td>-9999   </td> <td>-9999    </td> <td>14155981866 </td>\n",
       "        </tr>\n",
       "        <tr>\n",
       "            <td>08/27/2019 12:00:00 AM</td> <td>98   </td> <td>Routine - Unscheduled</td> <td>100079</td> <td>2019-08-27 00:00:00</td> <td>POSITIVE FOODS             </td> <td>475 06TH ST                  </td> <td>San Francisco</td> <td>CA   </td> <td>94103      </td> <td>-9999   </td> <td>-9999    </td> <td>14155397209 </td>\n",
       "        </tr>\n",
       "    </tbody>\n",
       "</table>\n",
       "<p>... (14021 rows omitted)</p>"
      ],
      "text/plain": [
       "<IPython.core.display.HTML object>"
      ]
     },
     "metadata": {},
     "output_type": "display_data"
    }
   ],
   "source": [
    "bus_data = bus_data.relabeled(\"business id column\", \"bid\")\n",
    "bus_data.show(10)\n",
    "#See the new column name"
   ]
  },
  {
   "cell_type": "markdown",
   "id": "833a7eaf-1595-4588-bac1-2d5e1a6632c0",
   "metadata": {},
   "source": [
    "#### 4.1.2 Dropping columns"
   ]
  },
  {
   "cell_type": "markdown",
   "id": "72300627-faf1-4e61-8bc8-f4ed4d4f18bf",
   "metadata": {},
   "source": [
    "There are some missing values in phone number column (-9999) but we don't need this column so we will drop it."
   ]
  },
  {
   "cell_type": "code",
   "execution_count": 15,
   "id": "bea3c342-901c-44d1-b8cf-db244fea6f51",
   "metadata": {},
   "outputs": [
    {
     "data": {
      "text/html": [
       "<table border=\"1\" class=\"dataframe\">\n",
       "    <thead>\n",
       "        <tr>\n",
       "            <th>date</th> <th>score</th> <th>type</th> <th>bid</th> <th>timestamp</th> <th>name</th> <th>address</th> <th>city</th> <th>state</th> <th>postal_code</th> <th>latitude</th> <th>longitude</th>\n",
       "        </tr>\n",
       "    </thead>\n",
       "    <tbody>\n",
       "        <tr>\n",
       "            <td>04/03/2019 12:00:00 AM</td> <td>100  </td> <td>Routine - Unscheduled</td> <td>100010</td> <td>2019-04-03 00:00:00</td> <td>ILLY CAFFE SF_PIER 39      </td> <td>PIER 39  K-106-B             </td> <td>San Francisco</td> <td>CA   </td> <td>94133      </td> <td>-9999   </td> <td>-9999    </td>\n",
       "        </tr>\n",
       "        <tr>\n",
       "            <td>08/16/2019 12:00:00 AM</td> <td>91   </td> <td>Routine - Unscheduled</td> <td>100017</td> <td>2019-08-16 00:00:00</td> <td>AMICI'S EAST COAST PIZZERIA</td> <td>475 06th St                  </td> <td>San Francisco</td> <td>CA   </td> <td>94103      </td> <td>-9999   </td> <td>-9999    </td>\n",
       "        </tr>\n",
       "        <tr>\n",
       "            <td>05/20/2019 12:00:00 AM</td> <td>83   </td> <td>Routine - Unscheduled</td> <td>100041</td> <td>2019-05-20 00:00:00</td> <td>UNCLE LEE CAFE             </td> <td>3608 BALBOA ST               </td> <td>San Francisco</td> <td>CA   </td> <td>94121      </td> <td>-9999   </td> <td>-9999    </td>\n",
       "        </tr>\n",
       "        <tr>\n",
       "            <td>04/25/2019 12:00:00 AM</td> <td>98   </td> <td>Routine - Unscheduled</td> <td>100055</td> <td>2019-04-25 00:00:00</td> <td>Twirl and Dip              </td> <td>335 Martin Luther King Jr. Dr</td> <td>San Francisco</td> <td>CA   </td> <td>94118      </td> <td>-9999   </td> <td>-9999    </td>\n",
       "        </tr>\n",
       "        <tr>\n",
       "            <td>09/12/2019 12:00:00 AM</td> <td>82   </td> <td>Routine - Unscheduled</td> <td>100055</td> <td>2019-09-12 00:00:00</td> <td>Twirl and Dip              </td> <td>335 Martin Luther King Jr. Dr</td> <td>San Francisco</td> <td>CA   </td> <td>94118      </td> <td>-9999   </td> <td>-9999    </td>\n",
       "        </tr>\n",
       "        <tr>\n",
       "            <td>08/16/2019 12:00:00 AM</td> <td>89   </td> <td>Routine - Unscheduled</td> <td>100058</td> <td>2019-08-16 00:00:00</td> <td>SF PITA HUB                </td> <td>475 06TH ST                  </td> <td>San Francisco</td> <td>CA   </td> <td>94103      </td> <td>-9999   </td> <td>-9999    </td>\n",
       "        </tr>\n",
       "        <tr>\n",
       "            <td>08/15/2019 12:00:00 AM</td> <td>76   </td> <td>Routine - Unscheduled</td> <td>100059</td> <td>2019-08-15 00:00:00</td> <td>DUMPLING ALLEY             </td> <td>2512 CLEMENT ST              </td> <td>San Francisco</td> <td>CA   </td> <td>94121      </td> <td>-9999   </td> <td>-9999    </td>\n",
       "        </tr>\n",
       "        <tr>\n",
       "            <td>09/06/2019 12:00:00 AM</td> <td>100  </td> <td>Routine - Unscheduled</td> <td>100069</td> <td>2019-09-06 00:00:00</td> <td>Mission Blue               </td> <td>144 Leland Ave               </td> <td>San Francisco</td> <td>CA   </td> <td>94134      </td> <td>-9999   </td> <td>-9999    </td>\n",
       "        </tr>\n",
       "        <tr>\n",
       "            <td>03/26/2019 12:00:00 AM</td> <td>89   </td> <td>Routine - Unscheduled</td> <td>100072</td> <td>2019-03-26 00:00:00</td> <td>SUBWAY SANDWICHES #7307    </td> <td>2375 MARKET ST               </td> <td>San Francisco</td> <td>CA   </td> <td>94114      </td> <td>-9999   </td> <td>-9999    </td>\n",
       "        </tr>\n",
       "        <tr>\n",
       "            <td>08/27/2019 12:00:00 AM</td> <td>98   </td> <td>Routine - Unscheduled</td> <td>100079</td> <td>2019-08-27 00:00:00</td> <td>POSITIVE FOODS             </td> <td>475 06TH ST                  </td> <td>San Francisco</td> <td>CA   </td> <td>94103      </td> <td>-9999   </td> <td>-9999    </td>\n",
       "        </tr>\n",
       "    </tbody>\n",
       "</table>\n",
       "<p>... (14021 rows omitted)</p>"
      ],
      "text/plain": [
       "<IPython.core.display.HTML object>"
      ]
     },
     "metadata": {},
     "output_type": "display_data"
    }
   ],
   "source": [
    "bus_data = bus_data.drop('phone_number')\n",
    "bus_data.show(10)"
   ]
  },
  {
   "cell_type": "markdown",
   "id": "1c5b177a-48af-4d6f-94d6-32470b49970e",
   "metadata": {
    "tags": []
   },
   "source": [
    "### 4.2 Handling missing/incorrect data: `postal_code` column"
   ]
  },
  {
   "cell_type": "markdown",
   "id": "5423122d-45a7-4884-a215-a7b8b3f1e014",
   "metadata": {},
   "source": [
    "In 3.4, you may have noticed that there are a large number of potentially invalid ZIP codes (e.g., \"Ca\"). These are likely due to data entry errors.\n",
    "\n",
    "To get a better understanding of the potential errors in the zip codes we will:\n",
    "\n",
    "1. Import a list of valid San Francisco ZIP codes by using pd.read_json to load the file data/sf_zipcodes.json and ultimately create a series of type str containing the valid ZIP codes.\n",
    "2. Construct a DataFrame containing only the businesses which DO NOT have valid ZIP codes."
   ]
  },
  {
   "cell_type": "markdown",
   "id": "95b50184-3597-41be-86fd-157c95eb06f5",
   "metadata": {},
   "source": [
    "**Step 1**\n"
   ]
  },
  {
   "cell_type": "code",
   "execution_count": 16,
   "id": "092b915f-8b11-4a92-94c5-e74a989699e2",
   "metadata": {},
   "outputs": [
    {
     "data": {
      "text/plain": [
       "array([94102, 94103, 94104, 94105, 94107, 94108, 94109, 94110, 94111,\n",
       "       94112, 94114, 94115, 94116, 94117, 94118, 94119, 94120, 94121,\n",
       "       94122, 94123, 94124, 94125, 94126, 94127, 94128, 94129, 94130,\n",
       "       94131, 94132, 94133, 94134, 94137, 94139, 94140, 94141, 94142,\n",
       "       94143, 94144, 94145, 94146, 94147, 94151, 94158, 94159, 94160,\n",
       "       94161, 94163, 94164, 94172, 94177, 94188])"
      ]
     },
     "execution_count": 16,
     "metadata": {},
     "output_type": "execute_result"
    }
   ],
   "source": [
    "valid_zips = pd.read_json(\"Data/sf_zipcodes.json\")['zip_codes']\n",
    "valid_zips.values"
   ]
  },
  {
   "cell_type": "markdown",
   "id": "6a5e8dde-9291-4bb3-a11b-1970bf78432a",
   "metadata": {},
   "source": [
    "After reading the file, we use `.dtype` to see that the zip codes have been read as integers."
   ]
  },
  {
   "cell_type": "code",
   "execution_count": 17,
   "id": "40a5e9bc-43df-4c70-9656-6ec4c806d639",
   "metadata": {},
   "outputs": [
    {
     "data": {
      "text/plain": [
       "dtype('int64')"
      ]
     },
     "execution_count": 17,
     "metadata": {},
     "output_type": "execute_result"
    }
   ],
   "source": [
    "valid_zips.dtype"
   ]
  },
  {
   "cell_type": "markdown",
   "id": "5b97dcf9-7dfe-4288-bd63-c9f726cc276f",
   "metadata": {},
   "source": [
    "Similarly to what was discussed in Section 2.6, we want to ensure that the type of value *(integer, string, double, etc.)* is representative of the data.\n",
    "\n",
    "While zip codes are numbers, they are [nominal qualitative data](https://careerfoundry.com/en/blog/data-analytics/what-is-nominal-data/#:~:text=Nominal%20data%20is%20a%20type,of%20meaningful%20order%20or%20hierarchy.). As a result, we want them to be represented as strings.\n",
    "\n",
    "---\n",
    "<font color = #d14d0f>**QUESTION __**:</font> **Why should zip codes be stored as strings instead of integers?** (See link above for ideas.)\n",
    "\n",
    "*Hint: We store variables as integers when we need to calculate the mean, sum, etc. of that variable. Would it make sense to do this with zip codes?*"
   ]
  },
  {
   "cell_type": "markdown",
   "id": "d3101594-8e3e-453a-8c42-e1775a70385c",
   "metadata": {},
   "source": [
    "*REPLACE THIS TEXT WITH YOUR RESPONSE. DOUBLE CLICK THIS CELL, TYPE YOUR RESPONSE, AND RUN THE CELL TO SAVE AND DISPLAY YOUR RESPONSE.*"
   ]
  },
  {
   "cell_type": "markdown",
   "id": "8c0b6689-0059-4ec7-b550-50aa571a963f",
   "metadata": {},
   "source": [
    "---\n",
    "To convert them, we can use the `astype` function to generate a copy of the Pandas series. This converts the array, `valid_zips`, to strings and reassigns the variable to the same name, `valid_zips`."
   ]
  },
  {
   "cell_type": "code",
   "execution_count": 18,
   "id": "0fa7600e-ff96-4da6-98fd-04851b9d7fc2",
   "metadata": {},
   "outputs": [],
   "source": [
    "valid_zips = valid_zips.astype(\"string\")"
   ]
  },
  {
   "cell_type": "markdown",
   "id": "531c7030-db4c-4639-be06-c923cdb34046",
   "metadata": {},
   "source": [
    "Now we'll use the same code as above to check what type the values are now."
   ]
  },
  {
   "cell_type": "code",
   "execution_count": 19,
   "id": "cbdbdfb5-bf35-4b02-bb41-a36bfbd6aff9",
   "metadata": {},
   "outputs": [
    {
     "data": {
      "text/plain": [
       "string[python]"
      ]
     },
     "execution_count": 19,
     "metadata": {},
     "output_type": "execute_result"
    }
   ],
   "source": [
    "valid_zips.dtype"
   ]
  },
  {
   "cell_type": "markdown",
   "id": "944a265c-5f17-4cb2-9fd4-b687b8e85ad0",
   "metadata": {},
   "source": [
    "**Step 2**"
   ]
  },
  {
   "cell_type": "markdown",
   "id": "dc5d85e0-664e-4283-b4b9-8c433f441d12",
   "metadata": {},
   "source": [
    "Here we will use the `Series.isin` function. More details about this function are in its [documentation](https://www.geeksforgeeks.org/python-pandas-series-isin/#:~:text=isin(),-View%20Discussion&text=Pandas%20series%20is%20a%20One,performing%20operations%20involving%20the%20index.).\n",
    "\n",
    "**What is a Series?**\n",
    "\n",
    "Remember that the type of `bus_data` is a [DataFrame](https://pandas.pydata.org/docs/reference/api/pandas.DataFrame.html). Every column in a DataFrame is a [Series](https://pandas.pydata.org/docs/reference/api/pandas.Series.html). For example, the column `bid` is a series and so is the column `name`. Every column is a series regardless of what kind of data it contains."
   ]
  },
  {
   "cell_type": "code",
   "execution_count": 20,
   "id": "2b4fcf04-6e99-4241-bf9e-650f8ba03cf9",
   "metadata": {},
   "outputs": [
    {
     "data": {
      "text/plain": [
       "('date',\n",
       " 'score',\n",
       " 'type',\n",
       " 'bid',\n",
       " 'timestamp',\n",
       " 'name',\n",
       " 'address',\n",
       " 'city',\n",
       " 'state',\n",
       " 'postal_code',\n",
       " 'latitude',\n",
       " 'longitude')"
      ]
     },
     "execution_count": 20,
     "metadata": {},
     "output_type": "execute_result"
    }
   ],
   "source": [
    "# These are the names of the columns in bus_data\n",
    "bus_data.labels"
   ]
  },
  {
   "cell_type": "markdown",
   "id": "7c3bf0fd-d86d-4f45-9f7b-714c187741b4",
   "metadata": {},
   "source": [
    "We can see in the cell below that the type of the `bid` column is a series."
   ]
  },
  {
   "cell_type": "code",
   "execution_count": 21,
   "id": "24058d0b-b638-4a07-9987-711a27cff64b",
   "metadata": {},
   "outputs": [
    {
     "data": {
      "text/plain": [
       "numpy.ndarray"
      ]
     },
     "execution_count": 21,
     "metadata": {},
     "output_type": "execute_result"
    }
   ],
   "source": [
    "type(bus_data.column('bid'))"
   ]
  },
  {
   "cell_type": "markdown",
   "id": "8897eed0-265c-42ec-aa24-c0d3a2c63a0e",
   "metadata": {},
   "source": [
    "Try replacing the `...` in the cell below with another column name to see that *every column* is a series!"
   ]
  },
  {
   "cell_type": "code",
   "execution_count": 22,
   "id": "a41e3735-9daf-4ed9-9b6a-0ebce47af443",
   "metadata": {},
   "outputs": [
    {
     "ename": "ValueError",
     "evalue": "Ellipsis is not a label or index",
     "output_type": "error",
     "traceback": [
      "\u001b[0;31m---------------------------------------------------------------------------\u001b[0m",
      "\u001b[0;31mValueError\u001b[0m                                Traceback (most recent call last)",
      "Cell \u001b[0;32mIn [22], line 1\u001b[0m\n\u001b[0;32m----> 1\u001b[0m \u001b[38;5;28mtype\u001b[39m(\u001b[43mbus_data\u001b[49m\u001b[38;5;241;43m.\u001b[39;49m\u001b[43mcolumn\u001b[49m\u001b[43m(\u001b[49m\u001b[38;5;241;43m.\u001b[39;49m\u001b[38;5;241;43m.\u001b[39;49m\u001b[38;5;241;43m.\u001b[39;49m\u001b[43m)\u001b[49m)\n",
      "File \u001b[0;32m/opt/conda/lib/python3.9/site-packages/datascience/tables.py:378\u001b[0m, in \u001b[0;36mTable.column\u001b[0;34m(self, index_or_label)\u001b[0m\n\u001b[1;32m    370\u001b[0m \u001b[38;5;28;01mif\u001b[39;00m (\u001b[38;5;28misinstance\u001b[39m(index_or_label, \u001b[38;5;28mint\u001b[39m)\n\u001b[1;32m    371\u001b[0m         \u001b[38;5;129;01mand\u001b[39;00m \u001b[38;5;129;01mnot\u001b[39;00m \u001b[38;5;241m0\u001b[39m \u001b[38;5;241m<\u001b[39m\u001b[38;5;241m=\u001b[39m index_or_label \u001b[38;5;241m<\u001b[39m \u001b[38;5;28mlen\u001b[39m(\u001b[38;5;28mself\u001b[39m\u001b[38;5;241m.\u001b[39mlabels)):\n\u001b[1;32m    372\u001b[0m     \u001b[38;5;28;01mraise\u001b[39;00m \u001b[38;5;167;01mValueError\u001b[39;00m(\n\u001b[1;32m    373\u001b[0m         \u001b[38;5;124m'\u001b[39m\u001b[38;5;124mThe index \u001b[39m\u001b[38;5;132;01m{}\u001b[39;00m\u001b[38;5;124m is not in the table. Only indices between \u001b[39m\u001b[38;5;124m'\u001b[39m\n\u001b[1;32m    374\u001b[0m         \u001b[38;5;124m'\u001b[39m\u001b[38;5;124m0 and \u001b[39m\u001b[38;5;132;01m{}\u001b[39;00m\u001b[38;5;124m are valid\u001b[39m\u001b[38;5;124m'\u001b[39m\n\u001b[1;32m    375\u001b[0m         \u001b[38;5;241m.\u001b[39mformat(index_or_label, \u001b[38;5;28mlen\u001b[39m(\u001b[38;5;28mself\u001b[39m\u001b[38;5;241m.\u001b[39mlabels) \u001b[38;5;241m-\u001b[39m \u001b[38;5;241m1\u001b[39m)\n\u001b[1;32m    376\u001b[0m     )\n\u001b[0;32m--> 378\u001b[0m \u001b[38;5;28;01mreturn\u001b[39;00m \u001b[38;5;28mself\u001b[39m\u001b[38;5;241m.\u001b[39m_columns[\u001b[38;5;28;43mself\u001b[39;49m\u001b[38;5;241;43m.\u001b[39;49m\u001b[43m_as_label\u001b[49m\u001b[43m(\u001b[49m\u001b[43mindex_or_label\u001b[49m\u001b[43m)\u001b[49m]\n",
      "File \u001b[0;32m/opt/conda/lib/python3.9/site-packages/datascience/tables.py:1955\u001b[0m, in \u001b[0;36mTable._as_label\u001b[0;34m(self, index_or_label)\u001b[0m\n\u001b[1;32m   1953\u001b[0m     \u001b[38;5;28;01mreturn\u001b[39;00m \u001b[38;5;28mself\u001b[39m\u001b[38;5;241m.\u001b[39mlabels[index_or_label]\n\u001b[1;32m   1954\u001b[0m \u001b[38;5;28;01melse\u001b[39;00m:\n\u001b[0;32m-> 1955\u001b[0m     \u001b[38;5;28;01mraise\u001b[39;00m \u001b[38;5;167;01mValueError\u001b[39;00m(\u001b[38;5;28mstr\u001b[39m(index_or_label) \u001b[38;5;241m+\u001b[39m \u001b[38;5;124m'\u001b[39m\u001b[38;5;124m is not a label or index\u001b[39m\u001b[38;5;124m'\u001b[39m)\n",
      "\u001b[0;31mValueError\u001b[0m: Ellipsis is not a label or index"
     ]
    }
   ],
   "source": [
    "type(bus_data.column(...))"
   ]
  },
  {
   "cell_type": "markdown",
   "id": "a3dc6711-1809-4c4b-88af-08eddda3281c",
   "metadata": {},
   "source": [
    "Now we know that every column is a Series. Thus `Series.isin` can be applied to any column.\n",
    "\n",
    "Let's assign the series that contains the `postal_code` column to a variable called `zip_code_series`."
   ]
  },
  {
   "cell_type": "code",
   "execution_count": 23,
   "id": "dbffdb68-e199-47dc-8828-92de528e84d5",
   "metadata": {},
   "outputs": [
    {
     "data": {
      "text/plain": [
       "array(['94133', '94103', '94121', ..., '94110', '94108', '94108'],\n",
       "      dtype='<U10')"
      ]
     },
     "execution_count": 23,
     "metadata": {},
     "output_type": "execute_result"
    }
   ],
   "source": [
    "zip_code_series = bus_data.column('postal_code')\n",
    "zip_code_series"
   ]
  },
  {
   "cell_type": "markdown",
   "id": "9f1d7118-ae9d-4b72-a99c-bacbb5d85a6a",
   "metadata": {},
   "source": [
    "`Series.isin()` returns True and False for every value in the series indicating whether or not that value \"is in\" the array or list inputted in the parentheses.\n",
    "\n",
    "`zip_code_series.isin(valid_zips)` returns True if the zipcode in postal_code column is a valid zipcode and False otherwise."
   ]
  },
  {
   "cell_type": "code",
   "execution_count": 24,
   "id": "dd0d2f07-f167-4198-8f43-9246d39ea55e",
   "metadata": {},
   "outputs": [
    {
     "data": {
      "text/plain": [
       "array([ True,  True,  True, ...,  True,  True,  True])"
      ]
     },
     "execution_count": 24,
     "metadata": {},
     "output_type": "execute_result"
    }
   ],
   "source": [
    "is_valid_zip = np.isin(zip_code_series, valid_zips)\n",
    "is_valid_zip"
   ]
  },
  {
   "cell_type": "markdown",
   "id": "6c16f907-87b9-4eac-8bc7-dd023a045fca",
   "metadata": {},
   "source": [
    "Let's add a column to our `bus_data` DataFrame to more obviously indicate which rows have invalid postal codes."
   ]
  },
  {
   "cell_type": "code",
   "execution_count": 25,
   "id": "5150b9c7-322b-4737-a156-10961397cda7",
   "metadata": {},
   "outputs": [
    {
     "data": {
      "text/html": [
       "<table border=\"1\" class=\"dataframe\">\n",
       "    <thead>\n",
       "        <tr>\n",
       "            <th>date</th> <th>score</th> <th>type</th> <th>bid</th> <th>timestamp</th> <th>name</th> <th>address</th> <th>city</th> <th>state</th> <th>postal_code</th> <th>latitude</th> <th>longitude</th> <th>is_valid_zip</th>\n",
       "        </tr>\n",
       "    </thead>\n",
       "    <tbody>\n",
       "        <tr>\n",
       "            <td>04/03/2019 12:00:00 AM</td> <td>100  </td> <td>Routine - Unscheduled</td> <td>100010</td> <td>2019-04-03 00:00:00</td> <td>ILLY CAFFE SF_PIER 39      </td> <td>PIER 39  K-106-B             </td> <td>San Francisco</td> <td>CA   </td> <td>94133      </td> <td>-9999   </td> <td>-9999    </td> <td>True        </td>\n",
       "        </tr>\n",
       "        <tr>\n",
       "            <td>08/16/2019 12:00:00 AM</td> <td>91   </td> <td>Routine - Unscheduled</td> <td>100017</td> <td>2019-08-16 00:00:00</td> <td>AMICI'S EAST COAST PIZZERIA</td> <td>475 06th St                  </td> <td>San Francisco</td> <td>CA   </td> <td>94103      </td> <td>-9999   </td> <td>-9999    </td> <td>True        </td>\n",
       "        </tr>\n",
       "        <tr>\n",
       "            <td>05/20/2019 12:00:00 AM</td> <td>83   </td> <td>Routine - Unscheduled</td> <td>100041</td> <td>2019-05-20 00:00:00</td> <td>UNCLE LEE CAFE             </td> <td>3608 BALBOA ST               </td> <td>San Francisco</td> <td>CA   </td> <td>94121      </td> <td>-9999   </td> <td>-9999    </td> <td>True        </td>\n",
       "        </tr>\n",
       "        <tr>\n",
       "            <td>04/25/2019 12:00:00 AM</td> <td>98   </td> <td>Routine - Unscheduled</td> <td>100055</td> <td>2019-04-25 00:00:00</td> <td>Twirl and Dip              </td> <td>335 Martin Luther King Jr. Dr</td> <td>San Francisco</td> <td>CA   </td> <td>94118      </td> <td>-9999   </td> <td>-9999    </td> <td>True        </td>\n",
       "        </tr>\n",
       "        <tr>\n",
       "            <td>09/12/2019 12:00:00 AM</td> <td>82   </td> <td>Routine - Unscheduled</td> <td>100055</td> <td>2019-09-12 00:00:00</td> <td>Twirl and Dip              </td> <td>335 Martin Luther King Jr. Dr</td> <td>San Francisco</td> <td>CA   </td> <td>94118      </td> <td>-9999   </td> <td>-9999    </td> <td>True        </td>\n",
       "        </tr>\n",
       "        <tr>\n",
       "            <td>08/16/2019 12:00:00 AM</td> <td>89   </td> <td>Routine - Unscheduled</td> <td>100058</td> <td>2019-08-16 00:00:00</td> <td>SF PITA HUB                </td> <td>475 06TH ST                  </td> <td>San Francisco</td> <td>CA   </td> <td>94103      </td> <td>-9999   </td> <td>-9999    </td> <td>True        </td>\n",
       "        </tr>\n",
       "        <tr>\n",
       "            <td>08/15/2019 12:00:00 AM</td> <td>76   </td> <td>Routine - Unscheduled</td> <td>100059</td> <td>2019-08-15 00:00:00</td> <td>DUMPLING ALLEY             </td> <td>2512 CLEMENT ST              </td> <td>San Francisco</td> <td>CA   </td> <td>94121      </td> <td>-9999   </td> <td>-9999    </td> <td>True        </td>\n",
       "        </tr>\n",
       "        <tr>\n",
       "            <td>09/06/2019 12:00:00 AM</td> <td>100  </td> <td>Routine - Unscheduled</td> <td>100069</td> <td>2019-09-06 00:00:00</td> <td>Mission Blue               </td> <td>144 Leland Ave               </td> <td>San Francisco</td> <td>CA   </td> <td>94134      </td> <td>-9999   </td> <td>-9999    </td> <td>True        </td>\n",
       "        </tr>\n",
       "        <tr>\n",
       "            <td>03/26/2019 12:00:00 AM</td> <td>89   </td> <td>Routine - Unscheduled</td> <td>100072</td> <td>2019-03-26 00:00:00</td> <td>SUBWAY SANDWICHES #7307    </td> <td>2375 MARKET ST               </td> <td>San Francisco</td> <td>CA   </td> <td>94114      </td> <td>-9999   </td> <td>-9999    </td> <td>True        </td>\n",
       "        </tr>\n",
       "        <tr>\n",
       "            <td>08/27/2019 12:00:00 AM</td> <td>98   </td> <td>Routine - Unscheduled</td> <td>100079</td> <td>2019-08-27 00:00:00</td> <td>POSITIVE FOODS             </td> <td>475 06TH ST                  </td> <td>San Francisco</td> <td>CA   </td> <td>94103      </td> <td>-9999   </td> <td>-9999    </td> <td>True        </td>\n",
       "        </tr>\n",
       "    </tbody>\n",
       "</table>\n",
       "<p>... (14021 rows omitted)</p>"
      ],
      "text/plain": [
       "<IPython.core.display.HTML object>"
      ]
     },
     "metadata": {},
     "output_type": "display_data"
    }
   ],
   "source": [
    "bus_data = bus_data.with_column('is_valid_zip', is_valid_zip)\n",
    "bus_data.show(10)"
   ]
  },
  {
   "cell_type": "markdown",
   "id": "c02bc65b-946e-463b-91e5-ac9649d240e5",
   "metadata": {
    "tags": []
   },
   "source": [
    "### 4.4 Filtering data\n"
   ]
  },
  {
   "cell_type": "markdown",
   "id": "975bcb32-494f-4742-a213-ecb7ee60bcc2",
   "metadata": {},
   "source": [
    "Let's view the rows in `bus_data` that have **invalid zip codes**."
   ]
  },
  {
   "cell_type": "code",
   "execution_count": 26,
   "id": "39639031-e7d8-4019-b5c3-dafd6f2ce4bf",
   "metadata": {},
   "outputs": [
    {
     "data": {
      "text/html": [
       "<table border=\"1\" class=\"dataframe\">\n",
       "    <thead>\n",
       "        <tr>\n",
       "            <th>date</th> <th>score</th> <th>type</th> <th>bid</th> <th>timestamp</th> <th>name</th> <th>address</th> <th>city</th> <th>state</th> <th>postal_code</th> <th>latitude</th> <th>longitude</th> <th>is_valid_zip</th>\n",
       "        </tr>\n",
       "    </thead>\n",
       "    <tbody>\n",
       "        <tr>\n",
       "            <td>04/03/2019 12:00:00 AM</td> <td>85   </td> <td>Routine - Unscheduled</td> <td>100126</td> <td>2019-04-03 00:00:00</td> <td>Lamas Peruvian Food Truck        </td> <td>Private Location                   </td> <td>San Francisco</td> <td>CA   </td> <td>-9999      </td> <td>-9999   </td> <td>-9999    </td> <td>False       </td>\n",
       "        </tr>\n",
       "        <tr>\n",
       "            <td>08/16/2019 12:00:00 AM</td> <td>98   </td> <td>Routine - Unscheduled</td> <td>100660</td> <td>2019-08-16 00:00:00</td> <td>TEAPENTER                        </td> <td>1518 IRVING ST                     </td> <td>San Francisco</td> <td>CA   </td> <td>94122-1909 </td> <td>-9999   </td> <td>-9999    </td> <td>False       </td>\n",
       "        </tr>\n",
       "        <tr>\n",
       "            <td>04/25/2019 12:00:00 AM</td> <td>92   </td> <td>Routine - Unscheduled</td> <td>100781</td> <td>2019-04-25 00:00:00</td> <td>LE CAFE DU SOLEIL                </td> <td>200 FILLMORE ST                    </td> <td>San Francisco</td> <td>CA   </td> <td>94117-3504 </td> <td>-9999   </td> <td>-9999    </td> <td>False       </td>\n",
       "        </tr>\n",
       "        <tr>\n",
       "            <td>09/06/2019 12:00:00 AM</td> <td>100  </td> <td>Routine - Unscheduled</td> <td>101129</td> <td>2019-09-06 00:00:00</td> <td>Vendor Room 200                  </td> <td>1 Warriors Way Level 300 South West</td> <td>San Francisco</td> <td>CA   </td> <td>-9999      </td> <td>-9999   </td> <td>-9999    </td> <td>False       </td>\n",
       "        </tr>\n",
       "        <tr>\n",
       "            <td>08/14/2017 12:00:00 AM</td> <td>75   </td> <td>Routine - Unscheduled</td> <td>10227 </td> <td>2017-08-14 00:00:00</td> <td>The Napper Tandy                 </td> <td>3200 24th St                       </td> <td>San Francisco</td> <td>CA   </td> <td>-9999      </td> <td>37.7526 </td> <td>-122.416 </td> <td>False       </td>\n",
       "        </tr>\n",
       "        <tr>\n",
       "            <td>03/07/2018 12:00:00 AM</td> <td>83   </td> <td>Routine - Unscheduled</td> <td>10227 </td> <td>2018-03-07 00:00:00</td> <td>The Napper Tandy                 </td> <td>3200 24th St                       </td> <td>San Francisco</td> <td>CA   </td> <td>-9999      </td> <td>37.7526 </td> <td>-122.416 </td> <td>False       </td>\n",
       "        </tr>\n",
       "        <tr>\n",
       "            <td>03/30/2017 12:00:00 AM</td> <td>100  </td> <td>Routine - Unscheduled</td> <td>10372 </td> <td>2017-03-30 00:00:00</td> <td>BERNAL HEIGHTS NEIGBORHOOD CENTER</td> <td>515 CORTLAND AVE                   </td> <td>San Francisco</td> <td>CA   </td> <td>-9999      </td> <td>37.7391 </td> <td>-122.416 </td> <td>False       </td>\n",
       "        </tr>\n",
       "        <tr>\n",
       "            <td>10/24/2017 12:00:00 AM</td> <td>100  </td> <td>Routine - Unscheduled</td> <td>10372 </td> <td>2017-10-24 00:00:00</td> <td>BERNAL HEIGHTS NEIGBORHOOD CENTER</td> <td>515 CORTLAND AVE                   </td> <td>San Francisco</td> <td>CA   </td> <td>-9999      </td> <td>37.7391 </td> <td>-122.416 </td> <td>False       </td>\n",
       "        </tr>\n",
       "        <tr>\n",
       "            <td>02/26/2018 12:00:00 AM</td> <td>100  </td> <td>Routine - Unscheduled</td> <td>10372 </td> <td>2018-02-26 00:00:00</td> <td>BERNAL HEIGHTS NEIGBORHOOD CENTER</td> <td>515 CORTLAND AVE                   </td> <td>San Francisco</td> <td>CA   </td> <td>-9999      </td> <td>37.7391 </td> <td>-122.416 </td> <td>False       </td>\n",
       "        </tr>\n",
       "        <tr>\n",
       "            <td>04/04/2019 12:00:00 AM</td> <td>100  </td> <td>Routine - Unscheduled</td> <td>10372 </td> <td>2019-04-04 00:00:00</td> <td>BERNAL HEIGHTS NEIGBORHOOD CENTER</td> <td>515 CORTLAND AVE                   </td> <td>San Francisco</td> <td>CA   </td> <td>-9999      </td> <td>37.7391 </td> <td>-122.416 </td> <td>False       </td>\n",
       "        </tr>\n",
       "    </tbody>\n",
       "</table>\n",
       "<p>... (396 rows omitted)</p>"
      ],
      "text/plain": [
       "date                   | score | type                  | bid    | timestamp           | name                              | address                             | city          | state | postal_code | latitude | longitude | is_valid_zip\n",
       "04/03/2019 12:00:00 AM | 85    | Routine - Unscheduled | 100126 | 2019-04-03 00:00:00 | Lamas Peruvian Food Truck         | Private Location                    | San Francisco | CA    | -9999       | -9999    | -9999     | False\n",
       "08/16/2019 12:00:00 AM | 98    | Routine - Unscheduled | 100660 | 2019-08-16 00:00:00 | TEAPENTER                         | 1518 IRVING ST                      | San Francisco | CA    | 94122-1909  | -9999    | -9999     | False\n",
       "04/25/2019 12:00:00 AM | 92    | Routine - Unscheduled | 100781 | 2019-04-25 00:00:00 | LE CAFE DU SOLEIL                 | 200 FILLMORE ST                     | San Francisco | CA    | 94117-3504  | -9999    | -9999     | False\n",
       "09/06/2019 12:00:00 AM | 100   | Routine - Unscheduled | 101129 | 2019-09-06 00:00:00 | Vendor Room 200                   | 1 Warriors Way Level 300 South West | San Francisco | CA    | -9999       | -9999    | -9999     | False\n",
       "08/14/2017 12:00:00 AM | 75    | Routine - Unscheduled | 10227  | 2017-08-14 00:00:00 | The Napper Tandy                  | 3200 24th St                        | San Francisco | CA    | -9999       | 37.7526  | -122.416  | False\n",
       "03/07/2018 12:00:00 AM | 83    | Routine - Unscheduled | 10227  | 2018-03-07 00:00:00 | The Napper Tandy                  | 3200 24th St                        | San Francisco | CA    | -9999       | 37.7526  | -122.416  | False\n",
       "03/30/2017 12:00:00 AM | 100   | Routine - Unscheduled | 10372  | 2017-03-30 00:00:00 | BERNAL HEIGHTS NEIGBORHOOD CENTER | 515 CORTLAND AVE                    | San Francisco | CA    | -9999       | 37.7391  | -122.416  | False\n",
       "10/24/2017 12:00:00 AM | 100   | Routine - Unscheduled | 10372  | 2017-10-24 00:00:00 | BERNAL HEIGHTS NEIGBORHOOD CENTER | 515 CORTLAND AVE                    | San Francisco | CA    | -9999       | 37.7391  | -122.416  | False\n",
       "02/26/2018 12:00:00 AM | 100   | Routine - Unscheduled | 10372  | 2018-02-26 00:00:00 | BERNAL HEIGHTS NEIGBORHOOD CENTER | 515 CORTLAND AVE                    | San Francisco | CA    | -9999       | 37.7391  | -122.416  | False\n",
       "04/04/2019 12:00:00 AM | 100   | Routine - Unscheduled | 10372  | 2019-04-04 00:00:00 | BERNAL HEIGHTS NEIGBORHOOD CENTER | 515 CORTLAND AVE                    | San Francisco | CA    | -9999       | 37.7391  | -122.416  | False\n",
       "... (396 rows omitted)"
      ]
     },
     "execution_count": 26,
     "metadata": {},
     "output_type": "execute_result"
    }
   ],
   "source": [
    "incorrect_postal_codes = bus_data.where('is_valid_zip', False)\n",
    "incorrect_postal_codes"
   ]
  },
  {
   "cell_type": "markdown",
   "id": "56256f56-c0e5-4de0-98da-cefad624e1dd",
   "metadata": {},
   "source": [
    "Look at the postal_code column above. We can notice 2 main patterns:\n",
    "1. Many of these incorrect postal codes are `-9999`. \n",
    "2. Some other incorrect postal codes are incorrect because they give a postal code range, rather than a single code. (ie, `94105-1420` instead of `94105`)"
   ]
  },
  {
   "cell_type": "markdown",
   "id": "8be5c861-a7d1-4fda-b224-9dab936dffed",
   "metadata": {
    "tags": []
   },
   "source": [
    "#### 4.4.1 Investigating `-9999` Postal Codes\n",
    "We've investigated the 1st pattern below. Read through this process and formulate an opinion on why these restaurant locations might have incorrect/missing information."
   ]
  },
  {
   "cell_type": "code",
   "execution_count": 27,
   "id": "cc5ae695-0d0f-4e83-8a34-9f6b9b06dce2",
   "metadata": {},
   "outputs": [
    {
     "data": {
      "text/html": [
       "<table border=\"1\" class=\"dataframe\">\n",
       "    <thead>\n",
       "        <tr>\n",
       "            <th>date</th> <th>score</th> <th>type</th> <th>bid</th> <th>timestamp</th> <th>name</th> <th>address</th> <th>city</th> <th>state</th> <th>postal_code</th> <th>latitude</th> <th>longitude</th> <th>is_valid_zip</th>\n",
       "        </tr>\n",
       "    </thead>\n",
       "    <tbody>\n",
       "        <tr>\n",
       "            <td>04/03/2019 12:00:00 AM</td> <td>85   </td> <td>Routine - Unscheduled</td> <td>100126</td> <td>2019-04-03 00:00:00</td> <td>Lamas Peruvian Food Truck        </td> <td>Private Location                   </td> <td>San Francisco</td> <td>CA   </td> <td>-9999      </td> <td>-9999   </td> <td>-9999    </td> <td>False       </td>\n",
       "        </tr>\n",
       "        <tr>\n",
       "            <td>09/06/2019 12:00:00 AM</td> <td>100  </td> <td>Routine - Unscheduled</td> <td>101129</td> <td>2019-09-06 00:00:00</td> <td>Vendor Room 200                  </td> <td>1 Warriors Way Level 300 South West</td> <td>San Francisco</td> <td>CA   </td> <td>-9999      </td> <td>-9999   </td> <td>-9999    </td> <td>False       </td>\n",
       "        </tr>\n",
       "        <tr>\n",
       "            <td>08/14/2017 12:00:00 AM</td> <td>75   </td> <td>Routine - Unscheduled</td> <td>10227 </td> <td>2017-08-14 00:00:00</td> <td>The Napper Tandy                 </td> <td>3200 24th St                       </td> <td>San Francisco</td> <td>CA   </td> <td>-9999      </td> <td>37.7526 </td> <td>-122.416 </td> <td>False       </td>\n",
       "        </tr>\n",
       "        <tr>\n",
       "            <td>03/07/2018 12:00:00 AM</td> <td>83   </td> <td>Routine - Unscheduled</td> <td>10227 </td> <td>2018-03-07 00:00:00</td> <td>The Napper Tandy                 </td> <td>3200 24th St                       </td> <td>San Francisco</td> <td>CA   </td> <td>-9999      </td> <td>37.7526 </td> <td>-122.416 </td> <td>False       </td>\n",
       "        </tr>\n",
       "        <tr>\n",
       "            <td>03/30/2017 12:00:00 AM</td> <td>100  </td> <td>Routine - Unscheduled</td> <td>10372 </td> <td>2017-03-30 00:00:00</td> <td>BERNAL HEIGHTS NEIGBORHOOD CENTER</td> <td>515 CORTLAND AVE                   </td> <td>San Francisco</td> <td>CA   </td> <td>-9999      </td> <td>37.7391 </td> <td>-122.416 </td> <td>False       </td>\n",
       "        </tr>\n",
       "        <tr>\n",
       "            <td>10/24/2017 12:00:00 AM</td> <td>100  </td> <td>Routine - Unscheduled</td> <td>10372 </td> <td>2017-10-24 00:00:00</td> <td>BERNAL HEIGHTS NEIGBORHOOD CENTER</td> <td>515 CORTLAND AVE                   </td> <td>San Francisco</td> <td>CA   </td> <td>-9999      </td> <td>37.7391 </td> <td>-122.416 </td> <td>False       </td>\n",
       "        </tr>\n",
       "        <tr>\n",
       "            <td>02/26/2018 12:00:00 AM</td> <td>100  </td> <td>Routine - Unscheduled</td> <td>10372 </td> <td>2018-02-26 00:00:00</td> <td>BERNAL HEIGHTS NEIGBORHOOD CENTER</td> <td>515 CORTLAND AVE                   </td> <td>San Francisco</td> <td>CA   </td> <td>-9999      </td> <td>37.7391 </td> <td>-122.416 </td> <td>False       </td>\n",
       "        </tr>\n",
       "        <tr>\n",
       "            <td>04/04/2019 12:00:00 AM</td> <td>100  </td> <td>Routine - Unscheduled</td> <td>10372 </td> <td>2019-04-04 00:00:00</td> <td>BERNAL HEIGHTS NEIGBORHOOD CENTER</td> <td>515 CORTLAND AVE                   </td> <td>San Francisco</td> <td>CA   </td> <td>-9999      </td> <td>37.7391 </td> <td>-122.416 </td> <td>False       </td>\n",
       "        </tr>\n",
       "        <tr>\n",
       "            <td>07/15/2017 12:00:00 AM</td> <td>86   </td> <td>Routine - Unscheduled</td> <td>10373 </td> <td>2017-07-15 00:00:00</td> <td>El Tonayense #1                  </td> <td>1717 Harrison St                   </td> <td>San Francisco</td> <td>CA   </td> <td>-9999      </td> <td>37.7694 </td> <td>-122.413 </td> <td>False       </td>\n",
       "        </tr>\n",
       "        <tr>\n",
       "            <td>07/24/2017 12:00:00 AM</td> <td>79   </td> <td>Routine - Unscheduled</td> <td>10373 </td> <td>2017-07-24 00:00:00</td> <td>El Tonayense #1                  </td> <td>1717 Harrison St                   </td> <td>San Francisco</td> <td>CA   </td> <td>-9999      </td> <td>37.7694 </td> <td>-122.413 </td> <td>False       </td>\n",
       "        </tr>\n",
       "    </tbody>\n",
       "</table>\n",
       "<p>... (347 rows omitted)</p>"
      ],
      "text/plain": [
       "date                   | score | type                  | bid    | timestamp           | name                              | address                             | city          | state | postal_code | latitude | longitude | is_valid_zip\n",
       "04/03/2019 12:00:00 AM | 85    | Routine - Unscheduled | 100126 | 2019-04-03 00:00:00 | Lamas Peruvian Food Truck         | Private Location                    | San Francisco | CA    | -9999       | -9999    | -9999     | False\n",
       "09/06/2019 12:00:00 AM | 100   | Routine - Unscheduled | 101129 | 2019-09-06 00:00:00 | Vendor Room 200                   | 1 Warriors Way Level 300 South West | San Francisco | CA    | -9999       | -9999    | -9999     | False\n",
       "08/14/2017 12:00:00 AM | 75    | Routine - Unscheduled | 10227  | 2017-08-14 00:00:00 | The Napper Tandy                  | 3200 24th St                        | San Francisco | CA    | -9999       | 37.7526  | -122.416  | False\n",
       "03/07/2018 12:00:00 AM | 83    | Routine - Unscheduled | 10227  | 2018-03-07 00:00:00 | The Napper Tandy                  | 3200 24th St                        | San Francisco | CA    | -9999       | 37.7526  | -122.416  | False\n",
       "03/30/2017 12:00:00 AM | 100   | Routine - Unscheduled | 10372  | 2017-03-30 00:00:00 | BERNAL HEIGHTS NEIGBORHOOD CENTER | 515 CORTLAND AVE                    | San Francisco | CA    | -9999       | 37.7391  | -122.416  | False\n",
       "10/24/2017 12:00:00 AM | 100   | Routine - Unscheduled | 10372  | 2017-10-24 00:00:00 | BERNAL HEIGHTS NEIGBORHOOD CENTER | 515 CORTLAND AVE                    | San Francisco | CA    | -9999       | 37.7391  | -122.416  | False\n",
       "02/26/2018 12:00:00 AM | 100   | Routine - Unscheduled | 10372  | 2018-02-26 00:00:00 | BERNAL HEIGHTS NEIGBORHOOD CENTER | 515 CORTLAND AVE                    | San Francisco | CA    | -9999       | 37.7391  | -122.416  | False\n",
       "04/04/2019 12:00:00 AM | 100   | Routine - Unscheduled | 10372  | 2019-04-04 00:00:00 | BERNAL HEIGHTS NEIGBORHOOD CENTER | 515 CORTLAND AVE                    | San Francisco | CA    | -9999       | 37.7391  | -122.416  | False\n",
       "07/15/2017 12:00:00 AM | 86    | Routine - Unscheduled | 10373  | 2017-07-15 00:00:00 | El Tonayense #1                   | 1717 Harrison St                    | San Francisco | CA    | -9999       | 37.7694  | -122.413  | False\n",
       "07/24/2017 12:00:00 AM | 79    | Routine - Unscheduled | 10373  | 2017-07-24 00:00:00 | El Tonayense #1                   | 1717 Harrison St                    | San Francisco | CA    | -9999       | 37.7694  | -122.413  | False\n",
       "... (347 rows omitted)"
      ]
     },
     "execution_count": 27,
     "metadata": {},
     "output_type": "execute_result"
    }
   ],
   "source": [
    "code_neg9999 = incorrect_postal_codes.where('postal_code', '-9999')\n",
    "code_neg9999"
   ]
  },
  {
   "cell_type": "markdown",
   "id": "a71947b6-ccf4-4edf-875b-779cf7f27cbd",
   "metadata": {},
   "source": [
    "^ This shows us that there are 194 rows that have the incorrect postal_code `-9999`. Let's look at some of the locations of the restaurants that correspond to these values."
   ]
  },
  {
   "cell_type": "code",
   "execution_count": 28,
   "id": "cdd3ae28-4f3d-4c79-807c-f340a4e7f835",
   "metadata": {},
   "outputs": [
    {
     "data": {
      "text/plain": [
       "{'1 Warriors Way Level 300 South West': 1,\n",
       " '1 franklin Ct': 1,\n",
       " '10 29th St': 5,\n",
       " '100 Diamond St': 2,\n",
       " '1001 Potrero Ave': 1,\n",
       " '101 Horne Ave': 3,\n",
       " '1051 Market St': 4,\n",
       " '1111 California St': 2,\n",
       " '1143 Taraval St': 3,\n",
       " '115 Sansome': 1,\n",
       " '1301 Cesar Chavez St': 1,\n",
       " '135 04th St FC-3': 3,\n",
       " '140 New Montgomery St': 2,\n",
       " '1400 Stockton St': 1,\n",
       " '144 Taylor St': 1,\n",
       " '1552 Ocean Ave': 3,\n",
       " '1605 Jerrold Ave': 1,\n",
       " \"170 O'Farrell St\": 1,\n",
       " '1717 Harrison St': 5,\n",
       " '1737 Post St 368': 2,\n",
       " '1760 Polk St': 2,\n",
       " '1801 Vicente St': 5,\n",
       " '1975 Bryant': 2,\n",
       " '2 Embarcadero Center  Street Level': 2,\n",
       " '201 2nd St': 1,\n",
       " '203 Parnassus Ave': 2,\n",
       " '2078 Hayes St': 2,\n",
       " '2229 Clement St': 3,\n",
       " '2277 Shafter Ave': 5,\n",
       " '235 Front St': 2,\n",
       " '2399 Van Ness Ave': 3,\n",
       " '24 Willie Mays Pl Field Level Rm 1.11.11': 4,\n",
       " '24 Willie Mays Pl Rm 2103': 3,\n",
       " '24 Willie Mays Pl Room 2142': 4,\n",
       " '24 Willie Mays Pl View Lvl Sect 331': 4,\n",
       " '24 Willie Mays Pl View Sect 320 Rm 5319': 4,\n",
       " '24 Willie Mays Plaza': 4,\n",
       " '2462 San Bruno Ave': 3,\n",
       " '250 WEST PORTAL AVENUE': 2,\n",
       " '255 Winston St': 3,\n",
       " '2826 Jones St': 1,\n",
       " '2948 Folsom St': 1,\n",
       " '298 King St': 2,\n",
       " '3055 23rd St': 1,\n",
       " '3109 24th St': 2,\n",
       " '3200 24th St': 2,\n",
       " '3200 Fillmore St': 2,\n",
       " '3251 20th Ave': 1,\n",
       " '3251 Pierce': 1,\n",
       " \"333 O'Farrell\": 2,\n",
       " '3435 Mission St': 5,\n",
       " '3611 18th St': 3,\n",
       " '370 Golden Gate Ave': 3,\n",
       " '3801 18th St': 2,\n",
       " '3861 24th St': 1,\n",
       " '3914 Judah St': 3,\n",
       " '3918 Judah St': 2,\n",
       " '400 California': 1,\n",
       " '4033 Judah St': 2,\n",
       " '420 Mason St': 1,\n",
       " '428 11th': 1,\n",
       " '428 11th St': 2,\n",
       " '450 Church St': 6,\n",
       " '484 Ellis St': 3,\n",
       " '491 Bayshore St': 1,\n",
       " '500 Post St': 3,\n",
       " '510 Stevenson St': 3,\n",
       " '515 CORTLAND AVE': 4,\n",
       " '525 Market/360 Valencia': 1,\n",
       " '55 Stockton St': 2,\n",
       " '550 A Gene Friend Way': 2,\n",
       " '550 D Gene Friend Way': 2,\n",
       " '550 Gene Friends Way': 2,\n",
       " '550 Gough St': 3,\n",
       " '582 Sutter St': 3,\n",
       " '610 Long Bridge': 2,\n",
       " '6134 Geary Blvd': 4,\n",
       " '625 Clement St': 3,\n",
       " '655 Montgomery St': 2,\n",
       " '659 Merchant St': 1,\n",
       " '66 Kearny St': 2,\n",
       " '681 Broadway St': 2,\n",
       " '685 Market St 520': 2,\n",
       " '699 Avenue of the Palms': 2,\n",
       " '705 Natoma St': 3,\n",
       " '750 Font Blvd': 3,\n",
       " '79 Sansome St': 1,\n",
       " '833 Bryant St': 2,\n",
       " '839 Clay': 1,\n",
       " '842 Geary St': 5,\n",
       " '845 Market St #13': 3,\n",
       " '855 Bush St': 3,\n",
       " '871 Sutter St': 3,\n",
       " '928 Toland': 1,\n",
       " '942 Mission St': 2,\n",
       " 'Approved Locations': 6,\n",
       " 'Approved Private Locations': 8,\n",
       " 'Approved private locations': 2,\n",
       " 'Beach Chalet Soccer Field Parking Lot': 1,\n",
       " 'Golden Gate Park': 1,\n",
       " 'Golden Gate Park, Carousel Snack Bar': 2,\n",
       " 'Golden Gate Park, JFK Dr.@8th Ave': 4,\n",
       " 'Golden Gate Park, JFK Dr.@Conservatory of Flowers': 3,\n",
       " 'Golden Gate Park, Music Concourse': 2,\n",
       " 'Hunters Point Building 110 Shipyard': 1,\n",
       " 'Justin Herman Plaza': 1,\n",
       " 'Macys - Geary Entrance': 2,\n",
       " 'OFF THE GRID': 3,\n",
       " 'OFF The Grid': 3,\n",
       " 'OTG': 3,\n",
       " 'Off The Grid': 53,\n",
       " 'Off the Grid': 19,\n",
       " 'Off the grid': 2,\n",
       " 'Pier 39 West Perimeter': 1,\n",
       " 'Private & Public': 1,\n",
       " 'Private Location': 1,\n",
       " 'Soma Street @ 428 11th St.': 1,\n",
       " 'Soma Street Food Park': 2,\n",
       " 'TFF Event Operations': 3,\n",
       " 'Treasure Island': 4,\n",
       " 'Treasure Island Flea Market': 1,\n",
       " 'Various Farmers Markets': 1}"
      ]
     },
     "execution_count": 28,
     "metadata": {},
     "output_type": "execute_result"
    }
   ],
   "source": [
    "# 'Address' column\n",
    "a = code_neg9999.column('address')\n",
    "unique, counts = np.unique(a, return_counts=True)\n",
    "dict(zip(unique, counts))"
   ]
  },
  {
   "cell_type": "markdown",
   "id": "d7b7bf28-ed6c-4198-aaa5-476cdc6aae52",
   "metadata": {},
   "source": [
    "This shows that there are 39 store locations that have addresses marked as \"Off The Grid\", 10 with addresses \"Off the Grid\", and 4 with addresses \"OTG\". These qualify as missing values for our data. Thus, will want to remove these rows from our `bus_data` DataFrame. We will do this after we address the second patern."
   ]
  },
  {
   "cell_type": "markdown",
   "id": "71f9a1f7-cac2-4af9-94a3-0d5297b0223f",
   "metadata": {},
   "source": [
    "#### 4.4.2 Investigating Postal Code Ranges\n"
   ]
  },
  {
   "cell_type": "markdown",
   "id": "87144276-5f7d-4d7e-a907-3c8d8e71452f",
   "metadata": {},
   "source": [
    "Next, let's look at the 2nd pattern (where zip code ranges are listed rather than individual zip codes). We actually *can* fix this so we won't need to drop any of these values!\n",
    "\n",
    "Every proper zip code is 5 digits long (ie, 94103). To turn the ranges into only a single zip code, we will use `str.slice` to \"trim\" the string. Remember that the `postal_code` column is made up of [strings](https://press.rebus.community/programmingfundamentals/chapter/string-data-type/) rather than integers. We use the code `str.slice(0,5)` to mean take a slice of the string from the 0th index up to the 5th index. This returns the 1st through 5th characters, which results in `94123-3106` turning into `94123`. For values that were already 5 digits long, this slice returns itself so nothing changes (ie, `94103` is still `94103`)."
   ]
  },
  {
   "cell_type": "code",
   "execution_count": 29,
   "id": "acef5c25-4eef-4df1-8e4c-ebc952625e30",
   "metadata": {},
   "outputs": [
    {
     "data": {
      "text/html": [
       "<table border=\"1\" class=\"dataframe\">\n",
       "    <thead>\n",
       "        <tr>\n",
       "            <th>date</th> <th>score</th> <th>type</th> <th>bid</th> <th>timestamp</th> <th>name</th> <th>address</th> <th>city</th> <th>state</th> <th>postal_code</th> <th>latitude</th> <th>longitude</th> <th>is_valid_zip</th>\n",
       "        </tr>\n",
       "    </thead>\n",
       "    <tbody>\n",
       "        <tr>\n",
       "            <td>04/03/2019 12:00:00 AM</td> <td>100  </td> <td>Routine - Unscheduled</td> <td>100010</td> <td>2019-04-03 00:00:00</td> <td>ILLY CAFFE SF_PIER 39      </td> <td>PIER 39  K-106-B             </td> <td>San Francisco</td> <td>CA   </td> <td>94133      </td> <td>-9999   </td> <td>-9999    </td> <td>True        </td>\n",
       "        </tr>\n",
       "        <tr>\n",
       "            <td>08/16/2019 12:00:00 AM</td> <td>91   </td> <td>Routine - Unscheduled</td> <td>100017</td> <td>2019-08-16 00:00:00</td> <td>AMICI'S EAST COAST PIZZERIA</td> <td>475 06th St                  </td> <td>San Francisco</td> <td>CA   </td> <td>94103      </td> <td>-9999   </td> <td>-9999    </td> <td>True        </td>\n",
       "        </tr>\n",
       "        <tr>\n",
       "            <td>05/20/2019 12:00:00 AM</td> <td>83   </td> <td>Routine - Unscheduled</td> <td>100041</td> <td>2019-05-20 00:00:00</td> <td>UNCLE LEE CAFE             </td> <td>3608 BALBOA ST               </td> <td>San Francisco</td> <td>CA   </td> <td>94121      </td> <td>-9999   </td> <td>-9999    </td> <td>True        </td>\n",
       "        </tr>\n",
       "        <tr>\n",
       "            <td>04/25/2019 12:00:00 AM</td> <td>98   </td> <td>Routine - Unscheduled</td> <td>100055</td> <td>2019-04-25 00:00:00</td> <td>Twirl and Dip              </td> <td>335 Martin Luther King Jr. Dr</td> <td>San Francisco</td> <td>CA   </td> <td>94118      </td> <td>-9999   </td> <td>-9999    </td> <td>True        </td>\n",
       "        </tr>\n",
       "        <tr>\n",
       "            <td>09/12/2019 12:00:00 AM</td> <td>82   </td> <td>Routine - Unscheduled</td> <td>100055</td> <td>2019-09-12 00:00:00</td> <td>Twirl and Dip              </td> <td>335 Martin Luther King Jr. Dr</td> <td>San Francisco</td> <td>CA   </td> <td>94118      </td> <td>-9999   </td> <td>-9999    </td> <td>True        </td>\n",
       "        </tr>\n",
       "        <tr>\n",
       "            <td>08/16/2019 12:00:00 AM</td> <td>89   </td> <td>Routine - Unscheduled</td> <td>100058</td> <td>2019-08-16 00:00:00</td> <td>SF PITA HUB                </td> <td>475 06TH ST                  </td> <td>San Francisco</td> <td>CA   </td> <td>94103      </td> <td>-9999   </td> <td>-9999    </td> <td>True        </td>\n",
       "        </tr>\n",
       "        <tr>\n",
       "            <td>08/15/2019 12:00:00 AM</td> <td>76   </td> <td>Routine - Unscheduled</td> <td>100059</td> <td>2019-08-15 00:00:00</td> <td>DUMPLING ALLEY             </td> <td>2512 CLEMENT ST              </td> <td>San Francisco</td> <td>CA   </td> <td>94121      </td> <td>-9999   </td> <td>-9999    </td> <td>True        </td>\n",
       "        </tr>\n",
       "        <tr>\n",
       "            <td>09/06/2019 12:00:00 AM</td> <td>100  </td> <td>Routine - Unscheduled</td> <td>100069</td> <td>2019-09-06 00:00:00</td> <td>Mission Blue               </td> <td>144 Leland Ave               </td> <td>San Francisco</td> <td>CA   </td> <td>94134      </td> <td>-9999   </td> <td>-9999    </td> <td>True        </td>\n",
       "        </tr>\n",
       "        <tr>\n",
       "            <td>03/26/2019 12:00:00 AM</td> <td>89   </td> <td>Routine - Unscheduled</td> <td>100072</td> <td>2019-03-26 00:00:00</td> <td>SUBWAY SANDWICHES #7307    </td> <td>2375 MARKET ST               </td> <td>San Francisco</td> <td>CA   </td> <td>94114      </td> <td>-9999   </td> <td>-9999    </td> <td>True        </td>\n",
       "        </tr>\n",
       "        <tr>\n",
       "            <td>08/27/2019 12:00:00 AM</td> <td>98   </td> <td>Routine - Unscheduled</td> <td>100079</td> <td>2019-08-27 00:00:00</td> <td>POSITIVE FOODS             </td> <td>475 06TH ST                  </td> <td>San Francisco</td> <td>CA   </td> <td>94103      </td> <td>-9999   </td> <td>-9999    </td> <td>True        </td>\n",
       "        </tr>\n",
       "    </tbody>\n",
       "</table>\n",
       "<p>... (14021 rows omitted)</p>"
      ],
      "text/plain": [
       "date                   | score | type                  | bid    | timestamp           | name                        | address                       | city          | state | postal_code | latitude | longitude | is_valid_zip\n",
       "04/03/2019 12:00:00 AM | 100   | Routine - Unscheduled | 100010 | 2019-04-03 00:00:00 | ILLY CAFFE SF_PIER 39       | PIER 39  K-106-B              | San Francisco | CA    | 94133       | -9999    | -9999     | True\n",
       "08/16/2019 12:00:00 AM | 91    | Routine - Unscheduled | 100017 | 2019-08-16 00:00:00 | AMICI'S EAST COAST PIZZERIA | 475 06th St                   | San Francisco | CA    | 94103       | -9999    | -9999     | True\n",
       "05/20/2019 12:00:00 AM | 83    | Routine - Unscheduled | 100041 | 2019-05-20 00:00:00 | UNCLE LEE CAFE              | 3608 BALBOA ST                | San Francisco | CA    | 94121       | -9999    | -9999     | True\n",
       "04/25/2019 12:00:00 AM | 98    | Routine - Unscheduled | 100055 | 2019-04-25 00:00:00 | Twirl and Dip               | 335 Martin Luther King Jr. Dr | San Francisco | CA    | 94118       | -9999    | -9999     | True\n",
       "09/12/2019 12:00:00 AM | 82    | Routine - Unscheduled | 100055 | 2019-09-12 00:00:00 | Twirl and Dip               | 335 Martin Luther King Jr. Dr | San Francisco | CA    | 94118       | -9999    | -9999     | True\n",
       "08/16/2019 12:00:00 AM | 89    | Routine - Unscheduled | 100058 | 2019-08-16 00:00:00 | SF PITA HUB                 | 475 06TH ST                   | San Francisco | CA    | 94103       | -9999    | -9999     | True\n",
       "08/15/2019 12:00:00 AM | 76    | Routine - Unscheduled | 100059 | 2019-08-15 00:00:00 | DUMPLING ALLEY              | 2512 CLEMENT ST               | San Francisco | CA    | 94121       | -9999    | -9999     | True\n",
       "09/06/2019 12:00:00 AM | 100   | Routine - Unscheduled | 100069 | 2019-09-06 00:00:00 | Mission Blue                | 144 Leland Ave                | San Francisco | CA    | 94134       | -9999    | -9999     | True\n",
       "03/26/2019 12:00:00 AM | 89    | Routine - Unscheduled | 100072 | 2019-03-26 00:00:00 | SUBWAY SANDWICHES #7307     | 2375 MARKET ST                | San Francisco | CA    | 94114       | -9999    | -9999     | True\n",
       "08/27/2019 12:00:00 AM | 98    | Routine - Unscheduled | 100079 | 2019-08-27 00:00:00 | POSITIVE FOODS              | 475 06TH ST                   | San Francisco | CA    | 94103       | -9999    | -9999     | True\n",
       "... (14021 rows omitted)"
      ]
     },
     "execution_count": 29,
     "metadata": {},
     "output_type": "execute_result"
    }
   ],
   "source": [
    "bus_data = bus_data.with_column('postal_code', pd.Series(bus_data.column('postal_code')).str.slice(0,5))\n",
    "bus_data\n",
    "#Notice now all postal codes are 5 digits"
   ]
  },
  {
   "cell_type": "markdown",
   "id": "53dddd05-840b-4db4-8be8-6cfcac5f910e",
   "metadata": {},
   "source": [
    "#### 4.4.3 Dropping Rows"
   ]
  },
  {
   "cell_type": "markdown",
   "id": "3c1e54df-750e-4017-b8e1-d73c3227a169",
   "metadata": {},
   "source": [
    "Now that we've fixed postal code ranges, let's drop the values that are not valid postal codes. We do this by filtering our data. \n",
    "\n",
    "*The line of code translates to:*\n",
    "> *\"The `bus_data` DataFrame now will be a DataFrame with only the rows in the `bus_data` DataFrame that had a `postal_code` that was in the list of valid zipcodes (`valid_zips`)\".*"
   ]
  },
  {
   "cell_type": "code",
   "execution_count": 30,
   "id": "48d8b60e-d497-4c95-b5db-c6b41d4d9768",
   "metadata": {},
   "outputs": [
    {
     "data": {
      "text/html": [
       "<table border=\"1\" class=\"dataframe\">\n",
       "    <thead>\n",
       "        <tr>\n",
       "            <th>date</th> <th>score</th> <th>type</th> <th>bid</th> <th>timestamp</th> <th>name</th> <th>address</th> <th>city</th> <th>state</th> <th>postal_code</th> <th>latitude</th> <th>longitude</th> <th>is_valid_zip</th>\n",
       "        </tr>\n",
       "    </thead>\n",
       "    <tbody>\n",
       "        <tr>\n",
       "            <td>04/03/2019 12:00:00 AM</td> <td>100  </td> <td>Routine - Unscheduled</td> <td>100010</td> <td>2019-04-03 00:00:00</td> <td>ILLY CAFFE SF_PIER 39      </td> <td>PIER 39  K-106-B             </td> <td>San Francisco</td> <td>CA   </td> <td>94133      </td> <td>-9999   </td> <td>-9999    </td> <td>True        </td>\n",
       "        </tr>\n",
       "        <tr>\n",
       "            <td>08/16/2019 12:00:00 AM</td> <td>91   </td> <td>Routine - Unscheduled</td> <td>100017</td> <td>2019-08-16 00:00:00</td> <td>AMICI'S EAST COAST PIZZERIA</td> <td>475 06th St                  </td> <td>San Francisco</td> <td>CA   </td> <td>94103      </td> <td>-9999   </td> <td>-9999    </td> <td>True        </td>\n",
       "        </tr>\n",
       "        <tr>\n",
       "            <td>05/20/2019 12:00:00 AM</td> <td>83   </td> <td>Routine - Unscheduled</td> <td>100041</td> <td>2019-05-20 00:00:00</td> <td>UNCLE LEE CAFE             </td> <td>3608 BALBOA ST               </td> <td>San Francisco</td> <td>CA   </td> <td>94121      </td> <td>-9999   </td> <td>-9999    </td> <td>True        </td>\n",
       "        </tr>\n",
       "        <tr>\n",
       "            <td>04/25/2019 12:00:00 AM</td> <td>98   </td> <td>Routine - Unscheduled</td> <td>100055</td> <td>2019-04-25 00:00:00</td> <td>Twirl and Dip              </td> <td>335 Martin Luther King Jr. Dr</td> <td>San Francisco</td> <td>CA   </td> <td>94118      </td> <td>-9999   </td> <td>-9999    </td> <td>True        </td>\n",
       "        </tr>\n",
       "        <tr>\n",
       "            <td>09/12/2019 12:00:00 AM</td> <td>82   </td> <td>Routine - Unscheduled</td> <td>100055</td> <td>2019-09-12 00:00:00</td> <td>Twirl and Dip              </td> <td>335 Martin Luther King Jr. Dr</td> <td>San Francisco</td> <td>CA   </td> <td>94118      </td> <td>-9999   </td> <td>-9999    </td> <td>True        </td>\n",
       "        </tr>\n",
       "        <tr>\n",
       "            <td>08/16/2019 12:00:00 AM</td> <td>89   </td> <td>Routine - Unscheduled</td> <td>100058</td> <td>2019-08-16 00:00:00</td> <td>SF PITA HUB                </td> <td>475 06TH ST                  </td> <td>San Francisco</td> <td>CA   </td> <td>94103      </td> <td>-9999   </td> <td>-9999    </td> <td>True        </td>\n",
       "        </tr>\n",
       "        <tr>\n",
       "            <td>08/15/2019 12:00:00 AM</td> <td>76   </td> <td>Routine - Unscheduled</td> <td>100059</td> <td>2019-08-15 00:00:00</td> <td>DUMPLING ALLEY             </td> <td>2512 CLEMENT ST              </td> <td>San Francisco</td> <td>CA   </td> <td>94121      </td> <td>-9999   </td> <td>-9999    </td> <td>True        </td>\n",
       "        </tr>\n",
       "        <tr>\n",
       "            <td>09/06/2019 12:00:00 AM</td> <td>100  </td> <td>Routine - Unscheduled</td> <td>100069</td> <td>2019-09-06 00:00:00</td> <td>Mission Blue               </td> <td>144 Leland Ave               </td> <td>San Francisco</td> <td>CA   </td> <td>94134      </td> <td>-9999   </td> <td>-9999    </td> <td>True        </td>\n",
       "        </tr>\n",
       "        <tr>\n",
       "            <td>03/26/2019 12:00:00 AM</td> <td>89   </td> <td>Routine - Unscheduled</td> <td>100072</td> <td>2019-03-26 00:00:00</td> <td>SUBWAY SANDWICHES #7307    </td> <td>2375 MARKET ST               </td> <td>San Francisco</td> <td>CA   </td> <td>94114      </td> <td>-9999   </td> <td>-9999    </td> <td>True        </td>\n",
       "        </tr>\n",
       "        <tr>\n",
       "            <td>08/27/2019 12:00:00 AM</td> <td>98   </td> <td>Routine - Unscheduled</td> <td>100079</td> <td>2019-08-27 00:00:00</td> <td>POSITIVE FOODS             </td> <td>475 06TH ST                  </td> <td>San Francisco</td> <td>CA   </td> <td>94103      </td> <td>-9999   </td> <td>-9999    </td> <td>True        </td>\n",
       "        </tr>\n",
       "    </tbody>\n",
       "</table>\n",
       "<p>... (13615 rows omitted)</p>"
      ],
      "text/plain": [
       "date                   | score | type                  | bid    | timestamp           | name                        | address                       | city          | state | postal_code | latitude | longitude | is_valid_zip\n",
       "04/03/2019 12:00:00 AM | 100   | Routine - Unscheduled | 100010 | 2019-04-03 00:00:00 | ILLY CAFFE SF_PIER 39       | PIER 39  K-106-B              | San Francisco | CA    | 94133       | -9999    | -9999     | True\n",
       "08/16/2019 12:00:00 AM | 91    | Routine - Unscheduled | 100017 | 2019-08-16 00:00:00 | AMICI'S EAST COAST PIZZERIA | 475 06th St                   | San Francisco | CA    | 94103       | -9999    | -9999     | True\n",
       "05/20/2019 12:00:00 AM | 83    | Routine - Unscheduled | 100041 | 2019-05-20 00:00:00 | UNCLE LEE CAFE              | 3608 BALBOA ST                | San Francisco | CA    | 94121       | -9999    | -9999     | True\n",
       "04/25/2019 12:00:00 AM | 98    | Routine - Unscheduled | 100055 | 2019-04-25 00:00:00 | Twirl and Dip               | 335 Martin Luther King Jr. Dr | San Francisco | CA    | 94118       | -9999    | -9999     | True\n",
       "09/12/2019 12:00:00 AM | 82    | Routine - Unscheduled | 100055 | 2019-09-12 00:00:00 | Twirl and Dip               | 335 Martin Luther King Jr. Dr | San Francisco | CA    | 94118       | -9999    | -9999     | True\n",
       "08/16/2019 12:00:00 AM | 89    | Routine - Unscheduled | 100058 | 2019-08-16 00:00:00 | SF PITA HUB                 | 475 06TH ST                   | San Francisco | CA    | 94103       | -9999    | -9999     | True\n",
       "08/15/2019 12:00:00 AM | 76    | Routine - Unscheduled | 100059 | 2019-08-15 00:00:00 | DUMPLING ALLEY              | 2512 CLEMENT ST               | San Francisco | CA    | 94121       | -9999    | -9999     | True\n",
       "09/06/2019 12:00:00 AM | 100   | Routine - Unscheduled | 100069 | 2019-09-06 00:00:00 | Mission Blue                | 144 Leland Ave                | San Francisco | CA    | 94134       | -9999    | -9999     | True\n",
       "03/26/2019 12:00:00 AM | 89    | Routine - Unscheduled | 100072 | 2019-03-26 00:00:00 | SUBWAY SANDWICHES #7307     | 2375 MARKET ST                | San Francisco | CA    | 94114       | -9999    | -9999     | True\n",
       "08/27/2019 12:00:00 AM | 98    | Routine - Unscheduled | 100079 | 2019-08-27 00:00:00 | POSITIVE FOODS              | 475 06TH ST                   | San Francisco | CA    | 94103       | -9999    | -9999     | True\n",
       "... (13615 rows omitted)"
      ]
     },
     "execution_count": 30,
     "metadata": {},
     "output_type": "execute_result"
    }
   ],
   "source": [
    "bus_data = bus_data.where('is_valid_zip', True)\n",
    "bus_data"
   ]
  },
  {
   "cell_type": "markdown",
   "id": "a6833cf9-c41f-4404-96ab-7cdd9bb77236",
   "metadata": {},
   "source": [
    "# 5. Exploratory Data Analysis  <a id='4'></a>\n"
   ]
  },
  {
   "cell_type": "markdown",
   "id": "c62c8781",
   "metadata": {},
   "source": [
    "Exploratory Data Analysis allows you to \"get to know the data\". \n",
    "\n",
    "EDA is the process of transforming, visualizing, and summarizing data to:\n",
    "* build / confirm understanding of the data and its provenance\n",
    "* identify and address potential issues in the data\n",
    "* inform the subsequent analysis \n",
    "* discover potential hypothesis \n",
    "\n",
    "EDA ia an open-ended analysis that allows us to be willing to find something surprising."
   ]
  },
  {
   "cell_type": "markdown",
   "id": "27a2e79b-f6e8-4196-890b-5a5e5ce4c304",
   "metadata": {
    "tags": []
   },
   "source": [
    "### 5.1 Plotting distributions for values in different columns\n"
   ]
  },
  {
   "cell_type": "markdown",
   "id": "2640a73e-c38b-4bf5-83c1-79f837b9ae63",
   "metadata": {},
   "source": [
    "Question using .mean() to find the mean of a column of an uncleaned dataset\n",
    "Indicate that this mean shouldn’t intuitively seem correct\n",
    "Why data cleaning is important \n",
    "Find data that are not suitable when using mean\n",
    "Try to clean the data to make the mean suitable: filter unwanted outliers\n"
   ]
  },
  {
   "cell_type": "code",
   "execution_count": 31,
   "id": "0d6b03a1-399e-4a7e-a4c1-a6517f426d77",
   "metadata": {},
   "outputs": [
    {
     "data": {
      "image/png": "[encoded data removed]",
      "text/plain": [
       "<Figure size 640x480 with 1 Axes>"
      ]
     },
     "metadata": {},
     "output_type": "display_data"
    }
   ],
   "source": [
    "scoregrouped = bus_data.to_df().groupby(['score']).size()\n",
    "plt.figure()\n",
    "plt.bar(scoregrouped.index, scoregrouped.values, edgecolor = 'black')\n",
    "plt.title('Distribution of Inspection Scores')\n",
    "plt.xlabel('Score');\n",
    "plt.ylabel('Count');"
   ]
  },
  {
   "cell_type": "code",
   "execution_count": 32,
   "id": "ba76cfdd-82ea-4e49-8445-2ed75ca1159a",
   "metadata": {},
   "outputs": [
    {
     "data": {
      "image/png": "[encoded data removed]",
      "text/plain": [
       "<Figure size 640x480 with 1 Axes>"
      ]
     },
     "metadata": {},
     "output_type": "display_data"
    }
   ],
   "source": [
    "sns.histplot(bus_data, x = 'score', bins = 20);"
   ]
  },
  {
   "cell_type": "markdown",
   "id": "6f55a1bd-299d-481c-9927-09d07e5ed109",
   "metadata": {
    "tags": []
   },
   "source": [
    "### 5.2 Data Exploration\n"
   ]
  },
  {
   "cell_type": "markdown",
   "id": "d9803217",
   "metadata": {},
   "source": [
    "**5.2.1 Using `.group`**"
   ]
  },
  {
   "cell_type": "markdown",
   "id": "cb1ee64c",
   "metadata": {},
   "source": [
    "What is the average score for each unique business id?"
   ]
  },
  {
   "cell_type": "code",
   "execution_count": 33,
   "id": "d9b25215",
   "metadata": {},
   "outputs": [
    {
     "data": {
      "text/html": [
       "<table border=\"1\" class=\"dataframe\">\n",
       "    <thead>\n",
       "        <tr>\n",
       "            <th>bid</th> <th>score mean</th>\n",
       "        </tr>\n",
       "    </thead>\n",
       "    <tbody>\n",
       "        <tr>\n",
       "            <td>19  </td> <td>95        </td>\n",
       "        </tr>\n",
       "        <tr>\n",
       "            <td>24  </td> <td>98        </td>\n",
       "        </tr>\n",
       "        <tr>\n",
       "            <td>31  </td> <td>95        </td>\n",
       "        </tr>\n",
       "        <tr>\n",
       "            <td>45  </td> <td>88.25     </td>\n",
       "        </tr>\n",
       "        <tr>\n",
       "            <td>48  </td> <td>90.5      </td>\n",
       "        </tr>\n",
       "        <tr>\n",
       "            <td>54  </td> <td>90.5      </td>\n",
       "        </tr>\n",
       "        <tr>\n",
       "            <td>58  </td> <td>75.6667   </td>\n",
       "        </tr>\n",
       "        <tr>\n",
       "            <td>61  </td> <td>95.3333   </td>\n",
       "        </tr>\n",
       "        <tr>\n",
       "            <td>66  </td> <td>97.3333   </td>\n",
       "        </tr>\n",
       "        <tr>\n",
       "            <td>73  </td> <td>86        </td>\n",
       "        </tr>\n",
       "    </tbody>\n",
       "</table>\n",
       "<p>... (5516 rows omitted)</p>"
      ],
      "text/plain": [
       "bid  | score mean\n",
       "19   | 95\n",
       "24   | 98\n",
       "31   | 95\n",
       "45   | 88.25\n",
       "48   | 90.5\n",
       "54   | 90.5\n",
       "58   | 75.6667\n",
       "61   | 95.3333\n",
       "66   | 97.3333\n",
       "73   | 86\n",
       "... (5516 rows omitted)"
      ]
     },
     "execution_count": 33,
     "metadata": {},
     "output_type": "execute_result"
    }
   ],
   "source": [
    "bus_data.group('bid', np.mean).select('bid', 'score mean')"
   ]
  },
  {
   "cell_type": "markdown",
   "id": "965cda39",
   "metadata": {},
   "source": [
    "**5.2.2 Mean socore**"
   ]
  },
  {
   "cell_type": "markdown",
   "id": "dc585613",
   "metadata": {},
   "source": [
    "What is the mean of the scores?"
   ]
  },
  {
   "cell_type": "code",
   "execution_count": 34,
   "id": "1ce56f40",
   "metadata": {},
   "outputs": [
    {
     "data": {
      "text/plain": [
       "90.5880366972477"
      ]
     },
     "execution_count": 34,
     "metadata": {},
     "output_type": "execute_result"
    }
   ],
   "source": [
    "np.mean(bus_data.column('score'))"
   ]
  },
  {
   "cell_type": "markdown",
   "id": "e59ecd1e",
   "metadata": {},
   "source": [
    "**5.2.3 Median score**"
   ]
  },
  {
   "cell_type": "code",
   "execution_count": 35,
   "id": "cf3250d8",
   "metadata": {},
   "outputs": [
    {
     "data": {
      "text/plain": [
       "92.0"
      ]
     },
     "execution_count": 35,
     "metadata": {},
     "output_type": "execute_result"
    }
   ],
   "source": [
    "np.median(bus_data.column('score'))"
   ]
  },
  {
   "cell_type": "markdown",
   "id": "e568b117",
   "metadata": {},
   "source": [
    "**5.2.4 Distribution of the score column**"
   ]
  },
  {
   "cell_type": "markdown",
   "id": "3c53e449-908e-4f6e-8422-816126d39a57",
   "metadata": {},
   "source": [
    "Explain more what .describe() does"
   ]
  },
  {
   "cell_type": "code",
   "execution_count": 36,
   "id": "f9853534",
   "metadata": {},
   "outputs": [
    {
     "data": {
      "text/plain": [
       "DescribeResult(nobs=13625, minmax=(45, 100), mean=90.5880366972477, variance=58.48566133159509, skewness=-1.0049349602871454, kurtosis=1.1746951455912606)"
      ]
     },
     "execution_count": 36,
     "metadata": {},
     "output_type": "execute_result"
    }
   ],
   "source": [
    "from scipy import stats\n",
    "stats.describe(bus_data.column('score'))"
   ]
  },
  {
   "cell_type": "markdown",
   "id": "efbcfb6e",
   "metadata": {},
   "source": [
    "**5.2.5 Filtering unwanted outliers**"
   ]
  },
  {
   "cell_type": "markdown",
   "id": "013a2fdc",
   "metadata": {},
   "source": [
    "It seems like there are some extremely small values in the dataset. We will filter out rows with scores below 60."
   ]
  },
  {
   "cell_type": "code",
   "execution_count": 37,
   "id": "337ef8b5",
   "metadata": {},
   "outputs": [
    {
     "data": {
      "text/html": [
       "<table border=\"1\" class=\"dataframe\">\n",
       "    <thead>\n",
       "        <tr>\n",
       "            <th>date</th> <th>score</th> <th>type</th> <th>bid</th> <th>timestamp</th> <th>name</th> <th>address</th> <th>city</th> <th>state</th> <th>postal_code</th> <th>latitude</th> <th>longitude</th> <th>is_valid_zip</th>\n",
       "        </tr>\n",
       "    </thead>\n",
       "    <tbody>\n",
       "        <tr>\n",
       "            <td>04/03/2019 12:00:00 AM</td> <td>100  </td> <td>Routine - Unscheduled</td> <td>100010</td> <td>2019-04-03 00:00:00</td> <td>ILLY CAFFE SF_PIER 39      </td> <td>PIER 39  K-106-B             </td> <td>San Francisco</td> <td>CA   </td> <td>94133      </td> <td>-9999   </td> <td>-9999    </td> <td>True        </td>\n",
       "        </tr>\n",
       "        <tr>\n",
       "            <td>08/16/2019 12:00:00 AM</td> <td>91   </td> <td>Routine - Unscheduled</td> <td>100017</td> <td>2019-08-16 00:00:00</td> <td>AMICI'S EAST COAST PIZZERIA</td> <td>475 06th St                  </td> <td>San Francisco</td> <td>CA   </td> <td>94103      </td> <td>-9999   </td> <td>-9999    </td> <td>True        </td>\n",
       "        </tr>\n",
       "        <tr>\n",
       "            <td>05/20/2019 12:00:00 AM</td> <td>83   </td> <td>Routine - Unscheduled</td> <td>100041</td> <td>2019-05-20 00:00:00</td> <td>UNCLE LEE CAFE             </td> <td>3608 BALBOA ST               </td> <td>San Francisco</td> <td>CA   </td> <td>94121      </td> <td>-9999   </td> <td>-9999    </td> <td>True        </td>\n",
       "        </tr>\n",
       "        <tr>\n",
       "            <td>04/25/2019 12:00:00 AM</td> <td>98   </td> <td>Routine - Unscheduled</td> <td>100055</td> <td>2019-04-25 00:00:00</td> <td>Twirl and Dip              </td> <td>335 Martin Luther King Jr. Dr</td> <td>San Francisco</td> <td>CA   </td> <td>94118      </td> <td>-9999   </td> <td>-9999    </td> <td>True        </td>\n",
       "        </tr>\n",
       "        <tr>\n",
       "            <td>09/12/2019 12:00:00 AM</td> <td>82   </td> <td>Routine - Unscheduled</td> <td>100055</td> <td>2019-09-12 00:00:00</td> <td>Twirl and Dip              </td> <td>335 Martin Luther King Jr. Dr</td> <td>San Francisco</td> <td>CA   </td> <td>94118      </td> <td>-9999   </td> <td>-9999    </td> <td>True        </td>\n",
       "        </tr>\n",
       "        <tr>\n",
       "            <td>08/16/2019 12:00:00 AM</td> <td>89   </td> <td>Routine - Unscheduled</td> <td>100058</td> <td>2019-08-16 00:00:00</td> <td>SF PITA HUB                </td> <td>475 06TH ST                  </td> <td>San Francisco</td> <td>CA   </td> <td>94103      </td> <td>-9999   </td> <td>-9999    </td> <td>True        </td>\n",
       "        </tr>\n",
       "        <tr>\n",
       "            <td>08/15/2019 12:00:00 AM</td> <td>76   </td> <td>Routine - Unscheduled</td> <td>100059</td> <td>2019-08-15 00:00:00</td> <td>DUMPLING ALLEY             </td> <td>2512 CLEMENT ST              </td> <td>San Francisco</td> <td>CA   </td> <td>94121      </td> <td>-9999   </td> <td>-9999    </td> <td>True        </td>\n",
       "        </tr>\n",
       "        <tr>\n",
       "            <td>09/06/2019 12:00:00 AM</td> <td>100  </td> <td>Routine - Unscheduled</td> <td>100069</td> <td>2019-09-06 00:00:00</td> <td>Mission Blue               </td> <td>144 Leland Ave               </td> <td>San Francisco</td> <td>CA   </td> <td>94134      </td> <td>-9999   </td> <td>-9999    </td> <td>True        </td>\n",
       "        </tr>\n",
       "        <tr>\n",
       "            <td>03/26/2019 12:00:00 AM</td> <td>89   </td> <td>Routine - Unscheduled</td> <td>100072</td> <td>2019-03-26 00:00:00</td> <td>SUBWAY SANDWICHES #7307    </td> <td>2375 MARKET ST               </td> <td>San Francisco</td> <td>CA   </td> <td>94114      </td> <td>-9999   </td> <td>-9999    </td> <td>True        </td>\n",
       "        </tr>\n",
       "        <tr>\n",
       "            <td>08/27/2019 12:00:00 AM</td> <td>98   </td> <td>Routine - Unscheduled</td> <td>100079</td> <td>2019-08-27 00:00:00</td> <td>POSITIVE FOODS             </td> <td>475 06TH ST                  </td> <td>San Francisco</td> <td>CA   </td> <td>94103      </td> <td>-9999   </td> <td>-9999    </td> <td>True        </td>\n",
       "        </tr>\n",
       "    </tbody>\n",
       "</table>\n",
       "<p>... (13594 rows omitted)</p>"
      ],
      "text/plain": [
       "<IPython.core.display.HTML object>"
      ]
     },
     "metadata": {},
     "output_type": "display_data"
    }
   ],
   "source": [
    "bus_data = bus_data.where('score', are.above_or_equal_to(60))\n",
    "bus_data.show(10)"
   ]
  },
  {
   "cell_type": "markdown",
   "id": "c50279a2-2868-44c1-98ac-8fdb20529291",
   "metadata": {
    "tags": []
   },
   "source": [
    "### 5.3 Your Turn: Analyze the Data\n"
   ]
  },
  {
   "cell_type": "markdown",
   "id": "d8a5985d-675d-4bdb-bc27-dcd4c2452fe5",
   "metadata": {},
   "source": [
    "We will provide an example here, then you will repeat the process two times below. Look back at your **hypothesis** to see what variables/columns you will want to focus on analyzing."
   ]
  },
  {
   "cell_type": "markdown",
   "id": "fa178a40-160e-4eb4-af01-ad0c52f54839",
   "metadata": {},
   "source": [
    "Question"
   ]
  },
  {
   "cell_type": "code",
   "execution_count": 38,
   "id": "997b90a4-8242-4a24-9604-49e92fd2343d",
   "metadata": {},
   "outputs": [],
   "source": [
    "#code to answer"
   ]
  },
  {
   "cell_type": "markdown",
   "id": "4b9e4c31-88b8-46ef-8499-76a033675a6f",
   "metadata": {},
   "source": [
    "#### Write your 1st analysis question here. (double-click to edit)"
   ]
  },
  {
   "cell_type": "code",
   "execution_count": 39,
   "id": "45587869-bffd-4708-b7f1-839b0add11f6",
   "metadata": {
    "tags": []
   },
   "outputs": [],
   "source": [
    "# Use this cell to code the answer to your question"
   ]
  },
  {
   "cell_type": "markdown",
   "id": "be08b9c6-9034-4652-8c2b-8d6d17f50f97",
   "metadata": {},
   "source": [
    "#### Write your 2nd analysis question here. (double-click to edit)"
   ]
  },
  {
   "cell_type": "code",
   "execution_count": 40,
   "id": "bb47a91a-a0ca-4081-a8d0-a3696a4e4a86",
   "metadata": {
    "tags": []
   },
   "outputs": [],
   "source": [
    "# Use this cell to code the answer to your question"
   ]
  },
  {
   "cell_type": "markdown",
   "id": "0f61d16b",
   "metadata": {
    "tags": []
   },
   "source": [
    "<br><br>\n",
    "# 6. Conclusion <a id='5'></a>"
   ]
  },
  {
   "cell_type": "markdown",
   "id": "d729145b-4f20-4ddd-9c03-47912c753663",
   "metadata": {},
   "source": [
    "**Validating the Data**"
   ]
  },
  {
   "cell_type": "markdown",
   "id": "30ed5887-2a91-484e-ac1d-c6062a4db6d3",
   "metadata": {},
   "source": [
    "<font color = #d14d0f>**QUESTION __**:</font> **Does the data align with your expectations?**"
   ]
  },
  {
   "cell_type": "markdown",
   "id": "6fe21a6f-f352-45fd-915b-f9c3d570ae1b",
   "metadata": {},
   "source": [
    "*REPLACE THIS TEXT WITH YOUR RESPONSE. DOUBLE CLICK THIS CELL, TYPE YOUR RESPONSE, AND RUN THE CELL TO SAVE AND DISPLAY YOUR RESPONSE.*"
   ]
  },
  {
   "cell_type": "markdown",
   "id": "333e239e-d6f5-4c90-9f21-212399ca7a2e",
   "metadata": {},
   "source": [
    "<font color = #d14d0f>**QUESTION __**:</font> **Does the data prove or disprove your hypothesis? Does it bring you any insight?**"
   ]
  },
  {
   "cell_type": "markdown",
   "id": "4391e2ea-bf41-4b6b-bc93-b5d18e6d6020",
   "metadata": {},
   "source": [
    "*REPLACE THIS TEXT WITH YOUR RESPONSE. DOUBLE CLICK THIS CELL, TYPE YOUR RESPONSE, AND RUN THE CELL TO SAVE AND DISPLAY YOUR RESPONSE.*"
   ]
  },
  {
   "cell_type": "markdown",
   "id": "c0578702-8b51-4778-b891-4ff34229ca9d",
   "metadata": {},
   "source": [
    "<font color = #d14d0f>**QUESTION __**:</font> **Did you find another trend that can help you formulate another hypothesis?**"
   ]
  },
  {
   "cell_type": "markdown",
   "id": "99d00cad-fc6f-47f0-b391-09ecaa0bd4a1",
   "metadata": {},
   "source": [
    "*REPLACE THIS TEXT WITH YOUR RESPONSE. DOUBLE CLICK THIS CELL, TYPE YOUR RESPONSE, AND RUN THE CELL TO SAVE AND DISPLAY YOUR RESPONSE.*"
   ]
  },
  {
   "cell_type": "markdown",
   "id": "633a32f0",
   "metadata": {},
   "source": [
    "### Sample Discussion Question: \n",
    "**Another Sample Question Here?**"
   ]
  },
  {
   "cell_type": "markdown",
   "id": "dc6c949c",
   "metadata": {},
   "source": [
    "REPLACE THIS TEXT WITH YOUR RESPONSE. DOUBLE CLICK THIS CELL, TYPE YOUR RESPONSE, AND RUN THE CELL TO SAVE AND DISPLAY YOUR RESPONSE."
   ]
  },
  {
   "cell_type": "code",
   "execution_count": 41,
   "id": "3d0d3e32",
   "metadata": {},
   "outputs": [],
   "source": [
    "# Sample Bonus Challenge code goes here"
   ]
  },
  {
   "cell_type": "markdown",
   "id": "20adda58",
   "metadata": {},
   "source": [
    "<br><br>\n",
    "# 7. Submitting Your Work  <a id='=6'></a>\n",
    "\n",
    "**@Devs ignore this section for now I will work on this -Skye**\n",
    "\n",
    "If an instructor requires a PDF output for students based on their text Markdown Responses, we typically use the Otter package (developed here at Berkeley) to extract the student responses. To do this you can follow the instructions on this document: [How To Otter](https://docs.google.com/document/d/1Rl735LKpD_5gs6dUa8xJTILa510JeatIDB_M_FNRDow/edit?usp=sharing). Below is a sample code and markdown instructions we use to guide students to extract the text content from their notebook:"
   ]
  },
  {
   "cell_type": "markdown",
   "id": "fc6ed83d",
   "metadata": {},
   "source": [
    "**Make sure that you've answered all the questions.**\n",
    "\n",
    "You are now finished with this notebook!\n",
    "\n",
    "> Please run the following cell to generate a download link for your responses and submit to Bcourses!\n",
    "\n",
    "**Note:** If clicking the link below doesn't work for you, don't worry! Simply right click and choose `Save Link As...` to save a copy of your pdf onto your computer.\n",
    "\n",
    "**Note:** If you made any changes to your responses and/or they are not reflected in your PDF, make sure to re-run all the cells. You can do this by going to the top and clicking `Cell >> Run All` and download your new PDF.\n",
    "\n",
    "**Check the PDF before submitting and make sure all of your answers and any changes are shown.**"
   ]
  },
  {
   "cell_type": "code",
   "execution_count": 42,
   "id": "adf7e731",
   "metadata": {},
   "outputs": [
    {
     "ename": "FileNotFoundError",
     "evalue": "[Errno 2] No such file or directory: 'Notebook1.ipynb'",
     "output_type": "error",
     "traceback": [
      "\u001b[0;31m---------------------------------------------------------------------------\u001b[0m",
      "\u001b[0;31mFileNotFoundError\u001b[0m                         Traceback (most recent call last)",
      "Cell \u001b[0;32mIn [42], line 4\u001b[0m\n\u001b[1;32m      2\u001b[0m \u001b[38;5;28;01mfrom\u001b[39;00m \u001b[38;5;21;01motter\u001b[39;00m\u001b[38;5;21;01m.\u001b[39;00m\u001b[38;5;21;01mexport\u001b[39;00m \u001b[38;5;28;01mimport\u001b[39;00m export_notebook\n\u001b[1;32m      3\u001b[0m \u001b[38;5;28;01mfrom\u001b[39;00m \u001b[38;5;21;01mIPython\u001b[39;00m\u001b[38;5;21;01m.\u001b[39;00m\u001b[38;5;21;01mdisplay\u001b[39;00m \u001b[38;5;28;01mimport\u001b[39;00m display, HTML\n\u001b[0;32m----> 4\u001b[0m \u001b[43mexport_notebook\u001b[49m\u001b[43m(\u001b[49m\u001b[38;5;124;43m\"\u001b[39;49m\u001b[38;5;124;43mNotebook1.ipynb\u001b[39;49m\u001b[38;5;124;43m\"\u001b[39;49m\u001b[43m,\u001b[49m\u001b[43m \u001b[49m\u001b[43mfiltering\u001b[49m\u001b[38;5;241;43m=\u001b[39;49m\u001b[38;5;28;43;01mTrue\u001b[39;49;00m\u001b[43m,\u001b[49m\u001b[43m \u001b[49m\u001b[43mpagebreaks\u001b[49m\u001b[38;5;241;43m=\u001b[39;49m\u001b[38;5;28;43;01mFalse\u001b[39;49;00m\u001b[43m)\u001b[49m\n\u001b[1;32m      5\u001b[0m display(HTML(\u001b[38;5;124m\"\u001b[39m\u001b[38;5;124m<p style=\u001b[39m\u001b[38;5;124m'\u001b[39m\u001b[38;5;124mfont-size:20px\u001b[39m\u001b[38;5;124m'\u001b[39m\u001b[38;5;124m> <br>Save this notebook, then click <a href=\u001b[39m\u001b[38;5;124m'\u001b[39m\u001b[38;5;124mNotebook1.pdf\u001b[39m\u001b[38;5;124m'\u001b[39m\u001b[38;5;124m download>here</a> to open the pdf.<br></p>\u001b[39m\u001b[38;5;124m\"\u001b[39m))\n",
      "File \u001b[0;32m/opt/conda/lib/python3.9/site-packages/otter/export/__init__.py:33\u001b[0m, in \u001b[0;36mexport_notebook\u001b[0;34m(nb_path, dest, debug, exporter_type, **kwargs)\u001b[0m\n\u001b[1;32m     31\u001b[0m \u001b[38;5;66;03m# notebook_to_pdf(notebook, pdf_name, save_tex=save_tex, debug=debug)\u001b[39;00m\n\u001b[1;32m     32\u001b[0m Exporter \u001b[38;5;241m=\u001b[39m get_exporter(exporter_type\u001b[38;5;241m=\u001b[39mexporter_type)\n\u001b[0;32m---> 33\u001b[0m \u001b[43mExporter\u001b[49m\u001b[38;5;241;43m.\u001b[39;49m\u001b[43mconvert_notebook\u001b[49m\u001b[43m(\u001b[49m\u001b[43mnb_path\u001b[49m\u001b[43m,\u001b[49m\u001b[43m \u001b[49m\u001b[43mpdf_name\u001b[49m\u001b[43m,\u001b[49m\u001b[43m \u001b[49m\u001b[43mdebug\u001b[49m\u001b[38;5;241;43m=\u001b[39;49m\u001b[43mdebug\u001b[49m\u001b[43m,\u001b[49m\u001b[43m \u001b[49m\u001b[38;5;241;43m*\u001b[39;49m\u001b[38;5;241;43m*\u001b[39;49m\u001b[43mkwargs\u001b[49m\u001b[43m)\u001b[49m\n",
      "File \u001b[0;32m/opt/conda/lib/python3.9/site-packages/otter/export/exporters/via_latex.py:38\u001b[0m, in \u001b[0;36mPDFViaLatexExporter.convert_notebook\u001b[0;34m(cls, nb_path, dest, debug, **kwargs)\u001b[0m\n\u001b[1;32m     35\u001b[0m options \u001b[38;5;241m=\u001b[39m \u001b[38;5;28mcls\u001b[39m\u001b[38;5;241m.\u001b[39mdefault_options\u001b[38;5;241m.\u001b[39mcopy()\n\u001b[1;32m     36\u001b[0m options\u001b[38;5;241m.\u001b[39mupdate(kwargs)\n\u001b[0;32m---> 38\u001b[0m nb \u001b[38;5;241m=\u001b[39m \u001b[38;5;28;43mcls\u001b[39;49m\u001b[38;5;241;43m.\u001b[39;49m\u001b[43mload_notebook\u001b[49m\u001b[43m(\u001b[49m\u001b[43mnb_path\u001b[49m\u001b[43m,\u001b[49m\u001b[43m \u001b[49m\u001b[43mfiltering\u001b[49m\u001b[38;5;241;43m=\u001b[39;49m\u001b[43moptions\u001b[49m\u001b[43m[\u001b[49m\u001b[38;5;124;43m\"\u001b[39;49m\u001b[38;5;124;43mfiltering\u001b[39;49m\u001b[38;5;124;43m\"\u001b[39;49m\u001b[43m]\u001b[49m\u001b[43m,\u001b[49m\u001b[43m \u001b[49m\u001b[43mpagebreaks\u001b[49m\u001b[38;5;241;43m=\u001b[39;49m\u001b[43moptions\u001b[49m\u001b[43m[\u001b[49m\u001b[38;5;124;43m\"\u001b[39;49m\u001b[38;5;124;43mpagebreaks\u001b[39;49m\u001b[38;5;124;43m\"\u001b[39;49m\u001b[43m]\u001b[49m\u001b[43m)\u001b[49m\n\u001b[1;32m     40\u001b[0m \u001b[38;5;28;01mif\u001b[39;00m NBCONVERT_6:\n\u001b[1;32m     41\u001b[0m     nbconvert\u001b[38;5;241m.\u001b[39mTemplateExporter\u001b[38;5;241m.\u001b[39mextra_template_basedirs \u001b[38;5;241m=\u001b[39m [TEMPLATE_DIR]\n",
      "File \u001b[0;32m/opt/conda/lib/python3.9/site-packages/otter/export/exporters/base_exporter.py:68\u001b[0m, in \u001b[0;36mBaseExporter.load_notebook\u001b[0;34m(cls, nb_path, filtering, pagebreaks)\u001b[0m\n\u001b[1;32m     53\u001b[0m \u001b[38;5;129m@classmethod\u001b[39m\n\u001b[1;32m     54\u001b[0m \u001b[38;5;28;01mdef\u001b[39;00m \u001b[38;5;21mload_notebook\u001b[39m(\u001b[38;5;28mcls\u001b[39m, nb_path, filtering\u001b[38;5;241m=\u001b[39m\u001b[38;5;28;01mFalse\u001b[39;00m, pagebreaks\u001b[38;5;241m=\u001b[39m\u001b[38;5;28;01mTrue\u001b[39;00m):\n\u001b[1;32m     55\u001b[0m     \u001b[38;5;124;03m\"\"\"\u001b[39;00m\n\u001b[1;32m     56\u001b[0m \u001b[38;5;124;03m    Loads notebook at ``nb_path`` with nbformat and returns the parsed notebook, optionally filtered\u001b[39;00m\n\u001b[1;32m     57\u001b[0m \u001b[38;5;124;03m    and with pagebreak metadata hidden in HTML comments.\u001b[39;00m\n\u001b[0;32m   (...)\u001b[0m\n\u001b[1;32m     66\u001b[0m \u001b[38;5;124;03m        ``nbformat.NotebookNode``: the parsed and (optionally) filtered notebook\u001b[39;00m\n\u001b[1;32m     67\u001b[0m \u001b[38;5;124;03m    \"\"\"\u001b[39;00m\n\u001b[0;32m---> 68\u001b[0m     \u001b[38;5;28;01mwith\u001b[39;00m \u001b[38;5;28;43mopen\u001b[39;49m\u001b[43m(\u001b[49m\u001b[43mnb_path\u001b[49m\u001b[43m)\u001b[49m \u001b[38;5;28;01mas\u001b[39;00m f:\n\u001b[1;32m     69\u001b[0m         notebook \u001b[38;5;241m=\u001b[39m nbformat\u001b[38;5;241m.\u001b[39mread(f, as_version\u001b[38;5;241m=\u001b[39mNBFORMAT_VERSION)\n\u001b[1;32m     70\u001b[0m     \u001b[38;5;28;01mif\u001b[39;00m filtering:\n",
      "\u001b[0;31mFileNotFoundError\u001b[0m: [Errno 2] No such file or directory: 'Notebook1.ipynb'"
     ]
    }
   ],
   "source": [
    "#This may take a few extra seconds.\n",
    "from otter.export import export_notebook\n",
    "from IPython.display import display, HTML\n",
    "export_notebook(\"Notebook1.ipynb\", filtering=True, pagebreaks=False)\n",
    "display(HTML(\"<p style='font-size:20px'> <br>Save this notebook, then click <a href='Notebook1.pdf' download>here</a> to open the pdf.<br></p>\"))"
   ]
  },
  {
   "cell_type": "markdown",
   "id": "bc4f0907",
   "metadata": {},
   "source": [
    "<br><br>\n",
    "# 8. Explore Data Science Opportunities  <a id='7'></a>\n",
    "\n",
    "Interested in learning more about how to get involved in data science or learn about data science applications in your field of study? The following resources might help support your learning:\n",
    "\n",
    "---\n",
    "\n",
    "- Data Science Modules: http://data.berkeley.edu/education/modules\n",
    "\n",
    "- Data Science Offerings at Berkeley: https://data.berkeley.edu/academics/undergraduate-programs/data-science-offerings\n",
    "\n",
    "- Data 8 Course Information: http://data8.org/\n",
    "\n",
    "- Data 100 Course Information: https://ds100.org/\n"
   ]
  },
  {
   "cell_type": "markdown",
   "id": "3938db15",
   "metadata": {},
   "source": [
    "# 9. Feedback Form  <a id='8'></a>\n",
    "\n",
    "<div class=\"alert alert-info\">\n",
    "<b> We encourage students to fill out the following feedback form to share your experience with this Module notebook. This feedback form will take no longer than 5 minutes. At UC Berkeley Data Science Undergraduate Studies Modules, we appreciate all feedback to improve the learning of students and experience utilizing Jupyter Notebooks for Data Science Education: </b> \n",
    "</div>\n",
    "\n",
    "# [UC Berkeley Data Science Feedback Form](https://forms.gle/hipxf2uFw5Ud4Hyn8)"
   ]
  }
 ],
 "metadata": {
  "kernelspec": {
   "display_name": "Python 3 (ipykernel)",
   "language": "python",
   "name": "python3"
  },
  "language_info": {
   "codemirror_mode": {
    "name": "ipython",
    "version": 3
   },
   "file_extension": ".py",
   "mimetype": "text/x-python",
   "name": "python",
   "nbconvert_exporter": "python",
   "pygments_lexer": "ipython3",
   "version": "3.9.13"
  }
 },
 "nbformat": 4,
 "nbformat_minor": 5
}
