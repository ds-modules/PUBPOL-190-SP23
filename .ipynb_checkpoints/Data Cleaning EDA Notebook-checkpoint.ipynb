{
 "cells": [
  {
   "cell_type": "markdown",
   "id": "0a6f3cbb",
   "metadata": {},
   "source": [
    "# [Public Policy 190] Data Cleaning EDA Notebook\n",
    "\n",
    "<br>\n",
    "\n",
    "**Estimated Time:** __ minutes <br>\n",
    "**Notebook Developed By:** Skye Pickett, Leah Hong, Emily Guo, Reynolds Zhang <br>\n",
    "\n",
    "Paragraph summary of what they will be learning, what our data is about, what concepts / tools using. This notebook uses Python (coding language) and Pandas (a Python library).\n",
    "\n",
    "### Learning Outcomes\n",
    "\n",
    "In this notebook, you will learn about:\n",
    "- Learning Objective #1\n",
    "- Learning Objective #2\n",
    "- Learning Objective #3\n",
    "- Learning Objective #4\n",
    "- etc...\n",
    "\n",
    "### Table of Contents\n",
    "1. [Introduction to Data Cleaning](#0) <br>\n",
    "1. [Data Cleaning Techniques](#1) <br>\n",
    "1. [Introduction to the Dataset](#2) <br>\n",
    "1. [Cleaning the Dataset](#3)<br>\n",
    "1. [Exploratory Data Analysis](#4) <br>\n",
    "1. [Conclusion](#5) <br>\n",
    "1. [Submitting Your Work](#6)<br>\n",
    "1. [Explore Data Science Opportunities](#7)<br>\n",
    "1. [Feedback Form](#8)<br>\n",
    "\n",
    "-------------------------------------------------------------------"
   ]
  },
  {
   "cell_type": "markdown",
   "id": "9547d777",
   "metadata": {},
   "source": [
    "<br>\n",
    "\n",
    "# 1. Introduction to Data Cleaning <a id='0'></a>"
   ]
  },
  {
   "cell_type": "markdown",
   "id": "cf93e742-ffb7-446b-af89-75bedbada785",
   "metadata": {},
   "source": [
    "First, let's import all the necessary packages so we can use their tools in the rest of the notebook. Run the cell below."
   ]
  },
  {
   "cell_type": "code",
   "execution_count": 29,
   "id": "459e1975-ea27-42bb-87ab-8fdf35655c95",
   "metadata": {},
   "outputs": [
    {
     "name": "stdout",
     "output_type": "stream",
     "text": [
      "All necessary packages have been imported!\n"
     ]
    }
   ],
   "source": [
    "# Run this cell\n",
    "import numpy as np\n",
    "import pandas as pd\n",
    "import folium\n",
    "import ipywidgets as widgets\n",
    "from IPython.display import display, HTML\n",
    "from otter import Notebook\n",
    "import datascience\n",
    "import matplotlib.pyplot as plt\n",
    "%matplotlib inline\n",
    "plt.style.use('fivethirtyeight')\n",
    "import seaborn as sns\n",
    "print(\"All necessary packages have been imported!\")"
   ]
  },
  {
   "cell_type": "markdown",
   "id": "9b6eb38d-78e9-47e7-a748-33d248d9f922",
   "metadata": {
    "tags": []
   },
   "source": [
    "### 1.1 What is Data Cleaning?"
   ]
  },
  {
   "cell_type": "markdown",
   "id": "8d7d6ad8-5f4b-4fd9-8a0a-c54116c0bbb4",
   "metadata": {},
   "source": [
    "We will examine the process of data cleaning and Exploratory Data Analysis (EDA) in this notebook. First, we will focus on data cleaning where you will be given a collection of data to conduct some analysis on or answer questions about. The first step is to make sure that the data is clean and ready and that you understand its properties/limitations through EDA. \n",
    "\n",
    "Data cleaning is the process of transforming raw data to facilitate subsequent analysis and often addresses the issues inside of a dataset. Through the process, we focus on the structure/format of the dataset, missing or corrupted values, unit conversion, or encoding text as numbers."
   ]
  },
  {
   "cell_type": "markdown",
   "id": "8e3d2cd2-05a3-4c20-a3ed-816af1e02a4f",
   "metadata": {},
   "source": [
    "#### Example"
   ]
  },
  {
   "cell_type": "markdown",
   "id": "8684dd84-f7b1-4f9f-9f5f-b437bce997ba",
   "metadata": {},
   "source": [
    "<img src=\"Data/dirty_dataset.png\" alt=\"Dirty Dataset\"/>"
   ]
  },
  {
   "cell_type": "code",
   "execution_count": 30,
   "id": "1a672fd3",
   "metadata": {},
   "outputs": [
    {
     "data": {
      "text/html": [
       "<div>\n",
       "<style scoped>\n",
       "    .dataframe tbody tr th:only-of-type {\n",
       "        vertical-align: middle;\n",
       "    }\n",
       "\n",
       "    .dataframe tbody tr th {\n",
       "        vertical-align: top;\n",
       "    }\n",
       "\n",
       "    .dataframe thead th {\n",
       "        text-align: right;\n",
       "    }\n",
       "</style>\n",
       "<table border=\"1\" class=\"dataframe\">\n",
       "  <thead>\n",
       "    <tr style=\"text-align: right;\">\n",
       "      <th></th>\n",
       "      <th>Candidate</th>\n",
       "      <th>Party</th>\n",
       "      <th>%</th>\n",
       "      <th>Year</th>\n",
       "      <th>Result</th>\n",
       "    </tr>\n",
       "  </thead>\n",
       "  <tbody>\n",
       "    <tr>\n",
       "      <th>0</th>\n",
       "      <td>Reagan</td>\n",
       "      <td>Republican</td>\n",
       "      <td>50.7</td>\n",
       "      <td>1980</td>\n",
       "      <td>win</td>\n",
       "    </tr>\n",
       "    <tr>\n",
       "      <th>1</th>\n",
       "      <td>Carter</td>\n",
       "      <td>Democratic</td>\n",
       "      <td>41.0</td>\n",
       "      <td>1980</td>\n",
       "      <td>loss</td>\n",
       "    </tr>\n",
       "    <tr>\n",
       "      <th>2</th>\n",
       "      <td>Anderson</td>\n",
       "      <td>Independent</td>\n",
       "      <td>6.6</td>\n",
       "      <td>1980</td>\n",
       "      <td>loss</td>\n",
       "    </tr>\n",
       "    <tr>\n",
       "      <th>3</th>\n",
       "      <td>Reagan</td>\n",
       "      <td>Republican</td>\n",
       "      <td>58.8</td>\n",
       "      <td>1984</td>\n",
       "      <td>win</td>\n",
       "    </tr>\n",
       "    <tr>\n",
       "      <th>4</th>\n",
       "      <td>Mondale</td>\n",
       "      <td>Democratic</td>\n",
       "      <td>37.6</td>\n",
       "      <td>1984</td>\n",
       "      <td>loss</td>\n",
       "    </tr>\n",
       "    <tr>\n",
       "      <th>5</th>\n",
       "      <td>Bush</td>\n",
       "      <td>Republican</td>\n",
       "      <td>53.4</td>\n",
       "      <td>1988</td>\n",
       "      <td>win</td>\n",
       "    </tr>\n",
       "    <tr>\n",
       "      <th>6</th>\n",
       "      <td>Dukakis</td>\n",
       "      <td>Democratic</td>\n",
       "      <td>45.6</td>\n",
       "      <td>1988</td>\n",
       "      <td>loss</td>\n",
       "    </tr>\n",
       "    <tr>\n",
       "      <th>7</th>\n",
       "      <td>Clinton</td>\n",
       "      <td>Democratic</td>\n",
       "      <td>43.0</td>\n",
       "      <td>1992</td>\n",
       "      <td>win</td>\n",
       "    </tr>\n",
       "    <tr>\n",
       "      <th>8</th>\n",
       "      <td>Bush</td>\n",
       "      <td>Republican</td>\n",
       "      <td>37.4</td>\n",
       "      <td>1992</td>\n",
       "      <td>loss</td>\n",
       "    </tr>\n",
       "    <tr>\n",
       "      <th>9</th>\n",
       "      <td>Perot</td>\n",
       "      <td>Independent</td>\n",
       "      <td>18.9</td>\n",
       "      <td>1992</td>\n",
       "      <td>loss</td>\n",
       "    </tr>\n",
       "  </tbody>\n",
       "</table>\n",
       "</div>"
      ],
      "text/plain": [
       "  Candidate        Party     %  Year Result\n",
       "0    Reagan   Republican  50.7  1980    win\n",
       "1    Carter   Democratic  41.0  1980   loss\n",
       "2  Anderson  Independent   6.6  1980   loss\n",
       "3    Reagan   Republican  58.8  1984    win\n",
       "4   Mondale   Democratic  37.6  1984   loss\n",
       "5      Bush   Republican  53.4  1988    win\n",
       "6   Dukakis   Democratic  45.6  1988   loss\n",
       "7   Clinton   Democratic  43.0  1992    win\n",
       "8      Bush   Republican  37.4  1992   loss\n",
       "9     Perot  Independent  18.9  1992   loss"
      ]
     },
     "execution_count": 30,
     "metadata": {},
     "output_type": "execute_result"
    }
   ],
   "source": [
    "# an example of a clean dataset \n",
    "\n",
    "elections = pd.read_csv(\"elections.csv\")\n",
    "elections.head(10)"
   ]
  },
  {
   "cell_type": "code",
   "execution_count": 31,
   "id": "d2dcf5d6",
   "metadata": {},
   "outputs": [
    {
     "data": {
      "text/html": [
       "<div>\n",
       "<style scoped>\n",
       "    .dataframe tbody tr th:only-of-type {\n",
       "        vertical-align: middle;\n",
       "    }\n",
       "\n",
       "    .dataframe tbody tr th {\n",
       "        vertical-align: top;\n",
       "    }\n",
       "\n",
       "    .dataframe thead th {\n",
       "        text-align: right;\n",
       "    }\n",
       "</style>\n",
       "<table border=\"1\" class=\"dataframe\">\n",
       "  <thead>\n",
       "    <tr style=\"text-align: right;\">\n",
       "      <th></th>\n",
       "      <th>CASENO</th>\n",
       "      <th>OFFENSE</th>\n",
       "      <th>EVENTDT</th>\n",
       "      <th>EVENTTM</th>\n",
       "      <th>CVLEGEND</th>\n",
       "      <th>CVDOW</th>\n",
       "      <th>InDbDate</th>\n",
       "      <th>Block_Location</th>\n",
       "      <th>BLKADDR</th>\n",
       "      <th>City</th>\n",
       "      <th>State</th>\n",
       "    </tr>\n",
       "  </thead>\n",
       "  <tbody>\n",
       "    <tr>\n",
       "      <th>0</th>\n",
       "      <td>18022300</td>\n",
       "      <td>DISTURBANCE</td>\n",
       "      <td>04/18/2018 12:00:00 AM</td>\n",
       "      <td>22:17</td>\n",
       "      <td>DISORDERLY CONDUCT</td>\n",
       "      <td>3</td>\n",
       "      <td>09/06/2018 03:30:12 AM</td>\n",
       "      <td>OREGON STREET &amp;amp; MCGEE AVE\\nBerkeley, CA\\n(...</td>\n",
       "      <td>OREGON STREET &amp; MCGEE AVE</td>\n",
       "      <td>Berkeley</td>\n",
       "      <td>CA</td>\n",
       "    </tr>\n",
       "    <tr>\n",
       "      <th>1</th>\n",
       "      <td>18026683</td>\n",
       "      <td>THEFT MISD. (UNDER $950)</td>\n",
       "      <td>05/09/2018 12:00:00 AM</td>\n",
       "      <td>21:25</td>\n",
       "      <td>LARCENY</td>\n",
       "      <td>3</td>\n",
       "      <td>09/06/2018 03:30:13 AM</td>\n",
       "      <td>200 UNIVERSITY AVE\\nBerkeley, CA\\n(37.865511, ...</td>\n",
       "      <td>200 UNIVERSITY AVE</td>\n",
       "      <td>Berkeley</td>\n",
       "      <td>CA</td>\n",
       "    </tr>\n",
       "    <tr>\n",
       "      <th>2</th>\n",
       "      <td>18038550</td>\n",
       "      <td>THEFT MISD. (UNDER $950)</td>\n",
       "      <td>05/18/2018 12:00:00 AM</td>\n",
       "      <td>20:00</td>\n",
       "      <td>LARCENY</td>\n",
       "      <td>5</td>\n",
       "      <td>09/06/2018 03:30:09 AM</td>\n",
       "      <td>2200 MILVIA ST\\nBerkeley, CA\\n(37.868574, -122...</td>\n",
       "      <td>2200 MILVIA ST</td>\n",
       "      <td>Berkeley</td>\n",
       "      <td>CA</td>\n",
       "    </tr>\n",
       "    <tr>\n",
       "      <th>3</th>\n",
       "      <td>18014810</td>\n",
       "      <td>BURGLARY AUTO</td>\n",
       "      <td>03/13/2018 12:00:00 AM</td>\n",
       "      <td>08:50</td>\n",
       "      <td>BURGLARY - VEHICLE</td>\n",
       "      <td>2</td>\n",
       "      <td>09/06/2018 03:30:08 AM</td>\n",
       "      <td>1200 SIXTH ST\\nBerkeley, CA\\n(37.881142, -122....</td>\n",
       "      <td>1200 SIXTH ST</td>\n",
       "      <td>Berkeley</td>\n",
       "      <td>CA</td>\n",
       "    </tr>\n",
       "    <tr>\n",
       "      <th>4</th>\n",
       "      <td>18018643</td>\n",
       "      <td>ALCOHOL OFFENSE</td>\n",
       "      <td>03/31/2018 12:00:00 AM</td>\n",
       "      <td>13:29</td>\n",
       "      <td>LIQUOR LAW VIOLATION</td>\n",
       "      <td>6</td>\n",
       "      <td>09/06/2018 03:30:11 AM</td>\n",
       "      <td>CENTER STREET &amp;amp; SHATTUCK AVE\\nBerkeley, CA...</td>\n",
       "      <td>CENTER STREET &amp; SHATTUCK AVE</td>\n",
       "      <td>Berkeley</td>\n",
       "      <td>CA</td>\n",
       "    </tr>\n",
       "  </tbody>\n",
       "</table>\n",
       "</div>"
      ],
      "text/plain": [
       "     CASENO                   OFFENSE                 EVENTDT EVENTTM  \\\n",
       "0  18022300               DISTURBANCE  04/18/2018 12:00:00 AM   22:17   \n",
       "1  18026683  THEFT MISD. (UNDER $950)  05/09/2018 12:00:00 AM   21:25   \n",
       "2  18038550  THEFT MISD. (UNDER $950)  05/18/2018 12:00:00 AM   20:00   \n",
       "3  18014810             BURGLARY AUTO  03/13/2018 12:00:00 AM   08:50   \n",
       "4  18018643           ALCOHOL OFFENSE  03/31/2018 12:00:00 AM   13:29   \n",
       "\n",
       "               CVLEGEND  CVDOW                InDbDate  \\\n",
       "0    DISORDERLY CONDUCT      3  09/06/2018 03:30:12 AM   \n",
       "1               LARCENY      3  09/06/2018 03:30:13 AM   \n",
       "2               LARCENY      5  09/06/2018 03:30:09 AM   \n",
       "3    BURGLARY - VEHICLE      2  09/06/2018 03:30:08 AM   \n",
       "4  LIQUOR LAW VIOLATION      6  09/06/2018 03:30:11 AM   \n",
       "\n",
       "                                      Block_Location  \\\n",
       "0  OREGON STREET &amp; MCGEE AVE\\nBerkeley, CA\\n(...   \n",
       "1  200 UNIVERSITY AVE\\nBerkeley, CA\\n(37.865511, ...   \n",
       "2  2200 MILVIA ST\\nBerkeley, CA\\n(37.868574, -122...   \n",
       "3  1200 SIXTH ST\\nBerkeley, CA\\n(37.881142, -122....   \n",
       "4  CENTER STREET &amp; SHATTUCK AVE\\nBerkeley, CA...   \n",
       "\n",
       "                        BLKADDR      City State  \n",
       "0     OREGON STREET & MCGEE AVE  Berkeley    CA  \n",
       "1            200 UNIVERSITY AVE  Berkeley    CA  \n",
       "2                2200 MILVIA ST  Berkeley    CA  \n",
       "3                 1200 SIXTH ST  Berkeley    CA  \n",
       "4  CENTER STREET & SHATTUCK AVE  Berkeley    CA  "
      ]
     },
     "execution_count": 31,
     "metadata": {},
     "output_type": "execute_result"
    }
   ],
   "source": [
    "# an example of a dataset that needs to be cleaned \n",
    "\n",
    "police_calls = pd.read_csv(\"berkeleyPDcalls.csv\")\n",
    "police_calls.head()"
   ]
  },
  {
   "cell_type": "markdown",
   "id": "16582d15-ae83-4663-9f0c-3ba22dba10b5",
   "metadata": {
    "tags": []
   },
   "source": [
    "### 1.2 Significance of Data Cleaning"
   ]
  },
  {
   "cell_type": "markdown",
   "id": "7d003fc8-862c-4fd7-a1c3-27770f11e470",
   "metadata": {},
   "source": [
    "Reason 1)  \n",
    "Makes it easier to work with column values and manipulate them for later analysis in EDA\n",
    "\n",
    "Reason 2)  \n",
    "The removal of errors when multiple sources of data are at play\n",
    "\n",
    "Reason 3)  \n",
    "Ability to map the different functions and what your data is intended to do\n",
    "\n",
    "Reason 4)  \n",
    "We are able to better monitor errors and see where they come from, which makes it easier to fix incorrect data for future use "
   ]
  },
  {
   "cell_type": "markdown",
   "id": "4897da7c",
   "metadata": {
    "tags": []
   },
   "source": [
    "# 2. Data Cleaning Techniques <a id='1'></a>\n",
    "\n"
   ]
  },
  {
   "cell_type": "markdown",
   "id": "19d386fe-372f-4eec-9365-26ffb5a728c2",
   "metadata": {
    "tags": []
   },
   "source": [
    "### 2.1 Handling Missing Data"
   ]
  },
  {
   "attachments": {
    "b91d072b-7f2f-4738-a580-89fbf2449315.png": {
     "image/png": "[encoded data removed]"
    }
   },
   "cell_type": "markdown",
   "id": "fa333811-de61-416b-ae0e-006c5c4cc356",
   "metadata": {},
   "source": [
    " #### What is missing data and what it can look like \n",
    "A missing value in a relational database is used when the value in a column is unknown or missing. A null is either an empty string (for character or datetime data types) or a zero value (for numeric data types). \n",
    "In this example, we found that there are 3 missing values in the `Age` column: -, na and NaN. However Pandas doesn’t recognize `-` and `na` as null. We have to replace them with null before dealing with them.\n",
    "\n",
    "![image.png](attachment:b91d072b-7f2f-4738-a580-89fbf2449315.png)\n",
    "\n",
    "Use “isnull” to check null value, sometimes we find Pandas doesn’t recognize - and na as null but only NaN, so we need to use replace to unify them."
   ]
  },
  {
   "cell_type": "code",
   "execution_count": 32,
   "id": "c8fe2c5d-3b28-45d6-bd28-8fc6af4b5b52",
   "metadata": {},
   "outputs": [],
   "source": [
    "# Example code of using replace to unify null value\n",
    "# df['Age'] = df['Age'].replace('-', np.NaN)\n",
    "# df['Age'] = df['Age'].replace('na', np.NaN)\n",
    "# df[\"Age\"].head(10) "
   ]
  },
  {
   "cell_type": "markdown",
   "id": "fdf2c9ac-8353-4224-b22d-a22e48eea232",
   "metadata": {},
   "source": [
    "#### Dealing with null data\n",
    "Now we have replaced them with null values, how are we going to deal with those missing values?\n",
    "\n",
    "#### Solution 1: Drop the observation (row) / feature (column)\n",
    "If we are sure about the missing data are not useful or the missing data are only a small portion of the data, we can drop the rows that contain missing values.\n",
    "If we are confident that this feature (column) does not provide useful information or the missing value percentage is high, we can drop the entire column. This is very useful when doing statistical analysis, since filling in the missing values may yield unexpected or biased results."
   ]
  },
  {
   "cell_type": "markdown",
   "id": "320eb8b7-9ae7-4833-af98-2797aaee116e",
   "metadata": {},
   "source": [
    "#### Solution 2: Impute the missing values.\n",
    "It means to calculate the missing values based on other data. \n",
    "\n",
    "For example, we can compute missing values for age with the date of birth.\n",
    "\n",
    "Hoever, in many cases, we do not have date of birth,then we can replace the missing values with the mean or median (mode for categorical value) of the data."
   ]
  },
  {
   "cell_type": "markdown",
   "id": "31a4b6ac-4bf7-433d-886f-581fcfe085ff",
   "metadata": {},
   "source": [
    "#### Choose between mean and median: \n",
    "Mean is most useful when the data is not skewed, while the median is more robust, not sensitive to outliers, and thus used when data is skewed."
   ]
  },
  {
   "cell_type": "markdown",
   "id": "e6885e11-dd2f-46ad-8250-a97a51301294",
   "metadata": {
    "tags": []
   },
   "source": [
    "### 2.2 Understanding Column Names"
   ]
  },
  {
   "cell_type": "markdown",
   "id": "5189b4c3-18e3-4ffd-bfad-f0aae597d928",
   "metadata": {},
   "source": [
    "Changing column names to something more legible.\n",
    "In some cases, the column name may be an abbreviation, abbreviation, or a database-specific term, and we need to replace them with a more user-friendly name.\n"
   ]
  },
  {
   "cell_type": "markdown",
   "id": "cf490525-7479-4b0d-857f-330a777c85e9",
   "metadata": {
    "tags": []
   },
   "source": [
    "### 2.3 Manipulating Columns"
   ]
  },
  {
   "cell_type": "markdown",
   "id": "562a5d42-87e6-4208-b71b-5ed6a7585dbf",
   "metadata": {},
   "source": [
    "\n",
    "#### Remove duplicates\n",
    "If we want ot chec dupliicates in the databace, `.duplicated()` is the functoin needed.\n",
    "\n",
    "Using 'df[df.duplicated(keep=False)]' shows all duplicates.\n",
    "\n",
    "`keep` allows a few parameters to check on duplicates.\n",
    "\n",
    "`first` : Mark duplicates as True except for the first occurrence.\n",
    "\n",
    "`last` : Mark duplicates as True except for the last occurrence.\n",
    "\n",
    "`False` : Mark all duplicates as True.\n",
    "\n",
    "Now we have seen there are duplicates in this dataset, I would like to remove them and keep the first occurrence. The following function is used to keep the `first` occurrence.\n",
    "\n",
    "`df = df.drop_duplicates(keep=\"first\")`"
   ]
  },
  {
   "cell_type": "markdown",
   "id": "119d0ada-26cd-4bca-b329-63c455950a9b",
   "metadata": {},
   "source": [
    "#### Dropping unnecessary columns by “drop”\n",
    "We have learned 'drop' in previous notebooks, based on your observation, if you believe there is an invalid/null column that you do not need. You can drop it by using the function below."
   ]
  },
  {
   "cell_type": "code",
   "execution_count": 33,
   "id": "8c2f330c-3a7f-43d4-b9e8-73a55da0fb6b",
   "metadata": {},
   "outputs": [],
   "source": [
    "#df.drop(columns=\"Unnamed: 13\", inplace = True)"
   ]
  },
  {
   "cell_type": "markdown",
   "id": "766a2ba1-f98a-424d-8d2c-2d474de4bcaa",
   "metadata": {},
   "source": [
    "f you wish to drop multiple columns, an array is needed to pass in columns parameter.\n",
    "\n",
    "`inplace = True` will do the operation directly on the dataframe itself, by default it will create another copy and you have to assign it to the dataframe again like `df = df.drop(columns=\"Unnamed: 11\")`."
   ]
  },
  {
   "cell_type": "markdown",
   "id": "bab0a993-0751-49a2-98af-6572eaeda00e",
   "metadata": {
    "tags": []
   },
   "source": [
    "### 2.4 Mapping Table Values"
   ]
  },
  {
   "attachments": {
    "cb544a91-3398-4ab1-bb37-ab29631b9c77.png": {
     "image/png": "[encoded data removed]"
    }
   },
   "cell_type": "markdown",
   "id": "501f019b-eb16-4824-bc47-34a26a52e905",
   "metadata": {},
   "source": [
    "Sometimes, the values of some inputs that should be unified may not be unified.\n",
    "\n",
    "![image.png](attachment:cb544a91-3398-4ab1-bb37-ab29631b9c77.png)\n",
    "\n",
    "Use “column.unique()” to find all possible data in some columns \n",
    "\n",
    "In the example above, we found that there are “male,m,M,F,f,female,Female” in the column “sex”, and it is hard to use the column since some of them should be unified."
   ]
  },
  {
   "cell_type": "markdown",
   "id": "2a692794-8426-4bc3-8370-2be6c292de0e",
   "metadata": {},
   "source": [
    "Now, what we need to do is to use `column.map`  to include wrong input data to the database (by using map, we can change all “M,m, male” to “male”’) , and we could get the data of only `male` and `female` in the end."
   ]
  },
  {
   "cell_type": "code",
   "execution_count": 34,
   "id": "71c8b126-6a84-46ca-bfe0-c614f26330a6",
   "metadata": {},
   "outputs": [],
   "source": [
    "#df[\"Sex\"] = df[\"Sex\"].map({\n",
    "#    \"male\": \"male\",      \n",
    "#    \"m\": \"male\",\n",
    "#    \"m \": \"male\",\n",
    "#   \"M\": \"male\",\n",
    "#    \"F\": \"female\",\n",
    "#    \"f\": \"female\",\n",
    "#    \"female\": \"female\"\n",
    "#})"
   ]
  },
  {
   "cell_type": "markdown",
   "id": "8b54fa2b-99c5-4857-a141-a345e001f6a1",
   "metadata": {},
   "source": [
    "The function above is used to map those values to male or female.\n",
    "\n",
    "Note: please make sure the default values male and female are included in the mapping, else it will become nan after you perform the mapping."
   ]
  },
  {
   "cell_type": "markdown",
   "id": "a56ddc06-d748-4870-add8-3cb05f82a305",
   "metadata": {
    "tags": []
   },
   "source": [
    "### 2.5 Using `.where`"
   ]
  },
  {
   "cell_type": "markdown",
   "id": "bd5964eb-6d4b-447e-8810-92ce2b7be3f8",
   "metadata": {},
   "source": [
    "Filter data to only what we want to look at (especially with really large data).For example, if you got data from 1970 to 2019, and you only want data after 2010, you can use function like `df1=df.where(df[\"year\"],are.above(2010))`. More instructions in part3."
   ]
  },
  {
   "cell_type": "markdown",
   "id": "3eb81a01-60d6-456d-9876-b8c1a03e261c",
   "metadata": {
    "tags": []
   },
   "source": [
    "### 2.6 Converting Data Type"
   ]
  },
  {
   "cell_type": "markdown",
   "id": "82e2e531-e4c4-4d63-9224-5a83f1202b64",
   "metadata": {},
   "source": [
    "Convert data to a more suitable unit or strings with numbers to just numbers so you can find mean and all other statistics.This could be done using`.astype()` method. More instructions in part3."
   ]
  },
  {
   "cell_type": "markdown",
   "id": "5d20f7be",
   "metadata": {},
   "source": [
    "# 3. Introduction to the Dataset <a id='2'></a>\n",
    "\n",
    "We will be using data made availably by the San Francisco Department of Public Health. This data outlines restaurant food safety scores for restaurants in San Francisco. **Source:** [click here](https://data.sfgov.org/Health-and-Social-Services/Restaurant-Scores-LIVES-Standard/pyih-qa8i).\n",
    "\n",
    "We will go through the data to explore and explain what data was collected."
   ]
  },
  {
   "cell_type": "markdown",
   "id": "14c6fac4",
   "metadata": {},
   "source": [
    "### 3.1 Reading in the Data\n",
    "\n",
    "What is the title of the dataset? Where does the data come from? How was the data collected? How are certain variables/features coded? link the source of the data and the metadata for students to read more information about?\n",
    "\n",
    "> Answer the aforementioned questions here.\n",
    "\n",
    "The command `pd.read_csv` allows us to read and loads our csv file and `.head()` gives us the first 5 rows of the dataset. Run the code cell below to load the data that we will be using for analysis."
   ]
  },
  {
   "cell_type": "code",
   "execution_count": 35,
   "id": "d6612dce",
   "metadata": {},
   "outputs": [],
   "source": [
    "# This cell will read in the necessary data sets. Run it and take a look at the dataframe / table below!\n",
    "bus = pd.read_csv('Data/bus.csv') # reads csv file and loads it\n",
    "ins = pd.read_csv('Data/ins.csv')"
   ]
  },
  {
   "cell_type": "code",
   "execution_count": 36,
   "id": "0b88fcb4-99db-4892-b55a-e105939a4b87",
   "metadata": {},
   "outputs": [
    {
     "data": {
      "text/html": [
       "<script>\n",
       "code_show=true; \n",
       "function code_toggle() {\n",
       "  if (code_show) {\n",
       "    $('div.input').each(function(id) {\n",
       "      el = $(this).find('.cm-variable:first');\n",
       "      if (id == 0 || el.text() == 'hide_me') {\n",
       "        $(this).hide();\n",
       "      }\n",
       "    });\n",
       "    $('div.output_prompt').css('opacity', 0);\n",
       "  } else {\n",
       "    $('div.input').each(function(id) {\n",
       "      $(this).show();\n",
       "    });\n",
       "    $('div.output_prompt').css('opacity', 1);\n",
       "  }\n",
       "  code_show = !code_show\n",
       "} \n",
       "$( document ).ready(code_toggle);\n",
       "</script>\n",
       "<form action=\"javascript:code_toggle()\"><input style=\"opacity:1\" type=\"submit\" value=\"Click here to reveal the raw code.\"></form>"
      ],
      "text/plain": [
       "<IPython.core.display.HTML object>"
      ]
     },
     "execution_count": 36,
     "metadata": {},
     "output_type": "execute_result"
    }
   ],
   "source": [
    "from IPython.display import HTML\n",
    "### Skye will work on these cells - don't touch please\n",
    "hide_me = ''\n",
    "HTML('''<script>\n",
    "code_show=true; \n",
    "function code_toggle() {\n",
    "  if (code_show) {\n",
    "    $('div.input').each(function(id) {\n",
    "      el = $(this).find('.cm-variable:first');\n",
    "      if (id == 0 || el.text() == 'hide_me') {\n",
    "        $(this).hide();\n",
    "      }\n",
    "    });\n",
    "    $('div.output_prompt').css('opacity', 0);\n",
    "  } else {\n",
    "    $('div.input').each(function(id) {\n",
    "      $(this).show();\n",
    "    });\n",
    "    $('div.output_prompt').css('opacity', 1);\n",
    "  }\n",
    "  code_show = !code_show\n",
    "} \n",
    "$( document ).ready(code_toggle);\n",
    "</script>\n",
    "<form action=\"javascript:code_toggle()\"><input style=\"opacity:1\" type=\"submit\" value=\"Click here to reveal the raw code.\"></form>''')"
   ]
  },
  {
   "cell_type": "code",
   "execution_count": 37,
   "id": "4ada1b98-4752-4bad-87d5-f35e4bc8ff8a",
   "metadata": {},
   "outputs": [],
   "source": [
    "hide_me\n",
    "numlst = ins['iid'].str.split(\"_\")\n",
    "ins[\"bid\"] = numlst.str[0].astype(int)\n",
    "ins['timestamp'] = pd.to_datetime(ins['date'])\n",
    "ins = ins[ins[\"score\"] > 0]\n",
    "ins = ins.rename(columns={\"bid\": \"business id column\"})\n",
    "ins = ins.drop(columns = ['iid'])\n",
    "bus_data = pd.merge(left = ins, right = bus,\n",
    "                  left_on = \"business id column\", right_on = \"business id column\")\n",
    "\n",
    "### Skye will work on these cells - don't touch please"
   ]
  },
  {
   "cell_type": "markdown",
   "id": "7e6d795b-14bd-4454-afa1-6607ff89e3b8",
   "metadata": {},
   "source": [
    "This is our DataFrame:"
   ]
  },
  {
   "cell_type": "code",
   "execution_count": 38,
   "id": "3fce94f9-a467-4328-ac08-c9f56d629ac5",
   "metadata": {},
   "outputs": [
    {
     "data": {
      "text/html": [
       "<div>\n",
       "<style scoped>\n",
       "    .dataframe tbody tr th:only-of-type {\n",
       "        vertical-align: middle;\n",
       "    }\n",
       "\n",
       "    .dataframe tbody tr th {\n",
       "        vertical-align: top;\n",
       "    }\n",
       "\n",
       "    .dataframe thead th {\n",
       "        text-align: right;\n",
       "    }\n",
       "</style>\n",
       "<table border=\"1\" class=\"dataframe\">\n",
       "  <thead>\n",
       "    <tr style=\"text-align: right;\">\n",
       "      <th></th>\n",
       "      <th>date</th>\n",
       "      <th>score</th>\n",
       "      <th>type</th>\n",
       "      <th>business id column</th>\n",
       "      <th>timestamp</th>\n",
       "      <th>name</th>\n",
       "      <th>address</th>\n",
       "      <th>city</th>\n",
       "      <th>state</th>\n",
       "      <th>postal_code</th>\n",
       "      <th>latitude</th>\n",
       "      <th>longitude</th>\n",
       "      <th>phone_number</th>\n",
       "    </tr>\n",
       "  </thead>\n",
       "  <tbody>\n",
       "    <tr>\n",
       "      <th>0</th>\n",
       "      <td>04/03/2019 12:00:00 AM</td>\n",
       "      <td>100</td>\n",
       "      <td>Routine - Unscheduled</td>\n",
       "      <td>100010</td>\n",
       "      <td>2019-04-03</td>\n",
       "      <td>ILLY CAFFE SF_PIER 39</td>\n",
       "      <td>PIER 39  K-106-B</td>\n",
       "      <td>San Francisco</td>\n",
       "      <td>CA</td>\n",
       "      <td>94133</td>\n",
       "      <td>-9999.0</td>\n",
       "      <td>-9999.0</td>\n",
       "      <td>14154827284</td>\n",
       "    </tr>\n",
       "    <tr>\n",
       "      <th>1</th>\n",
       "      <td>08/16/2019 12:00:00 AM</td>\n",
       "      <td>91</td>\n",
       "      <td>Routine - Unscheduled</td>\n",
       "      <td>100017</td>\n",
       "      <td>2019-08-16</td>\n",
       "      <td>AMICI'S EAST COAST PIZZERIA</td>\n",
       "      <td>475 06th St</td>\n",
       "      <td>San Francisco</td>\n",
       "      <td>CA</td>\n",
       "      <td>94103</td>\n",
       "      <td>-9999.0</td>\n",
       "      <td>-9999.0</td>\n",
       "      <td>14155279839</td>\n",
       "    </tr>\n",
       "    <tr>\n",
       "      <th>2</th>\n",
       "      <td>05/20/2019 12:00:00 AM</td>\n",
       "      <td>83</td>\n",
       "      <td>Routine - Unscheduled</td>\n",
       "      <td>100041</td>\n",
       "      <td>2019-05-20</td>\n",
       "      <td>UNCLE LEE CAFE</td>\n",
       "      <td>3608 BALBOA ST</td>\n",
       "      <td>San Francisco</td>\n",
       "      <td>CA</td>\n",
       "      <td>94121</td>\n",
       "      <td>-9999.0</td>\n",
       "      <td>-9999.0</td>\n",
       "      <td>-9999</td>\n",
       "    </tr>\n",
       "    <tr>\n",
       "      <th>3</th>\n",
       "      <td>04/25/2019 12:00:00 AM</td>\n",
       "      <td>98</td>\n",
       "      <td>Routine - Unscheduled</td>\n",
       "      <td>100055</td>\n",
       "      <td>2019-04-25</td>\n",
       "      <td>Twirl and Dip</td>\n",
       "      <td>335 Martin Luther King Jr. Dr</td>\n",
       "      <td>San Francisco</td>\n",
       "      <td>CA</td>\n",
       "      <td>94118</td>\n",
       "      <td>-9999.0</td>\n",
       "      <td>-9999.0</td>\n",
       "      <td>14155300260</td>\n",
       "    </tr>\n",
       "    <tr>\n",
       "      <th>4</th>\n",
       "      <td>09/12/2019 12:00:00 AM</td>\n",
       "      <td>82</td>\n",
       "      <td>Routine - Unscheduled</td>\n",
       "      <td>100055</td>\n",
       "      <td>2019-09-12</td>\n",
       "      <td>Twirl and Dip</td>\n",
       "      <td>335 Martin Luther King Jr. Dr</td>\n",
       "      <td>San Francisco</td>\n",
       "      <td>CA</td>\n",
       "      <td>94118</td>\n",
       "      <td>-9999.0</td>\n",
       "      <td>-9999.0</td>\n",
       "      <td>14155300260</td>\n",
       "    </tr>\n",
       "  </tbody>\n",
       "</table>\n",
       "</div>"
      ],
      "text/plain": [
       "                     date  score                   type  business id column  \\\n",
       "0  04/03/2019 12:00:00 AM    100  Routine - Unscheduled              100010   \n",
       "1  08/16/2019 12:00:00 AM     91  Routine - Unscheduled              100017   \n",
       "2  05/20/2019 12:00:00 AM     83  Routine - Unscheduled              100041   \n",
       "3  04/25/2019 12:00:00 AM     98  Routine - Unscheduled              100055   \n",
       "4  09/12/2019 12:00:00 AM     82  Routine - Unscheduled              100055   \n",
       "\n",
       "   timestamp                         name                        address  \\\n",
       "0 2019-04-03        ILLY CAFFE SF_PIER 39               PIER 39  K-106-B   \n",
       "1 2019-08-16  AMICI'S EAST COAST PIZZERIA                    475 06th St   \n",
       "2 2019-05-20               UNCLE LEE CAFE                 3608 BALBOA ST   \n",
       "3 2019-04-25                Twirl and Dip  335 Martin Luther King Jr. Dr   \n",
       "4 2019-09-12                Twirl and Dip  335 Martin Luther King Jr. Dr   \n",
       "\n",
       "            city state postal_code  latitude  longitude  phone_number  \n",
       "0  San Francisco    CA       94133   -9999.0    -9999.0   14154827284  \n",
       "1  San Francisco    CA       94103   -9999.0    -9999.0   14155279839  \n",
       "2  San Francisco    CA       94121   -9999.0    -9999.0         -9999  \n",
       "3  San Francisco    CA       94118   -9999.0    -9999.0   14155300260  \n",
       "4  San Francisco    CA       94118   -9999.0    -9999.0   14155300260  "
      ]
     },
     "execution_count": 38,
     "metadata": {},
     "output_type": "execute_result"
    }
   ],
   "source": [
    "bus_data.head()"
   ]
  },
  {
   "cell_type": "markdown",
   "id": "18d9feb8",
   "metadata": {},
   "source": [
    "### 3.2 Understanding the Data\n",
    "\n",
    "#### 3.2.1 Rows\n",
    "\n",
    "Let's take a look at the first row of the dataset for Name_Of_Dataset using `.take()`. This function takes in a list of the indexes that you want to view the corresponding rows of. Here, we want to see the first row only, which is the row at the 0th index."
   ]
  },
  {
   "cell_type": "code",
   "execution_count": 39,
   "id": "086db284",
   "metadata": {},
   "outputs": [
    {
     "data": {
      "text/html": [
       "<div>\n",
       "<style scoped>\n",
       "    .dataframe tbody tr th:only-of-type {\n",
       "        vertical-align: middle;\n",
       "    }\n",
       "\n",
       "    .dataframe tbody tr th {\n",
       "        vertical-align: top;\n",
       "    }\n",
       "\n",
       "    .dataframe thead th {\n",
       "        text-align: right;\n",
       "    }\n",
       "</style>\n",
       "<table border=\"1\" class=\"dataframe\">\n",
       "  <thead>\n",
       "    <tr style=\"text-align: right;\">\n",
       "      <th></th>\n",
       "      <th>date</th>\n",
       "      <th>score</th>\n",
       "      <th>type</th>\n",
       "      <th>business id column</th>\n",
       "      <th>timestamp</th>\n",
       "      <th>name</th>\n",
       "      <th>address</th>\n",
       "      <th>city</th>\n",
       "      <th>state</th>\n",
       "      <th>postal_code</th>\n",
       "      <th>latitude</th>\n",
       "      <th>longitude</th>\n",
       "      <th>phone_number</th>\n",
       "    </tr>\n",
       "  </thead>\n",
       "  <tbody>\n",
       "    <tr>\n",
       "      <th>0</th>\n",
       "      <td>04/03/2019 12:00:00 AM</td>\n",
       "      <td>100</td>\n",
       "      <td>Routine - Unscheduled</td>\n",
       "      <td>100010</td>\n",
       "      <td>2019-04-03</td>\n",
       "      <td>ILLY CAFFE SF_PIER 39</td>\n",
       "      <td>PIER 39  K-106-B</td>\n",
       "      <td>San Francisco</td>\n",
       "      <td>CA</td>\n",
       "      <td>94133</td>\n",
       "      <td>-9999.0</td>\n",
       "      <td>-9999.0</td>\n",
       "      <td>14154827284</td>\n",
       "    </tr>\n",
       "  </tbody>\n",
       "</table>\n",
       "</div>"
      ],
      "text/plain": [
       "                     date  score                   type  business id column  \\\n",
       "0  04/03/2019 12:00:00 AM    100  Routine - Unscheduled              100010   \n",
       "\n",
       "   timestamp                   name           address           city state  \\\n",
       "0 2019-04-03  ILLY CAFFE SF_PIER 39  PIER 39  K-106-B  San Francisco    CA   \n",
       "\n",
       "  postal_code  latitude  longitude  phone_number  \n",
       "0       94133   -9999.0    -9999.0   14154827284  "
      ]
     },
     "execution_count": 39,
     "metadata": {},
     "output_type": "execute_result"
    }
   ],
   "source": [
    "bus_data.take([0])"
   ]
  },
  {
   "cell_type": "markdown",
   "id": "a577717c-d86b-4fdf-9975-52312980e5a8",
   "metadata": {},
   "source": [
    "---\n",
    "<font color = #d14d0f>**QUESTION __**:</font>\n",
    "\n",
    "**Based on the above exploration, what does each record represent?**\n"
   ]
  },
  {
   "cell_type": "markdown",
   "id": "7cf185fb-a8d7-45fb-908c-5de3d69569e0",
   "metadata": {},
   "source": [
    "**A. \"One location of a restaurant.\"**\n",
    "\n",
    "**B. \"A chain of restaurants.\"**\n",
    "\n",
    "**C. \"A city block.\"**"
   ]
  },
  {
   "cell_type": "markdown",
   "id": "f1a9f257-26e4-4a45-8de7-5e70f48b5463",
   "metadata": {},
   "source": [
    "*REPLACE THIS TEXT WITH YOUR RESPONSE. DOUBLE CLICK THIS CELL, TYPE YOUR RESPONSE, AND RUN THE CELL TO SAVE AND DISPLAY YOUR RESPONSE.*"
   ]
  },
  {
   "cell_type": "markdown",
   "id": "10f19a49",
   "metadata": {},
   "source": [
    "---\n",
    "Write paragraph that answers these questions:\n",
    "\n",
    "What does this particular row in our data represent? How can we generalize this for each row of the data? What does each row of the data represent? Encourage students to change the index / selection of a row of the data and see for themselves a different sample row of the data."
   ]
  },
  {
   "cell_type": "markdown",
   "id": "1f347589",
   "metadata": {},
   "source": [
    "#### 3.2.2. Columns\n",
    "\n",
    "Run the code cell below to see the list of the columns in our dataset."
   ]
  },
  {
   "cell_type": "code",
   "execution_count": 40,
   "id": "2f241cda",
   "metadata": {},
   "outputs": [
    {
     "data": {
      "text/plain": [
       "['date',\n",
       " 'score',\n",
       " 'type',\n",
       " 'business id column',\n",
       " 'timestamp',\n",
       " 'name',\n",
       " 'address',\n",
       " 'city',\n",
       " 'state',\n",
       " 'postal_code',\n",
       " 'latitude',\n",
       " 'longitude',\n",
       " 'phone_number']"
      ]
     },
     "execution_count": 40,
     "metadata": {},
     "output_type": "execute_result"
    }
   ],
   "source": [
    "bus_data.columns.tolist()"
   ]
  },
  {
   "cell_type": "markdown",
   "id": "4754ccae",
   "metadata": {},
   "source": [
    "Explain here what all the columns mean."
   ]
  },
  {
   "cell_type": "code",
   "execution_count": 41,
   "id": "5730b9d3",
   "metadata": {},
   "outputs": [],
   "source": [
    "# code to extract a single column"
   ]
  },
  {
   "cell_type": "markdown",
   "id": "2a247530",
   "metadata": {},
   "source": [
    "Try taking a single column and output the first 5-10 values and explain to the students what they should be seeing. Encourage them to try a different string/name. "
   ]
  },
  {
   "cell_type": "markdown",
   "id": "252e02e6-56af-43a2-9bd0-746146b930f5",
   "metadata": {
    "tags": []
   },
   "source": [
    "### 3.3 Hypothesizing\n"
   ]
  },
  {
   "cell_type": "markdown",
   "id": "10b933db-4a1b-4217-881d-09769d8a3da6",
   "metadata": {},
   "source": [
    "Hypothesis info\n",
    "\n",
    "---\n",
    "<font color = #d14d0f>**QUESTION __**:</font>\n",
    "\n",
    "**Question**\n"
   ]
  },
  {
   "cell_type": "markdown",
   "id": "dad85636-d8b6-48ff-9853-aed8d19b8e3b",
   "metadata": {},
   "source": [
    "*REPLACE THIS TEXT WITH YOUR RESPONSE. DOUBLE CLICK THIS CELL, TYPE YOUR RESPONSE, AND RUN THE CELL TO SAVE AND DISPLAY YOUR RESPONSE.*"
   ]
  },
  {
   "cell_type": "markdown",
   "id": "6ada3872-97c0-41c9-97c5-19d6f0056e52",
   "metadata": {
    "tags": []
   },
   "source": [
    "---\n",
    "### 3.4 Cleaning the Dataset\n"
   ]
  },
  {
   "cell_type": "markdown",
   "id": "fd631f6b-9a7e-4ee9-bae6-40d74959ec88",
   "metadata": {},
   "source": [
    "In the next section, we will begin to clean our dataset.\n",
    "\n",
    "---\n",
    "\n",
    "<font color = #d14d0f>**QUESTION __**:</font>\n",
    "\n",
    "**Look at our dataset and list at least 3 things that you think should be fixed/cleaned before we begin analysis.** *(See Section 2 to review common qualities of DataFrames that get changed during the Data Cleaning process and look at the `bus_data` DataFrame in 3.1 and see if you notice anything that looks off.)*"
   ]
  },
  {
   "cell_type": "markdown",
   "id": "074faa9c-0c49-4902-911e-94b3a0817bdb",
   "metadata": {},
   "source": [
    "*REPLACE THIS TEXT WITH YOUR RESPONSE. DOUBLE CLICK THIS CELL, TYPE YOUR RESPONSE, AND RUN THE CELL TO SAVE AND DISPLAY YOUR RESPONSE.*"
   ]
  },
  {
   "cell_type": "markdown",
   "id": "fbe2829d-8ec8-4077-92bc-82a2d1ee2281",
   "metadata": {},
   "source": [
    "---"
   ]
  },
  {
   "cell_type": "markdown",
   "id": "d93e6f31",
   "metadata": {},
   "source": [
    "# 4. Cleaning the Dataset <a id='3'></a>\n"
   ]
  },
  {
   "cell_type": "markdown",
   "id": "31f8562d-3a0d-4b67-bc3c-f876ca7d1e5c",
   "metadata": {
    "tags": []
   },
   "source": [
    "### 4.1 Manipulating columns\n"
   ]
  },
  {
   "cell_type": "markdown",
   "id": "75f5c48a-17a1-4027-be78-550b8e07a173",
   "metadata": {},
   "source": [
    "Show: dropping unnecessary ones, teach using `.rename`, sorting columns"
   ]
  },
  {
   "cell_type": "markdown",
   "id": "7def3909-0c6c-4305-a8ee-3601353120a1",
   "metadata": {},
   "source": [
    "#### 4.1.1 Renaming columns"
   ]
  },
  {
   "cell_type": "markdown",
   "id": "f9231809-a33b-40b0-b1ba-7c0fdf80d77e",
   "metadata": {},
   "source": [
    "The bus_data dataframe contains a column called business id column which probably corresponds to a unique business id. However, we will first rename that column to bid for simplicity."
   ]
  },
  {
   "cell_type": "code",
   "execution_count": 42,
   "id": "c116c0cd-f401-4d4a-ba86-90b02789e34e",
   "metadata": {},
   "outputs": [
    {
     "data": {
      "text/html": [
       "<div>\n",
       "<style scoped>\n",
       "    .dataframe tbody tr th:only-of-type {\n",
       "        vertical-align: middle;\n",
       "    }\n",
       "\n",
       "    .dataframe tbody tr th {\n",
       "        vertical-align: top;\n",
       "    }\n",
       "\n",
       "    .dataframe thead th {\n",
       "        text-align: right;\n",
       "    }\n",
       "</style>\n",
       "<table border=\"1\" class=\"dataframe\">\n",
       "  <thead>\n",
       "    <tr style=\"text-align: right;\">\n",
       "      <th></th>\n",
       "      <th>date</th>\n",
       "      <th>score</th>\n",
       "      <th>type</th>\n",
       "      <th>bid</th>\n",
       "      <th>timestamp</th>\n",
       "      <th>name</th>\n",
       "      <th>address</th>\n",
       "      <th>city</th>\n",
       "      <th>state</th>\n",
       "      <th>postal_code</th>\n",
       "      <th>latitude</th>\n",
       "      <th>longitude</th>\n",
       "      <th>phone_number</th>\n",
       "    </tr>\n",
       "  </thead>\n",
       "  <tbody>\n",
       "    <tr>\n",
       "      <th>0</th>\n",
       "      <td>04/03/2019 12:00:00 AM</td>\n",
       "      <td>100</td>\n",
       "      <td>Routine - Unscheduled</td>\n",
       "      <td>100010</td>\n",
       "      <td>2019-04-03</td>\n",
       "      <td>ILLY CAFFE SF_PIER 39</td>\n",
       "      <td>PIER 39  K-106-B</td>\n",
       "      <td>San Francisco</td>\n",
       "      <td>CA</td>\n",
       "      <td>94133</td>\n",
       "      <td>-9999.0</td>\n",
       "      <td>-9999.0</td>\n",
       "      <td>14154827284</td>\n",
       "    </tr>\n",
       "    <tr>\n",
       "      <th>1</th>\n",
       "      <td>08/16/2019 12:00:00 AM</td>\n",
       "      <td>91</td>\n",
       "      <td>Routine - Unscheduled</td>\n",
       "      <td>100017</td>\n",
       "      <td>2019-08-16</td>\n",
       "      <td>AMICI'S EAST COAST PIZZERIA</td>\n",
       "      <td>475 06th St</td>\n",
       "      <td>San Francisco</td>\n",
       "      <td>CA</td>\n",
       "      <td>94103</td>\n",
       "      <td>-9999.0</td>\n",
       "      <td>-9999.0</td>\n",
       "      <td>14155279839</td>\n",
       "    </tr>\n",
       "    <tr>\n",
       "      <th>2</th>\n",
       "      <td>05/20/2019 12:00:00 AM</td>\n",
       "      <td>83</td>\n",
       "      <td>Routine - Unscheduled</td>\n",
       "      <td>100041</td>\n",
       "      <td>2019-05-20</td>\n",
       "      <td>UNCLE LEE CAFE</td>\n",
       "      <td>3608 BALBOA ST</td>\n",
       "      <td>San Francisco</td>\n",
       "      <td>CA</td>\n",
       "      <td>94121</td>\n",
       "      <td>-9999.0</td>\n",
       "      <td>-9999.0</td>\n",
       "      <td>-9999</td>\n",
       "    </tr>\n",
       "    <tr>\n",
       "      <th>3</th>\n",
       "      <td>04/25/2019 12:00:00 AM</td>\n",
       "      <td>98</td>\n",
       "      <td>Routine - Unscheduled</td>\n",
       "      <td>100055</td>\n",
       "      <td>2019-04-25</td>\n",
       "      <td>Twirl and Dip</td>\n",
       "      <td>335 Martin Luther King Jr. Dr</td>\n",
       "      <td>San Francisco</td>\n",
       "      <td>CA</td>\n",
       "      <td>94118</td>\n",
       "      <td>-9999.0</td>\n",
       "      <td>-9999.0</td>\n",
       "      <td>14155300260</td>\n",
       "    </tr>\n",
       "    <tr>\n",
       "      <th>4</th>\n",
       "      <td>09/12/2019 12:00:00 AM</td>\n",
       "      <td>82</td>\n",
       "      <td>Routine - Unscheduled</td>\n",
       "      <td>100055</td>\n",
       "      <td>2019-09-12</td>\n",
       "      <td>Twirl and Dip</td>\n",
       "      <td>335 Martin Luther King Jr. Dr</td>\n",
       "      <td>San Francisco</td>\n",
       "      <td>CA</td>\n",
       "      <td>94118</td>\n",
       "      <td>-9999.0</td>\n",
       "      <td>-9999.0</td>\n",
       "      <td>14155300260</td>\n",
       "    </tr>\n",
       "  </tbody>\n",
       "</table>\n",
       "</div>"
      ],
      "text/plain": [
       "                     date  score                   type     bid  timestamp  \\\n",
       "0  04/03/2019 12:00:00 AM    100  Routine - Unscheduled  100010 2019-04-03   \n",
       "1  08/16/2019 12:00:00 AM     91  Routine - Unscheduled  100017 2019-08-16   \n",
       "2  05/20/2019 12:00:00 AM     83  Routine - Unscheduled  100041 2019-05-20   \n",
       "3  04/25/2019 12:00:00 AM     98  Routine - Unscheduled  100055 2019-04-25   \n",
       "4  09/12/2019 12:00:00 AM     82  Routine - Unscheduled  100055 2019-09-12   \n",
       "\n",
       "                          name                        address           city  \\\n",
       "0        ILLY CAFFE SF_PIER 39               PIER 39  K-106-B  San Francisco   \n",
       "1  AMICI'S EAST COAST PIZZERIA                    475 06th St  San Francisco   \n",
       "2               UNCLE LEE CAFE                 3608 BALBOA ST  San Francisco   \n",
       "3                Twirl and Dip  335 Martin Luther King Jr. Dr  San Francisco   \n",
       "4                Twirl and Dip  335 Martin Luther King Jr. Dr  San Francisco   \n",
       "\n",
       "  state postal_code  latitude  longitude  phone_number  \n",
       "0    CA       94133   -9999.0    -9999.0   14154827284  \n",
       "1    CA       94103   -9999.0    -9999.0   14155279839  \n",
       "2    CA       94121   -9999.0    -9999.0         -9999  \n",
       "3    CA       94118   -9999.0    -9999.0   14155300260  \n",
       "4    CA       94118   -9999.0    -9999.0   14155300260  "
      ]
     },
     "execution_count": 42,
     "metadata": {},
     "output_type": "execute_result"
    }
   ],
   "source": [
    "bus_data = bus_data.rename(columns={\"business id column\": \"bid\"})\n",
    "bus_data.head()\n",
    "#See the new column name"
   ]
  },
  {
   "cell_type": "markdown",
   "id": "833a7eaf-1595-4588-bac1-2d5e1a6632c0",
   "metadata": {},
   "source": [
    "#### 4.1.2 Dropping columns"
   ]
  },
  {
   "cell_type": "markdown",
   "id": "72300627-faf1-4e61-8bc8-f4ed4d4f18bf",
   "metadata": {},
   "source": [
    "There are some missing values in phone number column (-9999) but we don't need this column so we will drop it."
   ]
  },
  {
   "cell_type": "code",
   "execution_count": 43,
   "id": "bea3c342-901c-44d1-b8cf-db244fea6f51",
   "metadata": {},
   "outputs": [
    {
     "data": {
      "text/html": [
       "<div>\n",
       "<style scoped>\n",
       "    .dataframe tbody tr th:only-of-type {\n",
       "        vertical-align: middle;\n",
       "    }\n",
       "\n",
       "    .dataframe tbody tr th {\n",
       "        vertical-align: top;\n",
       "    }\n",
       "\n",
       "    .dataframe thead th {\n",
       "        text-align: right;\n",
       "    }\n",
       "</style>\n",
       "<table border=\"1\" class=\"dataframe\">\n",
       "  <thead>\n",
       "    <tr style=\"text-align: right;\">\n",
       "      <th></th>\n",
       "      <th>date</th>\n",
       "      <th>score</th>\n",
       "      <th>type</th>\n",
       "      <th>bid</th>\n",
       "      <th>timestamp</th>\n",
       "      <th>name</th>\n",
       "      <th>address</th>\n",
       "      <th>city</th>\n",
       "      <th>state</th>\n",
       "      <th>postal_code</th>\n",
       "      <th>latitude</th>\n",
       "      <th>longitude</th>\n",
       "    </tr>\n",
       "  </thead>\n",
       "  <tbody>\n",
       "    <tr>\n",
       "      <th>0</th>\n",
       "      <td>04/03/2019 12:00:00 AM</td>\n",
       "      <td>100</td>\n",
       "      <td>Routine - Unscheduled</td>\n",
       "      <td>100010</td>\n",
       "      <td>2019-04-03</td>\n",
       "      <td>ILLY CAFFE SF_PIER 39</td>\n",
       "      <td>PIER 39  K-106-B</td>\n",
       "      <td>San Francisco</td>\n",
       "      <td>CA</td>\n",
       "      <td>94133</td>\n",
       "      <td>-9999.0</td>\n",
       "      <td>-9999.0</td>\n",
       "    </tr>\n",
       "    <tr>\n",
       "      <th>1</th>\n",
       "      <td>08/16/2019 12:00:00 AM</td>\n",
       "      <td>91</td>\n",
       "      <td>Routine - Unscheduled</td>\n",
       "      <td>100017</td>\n",
       "      <td>2019-08-16</td>\n",
       "      <td>AMICI'S EAST COAST PIZZERIA</td>\n",
       "      <td>475 06th St</td>\n",
       "      <td>San Francisco</td>\n",
       "      <td>CA</td>\n",
       "      <td>94103</td>\n",
       "      <td>-9999.0</td>\n",
       "      <td>-9999.0</td>\n",
       "    </tr>\n",
       "    <tr>\n",
       "      <th>2</th>\n",
       "      <td>05/20/2019 12:00:00 AM</td>\n",
       "      <td>83</td>\n",
       "      <td>Routine - Unscheduled</td>\n",
       "      <td>100041</td>\n",
       "      <td>2019-05-20</td>\n",
       "      <td>UNCLE LEE CAFE</td>\n",
       "      <td>3608 BALBOA ST</td>\n",
       "      <td>San Francisco</td>\n",
       "      <td>CA</td>\n",
       "      <td>94121</td>\n",
       "      <td>-9999.0</td>\n",
       "      <td>-9999.0</td>\n",
       "    </tr>\n",
       "    <tr>\n",
       "      <th>3</th>\n",
       "      <td>04/25/2019 12:00:00 AM</td>\n",
       "      <td>98</td>\n",
       "      <td>Routine - Unscheduled</td>\n",
       "      <td>100055</td>\n",
       "      <td>2019-04-25</td>\n",
       "      <td>Twirl and Dip</td>\n",
       "      <td>335 Martin Luther King Jr. Dr</td>\n",
       "      <td>San Francisco</td>\n",
       "      <td>CA</td>\n",
       "      <td>94118</td>\n",
       "      <td>-9999.0</td>\n",
       "      <td>-9999.0</td>\n",
       "    </tr>\n",
       "    <tr>\n",
       "      <th>4</th>\n",
       "      <td>09/12/2019 12:00:00 AM</td>\n",
       "      <td>82</td>\n",
       "      <td>Routine - Unscheduled</td>\n",
       "      <td>100055</td>\n",
       "      <td>2019-09-12</td>\n",
       "      <td>Twirl and Dip</td>\n",
       "      <td>335 Martin Luther King Jr. Dr</td>\n",
       "      <td>San Francisco</td>\n",
       "      <td>CA</td>\n",
       "      <td>94118</td>\n",
       "      <td>-9999.0</td>\n",
       "      <td>-9999.0</td>\n",
       "    </tr>\n",
       "  </tbody>\n",
       "</table>\n",
       "</div>"
      ],
      "text/plain": [
       "                     date  score                   type     bid  timestamp  \\\n",
       "0  04/03/2019 12:00:00 AM    100  Routine - Unscheduled  100010 2019-04-03   \n",
       "1  08/16/2019 12:00:00 AM     91  Routine - Unscheduled  100017 2019-08-16   \n",
       "2  05/20/2019 12:00:00 AM     83  Routine - Unscheduled  100041 2019-05-20   \n",
       "3  04/25/2019 12:00:00 AM     98  Routine - Unscheduled  100055 2019-04-25   \n",
       "4  09/12/2019 12:00:00 AM     82  Routine - Unscheduled  100055 2019-09-12   \n",
       "\n",
       "                          name                        address           city  \\\n",
       "0        ILLY CAFFE SF_PIER 39               PIER 39  K-106-B  San Francisco   \n",
       "1  AMICI'S EAST COAST PIZZERIA                    475 06th St  San Francisco   \n",
       "2               UNCLE LEE CAFE                 3608 BALBOA ST  San Francisco   \n",
       "3                Twirl and Dip  335 Martin Luther King Jr. Dr  San Francisco   \n",
       "4                Twirl and Dip  335 Martin Luther King Jr. Dr  San Francisco   \n",
       "\n",
       "  state postal_code  latitude  longitude  \n",
       "0    CA       94133   -9999.0    -9999.0  \n",
       "1    CA       94103   -9999.0    -9999.0  \n",
       "2    CA       94121   -9999.0    -9999.0  \n",
       "3    CA       94118   -9999.0    -9999.0  \n",
       "4    CA       94118   -9999.0    -9999.0  "
      ]
     },
     "execution_count": 43,
     "metadata": {},
     "output_type": "execute_result"
    }
   ],
   "source": [
    "bus_data = bus_data.drop('phone_number', axis = 1)\n",
    "bus_data.head()"
   ]
  },
  {
   "cell_type": "markdown",
   "id": "1c5b177a-48af-4d6f-94d6-32470b49970e",
   "metadata": {
    "tags": []
   },
   "source": [
    "### 4.2 Handling missing/incorrect data: `postal_code` column"
   ]
  },
  {
   "cell_type": "markdown",
   "id": "5423122d-45a7-4884-a215-a7b8b3f1e014",
   "metadata": {},
   "source": [
    "In 3.4, you may have noticed that there are a large number of potentially invalid ZIP codes (e.g., \"Ca\"). These are likely due to data entry errors.\n",
    "\n",
    "To get a better understanding of the potential errors in the zip codes we will:\n",
    "\n",
    "1. Import a list of valid San Francisco ZIP codes by using pd.read_json to load the file data/sf_zipcodes.json and ultimately create a series of type str containing the valid ZIP codes.\n",
    "2. Construct a DataFrame containing only the businesses which DO NOT have valid ZIP codes."
   ]
  },
  {
   "cell_type": "markdown",
   "id": "95b50184-3597-41be-86fd-157c95eb06f5",
   "metadata": {},
   "source": [
    "**Step 1**\n"
   ]
  },
  {
   "cell_type": "code",
   "execution_count": 44,
   "id": "092b915f-8b11-4a92-94c5-e74a989699e2",
   "metadata": {},
   "outputs": [
    {
     "data": {
      "text/plain": [
       "array([94102, 94103, 94104, 94105, 94107, 94108, 94109, 94110, 94111,\n",
       "       94112, 94114, 94115, 94116, 94117, 94118, 94119, 94120, 94121,\n",
       "       94122, 94123, 94124, 94125, 94126, 94127, 94128, 94129, 94130,\n",
       "       94131, 94132, 94133, 94134, 94137, 94139, 94140, 94141, 94142,\n",
       "       94143, 94144, 94145, 94146, 94147, 94151, 94158, 94159, 94160,\n",
       "       94161, 94163, 94164, 94172, 94177, 94188])"
      ]
     },
     "execution_count": 44,
     "metadata": {},
     "output_type": "execute_result"
    }
   ],
   "source": [
    "valid_zips = pd.read_json(\"Data/sf_zipcodes.json\")['zip_codes']\n",
    "valid_zips.values"
   ]
  },
  {
   "cell_type": "markdown",
   "id": "6a5e8dde-9291-4bb3-a11b-1970bf78432a",
   "metadata": {},
   "source": [
    "After reading the file, we use `.dtype` to see that the zip codes have been read as integers."
   ]
  },
  {
   "cell_type": "code",
   "execution_count": 45,
   "id": "40a5e9bc-43df-4c70-9656-6ec4c806d639",
   "metadata": {},
   "outputs": [
    {
     "data": {
      "text/plain": [
       "dtype('int64')"
      ]
     },
     "execution_count": 45,
     "metadata": {},
     "output_type": "execute_result"
    }
   ],
   "source": [
    "valid_zips.dtype"
   ]
  },
  {
   "cell_type": "markdown",
   "id": "5b97dcf9-7dfe-4288-bd63-c9f726cc276f",
   "metadata": {},
   "source": [
    "Similarly to what was discussed in Section 2.6, we want to ensure that the type of value *(integer, string, double, etc.)* is representative of the data.\n",
    "\n",
    "While zip codes are numbers, they are [nominal qualitative data](https://careerfoundry.com/en/blog/data-analytics/what-is-nominal-data/#:~:text=Nominal%20data%20is%20a%20type,of%20meaningful%20order%20or%20hierarchy.). As a result, we want them to be represented as strings.\n",
    "\n",
    "---\n",
    "<font color = #d14d0f>**QUESTION __**:</font>\n",
    "\n",
    "**Why should zip codes be stored as strings instead of integers?** (See link above for ideas.)\n",
    "\n",
    "*Hint: We store variables as integers when we need to calculate the mean, sum, etc. of that variable. Would it make sense to do this with zip codes?*"
   ]
  },
  {
   "cell_type": "markdown",
   "id": "d3101594-8e3e-453a-8c42-e1775a70385c",
   "metadata": {},
   "source": [
    "*REPLACE THIS TEXT WITH YOUR RESPONSE. DOUBLE CLICK THIS CELL, TYPE YOUR RESPONSE, AND RUN THE CELL TO SAVE AND DISPLAY YOUR RESPONSE.*"
   ]
  },
  {
   "cell_type": "markdown",
   "id": "8c0b6689-0059-4ec7-b550-50aa571a963f",
   "metadata": {},
   "source": [
    "---\n",
    "To convert them, we can use the `astype` function to generate a copy of the Pandas series. This converts the array, `valid_zips`, to strings and reassigns the variable to the same name, `valid_zips`."
   ]
  },
  {
   "cell_type": "code",
   "execution_count": 46,
   "id": "0fa7600e-ff96-4da6-98fd-04851b9d7fc2",
   "metadata": {},
   "outputs": [],
   "source": [
    "valid_zips = valid_zips.astype(\"string\")"
   ]
  },
  {
   "cell_type": "markdown",
   "id": "531c7030-db4c-4639-be06-c923cdb34046",
   "metadata": {},
   "source": [
    "Now we'll use the same code as above to check what type the values are now."
   ]
  },
  {
   "cell_type": "code",
   "execution_count": 47,
   "id": "cbdbdfb5-bf35-4b02-bb41-a36bfbd6aff9",
   "metadata": {},
   "outputs": [
    {
     "data": {
      "text/plain": [
       "string[python]"
      ]
     },
     "execution_count": 47,
     "metadata": {},
     "output_type": "execute_result"
    }
   ],
   "source": [
    "valid_zips.dtype"
   ]
  },
  {
   "cell_type": "markdown",
   "id": "944a265c-5f17-4cb2-9fd4-b687b8e85ad0",
   "metadata": {},
   "source": [
    "**Step 2**"
   ]
  },
  {
   "cell_type": "markdown",
   "id": "dc5d85e0-664e-4283-b4b9-8c433f441d12",
   "metadata": {},
   "source": [
    "Here we will use the `Series.isin` function. More details about this function are in its [documentation](https://www.geeksforgeeks.org/python-pandas-series-isin/#:~:text=isin(),-View%20Discussion&text=Pandas%20series%20is%20a%20One,performing%20operations%20involving%20the%20index.).\n",
    "\n",
    "**What is a Series?**\n",
    "\n",
    "Remember that the type of `bus_data` is a [DataFrame](https://pandas.pydata.org/docs/reference/api/pandas.DataFrame.html). Every column in a DataFrame is a [Series](https://pandas.pydata.org/docs/reference/api/pandas.Series.html). For example, the column `bid` is a series and so is the column `name`. Every column is a series regardless of what kind of data it contains."
   ]
  },
  {
   "cell_type": "code",
   "execution_count": 48,
   "id": "2b4fcf04-6e99-4241-bf9e-650f8ba03cf9",
   "metadata": {},
   "outputs": [
    {
     "data": {
      "text/plain": [
       "Index(['date', 'score', 'type', 'bid', 'timestamp', 'name', 'address', 'city',\n",
       "       'state', 'postal_code', 'latitude', 'longitude'],\n",
       "      dtype='object')"
      ]
     },
     "execution_count": 48,
     "metadata": {},
     "output_type": "execute_result"
    }
   ],
   "source": [
    "# These are the names of the columns in bus_data\n",
    "bus_data.columns"
   ]
  },
  {
   "cell_type": "markdown",
   "id": "7c3bf0fd-d86d-4f45-9f7b-714c187741b4",
   "metadata": {},
   "source": [
    "We can see in the cell below that the type of the `bid` column is a series."
   ]
  },
  {
   "cell_type": "code",
   "execution_count": 49,
   "id": "24058d0b-b638-4a07-9987-711a27cff64b",
   "metadata": {},
   "outputs": [
    {
     "data": {
      "text/plain": [
       "pandas.core.series.Series"
      ]
     },
     "execution_count": 49,
     "metadata": {},
     "output_type": "execute_result"
    }
   ],
   "source": [
    "type(bus_data['bid'])"
   ]
  },
  {
   "cell_type": "markdown",
   "id": "8897eed0-265c-42ec-aa24-c0d3a2c63a0e",
   "metadata": {},
   "source": [
    "Try replacing the `...` in the cell below with another column name to see that *every column* is a series!"
   ]
  },
  {
   "cell_type": "code",
   "execution_count": 50,
   "id": "a41e3735-9daf-4ed9-9b6a-0ebce47af443",
   "metadata": {},
   "outputs": [
    {
     "ename": "KeyError",
     "evalue": "Ellipsis",
     "output_type": "error",
     "traceback": [
      "\u001b[0;31m---------------------------------------------------------------------------\u001b[0m",
      "\u001b[0;31mKeyError\u001b[0m                                  Traceback (most recent call last)",
      "\u001b[0;32m~/opt/anaconda3/lib/python3.9/site-packages/pandas/core/indexes/base.py\u001b[0m in \u001b[0;36mget_loc\u001b[0;34m(self, key, method, tolerance)\u001b[0m\n\u001b[1;32m   3360\u001b[0m             \u001b[0;32mtry\u001b[0m\u001b[0;34m:\u001b[0m\u001b[0;34m\u001b[0m\u001b[0;34m\u001b[0m\u001b[0m\n\u001b[0;32m-> 3361\u001b[0;31m                 \u001b[0;32mreturn\u001b[0m \u001b[0mself\u001b[0m\u001b[0;34m.\u001b[0m\u001b[0m_engine\u001b[0m\u001b[0;34m.\u001b[0m\u001b[0mget_loc\u001b[0m\u001b[0;34m(\u001b[0m\u001b[0mcasted_key\u001b[0m\u001b[0;34m)\u001b[0m\u001b[0;34m\u001b[0m\u001b[0;34m\u001b[0m\u001b[0m\n\u001b[0m\u001b[1;32m   3362\u001b[0m             \u001b[0;32mexcept\u001b[0m \u001b[0mKeyError\u001b[0m \u001b[0;32mas\u001b[0m \u001b[0merr\u001b[0m\u001b[0;34m:\u001b[0m\u001b[0;34m\u001b[0m\u001b[0;34m\u001b[0m\u001b[0m\n",
      "\u001b[0;32m~/opt/anaconda3/lib/python3.9/site-packages/pandas/_libs/index.pyx\u001b[0m in \u001b[0;36mpandas._libs.index.IndexEngine.get_loc\u001b[0;34m()\u001b[0m\n",
      "\u001b[0;32m~/opt/anaconda3/lib/python3.9/site-packages/pandas/_libs/index.pyx\u001b[0m in \u001b[0;36mpandas._libs.index.IndexEngine.get_loc\u001b[0;34m()\u001b[0m\n",
      "\u001b[0;32mpandas/_libs/hashtable_class_helper.pxi\u001b[0m in \u001b[0;36mpandas._libs.hashtable.PyObjectHashTable.get_item\u001b[0;34m()\u001b[0m\n",
      "\u001b[0;32mpandas/_libs/hashtable_class_helper.pxi\u001b[0m in \u001b[0;36mpandas._libs.hashtable.PyObjectHashTable.get_item\u001b[0;34m()\u001b[0m\n",
      "\u001b[0;31mKeyError\u001b[0m: Ellipsis",
      "\nThe above exception was the direct cause of the following exception:\n",
      "\u001b[0;31mKeyError\u001b[0m                                  Traceback (most recent call last)",
      "\u001b[0;32m/var/folders/t4/cy821_y16vq_lg1gqv6hmg9r0000gn/T/ipykernel_63838/3125264665.py\u001b[0m in \u001b[0;36m<module>\u001b[0;34m\u001b[0m\n\u001b[0;32m----> 1\u001b[0;31m \u001b[0mtype\u001b[0m\u001b[0;34m(\u001b[0m\u001b[0mbus_data\u001b[0m\u001b[0;34m[\u001b[0m\u001b[0;34m...\u001b[0m\u001b[0;34m]\u001b[0m\u001b[0;34m)\u001b[0m\u001b[0;34m\u001b[0m\u001b[0;34m\u001b[0m\u001b[0m\n\u001b[0m",
      "\u001b[0;32m~/opt/anaconda3/lib/python3.9/site-packages/pandas/core/frame.py\u001b[0m in \u001b[0;36m__getitem__\u001b[0;34m(self, key)\u001b[0m\n\u001b[1;32m   3456\u001b[0m             \u001b[0;32mif\u001b[0m \u001b[0mself\u001b[0m\u001b[0;34m.\u001b[0m\u001b[0mcolumns\u001b[0m\u001b[0;34m.\u001b[0m\u001b[0mnlevels\u001b[0m \u001b[0;34m>\u001b[0m \u001b[0;36m1\u001b[0m\u001b[0;34m:\u001b[0m\u001b[0;34m\u001b[0m\u001b[0;34m\u001b[0m\u001b[0m\n\u001b[1;32m   3457\u001b[0m                 \u001b[0;32mreturn\u001b[0m \u001b[0mself\u001b[0m\u001b[0;34m.\u001b[0m\u001b[0m_getitem_multilevel\u001b[0m\u001b[0;34m(\u001b[0m\u001b[0mkey\u001b[0m\u001b[0;34m)\u001b[0m\u001b[0;34m\u001b[0m\u001b[0;34m\u001b[0m\u001b[0m\n\u001b[0;32m-> 3458\u001b[0;31m             \u001b[0mindexer\u001b[0m \u001b[0;34m=\u001b[0m \u001b[0mself\u001b[0m\u001b[0;34m.\u001b[0m\u001b[0mcolumns\u001b[0m\u001b[0;34m.\u001b[0m\u001b[0mget_loc\u001b[0m\u001b[0;34m(\u001b[0m\u001b[0mkey\u001b[0m\u001b[0;34m)\u001b[0m\u001b[0;34m\u001b[0m\u001b[0;34m\u001b[0m\u001b[0m\n\u001b[0m\u001b[1;32m   3459\u001b[0m             \u001b[0;32mif\u001b[0m \u001b[0mis_integer\u001b[0m\u001b[0;34m(\u001b[0m\u001b[0mindexer\u001b[0m\u001b[0;34m)\u001b[0m\u001b[0;34m:\u001b[0m\u001b[0;34m\u001b[0m\u001b[0;34m\u001b[0m\u001b[0m\n\u001b[1;32m   3460\u001b[0m                 \u001b[0mindexer\u001b[0m \u001b[0;34m=\u001b[0m \u001b[0;34m[\u001b[0m\u001b[0mindexer\u001b[0m\u001b[0;34m]\u001b[0m\u001b[0;34m\u001b[0m\u001b[0;34m\u001b[0m\u001b[0m\n",
      "\u001b[0;32m~/opt/anaconda3/lib/python3.9/site-packages/pandas/core/indexes/base.py\u001b[0m in \u001b[0;36mget_loc\u001b[0;34m(self, key, method, tolerance)\u001b[0m\n\u001b[1;32m   3361\u001b[0m                 \u001b[0;32mreturn\u001b[0m \u001b[0mself\u001b[0m\u001b[0;34m.\u001b[0m\u001b[0m_engine\u001b[0m\u001b[0;34m.\u001b[0m\u001b[0mget_loc\u001b[0m\u001b[0;34m(\u001b[0m\u001b[0mcasted_key\u001b[0m\u001b[0;34m)\u001b[0m\u001b[0;34m\u001b[0m\u001b[0;34m\u001b[0m\u001b[0m\n\u001b[1;32m   3362\u001b[0m             \u001b[0;32mexcept\u001b[0m \u001b[0mKeyError\u001b[0m \u001b[0;32mas\u001b[0m \u001b[0merr\u001b[0m\u001b[0;34m:\u001b[0m\u001b[0;34m\u001b[0m\u001b[0;34m\u001b[0m\u001b[0m\n\u001b[0;32m-> 3363\u001b[0;31m                 \u001b[0;32mraise\u001b[0m \u001b[0mKeyError\u001b[0m\u001b[0;34m(\u001b[0m\u001b[0mkey\u001b[0m\u001b[0;34m)\u001b[0m \u001b[0;32mfrom\u001b[0m \u001b[0merr\u001b[0m\u001b[0;34m\u001b[0m\u001b[0;34m\u001b[0m\u001b[0m\n\u001b[0m\u001b[1;32m   3364\u001b[0m \u001b[0;34m\u001b[0m\u001b[0m\n\u001b[1;32m   3365\u001b[0m         \u001b[0;32mif\u001b[0m \u001b[0mis_scalar\u001b[0m\u001b[0;34m(\u001b[0m\u001b[0mkey\u001b[0m\u001b[0;34m)\u001b[0m \u001b[0;32mand\u001b[0m \u001b[0misna\u001b[0m\u001b[0;34m(\u001b[0m\u001b[0mkey\u001b[0m\u001b[0;34m)\u001b[0m \u001b[0;32mand\u001b[0m \u001b[0;32mnot\u001b[0m \u001b[0mself\u001b[0m\u001b[0;34m.\u001b[0m\u001b[0mhasnans\u001b[0m\u001b[0;34m:\u001b[0m\u001b[0;34m\u001b[0m\u001b[0;34m\u001b[0m\u001b[0m\n",
      "\u001b[0;31mKeyError\u001b[0m: Ellipsis"
     ]
    }
   ],
   "source": [
    "type(bus_data[...])"
   ]
  },
  {
   "cell_type": "markdown",
   "id": "a3dc6711-1809-4c4b-88af-08eddda3281c",
   "metadata": {},
   "source": [
    "Now we know that every column is a Series. Thus `Series.isin` can be applied to any column.\n",
    "\n",
    "Let's assign the series that contains the `postal_code` column to a variable called `zip_code_series`."
   ]
  },
  {
   "cell_type": "code",
   "execution_count": null,
   "id": "dbffdb68-e199-47dc-8828-92de528e84d5",
   "metadata": {},
   "outputs": [],
   "source": [
    "zip_code_series = bus_data['postal_code']\n",
    "zip_code_series"
   ]
  },
  {
   "cell_type": "markdown",
   "id": "9f1d7118-ae9d-4b72-a99c-bacbb5d85a6a",
   "metadata": {},
   "source": [
    "`Series.isin()` returns True and False for every value in the series indicating whether or not that value \"is in\" the array or list inputted in the parentheses.\n",
    "\n",
    "`zip_code_series.isin(valid_zips)` returns True if the zipcode in postal_code column is a valid zipcode and False otherwise."
   ]
  },
  {
   "cell_type": "code",
   "execution_count": null,
   "id": "dd0d2f07-f167-4198-8f43-9246d39ea55e",
   "metadata": {},
   "outputs": [],
   "source": [
    "is_valid_zip = zip_code_series.isin(valid_zips)\n",
    "is_valid_zip"
   ]
  },
  {
   "cell_type": "markdown",
   "id": "6c16f907-87b9-4eac-8bc7-dd023a045fca",
   "metadata": {},
   "source": [
    "Let's add a column to our `bus_data` DataFrame to more obviously indicate which rows have invalid postal codes."
   ]
  },
  {
   "cell_type": "code",
   "execution_count": null,
   "id": "5150b9c7-322b-4737-a156-10961397cda7",
   "metadata": {},
   "outputs": [],
   "source": [
    "bus_data['is_valid_zip'] = is_valid_zip\n",
    "bus_data.head()"
   ]
  },
  {
   "cell_type": "markdown",
   "id": "c02bc65b-946e-463b-91e5-ac9649d240e5",
   "metadata": {
    "tags": []
   },
   "source": [
    "### 4.4 Filtering data\n"
   ]
  },
  {
   "cell_type": "markdown",
   "id": "975bcb32-494f-4742-a213-ecb7ee60bcc2",
   "metadata": {},
   "source": [
    "Let's view the rows in `bus_data` that have **invalid zip codes**."
   ]
  },
  {
   "cell_type": "code",
   "execution_count": null,
   "id": "39639031-e7d8-4019-b5c3-dafd6f2ce4bf",
   "metadata": {},
   "outputs": [],
   "source": [
    "incorrect_postal_codes = bus_data[bus_data['is_valid_zip'] == False]\n",
    "incorrect_postal_codes"
   ]
  },
  {
   "cell_type": "markdown",
   "id": "56256f56-c0e5-4de0-98da-cefad624e1dd",
   "metadata": {},
   "source": [
    "Look at the postal_code column above. We can notice 2 main patterns:\n",
    "1. Many of these incorrect postal codes are `-9999`. \n",
    "2. Some other incorrect postal codes are incorrect because they give a postal code range, rather than a single code. (ie, `94105-1420` instead of `94105`)"
   ]
  },
  {
   "cell_type": "markdown",
   "id": "8be5c861-a7d1-4fda-b224-9dab936dffed",
   "metadata": {
    "tags": []
   },
   "source": [
    "#### 4.4.1 Investigating `-9999` Postal Codes\n",
    "We've investigated the 1st pattern below. Read through this process and formulate an opinion on why these restaurant locations might have incorrect/missing information."
   ]
  },
  {
   "cell_type": "code",
   "execution_count": null,
   "id": "cc5ae695-0d0f-4e83-8a34-9f6b9b06dce2",
   "metadata": {},
   "outputs": [],
   "source": [
    "code_neg9999 = incorrect_postal_codes[incorrect_postal_codes['postal_code'] == '-9999']\n",
    "code_neg9999"
   ]
  },
  {
   "cell_type": "markdown",
   "id": "a71947b6-ccf4-4edf-875b-779cf7f27cbd",
   "metadata": {},
   "source": [
    "^ This shows us that there are 194 rows that have the incorrect postal_code `-9999`. Let's look at some of the locations of the restaurants that correspond to these values."
   ]
  },
  {
   "cell_type": "code",
   "execution_count": null,
   "id": "cdd3ae28-4f3d-4c79-807c-f340a4e7f835",
   "metadata": {},
   "outputs": [],
   "source": [
    "# 'Address' column\n",
    "code_neg9999['address'].value_counts()"
   ]
  },
  {
   "cell_type": "markdown",
   "id": "d7b7bf28-ed6c-4198-aaa5-476cdc6aae52",
   "metadata": {},
   "source": [
    "This shows that there are 39 store locations that have addresses marked as \"Off The Grid\", 10 with addresses \"Off the Grid\", and 4 with addresses \"OTG\". These qualify as missing values for our data. Thus, will want to remove these rows from our `bus_data` DataFrame. We will do this after we address the second patern."
   ]
  },
  {
   "cell_type": "markdown",
   "id": "71f9a1f7-cac2-4af9-94a3-0d5297b0223f",
   "metadata": {},
   "source": [
    "#### 4.4.2 Investigating Postal Code Ranges\n"
   ]
  },
  {
   "cell_type": "markdown",
   "id": "87144276-5f7d-4d7e-a907-3c8d8e71452f",
   "metadata": {},
   "source": [
    "Next, let's look at the 2nd pattern (where zip code ranges are listed rather than individual zip codes). We actually *can* fix this so we won't need to drop any of these values!\n",
    "\n",
    "Every proper zip code is 5 digits long (ie, 94103). To turn the ranges into only a single zip code, we will use `str.slice` to \"trim\" the string. Remember that the `postal_code` column is made up of [strings](https://press.rebus.community/programmingfundamentals/chapter/string-data-type/) rather than integers. We use the code `str.slice(0,5)` to mean take a slice of the string from the 0th index up to the 5th index. This returns the 1st through 5th characters, which results in `94123-3106` turning into `94123`. For values that were already 5 digits long, this slice returns itself so nothing changes (ie, `94103` is still `94103`)."
   ]
  },
  {
   "cell_type": "code",
   "execution_count": null,
   "id": "acef5c25-4eef-4df1-8e4c-ebc952625e30",
   "metadata": {},
   "outputs": [],
   "source": [
    "bus_data['postal_code'] = bus_data['postal_code'].str.slice(0,5)\n",
    "bus_data\n",
    "#Notice now all postal codes are 5 digits"
   ]
  },
  {
   "cell_type": "markdown",
   "id": "53dddd05-840b-4db4-8be8-6cfcac5f910e",
   "metadata": {},
   "source": [
    "#### 4.4.3 Dropping Rows"
   ]
  },
  {
   "cell_type": "markdown",
   "id": "3c1e54df-750e-4017-b8e1-d73c3227a169",
   "metadata": {},
   "source": [
    "Now that we've fixed postal code ranges, let's drop the values that are not valid postal codes. We do this by filtering our data. \n",
    "\n",
    "*The line of code translates to:*\n",
    "> *\"The `bus_data` DataFrame now will be a DataFrame with only the rows in the `bus_data` DataFrame that had a `postal_code` that was in the list of valid zipcodes (`valid_zips`)\".*"
   ]
  },
  {
   "cell_type": "code",
   "execution_count": null,
   "id": "48d8b60e-d497-4c95-b5db-c6b41d4d9768",
   "metadata": {},
   "outputs": [],
   "source": [
    "bus_data = bus_data[bus_data.postal_code.isin(valid_zips) == True]\n",
    "bus_data"
   ]
  },
  {
   "cell_type": "markdown",
   "id": "a6833cf9-c41f-4404-96ab-7cdd9bb77236",
   "metadata": {},
   "source": [
    "# 5. Exploratory Data Analysis  <a id='4'></a>\n"
   ]
  },
  {
   "cell_type": "markdown",
   "id": "c62c8781",
   "metadata": {},
   "source": [
    "Exploratory Data Analysis allows you to \"get to know the data\". \n",
    "\n",
    "EDA is the process of transforming, visualizing, and summarizing data to:\n",
    "* build / confirm understanding of the data and its provenance\n",
    "* identify and address potential issues in the data\n",
    "* inform the subsequent analysis \n",
    "* discover potential hypothesis \n",
    "\n",
    "EDA ia an open-ended analysis that allows us to be willing to find something surprising."
   ]
  },
  {
   "cell_type": "markdown",
   "id": "27a2e79b-f6e8-4196-890b-5a5e5ce4c304",
   "metadata": {
    "tags": []
   },
   "source": [
    "### 5.1 Plotting distributions for values in different columns\n"
   ]
  },
  {
   "cell_type": "markdown",
   "id": "2640a73e-c38b-4bf5-83c1-79f837b9ae63",
   "metadata": {},
   "source": [
    "Question using .mean() to find the mean of a column of an uncleaned dataset\n",
    "Indicate that this mean shouldn’t intuitively seem correct\n",
    "Why data cleaning is important \n",
    "Find data that are not suitable when using mean\n",
    "Try to clean the data to make the mean suitable: filter unwanted outliers\n"
   ]
  },
  {
   "cell_type": "code",
   "execution_count": 64,
   "id": "0d6b03a1-399e-4a7e-a4c1-a6517f426d77",
   "metadata": {},
   "outputs": [
    {
     "data": {
      "image/png": "[encoded data removed]",
      "text/plain": [
       "<Figure size 432x288 with 1 Axes>"
      ]
     },
     "metadata": {},
     "output_type": "display_data"
    }
   ],
   "source": [
    "scoregrouped = bus_data.groupby(['score']).size()\n",
    "plt.figure()\n",
    "plt.bar(scoregrouped.index, scoregrouped.values, edgecolor = 'black')\n",
    "plt.title('Distribution of Inspection Scores')\n",
    "plt.xlabel('Score');\n",
    "plt.ylabel('Count');"
   ]
  },
  {
   "cell_type": "code",
   "execution_count": 54,
   "id": "ba76cfdd-82ea-4e49-8445-2ed75ca1159a",
   "metadata": {},
   "outputs": [
    {
     "data": {
      "image/png": "[encoded data removed]",
      "text/plain": [
       "<Figure size 432x288 with 1 Axes>"
      ]
     },
     "metadata": {},
     "output_type": "display_data"
    }
   ],
   "source": [
    "sns.histplot(bus_data, x = 'score', bins = 20);"
   ]
  },
  {
   "cell_type": "markdown",
   "id": "6f55a1bd-299d-481c-9927-09d07e5ed109",
   "metadata": {
    "tags": []
   },
   "source": [
    "### 5.2 Data Exploration\n"
   ]
  },
  {
   "cell_type": "markdown",
   "id": "d9803217",
   "metadata": {},
   "source": [
    "**5.2.1 Using `.groupby`**"
   ]
  },
  {
   "cell_type": "markdown",
   "id": "cb1ee64c",
   "metadata": {},
   "source": [
    "What is the average score for each unique business id?"
   ]
  },
  {
   "cell_type": "code",
   "execution_count": 56,
   "id": "d9b25215",
   "metadata": {},
   "outputs": [
    {
     "data": {
      "text/html": [
       "<div>\n",
       "<style scoped>\n",
       "    .dataframe tbody tr th:only-of-type {\n",
       "        vertical-align: middle;\n",
       "    }\n",
       "\n",
       "    .dataframe tbody tr th {\n",
       "        vertical-align: top;\n",
       "    }\n",
       "\n",
       "    .dataframe thead th {\n",
       "        text-align: right;\n",
       "    }\n",
       "</style>\n",
       "<table border=\"1\" class=\"dataframe\">\n",
       "  <thead>\n",
       "    <tr style=\"text-align: right;\">\n",
       "      <th></th>\n",
       "      <th>score</th>\n",
       "    </tr>\n",
       "    <tr>\n",
       "      <th>bid</th>\n",
       "      <th></th>\n",
       "    </tr>\n",
       "  </thead>\n",
       "  <tbody>\n",
       "    <tr>\n",
       "      <th>19</th>\n",
       "      <td>95.00</td>\n",
       "    </tr>\n",
       "    <tr>\n",
       "      <th>24</th>\n",
       "      <td>98.00</td>\n",
       "    </tr>\n",
       "    <tr>\n",
       "      <th>31</th>\n",
       "      <td>95.00</td>\n",
       "    </tr>\n",
       "    <tr>\n",
       "      <th>45</th>\n",
       "      <td>88.25</td>\n",
       "    </tr>\n",
       "    <tr>\n",
       "      <th>48</th>\n",
       "      <td>90.50</td>\n",
       "    </tr>\n",
       "    <tr>\n",
       "      <th>...</th>\n",
       "      <td>...</td>\n",
       "    </tr>\n",
       "    <tr>\n",
       "      <th>101853</th>\n",
       "      <td>100.00</td>\n",
       "    </tr>\n",
       "    <tr>\n",
       "      <th>102067</th>\n",
       "      <td>100.00</td>\n",
       "    </tr>\n",
       "    <tr>\n",
       "      <th>102257</th>\n",
       "      <td>94.00</td>\n",
       "    </tr>\n",
       "    <tr>\n",
       "      <th>102336</th>\n",
       "      <td>82.00</td>\n",
       "    </tr>\n",
       "    <tr>\n",
       "      <th>102398</th>\n",
       "      <td>90.00</td>\n",
       "    </tr>\n",
       "  </tbody>\n",
       "</table>\n",
       "<p>5724 rows × 1 columns</p>\n",
       "</div>"
      ],
      "text/plain": [
       "         score\n",
       "bid           \n",
       "19       95.00\n",
       "24       98.00\n",
       "31       95.00\n",
       "45       88.25\n",
       "48       90.50\n",
       "...        ...\n",
       "101853  100.00\n",
       "102067  100.00\n",
       "102257   94.00\n",
       "102336   82.00\n",
       "102398   90.00\n",
       "\n",
       "[5724 rows x 1 columns]"
      ]
     },
     "execution_count": 56,
     "metadata": {},
     "output_type": "execute_result"
    }
   ],
   "source": [
    "bus_data.groupby('bid').mean()[['score']]"
   ]
  },
  {
   "cell_type": "markdown",
   "id": "965cda39",
   "metadata": {},
   "source": [
    "**5.2.2 Mean socore**"
   ]
  },
  {
   "cell_type": "markdown",
   "id": "dc585613",
   "metadata": {},
   "source": [
    "What is the mean of the scores?"
   ]
  },
  {
   "cell_type": "code",
   "execution_count": 57,
   "id": "1ce56f40",
   "metadata": {},
   "outputs": [
    {
     "data": {
      "text/plain": [
       "90.64671085453638"
      ]
     },
     "execution_count": 57,
     "metadata": {},
     "output_type": "execute_result"
    }
   ],
   "source": [
    "np.mean(bus_data['score'])"
   ]
  },
  {
   "cell_type": "markdown",
   "id": "e59ecd1e",
   "metadata": {},
   "source": [
    "**5.2.3 Median score**"
   ]
  },
  {
   "cell_type": "code",
   "execution_count": 58,
   "id": "cf3250d8",
   "metadata": {},
   "outputs": [
    {
     "data": {
      "text/plain": [
       "92.0"
      ]
     },
     "execution_count": 58,
     "metadata": {},
     "output_type": "execute_result"
    }
   ],
   "source": [
    "np.median(bus_data['score'])"
   ]
  },
  {
   "cell_type": "markdown",
   "id": "e568b117",
   "metadata": {},
   "source": [
    "**5.2.4 Distribution of the score column**"
   ]
  },
  {
   "cell_type": "markdown",
   "id": "3c53e449-908e-4f6e-8422-816126d39a57",
   "metadata": {},
   "source": [
    "Explain more what .describe() does"
   ]
  },
  {
   "cell_type": "code",
   "execution_count": 60,
   "id": "f9853534",
   "metadata": {},
   "outputs": [
    {
     "data": {
      "text/plain": [
       "count    14031.000000\n",
       "mean        90.646711\n",
       "std          7.627331\n",
       "min         45.000000\n",
       "25%         86.000000\n",
       "50%         92.000000\n",
       "75%         96.000000\n",
       "max        100.000000\n",
       "Name: score, dtype: float64"
      ]
     },
     "execution_count": 60,
     "metadata": {},
     "output_type": "execute_result"
    }
   ],
   "source": [
    "bus_data['score'].describe()"
   ]
  },
  {
   "cell_type": "markdown",
   "id": "efbcfb6e",
   "metadata": {},
   "source": [
    "**5.2.5 Filtering unwanted outliers**"
   ]
  },
  {
   "cell_type": "markdown",
   "id": "013a2fdc",
   "metadata": {},
   "source": [
    "It seems like there are some extremely small values in the dataset. We will filter out rows with scores below 60."
   ]
  },
  {
   "cell_type": "code",
   "execution_count": 65,
   "id": "337ef8b5",
   "metadata": {},
   "outputs": [
    {
     "data": {
      "text/html": [
       "<div>\n",
       "<style scoped>\n",
       "    .dataframe tbody tr th:only-of-type {\n",
       "        vertical-align: middle;\n",
       "    }\n",
       "\n",
       "    .dataframe tbody tr th {\n",
       "        vertical-align: top;\n",
       "    }\n",
       "\n",
       "    .dataframe thead th {\n",
       "        text-align: right;\n",
       "    }\n",
       "</style>\n",
       "<table border=\"1\" class=\"dataframe\">\n",
       "  <thead>\n",
       "    <tr style=\"text-align: right;\">\n",
       "      <th></th>\n",
       "      <th>date</th>\n",
       "      <th>score</th>\n",
       "      <th>type</th>\n",
       "      <th>bid</th>\n",
       "      <th>timestamp</th>\n",
       "      <th>name</th>\n",
       "      <th>address</th>\n",
       "      <th>city</th>\n",
       "      <th>state</th>\n",
       "      <th>postal_code</th>\n",
       "      <th>latitude</th>\n",
       "      <th>longitude</th>\n",
       "    </tr>\n",
       "  </thead>\n",
       "  <tbody>\n",
       "    <tr>\n",
       "      <th>0</th>\n",
       "      <td>04/03/2019 12:00:00 AM</td>\n",
       "      <td>100</td>\n",
       "      <td>Routine - Unscheduled</td>\n",
       "      <td>100010</td>\n",
       "      <td>2019-04-03</td>\n",
       "      <td>ILLY CAFFE SF_PIER 39</td>\n",
       "      <td>PIER 39  K-106-B</td>\n",
       "      <td>San Francisco</td>\n",
       "      <td>CA</td>\n",
       "      <td>94133</td>\n",
       "      <td>-9999.0</td>\n",
       "      <td>-9999.0</td>\n",
       "    </tr>\n",
       "    <tr>\n",
       "      <th>1</th>\n",
       "      <td>08/16/2019 12:00:00 AM</td>\n",
       "      <td>91</td>\n",
       "      <td>Routine - Unscheduled</td>\n",
       "      <td>100017</td>\n",
       "      <td>2019-08-16</td>\n",
       "      <td>AMICI'S EAST COAST PIZZERIA</td>\n",
       "      <td>475 06th St</td>\n",
       "      <td>San Francisco</td>\n",
       "      <td>CA</td>\n",
       "      <td>94103</td>\n",
       "      <td>-9999.0</td>\n",
       "      <td>-9999.0</td>\n",
       "    </tr>\n",
       "    <tr>\n",
       "      <th>2</th>\n",
       "      <td>05/20/2019 12:00:00 AM</td>\n",
       "      <td>83</td>\n",
       "      <td>Routine - Unscheduled</td>\n",
       "      <td>100041</td>\n",
       "      <td>2019-05-20</td>\n",
       "      <td>UNCLE LEE CAFE</td>\n",
       "      <td>3608 BALBOA ST</td>\n",
       "      <td>San Francisco</td>\n",
       "      <td>CA</td>\n",
       "      <td>94121</td>\n",
       "      <td>-9999.0</td>\n",
       "      <td>-9999.0</td>\n",
       "    </tr>\n",
       "    <tr>\n",
       "      <th>3</th>\n",
       "      <td>04/25/2019 12:00:00 AM</td>\n",
       "      <td>98</td>\n",
       "      <td>Routine - Unscheduled</td>\n",
       "      <td>100055</td>\n",
       "      <td>2019-04-25</td>\n",
       "      <td>Twirl and Dip</td>\n",
       "      <td>335 Martin Luther King Jr. Dr</td>\n",
       "      <td>San Francisco</td>\n",
       "      <td>CA</td>\n",
       "      <td>94118</td>\n",
       "      <td>-9999.0</td>\n",
       "      <td>-9999.0</td>\n",
       "    </tr>\n",
       "    <tr>\n",
       "      <th>4</th>\n",
       "      <td>09/12/2019 12:00:00 AM</td>\n",
       "      <td>82</td>\n",
       "      <td>Routine - Unscheduled</td>\n",
       "      <td>100055</td>\n",
       "      <td>2019-09-12</td>\n",
       "      <td>Twirl and Dip</td>\n",
       "      <td>335 Martin Luther King Jr. Dr</td>\n",
       "      <td>San Francisco</td>\n",
       "      <td>CA</td>\n",
       "      <td>94118</td>\n",
       "      <td>-9999.0</td>\n",
       "      <td>-9999.0</td>\n",
       "    </tr>\n",
       "  </tbody>\n",
       "</table>\n",
       "</div>"
      ],
      "text/plain": [
       "                     date  score                   type     bid  timestamp  \\\n",
       "0  04/03/2019 12:00:00 AM    100  Routine - Unscheduled  100010 2019-04-03   \n",
       "1  08/16/2019 12:00:00 AM     91  Routine - Unscheduled  100017 2019-08-16   \n",
       "2  05/20/2019 12:00:00 AM     83  Routine - Unscheduled  100041 2019-05-20   \n",
       "3  04/25/2019 12:00:00 AM     98  Routine - Unscheduled  100055 2019-04-25   \n",
       "4  09/12/2019 12:00:00 AM     82  Routine - Unscheduled  100055 2019-09-12   \n",
       "\n",
       "                          name                        address           city  \\\n",
       "0        ILLY CAFFE SF_PIER 39               PIER 39  K-106-B  San Francisco   \n",
       "1  AMICI'S EAST COAST PIZZERIA                    475 06th St  San Francisco   \n",
       "2               UNCLE LEE CAFE                 3608 BALBOA ST  San Francisco   \n",
       "3                Twirl and Dip  335 Martin Luther King Jr. Dr  San Francisco   \n",
       "4                Twirl and Dip  335 Martin Luther King Jr. Dr  San Francisco   \n",
       "\n",
       "  state postal_code  latitude  longitude  \n",
       "0    CA       94133   -9999.0    -9999.0  \n",
       "1    CA       94103   -9999.0    -9999.0  \n",
       "2    CA       94121   -9999.0    -9999.0  \n",
       "3    CA       94118   -9999.0    -9999.0  \n",
       "4    CA       94118   -9999.0    -9999.0  "
      ]
     },
     "execution_count": 65,
     "metadata": {},
     "output_type": "execute_result"
    }
   ],
   "source": [
    "bus_data = bus_data[bus_data['score']>=60]\n",
    "bus_data.head()"
   ]
  },
  {
   "cell_type": "markdown",
   "id": "c50279a2-2868-44c1-98ac-8fdb20529291",
   "metadata": {
    "tags": []
   },
   "source": [
    "### 5.3 Your Turn: Analyze the Data\n"
   ]
  },
  {
   "cell_type": "markdown",
   "id": "d8a5985d-675d-4bdb-bc27-dcd4c2452fe5",
   "metadata": {},
   "source": [
    "We will provide an example here, then you will repeat the process two times below. Look back at your **hypothesis** to see what variables/columns you will want to focus on analyzing."
   ]
  },
  {
   "cell_type": "markdown",
   "id": "fa178a40-160e-4eb4-af01-ad0c52f54839",
   "metadata": {},
   "source": [
    "Question"
   ]
  },
  {
   "cell_type": "code",
   "execution_count": 66,
   "id": "997b90a4-8242-4a24-9604-49e92fd2343d",
   "metadata": {},
   "outputs": [],
   "source": [
    "#code to answer"
   ]
  },
  {
   "cell_type": "markdown",
   "id": "4b9e4c31-88b8-46ef-8499-76a033675a6f",
   "metadata": {},
   "source": [
    "#### Write your 1st analysis question here. (double-click to edit)"
   ]
  },
  {
   "cell_type": "code",
   "execution_count": 67,
   "id": "45587869-bffd-4708-b7f1-839b0add11f6",
   "metadata": {
    "tags": []
   },
   "outputs": [],
   "source": [
    "# Use this cell to code the answer to your question"
   ]
  },
  {
   "cell_type": "markdown",
   "id": "be08b9c6-9034-4652-8c2b-8d6d17f50f97",
   "metadata": {},
   "source": [
    "#### Write your 2nd analysis question here. (double-click to edit)"
   ]
  },
  {
   "cell_type": "code",
   "execution_count": 68,
   "id": "bb47a91a-a0ca-4081-a8d0-a3696a4e4a86",
   "metadata": {
    "tags": []
   },
   "outputs": [],
   "source": [
    "# Use this cell to code the answer to your question"
   ]
  },
  {
   "cell_type": "markdown",
   "id": "0f61d16b",
   "metadata": {
    "tags": []
   },
   "source": [
    "<br><br>\n",
    "# 6. Conclusion <a id='5'></a>"
   ]
  },
  {
   "cell_type": "markdown",
   "id": "d729145b-4f20-4ddd-9c03-47912c753663",
   "metadata": {},
   "source": [
    "**Validating the Data**"
   ]
  },
  {
   "cell_type": "markdown",
   "id": "30ed5887-2a91-484e-ac1d-c6062a4db6d3",
   "metadata": {},
   "source": [
    "<font color = #d14d0f>**QUESTION __**:</font>\n",
    "\n",
    "**Does the data align with your expectations?**"
   ]
  },
  {
   "cell_type": "markdown",
   "id": "6fe21a6f-f352-45fd-915b-f9c3d570ae1b",
   "metadata": {},
   "source": [
    "*REPLACE THIS TEXT WITH YOUR RESPONSE. DOUBLE CLICK THIS CELL, TYPE YOUR RESPONSE, AND RUN THE CELL TO SAVE AND DISPLAY YOUR RESPONSE.*"
   ]
  },
  {
   "cell_type": "markdown",
   "id": "333e239e-d6f5-4c90-9f21-212399ca7a2e",
   "metadata": {},
   "source": [
    "<font color = #d14d0f>**QUESTION __**:</font>\n",
    "\n",
    "**Does the data prove or disprove your hypothesis? Does it bring you any insight?**"
   ]
  },
  {
   "cell_type": "markdown",
   "id": "4391e2ea-bf41-4b6b-bc93-b5d18e6d6020",
   "metadata": {},
   "source": [
    "*REPLACE THIS TEXT WITH YOUR RESPONSE. DOUBLE CLICK THIS CELL, TYPE YOUR RESPONSE, AND RUN THE CELL TO SAVE AND DISPLAY YOUR RESPONSE.*"
   ]
  },
  {
   "cell_type": "markdown",
   "id": "c0578702-8b51-4778-b891-4ff34229ca9d",
   "metadata": {},
   "source": [
    "<font color = #d14d0f>**QUESTION __**:</font>\n",
    "\n",
    "**Did you find another trend that can help you formulate another hypothesis?**"
   ]
  },
  {
   "cell_type": "markdown",
   "id": "99d00cad-fc6f-47f0-b391-09ecaa0bd4a1",
   "metadata": {},
   "source": [
    "*REPLACE THIS TEXT WITH YOUR RESPONSE. DOUBLE CLICK THIS CELL, TYPE YOUR RESPONSE, AND RUN THE CELL TO SAVE AND DISPLAY YOUR RESPONSE.*"
   ]
  },
  {
   "cell_type": "markdown",
   "id": "633a32f0",
   "metadata": {},
   "source": [
    "### Sample Discussion Question: \n",
    "**Another Sample Question Here?**"
   ]
  },
  {
   "cell_type": "markdown",
   "id": "dc6c949c",
   "metadata": {},
   "source": [
    "REPLACE THIS TEXT WITH YOUR RESPONSE. DOUBLE CLICK THIS CELL, TYPE YOUR RESPONSE, AND RUN THE CELL TO SAVE AND DISPLAY YOUR RESPONSE."
   ]
  },
  {
   "cell_type": "code",
   "execution_count": 69,
   "id": "3d0d3e32",
   "metadata": {},
   "outputs": [],
   "source": [
    "# Sample Bonus Challenge code goes here"
   ]
  },
  {
   "cell_type": "markdown",
   "id": "20adda58",
   "metadata": {},
   "source": [
    "<br><br>\n",
    "# 7. Submitting Your Work  <a id='=6'></a>\n",
    "\n",
    "**@Devs ignore this section for now I will work on this -Skye**\n",
    "\n",
    "If an instructor requires a PDF output for students based on their text Markdown Responses, we typically use the Otter package (developed here at Berkeley) to extract the student responses. To do this you can follow the instructions on this document: [How To Otter](https://docs.google.com/document/d/1Rl735LKpD_5gs6dUa8xJTILa510JeatIDB_M_FNRDow/edit?usp=sharing). Below is a sample code and markdown instructions we use to guide students to extract the text content from their notebook:"
   ]
  },
  {
   "cell_type": "markdown",
   "id": "fc6ed83d",
   "metadata": {},
   "source": [
    "**Make sure that you've answered all the questions.**\n",
    "\n",
    "You are now finished with this notebook!\n",
    "\n",
    "> Please run the following cell to generate a download link for your responses and submit to Bcourses!\n",
    "\n",
    "**Note:** If clicking the link below doesn't work for you, don't worry! Simply right click and choose `Save Link As...` to save a copy of your pdf onto your computer.\n",
    "\n",
    "**Note:** If you made any changes to your responses and/or they are not reflected in your PDF, make sure to re-run all the cells. You can do this by going to the top and clicking `Cell >> Run All` and download your new PDF.\n",
    "\n",
    "**Check the PDF before submitting and make sure all of your answers and any changes are shown.**"
   ]
  },
  {
   "cell_type": "code",
   "execution_count": 63,
   "id": "adf7e731",
   "metadata": {},
   "outputs": [
    {
     "ename": "FileNotFoundError",
     "evalue": "[Errno 2] No such file or directory: 'Notebook1.ipynb'",
     "output_type": "error",
     "traceback": [
      "\u001b[0;31m---------------------------------------------------------------------------\u001b[0m",
      "\u001b[0;31mFileNotFoundError\u001b[0m                         Traceback (most recent call last)",
      "\u001b[0;32m/var/folders/t4/cy821_y16vq_lg1gqv6hmg9r0000gn/T/ipykernel_63838/2603803389.py\u001b[0m in \u001b[0;36m<module>\u001b[0;34m\u001b[0m\n\u001b[1;32m      2\u001b[0m \u001b[0;32mfrom\u001b[0m \u001b[0motter\u001b[0m\u001b[0;34m.\u001b[0m\u001b[0mexport\u001b[0m \u001b[0;32mimport\u001b[0m \u001b[0mexport_notebook\u001b[0m\u001b[0;34m\u001b[0m\u001b[0;34m\u001b[0m\u001b[0m\n\u001b[1;32m      3\u001b[0m \u001b[0;32mfrom\u001b[0m \u001b[0mIPython\u001b[0m\u001b[0;34m.\u001b[0m\u001b[0mdisplay\u001b[0m \u001b[0;32mimport\u001b[0m \u001b[0mdisplay\u001b[0m\u001b[0;34m,\u001b[0m \u001b[0mHTML\u001b[0m\u001b[0;34m\u001b[0m\u001b[0;34m\u001b[0m\u001b[0m\n\u001b[0;32m----> 4\u001b[0;31m \u001b[0mexport_notebook\u001b[0m\u001b[0;34m(\u001b[0m\u001b[0;34m\"Notebook1.ipynb\"\u001b[0m\u001b[0;34m,\u001b[0m \u001b[0mfiltering\u001b[0m\u001b[0;34m=\u001b[0m\u001b[0;32mTrue\u001b[0m\u001b[0;34m,\u001b[0m \u001b[0mpagebreaks\u001b[0m\u001b[0;34m=\u001b[0m\u001b[0;32mFalse\u001b[0m\u001b[0;34m)\u001b[0m\u001b[0;34m\u001b[0m\u001b[0;34m\u001b[0m\u001b[0m\n\u001b[0m\u001b[1;32m      5\u001b[0m \u001b[0mdisplay\u001b[0m\u001b[0;34m(\u001b[0m\u001b[0mHTML\u001b[0m\u001b[0;34m(\u001b[0m\u001b[0;34m\"<p style='font-size:20px'> <br>Save this notebook, then click <a href='Notebook1.pdf' download>here</a> to open the pdf.<br></p>\"\u001b[0m\u001b[0;34m)\u001b[0m\u001b[0;34m)\u001b[0m\u001b[0;34m\u001b[0m\u001b[0;34m\u001b[0m\u001b[0m\n",
      "\u001b[0;32m~/opt/anaconda3/lib/python3.9/site-packages/otter/export/__init__.py\u001b[0m in \u001b[0;36mexport_notebook\u001b[0;34m(nb_path, dest, exporter_type, **kwargs)\u001b[0m\n\u001b[1;32m     40\u001b[0m \u001b[0;34m\u001b[0m\u001b[0m\n\u001b[1;32m     41\u001b[0m     \u001b[0mExporter\u001b[0m \u001b[0;34m=\u001b[0m \u001b[0mget_exporter\u001b[0m\u001b[0;34m(\u001b[0m\u001b[0mexporter_type\u001b[0m\u001b[0;34m=\u001b[0m\u001b[0mexporter_type\u001b[0m\u001b[0;34m)\u001b[0m\u001b[0;34m\u001b[0m\u001b[0;34m\u001b[0m\u001b[0m\n\u001b[0;32m---> 42\u001b[0;31m     \u001b[0mExporter\u001b[0m\u001b[0;34m.\u001b[0m\u001b[0mconvert_notebook\u001b[0m\u001b[0;34m(\u001b[0m\u001b[0mnb_path\u001b[0m\u001b[0;34m,\u001b[0m \u001b[0mpdf_name\u001b[0m\u001b[0;34m,\u001b[0m \u001b[0;34m**\u001b[0m\u001b[0mkwargs\u001b[0m\u001b[0;34m)\u001b[0m\u001b[0;34m\u001b[0m\u001b[0;34m\u001b[0m\u001b[0m\n\u001b[0m\u001b[1;32m     43\u001b[0m \u001b[0;34m\u001b[0m\u001b[0m\n\u001b[1;32m     44\u001b[0m     \u001b[0;32mreturn\u001b[0m \u001b[0mpdf_name\u001b[0m\u001b[0;34m\u001b[0m\u001b[0;34m\u001b[0m\u001b[0m\n",
      "\u001b[0;32m~/opt/anaconda3/lib/python3.9/site-packages/otter/export/exporters/via_latex.py\u001b[0m in \u001b[0;36mconvert_notebook\u001b[0;34m(cls, nb_path, dest, xecjk, no_xecjk, **kwargs)\u001b[0m\n\u001b[1;32m     45\u001b[0m             \u001b[0moptions\u001b[0m\u001b[0;34m[\u001b[0m\u001b[0;34m\"template\"\u001b[0m\u001b[0;34m]\u001b[0m \u001b[0;34m=\u001b[0m \u001b[0;34m\"via_latex_xecjk\"\u001b[0m\u001b[0;34m\u001b[0m\u001b[0;34m\u001b[0m\u001b[0m\n\u001b[1;32m     46\u001b[0m \u001b[0;34m\u001b[0m\u001b[0m\n\u001b[0;32m---> 47\u001b[0;31m         \u001b[0mnb\u001b[0m \u001b[0;34m=\u001b[0m \u001b[0mcls\u001b[0m\u001b[0;34m.\u001b[0m\u001b[0mload_notebook\u001b[0m\u001b[0;34m(\u001b[0m\u001b[0mnb_path\u001b[0m\u001b[0;34m,\u001b[0m \u001b[0mfiltering\u001b[0m\u001b[0;34m=\u001b[0m\u001b[0moptions\u001b[0m\u001b[0;34m[\u001b[0m\u001b[0;34m\"filtering\"\u001b[0m\u001b[0;34m]\u001b[0m\u001b[0;34m,\u001b[0m \u001b[0mpagebreaks\u001b[0m\u001b[0;34m=\u001b[0m\u001b[0moptions\u001b[0m\u001b[0;34m[\u001b[0m\u001b[0;34m\"pagebreaks\"\u001b[0m\u001b[0;34m]\u001b[0m\u001b[0;34m)\u001b[0m\u001b[0;34m\u001b[0m\u001b[0;34m\u001b[0m\u001b[0m\n\u001b[0m\u001b[1;32m     48\u001b[0m \u001b[0;34m\u001b[0m\u001b[0m\n\u001b[1;32m     49\u001b[0m         \u001b[0;32mif\u001b[0m \u001b[0mNBCONVERT_6\u001b[0m\u001b[0;34m:\u001b[0m\u001b[0;34m\u001b[0m\u001b[0;34m\u001b[0m\u001b[0m\n",
      "\u001b[0;32m~/opt/anaconda3/lib/python3.9/site-packages/otter/export/exporters/base_exporter.py\u001b[0m in \u001b[0;36mload_notebook\u001b[0;34m(cls, nb_path, filtering, pagebreaks)\u001b[0m\n\u001b[1;32m     73\u001b[0m             \u001b[0;31m`\u001b[0m\u001b[0;31m`\u001b[0m\u001b[0mnbformat\u001b[0m\u001b[0;34m.\u001b[0m\u001b[0mNotebookNode\u001b[0m\u001b[0;31m`\u001b[0m\u001b[0;31m`\u001b[0m\u001b[0;34m:\u001b[0m \u001b[0mthe\u001b[0m \u001b[0mparsed\u001b[0m \u001b[0;32mand\u001b[0m \u001b[0;34m(\u001b[0m\u001b[0moptionally\u001b[0m\u001b[0;34m)\u001b[0m \u001b[0mfiltered\u001b[0m \u001b[0mnotebook\u001b[0m\u001b[0;34m\u001b[0m\u001b[0;34m\u001b[0m\u001b[0m\n\u001b[1;32m     74\u001b[0m         \"\"\"\n\u001b[0;32m---> 75\u001b[0;31m         \u001b[0;32mwith\u001b[0m \u001b[0mopen\u001b[0m\u001b[0;34m(\u001b[0m\u001b[0mnb_path\u001b[0m\u001b[0;34m)\u001b[0m \u001b[0;32mas\u001b[0m \u001b[0mf\u001b[0m\u001b[0;34m:\u001b[0m\u001b[0;34m\u001b[0m\u001b[0;34m\u001b[0m\u001b[0m\n\u001b[0m\u001b[1;32m     76\u001b[0m             \u001b[0mnotebook\u001b[0m \u001b[0;34m=\u001b[0m \u001b[0mnbformat\u001b[0m\u001b[0;34m.\u001b[0m\u001b[0mread\u001b[0m\u001b[0;34m(\u001b[0m\u001b[0mf\u001b[0m\u001b[0;34m,\u001b[0m \u001b[0mas_version\u001b[0m\u001b[0;34m=\u001b[0m\u001b[0mNBFORMAT_VERSION\u001b[0m\u001b[0;34m)\u001b[0m\u001b[0;34m\u001b[0m\u001b[0;34m\u001b[0m\u001b[0m\n\u001b[1;32m     77\u001b[0m         \u001b[0;32mif\u001b[0m \u001b[0mfiltering\u001b[0m\u001b[0;34m:\u001b[0m\u001b[0;34m\u001b[0m\u001b[0;34m\u001b[0m\u001b[0m\n",
      "\u001b[0;31mFileNotFoundError\u001b[0m: [Errno 2] No such file or directory: 'Notebook1.ipynb'"
     ]
    }
   ],
   "source": [
    "#This may take a few extra seconds.\n",
    "from otter.export import export_notebook\n",
    "from IPython.display import display, HTML\n",
    "export_notebook(\"Notebook1.ipynb\", filtering=True, pagebreaks=False)\n",
    "display(HTML(\"<p style='font-size:20px'> <br>Save this notebook, then click <a href='Notebook1.pdf' download>here</a> to open the pdf.<br></p>\"))"
   ]
  },
  {
   "cell_type": "markdown",
   "id": "bc4f0907",
   "metadata": {},
   "source": [
    "<br><br>\n",
    "# 8. Explore Data Science Opportunities  <a id='7'></a>\n",
    "\n",
    "Interested in learning more about how to get involved in data science or learn about data science applications in your field of study? The following resources might help support your learning:\n",
    "\n",
    "---\n",
    "\n",
    "- Data Science Modules: http://data.berkeley.edu/education/modules\n",
    "\n",
    "- Data Science Offerings at Berkeley: https://data.berkeley.edu/academics/undergraduate-programs/data-science-offerings\n",
    "\n",
    "- Data 8 Course Information: http://data8.org/\n",
    "\n",
    "- Data 100 Course Information: https://ds100.org/\n"
   ]
  },
  {
   "cell_type": "markdown",
   "id": "3938db15",
   "metadata": {},
   "source": [
    "# 9. Feedback Form  <a id='8'></a>\n",
    "\n",
    "<div class=\"alert alert-info\">\n",
    "<b> We encourage students to fill out the following feedback form to share your experience with this Module notebook. This feedback form will take no longer than 5 minutes. At UC Berkeley Data Science Undergraduate Studies Modules, we appreciate all feedback to improve the learning of students and experience utilizing Jupyter Notebooks for Data Science Education: </b> \n",
    "</div>\n",
    "\n",
    "# [UC Berkeley Data Science Feedback Form](https://forms.gle/hipxf2uFw5Ud4Hyn8)"
   ]
  }
 ],
 "metadata": {
  "kernelspec": {
   "display_name": "Python 3 (ipykernel)",
   "language": "python",
   "name": "python3"
  },
  "language_info": {
   "codemirror_mode": {
    "name": "ipython",
    "version": 3
   },
   "file_extension": ".py",
   "mimetype": "text/x-python",
   "name": "python",
   "nbconvert_exporter": "python",
   "pygments_lexer": "ipython3",
   "version": "3.9.7"
  }
 },
 "nbformat": 4,
 "nbformat_minor": 5
}
