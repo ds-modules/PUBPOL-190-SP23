{
 "cells": [
  {
   "cell_type": "markdown",
   "id": "10596309-ad50-4aa3-a165-37bf26c0b376",
   "metadata": {},
   "source": [
    "# [PUBPOL/ETHSTD C164A] 4. Data Visualization\n",
    "\n",
    "**Estimated time:** 60 minutes\n",
    "\n",
    "**Notebook developed by:** <br>\n",
    "Team Lead: Skye Pickett  <br>\n",
    "Fall 2022 Developers: Leah Hong, Emily Guo, Reynolds Zhang <br>\n",
    "Summer 2022 Developers: Vaidehi Bulusu, Leah Hong, Drishti Gupta, Hans Ocampo <br>\n",
    "\n",
    "\n",
    "### Learning Outcomes\n",
    "\n",
    "\n",
    "In this notebook, you will learn about:\n",
    "- How to explore datasets\n",
    "- How to prepare data to be visualizaed\n",
    "- The purpose of different visualizations \n",
    "- How to create and code visualizations\n",
    "- How to analyze and draw insights from visualizations\n",
    "\n",
    "\n",
    "### Table of Contents\n",
    "1. [What is Data Visualization?](#1.-What-is-Data-Visualization?)\n",
    "1. [Introducing the Dataset](#2.-Introducing-the-Dataset)\n",
    "1. [Exploring the Dataset](#3.-Exploring-the-Dataset)\n",
    "1. [Data Visualizations](#4.-Data-Visualizations)\n",
    "    1. [Line Plots](#4.1-Line-Plots)\n",
    "    1. [Bar Charts](#4.2-Bar-Charts)\n",
    "    1. [Scatter Plots](#4.3-Scatter-Plots)\n",
    "    1. [Histograms](#4.4-Histograms)\n",
    "1. [Advanced Visualizations](#5.-Advanced-Visualizations)\n",
    "    1. [Boxplot](#5.1-Boxplot)\n",
    "    1. [Pie Chart](#5.2-Pie-Chart)\n",
    "    1. [Violin Plot](#5.3-Violin-Plot)\n",
    "1. [Conclusion](#6.-Conclusion)\n",
    "1. [Submitting Your Work](#7.-Submitting-Your-Work)\n",
    "1. [Explore Data Science Opportunities](#8.-Explore-Data-Science-Opportunities)\n",
    "1. [Feedback Form](#9.-Feedback-Form)\n",
    "\n",
    "***"
   ]
  },
  {
   "cell_type": "markdown",
   "id": "299006d6-b2de-4bb2-a30b-d2618fd2b9ed",
   "metadata": {},
   "source": [
    "### Helpful Data Science Resources \n",
    "Here are some resources you can check out while doing this notebook and to explore data visualization further!\n",
    "- [DATA 8 Textbook](https://inferentialthinking.com/chapters/07/Visualization.html) - Visualization chapter\n",
    "- [Reference Sheet for the datascience Module](http://data8.org/sp22/python-reference.html)\n",
    "- [Documentation for the datascience Modules](http://data8.org/datascience/index.html)\n",
    "- [Cool Data Visualizations](https://www.tableau.com/learn/articles/best-beautiful-data-visualization-examples)\n",
    "- [Statistica: Find Data on Interesting Topics](https://www.statista.com/)\n",
    "- [Exploratory Data Analysis](https://en.wikipedia.org/wiki/Exploratory_data_analysis)\n"
   ]
  },
  {
   "cell_type": "markdown",
   "id": "14bb589d-0def-4483-acf5-c766d3c897d3",
   "metadata": {
    "tags": []
   },
   "source": [
    "### Peer Consulting\n",
    "\n",
    "If you find yourself having trouble with any content in this notebook, Data Peer Consultants are an excellent resource! Click [here](https://dlab.berkeley.edu/training/frontdesk-info) to locate live help.\n",
    "\n",
    "Peer Consultants are there to answer all data-related questions, whether it be about the content of this notebook, applications of data science in the world, or other data science courses offered at Berkeley."
   ]
  },
  {
   "cell_type": "markdown",
   "id": "bb3fbe12",
   "metadata": {},
   "source": [
    "***\n",
    "# 1. What is Data Visualization?\n",
    "\n",
    "Data visualization is a powerful technique that allows us to understand our data. We can use visualizations for a variety of purposes:\n",
    "\n",
    "- To see how a variable changes over time (e.g. do wages among the youth increase or decrease over time?)\n",
    "- To explore relationships between variables (e.g. how does your income change as you get more education?)\n",
    "- To see how data is distributed (e.g. is the data for average income spread out or concentrated around one value?) \n",
    "- And more! \n",
    "\n",
    "In this notebook, we'll be looking at the visualizations we can use for each of the above purposes. Let's start by looking at our dataset."
   ]
  },
  {
   "cell_type": "markdown",
   "id": "e3d5df38",
   "metadata": {},
   "source": [
    "***\n",
    "# 2. Introducing the Dataset\n",
    "\n",
    "The [U.S. Bureau of Labor Statistics](https://www.bls.gov/) has data on a variety of topics related to labor, including wages for different occupations, unemployment rates, labor productivity, and more. Feel free to check out some of the datasets in the [BLS Data Finder](https://www.bls.gov/data/)!\n",
    "\n",
    "For this notebook, we'll be looking at data from the [American Time Use Survey](https://www.bls.gov/tus/). This is an annual survey that asks people how much time they spend on various activities, including work, education, volunteering, socializing, sports and more. \n",
    "\n",
    "ATUS is sponsored by the Bureau of Labor Statistics and conducted by the U.S. Census Bureau. The Census Bureau collects and processes the data. Data collection began in January 2003, and the first estimates were published on September 14, 2004. <br>\n",
    "*Survey eligibility requirement:* Households that have completed their final (8th) month of the Current Population Survey are eligible for the ATUS. From this eligible group, households are selected that represent a range of demographic characteristics. Then, one person age 15 or over is randomly chosen from the household to answer questions about his or her time use. This person is interviewed for the ATUS 2-5 months after the household's final CPS interview.\n",
    "\n",
    "\n",
    "\n",
    "\n",
    "\n",
    "**We'll specifically looking at the average number of hours people spent per day on work and education-related activities *for the 25-34 age group*.**\n",
    "\n",
    "Now we're ready to explore the datasets!\n"
   ]
  },
  {
   "cell_type": "markdown",
   "id": "fc407b23",
   "metadata": {},
   "source": [
    "***\n",
    "# 3. Exploring the Dataset\n",
    "\n",
    "## 3.1 Importing and Understanding Tables\n",
    "\n",
    "In sections 3 and 4, we will be performing exploratory data analysis (EDA). Through EDA, we can examine the characteristics of and find trends and patterns in our data. In section 3, we'll explore our datasets. In section 4, we will visualize our data.\n",
    "\n",
    "We can start by importing the necessary packages in the cell below, then importing the education dataset subsequently. "
   ]
  },
  {
   "cell_type": "code",
   "execution_count": 1,
   "id": "c421c2f8",
   "metadata": {},
   "outputs": [
    {
     "name": "stdout",
     "output_type": "stream",
     "text": [
      "All necessary packages have been imported!\n"
     ]
    }
   ],
   "source": [
    "# RUN THIS CELL\n",
    "# Import the required modules\n",
    "from datascience import *\n",
    "import numpy as np\n",
    "import matplotlib.pyplot as plt\n",
    "import seaborn as sns\n",
    "%matplotlib inline\n",
    "import warnings\n",
    "warnings.filterwarnings(\"ignore\")\n",
    "plt.style.use('fivethirtyeight')\n",
    "import otter\n",
    "grader = otter.Notebook()\n",
    "print(\"All necessary packages have been imported!\")"
   ]
  },
  {
   "cell_type": "markdown",
   "id": "5f83ebb4-ba32-46c4-838a-c6bfb8a2ab10",
   "metadata": {},
   "source": [
    "> **`Table().read_table(...)`**: allows you to import data as a table (takes in the name of the csv file as the argument)\n"
   ]
  },
  {
   "cell_type": "code",
   "execution_count": 2,
   "id": "c0d5b419",
   "metadata": {},
   "outputs": [
    {
     "data": {
      "text/html": [
       "<table border=\"1\" class=\"dataframe\">\n",
       "    <thead>\n",
       "        <tr>\n",
       "            <th>Year</th> <th>All</th> <th>Women</th> <th>Men</th>\n",
       "        </tr>\n",
       "    </thead>\n",
       "    <tbody>\n",
       "        <tr>\n",
       "            <td>2011</td> <td>0.37</td> <td>0.28 </td> <td>0.45</td>\n",
       "        </tr>\n",
       "        <tr>\n",
       "            <td>2012</td> <td>0.4 </td> <td>0.39 </td> <td>0.42</td>\n",
       "        </tr>\n",
       "        <tr>\n",
       "            <td>2013</td> <td>0.41</td> <td>0.34 </td> <td>nan </td>\n",
       "        </tr>\n",
       "        <tr>\n",
       "            <td>2014</td> <td>0.38</td> <td>0.46 </td> <td>0.3 </td>\n",
       "        </tr>\n",
       "        <tr>\n",
       "            <td>2015</td> <td>0.29</td> <td>0.34 </td> <td>0.24</td>\n",
       "        </tr>\n",
       "        <tr>\n",
       "            <td>2016</td> <td>0.31</td> <td>0.28 </td> <td>nan </td>\n",
       "        </tr>\n",
       "        <tr>\n",
       "            <td>2017</td> <td>0.35</td> <td>0.36 </td> <td>0.34</td>\n",
       "        </tr>\n",
       "        <tr>\n",
       "            <td>2018</td> <td>0.28</td> <td>0.31 </td> <td>0.24</td>\n",
       "        </tr>\n",
       "        <tr>\n",
       "            <td>2019</td> <td>0.36</td> <td>0.34 </td> <td>0.39</td>\n",
       "        </tr>\n",
       "        <tr>\n",
       "            <td>2021</td> <td>0.29</td> <td>0.29 </td> <td>0.29</td>\n",
       "        </tr>\n",
       "    </tbody>\n",
       "</table>"
      ],
      "text/plain": [
       "Year | All  | Women | Men\n",
       "2011 | 0.37 | 0.28  | 0.45\n",
       "2012 | 0.4  | 0.39  | 0.42\n",
       "2013 | 0.41 | 0.34  | nan\n",
       "2014 | 0.38 | 0.46  | 0.3\n",
       "2015 | 0.29 | 0.34  | 0.24\n",
       "2016 | 0.31 | 0.28  | nan\n",
       "2017 | 0.35 | 0.36  | 0.34\n",
       "2018 | 0.28 | 0.31  | 0.24\n",
       "2019 | 0.36 | 0.34  | 0.39\n",
       "2021 | 0.29 | 0.29  | 0.29"
      ]
     },
     "execution_count": 2,
     "metadata": {},
     "output_type": "execute_result"
    }
   ],
   "source": [
    "educ = Table().read_table(\"Data/educ.csv\")\n",
    "educ"
   ]
  },
  {
   "cell_type": "markdown",
   "id": "b4d46676",
   "metadata": {},
   "source": [
    "This table has the average number of hours people spent per day on education-related activities (including attending class, doing homework, and commuting) for the 2011-2021 time period for men and women.\n",
    "\n",
    "*Note: The BLS wasn't able to collect data for 2020 because of Covid-19.*"
   ]
  },
  {
   "cell_type": "markdown",
   "id": "bee05865",
   "metadata": {},
   "source": [
    "<!-- BEGIN QUESTION -->\n",
    "<font color = #d14d0f>\n",
    "\n",
    "#### Question 1:\n",
    "The work dataset is stored as `work.csv`. Use the `Table.read_table` function to import this dataset. <br>\n",
    "Follow the same format as before: `educ = Table().read_table(\"Data/educ.csv\")`"
   ]
  },
  {
   "cell_type": "code",
   "execution_count": null,
   "id": "2c259a36",
   "metadata": {},
   "outputs": [],
   "source": [
    "work = ...\n",
    "work"
   ]
  },
  {
   "cell_type": "markdown",
   "id": "b12f1ff4",
   "metadata": {},
   "source": [
    "<!-- END QUESTION -->\n",
    "Now that we've imported our datasets, we can examine some of its characteristics.\n",
    "\n",
    "    \n",
    "> **`.num_rows`**: gives you the number of rows in the table <br>\n",
    "> **`.num_columns`**: gives you the number of columns in the table <br>\n",
    "> **`.labels`**: gives you the names of the columns in the table\n",
    "    \n"
   ]
  },
  {
   "cell_type": "code",
   "execution_count": null,
   "id": "1f7ef052",
   "metadata": {
    "scrolled": true
   },
   "outputs": [],
   "source": [
    "educ.num_rows"
   ]
  },
  {
   "cell_type": "code",
   "execution_count": null,
   "id": "b933958a",
   "metadata": {},
   "outputs": [],
   "source": [
    "educ.num_columns"
   ]
  },
  {
   "cell_type": "code",
   "execution_count": null,
   "id": "7304f870",
   "metadata": {},
   "outputs": [],
   "source": [
    "educ.labels"
   ]
  },
  {
   "cell_type": "markdown",
   "id": "a2c3cbd7",
   "metadata": {},
   "source": [
    "<!-- BEGIN QUESTION -->\n",
    "<font color = #d14d0f>\n",
    "\n",
    "#### Question 2:\n",
    "Use `.num_rows`, `.num_columns` and `.labels` on the `work` table."
   ]
  },
  {
   "cell_type": "code",
   "execution_count": null,
   "id": "e93b1fa9",
   "metadata": {},
   "outputs": [],
   "source": [
    "#.num_rows\n",
    "..."
   ]
  },
  {
   "cell_type": "code",
   "execution_count": null,
   "id": "f73bf4dd",
   "metadata": {},
   "outputs": [],
   "source": [
    "#.num_columns\n",
    "..."
   ]
  },
  {
   "cell_type": "code",
   "execution_count": null,
   "id": "4da5f43d",
   "metadata": {},
   "outputs": [],
   "source": [
    "#.labels\n",
    "..."
   ]
  },
  {
   "cell_type": "markdown",
   "id": "868bc9f9",
   "metadata": {},
   "source": [
    "<!-- END QUESTION -->\n",
    "## 3.2 NaN Values\n",
    "\n",
    "You might have noticed the NaN values in the `Men` column of the `educ` table. NaN stands for \"Not a Number\" and is generally used to represent missing values. We have to deal with these values as otherwise, they will interfere with our data analysis and visualization. One way to deal with NaN values is by filtering the table so that it doesn't have these values. This is an important step in [data cleaning](https://en.wikipedia.org/wiki/Data_cleansing). Later on, we will have an entire notebook dedicated to more complex data cleaning.\n",
    "\n",
    "The first row that contains a NaN value is the row for the year 2013. Let's use table filtering to remove this row.\n",
    "\n",
    "\n",
    "> **`.where`**: filter a table based on the values of a particular column (see the `Table.where` Predicates section of the [Python reference](http://data8.org/sp22/python-reference.html) for the list of predicates you can use)\n",
    "     \n"
   ]
  },
  {
   "cell_type": "code",
   "execution_count": null,
   "id": "92fff721",
   "metadata": {},
   "outputs": [],
   "source": [
    "educ_cleaned = educ.where(\"Year\", are.not_equal_to(2013))\n",
    "educ"
   ]
  },
  {
   "cell_type": "markdown",
   "id": "d828f357",
   "metadata": {},
   "source": [
    "<!-- BEGIN QUESTION -->\n",
    "<font color = #d14d0f>\n",
    "\n",
    "#### Question 3:\n",
    "Use table filtering to remove the other row with a NaN value."
   ]
  },
  {
   "cell_type": "code",
   "execution_count": null,
   "id": "903fa25d",
   "metadata": {},
   "outputs": [],
   "source": [
    "educ_cleaned = educ_cleaned.where(...)\n",
    "educ_cleaned"
   ]
  },
  {
   "cell_type": "markdown",
   "id": "a514ad2c",
   "metadata": {},
   "source": [
    "<!-- END QUESTION -->\n",
    "***\n",
    "# 4. Data Visualizations\n",
    "\n",
    "Now we can start visualizing our data!\n",
    "\n",
    "## 4.1 Line Plots\n",
    "\n",
    "A line plot is used to display data as a series of points connected by a line. It's generally used to visualize how a variable changes over time (also known as [time series data](https://www.investopedia.com/terms/t/timeseries.asp) data). It has a time-related variable on the x-axis (minutes, days, months, years, etc.) and a numerical variable on the y-axis.\n",
    "\n",
    "Let's create a line plot to see how the average number of hours people spend on education changes over the years.\n",
    "\n",
    "    \n",
    "> **`tablename.plot(x, y)`**: create a line plot (the first argument is the variable on the x-axis and the second argument is the variable on the y-axis)\n",
    "    "
   ]
  },
  {
   "cell_type": "code",
   "execution_count": null,
   "id": "076d3fdb",
   "metadata": {},
   "outputs": [],
   "source": [
    "educ.plot(\"Year\", \"All\")\n",
    "plt.ylabel(\"Average Number of Hours\")\n",
    "plt.title(\"Time Spent on Education Over the Years\")\n",
    "plt.show()"
   ]
  },
  {
   "cell_type": "markdown",
   "id": "c0102add",
   "metadata": {},
   "source": [
    "<!-- BEGIN QUESTION -->\n",
    "<font color = #d14d0f>\n",
    "\n",
    "#### Question 4:  \n",
    "What trends do you notice in this line plot? Specifically:\n",
    "- During which time periods did the average hours spent on education fall?\n",
    "- During which time periods did the average hours spent on education rise?"
   ]
  },
  {
   "cell_type": "markdown",
   "id": "2ade4882",
   "metadata": {},
   "source": [
    "*Type your answer here. Double-click to edit this cell. Run this cell to proceed when finished.*"
   ]
  },
  {
   "cell_type": "markdown",
   "id": "1d738d97",
   "metadata": {},
   "source": [
    "<!-- END QUESTION -->\n",
    "<br>Now, we'll repeat the same process as above on the `work` table. Reference the process above if you feel stuck!\n",
    "\n",
    "<!-- BEGIN QUESTION -->\n",
    "<font color = #d14d0f>\n",
    "\n",
    "#### Question 5:\n",
    "Create a similar line plot for the `work` dataset below. Replace the `...` with your code.\n",
    "\n",
    "*Hint: Use the `All` column.*"
   ]
  },
  {
   "cell_type": "code",
   "execution_count": null,
   "id": "2b0b8c9d-dca4-427c-a567-b04ec9cac11c",
   "metadata": {},
   "outputs": [],
   "source": [
    "# run this cell to recall what the table looks like\n",
    "work.show(5)"
   ]
  },
  {
   "cell_type": "code",
   "execution_count": null,
   "id": "57903662",
   "metadata": {},
   "outputs": [],
   "source": [
    "work.plot(..., ...) \n",
    "plt.ylabel(\"Average Number of Hours\")\n",
    "plt.title(\"Time Spent on Work Over the Years\")\n",
    "plt.show()"
   ]
  },
  {
   "cell_type": "markdown",
   "id": "8b95d23c",
   "metadata": {},
   "source": [
    "<!-- END QUESTION -->\n",
    "<!-- BEGIN QUESTION -->\n",
    "<font color = #d14d0f>\n",
    "\n",
    "#### Question 6:\n",
    "\n",
    "What trends do you notice in this line plot? Specifically:\n",
    "- During which time periods did the average hours spent on work fall?\n",
    "- During which time periods did the average hours spent on work rise?"
   ]
  },
  {
   "cell_type": "markdown",
   "id": "e98ac058-f7ed-4882-a8a9-1d14e1723239",
   "metadata": {},
   "source": [
    "*Type your answer here. Double-click to edit this cell. Run this cell to proceed when finished.*"
   ]
  },
  {
   "cell_type": "markdown",
   "id": "769dca68",
   "metadata": {},
   "source": [
    "<!-- END QUESTION -->\n",
    "### Overlaid Line Plots\n",
    "\n",
    "To see how education and work change together, we can create overlaid line plots. To do this, let's first create a table with the data for both education and work.\n",
    "\n",
    "\n",
    ">`Table().with_columns`: create a new table by adding columns (the first argument is the name of the column and the second argument is the array) <br>\n",
    ">`.column`: select a column from a given table as an array <br>\n",
    "     \n"
   ]
  },
  {
   "cell_type": "code",
   "execution_count": null,
   "id": "8f2a7a90",
   "metadata": {},
   "outputs": [],
   "source": [
    "educ_and_work = Table().with_columns(\"Year\", educ.column(\"Year\"),\n",
    "                                    \"Education\", educ.column(\"All\"),\n",
    "                                    \"Work\", work.column(\"All\"))\n",
    "educ_and_work"
   ]
  },
  {
   "cell_type": "markdown",
   "id": "437547ab",
   "metadata": {},
   "source": [
    "To create overlaid line plots, we just have to specify the x-variable.\n",
    "\n",
    "> **`plt.ylabel`**: Set the label for the y-axis <br>\n",
    "**`plt.title`**:  Set a title for the Axes. <br>\n",
    "**`plt.show()`**:  Display all open figures.  \n"
   ]
  },
  {
   "cell_type": "code",
   "execution_count": null,
   "id": "2132c864",
   "metadata": {},
   "outputs": [],
   "source": [
    "educ_and_work.plot(\"Year\")\n",
    "plt.ylabel(\"Average Number of Hours\")\n",
    "plt.title(\"Time Spent on Education and Work Over the Years\")\n",
    "plt.show()"
   ]
  },
  {
   "cell_type": "markdown",
   "id": "9e6f755f",
   "metadata": {},
   "source": [
    "This allows us to create line plots for both education and work data on the same graph.\n",
    "<!-- BEGIN QUESTION -->\n",
    "<font color = #d14d0f>\n",
    "    \n",
    "#### Question 7:\n",
    "What do you notice about the difference between the average number of hours people spend on education and work? Why might there be this discrepancy?\n",
    "\n",
    "*Hint: The age group we're considering is 25-34. Could this have something to do with the difference?*"
   ]
  },
  {
   "cell_type": "markdown",
   "id": "7287a58d-d9fd-453f-8b3a-10cde78a0444",
   "metadata": {},
   "source": [
    "*Type your answer here. Double-click to edit this cell. Run this cell to proceed when finished.*"
   ]
  },
  {
   "cell_type": "markdown",
   "id": "2eb056d5",
   "metadata": {},
   "source": [
    "<!-- END QUESTION -->\n",
    "<!-- BEGIN QUESTION -->\n",
    "<br><font color = #d14d0f> **Optional Question:** <br>\n",
    "You can perform background research on any major events that happened during different time periods that would explain the trends during those periods. For example, we can see from the overlaid graph that the amount of time people spent on both education and work was falling during 2019-2021. This is likely because of the Covid-19 pandemic. Similarly, you can look up what happened during other time periods that would explain the trends in education, work, or both during those periods."
   ]
  },
  {
   "cell_type": "markdown",
   "id": "51d30526-e979-49b1-864a-0aa9359de359",
   "metadata": {},
   "source": [
    "*Type your answer here. Double-click to edit this cell. Run this cell to proceed when finished.*"
   ]
  },
  {
   "cell_type": "markdown",
   "id": "43b150f9",
   "metadata": {},
   "source": [
    "<!-- END QUESTION -->\n",
    "#### Overlaid Line Plots for Different Genders\n",
    "\n",
    "When performing data analysis, we often break up our data into different groups based on factors such as gender and ethnicity. In our case, we have so far looked at the combined data for men and women. Now, let's create *separate line plots for each gender.*\n",
    "\n",
    "We first have to make sure that our table only has the relevant variables: the year, values for women and values for men. To do this, we have to get rid of the column with the combined values.\n",
    "\n",
    ">**`.drop`**: remove a column from a table (takes the name of the column as the argument)\n",
    "    "
   ]
  },
  {
   "cell_type": "code",
   "execution_count": null,
   "id": "ef191170",
   "metadata": {},
   "outputs": [],
   "source": [
    "educ_new = educ_cleaned.drop(\"All\")\n",
    "educ_new"
   ]
  },
  {
   "cell_type": "markdown",
   "id": "2ce28cd8",
   "metadata": {},
   "source": [
    "*Important Note: we have to make sure that we are assigning `educ.drop(\"All\")` to a variable. Otherwise, our original table will remain the same.*\n",
    "<!-- BEGIN QUESTION -->\n",
    "<font color = #d14d0f>\n",
    "\n",
    "#### Question 8:\n",
    "Create overlaid line plots for men and women. An illustration of how to do this is above question 7. <br>\n",
    "    \n",
    "*Hint: We only need to put 1 column in the parentheses of plot(...). This column is what we want the x-axis to represent. The y-axis will be the average number of hours, with one line for Women and one line for Men.*"
   ]
  },
  {
   "cell_type": "code",
   "execution_count": null,
   "id": "76ce67d6",
   "metadata": {},
   "outputs": [],
   "source": [
    "educ.plot(...)\n",
    "plt.ylabel(\"Average Number of Hours\")\n",
    "plt.title(\"Time Spent on Education Over the Years\")\n",
    "plt.show()"
   ]
  },
  {
   "cell_type": "markdown",
   "id": "dfc1d374",
   "metadata": {},
   "source": [
    "<!-- END QUESTION -->\n",
    "<!-- BEGIN QUESTION -->\n",
    "<font color = #d14d0f>\n",
    "\n",
    "#### Question 9:\n",
    "[One study](https://www.pewresearch.org/fact-tank/2021/11/08/whats-behind-the-growing-gap-between-men-and-women-in-college-completion/) found that women are more likely than men to complete college. [Another study](https://www.aei.org/carpe-diem/women-earned-majority-of-doctoral-degrees-in-2019-for-11th-straight-year-and-outnumber-men-in-grad-school-141-to-100/) found that women are also more likely to attend graduate school. Are your line plots above consistent with these claims? How can you tell? Based on our data, during what years would these claims be correct or false?"
   ]
  },
  {
   "cell_type": "markdown",
   "id": "cee0b574-a8fe-47b1-833f-ae30868d5313",
   "metadata": {},
   "source": [
    "*Type your answer here. Double-click to edit this cell. Run this cell to proceed when finished.*"
   ]
  },
  {
   "cell_type": "markdown",
   "id": "553df066",
   "metadata": {},
   "source": [
    "<!-- END QUESTION -->\n",
    "## 4.2 Bar Charts\n",
    "\n",
    "Another visualization we can use to see how the time spent on each activity changes over the years is a bar chart. **A bar chart is used to visualize the distribution of a categorical variable.** In this case, `Year` is a categorical variable as it can be divided into distinct groups, so we can use a bar chart to visualize how the data is distributed across the years. The bar chart is a familiar way of visualizing categorical distributions. It displays a bar for each category where the bars are equally spaced and equally wide. The length of each bar is proportional to the frequency of the corresponding category.\n",
    "\n",
    "Run the cell below to see the how the average number of hours spent on education varies by year in our `educ` table. *Pay attention to what is being plotted in the code below. Notice that \"Year\" is on the x-axis and \"All\" is on the y-axis. The label on the y-axis doesn't say \"All\" since the 2nd line of code specifies a y-label.*"
   ]
  },
  {
   "cell_type": "code",
   "execution_count": null,
   "id": "fa3dea70",
   "metadata": {},
   "outputs": [],
   "source": [
    "educ.bar(\"Year\", \"All\")\n",
    "plt.ylabel(\"Average Number of Hours\")\n",
    "plt.title(\"Time Spent on Education Over the Years\")\n",
    "plt.show()"
   ]
  },
  {
   "cell_type": "markdown",
   "id": "d8b6514d",
   "metadata": {},
   "source": [
    "This bar chart shows that in general, the time people spent on education is falling over time – this is consistent with what we saw in the line plot."
   ]
  },
  {
   "cell_type": "markdown",
   "id": "30bb2504",
   "metadata": {},
   "source": [
    "<!-- BEGIN QUESTION -->\n",
    "<font color = #d14d0f>\n",
    "\n",
    "#### Question 10:\n",
    "Create a bar chart to visualize the time spent on work. Copy the first line of code that created the above bar graph and modify it to represent the `work` table."
   ]
  },
  {
   "cell_type": "code",
   "execution_count": null,
   "id": "9ec4a4ee",
   "metadata": {},
   "outputs": [],
   "source": [
    "...\n",
    "plt.ylabel(\"Average Number of Hours\")\n",
    "plt.title(\"Time Spent on Work Over the Years\")\n",
    "plt.show()"
   ]
  },
  {
   "cell_type": "markdown",
   "id": "b869ad89",
   "metadata": {},
   "source": [
    "<!-- END QUESTION -->\n",
    "<!-- BEGIN QUESTION -->\n",
    "<font color = #d14d0f>\n",
    "\n",
    "#### Question 11:\n",
    "Do you notice a trend in the amount of time people spent on work? Is it generally increasing, decreasing, or constant?"
   ]
  },
  {
   "cell_type": "markdown",
   "id": "0d441ca4-1c7b-42f1-b0ac-a03d5f6afdde",
   "metadata": {},
   "source": [
    "*Type your answer here. Double-click to edit this cell. Run this cell to proceed when finished.*"
   ]
  },
  {
   "cell_type": "markdown",
   "id": "fc4f473a",
   "metadata": {},
   "source": [
    "<!-- END QUESTION -->\n",
    "## 4.3 Scatter Plots\n",
    "\n",
    "Another type of data visualization that is really important in statistics is the scatter plot. **Scatter plots are used to visualize the relationship between two numerical variables.**\n",
    "\n",
    "Specifically, it allows us to infer the association between two variables. Association refers to how one variable (the y-variable) changes with respect to the other variable (the x-variable). See [this chapter](https://inferentialthinking.com/chapters/15/Prediction.html) in the DATA 8 textbook for reference.\n",
    "\n",
    "We can describe the association between two variables based on two factors:\n",
    "\n",
    "1. Magnitude: Is the association strong or weak? If the points on the scatter plot all line up along a straight line (in any direction) or \"blob\", it means that the association between the variables is strong. On the other hand, if the points are all spread out, it means that the association is weak.\n",
    "\n",
    "2. Direction (or sign): Is the association positive or negative? If the points on the scatter plot line up along an upward sloping line, it means that the association between the variable is positive. If they line up along a downward sloping line, the association is negative.\n",
    "\n",
    "Now that we understand what scatter plots are and how to interpret them, let's create one to visualize the association between the amount of time people spend on work and education.\n",
    "\n",
    "> **`.scatter`:** create a scatter plot (the first argument is the variable on the x-axis and the second argument is the variable on the y-axis)\n",
    "     "
   ]
  },
  {
   "cell_type": "code",
   "execution_count": null,
   "id": "42bf4e25-adbc-4d70-8175-9c2fa4c4add2",
   "metadata": {},
   "outputs": [],
   "source": [
    "educ_and_work.scatter(\"Education\", \"Work\")\n",
    "plt.xlabel(\"Average Hours Spent on Education\")\n",
    "plt.ylabel(\"Average Hours Spent on Work\")\n",
    "plt.title(\"Work vs. Education\")\n",
    "plt.show()"
   ]
  },
  {
   "cell_type": "markdown",
   "id": "2a50a3d2",
   "metadata": {},
   "source": [
    "<!-- BEGIN QUESTION -->\n",
    "<font color = #d14d0f>\n",
    "\n",
    "#### Question 12:\n",
    "How would you describe the association you see in the scatter plot above? Do the points form a line or are they spread out? Try looking at individual points and looking at what values correspond to them."
   ]
  },
  {
   "cell_type": "markdown",
   "id": "cecb2dea-95c8-40bb-a14a-7f834aad1d07",
   "metadata": {},
   "source": [
    "*Type your answer here. Double-click to edit this cell. Run this cell to proceed when finished.*"
   ]
  },
  {
   "cell_type": "markdown",
   "id": "0949b39a",
   "metadata": {},
   "source": [
    "<!-- END QUESTION -->\n",
    "<!-- BEGIN QUESTION -->\n",
    "<font color = #d14d0f>\n",
    "\n",
    "#### Question 13:\n",
    "Create another scatter plot showing the association between time spent on work and education, but this time with work on the x-axis and education on the y-axis."
   ]
  },
  {
   "cell_type": "code",
   "execution_count": null,
   "id": "02fccaf2",
   "metadata": {},
   "outputs": [],
   "source": [
    "educ_and_work. ...\n",
    "plt.xlabel(\"Average Hours Spent on Work\")\n",
    "plt.ylabel(\"Average Hours Spent on Education\")\n",
    "plt.title(\"Education vs. Work\")\n",
    "plt.show()"
   ]
  },
  {
   "cell_type": "markdown",
   "id": "fb6e58c9",
   "metadata": {},
   "source": [
    "<!-- END QUESTION -->\n",
    "## 4.4 Histograms\n",
    "\n",
    "**A histogram allows you to visualize the distribution of a numerical variable.** It helps you understand how spread out the values in your table are. A histogram is a visualization of the distribution of a quantitative variable. It looks very much like a bar chart but there are some **important differences** that we will examine in this section.\n",
    "\n",
    "\n",
    "\n",
    "Histograms follow the **area principle** and have two defining properties:\n",
    "\n",
    "1. The bins are drawn to scale and are contiguous (though some might be empty), because the values on the horizontal axis are numerical and therefore have fixed positions on the number line.\n",
    "1. The area of each bar is proportional to the number of entries in the bin.\n",
    "\n",
    "The histogram is said to be drawn on the *density scale*. The area of each bar is equal to the percent of data values that are in the corresponding bin.\n",
    "\n",
    "> **`.hist`**: create a histogram (specify the name of the column, plus other optional arguments)\n"
   ]
  },
  {
   "cell_type": "code",
   "execution_count": null,
   "id": "70cd5a0f",
   "metadata": {},
   "outputs": [],
   "source": [
    "educ.hist(\"All\", bins = 8) #The bins argument allows you to specify how many intervals you want to divide your data into\n",
    "plt.xlabel(\"Average Hours Spent on Education\")\n",
    "plt.title(\"Distribution of Time Spent on Education\")\n",
    "plt.show()"
   ]
  },
  {
   "cell_type": "markdown",
   "id": "ffaca900",
   "metadata": {},
   "source": [
    "Notice that the y-axis is 'percent per unit.' You can think of this as the density or concentration of values in each bin. For example, the first bin has the highest concentration of values.\n",
    "\n",
    "<!-- BEGIN QUESTION -->\n",
    "<font color = #d14d0f>\n",
    "\n",
    "#### Question 14:\n",
    "Create a histogram of the time spent on **work**. Make sure to specify **8 bins** and use the `All` column."
   ]
  },
  {
   "cell_type": "code",
   "execution_count": null,
   "id": "557cea1a",
   "metadata": {},
   "outputs": [],
   "source": [
    "...\n",
    "plt.xlabel(\"Average Hours Spent on Work\")\n",
    "plt.title(\"Distribution of Time Spent on Work\")\n",
    "plt.show()"
   ]
  },
  {
   "cell_type": "markdown",
   "id": "3ae085bd",
   "metadata": {},
   "source": [
    "<!-- END QUESTION -->\n",
    "***\n",
    "# 5. Advanced Visualizations\n",
    "\n",
    "In this section, we'll talk about some advanced visualizations. Note that this section is optional and out of scope for this class.\n",
    "\n",
    "## 5.1 Boxplot\n",
    "\n",
    "A boxplot is similar to a histogram as it also **visualizes the distribution of a numerical varirable, but it gives you more specific statistics about the distribution**: the minimum, lower quartile (value at the bottom 25th percentile), median (value at the 50th percentile), upper quartile (value at the top 25th percentile) and maximum."
   ]
  },
  {
   "cell_type": "code",
   "execution_count": null,
   "id": "132db622",
   "metadata": {},
   "outputs": [],
   "source": [
    "sns.boxplot(educ.column(\"All\"))\n",
    "plt.xlabel(\"Average Hours Spent on Education\")\n",
    "plt.title(\"Distribution of Time Spent on Education\")\n",
    "plt.show()"
   ]
  },
  {
   "cell_type": "markdown",
   "id": "2b2f5ed6",
   "metadata": {},
   "source": [
    "We can use this boxplot to find approximate values for the following statistics for the education data:\n",
    "\n",
    "- Minimum: 0.28\n",
    "- Lower quartile: 0.295\n",
    "- Median: 0.355\n",
    "- Upper quartile: 0.38\n",
    "- Maximum: 0.41\n",
    "\n",
    "<!-- BEGIN QUESTION -->\n",
    "<font color = #d14d0f>\n",
    "\n",
    "#### Question 15:\n",
    "   Create a boxplot of the time spent on work in the cell below based on the boxplot of the `work` table."
   ]
  },
  {
   "cell_type": "code",
   "execution_count": null,
   "id": "34fd3226",
   "metadata": {},
   "outputs": [],
   "source": [
    "...\n",
    "plt.xlabel(\"Average Hours Spent on Work\")\n",
    "plt.title(\"Distribution of Time Spent on Work\")\n",
    "plt.show()"
   ]
  },
  {
   "cell_type": "markdown",
   "id": "5832397d",
   "metadata": {},
   "source": [
    "<!-- END QUESTION -->\n",
    "<!-- BEGIN QUESTION -->\n",
    "<font color = #d14d0f>\n",
    "\n",
    "#### Question 16:\n",
    "Use the boxplot above to find *approximate* values for the following statistics for the work data:"
   ]
  },
  {
   "cell_type": "markdown",
   "id": "d7de2494-530a-49fb-b111-68dd4ae22fde",
   "metadata": {},
   "source": [
    "- **Minimum**: *your answer here -- Double-click to edit this cell.*\n",
    "- **Lower quartile**: *your answer here*\n",
    "- **Median**: *your answer here*\n",
    "- **Upper quartile**: *your answer here*\n",
    "- **Maximum**: *your answer here*"
   ]
  },
  {
   "cell_type": "markdown",
   "id": "3eb382ef",
   "metadata": {},
   "source": [
    "<!-- END QUESTION -->\n",
    "## 5.2 Pie Chart\n",
    "\n",
    "**A pie chart (or a circle chart) is a circular statistical graphic, which is divided into slices to illustrate numerical proportion.** Although pie charts look simple, difficult to compare different sections of a given pie chart, or to compare data across different pie charts makes it difficult to appear professionally, but pie charts are still beautiful and concise plots. "
   ]
  },
  {
   "cell_type": "code",
   "execution_count": null,
   "id": "27705f8c",
   "metadata": {},
   "outputs": [],
   "source": [
    "# Pie chart, where the slices will be ordered and plotted counter-clockwise:\n",
    "labels = 'Sad', 'Angry', 'Happy', 'Fear'\n",
    "sizes = [20, 5, 65, 10]\n",
    "explode = (0, 0, 0.1, 0)  # only \"explode\" the 3rd slice (i.e. 'Happy')\n",
    "\n",
    "fig1, ax1 = plt.subplots()\n",
    "ax1.pie(sizes, explode=explode, labels=labels, autopct='%1.1f%%',\n",
    "        shadow=True, startangle=90)\n",
    "ax1.axis('equal')  # Equal aspect ratio ensures that pie is drawn as a circle.\n",
    "\n",
    "plt.show()"
   ]
  },
  {
   "cell_type": "markdown",
   "id": "ff5f40fb",
   "metadata": {},
   "source": [
    "## 5.3 Violin Plot\n",
    "\n",
    "A violinplot is a combination of a histogram and boxplot. **It shows you the general distribution of the data (by creating a histogram and drawing a line to capture its general shape) as well as specific statistics (same as the ones a boxplot shows).** [Read here](https://chartio.com/learn/charts/violin-plot-complete-guide/) for information about violin plots."
   ]
  },
  {
   "cell_type": "code",
   "execution_count": null,
   "id": "720e8c75",
   "metadata": {},
   "outputs": [],
   "source": [
    "sns.violinplot(educ.column(\"All\"), color = \"olive\")\n",
    "plt.xlabel(\"Average Hours Spent on Education\")\n",
    "plt.title(\"Distribution of Time Spent on Education\")\n",
    "plt.show()"
   ]
  },
  {
   "cell_type": "markdown",
   "id": "04d0890e",
   "metadata": {},
   "source": [
    "<!-- BEGIN QUESTION -->\n",
    "<font color = #d14d0f>\n",
    "\n",
    "#### Question 17:\n",
    "Create a violin plot of the time spent on work."
   ]
  },
  {
   "cell_type": "code",
   "execution_count": null,
   "id": "1ffb8a06",
   "metadata": {},
   "outputs": [],
   "source": [
    "...\n",
    "plt.xlabel(\"Average Hours Spent on Work\")\n",
    "plt.title(\"Distribution of Time Spent on Work\")\n",
    "plt.show()"
   ]
  },
  {
   "cell_type": "markdown",
   "id": "121eae50-d8cb-4311-903b-1bdb02fc7377",
   "metadata": {},
   "source": [
    "<!-- END QUESTION -->\n",
    "***\n",
    "# 6. Conclusion\n"
   ]
  },
  {
   "cell_type": "markdown",
   "id": "f7f5f633-690c-40ed-a401-038ba9fe28bb",
   "metadata": {},
   "source": [
    "Over the course of this notebook, you were introduced to basic manipulation and analysis of data tables that is frequently necessary in order to create visualizations. Now you've learned about different types of visualizations, practiced creating various plots, and know what visualizations are best for each goal. Feel free to reference this notebook when doing future notebooks that involve visualization."
   ]
  },
  {
   "cell_type": "markdown",
   "id": "63a76698-3f79-4442-8bfb-efdc5aea3462",
   "metadata": {},
   "source": [
    "## Congratulations! You have finished the notebook! ##"
   ]
  },
  {
   "cell_type": "markdown",
   "id": "44ad65c3-e97a-4d8e-81fc-46538bc44a5e",
   "metadata": {},
   "source": [
    "***\n",
    "# 7. Submitting Your Work"
   ]
  },
  {
   "cell_type": "markdown",
   "id": "3163a7e5-d983-4d1b-ac64-4f1bcbf00d30",
   "metadata": {},
   "source": [
    "**Make sure that you've answered all the questions.**\n",
    "\n",
    "Follow these steps: \n",
    "1. Go to `File` in the menu bar, then select `Save and Checkpoint` (or click CTRL+S).\n",
    "2. Go to `Cell` in the menu bar, then select `Run All`.\n",
    "3. Click the link produced by the code cell below.\n",
    "4. Submit the downloaded PDF on bCourses according to your professor's instructions.\n",
    "\n",
    "**Note:** If clicking the link below doesn't work for you, don't worry! Simply click `File` in the menu, find `Download As`, and choose `PDF via LaTeX (.pdf)` to save a copy of your pdf onto your computer.\n",
    "\n",
    "**Check the PDF before submitting and make sure all of your answers and any changes are shown.**"
   ]
  },
  {
   "cell_type": "code",
   "execution_count": null,
   "id": "dfc28c7a-2e82-464a-b41f-eae78055d10c",
   "metadata": {},
   "outputs": [],
   "source": [
    "#This may take a few extra seconds.\n",
    "from otter.export import export_notebook\n",
    "from IPython.display import display, HTML\n",
    "export_notebook(\"4. Data Visualization.ipynb\", filtering=True, pagebreaks=False)\n",
    "display(HTML(\"<p style='font-size:20px'> <br>Save this notebook, then click <a href='4. Data Visualization.pdf' download>here</a> to open the pdf.<br></p>\"))"
   ]
  },
  {
   "cell_type": "markdown",
   "id": "adcc33ab-5e4c-4b90-a7de-1c768813af34",
   "metadata": {},
   "source": [
    "***\n",
    "# 8. Explore Data Science Opportunities\n",
    "\n",
    "Interested in learning more about how to get involved in data science or learn about data science applications in your field of study? The following resources might help support your learning:\n",
    "- Data Science Modules: http://data.berkeley.edu/education/modules\n",
    "- Data Science Offerings at Berkeley: https://data.berkeley.edu/academics/undergraduate-programs/data-science-offerings\n",
    "- Data 8 Course Information: http://data8.org/\n",
    "- Data 100 Course Information: https://ds100.org/"
   ]
  },
  {
   "cell_type": "markdown",
   "id": "17faa066-337b-4e86-b1fb-9559316b2dc6",
   "metadata": {},
   "source": [
    "***\n",
    "# 9. Feedback Form \n",
    "\n",
    "<div class=\"alert alert-info\">\n",
    "<b> We encourage students to fill out the following feedback form to share your experience with this Module notebook. This feedback form will take no longer than 5 minutes. At UC Berkeley Data Science Undergraduate Studies Modules, we appreciate all feedback to improve the learning of students and experience utilizing Jupyter Notebooks for Data Science Education: </b> \n",
    "</div>\n",
    "\n",
    "# [UC Berkeley Data Science Feedback Form](https://forms.gle/hipxf2uFw5Ud4Hyn8)"
   ]
  },
  {
   "cell_type": "code",
   "execution_count": null,
   "id": "05fb158a-9213-4f43-a9eb-5e4658e8ede4",
   "metadata": {},
   "outputs": [],
   "source": []
  }
 ],
 "metadata": {
  "kernelspec": {
   "display_name": "Python 3 (ipykernel)",
   "language": "python",
   "name": "python3"
  },
  "language_info": {
   "codemirror_mode": {
    "name": "ipython",
    "version": 3
   },
   "file_extension": ".py",
   "mimetype": "text/x-python",
   "name": "python",
   "nbconvert_exporter": "python",
   "pygments_lexer": "ipython3",
   "version": "3.9.7"
  }
 },
 "nbformat": 4,
 "nbformat_minor": 5
}
