{
 "cells": [
  {
   "cell_type": "markdown",
   "id": "310c8c8a",
   "metadata": {},
   "source": [
    "## [Public Policy 190] Exploring Labor Statistics among U.S. Youth\n",
    "### Professor Anibel Ferus-Comelo\n",
    "\n",
    "***\n",
    "\n",
    "### Learning Outcomes\n",
    "\n",
    "*Estimated time: 60 minutes*\n",
    "\n",
    "***\n",
    "\n",
    "### Table of Contents\n",
    "* Wages among the Youth\n",
    "* Wage differences among youth between ethnicities\n",
    "* Employment among the Youth\n",
    "* Data Science Opportunities \n",
    "\n",
    "***\n"
   ]
  },
  {
   "cell_type": "code",
   "execution_count": 2,
   "id": "5fad33e7",
   "metadata": {},
   "outputs": [],
   "source": [
    "#Importing the required modules\n",
    "from datascience import *\n",
    "import numpy as np\n",
    "import matplotlib.pyplot as plt\n",
    "plt.ion()\n",
    "%matplotlib inline\n",
    "\n",
    "# import the widgets module\n",
    "import ipywidgets as widgets\n",
    "from ipywidgets import interact, interactive, fixed, interact_manual"
   ]
  },
  {
   "cell_type": "markdown",
   "id": "a415b22b",
   "metadata": {},
   "source": [
    "Today, we will be analyzing the characteristics of the labor market for young people in the United States, utilizing the skills we have learned in the two previous Modules notebooks we have been working on in and outside of class. We will discover patters and trends over the years regarding employment and wages among American youth, utilizing datasets from the [US Bureau of Labor Statistics](https://www.bls.gov/data/). Here we define *youth* to be between the ages of 16 and 24 years old. "
   ]
  },
  {
   "cell_type": "markdown",
   "id": "b838ba40",
   "metadata": {},
   "source": [
    "Data Science Resources\n",
    "\n",
    "Here are some resources you can check out to explore table manipulaltion further!\n",
    "\n",
    "- [DATA 8 Textbook](https://inferentialthinking.com/chapters/06/Tables.html)\n",
    "- [Reference Sheet for the datascience Module](http://data8.org/sp22/python-reference.html)\n",
    "- [Documentation for the datascience Modules](http://data8.org/datascience/index.html)\n",
    "- [Statistica: Find Data on Interesting Topics](https://www.statista.com/)\n",
    "- [Exploratory Data Analysis](https://en.wikipedia.org/wiki/Exploratory_data_analysis)"
   ]
  },
  {
   "cell_type": "markdown",
   "id": "7df79b9e",
   "metadata": {},
   "source": [
    "## 1.Wages among the Youth"
   ]
  },
  {
   "cell_type": "markdown",
   "id": "b2f368cb-4ad5-430c-8d0d-4d0f402b2b84",
   "metadata": {},
   "source": [
    " We are going to use some of the methods in this reference sheet and you are going to learn more about them further in your homework. For now, I am going to refer to this sheet when explaining mehtods I used: \n",
    "\n",
    "  [Reference Sheet for the datascience Module](http://data8.org/sp22/python-reference.html)"
   ]
  },
  {
   "cell_type": "markdown",
   "id": "b4d936b8",
   "metadata": {},
   "source": [
    "This dataset below represents the earnings of employed persons, derived from the Current Population Survey.  The wages represented include earnings before taxes and other deductions and include any overtime pay, commissions, or tips usually received. \n",
    "\n",
    "The goal of part one is to show let the students learn the basic table manipulation method by plotting a line graph of sex wage differences by year.\n",
    "\n",
    "As you may notice from the names of each column, the dataset covers the total number of workers and median weekly earnings annually for various age groups and sex among the years 2000-2021. "
   ]
  },
  {
   "cell_type": "code",
   "execution_count": 63,
   "id": "fd304655",
   "metadata": {
    "scrolled": true
   },
   "outputs": [
    {
     "data": {
      "text/html": [
       "<table border=\"1\" class=\"dataframe\">\n",
       "    <thead>\n",
       "        <tr>\n",
       "            <th>Year</th> <th>Age</th> <th>Sex</th> <th>Ethnicity</th> <th>Median Weekly Earnings</th>\n",
       "        </tr>\n",
       "    </thead>\n",
       "    <tbody>\n",
       "        <tr>\n",
       "            <td>2000</td> <td>16-24 Years Old</td> <td>All </td> <td>All      </td> <td>361                   </td>\n",
       "        </tr>\n",
       "        <tr>\n",
       "            <td>2001</td> <td>16-24 Years Old</td> <td>All </td> <td>All      </td> <td>375                   </td>\n",
       "        </tr>\n",
       "        <tr>\n",
       "            <td>2002</td> <td>16-24 Years Old</td> <td>All </td> <td>All      </td> <td>381                   </td>\n",
       "        </tr>\n",
       "        <tr>\n",
       "            <td>2003</td> <td>16-24 Years Old</td> <td>All </td> <td>All      </td> <td>387                   </td>\n",
       "        </tr>\n",
       "        <tr>\n",
       "            <td>2004</td> <td>16-24 Years Old</td> <td>All </td> <td>All      </td> <td>390                   </td>\n",
       "        </tr>\n",
       "        <tr>\n",
       "            <td>2005</td> <td>16-24 Years Old</td> <td>All </td> <td>All      </td> <td>397                   </td>\n",
       "        </tr>\n",
       "        <tr>\n",
       "            <td>2006</td> <td>16-24 Years Old</td> <td>All </td> <td>All      </td> <td>409                   </td>\n",
       "        </tr>\n",
       "        <tr>\n",
       "            <td>2007</td> <td>16-24 Years Old</td> <td>All </td> <td>All      </td> <td>424                   </td>\n",
       "        </tr>\n",
       "        <tr>\n",
       "            <td>2008</td> <td>16-24 Years Old</td> <td>All </td> <td>All      </td> <td>443                   </td>\n",
       "        </tr>\n",
       "        <tr>\n",
       "            <td>2009</td> <td>16-24 Years Old</td> <td>All </td> <td>All      </td> <td>442                   </td>\n",
       "        </tr>\n",
       "    </tbody>\n",
       "</table>\n",
       "<p>... (122 rows omitted)</p>"
      ],
      "text/plain": [
       "Year | Age             | Sex  | Ethnicity | Median Weekly Earnings\n",
       "2000 | 16-24 Years Old | All  | All       | 361\n",
       "2001 | 16-24 Years Old | All  | All       | 375\n",
       "2002 | 16-24 Years Old | All  | All       | 381\n",
       "2003 | 16-24 Years Old | All  | All       | 387\n",
       "2004 | 16-24 Years Old | All  | All       | 390\n",
       "2005 | 16-24 Years Old | All  | All       | 397\n",
       "2006 | 16-24 Years Old | All  | All       | 409\n",
       "2007 | 16-24 Years Old | All  | All       | 424\n",
       "2008 | 16-24 Years Old | All  | All       | 443\n",
       "2009 | 16-24 Years Old | All  | All       | 442\n",
       "... (122 rows omitted)"
      ]
     },
     "execution_count": 63,
     "metadata": {},
     "output_type": "execute_result"
    }
   ],
   "source": [
    "earnings = Table.read_table(\"Data/Earnings.csv\")\n",
    "earnings"
   ]
  },
  {
   "cell_type": "markdown",
   "id": "3bd5c8b3",
   "metadata": {},
   "source": [
    "**Question 1a:** In the cell below, create two tables `youth_earnings` and `all_earnings`. \n",
    "- `youth_earnings` contains data on 16-24 Year Olds of all Sexes and Ethnicities \n",
    "- `all_earnings` contains data on all laborers of all Sexes and Ethnicities\n",
    "\n",
    "*Hint:* Which table method can you use to create a copy of the original table with only the rows that match the predicate?"
   ]
  },
  {
   "cell_type": "code",
   "execution_count": 64,
   "id": "de3b3368",
   "metadata": {},
   "outputs": [],
   "source": [
    "#create two separate tables\n",
    "youth_earnings = earnings.where(\"Age\", are.equal_to(\"16-24 Years Old\")).where(\"Sex\", are.equal_to(\"All\"))\n",
    "all_earnings = earnings.where(\"Age\", are.equal_to(\"All\")).where(\"Sex\", are.equal_to(\"All\"))"
   ]
  },
  {
   "cell_type": "code",
   "execution_count": 65,
   "id": "66963218",
   "metadata": {},
   "outputs": [
    {
     "data": {
      "text/html": [
       "<table border=\"1\" class=\"dataframe\">\n",
       "    <thead>\n",
       "        <tr>\n",
       "            <th>Year</th> <th>Age</th> <th>Sex</th> <th>Ethnicity</th> <th>Median Weekly Earnings</th>\n",
       "        </tr>\n",
       "    </thead>\n",
       "    <tbody>\n",
       "        <tr>\n",
       "            <td>2000</td> <td>16-24 Years Old</td> <td>All </td> <td>All      </td> <td>361                   </td>\n",
       "        </tr>\n",
       "        <tr>\n",
       "            <td>2001</td> <td>16-24 Years Old</td> <td>All </td> <td>All      </td> <td>375                   </td>\n",
       "        </tr>\n",
       "        <tr>\n",
       "            <td>2002</td> <td>16-24 Years Old</td> <td>All </td> <td>All      </td> <td>381                   </td>\n",
       "        </tr>\n",
       "        <tr>\n",
       "            <td>2003</td> <td>16-24 Years Old</td> <td>All </td> <td>All      </td> <td>387                   </td>\n",
       "        </tr>\n",
       "        <tr>\n",
       "            <td>2004</td> <td>16-24 Years Old</td> <td>All </td> <td>All      </td> <td>390                   </td>\n",
       "        </tr>\n",
       "        <tr>\n",
       "            <td>2005</td> <td>16-24 Years Old</td> <td>All </td> <td>All      </td> <td>397                   </td>\n",
       "        </tr>\n",
       "        <tr>\n",
       "            <td>2006</td> <td>16-24 Years Old</td> <td>All </td> <td>All      </td> <td>409                   </td>\n",
       "        </tr>\n",
       "        <tr>\n",
       "            <td>2007</td> <td>16-24 Years Old</td> <td>All </td> <td>All      </td> <td>424                   </td>\n",
       "        </tr>\n",
       "        <tr>\n",
       "            <td>2008</td> <td>16-24 Years Old</td> <td>All </td> <td>All      </td> <td>443                   </td>\n",
       "        </tr>\n",
       "        <tr>\n",
       "            <td>2009</td> <td>16-24 Years Old</td> <td>All </td> <td>All      </td> <td>442                   </td>\n",
       "        </tr>\n",
       "    </tbody>\n",
       "</table>\n",
       "<p>... (12 rows omitted)</p>"
      ],
      "text/plain": [
       "Year | Age             | Sex  | Ethnicity | Median Weekly Earnings\n",
       "2000 | 16-24 Years Old | All  | All       | 361\n",
       "2001 | 16-24 Years Old | All  | All       | 375\n",
       "2002 | 16-24 Years Old | All  | All       | 381\n",
       "2003 | 16-24 Years Old | All  | All       | 387\n",
       "2004 | 16-24 Years Old | All  | All       | 390\n",
       "2005 | 16-24 Years Old | All  | All       | 397\n",
       "2006 | 16-24 Years Old | All  | All       | 409\n",
       "2007 | 16-24 Years Old | All  | All       | 424\n",
       "2008 | 16-24 Years Old | All  | All       | 443\n",
       "2009 | 16-24 Years Old | All  | All       | 442\n",
       "... (12 rows omitted)"
      ]
     },
     "execution_count": 65,
     "metadata": {},
     "output_type": "execute_result"
    }
   ],
   "source": [
    "youth_earnings"
   ]
  },
  {
   "cell_type": "code",
   "execution_count": 66,
   "id": "a08cff57",
   "metadata": {},
   "outputs": [
    {
     "data": {
      "text/html": [
       "<table border=\"1\" class=\"dataframe\">\n",
       "    <thead>\n",
       "        <tr>\n",
       "            <th>Year</th> <th>Age</th> <th>Sex</th> <th>Ethnicity</th> <th>Median Weekly Earnings</th>\n",
       "        </tr>\n",
       "    </thead>\n",
       "    <tbody>\n",
       "        <tr>\n",
       "            <td>2000</td> <td>All </td> <td>All </td> <td>All      </td> <td>576                   </td>\n",
       "        </tr>\n",
       "        <tr>\n",
       "            <td>2001</td> <td>All </td> <td>All </td> <td>All      </td> <td>596                   </td>\n",
       "        </tr>\n",
       "        <tr>\n",
       "            <td>2002</td> <td>All </td> <td>All </td> <td>All      </td> <td>608                   </td>\n",
       "        </tr>\n",
       "        <tr>\n",
       "            <td>2003</td> <td>All </td> <td>All </td> <td>All      </td> <td>620                   </td>\n",
       "        </tr>\n",
       "        <tr>\n",
       "            <td>2004</td> <td>All </td> <td>All </td> <td>All      </td> <td>638                   </td>\n",
       "        </tr>\n",
       "        <tr>\n",
       "            <td>2005</td> <td>All </td> <td>All </td> <td>All      </td> <td>651                   </td>\n",
       "        </tr>\n",
       "        <tr>\n",
       "            <td>2006</td> <td>All </td> <td>All </td> <td>All      </td> <td>671                   </td>\n",
       "        </tr>\n",
       "        <tr>\n",
       "            <td>2007</td> <td>All </td> <td>All </td> <td>All      </td> <td>695                   </td>\n",
       "        </tr>\n",
       "        <tr>\n",
       "            <td>2008</td> <td>All </td> <td>All </td> <td>All      </td> <td>722                   </td>\n",
       "        </tr>\n",
       "        <tr>\n",
       "            <td>2009</td> <td>All </td> <td>All </td> <td>All      </td> <td>739                   </td>\n",
       "        </tr>\n",
       "    </tbody>\n",
       "</table>\n",
       "<p>... (12 rows omitted)</p>"
      ],
      "text/plain": [
       "Year | Age  | Sex  | Ethnicity | Median Weekly Earnings\n",
       "2000 | All  | All  | All       | 576\n",
       "2001 | All  | All  | All       | 596\n",
       "2002 | All  | All  | All       | 608\n",
       "2003 | All  | All  | All       | 620\n",
       "2004 | All  | All  | All       | 638\n",
       "2005 | All  | All  | All       | 651\n",
       "2006 | All  | All  | All       | 671\n",
       "2007 | All  | All  | All       | 695\n",
       "2008 | All  | All  | All       | 722\n",
       "2009 | All  | All  | All       | 739\n",
       "... (12 rows omitted)"
      ]
     },
     "execution_count": 66,
     "metadata": {},
     "output_type": "execute_result"
    }
   ],
   "source": [
    "all_earnings"
   ]
  },
  {
   "cell_type": "markdown",
   "id": "116352b4",
   "metadata": {},
   "source": [
    "**Question 1b:** After you assign the table to each variable, compute the average of median weekly earnings for each table and find the difference between their wages. "
   ]
  },
  {
   "cell_type": "code",
   "execution_count": 67,
   "id": "71e0ccc1",
   "metadata": {},
   "outputs": [
    {
     "name": "stdout",
     "output_type": "stream",
     "text": [
      "The average American worker makes $ 296.32 more than the average American Youth worker on a weekly basis.\n"
     ]
    }
   ],
   "source": [
    "#find the difference in the average median weekly earnings between each table\n",
    "youth_earnings_avg = np.mean(youth_earnings.column(\"Median Weekly Earnings\"))\n",
    "average_earnings = np.mean(all_earnings.column(\"Median Weekly Earnings\"))\n",
    "diff = np.round(average_earnings - youth_earnings_avg, 2)\n",
    "\n",
    "print(\"The average American worker makes $\",diff, \"more than the average American Youth worker on a weekly basis.\")"
   ]
  },
  {
   "cell_type": "markdown",
   "id": "2907ea17",
   "metadata": {},
   "source": [
    "Let's now compare how wages differ among male and female youth, and discover how this trend over the years parallels the overall wage difference between men and women"
   ]
  },
  {
   "cell_type": "markdown",
   "id": "9ef4b6d2",
   "metadata": {},
   "source": [
    "**Question 2a**: Find the median weekly earnings for 16-24 years old men. The output variable `youth_male_earnings` should be an array."
   ]
  },
  {
   "cell_type": "code",
   "execution_count": 68,
   "id": "68f4d30b",
   "metadata": {},
   "outputs": [
    {
     "data": {
      "text/plain": [
       "array([375, 391, 391, 398, 400, 409, 418, 443, 461, 458, 443, 455, 468,\n",
       "       479, 493, 510, 512, 547, 575, 607, 622, 650])"
      ]
     },
     "execution_count": 68,
     "metadata": {},
     "output_type": "execute_result"
    }
   ],
   "source": [
    "youth_male_earnings = earnings.where(\"Age\", are.equal_to(\"16-24 Years Old\")).where(\"Sex\", are.equal_to(\"Male\")).column(\"Median Weekly Earnings\")\n",
    "youth_male_earnings"
   ]
  },
  {
   "cell_type": "markdown",
   "id": "222514ba",
   "metadata": {},
   "source": [
    "**Question 2b**: Find the median weekly earnings for 16-24 years old women. The output variable `youth_female_earnings` should be an array."
   ]
  },
  {
   "cell_type": "code",
   "execution_count": 69,
   "id": "b8faaef8",
   "metadata": {},
   "outputs": [
    {
     "data": {
      "text/plain": [
       "array([344, 353, 367, 371, 375, 381, 395, 409, 420, 424, 422, 421, 416,\n",
       "       423, 451, 450, 486, 499, 522, 540, 589, 605])"
      ]
     },
     "execution_count": 69,
     "metadata": {},
     "output_type": "execute_result"
    }
   ],
   "source": [
    "youth_female_earnings = earnings.where(\"Age\", are.equal_to(\"16-24 Years Old\")).where(\"Sex\", are.equal_to(\"Female\")).column(\"Median Weekly Earnings\")\n",
    "youth_female_earnings"
   ]
  },
  {
   "cell_type": "markdown",
   "id": "59387e74",
   "metadata": {},
   "source": [
    "**Question 2c**: Find the **difference** of the median weekly earnings for 16-24 years old men and women. The output variable `youth_wage_diff` should be an array.\n",
    "Try to guess the result of the difference first. Do you notice anything interesting or marked in this result?"
   ]
  },
  {
   "cell_type": "code",
   "execution_count": 70,
   "id": "7aa03f35",
   "metadata": {},
   "outputs": [
    {
     "data": {
      "text/plain": [
       "array([31, 38, 24, 27, 25, 28, 23, 34, 41, 34, 21, 34, 52, 56, 42, 60, 26,\n",
       "       48, 53, 67, 33, 45])"
      ]
     },
     "execution_count": 70,
     "metadata": {},
     "output_type": "execute_result"
    }
   ],
   "source": [
    "youth_wage_diff = youth_male_earnings - youth_female_earnings\n",
    "youth_wage_diff"
   ]
  },
  {
   "cell_type": "markdown",
   "id": "ed7f347c",
   "metadata": {},
   "source": [
    "**Question 2d**: Now let's create a new table containing the `Year`, `Median Weekly Earnings (16-24 Years Old Men)`, `Median Weekly Earnings (16-24 Years Old Women)` and a column containing the **difference** between the two earnings each year. Question: Why these columns can fit in one table?\n",
    "\n",
    "*Hint:* Consider using `with_columns` to add columns to a table."
   ]
  },
  {
   "cell_type": "code",
   "execution_count": 71,
   "id": "0d4f1012",
   "metadata": {},
   "outputs": [
    {
     "data": {
      "text/html": [
       "<table border=\"1\" class=\"dataframe\">\n",
       "    <thead>\n",
       "        <tr>\n",
       "            <th>Year</th> <th>Median Weekly Earnings (16-24 Years Old Men)</th> <th>Median Weekly Earnings (16-24 Years Old Women)</th> <th>Wage Difference</th>\n",
       "        </tr>\n",
       "    </thead>\n",
       "    <tbody>\n",
       "        <tr>\n",
       "            <td>2000</td> <td>375                                         </td> <td>344                                           </td> <td>31             </td>\n",
       "        </tr>\n",
       "        <tr>\n",
       "            <td>2001</td> <td>391                                         </td> <td>353                                           </td> <td>38             </td>\n",
       "        </tr>\n",
       "        <tr>\n",
       "            <td>2002</td> <td>391                                         </td> <td>367                                           </td> <td>24             </td>\n",
       "        </tr>\n",
       "        <tr>\n",
       "            <td>2003</td> <td>398                                         </td> <td>371                                           </td> <td>27             </td>\n",
       "        </tr>\n",
       "        <tr>\n",
       "            <td>2004</td> <td>400                                         </td> <td>375                                           </td> <td>25             </td>\n",
       "        </tr>\n",
       "        <tr>\n",
       "            <td>2005</td> <td>409                                         </td> <td>381                                           </td> <td>28             </td>\n",
       "        </tr>\n",
       "        <tr>\n",
       "            <td>2006</td> <td>418                                         </td> <td>395                                           </td> <td>23             </td>\n",
       "        </tr>\n",
       "        <tr>\n",
       "            <td>2007</td> <td>443                                         </td> <td>409                                           </td> <td>34             </td>\n",
       "        </tr>\n",
       "        <tr>\n",
       "            <td>2008</td> <td>461                                         </td> <td>420                                           </td> <td>41             </td>\n",
       "        </tr>\n",
       "        <tr>\n",
       "            <td>2009</td> <td>458                                         </td> <td>424                                           </td> <td>34             </td>\n",
       "        </tr>\n",
       "    </tbody>\n",
       "</table>\n",
       "<p>... (12 rows omitted)</p>"
      ],
      "text/plain": [
       "Year | Median Weekly Earnings (16-24 Years Old Men) | Median Weekly Earnings (16-24 Years Old Women) | Wage Difference\n",
       "2000 | 375                                          | 344                                            | 31\n",
       "2001 | 391                                          | 353                                            | 38\n",
       "2002 | 391                                          | 367                                            | 24\n",
       "2003 | 398                                          | 371                                            | 27\n",
       "2004 | 400                                          | 375                                            | 25\n",
       "2005 | 409                                          | 381                                            | 28\n",
       "2006 | 418                                          | 395                                            | 23\n",
       "2007 | 443                                          | 409                                            | 34\n",
       "2008 | 461                                          | 420                                            | 41\n",
       "2009 | 458                                          | 424                                            | 34\n",
       "... (12 rows omitted)"
      ]
     },
     "execution_count": 71,
     "metadata": {},
     "output_type": "execute_result"
    }
   ],
   "source": [
    "youth_diff_tbl = Table().with_columns(\"Year\", youth_earnings.column(\"Year\"),\n",
    "                                \"Median Weekly Earnings (16-24 Years Old Men)\", youth_male_earnings,\n",
    "                                \"Median Weekly Earnings (16-24 Years Old Women)\", youth_female_earnings,\n",
    "                                \"Wage Difference\", youth_wage_diff)\n",
    "youth_diff_tbl"
   ]
  },
  {
   "cell_type": "markdown",
   "id": "ac568be7",
   "metadata": {},
   "source": [
    "**Question 2e**: In the cell below, determine what year saw the biggest wage difference between young men and women.\n",
    "\n",
    "*Hint:* Please consider sorting the table first."
   ]
  },
  {
   "cell_type": "code",
   "execution_count": 72,
   "id": "7c62174b",
   "metadata": {},
   "outputs": [
    {
     "data": {
      "text/plain": [
       "2019"
      ]
     },
     "execution_count": 72,
     "metadata": {},
     "output_type": "execute_result"
    }
   ],
   "source": [
    "youth_biggest_diff_yr = youth_diff_tbl.sort(\"Wage Difference\", descending=True).column('Year').item(0)\n",
    "youth_biggest_diff_yr"
   ]
  },
  {
   "cell_type": "markdown",
   "id": "0e8d5cf4",
   "metadata": {},
   "source": [
    "**Question 2f:** Create a line plot of the wage difference between young men and women.\n",
    "\n",
    "*Hint:* You can use `plot` to draw a line graph."
   ]
  },
  {
   "cell_type": "code",
   "execution_count": 73,
   "id": "d07828b1",
   "metadata": {},
   "outputs": [
    {
     "data": {
      "text/plain": [
       "Text(0.5, 1.0, 'Wage Differences between Young Men and Women')"
      ]
     },
     "execution_count": 73,
     "metadata": {},
     "output_type": "execute_result"
    },
    {
     "data": {
      "image/png": "[encoded data removed]",
      "text/plain": [
       "<Figure size 600x600 with 1 Axes>"
      ]
     },
     "metadata": {},
     "output_type": "display_data"
    }
   ],
   "source": [
    "youth_diff_tbl.plot(\"Year\", \"Wage Difference\")\n",
    "plt.title(\"Wage Differences between Young Men and Women\")"
   ]
  },
  {
   "cell_type": "markdown",
   "id": "b75f0f9b",
   "metadata": {},
   "source": [
    "**Question 3a**: Similarly to what you did in **Question 2**, now create a new table for **All** age groups containing the `Year`, `Median Weekly Earnings (Men)`, `Median Weekly Earnings (Women)` and create a new column containing the **difference** between the two earnings each year. Again, in the cell below that, find the year containing the largest wage difference. "
   ]
  },
  {
   "cell_type": "code",
   "execution_count": 74,
   "id": "1dbdb7b1",
   "metadata": {},
   "outputs": [
    {
     "data": {
      "text/html": [
       "<table border=\"1\" class=\"dataframe\">\n",
       "    <thead>\n",
       "        <tr>\n",
       "            <th>Year</th> <th>Median Weekly Earnings (Men)</th> <th>Median Weekly Earnings (Women)</th> <th>Wage Difference</th>\n",
       "        </tr>\n",
       "    </thead>\n",
       "    <tbody>\n",
       "        <tr>\n",
       "            <td>2000</td> <td>641                         </td> <td>493                           </td> <td>148            </td>\n",
       "        </tr>\n",
       "        <tr>\n",
       "            <td>2001</td> <td>670                         </td> <td>512                           </td> <td>158            </td>\n",
       "        </tr>\n",
       "        <tr>\n",
       "            <td>2002</td> <td>679                         </td> <td>529                           </td> <td>150            </td>\n",
       "        </tr>\n",
       "        <tr>\n",
       "            <td>2003</td> <td>695                         </td> <td>552                           </td> <td>143            </td>\n",
       "        </tr>\n",
       "        <tr>\n",
       "            <td>2004</td> <td>713                         </td> <td>573                           </td> <td>140            </td>\n",
       "        </tr>\n",
       "        <tr>\n",
       "            <td>2005</td> <td>722                         </td> <td>585                           </td> <td>137            </td>\n",
       "        </tr>\n",
       "        <tr>\n",
       "            <td>2006</td> <td>743                         </td> <td>600                           </td> <td>143            </td>\n",
       "        </tr>\n",
       "        <tr>\n",
       "            <td>2007</td> <td>766                         </td> <td>614                           </td> <td>152            </td>\n",
       "        </tr>\n",
       "        <tr>\n",
       "            <td>2008</td> <td>798                         </td> <td>638                           </td> <td>160            </td>\n",
       "        </tr>\n",
       "        <tr>\n",
       "            <td>2009</td> <td>819                         </td> <td>657                           </td> <td>162            </td>\n",
       "        </tr>\n",
       "    </tbody>\n",
       "</table>\n",
       "<p>... (12 rows omitted)</p>"
      ],
      "text/plain": [
       "Year | Median Weekly Earnings (Men) | Median Weekly Earnings (Women) | Wage Difference\n",
       "2000 | 641                          | 493                            | 148\n",
       "2001 | 670                          | 512                            | 158\n",
       "2002 | 679                          | 529                            | 150\n",
       "2003 | 695                          | 552                            | 143\n",
       "2004 | 713                          | 573                            | 140\n",
       "2005 | 722                          | 585                            | 137\n",
       "2006 | 743                          | 600                            | 143\n",
       "2007 | 766                          | 614                            | 152\n",
       "2008 | 798                          | 638                            | 160\n",
       "2009 | 819                          | 657                            | 162\n",
       "... (12 rows omitted)"
      ]
     },
     "execution_count": 74,
     "metadata": {},
     "output_type": "execute_result"
    }
   ],
   "source": [
    "male_earnings = earnings.where(\"Age\", are.equal_to(\"All\")).where(\"Sex\", are.equal_to(\"Male\")).column(\"Median Weekly Earnings\")\n",
    "female_earnings = earnings.where(\"Age\", are.equal_to(\"All\")).where(\"Sex\", are.equal_to(\"Female\")).column(\"Median Weekly Earnings\")\n",
    "\n",
    "MWearnings = all_earnings.select(\"Year\")\n",
    "MWearnings = MWearnings.with_column(\"Median Weekly Earnings (Men)\", male_earnings).with_column(\"Median Weekly Earnings (Women)\", female_earnings)\n",
    "wage_diff = MWearnings.column(\"Median Weekly Earnings (Men)\")-MWearnings.column(\"Median Weekly Earnings (Women)\")\n",
    "\n",
    "MWearnings = MWearnings.with_column(\"Wage Difference\", wage_diff)\n",
    "MWearnings"
   ]
  },
  {
   "cell_type": "markdown",
   "id": "3291110a",
   "metadata": {},
   "source": [
    "**Question 3b:** In the cell below, determine what year saw the biggest wage difference between men and women."
   ]
  },
  {
   "cell_type": "code",
   "execution_count": 75,
   "id": "918cb85b",
   "metadata": {},
   "outputs": [
    {
     "data": {
      "text/plain": [
       "2020"
      ]
     },
     "execution_count": 75,
     "metadata": {},
     "output_type": "execute_result"
    }
   ],
   "source": [
    "all_biggest_diff_yr = MWearnings.sort(\"Wage Difference\", descending=True).column('Year').item(0)\n",
    "all_biggest_diff_yr"
   ]
  },
  {
   "cell_type": "markdown",
   "id": "8674172e",
   "metadata": {},
   "source": [
    "**Question 3c:** Create a line plot of the wage difference between men and women."
   ]
  },
  {
   "cell_type": "code",
   "execution_count": 76,
   "id": "ac2c7a84",
   "metadata": {},
   "outputs": [
    {
     "data": {
      "text/plain": [
       "Text(0.5, 1.0, 'Wage Differences between Men and Women of All Ages')"
      ]
     },
     "execution_count": 76,
     "metadata": {},
     "output_type": "execute_result"
    },
    {
     "data": {
      "image/png": "[encoded data removed]",
      "text/plain": [
       "<Figure size 600x600 with 1 Axes>"
      ]
     },
     "metadata": {},
     "output_type": "display_data"
    }
   ],
   "source": [
    "MWearnings.plot(\"Year\", \"Wage Difference\")\n",
    "plt.title(\"Wage Differences between Men and Women of All Ages\")"
   ]
  },
  {
   "cell_type": "markdown",
   "id": "f52139be",
   "metadata": {},
   "source": [
    "**Question 3d**: Looking at the two graphs you created, what do you notice? Are there similarities between the differences in men and women wages among age groups?"
   ]
  },
  {
   "cell_type": "markdown",
   "id": "96879d72",
   "metadata": {},
   "source": [
    "*Type out your answer here*"
   ]
  },
  {
   "cell_type": "markdown",
   "id": "05f3ecaa",
   "metadata": {},
   "source": [
    "### 2.Wage differences among youth between ethnicities"
   ]
  },
  {
   "cell_type": "markdown",
   "id": "121a6575",
   "metadata": {},
   "source": [
    "The data below was also pulled from the Bureau of Labor Statistics through this data filtering [table](https://www.bls.gov/webapps/legacy/cpswktab3.htm). \n",
    "\n",
    "In this section we will explore the relationship between race, sex, and wages.In this section we will explore the relationship between race, sex, and wages.\n",
    "\n",
    "Feel free to explore through the data and find different statistics.\n",
    "\n",
    "The table below represents the number of workers and median weekly earnings of workers between 16-24 years old, separated by ethnicity and sex. "
   ]
  },
  {
   "cell_type": "code",
   "execution_count": 77,
   "id": "4fb1d2b3",
   "metadata": {},
   "outputs": [
    {
     "data": {
      "text/html": [
       "<table border=\"1\" class=\"dataframe\">\n",
       "    <thead>\n",
       "        <tr>\n",
       "            <th>Year</th> <th>Age</th> <th>Sex</th> <th>Ethnicity</th> <th>Median Weekly Earnings</th>\n",
       "        </tr>\n",
       "    </thead>\n",
       "    <tbody>\n",
       "        <tr>\n",
       "            <td>2000</td> <td>16-24 Years Old</td> <td>All </td> <td>White    </td> <td>366                   </td>\n",
       "        </tr>\n",
       "        <tr>\n",
       "            <td>2001</td> <td>16-24 Years Old</td> <td>All </td> <td>White    </td> <td>380                   </td>\n",
       "        </tr>\n",
       "        <tr>\n",
       "            <td>2002</td> <td>16-24 Years Old</td> <td>All </td> <td>White    </td> <td>386                   </td>\n",
       "        </tr>\n",
       "        <tr>\n",
       "            <td>2003</td> <td>16-24 Years Old</td> <td>All </td> <td>White    </td> <td>390                   </td>\n",
       "        </tr>\n",
       "        <tr>\n",
       "            <td>2004</td> <td>16-24 Years Old</td> <td>All </td> <td>White    </td> <td>393                   </td>\n",
       "        </tr>\n",
       "        <tr>\n",
       "            <td>2005</td> <td>16-24 Years Old</td> <td>All </td> <td>White    </td> <td>403                   </td>\n",
       "        </tr>\n",
       "        <tr>\n",
       "            <td>2006</td> <td>16-24 Years Old</td> <td>All </td> <td>White    </td> <td>411                   </td>\n",
       "        </tr>\n",
       "        <tr>\n",
       "            <td>2007</td> <td>16-24 Years Old</td> <td>All </td> <td>White    </td> <td>429                   </td>\n",
       "        </tr>\n",
       "        <tr>\n",
       "            <td>2008</td> <td>16-24 Years Old</td> <td>All </td> <td>White    </td> <td>451                   </td>\n",
       "        </tr>\n",
       "        <tr>\n",
       "            <td>2009</td> <td>16-24 Years Old</td> <td>All </td> <td>White    </td> <td>447                   </td>\n",
       "        </tr>\n",
       "    </tbody>\n",
       "</table>\n",
       "<p>... (254 rows omitted)</p>"
      ],
      "text/plain": [
       "Year | Age             | Sex  | Ethnicity | Median Weekly Earnings\n",
       "2000 | 16-24 Years Old | All  | White     | 366\n",
       "2001 | 16-24 Years Old | All  | White     | 380\n",
       "2002 | 16-24 Years Old | All  | White     | 386\n",
       "2003 | 16-24 Years Old | All  | White     | 390\n",
       "2004 | 16-24 Years Old | All  | White     | 393\n",
       "2005 | 16-24 Years Old | All  | White     | 403\n",
       "2006 | 16-24 Years Old | All  | White     | 411\n",
       "2007 | 16-24 Years Old | All  | White     | 429\n",
       "2008 | 16-24 Years Old | All  | White     | 451\n",
       "2009 | 16-24 Years Old | All  | White     | 447\n",
       "... (254 rows omitted)"
      ]
     },
     "execution_count": 77,
     "metadata": {},
     "output_type": "execute_result"
    }
   ],
   "source": [
    "wages_ethnicity = Table.read_table(\"Data/YouthEarningsByEthnicity.csv\")\n",
    "wages_ethnicity"
   ]
  },
  {
   "cell_type": "markdown",
   "id": "ce18584a",
   "metadata": {},
   "source": [
    "In this next section, let's find the largest difference between the average median weekly earnings between two demographic groups."
   ]
  },
  {
   "cell_type": "markdown",
   "id": "c53d4f8f",
   "metadata": {},
   "source": [
    "**Question 4a:** Create a table called `demographic_earnings` containing the mean of Median Weekly Earnings for each possible demographic group combination. \n",
    "\n",
    "*Hint:* Use the `group` function to group the data by Sex and Ethnicity category and aggregate the earnings by finding the mean."
   ]
  },
  {
   "cell_type": "code",
   "execution_count": 78,
   "id": "06f6f38c",
   "metadata": {},
   "outputs": [
    {
     "data": {
      "text/html": [
       "<table border=\"1\" class=\"dataframe\">\n",
       "    <thead>\n",
       "        <tr>\n",
       "            <th>Sex</th> <th>Ethnicity</th> <th>Median Weekly Earnings mean</th>\n",
       "        </tr>\n",
       "    </thead>\n",
       "    <tbody>\n",
       "        <tr>\n",
       "            <td>All   </td> <td>Asian    </td> <td>525.591                    </td>\n",
       "        </tr>\n",
       "        <tr>\n",
       "            <td>All   </td> <td>Black    </td> <td>412.091                    </td>\n",
       "        </tr>\n",
       "        <tr>\n",
       "            <td>All   </td> <td>Latinx   </td> <td>425                        </td>\n",
       "        </tr>\n",
       "        <tr>\n",
       "            <td>All   </td> <td>White    </td> <td>467.591                    </td>\n",
       "        </tr>\n",
       "        <tr>\n",
       "            <td>Female</td> <td>Asian    </td> <td>519.091                    </td>\n",
       "        </tr>\n",
       "        <tr>\n",
       "            <td>Female</td> <td>Black    </td> <td>405.818                    </td>\n",
       "        </tr>\n",
       "        <tr>\n",
       "            <td>Female</td> <td>Latinx   </td> <td>408.318                    </td>\n",
       "        </tr>\n",
       "        <tr>\n",
       "            <td>Female</td> <td>White    </td> <td>444.455                    </td>\n",
       "        </tr>\n",
       "        <tr>\n",
       "            <td>Male  </td> <td>Asian    </td> <td>536.773                    </td>\n",
       "        </tr>\n",
       "        <tr>\n",
       "            <td>Male  </td> <td>Black    </td> <td>418.773                    </td>\n",
       "        </tr>\n",
       "    </tbody>\n",
       "</table>\n",
       "<p>... (2 rows omitted)</p>"
      ],
      "text/plain": [
       "Sex    | Ethnicity | Median Weekly Earnings mean\n",
       "All    | Asian     | 525.591\n",
       "All    | Black     | 412.091\n",
       "All    | Latinx    | 425\n",
       "All    | White     | 467.591\n",
       "Female | Asian     | 519.091\n",
       "Female | Black     | 405.818\n",
       "Female | Latinx    | 408.318\n",
       "Female | White     | 444.455\n",
       "Male   | Asian     | 536.773\n",
       "Male   | Black     | 418.773\n",
       "... (2 rows omitted)"
      ]
     },
     "execution_count": 78,
     "metadata": {},
     "output_type": "execute_result"
    }
   ],
   "source": [
    "demographic_earnings = wages_ethnicity.group([\"Sex\", \"Ethnicity\"], np.mean).select(0,1,4)\n",
    "demographic_earnings"
   ]
  },
  {
   "cell_type": "markdown",
   "id": "2b81042b",
   "metadata": {},
   "source": [
    "**Question 4b:** Sort the table you created above in descending order."
   ]
  },
  {
   "cell_type": "code",
   "execution_count": 79,
   "id": "cc67172c",
   "metadata": {},
   "outputs": [
    {
     "data": {
      "text/html": [
       "<table border=\"1\" class=\"dataframe\">\n",
       "    <thead>\n",
       "        <tr>\n",
       "            <th>Sex</th> <th>Ethnicity</th> <th>Median Weekly Earnings mean</th>\n",
       "        </tr>\n",
       "    </thead>\n",
       "    <tbody>\n",
       "        <tr>\n",
       "            <td>Male  </td> <td>Asian    </td> <td>536.773                    </td>\n",
       "        </tr>\n",
       "        <tr>\n",
       "            <td>All   </td> <td>Asian    </td> <td>525.591                    </td>\n",
       "        </tr>\n",
       "        <tr>\n",
       "            <td>Female</td> <td>Asian    </td> <td>519.091                    </td>\n",
       "        </tr>\n",
       "        <tr>\n",
       "            <td>Male  </td> <td>White    </td> <td>484.773                    </td>\n",
       "        </tr>\n",
       "        <tr>\n",
       "            <td>All   </td> <td>White    </td> <td>467.591                    </td>\n",
       "        </tr>\n",
       "        <tr>\n",
       "            <td>Female</td> <td>White    </td> <td>444.455                    </td>\n",
       "        </tr>\n",
       "        <tr>\n",
       "            <td>Male  </td> <td>Latinx   </td> <td>436                        </td>\n",
       "        </tr>\n",
       "        <tr>\n",
       "            <td>All   </td> <td>Latinx   </td> <td>425                        </td>\n",
       "        </tr>\n",
       "        <tr>\n",
       "            <td>Male  </td> <td>Black    </td> <td>418.773                    </td>\n",
       "        </tr>\n",
       "        <tr>\n",
       "            <td>All   </td> <td>Black    </td> <td>412.091                    </td>\n",
       "        </tr>\n",
       "    </tbody>\n",
       "</table>\n",
       "<p>... (2 rows omitted)</p>"
      ],
      "text/plain": [
       "Sex    | Ethnicity | Median Weekly Earnings mean\n",
       "Male   | Asian     | 536.773\n",
       "All    | Asian     | 525.591\n",
       "Female | Asian     | 519.091\n",
       "Male   | White     | 484.773\n",
       "All    | White     | 467.591\n",
       "Female | White     | 444.455\n",
       "Male   | Latinx    | 436\n",
       "All    | Latinx    | 425\n",
       "Male   | Black     | 418.773\n",
       "All    | Black     | 412.091\n",
       "... (2 rows omitted)"
      ]
     },
     "execution_count": 79,
     "metadata": {},
     "output_type": "execute_result"
    }
   ],
   "source": [
    "demographic_earnings = demographic_earnings.sort(\"Median Weekly Earnings mean\", descending = True)\n",
    "demographic_earnings"
   ]
  },
  {
   "cell_type": "markdown",
   "id": "4fab1984",
   "metadata": {},
   "source": [
    "**Question 4c:** Find the group that makes the most and the least on average and find the difference between the two earnings. \n",
    "\n",
    "*Hint:* You can use the `take` table method."
   ]
  },
  {
   "cell_type": "code",
   "execution_count": 80,
   "id": "57978e78",
   "metadata": {},
   "outputs": [
    {
     "data": {
      "text/html": [
       "<table border=\"1\" class=\"dataframe\">\n",
       "    <thead>\n",
       "        <tr>\n",
       "            <th>Sex</th> <th>Ethnicity</th> <th>Median Weekly Earnings mean</th>\n",
       "        </tr>\n",
       "    </thead>\n",
       "    <tbody>\n",
       "        <tr>\n",
       "            <td>Male</td> <td>Asian    </td> <td>536.773                    </td>\n",
       "        </tr>\n",
       "    </tbody>\n",
       "</table>"
      ],
      "text/plain": [
       "Sex  | Ethnicity | Median Weekly Earnings mean\n",
       "Male | Asian     | 536.773"
      ]
     },
     "metadata": {},
     "output_type": "display_data"
    },
    {
     "data": {
      "text/html": [
       "<table border=\"1\" class=\"dataframe\">\n",
       "    <thead>\n",
       "        <tr>\n",
       "            <th>Sex</th> <th>Ethnicity</th> <th>Median Weekly Earnings mean</th>\n",
       "        </tr>\n",
       "    </thead>\n",
       "    <tbody>\n",
       "        <tr>\n",
       "            <td>Female</td> <td>Black    </td> <td>405.818                    </td>\n",
       "        </tr>\n",
       "    </tbody>\n",
       "</table>"
      ],
      "text/plain": [
       "Sex    | Ethnicity | Median Weekly Earnings mean\n",
       "Female | Black     | 405.818"
      ]
     },
     "metadata": {},
     "output_type": "display_data"
    }
   ],
   "source": [
    "group1 = demographic_earnings.take(0)\n",
    "group2 = demographic_earnings.take(demographic_earnings.num_rows - 1)\n",
    "\n",
    "display(group1)\n",
    "display(group2)"
   ]
  },
  {
   "cell_type": "code",
   "execution_count": 81,
   "id": "00fd444b",
   "metadata": {},
   "outputs": [
    {
     "data": {
      "text/plain": [
       "130.95454545454544"
      ]
     },
     "execution_count": 81,
     "metadata": {},
     "output_type": "execute_result"
    }
   ],
   "source": [
    "diff = group1.column('Median Weekly Earnings mean').item(0) - group2.column('Median Weekly Earnings mean').item(0)\n",
    "diff"
   ]
  },
  {
   "cell_type": "markdown",
   "id": "f597628d",
   "metadata": {},
   "source": [
    "Now let's look at how wages among each demographic group differ over time. Run the cell below and choose specific demographic groups you'd like to compare wages with by using the dropdown options below. "
   ]
  },
  {
   "cell_type": "code",
   "execution_count": 82,
   "id": "17cc0f7c",
   "metadata": {},
   "outputs": [
    {
     "data": {
      "application/vnd.jupyter.widget-view+json": {
       "model_id": "f9855952f1754a83a7fd493dd80407ec",
       "version_major": 2,
       "version_minor": 0
      },
      "text/plain": [
       "interactive(children=(Dropdown(description='Sex 1:', options=('All', 'Male', 'Female'), value='All'), Dropdown…"
      ]
     },
     "metadata": {},
     "output_type": "display_data"
    },
    {
     "data": {
      "text/plain": [
       "<function __main__.demographics_comparison(s1, e1, s2, e2)>"
      ]
     },
     "execution_count": 82,
     "metadata": {},
     "output_type": "execute_result"
    }
   ],
   "source": [
    "#run this cell \n",
    "\n",
    "#function used to graph line plots comparing the Median Weekly Earning for two demographic groups over time\n",
    "def demographics_comparison(s1, e1, s2, e2):\n",
    "    group1 = wages_ethnicity.where(\"Ethnicity\", are.equal_to(e1)).where(\"Sex\", are.equal_to(s1))\n",
    "    group2 = wages_ethnicity.where(\"Ethnicity\", are.equal_to(e2)).where(\"Sex\", are.equal_to(s2))\n",
    "        \n",
    "    label1 = e1 + \" \" + s1\n",
    "    label2 = e2 + \" \" + s2\n",
    "\n",
    "    plt.plot(group1[\"Year\"], group1[\"Median Weekly Earnings\"], label = label1)\n",
    "    plt.plot(group2[\"Year\"], group2[\"Median Weekly Earnings\"], label = label2)\n",
    "    plt.legend(loc='upper left')\n",
    "    plt.title('Comparison of Two Demographic Groups')\n",
    "    plt.xlabel(\"Year\")\n",
    "    plt.ylabel(\"Median Weekly Earnings\")\n",
    "\n",
    "\n",
    "    plt.show()\n",
    "\n",
    "interact(demographics_comparison, \n",
    "         s1=widgets.Dropdown(\n",
    "            options=['All', 'Male', 'Female'],\n",
    "            value='All',\n",
    "            description='Sex 1:',\n",
    "            disabled=False),\n",
    "         e1=widgets.Dropdown(\n",
    "            options=['Asian', 'Black', 'Latinx', 'White'],\n",
    "            value='Asian',\n",
    "            description='Ethnicity 1:',\n",
    "            disabled=False),\n",
    "        s2=widgets.Dropdown(\n",
    "            options=['All', 'Male', 'Female'],\n",
    "            value='All',\n",
    "            description='Sex 2:',\n",
    "            disabled=False),\n",
    "         e2=widgets.Dropdown(\n",
    "            options=['Asian', 'Black', 'Latinx', 'White'],\n",
    "            value='Black',\n",
    "            description='Ethnicity 2:',\n",
    "            disabled=False))"
   ]
  },
  {
   "cell_type": "markdown",
   "id": "703c44a0",
   "metadata": {},
   "source": [
    "**Question 5:** What two demographic groups did you decide to look at? Why did you choose those two groups specifically? Did you observe anything interesting with the line plot?"
   ]
  },
  {
   "cell_type": "markdown",
   "id": "088b9bee",
   "metadata": {},
   "source": [
    "*Insert response here*"
   ]
  },
  {
   "cell_type": "markdown",
   "id": "91f559ee",
   "metadata": {},
   "source": [
    "### 3.Employment among the Youth"
   ]
  },
  {
   "cell_type": "markdown",
   "id": "1402e1d0",
   "metadata": {},
   "source": [
    "Now we are going to look at the employment table.\n",
    "\n",
    "This table shows the employment status of the civilian noninstitutional population 16 to 24 years of age by sex, the employment status of whole population by race and sex,from 2000-2021.\n",
    "\n",
    "The goal of this section is to learn how to clean the table and generate historam for percent plot\n",
    "\n",
    "Fist, let's import the table."
   ]
  },
  {
   "cell_type": "code",
   "execution_count": 83,
   "id": "8a5d2de0-7260-4776-8803-f326c3df9aea",
   "metadata": {},
   "outputs": [
    {
     "data": {
      "text/html": [
       "<table border=\"1\" class=\"dataframe\">\n",
       "    <thead>\n",
       "        <tr>\n",
       "            <th>Year</th> <th>Number of Workers (In Thousands) (16-24 Years Old)</th> <th>Number of Male Workers (In Thousands) (16-24 Years Old)</th> <th>Number of Female Workers (In Thousands) (16-24 Years Old)</th> <th>Number of Workers (In Thousands)</th> <th>Number of Workers (In Thousands) (Men)</th> <th>Number of Workers (In Thousands) (Women)</th> <th>Number of Workers (In Thousands) (White)</th> <th>Number of Male Workers (In Thousands) (White)</th> <th>Number of Female Workers (In Thousands) (White)</th> <th>Number of Workers (In Thousands) (Black)</th> <th>Number of Male Workers (In Thousands) (Black)</th> <th>Number of Female Workers (In Thousands) (Black)</th> <th>Number of Workers (In Thousands) (Asian)</th> <th>Number of Male Workers (In Thousands) (Asian)</th> <th>Number of Female Workers (In Thousands) (Asian)</th> <th>Number of Workers (In Thousands) (Latinx)</th> <th>Number of Male Workers (In Thousands) (Latinx)</th> <th>Number of Female Workers (In Thousands) (Latinx)</th>\n",
       "        </tr>\n",
       "    </thead>\n",
       "    <tbody>\n",
       "        <tr>\n",
       "            <td>2000</td> <td>11864                                             </td> <td>6770                                                   </td> <td>5094                                                     </td> <td>101210                          </td> <td>57107                                 </td> <td>44103                                   </td> <td>9868                                    </td> <td>5784                                         </td> <td>4084                                           </td> <td>1465                                    </td> <td>697                                          </td> <td>767                                            </td> <td>392                                     </td> <td>205                                          </td> <td>187                                            </td> <td>2357                                     </td> <td>1586                                          </td> <td>771                                             </td>\n",
       "        </tr>\n",
       "        <tr>\n",
       "            <td>2001</td> <td>11589                                             </td> <td>6555                                                   </td> <td>5033                                                     </td> <td>101041                          </td> <td>56835                                 </td> <td>44206                                   </td> <td>9653                                    </td> <td>5625                                         </td> <td>4027                                           </td> <td>1411                                    </td> <td>644                                          </td> <td>767                                            </td> <td>393                                     </td> <td>212                                          </td> <td>181                                            </td> <td>2366                                     </td> <td>1579                                          </td> <td>787                                             </td>\n",
       "        </tr>\n",
       "        <tr>\n",
       "            <td>2002</td> <td>11121                                             </td> <td>6317                                                   </td> <td>4804                                                     </td> <td>100081                          </td> <td>56345                                 </td> <td>43737                                   </td> <td>9274                                    </td> <td>5362                                         </td> <td>3912                                           </td> <td>1333                                    </td> <td>682                                          </td> <td>651                                            </td> <td>377                                     </td> <td>195                                          </td> <td>182                                            </td> <td>2294                                     </td> <td>1524                                          </td> <td>770                                             </td>\n",
       "        </tr>\n",
       "        <tr>\n",
       "            <td>2003</td> <td>10790                                             </td> <td>6158                                                   </td> <td>4632                                                     </td> <td>100302                          </td> <td>56227                                 </td> <td>44076                                   </td> <td>8923                                    </td> <td>5190                                         </td> <td>3733                                           </td> <td>1223                                    </td> <td>606                                          </td> <td>616                                            </td> <td>330                                     </td> <td>189                                          </td> <td>142                                            </td> <td>2102                                     </td> <td>1385                                          </td> <td>717                                             </td>\n",
       "        </tr>\n",
       "        <tr>\n",
       "            <td>2004</td> <td>10876                                             </td> <td>6243                                                   </td> <td>4633                                                     </td> <td>101224                          </td> <td>57001                                 </td> <td>44223                                   </td> <td>8947                                    </td> <td>5252                                         </td> <td>3695                                           </td> <td>1268                                    </td> <td>635                                          </td> <td>633                                            </td> <td>332                                     </td> <td>160                                          </td> <td>172                                            </td> <td>2175                                     </td> <td>1441                                          </td> <td>734                                             </td>\n",
       "        </tr>\n",
       "        <tr>\n",
       "            <td>2005</td> <td>11108                                             </td> <td>6396                                                   </td> <td>4711                                                     </td> <td>103560                          </td> <td>58406                                 </td> <td>45154                                   </td> <td>9075                                    </td> <td>5351                                         </td> <td>3724                                           </td> <td>1337                                    </td> <td>668                                          </td> <td>668                                            </td> <td>309                                     </td> <td>173                                          </td> <td>136                                            </td> <td>2148                                     </td> <td>1453                                          </td> <td>696                                             </td>\n",
       "        </tr>\n",
       "        <tr>\n",
       "            <td>2006</td> <td>11362                                             </td> <td>6559                                                   </td> <td>4802                                                     </td> <td>106106                          </td> <td>59747                                 </td> <td>46358                                   </td> <td>9280                                    </td> <td>5480                                         </td> <td>3800                                           </td> <td>1374                                    </td> <td>690                                          </td> <td>684                                            </td> <td>323                                     </td> <td>175                                          </td> <td>148                                            </td> <td>2311                                     </td> <td>1530                                          </td> <td>780                                             </td>\n",
       "        </tr>\n",
       "        <tr>\n",
       "            <td>2007</td> <td>11250                                             </td> <td>6458                                                   </td> <td>4792                                                     </td> <td>107339                          </td> <td>60298                                 </td> <td>47041                                   </td> <td>9183                                    </td> <td>5395                                         </td> <td>3788                                           </td> <td>1364                                    </td> <td>686                                          </td> <td>678                                            </td> <td>323                                     </td> <td>162                                          </td> <td>161                                            </td> <td>2316                                     </td> <td>1494                                          </td> <td>822                                             </td>\n",
       "        </tr>\n",
       "        <tr>\n",
       "            <td>2008</td> <td>10621                                             </td> <td>5996                                                   </td> <td>4625                                                     </td> <td>106648                          </td> <td>59439                                 </td> <td>47209                                   </td> <td>8591                                    </td> <td>4934                                         </td> <td>3657                                           </td> <td>1309                                    </td> <td>671                                          </td> <td>638                                            </td> <td>343                                     </td> <td>179                                          </td> <td>165                                            </td> <td>2035                                     </td> <td>1288                                          </td> <td>747                                             </td>\n",
       "        </tr>\n",
       "        <tr>\n",
       "            <td>2009</td> <td>8957                                              </td> <td>5014                                                   </td> <td>3943                                                     </td> <td>99820                           </td> <td>55108                                 </td> <td>44712                                   </td> <td>7328                                    </td> <td>4160                                         </td> <td>3168                                           </td> <td>1034                                    </td> <td>509                                          </td> <td>526                                            </td> <td>280                                     </td> <td>164                                          </td> <td>117                                            </td> <td>1707                                     </td> <td>1063                                          </td> <td>645                                             </td>\n",
       "        </tr>\n",
       "    </tbody>\n",
       "</table>\n",
       "<p>... (12 rows omitted)</p>"
      ],
      "text/plain": [
       "Year | Number of Workers (In Thousands) (16-24 Years Old) | Number of Male Workers (In Thousands) (16-24 Years Old) | Number of Female Workers (In Thousands) (16-24 Years Old) | Number of Workers (In Thousands) | Number of Workers (In Thousands) (Men) | Number of Workers (In Thousands) (Women) | Number of Workers (In Thousands) (White) | Number of Male Workers (In Thousands) (White) | Number of Female Workers (In Thousands) (White) | Number of Workers (In Thousands) (Black) | Number of Male Workers (In Thousands) (Black) | Number of Female Workers (In Thousands) (Black) | Number of Workers (In Thousands) (Asian) | Number of Male Workers (In Thousands) (Asian) | Number of Female Workers (In Thousands) (Asian) | Number of Workers (In Thousands) (Latinx) | Number of Male Workers (In Thousands) (Latinx) | Number of Female Workers (In Thousands) (Latinx)\n",
       "2000 | 11864                                              | 6770                                                    | 5094                                                      | 101210                           | 57107                                  | 44103                                    | 9868                                     | 5784                                          | 4084                                            | 1465                                     | 697                                           | 767                                             | 392                                      | 205                                           | 187                                             | 2357                                      | 1586                                           | 771\n",
       "2001 | 11589                                              | 6555                                                    | 5033                                                      | 101041                           | 56835                                  | 44206                                    | 9653                                     | 5625                                          | 4027                                            | 1411                                     | 644                                           | 767                                             | 393                                      | 212                                           | 181                                             | 2366                                      | 1579                                           | 787\n",
       "2002 | 11121                                              | 6317                                                    | 4804                                                      | 100081                           | 56345                                  | 43737                                    | 9274                                     | 5362                                          | 3912                                            | 1333                                     | 682                                           | 651                                             | 377                                      | 195                                           | 182                                             | 2294                                      | 1524                                           | 770\n",
       "2003 | 10790                                              | 6158                                                    | 4632                                                      | 100302                           | 56227                                  | 44076                                    | 8923                                     | 5190                                          | 3733                                            | 1223                                     | 606                                           | 616                                             | 330                                      | 189                                           | 142                                             | 2102                                      | 1385                                           | 717\n",
       "2004 | 10876                                              | 6243                                                    | 4633                                                      | 101224                           | 57001                                  | 44223                                    | 8947                                     | 5252                                          | 3695                                            | 1268                                     | 635                                           | 633                                             | 332                                      | 160                                           | 172                                             | 2175                                      | 1441                                           | 734\n",
       "2005 | 11108                                              | 6396                                                    | 4711                                                      | 103560                           | 58406                                  | 45154                                    | 9075                                     | 5351                                          | 3724                                            | 1337                                     | 668                                           | 668                                             | 309                                      | 173                                           | 136                                             | 2148                                      | 1453                                           | 696\n",
       "2006 | 11362                                              | 6559                                                    | 4802                                                      | 106106                           | 59747                                  | 46358                                    | 9280                                     | 5480                                          | 3800                                            | 1374                                     | 690                                           | 684                                             | 323                                      | 175                                           | 148                                             | 2311                                      | 1530                                           | 780\n",
       "2007 | 11250                                              | 6458                                                    | 4792                                                      | 107339                           | 60298                                  | 47041                                    | 9183                                     | 5395                                          | 3788                                            | 1364                                     | 686                                           | 678                                             | 323                                      | 162                                           | 161                                             | 2316                                      | 1494                                           | 822\n",
       "2008 | 10621                                              | 5996                                                    | 4625                                                      | 106648                           | 59439                                  | 47209                                    | 8591                                     | 4934                                          | 3657                                            | 1309                                     | 671                                           | 638                                             | 343                                      | 179                                           | 165                                             | 2035                                      | 1288                                           | 747\n",
       "2009 | 8957                                               | 5014                                                    | 3943                                                      | 99820                            | 55108                                  | 44712                                    | 7328                                     | 4160                                          | 3168                                            | 1034                                     | 509                                           | 526                                             | 280                                      | 164                                           | 117                                             | 1707                                      | 1063                                           | 645\n",
       "... (12 rows omitted)"
      ]
     },
     "execution_count": 83,
     "metadata": {},
     "output_type": "execute_result"
    }
   ],
   "source": [
    "employment = Table.read_table(\"Data/Employment.csv\")\n",
    "employment"
   ]
  },
  {
   "cell_type": "markdown",
   "id": "e43fed5d-ec97-4241-b48a-cb569651d9f4",
   "metadata": {},
   "source": [
    "First, we are going to clean the data. Since we are going to focus on the young workers, some of columns are going to be cleaned.\n",
    "\n",
    "**Question 6:** Create a table called `employmentClean` containing the columns that reflect the young workers and sevearal columns that can be compare to.\n"
   ]
  },
  {
   "cell_type": "code",
   "execution_count": 84,
   "id": "21ee6a81-6d08-47e1-81e1-ca1ace864713",
   "metadata": {},
   "outputs": [
    {
     "data": {
      "text/html": [
       "<table border=\"1\" class=\"dataframe\">\n",
       "    <thead>\n",
       "        <tr>\n",
       "            <th>Year</th> <th>Number of Workers (In Thousands) (16-24 Years Old)</th> <th>Number of Male Workers (In Thousands) (16-24 Years Old)</th> <th>Number of Female Workers (In Thousands) (16-24 Years Old)</th> <th>Number of Workers (In Thousands)</th> <th>Number of Workers (In Thousands) (Men)</th> <th>Number of Workers (In Thousands) (Women)</th>\n",
       "        </tr>\n",
       "    </thead>\n",
       "    <tbody>\n",
       "        <tr>\n",
       "            <td>2000</td> <td>11864                                             </td> <td>6770                                                   </td> <td>5094                                                     </td> <td>101210                          </td> <td>57107                                 </td> <td>44103                                   </td>\n",
       "        </tr>\n",
       "        <tr>\n",
       "            <td>2001</td> <td>11589                                             </td> <td>6555                                                   </td> <td>5033                                                     </td> <td>101041                          </td> <td>56835                                 </td> <td>44206                                   </td>\n",
       "        </tr>\n",
       "        <tr>\n",
       "            <td>2002</td> <td>11121                                             </td> <td>6317                                                   </td> <td>4804                                                     </td> <td>100081                          </td> <td>56345                                 </td> <td>43737                                   </td>\n",
       "        </tr>\n",
       "        <tr>\n",
       "            <td>2003</td> <td>10790                                             </td> <td>6158                                                   </td> <td>4632                                                     </td> <td>100302                          </td> <td>56227                                 </td> <td>44076                                   </td>\n",
       "        </tr>\n",
       "        <tr>\n",
       "            <td>2004</td> <td>10876                                             </td> <td>6243                                                   </td> <td>4633                                                     </td> <td>101224                          </td> <td>57001                                 </td> <td>44223                                   </td>\n",
       "        </tr>\n",
       "        <tr>\n",
       "            <td>2005</td> <td>11108                                             </td> <td>6396                                                   </td> <td>4711                                                     </td> <td>103560                          </td> <td>58406                                 </td> <td>45154                                   </td>\n",
       "        </tr>\n",
       "        <tr>\n",
       "            <td>2006</td> <td>11362                                             </td> <td>6559                                                   </td> <td>4802                                                     </td> <td>106106                          </td> <td>59747                                 </td> <td>46358                                   </td>\n",
       "        </tr>\n",
       "        <tr>\n",
       "            <td>2007</td> <td>11250                                             </td> <td>6458                                                   </td> <td>4792                                                     </td> <td>107339                          </td> <td>60298                                 </td> <td>47041                                   </td>\n",
       "        </tr>\n",
       "        <tr>\n",
       "            <td>2008</td> <td>10621                                             </td> <td>5996                                                   </td> <td>4625                                                     </td> <td>106648                          </td> <td>59439                                 </td> <td>47209                                   </td>\n",
       "        </tr>\n",
       "        <tr>\n",
       "            <td>2009</td> <td>8957                                              </td> <td>5014                                                   </td> <td>3943                                                     </td> <td>99820                           </td> <td>55108                                 </td> <td>44712                                   </td>\n",
       "        </tr>\n",
       "    </tbody>\n",
       "</table>\n",
       "<p>... (12 rows omitted)</p>"
      ],
      "text/plain": [
       "Year | Number of Workers (In Thousands) (16-24 Years Old) | Number of Male Workers (In Thousands) (16-24 Years Old) | Number of Female Workers (In Thousands) (16-24 Years Old) | Number of Workers (In Thousands) | Number of Workers (In Thousands) (Men) | Number of Workers (In Thousands) (Women)\n",
       "2000 | 11864                                              | 6770                                                    | 5094                                                      | 101210                           | 57107                                  | 44103\n",
       "2001 | 11589                                              | 6555                                                    | 5033                                                      | 101041                           | 56835                                  | 44206\n",
       "2002 | 11121                                              | 6317                                                    | 4804                                                      | 100081                           | 56345                                  | 43737\n",
       "2003 | 10790                                              | 6158                                                    | 4632                                                      | 100302                           | 56227                                  | 44076\n",
       "2004 | 10876                                              | 6243                                                    | 4633                                                      | 101224                           | 57001                                  | 44223\n",
       "2005 | 11108                                              | 6396                                                    | 4711                                                      | 103560                           | 58406                                  | 45154\n",
       "2006 | 11362                                              | 6559                                                    | 4802                                                      | 106106                           | 59747                                  | 46358\n",
       "2007 | 11250                                              | 6458                                                    | 4792                                                      | 107339                           | 60298                                  | 47041\n",
       "2008 | 10621                                              | 5996                                                    | 4625                                                      | 106648                           | 59439                                  | 47209\n",
       "2009 | 8957                                               | 5014                                                    | 3943                                                      | 99820                            | 55108                                  | 44712\n",
       "... (12 rows omitted)"
      ]
     },
     "execution_count": 84,
     "metadata": {},
     "output_type": "execute_result"
    }
   ],
   "source": [
    "employmentClean=employment.select(0,1,2,3,4,5,6)\n",
    "employmentClean"
   ]
  },
  {
   "cell_type": "markdown",
   "id": "605ee9da-5564-4017-8e80-f347a5629105",
   "metadata": {},
   "source": [
    "Next, we are going to show the percentage of male/female workers among young workers and the percentage of male/female workers among all workers.\n",
    "\n",
    "**Question 7:** Create a table called `employmentPercentage` containing the columns that shows the above four data by year."
   ]
  },
  {
   "cell_type": "code",
   "execution_count": 85,
   "id": "7d4ec358-047a-4b2c-b23d-888bb3efa389",
   "metadata": {},
   "outputs": [
    {
     "data": {
      "text/html": [
       "<table border=\"1\" class=\"dataframe\">\n",
       "    <thead>\n",
       "        <tr>\n",
       "            <th>Year</th> <th>young male (%)</th> <th>young female(%)</th> <th>all male(%)</th> <th>all female(%)</th>\n",
       "        </tr>\n",
       "    </thead>\n",
       "    <tbody>\n",
       "        <tr>\n",
       "            <td>2000</td> <td>57.0634       </td> <td>42.9366        </td> <td>56.4243    </td> <td>43.5757      </td>\n",
       "        </tr>\n",
       "        <tr>\n",
       "            <td>2001</td> <td>56.5623       </td> <td>43.4291        </td> <td>56.2494    </td> <td>43.7506      </td>\n",
       "        </tr>\n",
       "        <tr>\n",
       "            <td>2002</td> <td>56.8024       </td> <td>43.1976        </td> <td>56.2994    </td> <td>43.7016      </td>\n",
       "        </tr>\n",
       "        <tr>\n",
       "            <td>2003</td> <td>57.0714       </td> <td>42.9286        </td> <td>56.0577    </td> <td>43.9433      </td>\n",
       "        </tr>\n",
       "        <tr>\n",
       "            <td>2004</td> <td>57.4016       </td> <td>42.5984        </td> <td>56.3117    </td> <td>43.6883      </td>\n",
       "        </tr>\n",
       "        <tr>\n",
       "            <td>2005</td> <td>57.5801       </td> <td>42.4109        </td> <td>56.3982    </td> <td>43.6018      </td>\n",
       "        </tr>\n",
       "        <tr>\n",
       "            <td>2006</td> <td>57.7275       </td> <td>42.2637        </td> <td>56.3088    </td> <td>43.6903      </td>\n",
       "        </tr>\n",
       "        <tr>\n",
       "            <td>2007</td> <td>57.4044       </td> <td>42.5956        </td> <td>56.1753    </td> <td>43.8247      </td>\n",
       "        </tr>\n",
       "        <tr>\n",
       "            <td>2008</td> <td>56.4542       </td> <td>43.5458        </td> <td>55.7338    </td> <td>44.2662      </td>\n",
       "        </tr>\n",
       "        <tr>\n",
       "            <td>2009</td> <td>55.9786       </td> <td>44.0214        </td> <td>55.2074    </td> <td>44.7926      </td>\n",
       "        </tr>\n",
       "    </tbody>\n",
       "</table>\n",
       "<p>... (12 rows omitted)</p>"
      ],
      "text/plain": [
       "Year | young male (%) | young female(%) | all male(%) | all female(%)\n",
       "2000 | 57.0634        | 42.9366         | 56.4243     | 43.5757\n",
       "2001 | 56.5623        | 43.4291         | 56.2494     | 43.7506\n",
       "2002 | 56.8024        | 43.1976         | 56.2994     | 43.7016\n",
       "2003 | 57.0714        | 42.9286         | 56.0577     | 43.9433\n",
       "2004 | 57.4016        | 42.5984         | 56.3117     | 43.6883\n",
       "2005 | 57.5801        | 42.4109         | 56.3982     | 43.6018\n",
       "2006 | 57.7275        | 42.2637         | 56.3088     | 43.6903\n",
       "2007 | 57.4044        | 42.5956         | 56.1753     | 43.8247\n",
       "2008 | 56.4542        | 43.5458         | 55.7338     | 44.2662\n",
       "2009 | 55.9786        | 44.0214         | 55.2074     | 44.7926\n",
       "... (12 rows omitted)"
      ]
     },
     "execution_count": 85,
     "metadata": {},
     "output_type": "execute_result"
    }
   ],
   "source": [
    "#generate four columns\n",
    "youngmale=employmentClean.column(2)/employmentClean.column(1)*100\n",
    "youngfemale=employmentClean.column(3)/employmentClean.column(1)*100\n",
    "allmale=employmentClean.column(5)/employmentClean.column(4)*100\n",
    "allfemale=employmentClean.column(6)/employmentClean.column(4)*100\n",
    "\n",
    "#form table\n",
    "employmentPercentage = Table().with_columns(\"Year\",employmentClean.column(0),\n",
    "                                \"young male (%)\", youngmale,\n",
    "                                \"young female(%)\", youngfemale,\n",
    "                                \"all male(%)\",allmale,\n",
    "                                \"all female(%)\", allfemale)\n",
    "employmentPercentage"
   ]
  },
  {
   "cell_type": "markdown",
   "id": "83d2c807-1f13-4f5d-bc5a-8b55c16c7ca8",
   "metadata": {},
   "source": [
    "**Question 8:** Before we plot the data, think of anything is repeative in the table we generate. We could plot all four lines, but is there any way we could plot something more concise?\n"
   ]
  },
  {
   "cell_type": "markdown",
   "id": "e54ed13f-4439-44d4-ba55-c467c3b1649b",
   "metadata": {},
   "source": [
    "We could only plot one sex plot since there are only two Biological sex in this table and they add up to 100%."
   ]
  },
  {
   "cell_type": "markdown",
   "id": "0d4734a2-e0c9-4885-971e-20c1b4d2749b",
   "metadata": {},
   "source": [
    "**Question 9:** Plot the line graph of the sex percentage change of workers in young employment and in all employment by year."
   ]
  },
  {
   "cell_type": "code",
   "execution_count": 86,
   "id": "d626810d-3217-4577-8e89-f28441ef5301",
   "metadata": {},
   "outputs": [
    {
     "data": {
      "image/png": "[encoded data removed]",
      "text/plain": [
       "<Figure size 640x480 with 1 Axes>"
      ]
     },
     "metadata": {},
     "output_type": "display_data"
    }
   ],
   "source": [
    "plt.plot(employmentPercentage.column(\"Year\"), employmentPercentage.column(\"young male (%)\"), label = \"young\")\n",
    "plt.plot(employmentPercentage.column(\"Year\"),employmentPercentage.column( \"all male(%)\"), label = \"all\")\n",
    "plt.title(\"Sex Percentage Change of Workers in Young Employment and in All Employment by Year\")\n",
    "plt.legend(loc='upper left')\n",
    "plt.show()"
   ]
  },
  {
   "cell_type": "markdown",
   "id": "4537df52-fb9e-4f4f-ba13-56f9e1e89e04",
   "metadata": {},
   "source": [
    "**Question 9:** Discuss what this plot means and what you can say about the employment of different sex among young and all."
   ]
  },
  {
   "cell_type": "markdown",
   "id": "65e75c11-fb33-46da-8569-c2c075036b23",
   "metadata": {},
   "source": [
    "*Insert response here*"
   ]
  },
  {
   "cell_type": "markdown",
   "id": "8c6f2251-c3a4-4a92-963e-aae292166516",
   "metadata": {},
   "source": [
    "# 4. Peer Consulting\n",
    "\n",
    "If you had trouble with any content in this notebook, Data Peer Consultants are here to help! You can view their locations and availabilites at this link: https://data.berkeley.edu/education/data-peer-consulting.\n",
    "\n",
    "Peer Consultants are there to answer all data-related questions, whether it be about the content of this notebook, applications of data science in the world or other data science courses offered at Berkeley -- make sure to take advantage of this wonderful resource!\n",
    "\n",
    "\n",
    "This brings us to the end of the notebook. Now you can try to use python table and plot skills for any table you found!\n",
    "\n",
    "---"
   ]
  },
  {
   "cell_type": "code",
   "execution_count": null,
   "id": "3c928611-0e07-4441-afe7-f0b6e1a9cb74",
   "metadata": {},
   "outputs": [],
   "source": []
  }
 ],
 "metadata": {
  "kernelspec": {
   "display_name": "Python 3 (ipykernel)",
   "language": "python",
   "name": "python3"
  },
  "language_info": {
   "codemirror_mode": {
    "name": "ipython",
    "version": 3
   },
   "file_extension": ".py",
   "mimetype": "text/x-python",
   "name": "python",
   "nbconvert_exporter": "python",
   "pygments_lexer": "ipython3",
   "version": "3.9.13"
  }
 },
 "nbformat": 4,
 "nbformat_minor": 5
}
