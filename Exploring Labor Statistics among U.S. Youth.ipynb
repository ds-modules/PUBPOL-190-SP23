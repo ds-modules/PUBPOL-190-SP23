{
 "cells": [
  {
   "cell_type": "markdown",
   "id": "310c8c8a",
   "metadata": {},
   "source": [
    "## [Public Policy 190] Exploring Labor Statistics among U.S. Youth\n",
    "### Professor Anibel Ferus-Comelo\n",
    "\n",
    "***\n",
    "\n",
    "### Learning Outcomes\n",
    "\n",
    "*Estimated time: 60 minutes\n",
    "\n",
    "***\n",
    "\n",
    "### Table of Contents\n",
    "* Wages among the Youth\n",
    "* Employment among the Youth\n",
    "* Data Science Opportunities \n",
    "\n",
    "***\n"
   ]
  },
  {
   "cell_type": "code",
   "execution_count": 1,
   "id": "5fad33e7",
   "metadata": {},
   "outputs": [],
   "source": [
    "#Importing the required modules\n",
    "from datascience import *\n",
    "import numpy as np\n",
    "import matplotlib.pyplot as plt\n",
    "plt.ion()\n",
    "%matplotlib inline\n",
    "\n",
    "# import the widgets module\n",
    "import ipywidgets as widgets\n",
    "from ipywidgets import interact, interactive, fixed, interact_manual"
   ]
  },
  {
   "cell_type": "markdown",
   "id": "a415b22b",
   "metadata": {},
   "source": [
    "Today, we will be analyzing the characteristics of the labor market for young people in the United States, utilizing the skills we have learned in the two previous Modules notebooks we have been working on in and outside of class. We will discover patters and trends over the years regarding employment and wages among American youth, utilizing datasets from the [US Bureau of Labor Statistics](https://www.bls.gov/data/). Here we define *youth* to be between the ages of 16 and 24 years old. "
   ]
  },
  {
   "cell_type": "markdown",
   "id": "7df79b9e",
   "metadata": {},
   "source": [
    "## Wages among the Youth"
   ]
  },
  {
   "cell_type": "markdown",
   "id": "b4d936b8",
   "metadata": {},
   "source": [
    "This dataset below represents the earnings of employed persons, derived from the Current Population Survey.  The wages represented include earnings before taxes and other deductions and include any overtime pay, commissions, or tips usually received. \n",
    "\n",
    "As you may notice from the names of each column, the dataset covers the total number of workers and median weekly earnings annually for various age groups and sex among the years 2000-2021. "
   ]
  },
  {
   "cell_type": "code",
   "execution_count": 2,
   "id": "fd304655",
   "metadata": {
    "scrolled": true
   },
   "outputs": [
    {
     "data": {
      "text/html": [
       "<table border=\"1\" class=\"dataframe\">\n",
       "    <thead>\n",
       "        <tr>\n",
       "            <th>Year</th> <th>Age</th> <th>Sex</th> <th>Ethnicity</th> <th>Median Weekly Earnings</th>\n",
       "        </tr>\n",
       "    </thead>\n",
       "    <tbody>\n",
       "        <tr>\n",
       "            <td>2000</td> <td>16-24 Years Old</td> <td>All </td> <td>All      </td> <td>361                   </td>\n",
       "        </tr>\n",
       "        <tr>\n",
       "            <td>2001</td> <td>16-24 Years Old</td> <td>All </td> <td>All      </td> <td>375                   </td>\n",
       "        </tr>\n",
       "        <tr>\n",
       "            <td>2002</td> <td>16-24 Years Old</td> <td>All </td> <td>All      </td> <td>381                   </td>\n",
       "        </tr>\n",
       "        <tr>\n",
       "            <td>2003</td> <td>16-24 Years Old</td> <td>All </td> <td>All      </td> <td>387                   </td>\n",
       "        </tr>\n",
       "        <tr>\n",
       "            <td>2004</td> <td>16-24 Years Old</td> <td>All </td> <td>All      </td> <td>390                   </td>\n",
       "        </tr>\n",
       "        <tr>\n",
       "            <td>2005</td> <td>16-24 Years Old</td> <td>All </td> <td>All      </td> <td>397                   </td>\n",
       "        </tr>\n",
       "        <tr>\n",
       "            <td>2006</td> <td>16-24 Years Old</td> <td>All </td> <td>All      </td> <td>409                   </td>\n",
       "        </tr>\n",
       "        <tr>\n",
       "            <td>2007</td> <td>16-24 Years Old</td> <td>All </td> <td>All      </td> <td>424                   </td>\n",
       "        </tr>\n",
       "        <tr>\n",
       "            <td>2008</td> <td>16-24 Years Old</td> <td>All </td> <td>All      </td> <td>443                   </td>\n",
       "        </tr>\n",
       "        <tr>\n",
       "            <td>2009</td> <td>16-24 Years Old</td> <td>All </td> <td>All      </td> <td>442                   </td>\n",
       "        </tr>\n",
       "    </tbody>\n",
       "</table>\n",
       "<p>... (122 rows omitted)</p>"
      ],
      "text/plain": [
       "Year | Age             | Sex  | Ethnicity | Median Weekly Earnings\n",
       "2000 | 16-24 Years Old | All  | All       | 361\n",
       "2001 | 16-24 Years Old | All  | All       | 375\n",
       "2002 | 16-24 Years Old | All  | All       | 381\n",
       "2003 | 16-24 Years Old | All  | All       | 387\n",
       "2004 | 16-24 Years Old | All  | All       | 390\n",
       "2005 | 16-24 Years Old | All  | All       | 397\n",
       "2006 | 16-24 Years Old | All  | All       | 409\n",
       "2007 | 16-24 Years Old | All  | All       | 424\n",
       "2008 | 16-24 Years Old | All  | All       | 443\n",
       "2009 | 16-24 Years Old | All  | All       | 442\n",
       "... (122 rows omitted)"
      ]
     },
     "execution_count": 2,
     "metadata": {},
     "output_type": "execute_result"
    }
   ],
   "source": [
    "earnings = Table.read_table(\"Data/Earnings.csv\")\n",
    "earnings"
   ]
  },
  {
   "cell_type": "markdown",
   "id": "3bd5c8b3",
   "metadata": {},
   "source": [
    "**Question 1:** In the cell below, create two tables `youth_earnings` and `all_earnings`. \n",
    "- `youth_earnings` contains data on 16-24 Year Olds of all Sexes and Ethnicities \n",
    "- `all_earnings` contains data on all laborers of all Sexes and Ethnicities\n",
    "\n",
    "After you assign the table to each variable, compute the average of median weekly earnings for each table and find the difference between their wages. "
   ]
  },
  {
   "cell_type": "code",
   "execution_count": 3,
   "id": "de3b3368",
   "metadata": {
    "scrolled": false
   },
   "outputs": [
    {
     "name": "stdout",
     "output_type": "stream",
     "text": [
      "The average American worker makes $ 296.32 more than the average American Youth worker on a weekly basis.\n"
     ]
    }
   ],
   "source": [
    "#create two separate tables\n",
    "youth_earnings = earnings.where(\"Age\", are.equal_to(\"16-24 Years Old\")).where(\"Sex\", are.equal_to(\"All\"))\n",
    "all_earnings = earnings.where(\"Age\", are.equal_to(\"All\")).where(\"Sex\", are.equal_to(\"All\"))\n",
    "\n",
    "#find the difference in the average median weekly earnings between each table\n",
    "youth_earnings_avg = np.mean(youth_earnings.column(\"Median Weekly Earnings\"))\n",
    "average_earnings = np.mean(all_earnings.column(\"Median Weekly Earnings\"))\n",
    "diff = np.round(average_earnings - youth_earnings_avg, 2)\n",
    "\n",
    "print(\"The average American worker makes $\",diff, \"more than the average American Youth worker on a weekly basis.\")"
   ]
  },
  {
   "cell_type": "markdown",
   "id": "2907ea17",
   "metadata": {},
   "source": [
    "Let's now compare how wages differ among male and female youth, and discover how this trend over the years parallels the overall wage difference between men and women"
   ]
  },
  {
   "cell_type": "markdown",
   "id": "9ef4b6d2",
   "metadata": {},
   "source": [
    "**Question 2a**: Please create a new table containing the `Year`, `Median Weekly Earnings (16-24 Years Old Men)`, `Median Weekly Earnings (16-24 Years Old Women)` and a column containing the **difference** between the two earnings each year."
   ]
  },
  {
   "cell_type": "code",
   "execution_count": 4,
   "id": "919b1065",
   "metadata": {},
   "outputs": [
    {
     "data": {
      "text/html": [
       "<table border=\"1\" class=\"dataframe\">\n",
       "    <thead>\n",
       "        <tr>\n",
       "            <th>Year</th> <th>Median Weekly Earnings (16-24 Years Old Men)</th> <th>Median Weekly Earnings (16-24 Years Old Women)</th> <th>Wage Difference</th>\n",
       "        </tr>\n",
       "    </thead>\n",
       "    <tbody>\n",
       "        <tr>\n",
       "            <td>2000</td> <td>375                                         </td> <td>344                                           </td> <td>31             </td>\n",
       "        </tr>\n",
       "        <tr>\n",
       "            <td>2001</td> <td>391                                         </td> <td>353                                           </td> <td>38             </td>\n",
       "        </tr>\n",
       "        <tr>\n",
       "            <td>2002</td> <td>391                                         </td> <td>367                                           </td> <td>24             </td>\n",
       "        </tr>\n",
       "        <tr>\n",
       "            <td>2003</td> <td>398                                         </td> <td>371                                           </td> <td>27             </td>\n",
       "        </tr>\n",
       "        <tr>\n",
       "            <td>2004</td> <td>400                                         </td> <td>375                                           </td> <td>25             </td>\n",
       "        </tr>\n",
       "        <tr>\n",
       "            <td>2005</td> <td>409                                         </td> <td>381                                           </td> <td>28             </td>\n",
       "        </tr>\n",
       "        <tr>\n",
       "            <td>2006</td> <td>418                                         </td> <td>395                                           </td> <td>23             </td>\n",
       "        </tr>\n",
       "        <tr>\n",
       "            <td>2007</td> <td>443                                         </td> <td>409                                           </td> <td>34             </td>\n",
       "        </tr>\n",
       "        <tr>\n",
       "            <td>2008</td> <td>461                                         </td> <td>420                                           </td> <td>41             </td>\n",
       "        </tr>\n",
       "        <tr>\n",
       "            <td>2009</td> <td>458                                         </td> <td>424                                           </td> <td>34             </td>\n",
       "        </tr>\n",
       "    </tbody>\n",
       "</table>\n",
       "<p>... (12 rows omitted)</p>"
      ],
      "text/plain": [
       "Year | Median Weekly Earnings (16-24 Years Old Men) | Median Weekly Earnings (16-24 Years Old Women) | Wage Difference\n",
       "2000 | 375                                          | 344                                            | 31\n",
       "2001 | 391                                          | 353                                            | 38\n",
       "2002 | 391                                          | 367                                            | 24\n",
       "2003 | 398                                          | 371                                            | 27\n",
       "2004 | 400                                          | 375                                            | 25\n",
       "2005 | 409                                          | 381                                            | 28\n",
       "2006 | 418                                          | 395                                            | 23\n",
       "2007 | 443                                          | 409                                            | 34\n",
       "2008 | 461                                          | 420                                            | 41\n",
       "2009 | 458                                          | 424                                            | 34\n",
       "... (12 rows omitted)"
      ]
     },
     "execution_count": 4,
     "metadata": {},
     "output_type": "execute_result"
    }
   ],
   "source": [
    "youth_male_earnings = earnings.where(\"Age\", are.equal_to(\"16-24 Years Old\")).where(\"Sex\", are.equal_to(\"Male\")).column(\"Median Weekly Earnings\")\n",
    "youth_female_earnings = earnings.where(\"Age\", are.equal_to(\"16-24 Years Old\")).where(\"Sex\", are.equal_to(\"Female\")).column(\"Median Weekly Earnings\")\n",
    "\n",
    "youth_earnings = youth_earnings.select(\"Year\")\n",
    "youth_earnings = youth_earnings.with_column(\"Median Weekly Earnings (16-24 Years Old Men)\", youth_male_earnings).with_column(\"Median Weekly Earnings (16-24 Years Old Women)\", youth_female_earnings)\n",
    "youth_wage_diff = youth_earnings.column(\"Median Weekly Earnings (16-24 Years Old Men)\")-youth_earnings.column(\"Median Weekly Earnings (16-24 Years Old Women)\")\n",
    "\n",
    "youth_earnings = youth_earnings.with_column(\"Wage Difference\", youth_wage_diff)\n",
    "youth_earnings"
   ]
  },
  {
   "cell_type": "markdown",
   "id": "ac568be7",
   "metadata": {},
   "source": [
    "In the cell below, determine what year saw the biggest wage difference between young men and women through a method of your choice. \n",
    "\n",
    "*Hint: Two methods you can utilize is creating a visualization or sorting values*"
   ]
  },
  {
   "cell_type": "code",
   "execution_count": 5,
   "id": "7c62174b",
   "metadata": {},
   "outputs": [
    {
     "data": {
      "text/html": [
       "<table border=\"1\" class=\"dataframe\">\n",
       "    <thead>\n",
       "        <tr>\n",
       "            <th>Year</th> <th>Median Weekly Earnings (16-24 Years Old Men)</th> <th>Median Weekly Earnings (16-24 Years Old Women)</th> <th>Wage Difference</th>\n",
       "        </tr>\n",
       "    </thead>\n",
       "    <tbody>\n",
       "        <tr>\n",
       "            <td>2019</td> <td>607                                         </td> <td>540                                           </td> <td>67             </td>\n",
       "        </tr>\n",
       "        <tr>\n",
       "            <td>2015</td> <td>510                                         </td> <td>450                                           </td> <td>60             </td>\n",
       "        </tr>\n",
       "        <tr>\n",
       "            <td>2013</td> <td>479                                         </td> <td>423                                           </td> <td>56             </td>\n",
       "        </tr>\n",
       "        <tr>\n",
       "            <td>2018</td> <td>575                                         </td> <td>522                                           </td> <td>53             </td>\n",
       "        </tr>\n",
       "        <tr>\n",
       "            <td>2012</td> <td>468                                         </td> <td>416                                           </td> <td>52             </td>\n",
       "        </tr>\n",
       "        <tr>\n",
       "            <td>2017</td> <td>547                                         </td> <td>499                                           </td> <td>48             </td>\n",
       "        </tr>\n",
       "        <tr>\n",
       "            <td>2021</td> <td>650                                         </td> <td>605                                           </td> <td>45             </td>\n",
       "        </tr>\n",
       "        <tr>\n",
       "            <td>2014</td> <td>493                                         </td> <td>451                                           </td> <td>42             </td>\n",
       "        </tr>\n",
       "        <tr>\n",
       "            <td>2008</td> <td>461                                         </td> <td>420                                           </td> <td>41             </td>\n",
       "        </tr>\n",
       "        <tr>\n",
       "            <td>2001</td> <td>391                                         </td> <td>353                                           </td> <td>38             </td>\n",
       "        </tr>\n",
       "    </tbody>\n",
       "</table>\n",
       "<p>... (12 rows omitted)</p>"
      ],
      "text/plain": [
       "Year | Median Weekly Earnings (16-24 Years Old Men) | Median Weekly Earnings (16-24 Years Old Women) | Wage Difference\n",
       "2019 | 607                                          | 540                                            | 67\n",
       "2015 | 510                                          | 450                                            | 60\n",
       "2013 | 479                                          | 423                                            | 56\n",
       "2018 | 575                                          | 522                                            | 53\n",
       "2012 | 468                                          | 416                                            | 52\n",
       "2017 | 547                                          | 499                                            | 48\n",
       "2021 | 650                                          | 605                                            | 45\n",
       "2014 | 493                                          | 451                                            | 42\n",
       "2008 | 461                                          | 420                                            | 41\n",
       "2001 | 391                                          | 353                                            | 38\n",
       "... (12 rows omitted)"
      ]
     },
     "execution_count": 5,
     "metadata": {},
     "output_type": "execute_result"
    }
   ],
   "source": [
    "youth_earnings.sort(\"Wage Difference\", descending=True)"
   ]
  },
  {
   "cell_type": "code",
   "execution_count": 6,
   "id": "d07828b1",
   "metadata": {},
   "outputs": [
    {
     "data": {
      "text/plain": [
       "Text(0.5, 1.0, 'Wage Differences between Young Men and Women')"
      ]
     },
     "execution_count": 6,
     "metadata": {},
     "output_type": "execute_result"
    },
    {
     "data": {
      "image/png": "[encoded data removed]",
      "text/plain": [
       "<Figure size 432x432 with 1 Axes>"
      ]
     },
     "metadata": {
      "needs_background": "light"
     },
     "output_type": "display_data"
    }
   ],
   "source": [
    "youth_earnings.plot(\"Year\", \"Wage Difference\")\n",
    "plt.title(\"Wage Differences between Young Men and Women\")"
   ]
  },
  {
   "cell_type": "markdown",
   "id": "b75f0f9b",
   "metadata": {},
   "source": [
    "**Question 2b**: Now create a new table containing the `Year`, `Median Weekly Earnings (Men)`, `Median Weekly Earnings (Women)` and create a new column containing the **difference** between the two earnings each year. Again, in the cell below that, find the year containing the largest wage difference. "
   ]
  },
  {
   "cell_type": "code",
   "execution_count": 7,
   "id": "1dbdb7b1",
   "metadata": {},
   "outputs": [
    {
     "data": {
      "text/html": [
       "<table border=\"1\" class=\"dataframe\">\n",
       "    <thead>\n",
       "        <tr>\n",
       "            <th>Year</th> <th>Median Weekly Earnings (Men)</th> <th>Median Weekly Earnings (Women)</th> <th>Wage Difference</th>\n",
       "        </tr>\n",
       "    </thead>\n",
       "    <tbody>\n",
       "        <tr>\n",
       "            <td>2000</td> <td>641                         </td> <td>493                           </td> <td>148            </td>\n",
       "        </tr>\n",
       "        <tr>\n",
       "            <td>2001</td> <td>670                         </td> <td>512                           </td> <td>158            </td>\n",
       "        </tr>\n",
       "        <tr>\n",
       "            <td>2002</td> <td>679                         </td> <td>529                           </td> <td>150            </td>\n",
       "        </tr>\n",
       "        <tr>\n",
       "            <td>2003</td> <td>695                         </td> <td>552                           </td> <td>143            </td>\n",
       "        </tr>\n",
       "        <tr>\n",
       "            <td>2004</td> <td>713                         </td> <td>573                           </td> <td>140            </td>\n",
       "        </tr>\n",
       "        <tr>\n",
       "            <td>2005</td> <td>722                         </td> <td>585                           </td> <td>137            </td>\n",
       "        </tr>\n",
       "        <tr>\n",
       "            <td>2006</td> <td>743                         </td> <td>600                           </td> <td>143            </td>\n",
       "        </tr>\n",
       "        <tr>\n",
       "            <td>2007</td> <td>766                         </td> <td>614                           </td> <td>152            </td>\n",
       "        </tr>\n",
       "        <tr>\n",
       "            <td>2008</td> <td>798                         </td> <td>638                           </td> <td>160            </td>\n",
       "        </tr>\n",
       "        <tr>\n",
       "            <td>2009</td> <td>819                         </td> <td>657                           </td> <td>162            </td>\n",
       "        </tr>\n",
       "    </tbody>\n",
       "</table>\n",
       "<p>... (12 rows omitted)</p>"
      ],
      "text/plain": [
       "Year | Median Weekly Earnings (Men) | Median Weekly Earnings (Women) | Wage Difference\n",
       "2000 | 641                          | 493                            | 148\n",
       "2001 | 670                          | 512                            | 158\n",
       "2002 | 679                          | 529                            | 150\n",
       "2003 | 695                          | 552                            | 143\n",
       "2004 | 713                          | 573                            | 140\n",
       "2005 | 722                          | 585                            | 137\n",
       "2006 | 743                          | 600                            | 143\n",
       "2007 | 766                          | 614                            | 152\n",
       "2008 | 798                          | 638                            | 160\n",
       "2009 | 819                          | 657                            | 162\n",
       "... (12 rows omitted)"
      ]
     },
     "execution_count": 7,
     "metadata": {},
     "output_type": "execute_result"
    }
   ],
   "source": [
    "male_earnings = earnings.where(\"Age\", are.equal_to(\"All\")).where(\"Sex\", are.equal_to(\"Male\")).column(\"Median Weekly Earnings\")\n",
    "female_earnings = earnings.where(\"Age\", are.equal_to(\"All\")).where(\"Sex\", are.equal_to(\"Female\")).column(\"Median Weekly Earnings\")\n",
    "\n",
    "MWearnings = all_earnings.select(\"Year\")\n",
    "MWearnings = MWearnings.with_column(\"Median Weekly Earnings (Men)\", male_earnings).with_column(\"Median Weekly Earnings (Women)\", female_earnings)\n",
    "wage_diff = MWearnings.column(\"Median Weekly Earnings (Men)\")-MWearnings.column(\"Median Weekly Earnings (Women)\")\n",
    "\n",
    "MWearnings = MWearnings.with_column(\"Wage Difference\", wage_diff)\n",
    "MWearnings"
   ]
  },
  {
   "cell_type": "code",
   "execution_count": 8,
   "id": "918cb85b",
   "metadata": {},
   "outputs": [
    {
     "data": {
      "text/html": [
       "<table border=\"1\" class=\"dataframe\">\n",
       "    <thead>\n",
       "        <tr>\n",
       "            <th>Year</th> <th>Median Weekly Earnings (Men)</th> <th>Median Weekly Earnings (Women)</th> <th>Wage Difference</th>\n",
       "        </tr>\n",
       "    </thead>\n",
       "    <tbody>\n",
       "        <tr>\n",
       "            <td>2020</td> <td>1082                        </td> <td>891                           </td> <td>191            </td>\n",
       "        </tr>\n",
       "        <tr>\n",
       "            <td>2019</td> <td>1007                        </td> <td>821                           </td> <td>186            </td>\n",
       "        </tr>\n",
       "        <tr>\n",
       "            <td>2021</td> <td>1097                        </td> <td>912                           </td> <td>185            </td>\n",
       "        </tr>\n",
       "        <tr>\n",
       "            <td>2018</td> <td>973                         </td> <td>789                           </td> <td>184            </td>\n",
       "        </tr>\n",
       "        <tr>\n",
       "            <td>2017</td> <td>941                         </td> <td>770                           </td> <td>171            </td>\n",
       "        </tr>\n",
       "        <tr>\n",
       "            <td>2015</td> <td>895                         </td> <td>726                           </td> <td>169            </td>\n",
       "        </tr>\n",
       "        <tr>\n",
       "            <td>2016</td> <td>915                         </td> <td>749                           </td> <td>166            </td>\n",
       "        </tr>\n",
       "        <tr>\n",
       "            <td>2012</td> <td>854                         </td> <td>691                           </td> <td>163            </td>\n",
       "        </tr>\n",
       "        <tr>\n",
       "            <td>2009</td> <td>819                         </td> <td>657                           </td> <td>162            </td>\n",
       "        </tr>\n",
       "        <tr>\n",
       "            <td>2008</td> <td>798                         </td> <td>638                           </td> <td>160            </td>\n",
       "        </tr>\n",
       "    </tbody>\n",
       "</table>\n",
       "<p>... (12 rows omitted)</p>"
      ],
      "text/plain": [
       "Year | Median Weekly Earnings (Men) | Median Weekly Earnings (Women) | Wage Difference\n",
       "2020 | 1082                         | 891                            | 191\n",
       "2019 | 1007                         | 821                            | 186\n",
       "2021 | 1097                         | 912                            | 185\n",
       "2018 | 973                          | 789                            | 184\n",
       "2017 | 941                          | 770                            | 171\n",
       "2015 | 895                          | 726                            | 169\n",
       "2016 | 915                          | 749                            | 166\n",
       "2012 | 854                          | 691                            | 163\n",
       "2009 | 819                          | 657                            | 162\n",
       "2008 | 798                          | 638                            | 160\n",
       "... (12 rows omitted)"
      ]
     },
     "execution_count": 8,
     "metadata": {},
     "output_type": "execute_result"
    }
   ],
   "source": [
    "MWearnings.sort(\"Wage Difference\", descending=True)"
   ]
  },
  {
   "cell_type": "code",
   "execution_count": 9,
   "id": "ac2c7a84",
   "metadata": {},
   "outputs": [
    {
     "data": {
      "text/plain": [
       "Text(0.5, 1.0, 'Wage Differences between Men and Women of All Ages')"
      ]
     },
     "execution_count": 9,
     "metadata": {},
     "output_type": "execute_result"
    },
    {
     "data": {
      "image/png": "[encoded data removed]",
      "text/plain": [
       "<Figure size 432x432 with 1 Axes>"
      ]
     },
     "metadata": {
      "needs_background": "light"
     },
     "output_type": "display_data"
    }
   ],
   "source": [
    "MWearnings.plot(\"Year\", \"Wage Difference\")\n",
    "plt.title(\"Wage Differences between Men and Women of All Ages\")"
   ]
  },
  {
   "cell_type": "markdown",
   "id": "f52139be",
   "metadata": {},
   "source": [
    "**Question 2c**: Looking at the two graphs you created, what do you notice? Are there similarities between the differences in men and women wages among age groups?"
   ]
  },
  {
   "cell_type": "markdown",
   "id": "96879d72",
   "metadata": {},
   "source": [
    "*Type out your answer here*"
   ]
  },
  {
   "cell_type": "markdown",
   "id": "05f3ecaa",
   "metadata": {},
   "source": [
    "### Wage differences among youth between ethnicities"
   ]
  },
  {
   "cell_type": "markdown",
   "id": "121a6575",
   "metadata": {},
   "source": [
    "The data below was also pulled from the Bureau of Labor Statistics through this data filtering [table](https://www.bls.gov/webapps/legacy/cpswktab3.htm). Feel free to explore through the data and find different statistics.\n",
    "\n",
    "The table below represents the number of workers and median weekly earnings of workers between 16-24 years old, separated by ethnicity and sex. "
   ]
  },
  {
   "cell_type": "code",
   "execution_count": 10,
   "id": "4fb1d2b3",
   "metadata": {},
   "outputs": [
    {
     "data": {
      "text/html": [
       "<table border=\"1\" class=\"dataframe\">\n",
       "    <thead>\n",
       "        <tr>\n",
       "            <th>Year</th> <th>Age</th> <th>Sex</th> <th>Ethnicity</th> <th>Median Weekly Earnings</th>\n",
       "        </tr>\n",
       "    </thead>\n",
       "    <tbody>\n",
       "        <tr>\n",
       "            <td>2000</td> <td>16-24 Years Old</td> <td>All </td> <td>White    </td> <td>366                   </td>\n",
       "        </tr>\n",
       "        <tr>\n",
       "            <td>2001</td> <td>16-24 Years Old</td> <td>All </td> <td>White    </td> <td>380                   </td>\n",
       "        </tr>\n",
       "        <tr>\n",
       "            <td>2002</td> <td>16-24 Years Old</td> <td>All </td> <td>White    </td> <td>386                   </td>\n",
       "        </tr>\n",
       "        <tr>\n",
       "            <td>2003</td> <td>16-24 Years Old</td> <td>All </td> <td>White    </td> <td>390                   </td>\n",
       "        </tr>\n",
       "        <tr>\n",
       "            <td>2004</td> <td>16-24 Years Old</td> <td>All </td> <td>White    </td> <td>393                   </td>\n",
       "        </tr>\n",
       "        <tr>\n",
       "            <td>2005</td> <td>16-24 Years Old</td> <td>All </td> <td>White    </td> <td>403                   </td>\n",
       "        </tr>\n",
       "        <tr>\n",
       "            <td>2006</td> <td>16-24 Years Old</td> <td>All </td> <td>White    </td> <td>411                   </td>\n",
       "        </tr>\n",
       "        <tr>\n",
       "            <td>2007</td> <td>16-24 Years Old</td> <td>All </td> <td>White    </td> <td>429                   </td>\n",
       "        </tr>\n",
       "        <tr>\n",
       "            <td>2008</td> <td>16-24 Years Old</td> <td>All </td> <td>White    </td> <td>451                   </td>\n",
       "        </tr>\n",
       "        <tr>\n",
       "            <td>2009</td> <td>16-24 Years Old</td> <td>All </td> <td>White    </td> <td>447                   </td>\n",
       "        </tr>\n",
       "    </tbody>\n",
       "</table>\n",
       "<p>... (254 rows omitted)</p>"
      ],
      "text/plain": [
       "Year | Age             | Sex  | Ethnicity | Median Weekly Earnings\n",
       "2000 | 16-24 Years Old | All  | White     | 366\n",
       "2001 | 16-24 Years Old | All  | White     | 380\n",
       "2002 | 16-24 Years Old | All  | White     | 386\n",
       "2003 | 16-24 Years Old | All  | White     | 390\n",
       "2004 | 16-24 Years Old | All  | White     | 393\n",
       "2005 | 16-24 Years Old | All  | White     | 403\n",
       "2006 | 16-24 Years Old | All  | White     | 411\n",
       "2007 | 16-24 Years Old | All  | White     | 429\n",
       "2008 | 16-24 Years Old | All  | White     | 451\n",
       "2009 | 16-24 Years Old | All  | White     | 447\n",
       "... (254 rows omitted)"
      ]
     },
     "execution_count": 10,
     "metadata": {},
     "output_type": "execute_result"
    }
   ],
   "source": [
    "wages_ethnicity = Table.read_table(\"Data/YouthEarningsbyEthnicity.csv\")\n",
    "wages_ethnicity"
   ]
  },
  {
   "cell_type": "markdown",
   "id": "ce18584a",
   "metadata": {},
   "source": [
    "In this next section, let's find the largest difference between the average median weekly earnings between two demographic groups."
   ]
  },
  {
   "cell_type": "markdown",
   "id": "c53d4f8f",
   "metadata": {},
   "source": [
    "**Question 3a:** Create a table called `demographic_earnings` containing the mean of Median Weekly Earnings for each possible demographic group combination. Use the `group` function to group the data by Sex and Ethnicity category and aggregate the earnings by finding the mean."
   ]
  },
  {
   "cell_type": "code",
   "execution_count": 11,
   "id": "06f6f38c",
   "metadata": {},
   "outputs": [
    {
     "data": {
      "text/html": [
       "<table border=\"1\" class=\"dataframe\">\n",
       "    <thead>\n",
       "        <tr>\n",
       "            <th>Sex</th> <th>Ethnicity</th> <th>Median Weekly Earnings mean</th>\n",
       "        </tr>\n",
       "    </thead>\n",
       "    <tbody>\n",
       "        <tr>\n",
       "            <td>All   </td> <td>Asian    </td> <td>525.591                    </td>\n",
       "        </tr>\n",
       "        <tr>\n",
       "            <td>All   </td> <td>Black    </td> <td>412.091                    </td>\n",
       "        </tr>\n",
       "        <tr>\n",
       "            <td>All   </td> <td>Latinx   </td> <td>425                        </td>\n",
       "        </tr>\n",
       "        <tr>\n",
       "            <td>All   </td> <td>White    </td> <td>467.591                    </td>\n",
       "        </tr>\n",
       "        <tr>\n",
       "            <td>Female</td> <td>Asian    </td> <td>519.091                    </td>\n",
       "        </tr>\n",
       "        <tr>\n",
       "            <td>Female</td> <td>Black    </td> <td>405.818                    </td>\n",
       "        </tr>\n",
       "        <tr>\n",
       "            <td>Female</td> <td>Latinx   </td> <td>408.318                    </td>\n",
       "        </tr>\n",
       "        <tr>\n",
       "            <td>Female</td> <td>White    </td> <td>444.455                    </td>\n",
       "        </tr>\n",
       "        <tr>\n",
       "            <td>Male  </td> <td>Asian    </td> <td>536.773                    </td>\n",
       "        </tr>\n",
       "        <tr>\n",
       "            <td>Male  </td> <td>Black    </td> <td>418.773                    </td>\n",
       "        </tr>\n",
       "    </tbody>\n",
       "</table>\n",
       "<p>... (2 rows omitted)</p>"
      ],
      "text/plain": [
       "Sex    | Ethnicity | Median Weekly Earnings mean\n",
       "All    | Asian     | 525.591\n",
       "All    | Black     | 412.091\n",
       "All    | Latinx    | 425\n",
       "All    | White     | 467.591\n",
       "Female | Asian     | 519.091\n",
       "Female | Black     | 405.818\n",
       "Female | Latinx    | 408.318\n",
       "Female | White     | 444.455\n",
       "Male   | Asian     | 536.773\n",
       "Male   | Black     | 418.773\n",
       "... (2 rows omitted)"
      ]
     },
     "execution_count": 11,
     "metadata": {},
     "output_type": "execute_result"
    }
   ],
   "source": [
    "demographic_earnings = wages_ethnicity.group([\"Sex\", \"Ethnicity\"], np.mean).select(0,1,4)\n",
    "demographic_earnings"
   ]
  },
  {
   "cell_type": "markdown",
   "id": "2b81042b",
   "metadata": {},
   "source": [
    "**Question 3b:** Sort the table you created above in descending order. Find the group that makes the most and the least on average and find the difference between the two earnings. "
   ]
  },
  {
   "cell_type": "code",
   "execution_count": 12,
   "id": "cc67172c",
   "metadata": {},
   "outputs": [
    {
     "data": {
      "text/html": [
       "<table border=\"1\" class=\"dataframe\">\n",
       "    <thead>\n",
       "        <tr>\n",
       "            <th>Sex</th> <th>Ethnicity</th> <th>Median Weekly Earnings mean</th>\n",
       "        </tr>\n",
       "    </thead>\n",
       "    <tbody>\n",
       "        <tr>\n",
       "            <td>Male  </td> <td>Asian    </td> <td>536.773                    </td>\n",
       "        </tr>\n",
       "        <tr>\n",
       "            <td>All   </td> <td>Asian    </td> <td>525.591                    </td>\n",
       "        </tr>\n",
       "        <tr>\n",
       "            <td>Female</td> <td>Asian    </td> <td>519.091                    </td>\n",
       "        </tr>\n",
       "        <tr>\n",
       "            <td>Male  </td> <td>White    </td> <td>484.773                    </td>\n",
       "        </tr>\n",
       "        <tr>\n",
       "            <td>All   </td> <td>White    </td> <td>467.591                    </td>\n",
       "        </tr>\n",
       "        <tr>\n",
       "            <td>Female</td> <td>White    </td> <td>444.455                    </td>\n",
       "        </tr>\n",
       "        <tr>\n",
       "            <td>Male  </td> <td>Latinx   </td> <td>436                        </td>\n",
       "        </tr>\n",
       "        <tr>\n",
       "            <td>All   </td> <td>Latinx   </td> <td>425                        </td>\n",
       "        </tr>\n",
       "        <tr>\n",
       "            <td>Male  </td> <td>Black    </td> <td>418.773                    </td>\n",
       "        </tr>\n",
       "        <tr>\n",
       "            <td>All   </td> <td>Black    </td> <td>412.091                    </td>\n",
       "        </tr>\n",
       "    </tbody>\n",
       "</table>\n",
       "<p>... (2 rows omitted)</p>"
      ],
      "text/plain": [
       "Sex    | Ethnicity | Median Weekly Earnings mean\n",
       "Male   | Asian     | 536.773\n",
       "All    | Asian     | 525.591\n",
       "Female | Asian     | 519.091\n",
       "Male   | White     | 484.773\n",
       "All    | White     | 467.591\n",
       "Female | White     | 444.455\n",
       "Male   | Latinx    | 436\n",
       "All    | Latinx    | 425\n",
       "Male   | Black     | 418.773\n",
       "All    | Black     | 412.091\n",
       "... (2 rows omitted)"
      ]
     },
     "execution_count": 12,
     "metadata": {},
     "output_type": "execute_result"
    }
   ],
   "source": [
    "demographic_earnings = demographic_earnings.sort(\"Median Weekly Earnings mean\", descending = True)\n",
    "demographic_earnings"
   ]
  },
  {
   "cell_type": "code",
   "execution_count": 13,
   "id": "57978e78",
   "metadata": {},
   "outputs": [
    {
     "data": {
      "text/html": [
       "<table border=\"1\" class=\"dataframe\">\n",
       "    <thead>\n",
       "        <tr>\n",
       "            <th>Sex</th> <th>Ethnicity</th> <th>Median Weekly Earnings mean</th>\n",
       "        </tr>\n",
       "    </thead>\n",
       "    <tbody>\n",
       "        <tr>\n",
       "            <td>Male</td> <td>Asian    </td> <td>536.773                    </td>\n",
       "        </tr>\n",
       "    </tbody>\n",
       "</table>"
      ],
      "text/plain": [
       "Sex  | Ethnicity | Median Weekly Earnings mean\n",
       "Male | Asian     | 536.773"
      ]
     },
     "metadata": {},
     "output_type": "display_data"
    },
    {
     "data": {
      "text/html": [
       "<table border=\"1\" class=\"dataframe\">\n",
       "    <thead>\n",
       "        <tr>\n",
       "            <th>Sex</th> <th>Ethnicity</th> <th>Median Weekly Earnings mean</th>\n",
       "        </tr>\n",
       "    </thead>\n",
       "    <tbody>\n",
       "        <tr>\n",
       "            <td>Female</td> <td>Black    </td> <td>405.818                    </td>\n",
       "        </tr>\n",
       "    </tbody>\n",
       "</table>"
      ],
      "text/plain": [
       "Sex    | Ethnicity | Median Weekly Earnings mean\n",
       "Female | Black     | 405.818"
      ]
     },
     "metadata": {},
     "output_type": "display_data"
    }
   ],
   "source": [
    "group1 = demographic_earnings.take(0)\n",
    "group2 = demographic_earnings.take(demographic_earnings.num_rows - 1)\n",
    "\n",
    "display(group1)\n",
    "display(group2)"
   ]
  },
  {
   "cell_type": "code",
   "execution_count": 15,
   "id": "17cc0f7c",
   "metadata": {},
   "outputs": [
    {
     "data": {
      "application/vnd.jupyter.widget-view+json": {
       "model_id": "cd1087893c8f4e9eaf36dd787c02367e",
       "version_major": 2,
       "version_minor": 0
      },
      "text/plain": [
       "interactive(children=(Dropdown(description='Sex 1:', options=('All', 'Male', 'Female'), value='All'), Dropdown…"
      ]
     },
     "metadata": {},
     "output_type": "display_data"
    },
    {
     "data": {
      "text/plain": [
       "<function __main__.demographics_comparison(s1, e1, s2, e2)>"
      ]
     },
     "execution_count": 15,
     "metadata": {},
     "output_type": "execute_result"
    }
   ],
   "source": [
    "#function used to graph line plots comparing the Median Weekly Earning for two demographic groups over time\n",
    "def demographics_comparison(s1, e1, s2, e2):\n",
    "    group1 = wages_ethnicity.where(\"Ethnicity\", are.equal_to(e1)).where(\"Sex\", are.equal_to(s1))\n",
    "    group2 = wages_ethnicity.where(\"Ethnicity\", are.equal_to(e2)).where(\"Sex\", are.equal_to(s2))\n",
    "        \n",
    "    label1 = e1 + \" \" + s1\n",
    "    label2 = e2 + \" \" + s2\n",
    "\n",
    "    plt.plot(group1[\"Year\"], group1[\"Median Weekly Earnings\"], label = label1)\n",
    "    plt.plot(group2[\"Year\"], group2[\"Median Weekly Earnings\"], label = label2)\n",
    "    plt.legend(loc='upper left')\n",
    "    plt.title('Comparison of Two Demographic Groups')\n",
    "    plt.xlabel(\"Year\")\n",
    "    plt.ylabel(\"Median Weekly Earnings\")\n",
    "\n",
    "\n",
    "    plt.show()\n",
    "\n",
    "interact(demographics_comparison, \n",
    "         s1=widgets.Dropdown(\n",
    "            options=['All', 'Male', 'Female'],\n",
    "            value='All',\n",
    "            description='Sex 1:',\n",
    "            disabled=False),\n",
    "         e1=widgets.Dropdown(\n",
    "            options=['Asian', 'Black', 'Latinx', 'White'],\n",
    "            value='Asian',\n",
    "            description='Ethnicity 1:',\n",
    "            disabled=False),\n",
    "        s2=widgets.Dropdown(\n",
    "            options=['All', 'Male', 'Female'],\n",
    "            value='All',\n",
    "            description='Sex 2:',\n",
    "            disabled=False),\n",
    "         e2=widgets.Dropdown(\n",
    "            options=['Asian', 'Black', 'Latinx', 'White'],\n",
    "            value='Black',\n",
    "            description='Ethnicity 2:',\n",
    "            disabled=False))\n",
    "         "
   ]
  },
  {
   "cell_type": "markdown",
   "id": "91f559ee",
   "metadata": {},
   "source": [
    "### Employment among the Youth"
   ]
  },
  {
   "cell_type": "markdown",
   "id": "1402e1d0",
   "metadata": {},
   "source": [
    "Employment status of the civilian noninstitutional population 16 to 24 years of age by sex, race, and Hispanic or Latino ethnicity, July 2018-2021"
   ]
  }
 ],
 "metadata": {
  "kernelspec": {
   "display_name": "Python 3 (ipykernel)",
   "language": "python",
   "name": "python3"
  },
  "language_info": {
   "codemirror_mode": {
    "name": "ipython",
    "version": 3
   },
   "file_extension": ".py",
   "mimetype": "text/x-python",
   "name": "python",
   "nbconvert_exporter": "python",
   "pygments_lexer": "ipython3",
   "version": "3.8.8"
  }
 },
 "nbformat": 4,
 "nbformat_minor": 5
}
