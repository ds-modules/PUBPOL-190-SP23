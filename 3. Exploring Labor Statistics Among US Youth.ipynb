{
 "cells": [
  {
   "cell_type": "markdown",
   "id": "71e75b3f-dbef-4af4-b2c8-3cb2289f236d",
   "metadata": {},
   "source": [
    "# [PUBPOL/ETHSTD C164A] 3. Exploring Labor Statistics Among U.S. Youth\n",
    "\n",
    "**Estimated time:** 75 minutes\n",
    "\n",
    "**Notebook developed by:** <br>\n",
    "Team Lead: Skye Pickett  <br>\n",
    "Fall 2022 Developers: Leah Hong, Emily Guo, Reynolds Zhang <br>\n",
    "Summer 2022 Developers: Vaidehi Bulusu, Leah Hong, Drishti Gupta, Hans Ocampo <br>\n",
    "\n",
    "\n",
    "### Learning Outcomes\n",
    "- Learn to understand context of data sources\n",
    "- Manipulate tables to aid analysis\n",
    "- Use functions to categorize data\n",
    "- Analyze visualizations that represent people\n",
    "\n",
    "\n",
    "### Table of Contents\n",
    "1. [Introduction to U.S. BLS Datasets](#1.-Introduction-to-U.S.-BLS-Datasets)\n",
    "1. [Wages Among the Youth](#2.-Wages-Among-the-Youth)\n",
    "1. [Wages Among All Groups](#3.-Wages-Among-All-Groups)\n",
    "1. [Wage Differences Among Youth Between Ethnicities](#4.-Wage-Differences-Among-Youth-Between-Ethnicities)\n",
    "1. [Employment Among Youth](#5.-Employment-Among-Youth)\n",
    "1. [Conclusion](#6.-Conclusion)\n",
    "1. [Submitting Your Work](#7.-Submitting-Your-Work)\n",
    "1. [Explore Data Science Opportunities](#8.-Explore-Data-Science-Opportunities)\n",
    "1. [Feedback Form](#9.-Feedback-Form)\n",
    "\n",
    "***"
   ]
  },
  {
   "cell_type": "markdown",
   "id": "cda6897d-5517-434c-95ab-2e750ead8ee9",
   "metadata": {},
   "source": [
    "### Helpful Data Science Resources \n",
    "Here are some resources you can check out while doing this notebook and to explore data research further!\n",
    "- [DATA 8 Textbook](https://inferentialthinking.com/chapters/06/Tables.html) - Tables chapter\n",
    "- [Reference Sheet for the datascience Module](http://data8.org/sp22/python-reference.html)\n",
    "- [Documentation for the datascience Modules](http://data8.org/datascience/index.html)\n",
    "- [Statistica: Find Data on Interesting Topics](https://www.statista.com/)\n",
    "- [Exploratory Data Analysis](https://en.wikipedia.org/wiki/Exploratory_data_analysis)\n"
   ]
  },
  {
   "cell_type": "markdown",
   "id": "6fa25327-5afb-403e-8409-8d4033fad2bc",
   "metadata": {
    "tags": []
   },
   "source": [
    "### Peer Consulting\n",
    "\n",
    "If you find yourself having trouble with any content in this notebook, Data Peer Consultants are an excellent resource! Click [here](https://dlab.berkeley.edu/training/frontdesk-info) to locate live help.\n",
    "\n",
    "Peer Consultants are there to answer all data-related questions, whether it be about the content of this notebook, applications of data science in the world, or other data science courses offered at Berkeley.\n",
    "\n",
    "---"
   ]
  },
  {
   "cell_type": "markdown",
   "id": "56ff58b0-1c7c-4180-b8d1-868877ad1989",
   "metadata": {},
   "source": [
    "# 1. Introduction to U.S. BLS Datasets"
   ]
  },
  {
   "cell_type": "markdown",
   "id": "b30bff8a-e722-4b0f-90f6-b26e3205702b",
   "metadata": {},
   "source": [
    "Before we continue, run the bellow cell to import the necessary packages.\n"
   ]
  },
  {
   "cell_type": "code",
   "execution_count": 4,
   "id": "5fad33e7",
   "metadata": {},
   "outputs": [
    {
     "name": "stdout",
     "output_type": "stream",
     "text": [
      "All necessary packages have been imported!\n"
     ]
    }
   ],
   "source": [
    "# RUN THIS CELL\n",
    "# import the required packages\n",
    "from datascience import *\n",
    "import numpy as np\n",
    "import matplotlib.pyplot as plt\n",
    "plt.ion()\n",
    "%matplotlib inline\n",
    "\n",
    "import otter\n",
    "grader = otter.Notebook()\n",
    "\n",
    "# import the widgets module\n",
    "import ipywidgets as widgets\n",
    "from ipywidgets import interact, interactive, fixed, interact_manual\n",
    "print(\"All necessary packages have been imported!\")"
   ]
  },
  {
   "cell_type": "markdown",
   "id": "110bf1ba-a46e-4792-8e11-0f26919b2d28",
   "metadata": {},
   "source": [
    "Before discussing wages among youth, I would recommend to have a section before that is just dedicated to reading the data, hyperlinking the source of the data, providing a description of the data, and have students take a column and row and discuss what it means. Talk about the different columns in the dataset and what they represent. You can even ask questions to the students to have them interpret the data as well.\n",
    "See Section 3.1 in DSUS Modules Notebook Outline\n"
   ]
  },
  {
   "cell_type": "markdown",
   "id": "c198afbb-5e4a-441a-b12f-2252cb1903a6",
   "metadata": {},
   "source": [
    "Today, we will be analyzing the characteristics of the labor market for young people in the United States, utilizing the skills we have learned in the two previous Modules notebooks. We will discover patterns and trends over the years regarding employment and wages among American youth, utilizing datasets from the [US Bureau of Labor Statistics](https://www.bls.gov/data/). Here we define *youth* to be between the ages of 16 and 24 years old. "
   ]
  },
  {
   "cell_type": "markdown",
   "id": "74ff0e1f-688a-42cc-a650-9904b60312ef",
   "metadata": {},
   "source": [
    "The dataset, that we will call `earnings`, represents the earnings of employed persons, derived from the Current Population Survey.  The wages represented include earnings before taxes and other deductions, and include any overtime pay, commissions, or tips usually received. As you may notice from the names of each column, the dataset covers the total number of workers and median weekly earnings annually for various age groups and sex among the years 2000-2021. \n",
    "\n",
    "    \n",
    "> `Table().read_table(...)`: allows you to import data as a table (takes in the name of the csv file as the argument)\n",
    "    "
   ]
  },
  {
   "cell_type": "code",
   "execution_count": 5,
   "id": "fd304655",
   "metadata": {
    "scrolled": true
   },
   "outputs": [
    {
     "data": {
      "text/html": [
       "<table border=\"1\" class=\"dataframe\">\n",
       "    <thead>\n",
       "        <tr>\n",
       "            <th>Year</th> <th>Age</th> <th>Sex</th> <th>Ethnicity</th> <th>Median Weekly Earnings</th>\n",
       "        </tr>\n",
       "    </thead>\n",
       "    <tbody>\n",
       "        <tr>\n",
       "            <td>2000</td> <td>16-24 Years Old</td> <td>All </td> <td>All      </td> <td>361                   </td>\n",
       "        </tr>\n",
       "        <tr>\n",
       "            <td>2001</td> <td>16-24 Years Old</td> <td>All </td> <td>All      </td> <td>375                   </td>\n",
       "        </tr>\n",
       "        <tr>\n",
       "            <td>2002</td> <td>16-24 Years Old</td> <td>All </td> <td>All      </td> <td>381                   </td>\n",
       "        </tr>\n",
       "        <tr>\n",
       "            <td>2003</td> <td>16-24 Years Old</td> <td>All </td> <td>All      </td> <td>387                   </td>\n",
       "        </tr>\n",
       "        <tr>\n",
       "            <td>2004</td> <td>16-24 Years Old</td> <td>All </td> <td>All      </td> <td>390                   </td>\n",
       "        </tr>\n",
       "        <tr>\n",
       "            <td>2005</td> <td>16-24 Years Old</td> <td>All </td> <td>All      </td> <td>397                   </td>\n",
       "        </tr>\n",
       "        <tr>\n",
       "            <td>2006</td> <td>16-24 Years Old</td> <td>All </td> <td>All      </td> <td>409                   </td>\n",
       "        </tr>\n",
       "        <tr>\n",
       "            <td>2007</td> <td>16-24 Years Old</td> <td>All </td> <td>All      </td> <td>424                   </td>\n",
       "        </tr>\n",
       "        <tr>\n",
       "            <td>2008</td> <td>16-24 Years Old</td> <td>All </td> <td>All      </td> <td>443                   </td>\n",
       "        </tr>\n",
       "        <tr>\n",
       "            <td>2009</td> <td>16-24 Years Old</td> <td>All </td> <td>All      </td> <td>442                   </td>\n",
       "        </tr>\n",
       "    </tbody>\n",
       "</table>\n",
       "<p>... (122 rows omitted)</p>"
      ],
      "text/plain": [
       "Year | Age             | Sex  | Ethnicity | Median Weekly Earnings\n",
       "2000 | 16-24 Years Old | All  | All       | 361\n",
       "2001 | 16-24 Years Old | All  | All       | 375\n",
       "2002 | 16-24 Years Old | All  | All       | 381\n",
       "2003 | 16-24 Years Old | All  | All       | 387\n",
       "2004 | 16-24 Years Old | All  | All       | 390\n",
       "2005 | 16-24 Years Old | All  | All       | 397\n",
       "2006 | 16-24 Years Old | All  | All       | 409\n",
       "2007 | 16-24 Years Old | All  | All       | 424\n",
       "2008 | 16-24 Years Old | All  | All       | 443\n",
       "2009 | 16-24 Years Old | All  | All       | 442\n",
       "... (122 rows omitted)"
      ]
     },
     "execution_count": 5,
     "metadata": {},
     "output_type": "execute_result"
    }
   ],
   "source": [
    "earnings = Table().read_table(\"Data/Earnings.csv\")\n",
    "#earnings = Table().read_table(\"Data/Earnings.csv\")\n",
    "earnings"
   ]
  },
  {
   "cell_type": "markdown",
   "id": "5b8be724-4cd5-4738-aece-bc3214cc6309",
   "metadata": {},
   "source": [
    "Let's use `.labels` to view the column titles."
   ]
  },
  {
   "cell_type": "code",
   "execution_count": 6,
   "id": "f207e77e-263f-443a-b6b9-e54dfa07f200",
   "metadata": {},
   "outputs": [
    {
     "data": {
      "text/plain": [
       "('Year', 'Age', 'Sex', 'Ethnicity', 'Median Weekly Earnings')"
      ]
     },
     "execution_count": 6,
     "metadata": {},
     "output_type": "execute_result"
    }
   ],
   "source": [
    "earnings.labels"
   ]
  },
  {
   "cell_type": "markdown",
   "id": "88f57ea9-8340-4d60-a2c9-0ca9fd456172",
   "metadata": {},
   "source": [
    "Notice that age is a *string* that explains an age range, rather than an integer representing an individual age. The three unique values in the \"Sex\" column are: All, Male, and Female. Our earnings table represents all ethnicities from the survey data. Thus, the only unique value in the \"Ethnicity\" column is \"All\".\n",
    "\n",
    "Let's look at a random row and make sure we understand what it means. "
   ]
  },
  {
   "cell_type": "code",
   "execution_count": 7,
   "id": "3a158fe4-8dc3-4d0b-b5db-c83a8d9796c3",
   "metadata": {
    "scrolled": true
   },
   "outputs": [
    {
     "data": {
      "text/html": [
       "<table border=\"1\" class=\"dataframe\">\n",
       "    <thead>\n",
       "        <tr>\n",
       "            <th>Year</th> <th>Age</th> <th>Sex</th> <th>Ethnicity</th> <th>Median Weekly Earnings</th>\n",
       "        </tr>\n",
       "    </thead>\n",
       "    <tbody>\n",
       "        <tr>\n",
       "            <td>2008</td> <td>16-24 Years Old</td> <td>Male</td> <td>All      </td> <td>461                   </td>\n",
       "        </tr>\n",
       "    </tbody>\n",
       "</table>"
      ],
      "text/plain": [
       "Year | Age             | Sex  | Ethnicity | Median Weekly Earnings\n",
       "2008 | 16-24 Years Old | Male | All       | 461"
      ]
     },
     "execution_count": 7,
     "metadata": {},
     "output_type": "execute_result"
    }
   ],
   "source": [
    "earnings.take(30)"
   ]
  },
  {
   "cell_type": "markdown",
   "id": "6b5ebb32-6154-4f16-8c2f-f6afefc2c6cd",
   "metadata": {},
   "source": [
    "For this row, the data represents only males in the 16-24 age range with different ethnicities. This row represents only people who took the survey in 2008. \"Median Weekly Earnings\" means that of the survey-takers who fell into this category, the weekly earnings were sorted from lowest to highest, then the middle value was chosen. The median is a statistical measure of a distribution of data; review the [definition of median](https://www.investopedia.com/terms/m/median.asp)."
   ]
  },
  {
   "cell_type": "markdown",
   "id": "7df79b9e",
   "metadata": {},
   "source": [
    "# 2. Wages Among the Youth"
   ]
  },
  {
   "cell_type": "markdown",
   "id": "b2f368cb-4ad5-430c-8d0d-4d0f402b2b84",
   "metadata": {},
   "source": [
    "We are going to use some of the methods in this reference sheet, and you will learn more about them in your homework. \n",
    "\n",
    "**Please open this reference sheet in another tab to reference as we work through the notebook:\n",
    "  [Reference Sheet for the datascience Module](http://data8.org/sp22/python-reference.html)**\n",
    "  \n",
    "The goal of this section is to learn about basic table manipulation methods and to create a line graph of sex wage differences by year.\n"
   ]
  },
  {
   "cell_type": "markdown",
   "id": "3bd5c8b3",
   "metadata": {},
   "source": [
    "<!-- BEGIN QUESTION -->\n",
    "\n",
    "<font color = #d14d0f>\n",
    "\n",
    "#### Question 1a:\n",
    "In the cell below, create two tables `youth_earnings` and `all_earnings` derived from the `earnings` table. \n",
    "- `youth_earnings` contains data on 16-24 Year Olds of all Sexes and Ethnicities \n",
    "- `all_earnings` contains data on all laborers of all Sexes and Ethnicities\n",
    "\n",
    "\n",
    "> `.where`: filter a table based on the values of a particular column (see the `Table.where` Predicates section of the [Python reference](http://data8.org/sp22/python-reference.html) for the list of predicates you can use)\n",
    "     \n",
    "We created `youth_earnings` for you. Now, create `all_earnings` replacing the `...`s with your code!"
   ]
  },
  {
   "cell_type": "code",
   "execution_count": 11,
   "id": "de3b3368",
   "metadata": {},
   "outputs": [],
   "source": [
    "# create two separate tables\n",
    "youth_earnings = earnings.where(\"Age\", are.equal_to(\"16-24 Years Old\")).where(\"Sex\", are.equal_to(\"All\"))\n",
    "all_earnings = earnings.where(\"Age\", are.equal_to(\"All\")).where(\"Sex\", are.equal_to(\"All\"))"
   ]
  },
  {
   "cell_type": "code",
   "execution_count": 12,
   "id": "66963218",
   "metadata": {},
   "outputs": [
    {
     "data": {
      "text/html": [
       "<table border=\"1\" class=\"dataframe\">\n",
       "    <thead>\n",
       "        <tr>\n",
       "            <th>Year</th> <th>Age</th> <th>Sex</th> <th>Ethnicity</th> <th>Median Weekly Earnings</th>\n",
       "        </tr>\n",
       "    </thead>\n",
       "    <tbody>\n",
       "        <tr>\n",
       "            <td>2000</td> <td>16-24 Years Old</td> <td>All </td> <td>All      </td> <td>361                   </td>\n",
       "        </tr>\n",
       "        <tr>\n",
       "            <td>2001</td> <td>16-24 Years Old</td> <td>All </td> <td>All      </td> <td>375                   </td>\n",
       "        </tr>\n",
       "        <tr>\n",
       "            <td>2002</td> <td>16-24 Years Old</td> <td>All </td> <td>All      </td> <td>381                   </td>\n",
       "        </tr>\n",
       "    </tbody>\n",
       "</table>\n",
       "<p>... (19 rows omitted)</p>"
      ],
      "text/plain": [
       "<IPython.core.display.HTML object>"
      ]
     },
     "metadata": {},
     "output_type": "display_data"
    }
   ],
   "source": [
    "youth_earnings.show(3)"
   ]
  },
  {
   "cell_type": "code",
   "execution_count": 13,
   "id": "a08cff57",
   "metadata": {},
   "outputs": [
    {
     "data": {
      "text/html": [
       "<table border=\"1\" class=\"dataframe\">\n",
       "    <thead>\n",
       "        <tr>\n",
       "            <th>Year</th> <th>Age</th> <th>Sex</th> <th>Ethnicity</th> <th>Median Weekly Earnings</th>\n",
       "        </tr>\n",
       "    </thead>\n",
       "    <tbody>\n",
       "        <tr>\n",
       "            <td>2000</td> <td>All </td> <td>All </td> <td>All      </td> <td>576                   </td>\n",
       "        </tr>\n",
       "        <tr>\n",
       "            <td>2001</td> <td>All </td> <td>All </td> <td>All      </td> <td>596                   </td>\n",
       "        </tr>\n",
       "        <tr>\n",
       "            <td>2002</td> <td>All </td> <td>All </td> <td>All      </td> <td>608                   </td>\n",
       "        </tr>\n",
       "    </tbody>\n",
       "</table>\n",
       "<p>... (19 rows omitted)</p>"
      ],
      "text/plain": [
       "<IPython.core.display.HTML object>"
      ]
     },
     "metadata": {},
     "output_type": "display_data"
    }
   ],
   "source": [
    "all_earnings.show(3)"
   ]
  },
  {
   "cell_type": "markdown",
   "id": "116352b4",
   "metadata": {},
   "source": [
    "<!-- END QUESTION -->\n",
    "<!-- BEGIN QUESTION -->\n",
    "\n",
    "<font color = #d14d0f>\n",
    "    \n",
    "#### Question 1b:\n",
    "Compute the average of median weekly earnings for each table and find the difference between their wages. "
   ]
  },
  {
   "cell_type": "code",
   "execution_count": 14,
   "id": "932fa9a3-a106-41a9-96b9-4ecaed27e0f8",
   "metadata": {},
   "outputs": [
    {
     "name": "stdout",
     "output_type": "stream",
     "text": [
      "The average American worker makes $296.32 more than the average American Youth worker on a weekly basis.\n"
     ]
    }
   ],
   "source": [
    "# find the difference in the average median weekly earnings between youth_earnings and all_earnings\n",
    "youth_earnings_avg = np.mean(youth_earnings.column(\"Median Weekly Earnings\"))\n",
    "all_earnings_avg = np.mean(all_earnings.column(\"Median Weekly Earnings\")) \n",
    "diff = all_earnings_avg - youth_earnings_avg\n",
    "diff = np.round(diff, 2)\n",
    "\n",
    "print(\"The average American worker makes $\" + str(diff)+ \" more than the average American Youth worker on a weekly basis.\")"
   ]
  },
  {
   "cell_type": "markdown",
   "id": "fb4d8871-e080-4196-becc-45e8f300e489",
   "metadata": {},
   "source": [
    "<!-- END QUESTION -->\n",
    "\n",
    "**Read the statement that your code returned above.**\n",
    "<!-- BEGIN QUESTION -->\n",
    "\n",
    "<font color = #d14d0f>\n",
    "    \n",
    "#### Question 2:\n",
    "    \n",
    "Why do you think that the returned statement above is the case?"
   ]
  },
  {
   "cell_type": "markdown",
   "id": "edaab9de-1b67-4e71-bf24-1f53c02c9670",
   "metadata": {},
   "source": [
    "*Type your answer here. Double-click to edit this cell. Run this cell to proceed when finished.*"
   ]
  },
  {
   "cell_type": "markdown",
   "id": "2907ea17",
   "metadata": {},
   "source": [
    "<!-- END QUESTION -->\n",
    "\n",
    "<br> Let's now compare how the wages differ among male and female youth, and discover how this trend over the years parallels with the overall wage difference between men and women."
   ]
  },
  {
   "cell_type": "markdown",
   "id": "9ef4b6d2",
   "metadata": {},
   "source": [
    "<!-- BEGIN QUESTION -->\n",
    "\n",
    "<font color = #d14d0f>\n",
    "    \n",
    "#### Question 3a:\n",
    "   Find the median weekly earnings for *16-24 years old men*. The `youth_male_earnings_tbl` should be a table with rows that satisfy the criteria in the last sentence. The second line of code collects the Median Weekly Earnings of those rows and returns them. Remember to use the reference sheet and earlier activities to help you."
   ]
  },
  {
   "cell_type": "code",
   "execution_count": 15,
   "id": "8f536399-169a-4f0b-b205-8f861a646bc7",
   "metadata": {},
   "outputs": [
    {
     "data": {
      "text/plain": [
       "array([375, 391, 391, 398, 400, 409, 418, 443, 461, 458, 443, 455, 468,\n",
       "       479, 493, 510, 512, 547, 575, 607, 622, 650])"
      ]
     },
     "execution_count": 15,
     "metadata": {},
     "output_type": "execute_result"
    }
   ],
   "source": [
    "youth_male_earnings_tbl = earnings.where(\"Age\", are.equal_to(\"16-24 Years Old\")).where(\"Sex\", are.equal_to(\"Male\"))\n",
    "youth_male_earnings = youth_male_earnings_tbl.column(\"Median Weekly Earnings\")\n",
    "youth_male_earnings"
   ]
  },
  {
   "cell_type": "markdown",
   "id": "222514ba",
   "metadata": {},
   "source": [
    "<!-- END QUESTION -->\n",
    "<!-- BEGIN QUESTION -->\n",
    "\n",
    "<font color = #d14d0f>\n",
    "    \n",
    "#### Question 3b:\n",
    "   Find the median weekly earnings for 16-24 years old women. The output variable `youth_female_earnings` should be an array.\n",
    "    \n",
    "   *Hint: Use `.where` twice since there are two different criteria in the above statement.*"
   ]
  },
  {
   "cell_type": "code",
   "execution_count": 16,
   "id": "b8faaef8",
   "metadata": {},
   "outputs": [
    {
     "data": {
      "text/plain": [
       "array([344, 353, 367, 371, 375, 381, 395, 409, 420, 424, 422, 421, 416,\n",
       "       423, 451, 450, 486, 499, 522, 540, 589, 605])"
      ]
     },
     "execution_count": 16,
     "metadata": {},
     "output_type": "execute_result"
    }
   ],
   "source": [
    "youth_female_earnings_tbl = earnings.where(\"Age\", are.equal_to(\"16-24 Years Old\")).where(\"Sex\", are.equal_to(\"Female\"))\n",
    "youth_female_earnings = youth_female_earnings_tbl.column(\"Median Weekly Earnings\")\n",
    "youth_female_earnings"
   ]
  },
  {
   "cell_type": "markdown",
   "id": "59387e74",
   "metadata": {},
   "source": [
    "<!-- END QUESTION -->\n",
    "<!-- BEGIN QUESTION -->\n",
    "\n",
    "<font color = #d14d0f>\n",
    "\n",
    "#### Question 4:\n",
    "Find the **difference** of the median weekly earnings for 16-24 years old men and women. `youth_male_earnings` and `youth_female_earnings` are both *arrays*. \n",
    ">Remember that the type of `earnings` is a Table. Every column in a table is an array. Every column is an array regardless of what kind of data it contains. An array is basically a list of values.\n",
    "    \n",
    "The output variable `youth_wage_diff` should be an array. *Hint: Adding or subtracting two arrays returns an array.*\n",
    "    \n",
    "    \n",
    "**Try to guess the result of the difference before running the below code cell. In the markdown cell below, write what you notice about these values. Are they positive or negative? What does this indicate? Was your guess correct?**"
   ]
  },
  {
   "cell_type": "code",
   "execution_count": 17,
   "id": "c05751a3-912d-458e-b7d3-357a804a27bf",
   "metadata": {},
   "outputs": [
    {
     "data": {
      "text/plain": [
       "array([31, 38, 24, 27, 25, 28, 23, 34, 41, 34, 21, 34, 52, 56, 42, 60, 26,\n",
       "       48, 53, 67, 33, 45])"
      ]
     },
     "execution_count": 17,
     "metadata": {},
     "output_type": "execute_result"
    }
   ],
   "source": [
    "youth_wage_diff = youth_male_earnings - youth_female_earnings\n",
    "youth_wage_diff"
   ]
  },
  {
   "cell_type": "markdown",
   "id": "ef8e0174-1334-4f44-9707-71cac1de0461",
   "metadata": {},
   "source": [
    "*Type your answer here. Double-click to edit this cell. Run this cell to proceed when finished.*"
   ]
  },
  {
   "cell_type": "markdown",
   "id": "ed7f347c",
   "metadata": {},
   "source": [
    "<!-- END QUESTION -->\n",
    "<!-- BEGIN QUESTION -->\n",
    "\n",
    "<font color = #d14d0f>\n",
    "\n",
    "#### Question 5:\n",
    "   Now, let's **create a new table** containing the `Year`, `Median Weekly Earnings (16-24 Years Old Men)`, `Median Weekly Earnings (16-24 Years Old Women)`, and a column containing the **difference** between the two earnings each year called `Wage Difference`. <br>*Hint: Remember we just created an array of wage differences for youth in Question 4.*\n",
    "\n",
    "\n",
    "> `Table().with_columns`: create a new table by adding columns (the first argument is the name of the column and the second argument is the array) <br>\n",
    "> `tablename.column(columnname)`: select a column from a given table; returns as an array\n",
    "    "
   ]
  },
  {
   "cell_type": "code",
   "execution_count": 18,
   "id": "8af218cb-1cf9-4a49-ad39-332252c26abd",
   "metadata": {},
   "outputs": [
    {
     "data": {
      "text/html": [
       "<table border=\"1\" class=\"dataframe\">\n",
       "    <thead>\n",
       "        <tr>\n",
       "            <th>Year</th> <th>Median Weekly Earnings (16-24 Years Old Men)</th> <th>Median Weekly Earnings (16-24 Years Old Women)</th> <th>Wage Difference</th>\n",
       "        </tr>\n",
       "    </thead>\n",
       "    <tbody>\n",
       "        <tr>\n",
       "            <td>2000</td> <td>375                                         </td> <td>344                                           </td> <td>31             </td>\n",
       "        </tr>\n",
       "        <tr>\n",
       "            <td>2001</td> <td>391                                         </td> <td>353                                           </td> <td>38             </td>\n",
       "        </tr>\n",
       "        <tr>\n",
       "            <td>2002</td> <td>391                                         </td> <td>367                                           </td> <td>24             </td>\n",
       "        </tr>\n",
       "        <tr>\n",
       "            <td>2003</td> <td>398                                         </td> <td>371                                           </td> <td>27             </td>\n",
       "        </tr>\n",
       "        <tr>\n",
       "            <td>2004</td> <td>400                                         </td> <td>375                                           </td> <td>25             </td>\n",
       "        </tr>\n",
       "    </tbody>\n",
       "</table>\n",
       "<p>... (17 rows omitted)</p>"
      ],
      "text/plain": [
       "<IPython.core.display.HTML object>"
      ]
     },
     "metadata": {},
     "output_type": "display_data"
    }
   ],
   "source": [
    "youth_diff_tbl = Table().with_columns(\"Year\", youth_earnings.column(\"Year\"),\n",
    "                                \"Median Weekly Earnings (16-24 Years Old Men)\", youth_male_earnings,\n",
    "                                \"Median Weekly Earnings (16-24 Years Old Women)\", youth_female_earnings,\n",
    "                                \"Wage Difference\", youth_wage_diff)\n",
    "youth_diff_tbl.show(5)"
   ]
  },
  {
   "cell_type": "markdown",
   "id": "994320a4-f124-41c6-b374-94dfa7f4c84d",
   "metadata": {},
   "source": [
    "<!-- END QUESTION -->\n",
    "The `youth_diff_tbl` should have 4 columns and 22 rows. Use the next cells to check that your table matches with these values."
   ]
  },
  {
   "cell_type": "code",
   "execution_count": 19,
   "id": "0339b237-e20a-4c01-99ab-4e5cfa9529ce",
   "metadata": {},
   "outputs": [
    {
     "data": {
      "text/plain": [
       "22"
      ]
     },
     "execution_count": 19,
     "metadata": {},
     "output_type": "execute_result"
    }
   ],
   "source": [
    "youth_diff_tbl.num_rows"
   ]
  },
  {
   "cell_type": "code",
   "execution_count": 20,
   "id": "709d7370-3bb7-4686-a71a-9123f0e43d5f",
   "metadata": {},
   "outputs": [
    {
     "data": {
      "text/plain": [
       "4"
      ]
     },
     "execution_count": 20,
     "metadata": {},
     "output_type": "execute_result"
    }
   ],
   "source": [
    "len(youth_diff_tbl)"
   ]
  },
  {
   "cell_type": "markdown",
   "id": "ac568be7",
   "metadata": {},
   "source": [
    "Now that we know the wage differences, let's calculate what year saw the biggest wage difference between young men and women. We'll use `.sort` to organize the table based on the `Wage Difference` column.\n",
    "> **`tablename.sort()`**: Creates a copy of a table sorted by the values in a column. Defaults to ascending order unless *descending = True* is included."
   ]
  },
  {
   "cell_type": "code",
   "execution_count": 21,
   "id": "7c62174b",
   "metadata": {},
   "outputs": [
    {
     "data": {
      "text/html": [
       "<table border=\"1\" class=\"dataframe\">\n",
       "    <thead>\n",
       "        <tr>\n",
       "            <th>Year</th> <th>Median Weekly Earnings (16-24 Years Old Men)</th> <th>Median Weekly Earnings (16-24 Years Old Women)</th> <th>Wage Difference</th>\n",
       "        </tr>\n",
       "    </thead>\n",
       "    <tbody>\n",
       "        <tr>\n",
       "            <td>2019</td> <td>607                                         </td> <td>540                                           </td> <td>67             </td>\n",
       "        </tr>\n",
       "        <tr>\n",
       "            <td>2015</td> <td>510                                         </td> <td>450                                           </td> <td>60             </td>\n",
       "        </tr>\n",
       "        <tr>\n",
       "            <td>2013</td> <td>479                                         </td> <td>423                                           </td> <td>56             </td>\n",
       "        </tr>\n",
       "        <tr>\n",
       "            <td>2018</td> <td>575                                         </td> <td>522                                           </td> <td>53             </td>\n",
       "        </tr>\n",
       "        <tr>\n",
       "            <td>2012</td> <td>468                                         </td> <td>416                                           </td> <td>52             </td>\n",
       "        </tr>\n",
       "        <tr>\n",
       "            <td>2017</td> <td>547                                         </td> <td>499                                           </td> <td>48             </td>\n",
       "        </tr>\n",
       "        <tr>\n",
       "            <td>2021</td> <td>650                                         </td> <td>605                                           </td> <td>45             </td>\n",
       "        </tr>\n",
       "        <tr>\n",
       "            <td>2014</td> <td>493                                         </td> <td>451                                           </td> <td>42             </td>\n",
       "        </tr>\n",
       "        <tr>\n",
       "            <td>2008</td> <td>461                                         </td> <td>420                                           </td> <td>41             </td>\n",
       "        </tr>\n",
       "        <tr>\n",
       "            <td>2001</td> <td>391                                         </td> <td>353                                           </td> <td>38             </td>\n",
       "        </tr>\n",
       "    </tbody>\n",
       "</table>\n",
       "<p>... (12 rows omitted)</p>"
      ],
      "text/plain": [
       "Year | Median Weekly Earnings (16-24 Years Old Men) | Median Weekly Earnings (16-24 Years Old Women) | Wage Difference\n",
       "2019 | 607                                          | 540                                            | 67\n",
       "2015 | 510                                          | 450                                            | 60\n",
       "2013 | 479                                          | 423                                            | 56\n",
       "2018 | 575                                          | 522                                            | 53\n",
       "2012 | 468                                          | 416                                            | 52\n",
       "2017 | 547                                          | 499                                            | 48\n",
       "2021 | 650                                          | 605                                            | 45\n",
       "2014 | 493                                          | 451                                            | 42\n",
       "2008 | 461                                          | 420                                            | 41\n",
       "2001 | 391                                          | 353                                            | 38\n",
       "... (12 rows omitted)"
      ]
     },
     "execution_count": 21,
     "metadata": {},
     "output_type": "execute_result"
    }
   ],
   "source": [
    "sorted_tbl = youth_diff_tbl.sort(\"Wage Difference\", descending=True)\n",
    "sorted_tbl"
   ]
  },
  {
   "cell_type": "markdown",
   "id": "7e7c0ea9-0991-4bef-b655-16733c46faf0",
   "metadata": {},
   "source": [
    "Notice how the rows are in a different order than they were in `youth_diff_tbl`. \n",
    "\n",
    "To obtain just the value of the year with the biggest wage gap, we'll select just the column \"Year\" using `.column('Year')`. This will return an array with all the values of that column."
   ]
  },
  {
   "cell_type": "code",
   "execution_count": 22,
   "id": "fae1c07d-9a5b-446d-85ce-75f3398fd19e",
   "metadata": {},
   "outputs": [
    {
     "data": {
      "text/plain": [
       "array([2019, 2015, 2013, 2018, 2012, 2017, 2021, 2014, 2008, 2001, 2007,\n",
       "       2009, 2011, 2020, 2000, 2005, 2003, 2016, 2004, 2002, 2006, 2010])"
      ]
     },
     "execution_count": 22,
     "metadata": {},
     "output_type": "execute_result"
    }
   ],
   "source": [
    "sorted_tbl.column('Year')"
   ]
  },
  {
   "cell_type": "markdown",
   "id": "5a798ec0-222e-428e-acba-9c9872a54074",
   "metadata": {},
   "source": [
    "To select the first item, which corresponds to the first row of the sorted table, we use `.item(0)` to select it. In Python, lists and arrays are \"zero-indexed\"; this means that the first item in the list has index 0, second item has index 1, and so on. Thus, to get the first item, we select the item at the 0th index."
   ]
  },
  {
   "cell_type": "code",
   "execution_count": 23,
   "id": "b785c3c5-3831-4c90-b016-3d600b6bc7b1",
   "metadata": {},
   "outputs": [
    {
     "data": {
      "text/plain": [
       "2019"
      ]
     },
     "execution_count": 23,
     "metadata": {},
     "output_type": "execute_result"
    }
   ],
   "source": [
    "sorted_tbl.column('Year').item(0)"
   ]
  },
  {
   "cell_type": "markdown",
   "id": "81a94724-ee5c-4b80-b352-691b70a84e7a",
   "metadata": {},
   "source": [
    "If you look back at `sorted_tbl`, you'll notice that the first row shows the year 2019 with the wage difference of 67 between male and female youth (the largest wage gap of the table). Notice also that this can all be done in one line of code (see below), but to understand each step it can be very helpful to walk through the process and see what is returned."
   ]
  },
  {
   "cell_type": "code",
   "execution_count": 24,
   "id": "8a1412ea-9fa8-40ea-9184-761a0fba9c91",
   "metadata": {},
   "outputs": [
    {
     "data": {
      "text/plain": [
       "2019"
      ]
     },
     "execution_count": 24,
     "metadata": {},
     "output_type": "execute_result"
    }
   ],
   "source": [
    "youth_diff_tbl.sort(\"Wage Difference\", descending = True).column('Year').item(0)"
   ]
  },
  {
   "cell_type": "markdown",
   "id": "0e8d5cf4",
   "metadata": {},
   "source": [
    "<!-- BEGIN QUESTION -->\n",
    "<font color = #d14d0f>\n",
    "\n",
    "#### Question 6:\n",
    "   Create a line plot of the wage difference between young men and women over time. *Plot the unit for time on the x-axis.*\n",
    "\n",
    "*Hint: Use `.plot`. You can also reference section 4.1 of the Data Visualization Notebook on Line Plots.*<br>\n",
    "   *Remember that the arguments of the plot functions need to be column names.*\n",
    "    \n",
    "> `tablename.plot(\"x_column\", \"y_column\")`: create a line plot (the first argument is the variable on the x-axis and the second argument is the variable on the y-axis)"
   ]
  },
  {
   "cell_type": "code",
   "execution_count": 26,
   "id": "415a1b08-f0fd-4723-a949-32dbf243f100",
   "metadata": {},
   "outputs": [
    {
     "data": {
      "image/png": "[encoded data removed]",
      "text/plain": [
       "<Figure size 600x600 with 1 Axes>"
      ]
     },
     "metadata": {},
     "output_type": "display_data"
    }
   ],
   "source": [
    "youth_diff_tbl.plot(\"Year\", \"Wage Difference\");\n",
    "plt.title(\"Wage Differences Between Young Men and Women Over the Years\");"
   ]
  },
  {
   "cell_type": "markdown",
   "id": "c06680cb",
   "metadata": {},
   "source": [
    "<!-- END QUESTION -->\n",
    "<!-- BEGIN QUESTION -->\n",
    "<font color = #d14d0f>\n",
    "\n",
    "#### Question 7:\n",
    "   Looking at the graph you created, what do you notice? (How has the wage difference changed over time?)"
   ]
  },
  {
   "cell_type": "markdown",
   "id": "a0a3aaea-55ba-4787-a4aa-c9089e0f4e9f",
   "metadata": {},
   "source": [
    "*Type your answer here. Double-click to edit this cell. Run this cell to proceed when finished.*"
   ]
  },
  {
   "cell_type": "markdown",
   "id": "b75f0f9b",
   "metadata": {},
   "source": [
    "<!-- END QUESTION -->\n",
    "***\n",
    "# 3. Wages Among All Groups\n",
    "Similarly to what we did in Section 2 Question 5, we're now creating a new table for **All** age groups containing the `Year`, `Median Weekly Earnings (Men)`, `Median Weekly Earnings (Women)`, and a new column containing the **difference** between the two earnings each year. <br>\n",
    "We've written the code out for you. Read through it \"in English\" (meaning translate the code into a sentence) to make sure you understand what's being done. These steps were done previously so the goal is that you understand all of the code written in the cell below.\n",
    "> ie) `male_earnings = earnings.where(\"Age\", are.equal_to(\"All\")).where(\"Sex\", are.equal_to(\"Male\")).column(\"Median Weekly Earnings\")`<br>\n",
    "--> <br>\n",
    "male_earnings is the name of some variable (not sure what type yet). We are taking the earnings table and selecting only the rows where the Age is All and where the Sex is Male. After this, we are selecting just the \"Median Weekly Earnings\" column. That means male_earnings is an array with the median weekly earnings from the adjusted table that only has Age = \"All\" and Sex = \"Male\" values. These are the values we're going to use for the \"Median Weekly Earnings (Men)\" column in the new table being made."
   ]
  },
  {
   "cell_type": "code",
   "execution_count": 27,
   "id": "7e2024fe-dd9f-480f-ab89-2e0ffaaf7aec",
   "metadata": {},
   "outputs": [
    {
     "data": {
      "text/html": [
       "<table border=\"1\" class=\"dataframe\">\n",
       "    <thead>\n",
       "        <tr>\n",
       "            <th>Year</th> <th>Median Weekly Earnings (Men)</th> <th>Median Weekly Earnings (Women)</th> <th>Wage Difference</th>\n",
       "        </tr>\n",
       "    </thead>\n",
       "    <tbody>\n",
       "        <tr>\n",
       "            <td>2000</td> <td>641                         </td> <td>493                           </td> <td>148            </td>\n",
       "        </tr>\n",
       "        <tr>\n",
       "            <td>2001</td> <td>670                         </td> <td>512                           </td> <td>158            </td>\n",
       "        </tr>\n",
       "        <tr>\n",
       "            <td>2002</td> <td>679                         </td> <td>529                           </td> <td>150            </td>\n",
       "        </tr>\n",
       "        <tr>\n",
       "            <td>2003</td> <td>695                         </td> <td>552                           </td> <td>143            </td>\n",
       "        </tr>\n",
       "        <tr>\n",
       "            <td>2004</td> <td>713                         </td> <td>573                           </td> <td>140            </td>\n",
       "        </tr>\n",
       "    </tbody>\n",
       "</table>\n",
       "<p>... (17 rows omitted)</p>"
      ],
      "text/plain": [
       "<IPython.core.display.HTML object>"
      ]
     },
     "metadata": {},
     "output_type": "display_data"
    }
   ],
   "source": [
    "male_earnings = earnings.where(\"Age\", are.equal_to(\"All\")).where(\"Sex\", are.equal_to(\"Male\")).column(\"Median Weekly Earnings\")\n",
    "female_earnings = earnings.where(\"Age\", are.equal_to(\"All\")).where(\"Sex\", are.equal_to(\"Female\")).column(\"Median Weekly Earnings\")\n",
    "\n",
    "MWearnings = all_earnings.select(\"Year\")\n",
    "MWearnings = MWearnings.with_column(\"Median Weekly Earnings (Men)\", male_earnings).with_column(\"Median Weekly Earnings (Women)\", female_earnings)\n",
    "wage_diff = MWearnings.column(\"Median Weekly Earnings (Men)\")-MWearnings.column(\"Median Weekly Earnings (Women)\")\n",
    "\n",
    "MWearnings = MWearnings.with_column(\"Wage Difference\", wage_diff)\n",
    "MWearnings.show(5)"
   ]
  },
  {
   "cell_type": "markdown",
   "id": "3291110a",
   "metadata": {},
   "source": [
    "<!-- BEGIN QUESTION -->\n",
    "<font color = #d14d0f>\n",
    "\n",
    "#### Question 8:\n",
    "In the cell below, determine what year had the biggest wage difference between men and women based on the `MWearnings` table above. <br>\n",
    "*Hint: Use the example after Question 5 for guidance if you're unsure.*"
   ]
  },
  {
   "cell_type": "code",
   "execution_count": 28,
   "id": "918cb85b",
   "metadata": {},
   "outputs": [
    {
     "data": {
      "text/plain": [
       "2020"
      ]
     },
     "execution_count": 28,
     "metadata": {},
     "output_type": "execute_result"
    }
   ],
   "source": [
    "all_biggest_diff_yr = MWearnings.sort(\"Wage Difference\", descending = True).column('Year').item(0)\n",
    "all_biggest_diff_yr"
   ]
  },
  {
   "cell_type": "markdown",
   "id": "c8f39eef-f55f-40d0-98f3-ac2c65d014ad",
   "metadata": {},
   "source": [
    "Your answer should be 2020!"
   ]
  },
  {
   "cell_type": "markdown",
   "id": "8674172e",
   "metadata": {},
   "source": [
    "<!-- END QUESTION -->\n",
    "<!-- BEGIN QUESTION -->\n",
    "<font color = #d14d0f>\n",
    "\n",
    "#### Question 9:\n",
    "   Create a line plot of the wage difference between men and women over time.\n",
    "> `tablename.plot(\"x_column\", \"y_column\")`: create a line plot (the first argument is the variable on the x-axis and the second argument is the variable on the y-axis)"
   ]
  },
  {
   "cell_type": "code",
   "execution_count": 31,
   "id": "ac2c7a84",
   "metadata": {},
   "outputs": [
    {
     "data": {
      "image/png": "[encoded data removed]",
      "text/plain": [
       "<Figure size 600x600 with 1 Axes>"
      ]
     },
     "metadata": {},
     "output_type": "display_data"
    }
   ],
   "source": [
    "MWearnings.plot(\"Year\", \"Wage Difference\");\n",
    "plt.title(\"Wage Differences between Men and Women of All Ages\");"
   ]
  },
  {
   "cell_type": "markdown",
   "id": "f52139be",
   "metadata": {},
   "source": [
    "<!-- END QUESTION -->\n",
    "<!-- BEGIN QUESTION -->\n",
    "<font color = #d14d0f>\n",
    "\n",
    "#### Question 10:\n",
    "Now looking at both of the graphs you created, what do you notice? Are there similarities in the gender wage gaps present between youth and those of all ages?"
   ]
  },
  {
   "cell_type": "markdown",
   "id": "c54f32a0-3315-422e-bcea-4d3316b3b36c",
   "metadata": {},
   "source": [
    "*Type your answer here. Double-click to edit this cell. Run this cell to proceed when finished.*"
   ]
  },
  {
   "cell_type": "markdown",
   "id": "05f3ecaa",
   "metadata": {},
   "source": [
    "<!-- END QUESTION -->\n",
    "***\n",
    "# 4. Wage Differences Among Youth Between Ethnicities"
   ]
  },
  {
   "cell_type": "markdown",
   "id": "121a6575",
   "metadata": {},
   "source": [
    "The data below was pulled from the same data source, the Bureau of Labor Statistics, through this data filtering [table](https://www.bls.gov/webapps/legacy/cpswktab3.htm). \n",
    "\n",
    "In this section, we will explore the relationship between race, sex, and wages. Feel free to explore through the data and find different statistics.\n",
    "\n",
    "The table below represents the number of workers and median weekly earnings of workers between 16-24 years old, separated by ethnicity and sex. "
   ]
  },
  {
   "cell_type": "code",
   "execution_count": 32,
   "id": "4fb1d2b3",
   "metadata": {},
   "outputs": [
    {
     "data": {
      "text/html": [
       "<table border=\"1\" class=\"dataframe\">\n",
       "    <thead>\n",
       "        <tr>\n",
       "            <th>Year</th> <th>Age</th> <th>Sex</th> <th>Ethnicity</th> <th>Median Weekly Earnings</th>\n",
       "        </tr>\n",
       "    </thead>\n",
       "    <tbody>\n",
       "        <tr>\n",
       "            <td>2000</td> <td>16-24 Years Old</td> <td>All </td> <td>White    </td> <td>366                   </td>\n",
       "        </tr>\n",
       "        <tr>\n",
       "            <td>2001</td> <td>16-24 Years Old</td> <td>All </td> <td>White    </td> <td>380                   </td>\n",
       "        </tr>\n",
       "        <tr>\n",
       "            <td>2002</td> <td>16-24 Years Old</td> <td>All </td> <td>White    </td> <td>386                   </td>\n",
       "        </tr>\n",
       "    </tbody>\n",
       "</table>\n",
       "<p>... (261 rows omitted)</p>"
      ],
      "text/plain": [
       "<IPython.core.display.HTML object>"
      ]
     },
     "metadata": {},
     "output_type": "display_data"
    }
   ],
   "source": [
    "wages_ethnicity = Table.read_table(\"Data/YouthEarningsByEthnicity.csv\")\n",
    "wages_ethnicity.show(3)"
   ]
  },
  {
   "cell_type": "markdown",
   "id": "ce18584a",
   "metadata": {},
   "source": [
    "## 4.1 Grouping by Sex and Ethnicity \n",
    "In this next activity, we'll find the largest difference between the average median weekly earnings between two demographic groups. This will use the `.group` function. First, we'll run through some examples.\n",
    "\n",
    "`.group` is often difficult to grasp initially so we're providing a demo. In future notebooks you will want to use `.group` yourself so it's to your benefit to take this section slowly to understand. *Remember there is a section at the start of each notebook for resources if you're wanting further help.*"
   ]
  },
  {
   "cell_type": "markdown",
   "id": "c53d4f8f",
   "metadata": {},
   "source": [
    "Here we'll create a table called `demographic_earnings` containing the mean of Median Weekly Earnings for each possible demographic group combination. \n",
    "\n",
    "[This page on the `group` function](https://inferentialthinking.com/chapters/08/3/Cross-Classifying_by_More_than_One_Variable.html?highlight=group) from the Data8 Textbook is an excellent resource with great examples!\n",
    "\n",
    "Let's try using the group function. \n",
    "> **`tablename.group(column_name(s), func)`**: Group rows by unique values or combinations of values in a column(s). Multiple columns must be entered in array or list form. Other values aggregated by count (default) or optional argument func."
   ]
  },
  {
   "cell_type": "code",
   "execution_count": 33,
   "id": "c3d4f883-e658-4755-b414-6c45c63a7b6a",
   "metadata": {},
   "outputs": [
    {
     "data": {
      "text/html": [
       "<table border=\"1\" class=\"dataframe\">\n",
       "    <thead>\n",
       "        <tr>\n",
       "            <th>Sex</th> <th>count</th>\n",
       "        </tr>\n",
       "    </thead>\n",
       "    <tbody>\n",
       "        <tr>\n",
       "            <td>All   </td> <td>88   </td>\n",
       "        </tr>\n",
       "        <tr>\n",
       "            <td>Female</td> <td>88   </td>\n",
       "        </tr>\n",
       "        <tr>\n",
       "            <td>Male  </td> <td>88   </td>\n",
       "        </tr>\n",
       "    </tbody>\n",
       "</table>"
      ],
      "text/plain": [
       "Sex    | count\n",
       "All    | 88\n",
       "Female | 88\n",
       "Male   | 88"
      ]
     },
     "execution_count": 33,
     "metadata": {},
     "output_type": "execute_result"
    }
   ],
   "source": [
    "wages_ethnicity.group(\"Sex\")"
   ]
  },
  {
   "cell_type": "markdown",
   "id": "6094cdcb-a190-428a-9c60-4f386592bdc3",
   "metadata": {},
   "source": [
    "As mentioned in the documentation above, the *func* argument is optional and the default function is \"count\". This means that when we group by the column \"Sex\", it does 2 things:\n",
    "1. creates a new column with just the 3 unique values of the \"Sex\" column (which are All, Female, and Male)\n",
    "1. counts how many rows belong to each of the unique values of the \"Sex\" column\n",
    "\n",
    "The above table tells us that `wage_ethnicity` has the same number of rows that represent each of the 3 Sex categories.\n",
    "\n",
    "Now, let's try using a function other than count. *Note: np is short for the math package, Numpy. It is used for many functions like np.sum, np.mean, np.median, etc.*"
   ]
  },
  {
   "cell_type": "code",
   "execution_count": 34,
   "id": "f401f39c-ff2a-4bba-972c-79a7c1b855c3",
   "metadata": {},
   "outputs": [
    {
     "data": {
      "text/html": [
       "<table border=\"1\" class=\"dataframe\">\n",
       "    <thead>\n",
       "        <tr>\n",
       "            <th>Sex</th> <th>Year mean</th> <th>Age mean</th> <th>Ethnicity mean</th> <th>Median Weekly Earnings mean</th>\n",
       "        </tr>\n",
       "    </thead>\n",
       "    <tbody>\n",
       "        <tr>\n",
       "            <td>All   </td> <td>2010.5   </td> <td>        </td> <td>              </td> <td>457.568                    </td>\n",
       "        </tr>\n",
       "        <tr>\n",
       "            <td>Female</td> <td>2010.5   </td> <td>        </td> <td>              </td> <td>444.42                     </td>\n",
       "        </tr>\n",
       "        <tr>\n",
       "            <td>Male  </td> <td>2010.5   </td> <td>        </td> <td>              </td> <td>469.08                     </td>\n",
       "        </tr>\n",
       "    </tbody>\n",
       "</table>"
      ],
      "text/plain": [
       "Sex    | Year mean | Age mean | Ethnicity mean | Median Weekly Earnings mean\n",
       "All    | 2010.5    |          |                | 457.568\n",
       "Female | 2010.5    |          |                | 444.42\n",
       "Male   | 2010.5    |          |                | 469.08"
      ]
     },
     "execution_count": 34,
     "metadata": {},
     "output_type": "execute_result"
    }
   ],
   "source": [
    "wages_ethnicity.group(\"Sex\", np.mean)"
   ]
  },
  {
   "cell_type": "markdown",
   "id": "b5a385af-ca26-4876-bbcf-4b5348c400a9",
   "metadata": {},
   "source": [
    "Now we have the same groupings as before, but with means calculated of the numerical columns. Notice that even though the \"Age\" column contained numbers, the values were strings so we couldn't take the average of them. (ie, We can't add \"16-24 Years Old + \"16-24 Years Old\").\n",
    "\n",
    "Next, we'll use the same process but on **categorical pairs**. Below our pair is \"Sex\" and \"Ethnicity\". "
   ]
  },
  {
   "cell_type": "code",
   "execution_count": null,
   "id": "cf299ad8-36c0-4e06-808c-1e3817efb168",
   "metadata": {},
   "outputs": [],
   "source": [
    "wages_ethnicity.group([\"Sex\", \"Ethnicity\"])"
   ]
  },
  {
   "cell_type": "markdown",
   "id": "1cd5079e-7001-4c60-84dd-e341f9174003",
   "metadata": {},
   "source": [
    "Notice since we didn't include a function, it defaulted to finding the counts of each categorical pair. Now let's try aggregating by finding the mean like before. We'll use `.select` to only view the \"Sex\", \"Ethnicity\", and \"Median Weekly Earnings mean\" columns."
   ]
  },
  {
   "cell_type": "code",
   "execution_count": null,
   "id": "06f6f38c",
   "metadata": {},
   "outputs": [],
   "source": [
    "demographic_earnings = wages_ethnicity.group([\"Sex\", \"Ethnicity\"], np.mean).select(\"Sex\", \"Ethnicity\", \"Median Weekly Earnings mean\")\n",
    "demographic_earnings"
   ]
  },
  {
   "cell_type": "markdown",
   "id": "0c7b86ea-7f5f-49bb-89d7-35e7cbf97187",
   "metadata": {},
   "source": [
    "<!-- BEGIN QUESTION -->\n",
    "<font color = #d14d0f>\n",
    "\n",
    "#### Question 11: \n",
    "   Sort the table you created above in descending order.\n",
    "> `tablename.sort(columnname)`: Creates a copy of a table sorted by the values in a column. Defaults to ascending order unless *descending = True* is included."
   ]
  },
  {
   "cell_type": "code",
   "execution_count": null,
   "id": "cc67172c",
   "metadata": {},
   "outputs": [],
   "source": [
    "demographic_earnings = demographic_earnings.sort(...)\n",
    "demographic_earnings"
   ]
  },
  {
   "cell_type": "markdown",
   "id": "4fab1984",
   "metadata": {},
   "source": [
    "<!-- END QUESTION -->\n",
    "<!-- BEGIN QUESTION -->\n",
    "<font color = #d14d0f>\n",
    "\n",
    "#### Question 12:\n",
    "   Find the demographic that makes the most and the least on average and find the difference between the two earnings. \n"
   ]
  },
  {
   "cell_type": "code",
   "execution_count": null,
   "id": "57978e78",
   "metadata": {},
   "outputs": [],
   "source": [
    "demo1 = demographic_earnings.take(...) # Remember that the first row has the 0th index\n",
    "demo2 = demographic_earnings.take(-1) # The last row can be quickly obtained by using -1\n",
    "\n",
    "display(demo1)\n",
    "display(demo2)"
   ]
  },
  {
   "cell_type": "code",
   "execution_count": null,
   "id": "00fd444b",
   "metadata": {},
   "outputs": [],
   "source": [
    "diff = demo1.column(...).item(0) - demo2.column(...).item(0)\n",
    "print(\"The mean weekly earnings for \" + demo1.column(\"Ethnicity\").item(0) + \" \" + demo1.column(\"Sex\").item(0) + \"s is $\" + str(np.round(diff, 2)) + \" higher than for \" + demo2.column(\"Ethnicity\").item(0) + \" \" + demo2.column(\"Sex\").item(0) + \"s.\") "
   ]
  },
  {
   "cell_type": "markdown",
   "id": "f597628d",
   "metadata": {},
   "source": [
    "<!-- END QUESTION -->\n",
    "## 4.2 Visualizing Data Groupings\n",
    "\n",
    "\n",
    "Now let's look at how wages among each demographic group differ over time. Run the cell below and choose specific demographic groups you'd like to compare wages with by using the dropdown options below. \n",
    "\n",
    "The widget in the cell below graphs line plots comparing the Median Weekly Earnings for two demographic groups over time."
   ]
  },
  {
   "cell_type": "code",
   "execution_count": null,
   "id": "88e6240b-79af-4ecb-89cb-de809973d630",
   "metadata": {},
   "outputs": [],
   "source": [
    "# Run this cell\n",
    "%run Data/widget"
   ]
  },
  {
   "cell_type": "markdown",
   "id": "703c44a0",
   "metadata": {},
   "source": [
    "<!-- BEGIN QUESTION -->\n",
    "<font color = #d14d0f>\n",
    "\n",
    "#### Question 13: \n",
    "   What two demographic groups did you decide to look at? Why did you choose those two groups specifically? Did you observe anything interesting with the line plot?"
   ]
  },
  {
   "cell_type": "markdown",
   "id": "c29b5b5a-e3e0-4875-b78d-8a552d9ae891",
   "metadata": {},
   "source": [
    "*Type your answer here. Double-click to edit this cell. Run this cell to proceed when finished.*"
   ]
  },
  {
   "cell_type": "markdown",
   "id": "91f559ee",
   "metadata": {},
   "source": [
    "<!-- END QUESTION -->\n",
    "***\n",
    "# 5. Employment Among Youth"
   ]
  },
  {
   "cell_type": "markdown",
   "id": "1402e1d0",
   "metadata": {},
   "source": [
    "For our last activity, we will look at the employment table. This table shows the employment status of the civilian noninstitutional population of 16 to 24 years by race and sex, from 2000-2021.\n",
    "\n",
    "The goal of this section is to learn how to clean the table and generate a histogram for the percent plot.\n",
    "\n",
    "First, let's import the table."
   ]
  },
  {
   "cell_type": "code",
   "execution_count": null,
   "id": "8a5d2de0-7260-4776-8803-f326c3df9aea",
   "metadata": {},
   "outputs": [],
   "source": [
    "youth_employment = Table.read_table(\"Data/Employment.csv\").select(0,1,2,3,4,5,6)\n",
    "youth_employment"
   ]
  },
  {
   "cell_type": "markdown",
   "id": "605ee9da-5564-4017-8e80-f347a5629105",
   "metadata": {},
   "source": [
    "Next, we are going to show the percentage of male/female workers among young workers and the percentage of male/female workers among all workers.\n",
    "\n",
    "<!-- BEGIN QUESTION -->\n",
    "<font color = #d14d0f>\n",
    "\n",
    "#### Question 14:\n",
    "  Complete the code that creates a table called `employmentPercentage` containing the columns that shows the above four data attributes by year. We created the values of the columns; now you put these values into the new table!"
   ]
  },
  {
   "cell_type": "code",
   "execution_count": null,
   "id": "7d4ec358-047a-4b2c-b23d-888bb3efa389",
   "metadata": {},
   "outputs": [],
   "source": [
    "# The four lines of code below generate the data for four of the new columns\n",
    "# We used the index of the columns, rather than column names, here:\n",
    "# aka column(2) is the same as column(\"Number of Male Workers (In Thousands) (16-24 Years Old)\")\n",
    "youngmale = youth_employment.column(2)/youth_employment.column(1)*100\n",
    "youngfemale = youth_employment.column(3)/youth_employment.column(1)*100\n",
    "allmale = youth_employment.column(5)/youth_employment.column(4)*100\n",
    "allfemale = youth_employment.column(6)/youth_employment.column(4)*100\n",
    "\n",
    "# form the table\n",
    "employmentPercentage = Table().with_columns(\"Year\",youth_employment.column(...),\n",
    "                                \"young male (%)\", ...,\n",
    "                                \"young female(%)\", ...,\n",
    "                                \"all male(%)\", ...,\n",
    "                                \"all female(%)\", ...)\n",
    "employmentPercentage"
   ]
  },
  {
   "cell_type": "markdown",
   "id": "e79c5998-4df6-4bee-b7b7-27a635c85539",
   "metadata": {},
   "source": [
    "<!-- END QUESTION -->\n",
    "> `young male(%)` represents the number of young (16-24 years old) male workers out of all young workers. <br>\n",
    "`young female(%)` represents the number of young (16-24 years old) female workers out of all young workers. <br>\n",
    "`all male(%)` represents the percentage of male workers out of all workers. <br>\n",
    "`all female(%)` represents the percentage of female workers out of all workers. <br>\n"
   ]
  },
  {
   "cell_type": "markdown",
   "id": "83d2c807-1f13-4f5d-bc5a-8b55c16c7ca8",
   "metadata": {},
   "source": [
    "<!-- BEGIN QUESTION -->\n",
    "<font color = #d14d0f>\n",
    "\n",
    "#### Question 15: \n",
    "   Before we plot the data, think of anything that is repeative in the table we generated. We could plot all four lines, but is there any way we could plot something more concise?\n",
    "\n",
    "*Hint: Think about if there is a variable that is dependent on itself or binary (ie, if it's not one value you know it's another).*"
   ]
  },
  {
   "cell_type": "markdown",
   "id": "45bf081d-b3db-428f-9a92-2330bbe28578",
   "metadata": {},
   "source": [
    "*Type your answer here. Double-click to edit this cell. Run this cell to proceed when finished.*"
   ]
  },
  {
   "cell_type": "markdown",
   "id": "0d4734a2-e0c9-4885-971e-20c1b4d2749b",
   "metadata": {},
   "source": [
    "<br>\n",
    "<!-- END QUESTION -->\n",
    "Here, we created a line plot of the sex percentage of workers in young employment and in all employment by year. We plotted the percentage of males for the young category and the \"all\" category, represented by different lines. Review what each column represents in the dictionary above."
   ]
  },
  {
   "cell_type": "code",
   "execution_count": null,
   "id": "d626810d-3217-4577-8e89-f28441ef5301",
   "metadata": {},
   "outputs": [],
   "source": [
    "plt.plot(employmentPercentage.column(\"Year\"), employmentPercentage.column(\"young male (%)\"), label = \"young\")\n",
    "plt.plot(employmentPercentage.column(\"Year\"),employmentPercentage.column( \"all male(%)\"), label = \"all\")\n",
    "plt.title(\"Sex Percentage of Male Workers in Young Employment and in All Employment by Year\")\n",
    "plt.xlabel(\"Year\")\n",
    "plt.legend(loc='upper left')\n",
    "plt.show()\n",
    "print(\"The plot represents the percentages of males. The percentages of females are represented by the 100 - the y-values. (ie, 44% males = 66% females)\")"
   ]
  },
  {
   "cell_type": "markdown",
   "id": "4537df52-fb9e-4f4f-ba13-56f9e1e89e04",
   "metadata": {},
   "source": [
    "<!-- BEGIN QUESTION -->\n",
    "<font color = #d14d0f>\n",
    "\n",
    "#### Question 16:\n",
    "   Discuss what this plot means and what you can say about the employment of different sex among young and all.\n",
    "    *Look back at what each variable represents above if you're having trouble understanding the graph.*"
   ]
  },
  {
   "cell_type": "markdown",
   "id": "cfbe948b-5c7c-4b59-bd05-d9ac342d7362",
   "metadata": {},
   "source": [
    "*Type your answer here. Double-click to edit this cell. Run this cell to proceed when finished.*"
   ]
  },
  {
   "cell_type": "markdown",
   "id": "fad62266-9827-466c-88a4-922c1a11af7d",
   "metadata": {
    "tags": []
   },
   "source": [
    "<!-- END QUESTION -->\n",
    "***\n",
    "# 6. Conclusion \n",
    "Over the course of this notebook, you were introducted to labor data that is related to the contents of your course. Now you've learned more about tables, visualizations, and data and have applied your knowledge from previous notebooks to draw insightful conclusions about US Labor among Youth in comparison to All Ages and about US Labor amoung Youth across various ethnicities. Great work! This notebook took lots of focus and effort but you did it!\n"
   ]
  },
  {
   "cell_type": "markdown",
   "id": "b46c2510-5043-497c-8019-e76a14e987df",
   "metadata": {},
   "source": [
    "## Congratulations! You have finished the notebook! ##"
   ]
  },
  {
   "cell_type": "markdown",
   "id": "091ca3ff-b3fe-4f15-97df-ae3f0974f685",
   "metadata": {},
   "source": [
    "***\n",
    "# 7. Submitting Your Work"
   ]
  },
  {
   "cell_type": "markdown",
   "id": "c8903034-59cb-4697-8b7d-037e0107c292",
   "metadata": {},
   "source": [
    "**Make sure that you've answered all the questions.**\n",
    "\n",
    "Follow these steps: \n",
    "1. Go to `File` in the menu bar, then select `Save and Checkpoint` (or click CTRL+S).\n",
    "2. Go to `Cell` in the menu bar, then select `Run All`.\n",
    "3. Click the link produced by the code cell below.\n",
    "4. Submit the downloaded PDF on bCourses according to your professor's instructions.\n",
    "\n",
    "**Note:** If clicking the link below doesn't work for you, don't worry! Simply click `File` in the menu, find `Download As`, and choose `PDF via LaTeX (.pdf)` to save a copy of your pdf onto your computer.\n",
    "\n",
    "**Check the PDF before submitting and make sure all of your answers and any changes are shown.**"
   ]
  },
  {
   "cell_type": "code",
   "execution_count": null,
   "id": "14a599cb-3a0e-41df-960b-15548cdcce33",
   "metadata": {},
   "outputs": [],
   "source": [
    "#This may take a few extra seconds.\n",
    "from otter.export import export_notebook\n",
    "from IPython.display import display, HTML \n",
    "export_notebook(\"3. Exploring Labor Statistics Among US Youth.ipynb\", filtering=True, pagebreaks=False)\n",
    "display(HTML(\"<p style='font-size:20px'> <br>Save this notebook, then click <a href='3. Exploring Labor Statistics Among US Youth.pdf' download>here</a> to open the pdf.<br></p>\"))"
   ]
  },
  {
   "cell_type": "markdown",
   "id": "ef129a3c-a19e-4519-b278-b0dd77fa5138",
   "metadata": {
    "jp-MarkdownHeadingCollapsed": true,
    "tags": []
   },
   "source": [
    "***\n",
    "# 8. Explore Data Science Opportunities\n",
    "\n",
    "Interested in learning more about how to get involved in data science or learn about data science applications in your field of study? The following resources might help support your learning:\n",
    "\n",
    "- Data Science Modules: http://data.berkeley.edu/education/modules\n",
    "- Data Science Offerings at Berkeley: https://data.berkeley.edu/academics/undergraduate-programs/data-science-offerings\n",
    "- Data 8 Course Information: http://data8.org/\n",
    "- Data 100 Course Information: https://ds100.org/\n"
   ]
  },
  {
   "cell_type": "markdown",
   "id": "9837b401-c080-4322-80d1-81b4a77305c2",
   "metadata": {},
   "source": [
    "***\n",
    "# 9. Feedback Form\n",
    "\n",
    "<div class=\"alert alert-info\">\n",
    "<b> We encourage students to fill out the following feedback form to share your experience with this Module notebook. This feedback form will take no longer than 5 minutes. At UC Berkeley Data Science Undergraduate Studies Modules, we appreciate all feedback to improve the learning of students and experience utilizing Jupyter Notebooks for Data Science Education: </b> \n",
    "</div>\n",
    "\n",
    "# [UC Berkeley Data Science Feedback Form](https://forms.gle/hipxf2uFw5Ud4Hyn8)"
   ]
  },
  {
   "cell_type": "code",
   "execution_count": null,
   "id": "3c928611-0e07-4441-afe7-f0b6e1a9cb74",
   "metadata": {},
   "outputs": [],
   "source": []
  }
 ],
 "metadata": {
  "kernelspec": {
   "display_name": "Python 3 (ipykernel)",
   "language": "python",
   "name": "python3"
  },
  "language_info": {
   "codemirror_mode": {
    "name": "ipython",
    "version": 3
   },
   "file_extension": ".py",
   "mimetype": "text/x-python",
   "name": "python",
   "nbconvert_exporter": "python",
   "pygments_lexer": "ipython3",
   "version": "3.9.15"
  }
 },
 "nbformat": 4,
 "nbformat_minor": 5
}
