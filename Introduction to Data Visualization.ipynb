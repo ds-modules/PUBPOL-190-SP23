{
 "cells": [
  {
   "cell_type": "markdown",
   "id": "3bb584df",
   "metadata": {},
   "source": [
    "# [Public Policy 190]  Introduction to Data Visualization\n",
    "\n",
    "## Professor Anibel Ferus-Comelo \n",
    "\n",
    "---\n",
    "\n",
    "# Learning Outcomes\n",
    "*Estimated time: 60 minutes*\n",
    "\n",
    "- Learn about exploratory data analysis\n",
    "- Learn how to explore datasets\n",
    "- Learn the purpose of different visualizations and how to create them\n",
    "- Learn how to analyze and draw insights from visualizations\n",
    "\n",
    "---\n",
    "\n",
    "# Table of Contents\n",
    "0. [Data Science Resources](#0.-Data-Science-Resources)\n",
    "\n",
    "1. [What is Data Visualization?](#1.-What-is-Data-Visualization?)\n",
    "\n",
    "2. [Introducing the Datasets](#2.-Introducing-the-Datasets)\n",
    "\n",
    "3. [Exploring the Datasets](#3.-Exploring-the-Datasets)\n",
    "\n",
    "4. [Data Visualizations](#4.-Data-Visualizations)\n",
    "\n",
    "    1. [Line Plots](#1.-Line-Plots)\n",
    "\n",
    "    2. [Bar Charts](#2.-Bar-Charts)\n",
    "\n",
    "    3. [Scatter Plots](#3.-Scatter-Plots)\n",
    "\n",
    "    4. [Histograms](#4.-Histograms)\n",
    "\n",
    "    5. [Advanced Visualizations](#5.-Advanced-Visualizations)\n",
    "\n",
    "5. [Peer Consulting](#5.-Peer-Consulting)\n",
    "\n",
    "---"
   ]
  },
  {
   "cell_type": "code",
   "execution_count": 1,
   "id": "c421c2f8",
   "metadata": {},
   "outputs": [],
   "source": [
    "#Import the required modules\n",
    "from datascience import *\n",
    "import numpy as np\n",
    "import matplotlib.pyplot as plt\n",
    "import seaborn as sns\n",
    "%matplotlib inline\n",
    "import warnings\n",
    "warnings.filterwarnings(\"ignore\")\n",
    "plt.style.use('fivethirtyeight')"
   ]
  },
  {
   "cell_type": "markdown",
   "id": "5b4cc185",
   "metadata": {},
   "source": [
    "# 0. Data Science Resources\n",
    "\n",
    "Here are some resources you can check out to explore data visualization!\n",
    "\n",
    "- [DATA 8 Textbook](https://inferentialthinking.com/chapters/07/Visualization.html)\n",
    "- [Reference Sheet for the datascience Module](http://data8.org/sp22/python-reference.html)\n",
    "- [Documentation for the datascience Modules](http://data8.org/datascience/index.html)\n",
    "- [Cool Data Visualizations](https://www.tableau.com/learn/articles/best-beautiful-data-visualization-examples)\n",
    "- [Statistica: Find Data on Interesting Topics](https://www.statista.com/)\n",
    "- [Exploratory Data Analysis](https://en.wikipedia.org/wiki/Exploratory_data_analysis)"
   ]
  },
  {
   "cell_type": "markdown",
   "id": "bb3fbe12",
   "metadata": {},
   "source": [
    "# 1. What is Data Visualization?\n",
    "\n",
    "Data visualization is a powerful technique that allows us to understand our data. We can use visualizations for a variety of purposes:\n",
    "\n",
    "- See how a variable changes over time (e.g. do wages among the youth increase or decrease over time?)\n",
    "\n",
    "- Explore relationships between variables (e.g. how does your income change as you get more education?)\n",
    "\n",
    "- See how a data is distributed (e.g. is the data for average income spread out or concentrated around one value?) \n",
    "\n",
    "And more! In this notebook, we'll be looking at the visualizations we can use for each of the above purposes. Let's start by looking at our dataset."
   ]
  },
  {
   "cell_type": "markdown",
   "id": "e3d5df38",
   "metadata": {},
   "source": [
    "# 2. Introducing the Dataset\n",
    "\n",
    "The [U.S. Bureau of Labor Statistics](https://www.bls.gov/) has data on a variety of topics related to labor, including wages for different occupations, unemployment rates, labor productivity and more. Feel free to check out some of the datasets in the [BLS Data Finder](https://www.bls.gov/data/)!\n",
    "\n",
    "For this notebook, we'll be looking at data from the [American Time Use Survey](https://data.bls.gov/PDQWeb/tu). This is an annual survey that asks people how much time they spend on various activities, including work, education, volunteering, socializing, sports and more. **We'll specifically looking at the average number of hours people spent per day on work and education-related activities for the 25-34 age group.**\n",
    "\n",
    "Now we're ready to explore the datasets!\n",
    "\n",
    "*Note: The functions you need to learn are in the yellow boxes.*"
   ]
  },
  {
   "cell_type": "markdown",
   "id": "fc407b23",
   "metadata": {},
   "source": [
    "# 3. Exploring the Dataset\n",
    "\n",
    "In sections 3 and 4, we will be performing exploratory data analysis (EDA). Through EDA, we can examine the characteristics of and find trends and patterns in our data. In section 3, we'll explore our datasets. In section 4, we will visualize our data.\n",
    "\n",
    "We can start by importing the education dataset.\n",
    "\n",
    "<div class=\"alert alert-warning\">\n",
    "    \n",
    "- `Table.read_table`: allows you to import data as a table (takes in the name of the csv file as the argument)\n",
    "    \n",
    "</div>"
   ]
  },
  {
   "cell_type": "code",
   "execution_count": 2,
   "id": "c0d5b419",
   "metadata": {},
   "outputs": [
    {
     "ename": "FileNotFoundError",
     "evalue": "[Errno 2] No such file or directory: 'educ.csv'",
     "output_type": "error",
     "traceback": [
      "\u001b[0;31m---------------------------------------------------------------------------\u001b[0m",
      "\u001b[0;31mFileNotFoundError\u001b[0m                         Traceback (most recent call last)",
      "Cell \u001b[0;32mIn [2], line 1\u001b[0m\n\u001b[0;32m----> 1\u001b[0m educ \u001b[38;5;241m=\u001b[39m Table\u001b[38;5;241m.\u001b[39mread_table(\u001b[38;5;124m\"\u001b[39m\u001b[38;5;124meduc.csv\u001b[39m\u001b[38;5;124m\"\u001b[39m)\n\u001b[1;32m      2\u001b[0m educ\n",
      "File \u001b[0;32m/opt/conda/lib/python3.9/site-packages/datascience/tables.py:145\u001b[0m, in \u001b[0;36mTable.read_table\u001b[0;34m(cls, filepath_or_buffer, *args, **vargs)\u001b[0m\n\u001b[1;32m    143\u001b[0m \u001b[38;5;28;01mexcept\u001b[39;00m \u001b[38;5;167;01mAttributeError\u001b[39;00m:\n\u001b[1;32m    144\u001b[0m     \u001b[38;5;28;01mpass\u001b[39;00m\n\u001b[0;32m--> 145\u001b[0m df \u001b[38;5;241m=\u001b[39m \u001b[43mpandas\u001b[49m\u001b[38;5;241;43m.\u001b[39;49m\u001b[43mread_csv\u001b[49m\u001b[43m(\u001b[49m\u001b[43mfilepath_or_buffer\u001b[49m\u001b[43m,\u001b[49m\u001b[43m \u001b[49m\u001b[38;5;241;43m*\u001b[39;49m\u001b[43margs\u001b[49m\u001b[43m,\u001b[49m\u001b[43m \u001b[49m\u001b[38;5;241;43m*\u001b[39;49m\u001b[38;5;241;43m*\u001b[39;49m\u001b[43mvargs\u001b[49m\u001b[43m)\u001b[49m\n\u001b[1;32m    146\u001b[0m \u001b[38;5;28;01mreturn\u001b[39;00m \u001b[38;5;28mcls\u001b[39m\u001b[38;5;241m.\u001b[39mfrom_df(df)\n",
      "File \u001b[0;32m/opt/conda/lib/python3.9/site-packages/pandas/util/_decorators.py:311\u001b[0m, in \u001b[0;36mdeprecate_nonkeyword_arguments.<locals>.decorate.<locals>.wrapper\u001b[0;34m(*args, **kwargs)\u001b[0m\n\u001b[1;32m    305\u001b[0m \u001b[38;5;28;01mif\u001b[39;00m \u001b[38;5;28mlen\u001b[39m(args) \u001b[38;5;241m>\u001b[39m num_allow_args:\n\u001b[1;32m    306\u001b[0m     warnings\u001b[38;5;241m.\u001b[39mwarn(\n\u001b[1;32m    307\u001b[0m         msg\u001b[38;5;241m.\u001b[39mformat(arguments\u001b[38;5;241m=\u001b[39marguments),\n\u001b[1;32m    308\u001b[0m         \u001b[38;5;167;01mFutureWarning\u001b[39;00m,\n\u001b[1;32m    309\u001b[0m         stacklevel\u001b[38;5;241m=\u001b[39mstacklevel,\n\u001b[1;32m    310\u001b[0m     )\n\u001b[0;32m--> 311\u001b[0m \u001b[38;5;28;01mreturn\u001b[39;00m \u001b[43mfunc\u001b[49m\u001b[43m(\u001b[49m\u001b[38;5;241;43m*\u001b[39;49m\u001b[43margs\u001b[49m\u001b[43m,\u001b[49m\u001b[43m \u001b[49m\u001b[38;5;241;43m*\u001b[39;49m\u001b[38;5;241;43m*\u001b[39;49m\u001b[43mkwargs\u001b[49m\u001b[43m)\u001b[49m\n",
      "File \u001b[0;32m/opt/conda/lib/python3.9/site-packages/pandas/io/parsers/readers.py:586\u001b[0m, in \u001b[0;36mread_csv\u001b[0;34m(filepath_or_buffer, sep, delimiter, header, names, index_col, usecols, squeeze, prefix, mangle_dupe_cols, dtype, engine, converters, true_values, false_values, skipinitialspace, skiprows, skipfooter, nrows, na_values, keep_default_na, na_filter, verbose, skip_blank_lines, parse_dates, infer_datetime_format, keep_date_col, date_parser, dayfirst, cache_dates, iterator, chunksize, compression, thousands, decimal, lineterminator, quotechar, quoting, doublequote, escapechar, comment, encoding, encoding_errors, dialect, error_bad_lines, warn_bad_lines, on_bad_lines, delim_whitespace, low_memory, memory_map, float_precision, storage_options)\u001b[0m\n\u001b[1;32m    571\u001b[0m kwds_defaults \u001b[38;5;241m=\u001b[39m _refine_defaults_read(\n\u001b[1;32m    572\u001b[0m     dialect,\n\u001b[1;32m    573\u001b[0m     delimiter,\n\u001b[0;32m   (...)\u001b[0m\n\u001b[1;32m    582\u001b[0m     defaults\u001b[38;5;241m=\u001b[39m{\u001b[38;5;124m\"\u001b[39m\u001b[38;5;124mdelimiter\u001b[39m\u001b[38;5;124m\"\u001b[39m: \u001b[38;5;124m\"\u001b[39m\u001b[38;5;124m,\u001b[39m\u001b[38;5;124m\"\u001b[39m},\n\u001b[1;32m    583\u001b[0m )\n\u001b[1;32m    584\u001b[0m kwds\u001b[38;5;241m.\u001b[39mupdate(kwds_defaults)\n\u001b[0;32m--> 586\u001b[0m \u001b[38;5;28;01mreturn\u001b[39;00m \u001b[43m_read\u001b[49m\u001b[43m(\u001b[49m\u001b[43mfilepath_or_buffer\u001b[49m\u001b[43m,\u001b[49m\u001b[43m \u001b[49m\u001b[43mkwds\u001b[49m\u001b[43m)\u001b[49m\n",
      "File \u001b[0;32m/opt/conda/lib/python3.9/site-packages/pandas/io/parsers/readers.py:482\u001b[0m, in \u001b[0;36m_read\u001b[0;34m(filepath_or_buffer, kwds)\u001b[0m\n\u001b[1;32m    479\u001b[0m _validate_names(kwds\u001b[38;5;241m.\u001b[39mget(\u001b[38;5;124m\"\u001b[39m\u001b[38;5;124mnames\u001b[39m\u001b[38;5;124m\"\u001b[39m, \u001b[38;5;28;01mNone\u001b[39;00m))\n\u001b[1;32m    481\u001b[0m \u001b[38;5;66;03m# Create the parser.\u001b[39;00m\n\u001b[0;32m--> 482\u001b[0m parser \u001b[38;5;241m=\u001b[39m \u001b[43mTextFileReader\u001b[49m\u001b[43m(\u001b[49m\u001b[43mfilepath_or_buffer\u001b[49m\u001b[43m,\u001b[49m\u001b[43m \u001b[49m\u001b[38;5;241;43m*\u001b[39;49m\u001b[38;5;241;43m*\u001b[39;49m\u001b[43mkwds\u001b[49m\u001b[43m)\u001b[49m\n\u001b[1;32m    484\u001b[0m \u001b[38;5;28;01mif\u001b[39;00m chunksize \u001b[38;5;129;01mor\u001b[39;00m iterator:\n\u001b[1;32m    485\u001b[0m     \u001b[38;5;28;01mreturn\u001b[39;00m parser\n",
      "File \u001b[0;32m/opt/conda/lib/python3.9/site-packages/pandas/io/parsers/readers.py:811\u001b[0m, in \u001b[0;36mTextFileReader.__init__\u001b[0;34m(self, f, engine, **kwds)\u001b[0m\n\u001b[1;32m    808\u001b[0m \u001b[38;5;28;01mif\u001b[39;00m \u001b[38;5;124m\"\u001b[39m\u001b[38;5;124mhas_index_names\u001b[39m\u001b[38;5;124m\"\u001b[39m \u001b[38;5;129;01min\u001b[39;00m kwds:\n\u001b[1;32m    809\u001b[0m     \u001b[38;5;28mself\u001b[39m\u001b[38;5;241m.\u001b[39moptions[\u001b[38;5;124m\"\u001b[39m\u001b[38;5;124mhas_index_names\u001b[39m\u001b[38;5;124m\"\u001b[39m] \u001b[38;5;241m=\u001b[39m kwds[\u001b[38;5;124m\"\u001b[39m\u001b[38;5;124mhas_index_names\u001b[39m\u001b[38;5;124m\"\u001b[39m]\n\u001b[0;32m--> 811\u001b[0m \u001b[38;5;28mself\u001b[39m\u001b[38;5;241m.\u001b[39m_engine \u001b[38;5;241m=\u001b[39m \u001b[38;5;28;43mself\u001b[39;49m\u001b[38;5;241;43m.\u001b[39;49m\u001b[43m_make_engine\u001b[49m\u001b[43m(\u001b[49m\u001b[38;5;28;43mself\u001b[39;49m\u001b[38;5;241;43m.\u001b[39;49m\u001b[43mengine\u001b[49m\u001b[43m)\u001b[49m\n",
      "File \u001b[0;32m/opt/conda/lib/python3.9/site-packages/pandas/io/parsers/readers.py:1040\u001b[0m, in \u001b[0;36mTextFileReader._make_engine\u001b[0;34m(self, engine)\u001b[0m\n\u001b[1;32m   1036\u001b[0m     \u001b[38;5;28;01mraise\u001b[39;00m \u001b[38;5;167;01mValueError\u001b[39;00m(\n\u001b[1;32m   1037\u001b[0m         \u001b[38;5;124mf\u001b[39m\u001b[38;5;124m\"\u001b[39m\u001b[38;5;124mUnknown engine: \u001b[39m\u001b[38;5;132;01m{\u001b[39;00mengine\u001b[38;5;132;01m}\u001b[39;00m\u001b[38;5;124m (valid options are \u001b[39m\u001b[38;5;132;01m{\u001b[39;00mmapping\u001b[38;5;241m.\u001b[39mkeys()\u001b[38;5;132;01m}\u001b[39;00m\u001b[38;5;124m)\u001b[39m\u001b[38;5;124m\"\u001b[39m\n\u001b[1;32m   1038\u001b[0m     )\n\u001b[1;32m   1039\u001b[0m \u001b[38;5;66;03m# error: Too many arguments for \"ParserBase\"\u001b[39;00m\n\u001b[0;32m-> 1040\u001b[0m \u001b[38;5;28;01mreturn\u001b[39;00m \u001b[43mmapping\u001b[49m\u001b[43m[\u001b[49m\u001b[43mengine\u001b[49m\u001b[43m]\u001b[49m\u001b[43m(\u001b[49m\u001b[38;5;28;43mself\u001b[39;49m\u001b[38;5;241;43m.\u001b[39;49m\u001b[43mf\u001b[49m\u001b[43m,\u001b[49m\u001b[43m \u001b[49m\u001b[38;5;241;43m*\u001b[39;49m\u001b[38;5;241;43m*\u001b[39;49m\u001b[38;5;28;43mself\u001b[39;49m\u001b[38;5;241;43m.\u001b[39;49m\u001b[43moptions\u001b[49m\u001b[43m)\u001b[49m\n",
      "File \u001b[0;32m/opt/conda/lib/python3.9/site-packages/pandas/io/parsers/c_parser_wrapper.py:51\u001b[0m, in \u001b[0;36mCParserWrapper.__init__\u001b[0;34m(self, src, **kwds)\u001b[0m\n\u001b[1;32m     48\u001b[0m kwds[\u001b[38;5;124m\"\u001b[39m\u001b[38;5;124musecols\u001b[39m\u001b[38;5;124m\"\u001b[39m] \u001b[38;5;241m=\u001b[39m \u001b[38;5;28mself\u001b[39m\u001b[38;5;241m.\u001b[39musecols\n\u001b[1;32m     50\u001b[0m \u001b[38;5;66;03m# open handles\u001b[39;00m\n\u001b[0;32m---> 51\u001b[0m \u001b[38;5;28;43mself\u001b[39;49m\u001b[38;5;241;43m.\u001b[39;49m\u001b[43m_open_handles\u001b[49m\u001b[43m(\u001b[49m\u001b[43msrc\u001b[49m\u001b[43m,\u001b[49m\u001b[43m \u001b[49m\u001b[43mkwds\u001b[49m\u001b[43m)\u001b[49m\n\u001b[1;32m     52\u001b[0m \u001b[38;5;28;01massert\u001b[39;00m \u001b[38;5;28mself\u001b[39m\u001b[38;5;241m.\u001b[39mhandles \u001b[38;5;129;01mis\u001b[39;00m \u001b[38;5;129;01mnot\u001b[39;00m \u001b[38;5;28;01mNone\u001b[39;00m\n\u001b[1;32m     54\u001b[0m \u001b[38;5;66;03m# Have to pass int, would break tests using TextReader directly otherwise :(\u001b[39;00m\n",
      "File \u001b[0;32m/opt/conda/lib/python3.9/site-packages/pandas/io/parsers/base_parser.py:222\u001b[0m, in \u001b[0;36mParserBase._open_handles\u001b[0;34m(self, src, kwds)\u001b[0m\n\u001b[1;32m    218\u001b[0m \u001b[38;5;28;01mdef\u001b[39;00m \u001b[38;5;21m_open_handles\u001b[39m(\u001b[38;5;28mself\u001b[39m, src: FilePathOrBuffer, kwds: \u001b[38;5;28mdict\u001b[39m[\u001b[38;5;28mstr\u001b[39m, Any]) \u001b[38;5;241m-\u001b[39m\u001b[38;5;241m>\u001b[39m \u001b[38;5;28;01mNone\u001b[39;00m:\n\u001b[1;32m    219\u001b[0m     \u001b[38;5;124;03m\"\"\"\u001b[39;00m\n\u001b[1;32m    220\u001b[0m \u001b[38;5;124;03m    Let the readers open IOHandles after they are done with their potential raises.\u001b[39;00m\n\u001b[1;32m    221\u001b[0m \u001b[38;5;124;03m    \"\"\"\u001b[39;00m\n\u001b[0;32m--> 222\u001b[0m     \u001b[38;5;28mself\u001b[39m\u001b[38;5;241m.\u001b[39mhandles \u001b[38;5;241m=\u001b[39m \u001b[43mget_handle\u001b[49m\u001b[43m(\u001b[49m\n\u001b[1;32m    223\u001b[0m \u001b[43m        \u001b[49m\u001b[43msrc\u001b[49m\u001b[43m,\u001b[49m\n\u001b[1;32m    224\u001b[0m \u001b[43m        \u001b[49m\u001b[38;5;124;43m\"\u001b[39;49m\u001b[38;5;124;43mr\u001b[39;49m\u001b[38;5;124;43m\"\u001b[39;49m\u001b[43m,\u001b[49m\n\u001b[1;32m    225\u001b[0m \u001b[43m        \u001b[49m\u001b[43mencoding\u001b[49m\u001b[38;5;241;43m=\u001b[39;49m\u001b[43mkwds\u001b[49m\u001b[38;5;241;43m.\u001b[39;49m\u001b[43mget\u001b[49m\u001b[43m(\u001b[49m\u001b[38;5;124;43m\"\u001b[39;49m\u001b[38;5;124;43mencoding\u001b[39;49m\u001b[38;5;124;43m\"\u001b[39;49m\u001b[43m,\u001b[49m\u001b[43m \u001b[49m\u001b[38;5;28;43;01mNone\u001b[39;49;00m\u001b[43m)\u001b[49m\u001b[43m,\u001b[49m\n\u001b[1;32m    226\u001b[0m \u001b[43m        \u001b[49m\u001b[43mcompression\u001b[49m\u001b[38;5;241;43m=\u001b[39;49m\u001b[43mkwds\u001b[49m\u001b[38;5;241;43m.\u001b[39;49m\u001b[43mget\u001b[49m\u001b[43m(\u001b[49m\u001b[38;5;124;43m\"\u001b[39;49m\u001b[38;5;124;43mcompression\u001b[39;49m\u001b[38;5;124;43m\"\u001b[39;49m\u001b[43m,\u001b[49m\u001b[43m \u001b[49m\u001b[38;5;28;43;01mNone\u001b[39;49;00m\u001b[43m)\u001b[49m\u001b[43m,\u001b[49m\n\u001b[1;32m    227\u001b[0m \u001b[43m        \u001b[49m\u001b[43mmemory_map\u001b[49m\u001b[38;5;241;43m=\u001b[39;49m\u001b[43mkwds\u001b[49m\u001b[38;5;241;43m.\u001b[39;49m\u001b[43mget\u001b[49m\u001b[43m(\u001b[49m\u001b[38;5;124;43m\"\u001b[39;49m\u001b[38;5;124;43mmemory_map\u001b[39;49m\u001b[38;5;124;43m\"\u001b[39;49m\u001b[43m,\u001b[49m\u001b[43m \u001b[49m\u001b[38;5;28;43;01mFalse\u001b[39;49;00m\u001b[43m)\u001b[49m\u001b[43m,\u001b[49m\n\u001b[1;32m    228\u001b[0m \u001b[43m        \u001b[49m\u001b[43mstorage_options\u001b[49m\u001b[38;5;241;43m=\u001b[39;49m\u001b[43mkwds\u001b[49m\u001b[38;5;241;43m.\u001b[39;49m\u001b[43mget\u001b[49m\u001b[43m(\u001b[49m\u001b[38;5;124;43m\"\u001b[39;49m\u001b[38;5;124;43mstorage_options\u001b[39;49m\u001b[38;5;124;43m\"\u001b[39;49m\u001b[43m,\u001b[49m\u001b[43m \u001b[49m\u001b[38;5;28;43;01mNone\u001b[39;49;00m\u001b[43m)\u001b[49m\u001b[43m,\u001b[49m\n\u001b[1;32m    229\u001b[0m \u001b[43m        \u001b[49m\u001b[43merrors\u001b[49m\u001b[38;5;241;43m=\u001b[39;49m\u001b[43mkwds\u001b[49m\u001b[38;5;241;43m.\u001b[39;49m\u001b[43mget\u001b[49m\u001b[43m(\u001b[49m\u001b[38;5;124;43m\"\u001b[39;49m\u001b[38;5;124;43mencoding_errors\u001b[39;49m\u001b[38;5;124;43m\"\u001b[39;49m\u001b[43m,\u001b[49m\u001b[43m \u001b[49m\u001b[38;5;124;43m\"\u001b[39;49m\u001b[38;5;124;43mstrict\u001b[39;49m\u001b[38;5;124;43m\"\u001b[39;49m\u001b[43m)\u001b[49m\u001b[43m,\u001b[49m\n\u001b[1;32m    230\u001b[0m \u001b[43m    \u001b[49m\u001b[43m)\u001b[49m\n",
      "File \u001b[0;32m/opt/conda/lib/python3.9/site-packages/pandas/io/common.py:702\u001b[0m, in \u001b[0;36mget_handle\u001b[0;34m(path_or_buf, mode, encoding, compression, memory_map, is_text, errors, storage_options)\u001b[0m\n\u001b[1;32m    697\u001b[0m \u001b[38;5;28;01melif\u001b[39;00m \u001b[38;5;28misinstance\u001b[39m(handle, \u001b[38;5;28mstr\u001b[39m):\n\u001b[1;32m    698\u001b[0m     \u001b[38;5;66;03m# Check whether the filename is to be opened in binary mode.\u001b[39;00m\n\u001b[1;32m    699\u001b[0m     \u001b[38;5;66;03m# Binary mode does not support 'encoding' and 'newline'.\u001b[39;00m\n\u001b[1;32m    700\u001b[0m     \u001b[38;5;28;01mif\u001b[39;00m ioargs\u001b[38;5;241m.\u001b[39mencoding \u001b[38;5;129;01mand\u001b[39;00m \u001b[38;5;124m\"\u001b[39m\u001b[38;5;124mb\u001b[39m\u001b[38;5;124m\"\u001b[39m \u001b[38;5;129;01mnot\u001b[39;00m \u001b[38;5;129;01min\u001b[39;00m ioargs\u001b[38;5;241m.\u001b[39mmode:\n\u001b[1;32m    701\u001b[0m         \u001b[38;5;66;03m# Encoding\u001b[39;00m\n\u001b[0;32m--> 702\u001b[0m         handle \u001b[38;5;241m=\u001b[39m \u001b[38;5;28;43mopen\u001b[39;49m\u001b[43m(\u001b[49m\n\u001b[1;32m    703\u001b[0m \u001b[43m            \u001b[49m\u001b[43mhandle\u001b[49m\u001b[43m,\u001b[49m\n\u001b[1;32m    704\u001b[0m \u001b[43m            \u001b[49m\u001b[43mioargs\u001b[49m\u001b[38;5;241;43m.\u001b[39;49m\u001b[43mmode\u001b[49m\u001b[43m,\u001b[49m\n\u001b[1;32m    705\u001b[0m \u001b[43m            \u001b[49m\u001b[43mencoding\u001b[49m\u001b[38;5;241;43m=\u001b[39;49m\u001b[43mioargs\u001b[49m\u001b[38;5;241;43m.\u001b[39;49m\u001b[43mencoding\u001b[49m\u001b[43m,\u001b[49m\n\u001b[1;32m    706\u001b[0m \u001b[43m            \u001b[49m\u001b[43merrors\u001b[49m\u001b[38;5;241;43m=\u001b[39;49m\u001b[43merrors\u001b[49m\u001b[43m,\u001b[49m\n\u001b[1;32m    707\u001b[0m \u001b[43m            \u001b[49m\u001b[43mnewline\u001b[49m\u001b[38;5;241;43m=\u001b[39;49m\u001b[38;5;124;43m\"\u001b[39;49m\u001b[38;5;124;43m\"\u001b[39;49m\u001b[43m,\u001b[49m\n\u001b[1;32m    708\u001b[0m \u001b[43m        \u001b[49m\u001b[43m)\u001b[49m\n\u001b[1;32m    709\u001b[0m     \u001b[38;5;28;01melse\u001b[39;00m:\n\u001b[1;32m    710\u001b[0m         \u001b[38;5;66;03m# Binary mode\u001b[39;00m\n\u001b[1;32m    711\u001b[0m         handle \u001b[38;5;241m=\u001b[39m \u001b[38;5;28mopen\u001b[39m(handle, ioargs\u001b[38;5;241m.\u001b[39mmode)\n",
      "\u001b[0;31mFileNotFoundError\u001b[0m: [Errno 2] No such file or directory: 'educ.csv'"
     ]
    }
   ],
   "source": [
    "educ = Table.read_table(\"educ.csv\")\n",
    "educ"
   ]
  },
  {
   "cell_type": "markdown",
   "id": "b4d46676",
   "metadata": {},
   "source": [
    "This table has the average number of hours people spent per day on education-related activities (including attending class, doing homework and commuting) for the 2011-2021 time period for both genders.\n",
    "\n",
    "*Note: The BLS wasn't able to collect data for 2020 because of Covid-19.*"
   ]
  },
  {
   "cell_type": "markdown",
   "id": "bee05865",
   "metadata": {},
   "source": [
    "**Question 1:** The work dataset is stored as `work.csv`. Use the `Table.read_table` function to import this dataset."
   ]
  },
  {
   "cell_type": "code",
   "execution_count": null,
   "id": "2c259a36",
   "metadata": {},
   "outputs": [],
   "source": [
    "work = ...\n",
    "work"
   ]
  },
  {
   "cell_type": "markdown",
   "id": "b12f1ff4",
   "metadata": {},
   "source": [
    "Now that we've imported our datasets, we can examine some of its characteristics.\n",
    "\n",
    "<div class=\"alert alert-warning\">\n",
    "    \n",
    "- `.num_rows`: gives you the number of rows in the table\n",
    "- `.num_columns`: gives you the number of columns in the table\n",
    "- `.labels`: gives you the names of the columns in the table\n",
    "    \n",
    "</div>"
   ]
  },
  {
   "cell_type": "code",
   "execution_count": null,
   "id": "1f7ef052",
   "metadata": {
    "scrolled": true
   },
   "outputs": [],
   "source": [
    "educ.num_rows"
   ]
  },
  {
   "cell_type": "code",
   "execution_count": null,
   "id": "b933958a",
   "metadata": {},
   "outputs": [],
   "source": [
    "educ.num_columns"
   ]
  },
  {
   "cell_type": "code",
   "execution_count": null,
   "id": "7304f870",
   "metadata": {},
   "outputs": [],
   "source": [
    "educ.labels"
   ]
  },
  {
   "cell_type": "markdown",
   "id": "a2c3cbd7",
   "metadata": {},
   "source": [
    "**Question 2:** Use `.num_rows`, `.num_columns` and `.labels` on the `work` table."
   ]
  },
  {
   "cell_type": "code",
   "execution_count": null,
   "id": "e93b1fa9",
   "metadata": {},
   "outputs": [],
   "source": [
    "#.num_rows\n",
    "..."
   ]
  },
  {
   "cell_type": "code",
   "execution_count": null,
   "id": "f73bf4dd",
   "metadata": {},
   "outputs": [],
   "source": [
    "#.num_columns\n",
    "..."
   ]
  },
  {
   "cell_type": "code",
   "execution_count": null,
   "id": "4da5f43d",
   "metadata": {},
   "outputs": [],
   "source": [
    "#.labels\n",
    "..."
   ]
  },
  {
   "cell_type": "markdown",
   "id": "868bc9f9",
   "metadata": {},
   "source": [
    "### NaN Values\n",
    "\n",
    "You might have noticed the NaN values in the `Men` column. NaN stands for Not a Number and is generally used to represent missing values. We have to deal with these values as otherwise, they will interfere with our data analysis and visualization. One way to deal with NaN values is by filtering the table so that it doesn't have these values. This is an important step in [data cleaning](https://en.wikipedia.org/wiki/Data_cleansing).\n",
    "\n",
    "The first row that contains a NaN value is the row for the year 2013. Let's use table filtering to remove this row.\n",
    "\n",
    "<div class=\"alert alert-warning\"\n",
    "\n",
    "- `.where`: filter a table based on the values of a particular column (see the `Table.where` Predicates section of the [Python reference](http://data8.org/sp22/python-reference.html) for the list of predicates you can use)\n",
    "     \n",
    "</div>"
   ]
  },
  {
   "cell_type": "code",
   "execution_count": null,
   "id": "92fff721",
   "metadata": {
    "scrolled": false
   },
   "outputs": [],
   "source": [
    "educ = educ.where(\"Year\", are.not_equal_to(2013))\n",
    "educ"
   ]
  },
  {
   "cell_type": "markdown",
   "id": "d828f357",
   "metadata": {},
   "source": [
    "**Question 3:** Use table filtering to remove the other row with a NaN value."
   ]
  },
  {
   "cell_type": "code",
   "execution_count": null,
   "id": "903fa25d",
   "metadata": {},
   "outputs": [],
   "source": [
    "educ = ...\n",
    "educ"
   ]
  },
  {
   "cell_type": "markdown",
   "id": "a514ad2c",
   "metadata": {},
   "source": [
    "# 4. Data Visualizations\n",
    "\n",
    "Now we can start visualizing our data!\n",
    "\n",
    "## 1. Line Plots\n",
    "\n",
    "A line plot is used to display data as a series of points connected by a line. It's generally used to visualize how a variable changes over time (also known as [time series data](https://www.investopedia.com/terms/t/timeseries.asp) data). It has a time-related variable on the x-axis (minutes, days, months, years, etc.) and a numerical variable on the y-axis.\n",
    "\n",
    "Let's create a line plot to see how the average number of hours people spend on education changes over the years.\n",
    "\n",
    "<div class=\"alert alert-warning\">\n",
    "    \n",
    "- `.plot`: create a line plot (the first argument is the variable on the x-axis and the second argument is the variable on the y-axis)\n",
    "    \n",
    "</div>"
   ]
  },
  {
   "cell_type": "code",
   "execution_count": null,
   "id": "076d3fdb",
   "metadata": {
    "scrolled": false
   },
   "outputs": [],
   "source": [
    "educ.plot(\"Year\", \"All\")\n",
    "plt.ylabel(\"Average Number of Hours\")\n",
    "plt.title(\"Time Spent on Education Over the Years\")\n",
    "plt.show()"
   ]
  },
  {
   "cell_type": "markdown",
   "id": "c0102add",
   "metadata": {},
   "source": [
    "**Question 4:** What trends do you notice in this line plot? Specifically:\n",
    "- During which time periods did the average hours spent on education fall?\n",
    "- During which time periods did the average hours spent on education rise?"
   ]
  },
  {
   "cell_type": "markdown",
   "id": "2ade4882",
   "metadata": {},
   "source": [
    "*Type your answer here*"
   ]
  },
  {
   "cell_type": "markdown",
   "id": "1d738d97",
   "metadata": {},
   "source": [
    "**Question 5:** Create a similar line plot for the `work` dataset.\n",
    "\n",
    "*Hint: Use the `All` column.*"
   ]
  },
  {
   "cell_type": "code",
   "execution_count": null,
   "id": "57903662",
   "metadata": {},
   "outputs": [],
   "source": [
    "...\n",
    "plt.ylabel(\"Average Number of Hours\")\n",
    "plt.title(\"Time Spent on Work Over the Years\")\n",
    "plt.show()"
   ]
  },
  {
   "cell_type": "markdown",
   "id": "8b95d23c",
   "metadata": {},
   "source": [
    "**Question 6:** What trends do you notice in this line plot? Specifically:\n",
    "- During which time periods did the average hours spent on work fall?\n",
    "- During which time periods did the average hours spent on work rise?"
   ]
  },
  {
   "cell_type": "markdown",
   "id": "df2d60d0",
   "metadata": {},
   "source": [
    "*Type your answer here*"
   ]
  },
  {
   "cell_type": "markdown",
   "id": "769dca68",
   "metadata": {},
   "source": [
    "### Overlaid Line Plots\n",
    "\n",
    "To see how education and work change together, we can create overlaid line plots. To do this, let's first create a table with the data for both education and work.\n",
    "\n",
    "<div class=\"alert alert-warning\"\n",
    "\n",
    "- `Table().with_columns`: create a new table by adding columns (the first argument is the name of the column and the second argument is the array)\n",
    "- `.column`: select a column from a given table as an array\n",
    "     \n",
    "</div>"
   ]
  },
  {
   "cell_type": "code",
   "execution_count": null,
   "id": "8f2a7a90",
   "metadata": {},
   "outputs": [],
   "source": [
    "educ_and_work = Table().with_columns(\"years\", educ.column(\"Year\"),\n",
    "                                    \"education\", educ.column(\"All\"),\n",
    "                                    \"work\", work.column(\"All\"))\n",
    "educ_and_work"
   ]
  },
  {
   "cell_type": "markdown",
   "id": "437547ab",
   "metadata": {},
   "source": [
    "To create overlaid line plots, we just have to specify the x-variable.\n",
    "<div class=\"alert alert-warning\"\n",
    "\n",
    "- `plt.ylabel`: Set the label for the y-axis\n",
    "- `plt.title`:  Set a title for the Axes.\n",
    "- `plt.show()`:  Display all open figures.  \n",
    "</div>"
   ]
  },
  {
   "cell_type": "code",
   "execution_count": null,
   "id": "2132c864",
   "metadata": {},
   "outputs": [],
   "source": [
    "educ_and_work.plot(\"years\")\n",
    "plt.ylabel(\"Average Number of Hours\")\n",
    "plt.title(\"Time Spent on Education and Work Over the Years\")\n",
    "plt.show()"
   ]
  },
  {
   "cell_type": "markdown",
   "id": "9e6f755f",
   "metadata": {},
   "source": [
    "This allows us to create line plots for both education and work data on the same graph.\n",
    "\n",
    "**Question 7:** What do you notice about the difference between the average number of hours people spend on education and work? Why might there be this discrepancy?\n",
    "\n",
    "*Hint: The age group we're considering is 25-34. Could this have something to do with the difference?*"
   ]
  },
  {
   "cell_type": "markdown",
   "id": "dd28eb22",
   "metadata": {},
   "source": [
    "*Type your answer here*"
   ]
  },
  {
   "cell_type": "markdown",
   "id": "2eb056d5",
   "metadata": {},
   "source": [
    "**Optional Question:** You can perform background research on any major events that happened during different time periods that would explain the trends during those periods. For example, we can see from the overlaid graph that the amount of time people spent on both education and work was falling during 2019-2021. This is likely because of the Covid-19 pandemic. Similarly, you can look up what happened during other time periods that would explain the trends in education, work, or both during those periods."
   ]
  },
  {
   "cell_type": "markdown",
   "id": "7bf1e0c4",
   "metadata": {},
   "source": [
    "*Type your answer here*"
   ]
  },
  {
   "cell_type": "markdown",
   "id": "43b150f9",
   "metadata": {},
   "source": [
    "**Overlaid Line Plots for Different Genders**\n",
    "\n",
    "When performing data analysis, we often break up our data into different groups based on factors such as gender and ethnicity. In our case, we have so far looked at the combined data for men and women. Now, let's create separate line plots for each gender. \n",
    "\n",
    "We first have to make sure that our table only has the relevant variables: the year, values for women and values for men. To do this, we have to get rid of the column with the combined values.\n",
    "\n",
    "<div class=\"alert alert-warning\"\n",
    "\n",
    "- `.drop`: remove a column from a table (takes the name of the column as the argument)\n",
    "     \n",
    "</div>"
   ]
  },
  {
   "cell_type": "code",
   "execution_count": null,
   "id": "ef191170",
   "metadata": {},
   "outputs": [],
   "source": [
    "educ_new = educ.drop(\"All\")\n",
    "educ_new"
   ]
  },
  {
   "cell_type": "markdown",
   "id": "2ce28cd8",
   "metadata": {},
   "source": [
    "*Note: we have to make sure that we are assigning `educ.drop(\"All\")` to a variable. Otherwise, our original table will remain the same.*\n",
    "\n",
    "**Question 8:** Create overlaid line plots for men and women. An illustration of how to do this is above question 7."
   ]
  },
  {
   "cell_type": "code",
   "execution_count": null,
   "id": "76ce67d6",
   "metadata": {},
   "outputs": [],
   "source": [
    "...\n",
    "plt.ylabel(\"Average Number of Hours\")\n",
    "plt.title(\"Time Spent on Education Over the Years\")\n",
    "plt.show()"
   ]
  },
  {
   "cell_type": "markdown",
   "id": "dfc1d374",
   "metadata": {},
   "source": [
    "**Question 9:** [One study](https://www.pewresearch.org/fact-tank/2021/11/08/whats-behind-the-growing-gap-between-men-and-women-in-college-completion/) found that women are more likey than men to complete college. [Another study](https://www.aei.org/carpe-diem/women-earned-majority-of-doctoral-degrees-in-2019-for-11th-straight-year-and-outnumber-men-in-grad-school-141-to-100/) found that women are also more likely to attend graduate school. Are your line plots above consistent with these claims?"
   ]
  },
  {
   "cell_type": "markdown",
   "id": "8897f977",
   "metadata": {},
   "source": [
    "*Type your answer here*"
   ]
  },
  {
   "cell_type": "markdown",
   "id": "553df066",
   "metadata": {},
   "source": [
    "## 2. Bar Charts\n",
    "\n",
    "Another visualization we can use to see how the time spent on each activity changes over the years is a bar chart. A bar chart is used to visualize the distribution of a categorical variable. In this case, `Year` is a categorical variable as it can be divided into distinct groups, so we can use a bar chart to visualize how the data is distributed across the years."
   ]
  },
  {
   "cell_type": "code",
   "execution_count": null,
   "id": "fa3dea70",
   "metadata": {},
   "outputs": [],
   "source": [
    "educ.bar(\"Year\", \"All\")\n",
    "plt.ylabel(\"Average Number of Hours\")\n",
    "plt.title(\"Time Spent on Education Over the Years\")\n",
    "plt.show()"
   ]
  },
  {
   "cell_type": "markdown",
   "id": "d8b6514d",
   "metadata": {},
   "source": [
    "This bar chart shows that in general, the time people spent on education is falling over time – this is consistent with what we saw in the line plot."
   ]
  },
  {
   "cell_type": "markdown",
   "id": "30bb2504",
   "metadata": {},
   "source": [
    "**Question 10:** Create a bar chart to visualize the time spent on work."
   ]
  },
  {
   "cell_type": "code",
   "execution_count": null,
   "id": "9ec4a4ee",
   "metadata": {},
   "outputs": [],
   "source": [
    "...\n",
    "plt.ylabel(\"Average Number of Hours\")\n",
    "plt.title(\"Time Spent on Work Over the Years\")\n",
    "plt.show()"
   ]
  },
  {
   "cell_type": "markdown",
   "id": "b869ad89",
   "metadata": {},
   "source": [
    "**Question 11:** Do you notice a trend in the amount of time people spent on work? Is it generally increasing, decreasing or constant?"
   ]
  },
  {
   "cell_type": "markdown",
   "id": "b04760f1",
   "metadata": {},
   "source": [
    "*Type your answer here*"
   ]
  },
  {
   "cell_type": "markdown",
   "id": "fc4f473a",
   "metadata": {},
   "source": [
    "## 3. Scatter Plots\n",
    "\n",
    "Another type of data visualization that is really important in statistics is the scatter plot. Scatter plots are used to visualize the relationship between two numerical variables. \n",
    "\n",
    "Specifically, it allows us to infer the association between two variables. Association refers to how one variable (the y-variable) changes with respect to the other variable (the x-variable). See [this chapter](https://inferentialthinking.com/chapters/15/Prediction.html) in the DATA 8 textbook for reference.\n",
    "\n",
    "We can describe the association between two variables based on two factors:\n",
    "\n",
    "1. Magnitude: Is the association strong or weak? If the points on the scatter plot all line up along a straight line, it means that the association between the variables is strong. On the other hand, if the points are all spread out, it means that the association is weak.\n",
    "\n",
    "2. Direction (or sign): Is the association positive or negative? If the points on the scatter plot line up along an upward sloping line, it means that the association between the variable is positive. If they line up along a downward sloping line, the association is negative.\n",
    "\n",
    "Now that we understand what scatter plots are and how to interpret them, let's create one to visualize the association between the amount of time people spend on work and education.\n",
    "\n",
    "<div class=\"alert alert-warning\"\n",
    "\n",
    "- `.scatter`: create a scatter plot (the first argument is the variable on the x-axis and the second argument is the variable on the y-axis)\n",
    "     \n",
    "</div>"
   ]
  },
  {
   "cell_type": "code",
   "execution_count": null,
   "id": "90f127d0",
   "metadata": {},
   "outputs": [],
   "source": [
    "educ_and_work.scatter(\"education\", \"work\")\n",
    "plt.xlabel(\"Average Hours Spent on Education\")\n",
    "plt.ylabel(\"Average Hours Spent on Work\")\n",
    "plt.title(\"Work vs. Education\")\n",
    "plt.show()"
   ]
  },
  {
   "cell_type": "markdown",
   "id": "2a50a3d2",
   "metadata": {},
   "source": [
    "**Question 12:** How would you describe the association you see in the scatter plot above? Make sure to describe both the magnitude and the direction."
   ]
  },
  {
   "cell_type": "markdown",
   "id": "9ae12fb3",
   "metadata": {},
   "source": [
    "*Type your answer here*"
   ]
  },
  {
   "cell_type": "markdown",
   "id": "0949b39a",
   "metadata": {},
   "source": [
    "**Question 13:** Create another scatter plot showing the association between time spent on work and education, but this time with work on the x-axis and education on the y-axis."
   ]
  },
  {
   "cell_type": "code",
   "execution_count": null,
   "id": "02fccaf2",
   "metadata": {},
   "outputs": [],
   "source": [
    "...\n",
    "plt.xlabel(\"Average Hours Spent on Work\")\n",
    "plt.ylabel(\"Average Hours Spent on Education\")\n",
    "plt.title(\"Education vs. Work\")\n",
    "plt.show()"
   ]
  },
  {
   "cell_type": "markdown",
   "id": "80f0783f",
   "metadata": {},
   "source": [
    "**Question 14:** Is there a difference between the two scatter plots above?"
   ]
  },
  {
   "cell_type": "markdown",
   "id": "d4954028",
   "metadata": {},
   "source": [
    "*Type your answer here*"
   ]
  },
  {
   "cell_type": "markdown",
   "id": "fb6e58c9",
   "metadata": {},
   "source": [
    "## 4. Histograms\n",
    "\n",
    "A histogram allows you to visualize the distribution of a numerical variable. It helps you understand how spread out the values in your table are. We can create a histogram using the `.hist` function.\n",
    "\n",
    "<div class=\"alert alert-warning\"\n",
    "\n",
    "- `.hist`: create a histogram (specify the name of the column, plus other optional arguments)\n",
    "     \n",
    "</div>"
   ]
  },
  {
   "cell_type": "code",
   "execution_count": null,
   "id": "70cd5a0f",
   "metadata": {},
   "outputs": [],
   "source": [
    "educ.hist(\"All\", bins = 8) #The bins argument allows you to specify how many intervals you want to divide your data into\n",
    "plt.xlabel(\"Average Hours Spent on Education\")\n",
    "plt.title(\"Distribution of Time Spent on Education\")\n",
    "plt.show()"
   ]
  },
  {
   "cell_type": "markdown",
   "id": "ffaca900",
   "metadata": {},
   "source": [
    "Notice that the y-axis is 'percent per unit.' You can think of this as the density or concentration of values in each bin. For example, the first bin has the highest concentration of values.\n",
    "\n",
    "**Question 15:** Create a histogram of the time spent on work. Make sure to specify 8 bins and use the `All` column."
   ]
  },
  {
   "cell_type": "code",
   "execution_count": null,
   "id": "557cea1a",
   "metadata": {},
   "outputs": [],
   "source": [
    "...\n",
    "plt.xlabel(\"Average Hours Spent on Work\")\n",
    "plt.title(\"Distribution of Time Spent on Work\")\n",
    "plt.show()"
   ]
  },
  {
   "cell_type": "markdown",
   "id": "3ae085bd",
   "metadata": {},
   "source": [
    "## 5. Advanced Visualizations\n",
    "\n",
    "In this section, we'll talk about some advanced visualizations. Note that this section is optional and out of scope for this class.\n",
    "\n",
    "### Boxplot\n",
    "\n",
    "A boxplot is similar to a histogram as it also visualizes the distribution of a numerical varirable, but it gives you more specific statistics about the distribution: the minimum, lower quartile (value at the bottom 25th percentile), median (value at the 50th percentile), upper quartile (value at the top 25th percentile) and maximum."
   ]
  },
  {
   "cell_type": "code",
   "execution_count": null,
   "id": "132db622",
   "metadata": {},
   "outputs": [],
   "source": [
    "sns.boxplot(educ.column(\"All\"))\n",
    "plt.xlabel(\"Average Hours Spent on Education\")\n",
    "plt.title(\"Distribution of Time Spent on Education\")\n",
    "plt.show()"
   ]
  },
  {
   "cell_type": "markdown",
   "id": "2b2f5ed6",
   "metadata": {},
   "source": [
    "We can use this boxplot to find approximate values for the following statistics for the education data:\n",
    "\n",
    "- Minimum: 0.28\n",
    "- Lower quartile: 0.295\n",
    "- Median: 0.355\n",
    "- Upper quartile: 0.38\n",
    "- Maximum: 0.41\n",
    "\n",
    "**Question 16:** Create a boxplot of the time spent on work."
   ]
  },
  {
   "cell_type": "code",
   "execution_count": null,
   "id": "34fd3226",
   "metadata": {},
   "outputs": [],
   "source": [
    "...\n",
    "plt.xlabel(\"Average Hours Spent on Work\")\n",
    "plt.title(\"Distribution of Time Spent on Work\")\n",
    "plt.show()"
   ]
  },
  {
   "cell_type": "markdown",
   "id": "5832397d",
   "metadata": {},
   "source": [
    "**Question 17:** Use the boxplot above to find approximate values for the following statistics for the work data:\n",
    "\n",
    "- Minimum\n",
    "- Lower quartile\n",
    "- Median\n",
    "- Upper quartile\n",
    "- Maximum"
   ]
  },
  {
   "cell_type": "markdown",
   "id": "256db40c",
   "metadata": {},
   "source": [
    "*Type your answer here*"
   ]
  },
  {
   "cell_type": "markdown",
   "id": "3eb382ef",
   "metadata": {},
   "source": [
    "### pie chart\n",
    "\n",
    "A pie chart (or a circle chart) is a circular statistical graphic, which is divided into slices to illustrate numerical proportion.Although pie charts look simple, difficult to compare different sections of a given pie chart, or to compare data across different pie charts makes it difficult to appear professionally, but pie charts are still beautiful and concise plots. "
   ]
  },
  {
   "cell_type": "code",
   "execution_count": 6,
   "id": "27705f8c",
   "metadata": {},
   "outputs": [
    {
     "data": {
      "image/png": "[encoded data removed]",
      "text/plain": [
       "<Figure size 640x480 with 1 Axes>"
      ]
     },
     "metadata": {},
     "output_type": "display_data"
    }
   ],
   "source": [
    "# Pie chart, where the slices will be ordered and plotted counter-clockwise:\n",
    "labels = 'Sad', 'Angry', 'Happy', 'Fear'\n",
    "sizes = [20, 5, 65, 10]\n",
    "explode = (0, 0, 0.1, 0)  # only \"explode\" the 3rd slice (i.e. 'Happy')\n",
    "\n",
    "fig1, ax1 = plt.subplots()\n",
    "ax1.pie(sizes, explode=explode, labels=labels, autopct='%1.1f%%',\n",
    "        shadow=True, startangle=90)\n",
    "ax1.axis('equal')  # Equal aspect ratio ensures that pie is drawn as a circle.\n",
    "\n",
    "plt.show()"
   ]
  },
  {
   "cell_type": "markdown",
   "id": "ff5f40fb",
   "metadata": {},
   "source": [
    "### Violin Plot\n",
    "\n",
    "A violinplot is a combination of a histogram and boxplot. It shows you the general distribution of the data (by creating a histogram and drawing a line to capture its general shape) as well as specific statistics (same as the ones a boxplot shows)."
   ]
  },
  {
   "cell_type": "code",
   "execution_count": null,
   "id": "720e8c75",
   "metadata": {},
   "outputs": [],
   "source": [
    "sns.violinplot(educ.column(\"All\"), color = \"olive\")\n",
    "plt.xlabel(\"Average Hours Spent on Education\")\n",
    "plt.title(\"Distribution of Time Spent on Education\")\n",
    "plt.show()"
   ]
  },
  {
   "cell_type": "markdown",
   "id": "04d0890e",
   "metadata": {},
   "source": [
    "**Question 18:** Create a violin plot of the time spent on work."
   ]
  },
  {
   "cell_type": "code",
   "execution_count": null,
   "id": "1ffb8a06",
   "metadata": {},
   "outputs": [],
   "source": [
    "...\n",
    "plt.xlabel(\"Average Hours Spent on Work\")\n",
    "plt.title(\"Distribution of Time Spent on Work\")\n",
    "plt.show()"
   ]
  },
  {
   "cell_type": "markdown",
   "id": "647a59a4",
   "metadata": {},
   "source": [
    "# 5.  Peer Consulting\n",
    "\n",
    "If you had trouble with any content in this notebook, Data Peer Consultants are here to help! You can view their locations and availabilites at this link: https://data.berkeley.edu/education/data-peer-consulting.\n",
    "\n",
    "Peer Consultants are there to answer all data-related questions, whether it be about the content of this notebook, applications of data science in the world or other data science courses offered at Berkeley -- make sure to take advantage of this wonderful resource!\n",
    "\n",
    "\n",
    "\n",
    "This brings us to the end of the notebook. Now you can import a dataset of your choice and perform EDA using what you learned in this notebook!\n",
    "\n",
    "---"
   ]
  },
  {
   "cell_type": "code",
   "execution_count": null,
   "id": "e6ce2c19",
   "metadata": {},
   "outputs": [],
   "source": []
  }
 ],
 "metadata": {
  "kernelspec": {
   "display_name": "Python 3 (ipykernel)",
   "language": "python",
   "name": "python3"
  },
  "language_info": {
   "codemirror_mode": {
    "name": "ipython",
    "version": 3
   },
   "file_extension": ".py",
   "mimetype": "text/x-python",
   "name": "python",
   "nbconvert_exporter": "python",
   "pygments_lexer": "ipython3",
   "version": "3.9.13"
  }
 },
 "nbformat": 4,
 "nbformat_minor": 5
}
