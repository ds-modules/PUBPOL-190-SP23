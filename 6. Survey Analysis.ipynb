{
 "cells": [
  {
   "cell_type": "markdown",
   "id": "9823285b-369c-4a07-bd64-afdd0fbdf3eb",
   "metadata": {},
   "source": [
    "# [PUBPOL/ETHSTD C164A] 6. Survey Analysis\n",
    "\n",
    "**Notebook developed by:** <br>\n",
    "Team Lead: Skye Pickett  <br>\n",
    "Module Developers: Leah Hong, Emily Guo, Reynolds Zhang <br>\n",
    "\n",
    "### Learning Outcomes\n",
    "\n",
    "In this notebook, you will apply the skills you've learned in the previous 5 notebooks to clean and conduct explatory analysis on your own survey data. We will provide guidance on importing your data and setting up basic analysis, but the rest is up to your ideas and your new coding knowledge! Open up previous notebooks for reference and, as always, some resources are provided below.\n",
    "\n",
    "***"
   ]
  },
  {
   "cell_type": "markdown",
   "id": "bed61804-24f7-44a3-831b-e4aed822c88c",
   "metadata": {},
   "source": [
    "### Helpful Data Science Resources \n",
    "Here are some resources you can check out while doing this notebook and to explore data visualization further!\n",
    "- [DATA 8 Textbook](https://inferentialthinking.com/chapters/06/Tables.html) - Tables chapter\n",
    "- [DATA 8 Textbook](https://inferentialthinking.com/chapters/07/Visualization.html) - Visualization chapter\n",
    "- [DATA 8 Textbook](https://inferentialthinking.com/chapters/03/1/Expressions.html) - Expressions and Notebook 1 content\n",
    "- [Reference Sheet for the datascience Module](http://data8.org/sp22/python-reference.html)\n",
    "- [Documentation for the datascience Modules](http://data8.org/datascience/index.html)\n",
    "- [Cool Data Visualizations](https://www.tableau.com/learn/articles/best-beautiful-data-visualization-examples)\n",
    "- [Statistica: Find Data on Interesting Topics](https://www.statista.com/)\n",
    "- [Exploratory Data Analysis](https://en.wikipedia.org/wiki/Exploratory_data_analysis)\n"
   ]
  },
  {
   "cell_type": "markdown",
   "id": "77f96104-7672-4b93-9044-127a1486f6d7",
   "metadata": {
    "tags": []
   },
   "source": [
    "### Peer Consulting\n",
    "\n",
    "If you find yourself having trouble with any content in this notebook, Data Peer Consultants are an excellent resource! Click [here](https://dlab.berkeley.edu/training/frontdesk-info) to locate live help.\n",
    "\n",
    "Peer Consultants are there to answer all data-related questions, whether it be about the content of this notebook, applications of data science in the world, or other data science courses offered at Berkeley.\n",
    "***"
   ]
  },
  {
   "cell_type": "markdown",
   "id": "f99f2a75-a58a-40d5-be3b-ee0054dcfc70",
   "metadata": {},
   "source": [
    "Remember you can change the type of cell from Code cell to Markdown cell to incorporate text in between your code for explanations."
   ]
  },
  {
   "cell_type": "code",
   "execution_count": null,
   "id": "7878803a-2fe5-46c4-84cd-854f168b4c61",
   "metadata": {},
   "outputs": [],
   "source": []
  }
 ],
 "metadata": {
  "kernelspec": {
   "display_name": "Python 3 (ipykernel)",
   "language": "python",
   "name": "python3"
  },
  "language_info": {
   "codemirror_mode": {
    "name": "ipython",
    "version": 3
   },
   "file_extension": ".py",
   "mimetype": "text/x-python",
   "name": "python",
   "nbconvert_exporter": "python",
   "pygments_lexer": "ipython3",
   "version": "3.9.7"
  }
 },
 "nbformat": 4,
 "nbformat_minor": 5
}
